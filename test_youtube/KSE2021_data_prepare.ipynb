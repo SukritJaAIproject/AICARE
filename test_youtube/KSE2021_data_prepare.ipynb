{
  "nbformat": 4,
  "nbformat_minor": 0,
  "metadata": {
    "colab": {
      "name": "KSE2021_data_prepare.ipynb",
      "provenance": [],
      "collapsed_sections": []
    },
    "kernelspec": {
      "name": "python3",
      "display_name": "Python 3"
    },
    "language_info": {
      "name": "python"
    },
    "widgets": {
      "application/vnd.jupyter.widget-state+json": {
        "859d56444d3e4c359f40bc48b990287e": {
          "model_module": "@jupyter-widgets/controls",
          "model_name": "HBoxModel",
          "state": {
            "_view_name": "HBoxView",
            "_dom_classes": [],
            "_model_name": "HBoxModel",
            "_view_module": "@jupyter-widgets/controls",
            "_model_module_version": "1.5.0",
            "_view_count": null,
            "_view_module_version": "1.5.0",
            "box_style": "",
            "layout": "IPY_MODEL_f4d73dc927744c379b12d23b1bb7d5f2",
            "_model_module": "@jupyter-widgets/controls",
            "children": [
              "IPY_MODEL_e81f6118242a425bbdf8e374636d4b0c",
              "IPY_MODEL_8d8183449930406eaab70dc3ecfb73ae"
            ]
          }
        },
        "f4d73dc927744c379b12d23b1bb7d5f2": {
          "model_module": "@jupyter-widgets/base",
          "model_name": "LayoutModel",
          "state": {
            "_view_name": "LayoutView",
            "grid_template_rows": null,
            "right": null,
            "justify_content": null,
            "_view_module": "@jupyter-widgets/base",
            "overflow": null,
            "_model_module_version": "1.2.0",
            "_view_count": null,
            "flex_flow": null,
            "width": null,
            "min_width": null,
            "border": null,
            "align_items": null,
            "bottom": null,
            "_model_module": "@jupyter-widgets/base",
            "top": null,
            "grid_column": null,
            "overflow_y": null,
            "overflow_x": null,
            "grid_auto_flow": null,
            "grid_area": null,
            "grid_template_columns": null,
            "flex": null,
            "_model_name": "LayoutModel",
            "justify_items": null,
            "grid_row": null,
            "max_height": null,
            "align_content": null,
            "visibility": null,
            "align_self": null,
            "height": null,
            "min_height": null,
            "padding": null,
            "grid_auto_rows": null,
            "grid_gap": null,
            "max_width": null,
            "order": null,
            "_view_module_version": "1.2.0",
            "grid_template_areas": null,
            "object_position": null,
            "object_fit": null,
            "grid_auto_columns": null,
            "margin": null,
            "display": null,
            "left": null
          }
        },
        "e81f6118242a425bbdf8e374636d4b0c": {
          "model_module": "@jupyter-widgets/controls",
          "model_name": "FloatProgressModel",
          "state": {
            "_view_name": "ProgressView",
            "style": "IPY_MODEL_b904f3ac78bb497db60068ae748dd51e",
            "_dom_classes": [],
            "description": "100%",
            "_model_name": "FloatProgressModel",
            "bar_style": "success",
            "max": 593,
            "_view_module": "@jupyter-widgets/controls",
            "_model_module_version": "1.5.0",
            "value": 593,
            "_view_count": null,
            "_view_module_version": "1.5.0",
            "orientation": "horizontal",
            "min": 0,
            "description_tooltip": null,
            "_model_module": "@jupyter-widgets/controls",
            "layout": "IPY_MODEL_202214598f6747dbb1dec4f2d9a4fd3f"
          }
        },
        "8d8183449930406eaab70dc3ecfb73ae": {
          "model_module": "@jupyter-widgets/controls",
          "model_name": "HTMLModel",
          "state": {
            "_view_name": "HTMLView",
            "style": "IPY_MODEL_247cdfe7e4ce4aef835f04633dee5fc7",
            "_dom_classes": [],
            "description": "",
            "_model_name": "HTMLModel",
            "placeholder": "​",
            "_view_module": "@jupyter-widgets/controls",
            "_model_module_version": "1.5.0",
            "value": " 593/593 [00:21&lt;00:00, 27.29it/s]",
            "_view_count": null,
            "_view_module_version": "1.5.0",
            "description_tooltip": null,
            "_model_module": "@jupyter-widgets/controls",
            "layout": "IPY_MODEL_ea6769f97c5943f19e62c0ee0d3d4a47"
          }
        },
        "b904f3ac78bb497db60068ae748dd51e": {
          "model_module": "@jupyter-widgets/controls",
          "model_name": "ProgressStyleModel",
          "state": {
            "_view_name": "StyleView",
            "_model_name": "ProgressStyleModel",
            "description_width": "initial",
            "_view_module": "@jupyter-widgets/base",
            "_model_module_version": "1.5.0",
            "_view_count": null,
            "_view_module_version": "1.2.0",
            "bar_color": null,
            "_model_module": "@jupyter-widgets/controls"
          }
        },
        "202214598f6747dbb1dec4f2d9a4fd3f": {
          "model_module": "@jupyter-widgets/base",
          "model_name": "LayoutModel",
          "state": {
            "_view_name": "LayoutView",
            "grid_template_rows": null,
            "right": null,
            "justify_content": null,
            "_view_module": "@jupyter-widgets/base",
            "overflow": null,
            "_model_module_version": "1.2.0",
            "_view_count": null,
            "flex_flow": null,
            "width": null,
            "min_width": null,
            "border": null,
            "align_items": null,
            "bottom": null,
            "_model_module": "@jupyter-widgets/base",
            "top": null,
            "grid_column": null,
            "overflow_y": null,
            "overflow_x": null,
            "grid_auto_flow": null,
            "grid_area": null,
            "grid_template_columns": null,
            "flex": null,
            "_model_name": "LayoutModel",
            "justify_items": null,
            "grid_row": null,
            "max_height": null,
            "align_content": null,
            "visibility": null,
            "align_self": null,
            "height": null,
            "min_height": null,
            "padding": null,
            "grid_auto_rows": null,
            "grid_gap": null,
            "max_width": null,
            "order": null,
            "_view_module_version": "1.2.0",
            "grid_template_areas": null,
            "object_position": null,
            "object_fit": null,
            "grid_auto_columns": null,
            "margin": null,
            "display": null,
            "left": null
          }
        },
        "247cdfe7e4ce4aef835f04633dee5fc7": {
          "model_module": "@jupyter-widgets/controls",
          "model_name": "DescriptionStyleModel",
          "state": {
            "_view_name": "StyleView",
            "_model_name": "DescriptionStyleModel",
            "description_width": "",
            "_view_module": "@jupyter-widgets/base",
            "_model_module_version": "1.5.0",
            "_view_count": null,
            "_view_module_version": "1.2.0",
            "_model_module": "@jupyter-widgets/controls"
          }
        },
        "ea6769f97c5943f19e62c0ee0d3d4a47": {
          "model_module": "@jupyter-widgets/base",
          "model_name": "LayoutModel",
          "state": {
            "_view_name": "LayoutView",
            "grid_template_rows": null,
            "right": null,
            "justify_content": null,
            "_view_module": "@jupyter-widgets/base",
            "overflow": null,
            "_model_module_version": "1.2.0",
            "_view_count": null,
            "flex_flow": null,
            "width": null,
            "min_width": null,
            "border": null,
            "align_items": null,
            "bottom": null,
            "_model_module": "@jupyter-widgets/base",
            "top": null,
            "grid_column": null,
            "overflow_y": null,
            "overflow_x": null,
            "grid_auto_flow": null,
            "grid_area": null,
            "grid_template_columns": null,
            "flex": null,
            "_model_name": "LayoutModel",
            "justify_items": null,
            "grid_row": null,
            "max_height": null,
            "align_content": null,
            "visibility": null,
            "align_self": null,
            "height": null,
            "min_height": null,
            "padding": null,
            "grid_auto_rows": null,
            "grid_gap": null,
            "max_width": null,
            "order": null,
            "_view_module_version": "1.2.0",
            "grid_template_areas": null,
            "object_position": null,
            "object_fit": null,
            "grid_auto_columns": null,
            "margin": null,
            "display": null,
            "left": null
          }
        }
      }
    }
  },
  "cells": [
    {
      "cell_type": "code",
      "metadata": {
        "id": "4bysocSX5GkQ"
      },
      "source": [
        "import cv2\n",
        "import numpy as np\n",
        "from tqdm.notebook import tqdm\n",
        "from shutil import copyfile, copy\n",
        "from  google.colab.patches import cv2_imshow"
      ],
      "execution_count": 9,
      "outputs": []
    },
    {
      "cell_type": "code",
      "metadata": {
        "id": "_ABYerM0Y5N-"
      },
      "source": [
        "# ls 'drive/MyDrive/AIHealthcare/AIcare_Phrase1/data/FAUS_img_lable_ck_retinaFace.npz'"
      ],
      "execution_count": null,
      "outputs": []
    },
    {
      "cell_type": "code",
      "metadata": {
        "colab": {
          "base_uri": "https://localhost:8080/"
        },
        "id": "_Td4oZng0o2p",
        "outputId": "d025dc4e-3924-4d2e-fdd9-9f008f9fe4c1"
      },
      "source": [
        "data = np.load('drive/MyDrive/AIHealthcare/AIcare_Phrase1/data/FAUS_img_lable_ck_retinaFace.npz',allow_pickle=True)\n",
        "image = data['au_image']\n",
        "label = data['au_label']\n",
        "\n",
        "print(image.shape)\n",
        "print(label.shape)"
      ],
      "execution_count": 7,
      "outputs": [
        {
          "output_type": "stream",
          "text": [
            "(593, 224, 224, 3)\n",
            "(593, 17)\n"
          ],
          "name": "stdout"
        }
      ]
    },
    {
      "cell_type": "code",
      "metadata": {
        "id": "zIkw4Jtb5p5G"
      },
      "source": [
        "ind2nau = {'0':'AU1', '1':'AU2', '2':'AU4', '3':'AU5',\n",
        "                '4':'AU6', '5':'AU7', '6':'AU9', '7':'AU12',\n",
        "                '8':'AU14', '9':'AU15', '10':'AU17', '11':'AU20',\n",
        "                '12':'AU23', '13':'AU24', '14':'AU25', '15':'AU26',\n",
        "                '16':'AU27'}"
      ],
      "execution_count": 8,
      "outputs": []
    },
    {
      "cell_type": "code",
      "metadata": {
        "id": "0tTKCs8j5UTu",
        "colab": {
          "base_uri": "https://localhost:8080/",
          "height": 66,
          "referenced_widgets": [
            "859d56444d3e4c359f40bc48b990287e",
            "f4d73dc927744c379b12d23b1bb7d5f2",
            "e81f6118242a425bbdf8e374636d4b0c",
            "8d8183449930406eaab70dc3ecfb73ae",
            "b904f3ac78bb497db60068ae748dd51e",
            "202214598f6747dbb1dec4f2d9a4fd3f",
            "247cdfe7e4ce4aef835f04633dee5fc7",
            "ea6769f97c5943f19e62c0ee0d3d4a47"
          ]
        },
        "outputId": "6eda1471-fc71-413d-d6c5-e26e01a40b10"
      },
      "source": [
        "filename = 'lab.png'\n",
        "for i in tqdm(range(label.shape[0])):\n",
        "  idxs = np.where(label[i] == 1)[0]\n",
        "  img = image[i]\n",
        "  for idx in range(idxs.shape[0]):\n",
        "    # print(idxs[idx])\n",
        "    cv2.imwrite(filename, img)\n",
        "    FAUS = str(idxs[idx])\n",
        "    dst = 'AU_'+str(i)+'_'+str(FAUS)+'.png'\n",
        "    terminal_path = \"drive/MyDrive/AIHealthcare/AIcare_Phrase1/data/FAUS_RetinaFace_Ck/{0}/{1}\".format(FAUS, dst)\n",
        "    copyfile('/content/lab.png', terminal_path)"
      ],
      "execution_count": 11,
      "outputs": [
        {
          "output_type": "display_data",
          "data": {
            "application/vnd.jupyter.widget-view+json": {
              "model_id": "859d56444d3e4c359f40bc48b990287e",
              "version_minor": 0,
              "version_major": 2
            },
            "text/plain": [
              "HBox(children=(FloatProgress(value=0.0, max=593.0), HTML(value='')))"
            ]
          },
          "metadata": {
            "tags": []
          }
        },
        {
          "output_type": "stream",
          "text": [
            "\n"
          ],
          "name": "stdout"
        }
      ]
    },
    {
      "cell_type": "code",
      "metadata": {
        "id": "78LtL3-M7rfr"
      },
      "source": [
        "# https://stackoverflow.com/questions/4588628/find-indices-of-elements-equal-to-zero-in-a-numpy-array\n",
        "# x = label[0]\n",
        "# np.where(x == 1)[0]\n",
        "\n",
        "# https://stackoverflow.com/questions/14156473/can-you-write-a-str-replace-using-dictionary-values-in-python/14157036\n",
        "# for word, initial in ind2nau.items():\n",
        "#     idx = idx.replace(word.lower(), initial)\n",
        "# print(address)"
      ],
      "execution_count": 4,
      "outputs": []
    },
    {
      "cell_type": "code",
      "metadata": {
        "id": "f4MRk8U78szH"
      },
      "source": [
        ""
      ],
      "execution_count": null,
      "outputs": []
    }
  ]
}