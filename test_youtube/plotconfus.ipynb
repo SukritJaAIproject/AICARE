{
  "nbformat": 4,
  "nbformat_minor": 0,
  "metadata": {
    "colab": {
      "name": "plotconfus.ipynb",
      "provenance": [],
      "collapsed_sections": []
    },
    "kernelspec": {
      "name": "python3",
      "display_name": "Python 3"
    },
    "language_info": {
      "name": "python"
    }
  },
  "cells": [
    {
      "cell_type": "code",
      "metadata": {
        "id": "rgrgHL76s0g3"
      },
      "source": [
        "import pandas as pd"
      ],
      "execution_count": 41,
      "outputs": []
    },
    {
      "cell_type": "code",
      "metadata": {
        "id": "J7L9yj_VzoxE"
      },
      "source": [
        "Anongrat_df = pd.read_excel('drive/MyDrive/file2/result/all_result.xlsx', sheet_name='Anongrat')\n",
        "Isaree_df = pd.read_excel('drive/MyDrive/file2/result/all_result.xlsx', sheet_name='Isaree')\n",
        "Jiratchaya_df = pd.read_excel('drive/MyDrive/file2/result/all_result.xlsx', sheet_name='Jiratchaya')\n",
        "Kittiya_df = pd.read_excel('drive/MyDrive/file2/result/all_result.xlsx', sheet_name='Kittiya')\n",
        "Monsrung_df = pd.read_excel('drive/MyDrive/file2/result/all_result.xlsx', sheet_name='Monsrung')\n",
        "Krittika_df = pd.read_excel('drive/MyDrive/file2/result/all_result.xlsx', sheet_name='Krittika')"
      ],
      "execution_count": 59,
      "outputs": []
    },
    {
      "cell_type": "code",
      "metadata": {
        "id": "Ik5LEejjoEgJ"
      },
      "source": [
        "dictT = {'Neutral':'neutral', 'มีความสุข':'happy', 'ผ่อนคลาย':'relax', 'เครียด':'stress', 'เศร้า':'sad',\n",
        "         'มีความสุช':'happy', 'โกรธ':'stress', 'มีความสุุข':'happy', 'มีความสูข':'happy', 'ผ่่อนคลาย':'relax',\n",
        "         'ตื่นเต้น':'happy', 'ประหลาดใจ':'neutral', 'จริงจัง':'stress', 'neutral ': 'neutral', 'ผ่อ่นคลาย':'relax',\n",
        "         'มีตวามสุข':'happy', 'โกรธ ':'stress'}\n",
        "dic_resmask =  {0:'stress',1:'stress', 2:'stress', 3:'happy',4:'sad',\t5:'happy',6:'neutral', 'None':'nan', 'none':'nan'}\n",
        "dic_resmask_float =  {0:'stress',1:'stress', 2:'stress', 3:'happy',4:'sad',\t5:'happy',6:'neutral'}\n",
        "\n",
        "Anongrat_df['label1'] = Anongrat_df['label1'].replace(dictT) \n",
        "Isaree_df['label1'] = Isaree_df['label1'].replace(dictT) \n",
        "Jiratchaya_df['label1'] = Jiratchaya_df['label1'].replace(dictT) \n",
        "Kittiya_df['label1'] = Kittiya_df['label1'].replace(dictT) \n",
        "Monsrung_df['label1'] = Monsrung_df['label1'].replace(dictT) \n",
        "Krittika_df['label1'] = Krittika_df['label1'].replace(dictT) \n",
        "\n",
        "Anongrat_df['label2'] = Anongrat_df['label2'].replace(dictT) \n",
        "Isaree_df['label2'] = Isaree_df['label2'].replace(dictT) \n",
        "Jiratchaya_df['label2'] = Jiratchaya_df['label2'].replace(dictT) \n",
        "Kittiya_df['label2'] = Kittiya_df['label2'].replace(dictT) \n",
        "Monsrung_df['label2'] = Monsrung_df['label2'].replace(dictT) \n",
        "Krittika_df['label2'] = Krittika_df['label2'].replace(dictT) \n",
        "\n",
        "Anongrat_df['pred'] = Anongrat_df['pred'].replace(dic_resmask) \n",
        "Isaree_df['pred'] = Isaree_df['pred'].replace(dic_resmask) \n",
        "Jiratchaya_df['pred'] = Jiratchaya_df['pred'].replace(dic_resmask_float) \n",
        "Kittiya_df['pred'] = Kittiya_df['pred'].replace(dic_resmask) \n",
        "Monsrung_df['pred'] = Monsrung_df['pred'].replace(dic_resmask) \n",
        "Krittika_df['pred'] = Krittika_df['pred'].replace(dic_resmask) "
      ],
      "execution_count": 60,
      "outputs": []
    },
    {
      "cell_type": "code",
      "metadata": {
        "colab": {
          "base_uri": "https://localhost:8080/",
          "height": 615
        },
        "id": "ExYhqsw7z29w",
        "outputId": "76ec34e6-a9a5-4856-d224-b8f0845abd5d"
      },
      "source": [
        "from sklearn import metrics\n",
        "from sklearn.metrics import confusion_matrix\n",
        "import seaborn as sns; sns.set()\n",
        "import matplotlib.pyplot as plt\n",
        "%matplotlib inline\n",
        "import seaborn as sns\n",
        "from sklearn.metrics import confusion_matrix\n",
        "import numpy as np\n",
        "\n",
        "\n",
        "def plot_confus(pred_lable, truelable):\n",
        "  print(metrics.classification_report(pred_lable, truelable))\n",
        "  print('Accuracy: ',metrics.accuracy_score(truelable, pred_lable))\n",
        "\n",
        "  mat = confusion_matrix(truelable, pred_lable, labels=np.unique(truelable))\n",
        "  sns.heatmap(mat.T, square=True, annot=True, fmt='d', cmap=\"YlGnBu\")\n",
        "  tick_marks = np.arange(len(np.unique(truelable)))\n",
        "  plt.xticks(tick_marks, np.unique(truelable))\n",
        "  plt.yticks(tick_marks, np.unique(truelable))\n",
        "  plt.xlabel('true label')\n",
        "  plt.ylabel('predicted label'); \n",
        "\n",
        "plot_confus(Anongrat_df['pred'], Anongrat_df['label2'])"
      ],
      "execution_count": 64,
      "outputs": [
        {
          "output_type": "stream",
          "text": [
            "/usr/local/lib/python3.7/dist-packages/sklearn/metrics/_classification.py:1272: UndefinedMetricWarning: Precision and F-score are ill-defined and being set to 0.0 in labels with no predicted samples. Use `zero_division` parameter to control this behavior.\n",
            "  _warn_prf(average, modifier, msg_start, len(result))\n",
            "/usr/local/lib/python3.7/dist-packages/sklearn/metrics/_classification.py:1272: UndefinedMetricWarning: Recall and F-score are ill-defined and being set to 0.0 in labels with no true samples. Use `zero_division` parameter to control this behavior.\n",
            "  _warn_prf(average, modifier, msg_start, len(result))\n"
          ],
          "name": "stderr"
        },
        {
          "output_type": "stream",
          "text": [
            "              precision    recall  f1-score   support\n",
            "\n",
            "       happy       0.67      0.61      0.64        36\n",
            "         nan       0.00      0.00      0.00         3\n",
            "     neutral       0.49      0.53      0.51        53\n",
            "       relax       0.00      0.00      0.00         0\n",
            "         sad       0.14      0.11      0.12        18\n",
            "      stress       0.49      0.31      0.38        74\n",
            "\n",
            "    accuracy                           0.41       184\n",
            "   macro avg       0.30      0.26      0.28       184\n",
            "weighted avg       0.48      0.41      0.44       184\n",
            "\n",
            "Accuracy:  0.4076086956521739\n"
          ],
          "name": "stdout"
        },
        {
          "output_type": "display_data",
          "data": {
            "image/png": "[encoded data removed]",
            "text/plain": [
              "<Figure size 432x288 with 2 Axes>"
            ]
          },
          "metadata": {
            "tags": [],
            "needs_background": "light"
          }
        }
      ]
    }
  ]
}