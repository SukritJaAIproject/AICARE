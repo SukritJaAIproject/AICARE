{
  "nbformat": 4,
  "nbformat_minor": 0,
  "metadata": {
    "colab": {
      "name": "colabpro_testresult.ipynb",
      "provenance": [],
      "collapsed_sections": []
    },
    "kernelspec": {
      "display_name": "Python 3",
      "name": "python3"
    },
    "language_info": {
      "name": "python"
    },
    "widgets": {
      "application/vnd.jupyter.widget-state+json": {
        "99f4f07f6dbf496fb25cb5f84765991d": {
          "model_module": "@jupyter-widgets/controls",
          "model_name": "HBoxModel",
          "state": {
            "_dom_classes": [],
            "_model_module": "@jupyter-widgets/controls",
            "_model_module_version": "1.5.0",
            "_model_name": "HBoxModel",
            "_view_count": null,
            "_view_module": "@jupyter-widgets/controls",
            "_view_module_version": "1.5.0",
            "_view_name": "HBoxView",
            "box_style": "",
            "children": [
              "IPY_MODEL_7eb47b1151924a718b8494d8ed5526a7",
              "IPY_MODEL_7b7a5818b5194f38b63019c5825432e6"
            ],
            "layout": "IPY_MODEL_aa927b00dfb24079a03a7e3135239053"
          }
        },
        "7eb47b1151924a718b8494d8ed5526a7": {
          "model_module": "@jupyter-widgets/controls",
          "model_name": "FloatProgressModel",
          "state": {
            "_dom_classes": [],
            "_model_module": "@jupyter-widgets/controls",
            "_model_module_version": "1.5.0",
            "_model_name": "FloatProgressModel",
            "_view_count": null,
            "_view_module": "@jupyter-widgets/controls",
            "_view_module_version": "1.5.0",
            "_view_name": "ProgressView",
            "bar_style": "",
            "description": " 49%",
            "description_tooltip": null,
            "layout": "IPY_MODEL_71b2aaa328be4278a9149d576b7e7235",
            "max": 136,
            "min": 0,
            "orientation": "horizontal",
            "style": "IPY_MODEL_6365a58ca19f443fa2a9a6ca3c1afed7",
            "value": 66
          }
        },
        "7b7a5818b5194f38b63019c5825432e6": {
          "model_module": "@jupyter-widgets/controls",
          "model_name": "HTMLModel",
          "state": {
            "_dom_classes": [],
            "_model_module": "@jupyter-widgets/controls",
            "_model_module_version": "1.5.0",
            "_model_name": "HTMLModel",
            "_view_count": null,
            "_view_module": "@jupyter-widgets/controls",
            "_view_module_version": "1.5.0",
            "_view_name": "HTMLView",
            "description": "",
            "description_tooltip": null,
            "layout": "IPY_MODEL_98cf938649154724a4d06f7c3f9b6580",
            "placeholder": "​",
            "style": "IPY_MODEL_76322ef1de2e47c3b42b6fe43592c37a",
            "value": " 66/136 [4:55:50&lt;2:20:45, 120.65s/it]"
          }
        },
        "aa927b00dfb24079a03a7e3135239053": {
          "model_module": "@jupyter-widgets/base",
          "model_name": "LayoutModel",
          "state": {
            "_model_module": "@jupyter-widgets/base",
            "_model_module_version": "1.2.0",
            "_model_name": "LayoutModel",
            "_view_count": null,
            "_view_module": "@jupyter-widgets/base",
            "_view_module_version": "1.2.0",
            "_view_name": "LayoutView",
            "align_content": null,
            "align_items": null,
            "align_self": null,
            "border": null,
            "bottom": null,
            "display": null,
            "flex": null,
            "flex_flow": null,
            "grid_area": null,
            "grid_auto_columns": null,
            "grid_auto_flow": null,
            "grid_auto_rows": null,
            "grid_column": null,
            "grid_gap": null,
            "grid_row": null,
            "grid_template_areas": null,
            "grid_template_columns": null,
            "grid_template_rows": null,
            "height": null,
            "justify_content": null,
            "justify_items": null,
            "left": null,
            "margin": null,
            "max_height": null,
            "max_width": null,
            "min_height": null,
            "min_width": null,
            "object_fit": null,
            "object_position": null,
            "order": null,
            "overflow": null,
            "overflow_x": null,
            "overflow_y": null,
            "padding": null,
            "right": null,
            "top": null,
            "visibility": null,
            "width": null
          }
        },
        "71b2aaa328be4278a9149d576b7e7235": {
          "model_module": "@jupyter-widgets/base",
          "model_name": "LayoutModel",
          "state": {
            "_model_module": "@jupyter-widgets/base",
            "_model_module_version": "1.2.0",
            "_model_name": "LayoutModel",
            "_view_count": null,
            "_view_module": "@jupyter-widgets/base",
            "_view_module_version": "1.2.0",
            "_view_name": "LayoutView",
            "align_content": null,
            "align_items": null,
            "align_self": null,
            "border": null,
            "bottom": null,
            "display": null,
            "flex": null,
            "flex_flow": null,
            "grid_area": null,
            "grid_auto_columns": null,
            "grid_auto_flow": null,
            "grid_auto_rows": null,
            "grid_column": null,
            "grid_gap": null,
            "grid_row": null,
            "grid_template_areas": null,
            "grid_template_columns": null,
            "grid_template_rows": null,
            "height": null,
            "justify_content": null,
            "justify_items": null,
            "left": null,
            "margin": null,
            "max_height": null,
            "max_width": null,
            "min_height": null,
            "min_width": null,
            "object_fit": null,
            "object_position": null,
            "order": null,
            "overflow": null,
            "overflow_x": null,
            "overflow_y": null,
            "padding": null,
            "right": null,
            "top": null,
            "visibility": null,
            "width": null
          }
        },
        "6365a58ca19f443fa2a9a6ca3c1afed7": {
          "model_module": "@jupyter-widgets/controls",
          "model_name": "ProgressStyleModel",
          "state": {
            "_model_module": "@jupyter-widgets/controls",
            "_model_module_version": "1.5.0",
            "_model_name": "ProgressStyleModel",
            "_view_count": null,
            "_view_module": "@jupyter-widgets/base",
            "_view_module_version": "1.2.0",
            "_view_name": "StyleView",
            "bar_color": null,
            "description_width": "initial"
          }
        },
        "98cf938649154724a4d06f7c3f9b6580": {
          "model_module": "@jupyter-widgets/base",
          "model_name": "LayoutModel",
          "state": {
            "_model_module": "@jupyter-widgets/base",
            "_model_module_version": "1.2.0",
            "_model_name": "LayoutModel",
            "_view_count": null,
            "_view_module": "@jupyter-widgets/base",
            "_view_module_version": "1.2.0",
            "_view_name": "LayoutView",
            "align_content": null,
            "align_items": null,
            "align_self": null,
            "border": null,
            "bottom": null,
            "display": null,
            "flex": null,
            "flex_flow": null,
            "grid_area": null,
            "grid_auto_columns": null,
            "grid_auto_flow": null,
            "grid_auto_rows": null,
            "grid_column": null,
            "grid_gap": null,
            "grid_row": null,
            "grid_template_areas": null,
            "grid_template_columns": null,
            "grid_template_rows": null,
            "height": null,
            "justify_content": null,
            "justify_items": null,
            "left": null,
            "margin": null,
            "max_height": null,
            "max_width": null,
            "min_height": null,
            "min_width": null,
            "object_fit": null,
            "object_position": null,
            "order": null,
            "overflow": null,
            "overflow_x": null,
            "overflow_y": null,
            "padding": null,
            "right": null,
            "top": null,
            "visibility": null,
            "width": null
          }
        },
        "76322ef1de2e47c3b42b6fe43592c37a": {
          "model_module": "@jupyter-widgets/controls",
          "model_name": "DescriptionStyleModel",
          "state": {
            "_model_module": "@jupyter-widgets/controls",
            "_model_module_version": "1.5.0",
            "_model_name": "DescriptionStyleModel",
            "_view_count": null,
            "_view_module": "@jupyter-widgets/base",
            "_view_module_version": "1.2.0",
            "_view_name": "StyleView",
            "description_width": ""
          }
        }
      }
    }
  },
  "cells": [
    {
      "cell_type": "code",
      "metadata": {
        "colab": {
          "base_uri": "https://localhost:8080/"
        },
        "id": "kPFVCHjcQrEv",
        "outputId": "87cc59ce-5765-4cd3-9818-7204a9969d56"
      },
      "source": [
        "!pip install -q py-feat\n",
        "# !pip install -q facial-emotion-recognition\n",
        "# !pip install -q fer\n",
        "# !pip install -q deepface\n",
        "!pip install -q mtcnn"
      ],
      "execution_count": null,
      "outputs": [
        {
          "output_type": "stream",
          "text": [
            "\u001b[K     |████████████████████████████████| 2.3MB 7.3MB/s \n",
            "\u001b[?25h"
          ],
          "name": "stdout"
        }
      ]
    },
    {
      "cell_type": "code",
      "metadata": {
        "colab": {
          "base_uri": "https://localhost:8080/"
        },
        "id": "Kpu_xoUpRHxW",
        "outputId": "75774ac9-3e56-495e-c85c-8233870c5183"
      },
      "source": [
        "from google.colab import drive\n",
        "drive.mount('/content/drive')\n",
        "\n",
        "import numpy as np\n",
        "import pandas as pd\n",
        "from feat import Detector\n",
        "import glob\n",
        "import math\n",
        "import dlib\n",
        "import joblib\n",
        "import cv2\n",
        "from tqdm.notebook import tqdm\n",
        "from google.colab.patches import cv2_imshow\n",
        "from collections import Counter\n",
        "from mtcnn import MTCNN"
      ],
      "execution_count": null,
      "outputs": [
        {
          "output_type": "stream",
          "text": [
            "Drive already mounted at /content/drive; to attempt to forcibly remount, call drive.mount(\"/content/drive\", force_remount=True).\n"
          ],
          "name": "stdout"
        }
      ]
    },
    {
      "cell_type": "code",
      "metadata": {
        "colab": {
          "base_uri": "https://localhost:8080/"
        },
        "id": "H2v82PSkQ0Fu",
        "outputId": "89c7f325-ffc8-45f5-a8a1-676dc10cde64"
      },
      "source": [
        "################ FER\n",
        "\n",
        "# https://github.com/justinshenk/fer\n",
        "# from fer import FER\n",
        "# import operator\n",
        "# # detector = FER()\n",
        "# detector = FER(mtcnn=True)\n",
        "\n",
        "################ DeepFace\n",
        "# from deepface import DeepFace\n",
        "# https://awesomeopensource.com/project/serengil/deepface\n",
        "# obj = DeepFace.analyze(img_path = \"img4.jpg\", actions = ['age', 'gender', 'race', 'emotion'])\n",
        "# print(obj[\"age\"],\" years old \",obj[\"dominant_race\"],\" \",obj[\"dominant_emotion\"],\" \", obj[\"gender\"])\n",
        "\n",
        "################# py-feat\n",
        "\n",
        "# from feat import Detector\n",
        "face_model = \"MTCNN\"\n",
        "landmark_model = \"PFLD\"\n",
        "au_model = \"rf\"\n",
        "emotion_model = \"resmasknet\" #resmasknet,fer, svm, rf\n",
        "detector = Detector(face_model = face_model, landmark_model = landmark_model, au_model = au_model, emotion_model = emotion_model)\n",
        "\n",
        "detector_MTCNN = MTCNN()"
      ],
      "execution_count": null,
      "outputs": [
        {
          "output_type": "stream",
          "text": [
            "Loading Face Detection model:  MTCNN\n",
            "Using downloaded and verified file: /usr/local/lib/python3.7/dist-packages/feat/resources/onet.npy\n",
            "Using downloaded and verified file: /usr/local/lib/python3.7/dist-packages/feat/resources/pnet.npy\n",
            "Using downloaded and verified file: /usr/local/lib/python3.7/dist-packages/feat/resources/rnet.npy\n",
            "Using downloaded and verified file: /usr/local/lib/python3.7/dist-packages/feat/resources/pfld_model_best.pth.tar\n",
            "Using downloaded and verified file: /usr/local/lib/python3.7/dist-packages/feat/resources/hog_pca_all_emotio.joblib\n",
            "Using downloaded and verified file: /usr/local/lib/python3.7/dist-packages/feat/resources/hog_pca_all_emotio.joblib\n",
            "Using downloaded and verified file: /usr/local/lib/python3.7/dist-packages/feat/resources/hog_scalar_aus.joblib\n",
            "Using downloaded and verified file: /usr/local/lib/python3.7/dist-packages/feat/resources/RF_568.joblib\n",
            "Using downloaded and verified file: /usr/local/lib/python3.7/dist-packages/feat/resources/hog_pca_all_emotio.joblib\n",
            "Using downloaded and verified file: /usr/local/lib/python3.7/dist-packages/feat/resources/hog_scalar_aus.joblib\n",
            "Using downloaded and verified file: /usr/local/lib/python3.7/dist-packages/feat/resources/ResMaskNet_Z_resmasking_dropout1_rot30.pth\n",
            "Loading Face Landmark model:  PFLD\n",
            "Loading au model:  rf\n"
          ],
          "name": "stdout"
        },
        {
          "output_type": "stream",
          "text": [
            "/usr/local/lib/python3.7/dist-packages/sklearn/base.py:318: UserWarning: Trying to unpickle estimator PCA from version 0.24.1 when using version 0.22.2.post1. This might lead to breaking code or invalid results. Use at your own risk.\n",
            "  UserWarning)\n",
            "/usr/local/lib/python3.7/dist-packages/sklearn/base.py:318: UserWarning: Trying to unpickle estimator DecisionTreeClassifier from version 0.24.1 when using version 0.22.2.post1. This might lead to breaking code or invalid results. Use at your own risk.\n",
            "  UserWarning)\n",
            "/usr/local/lib/python3.7/dist-packages/sklearn/base.py:318: UserWarning: Trying to unpickle estimator RandomForestClassifier from version 0.24.1 when using version 0.22.2.post1. This might lead to breaking code or invalid results. Use at your own risk.\n",
            "  UserWarning)\n",
            "/usr/local/lib/python3.7/dist-packages/sklearn/base.py:318: UserWarning: Trying to unpickle estimator StandardScaler from version 0.24.1 when using version 0.22.2.post1. This might lead to breaking code or invalid results. Use at your own risk.\n",
            "  UserWarning)\n"
          ],
          "name": "stderr"
        },
        {
          "output_type": "stream",
          "text": [
            "Loading emotion model:  resmasknet\n"
          ],
          "name": "stdout"
        }
      ]
    },
    {
      "cell_type": "code",
      "metadata": {
        "id": "SWwugvO9mv9k"
      },
      "source": [
        "def cal_mean_std(image):\n",
        "  val = np.reshape(image[:,:,0], -1)\n",
        "  img_mean = np.mean(val)\n",
        "  img_std = np.std(val)\n",
        "  X = np.array([img_mean, img_std]).reshape(1, -1)\n",
        "  return X\n",
        "\n",
        "def my_mode(sample):\n",
        "  c = Counter(sample)\n",
        "  return [k for k, v in c.items() if v == c.most_common(1)[0][1]]"
      ],
      "execution_count": null,
      "outputs": []
    },
    {
      "cell_type": "markdown",
      "metadata": {
        "id": "mrsrISV-6mwO"
      },
      "source": [
        "### List"
      ]
    },
    {
      "cell_type": "code",
      "metadata": {
        "id": "YSDYTv2W-Kh2"
      },
      "source": [
        "# datalist = ['Anongrat_06_810', 'Anongrat_06_811', 'Anongrat_06_812', 'Anongrat_06_813', 'Anongrat_06_814',\n",
        "#             'Anongrat_06_815', 'Anongrat_06_816', 'Anongrat_06_817', 'Anongrat_06_818', 'Anongrat_06_819',\n",
        "#             'Anongrat_06_8110', 'Anongrat_06_8111', 'Anongrat_06_8112', 'Anongrat_06_8113', 'Anongrat_06_8114',\n",
        "#             'Anongrat_06_8115', 'Anongrat_06_8116', 'Anongrat_06_8117', 'Anongrat_06_8118', 'Anongrat_06_8119',\n",
        "#             'Anongrat_06_8120', 'Anongrat_06_8121']"
      ],
      "execution_count": null,
      "outputs": []
    },
    {
      "cell_type": "code",
      "metadata": {
        "id": "JM9KyUKU6pdZ"
      },
      "source": [
        "predf_2 = []\n",
        "actf_2 = []\n",
        "for name in datalist:\n",
        "  data = np.load('drive/MyDrive/AIHealthcare/AIcare_Phrase1/data/label_emotion/prepare_data/new/Anongrat/'+ name +'.npy', allow_pickle=True)\n",
        "  for i in tqdm(range(data.shape[0])):\n",
        "    seqimg   =  []\n",
        "    for j in range(len(data[i][0])):\n",
        "      img = data[i][0][j]\n",
        "      label = data[i][1]\n",
        "      # cv2_imshow(img)\n",
        "      try:\n",
        "        detected_faces = [[0, 0, img.shape[0]-1, img.shape[1]-1, 1]]\n",
        "        detected_landmarks = detector.detect_landmarks(img, detected_faces)\n",
        "        ypred = detector.detect_emotions(img, detected_faces, detected_landmarks)[0]\n",
        "        ypred_arg = np.argmax(ypred)\n",
        "      except:\n",
        "        print(\"error i = \",i, ' j =', j)\n",
        "        pass\n",
        "      seqimg.append(ypred_arg) \n",
        "    seq_label = my_mode(seqimg)\n",
        "    print('seq_label', seq_label)\n",
        "    predf_2.append(seq_label[0])\n",
        "    actf_2.append(label)"
      ],
      "execution_count": null,
      "outputs": []
    },
    {
      "cell_type": "code",
      "metadata": {
        "id": "7krkkGmy6sf_"
      },
      "source": [
        "# #svm, rf\n",
        "# image_prediction = detector.detect_image(img)\n",
        "# ypred = image_prediction.emotions()\n",
        "# ypred_arg = np.argmax(ypred)"
      ],
      "execution_count": null,
      "outputs": []
    },
    {
      "cell_type": "markdown",
      "metadata": {
        "id": "MBNhHGjwBwof"
      },
      "source": [
        "## Single"
      ]
    },
    {
      "cell_type": "code",
      "metadata": {
        "id": "O7vLvEOlrGHN"
      },
      "source": [
        "predf_2 = []\n",
        "actf_2 = []\n",
        "data = np.load('drive/MyDrive/AIHealthcare/AIcare_Phrase1/data/label_emotion/prepare_data/new/Anongrat/Anongrat_06_8116.npy', allow_pickle=True)\n",
        "for i in tqdm(range(data.shape[0])):\n",
        "  seqimg   =  []\n",
        "  for j in range(len(data[i][0])):\n",
        "    img = data[i][0][j]\n",
        "    label = data[i][1]\n",
        "    try:\n",
        "      detected_faces = [[0, 0, img.shape[0]-1, img.shape[1]-1, 1]]\n",
        "      detected_landmarks = detector.detect_landmarks(img, detected_faces)\n",
        "      ypred = detector.detect_emotions(img, detected_faces, detected_landmarks)[0]\n",
        "      ypred_arg = np.argmax(ypred)\n",
        "    except:\n",
        "      pass\n",
        "    \n",
        "    seqimg.append(ypred_arg) #ypred_arg\n",
        "  seq_label = my_mode(seqimg)\n",
        "  print('seq_label', seq_label)\n",
        "  predf_2.append(seq_label[0])\n",
        "  actf_2.append(label)"
      ],
      "execution_count": null,
      "outputs": []
    },
    {
      "cell_type": "code",
      "metadata": {
        "id": "bJRWrtxtL81X"
      },
      "source": [
        "# #svm, rf\n",
        "# image_prediction = detector.detect_image(img)\n",
        "# ypred = image_prediction.emotions()\n",
        "# ypred_arg = np.argmax(ypred)"
      ],
      "execution_count": null,
      "outputs": []
    },
    {
      "cell_type": "markdown",
      "metadata": {
        "id": "_abXwsw0B6ST"
      },
      "source": [
        "## Path"
      ]
    },
    {
      "cell_type": "code",
      "metadata": {
        "id": "Vz9OKdqEw1rD"
      },
      "source": [
        "predf = []\n",
        "actf = []\n",
        "for files in glob.iglob(r'drive/MyDrive/AIHealthcare/AIcare_Phrase1/data/label_emotion/prepare_data/*.npy'):\n",
        "  print(files)\n",
        "  data = np.load(files, allow_pickle=True)\n",
        "  for i in tqdm(range(data.shape[0])):\n",
        "    seqimg   =  []\n",
        "    for j in range(len(data[i][0])):\n",
        "      img = data[i][0][j]\n",
        "      # cv2_imshow(img)\n",
        "      label = data[i][1]\n",
        "      try:\n",
        "        obj = DeepFace.analyze(img_path = img, actions = ['emotion'])\n",
        "        deepf = obj[\"dominant_emotion\"]\n",
        "      except:\n",
        "        print(\"error i =\", i, ' j =', j)\n",
        "        deepf = 'neutral'\n",
        "\n",
        "      if deepf == 'angry':\n",
        "        ypred_arg = 0\n",
        "      elif deepf == 'disgust':\n",
        "        ypred_arg = 1\n",
        "      elif deepf == 'fear':\n",
        "        ypred_arg = 2\n",
        "      elif deepf == 'happy':\n",
        "        ypred_arg = 3\n",
        "      elif deepf == 'sad':\n",
        "        ypred_arg = 4\n",
        "      elif deepf == 'surprise':\n",
        "        ypred_arg = 5\n",
        "      elif deepf == 'neutral':\n",
        "        ypred_arg = 6\n",
        "      \n",
        "      seqimg.append(ypred_arg) #ypred_arg\n",
        "    seq_label = my_mode(seqimg)\n",
        "    print('seq_label', seq_label)\n",
        "    predf.append(seq_label[0])\n",
        "    actf.append(label)\n",
        "  np.save('df_pred'+str(i)+'.npy', np.array(predf))\n",
        "  np.save('df_act'+str(i)+'.npy', np.array(actf))"
      ],
      "execution_count": null,
      "outputs": []
    },
    {
      "cell_type": "markdown",
      "metadata": {
        "id": "bUrNBJdNRUJ8"
      },
      "source": [
        "## ALL STEP IN ONE"
      ]
    },
    {
      "cell_type": "code",
      "metadata": {
        "colab": {
          "base_uri": "https://localhost:8080/",
          "height": 1000,
          "referenced_widgets": [
            "99f4f07f6dbf496fb25cb5f84765991d",
            "7eb47b1151924a718b8494d8ed5526a7",
            "7b7a5818b5194f38b63019c5825432e6",
            "aa927b00dfb24079a03a7e3135239053",
            "71b2aaa328be4278a9149d576b7e7235",
            "6365a58ca19f443fa2a9a6ca3c1afed7",
            "98cf938649154724a4d06f7c3f9b6580",
            "76322ef1de2e47c3b42b6fe43592c37a"
          ]
        },
        "id": "Qxch2_rrRXwL",
        "outputId": "eb8046dd-ff8a-45af-8589-17c114ff0b8a"
      },
      "source": [
        "predf_2 = []\n",
        "actf_2 = []\n",
        "\n",
        "namefile = 'Wachiraya1.csv'\n",
        "vdo_link = 'drive/MyDrive/AIHealthcare/AIcare_Phrase1/data/label_emotion/emotional_labeling/Wachiraya/02_016.mp4'\n",
        "df = pd.read_csv('drive/MyDrive/AIHealthcare/AIcare_Phrase1/data/Test/'+namefile)\n",
        "rowimg = []\n",
        "label_img = []\n",
        "df = df.loc[df['source'] == '02_016']\n",
        "df.reset_index(drop=True, inplace=True)\n",
        "print('df', df.shape)\n",
        "\n",
        "for i in tqdm(range(66,df.shape[0])):\n",
        "  seqimg = []\n",
        "  for j in range(df['start_frame'][i], df['end_frame'][i]):\n",
        "    cap = cv2.VideoCapture(vdo_link)\n",
        "    cap.set(cv2.CAP_PROP_POS_FRAMES, j)\n",
        "    success, image = cap.read()\n",
        "    scale_percent = 50 \n",
        "    width = int(image.shape[1] * scale_percent / 100)\n",
        "    height = int(image.shape[0] * scale_percent / 100)\n",
        "    dim = (width, height)\n",
        "    resized = cv2.resize(image, dim)\n",
        "    try:\n",
        "      faceimg = detector_MTCNN.detect_faces(resized)\n",
        "      faceimg = faceimg[0]['box']\n",
        "      faceimg =resized[faceimg[1]-30:faceimg[1]+faceimg[3]+30,faceimg[0]-30:faceimg[0]+faceimg[2]+30] #[x, y, width, height]  \n",
        "      # cv2_imshow(faceimg)\n",
        "    except:\n",
        "      try:\n",
        "        faceimg = detect_faces(resized)\n",
        "      except:\n",
        "        pass\n",
        "        # print(\"error i = \",i, ' j =', j)\n",
        "    try:\n",
        "      detected_faces = [[0, 0, faceimg.shape[0]-1, faceimg.shape[1]-1, 1]]\n",
        "      detected_landmarks = detector.detect_landmarks(faceimg, detected_faces)\n",
        "      ypred = detector.detect_emotions(faceimg, detected_faces, detected_landmarks)[0]\n",
        "      ypred_arg = np.argmax(ypred)\n",
        "      seqimg.append(ypred_arg) #ypred_arg\n",
        "    except:\n",
        "      pass\n",
        "  seq_label = my_mode(seqimg)\n",
        "  print('i =', i, 'seq_label =', seq_label)\n",
        "  predf_2.append(seq_label[0])\n",
        "  actf_2.append(label)    "
      ],
      "execution_count": null,
      "outputs": [
        {
          "output_type": "stream",
          "text": [
            "df (136, 11)\n"
          ],
          "name": "stdout"
        },
        {
          "output_type": "display_data",
          "data": {
            "application/vnd.jupyter.widget-view+json": {
              "model_id": "99f4f07f6dbf496fb25cb5f84765991d",
              "version_major": 2,
              "version_minor": 0
            },
            "text/plain": [
              "HBox(children=(FloatProgress(value=0.0, max=136.0), HTML(value='')))"
            ]
          },
          "metadata": {
            "tags": []
          }
        },
        {
          "output_type": "stream",
          "text": [
            "i = 0 seq_label = [3]\n",
            "i = 1 seq_label = [6]\n",
            "i = 2 seq_label = [3]\n",
            "i = 3 seq_label = [6]\n",
            "i = 4 seq_label = [3]\n",
            "i = 5 seq_label = [6]\n",
            "i = 6 seq_label = [6]\n",
            "i = 7 seq_label = [6]\n",
            "i = 8 seq_label = [3]\n",
            "i = 9 seq_label = [6]\n",
            "i = 10 seq_label = [6]\n",
            "i = 11 seq_label = [6]\n",
            "i = 12 seq_label = [6]\n",
            "i = 13 seq_label = [3]\n",
            "i = 14 seq_label = [6]\n",
            "i = 15 seq_label = [6]\n",
            "i = 16 seq_label = [6]\n",
            "i = 17 seq_label = [3]\n",
            "i = 18 seq_label = [6]\n",
            "i = 19 seq_label = [6]\n",
            "i = 20 seq_label = [6]\n",
            "i = 21 seq_label = [6]\n",
            "i = 22 seq_label = [3]\n",
            "i = 23 seq_label = [3]\n",
            "i = 24 seq_label = [6]\n",
            "i = 25 seq_label = [6]\n",
            "i = 26 seq_label = [6]\n",
            "i = 27 seq_label = [6]\n",
            "i = 28 seq_label = [6]\n",
            "i = 29 seq_label = [6]\n",
            "i = 30 seq_label = [6]\n",
            "i = 31 seq_label = [6]\n",
            "i = 32 seq_label = [6]\n",
            "i = 33 seq_label = [6]\n",
            "i = 34 seq_label = [6]\n",
            "i = 35 seq_label = [6]\n",
            "i = 36 seq_label = [6]\n",
            "i = 37 seq_label = [6]\n",
            "i = 38 seq_label = [6]\n",
            "i = 39 seq_label = [6]\n",
            "i = 40 seq_label = [6]\n",
            "i = 41 seq_label = [3]\n",
            "i = 42 seq_label = [6]\n",
            "i = 43 seq_label = [6]\n",
            "i = 44 seq_label = [3, 6]\n",
            "i = 45 seq_label = [6]\n",
            "i = 46 seq_label = [6]\n",
            "i = 47 seq_label = [6]\n",
            "i = 48 seq_label = [6]\n",
            "i = 49 seq_label = [3]\n",
            "i = 50 seq_label = [6]\n",
            "i = 51 seq_label = [6]\n",
            "i = 52 seq_label = [6]\n",
            "i = 53 seq_label = [6]\n",
            "i = 54 seq_label = [6]\n",
            "i = 55 seq_label = [6]\n",
            "i = 56 seq_label = [6]\n",
            "i = 57 seq_label = [3]\n",
            "i = 58 seq_label = [6]\n",
            "i = 59 seq_label = [6]\n",
            "i = 60 seq_label = [3]\n",
            "i = 61 seq_label = [3]\n",
            "i = 62 seq_label = [6]\n",
            "i = 63 seq_label = [6]\n",
            "i = 64 seq_label = [3]\n",
            "i = 65 seq_label = [6]\n"
          ],
          "name": "stdout"
        }
      ]
    },
    {
      "cell_type": "code",
      "metadata": {
        "colab": {
          "base_uri": "https://localhost:8080/"
        },
        "id": "y2rfms_wFyUf",
        "outputId": "8a586cd7-bfc3-4d17-9d1b-af9df5013bba"
      },
      "source": [
        "len(predf_2)"
      ],
      "execution_count": null,
      "outputs": [
        {
          "output_type": "execute_result",
          "data": {
            "text/plain": [
              "68"
            ]
          },
          "metadata": {
            "tags": []
          },
          "execution_count": 27
        }
      ]
    },
    {
      "cell_type": "code",
      "metadata": {
        "id": "B1TQ1XKAUr_N"
      },
      "source": [
        "while True:pass"
      ],
      "execution_count": null,
      "outputs": []
    },
    {
      "cell_type": "code",
      "metadata": {
        "colab": {
          "background_save": true
        },
        "id": "vzOIeBOdjpxb"
      },
      "source": [
        "predf = []\n",
        "actf = []\n",
        "for files in glob.iglob(r'drive/MyDrive/AIHealthcare/AIcare_Phrase1/data/label_emotion/prepare_data/*.npy'):\n",
        "  print(files)\n",
        "  data = np.load(files, allow_pickle=True)\n",
        "  for i in tqdm(range(data.shape[0])):\n",
        "    seqimg   =  []\n",
        "    for j in range(len(data[i][0])):\n",
        "      img = data[i][0][j]\n",
        "      label = data[i][1]\n",
        "\n",
        "      ###################### mean std ###########################\n",
        "      # img = img.astype('float32')\n",
        "      # image = cv2.cvtColor(img, cv2.COLOR_BGR2RGB)/255.0\n",
        "      # X = cal_mean_std(image)\n",
        "      # ypred = model.predict(X)[0]\n",
        "          \n",
        "      ###################### mean std landmark ###########################\n",
        "      # image = cv2.cvtColor(img, cv2.COLOR_BGR2RGB)/255.0\n",
        "      # X = cal_mean_std(image).tolist()[0]\n",
        "      # try:\n",
        "      #   data_fea = np.array(get_landmarks(img)['landmarks_vectorised']).tolist()\n",
        "      #   x_test = np.array(X+data_fea).reshape(1,-1)\n",
        "      #   ypred = model.predict(x_test)[0]\n",
        "      # except:\n",
        "      #   ypred = 6\n",
        "    \n",
        "      ###################### Py-feat resmasknet, Fer ###########################\n",
        "      detected_faces = [[0, 0, img.shape[0]-1, img.shape[1]-1, 1]]\n",
        "      detected_landmarks = detector.detect_landmarks(img, detected_faces)\n",
        "      ypred = detector.detect_emotions(img, detected_faces, detected_landmarks)[0]\n",
        "      ypred_arg = np.argmax(ypred)\n",
        "\n",
        "      ###################### Py-feat svm, rf ###################################\n",
        "      # image_prediction = detector.detect_image(img)\n",
        "      # ypred = image_prediction.emotions()\n",
        "      # ypred_arg = np.argmax(ypred)\n",
        "\n",
        "      # emotion, score = detector.top_emotion(img)\n",
        "      # emotion = detector.detect_emotions(img)[0]['emotions']\n",
        "      # ypred_arg = max(emotion.items(), key=operator.itemgetter(1))[0]\n",
        "\n",
        "      # if emotion == 'anger':\n",
        "      #   ypred_arg = 0\n",
        "      # elif emotion == 'disgust':\n",
        "      #   ypred_arg = 1\n",
        "      # elif emotion == 'fear':\n",
        "      #   ypred_arg = 2\n",
        "      # elif emotion == 'happy':\n",
        "      #   ypred_arg = 3\n",
        "      # elif emotion == 'sad':\n",
        "      #   ypred_arg = 4\n",
        "      # elif emotion == 'surprise':\n",
        "      #   ypred_arg = 5\n",
        "      # elif emotion == 'neutral':\n",
        "      #   ypred_arg = 6\n",
        "\n",
        "      # obj = DeepFace.analyze(img_path = img, actions = ['age','emotion'])\n",
        "      # print(obj[\"dominant_emotion\"])\n",
        "      # deepf = obj[\"dominant_emotion\"]\n",
        "\n",
        "      # if deepf == 'angry':\n",
        "      #   ypred_arg = 0\n",
        "      # elif deepf == 'disgust':\n",
        "      #   ypred_arg = 1\n",
        "      # elif deepf == 'fear':\n",
        "      #   ypred_arg = 2\n",
        "      # elif deepf == 'happy':\n",
        "      #   ypred_arg = 3\n",
        "      # elif deepf == 'sad':\n",
        "      #   ypred_arg = 4\n",
        "      # elif deepf == 'surprise':\n",
        "      #   ypred_arg = 5\n",
        "      # elif deepf == 'neutral':\n",
        "      #   ypred_arg = 6\n",
        "      \n",
        "      seqimg.append(ypred_arg) #ypred_arg\n",
        "    seq_label = my_mode(seqimg)\n",
        "    print('seq_label', seq_label)\n",
        "    predf.append(seq_label[0])\n",
        "    actf.append(label)\n",
        "  np.save('df_pred'+str(i)+'.npy', np.array(predf))\n",
        "  np.save('df_act'+str(i)+'.npy', np.array(actf))"
      ],
      "execution_count": null,
      "outputs": []
    },
    {
      "cell_type": "code",
      "metadata": {
        "id": "Lkk5rSEGqjjs"
      },
      "source": [
        "# label_kaggle = (0=Angry, 1=Disgust, 2=Fear, 3=Happy, 4=Sad, 5=Surprise, 6=Neutral).\n",
        "# label_ck+ = (1=anger\", \"3=disgust\", \"4=fear\", \"5=happy\", \"6=sadness\", \"7=surprise\") \n",
        "# resmasknet = ( anger=0,\tdisgust=1, fear=2, happiness=3,\tsadness=4,\tsurprise=5,\tneutral=6 )\n",
        "# fer, svm, rf = ( anger=0,\tdisgust=1, fear=2, happiness=3,\tsadness=4,\tsurprise=5,\tneutral=6 )\n",
        "# fer             = ( anger=0, 'disgust=1,fear=2,  happy=3,      sad=4,        surprise=5, neutral=6 )\n",
        "# Deepfake    = (angry=0, fear=1, neutral=2, sad=3, disgust=4, happy=5 and surprise = 6)"
      ],
      "execution_count": null,
      "outputs": []
    },
    {
      "cell_type": "code",
      "metadata": {
        "id": "lPxM7bn5sDYe"
      },
      "source": [
        "result = pd.DataFrame({'label':actf_2, 'pred' : predf_2}).replace({'happy':3, 'surprise':5, 'relax':6, 'Neutral':6, 'neutral':6,'stress':0,'anger':0,'sad':4  }) # fer 1\n",
        "# result = result[result.pred != 2]\n",
        "result = result[result.pred != 2]\n",
        "result = result[result.pred != 1]"
      ],
      "execution_count": null,
      "outputs": []
    },
    {
      "cell_type": "code",
      "metadata": {
        "colab": {
          "base_uri": "https://localhost:8080/"
        },
        "id": "BHZautpfsf7F",
        "outputId": "c57516ef-1130-4507-f64a-a18492302642"
      },
      "source": [
        "print(pd.unique(result['pred']))\n",
        "print(pd.unique(result['label']))"
      ],
      "execution_count": null,
      "outputs": [
        {
          "output_type": "stream",
          "text": [
            "[3]\n",
            "[0 6 4 3]\n"
          ],
          "name": "stdout"
        }
      ]
    },
    {
      "cell_type": "code",
      "metadata": {
        "id": "FHvhLe6ogsTX"
      },
      "source": [
        "df = pd.read_csv('/content/result.csv')"
      ],
      "execution_count": null,
      "outputs": []
    },
    {
      "cell_type": "code",
      "metadata": {
        "id": "j8r9dXUso-yA"
      },
      "source": [
        "# ground_truth = pd.DataFrame(data[:,1], columns=['lable']).replace({'happy':5, 'surprise':7, 'relax':0, 'Neutral':0}) # ck+\n",
        "# ground_truth = pd.DataFrame(data[:,1], columns=['lable']).replace({'happy':3, 'surprise':5, 'relax':6, 'Neutral':6}) # kaggle\n",
        "# ground_truth = pd.DataFrame(data[:,1], columns=['lable']).replace({'happy':3, 'surprise':5, 'relax':6, 'Neutral':6}) # resmasknet\n",
        "result = pd.concat([result['label'], result['pred']], axis=1, join=\"inner\")\n",
        "result"
      ],
      "execution_count": null,
      "outputs": []
    },
    {
      "cell_type": "code",
      "metadata": {
        "colab": {
          "base_uri": "https://localhost:8080/",
          "height": 16
        },
        "id": "uPMoB-qOsEpJ",
        "outputId": "c70614f9-0387-4850-d4c6-5ee3eaff4c29"
      },
      "source": [
        "from google.colab import files\n",
        "result.to_csv('result_6.csv') \n",
        "files.download('result_6.csv')"
      ],
      "execution_count": null,
      "outputs": [
        {
          "output_type": "display_data",
          "data": {
            "application/javascript": [
              "\n",
              "    async function download(id, filename, size) {\n",
              "      if (!google.colab.kernel.accessAllowed) {\n",
              "        return;\n",
              "      }\n",
              "      const div = document.createElement('div');\n",
              "      const label = document.createElement('label');\n",
              "      label.textContent = `Downloading \"${filename}\": `;\n",
              "      div.appendChild(label);\n",
              "      const progress = document.createElement('progress');\n",
              "      progress.max = size;\n",
              "      div.appendChild(progress);\n",
              "      document.body.appendChild(div);\n",
              "\n",
              "      const buffers = [];\n",
              "      let downloaded = 0;\n",
              "\n",
              "      const channel = await google.colab.kernel.comms.open(id);\n",
              "      // Send a message to notify the kernel that we're ready.\n",
              "      channel.send({})\n",
              "\n",
              "      for await (const message of channel.messages) {\n",
              "        // Send a message to notify the kernel that we're ready.\n",
              "        channel.send({})\n",
              "        if (message.buffers) {\n",
              "          for (const buffer of message.buffers) {\n",
              "            buffers.push(buffer);\n",
              "            downloaded += buffer.byteLength;\n",
              "            progress.value = downloaded;\n",
              "          }\n",
              "        }\n",
              "      }\n",
              "      const blob = new Blob(buffers, {type: 'application/binary'});\n",
              "      const a = document.createElement('a');\n",
              "      a.href = window.URL.createObjectURL(blob);\n",
              "      a.download = filename;\n",
              "      div.appendChild(a);\n",
              "      a.click();\n",
              "      div.remove();\n",
              "    }\n",
              "  "
            ],
            "text/plain": [
              "<IPython.core.display.Javascript object>"
            ]
          },
          "metadata": {
            "tags": []
          }
        },
        {
          "output_type": "display_data",
          "data": {
            "application/javascript": [
              "download(\"download_f04c282c-fa14-4961-9114-f442923c6c14\", \"result_6.csv\", 156)"
            ],
            "text/plain": [
              "<IPython.core.display.Javascript object>"
            ]
          },
          "metadata": {
            "tags": []
          }
        }
      ]
    },
    {
      "cell_type": "code",
      "metadata": {
        "colab": {
          "base_uri": "https://localhost:8080/",
          "height": 571
        },
        "id": "4lhqjeIqtLUN",
        "outputId": "fcf17b93-ecca-45d2-9142-7571da81e861"
      },
      "source": [
        "from sklearn import metrics\n",
        "from sklearn.metrics import confusion_matrix\n",
        "import seaborn as sns; sns.set()\n",
        "import matplotlib.pyplot as plt\n",
        "%matplotlib inline\n",
        "import seaborn as sns\n",
        "from sklearn.metrics import confusion_matrix\n",
        "\n",
        "\n",
        "\n",
        "def plot_confus(pred_lable, truelable):\n",
        "  print(metrics.classification_report(pred_lable, truelable))\n",
        "  print('Accuracy: ',metrics.accuracy_score(truelable, pred_lable))\n",
        "\n",
        "  mat = confusion_matrix(truelable, pred_lable)\n",
        "  sns.heatmap(mat.T, square=True, annot=True, fmt='d', cmap=\"YlGnBu\")\n",
        "  # tick_marks = np.arange(len(target_names))\n",
        "  # plt.xticks(tick_marks, target_names, rotation ='vertical', ha='center')\n",
        "  # plt.yticks(tick_marks, target_names, rotation ='horizontal', ha='center')\n",
        "  plt.xlabel('true label')\n",
        "  plt.ylabel('predicted label'); \n",
        "\n",
        "plot_confus(df['pred'], df['label'])"
      ],
      "execution_count": null,
      "outputs": [
        {
          "output_type": "stream",
          "text": [
            "/usr/local/lib/python3.7/dist-packages/sklearn/metrics/_classification.py:1272: UndefinedMetricWarning: Recall and F-score are ill-defined and being set to 0.0 in labels with no true samples. Use `zero_division` parameter to control this behavior.\n",
            "  _warn_prf(average, modifier, msg_start, len(result))\n"
          ],
          "name": "stderr"
        },
        {
          "output_type": "stream",
          "text": [
            "              precision    recall  f1-score   support\n",
            "\n",
            "           0       0.00      0.00      0.00         0\n",
            "           3       0.94      0.21      0.34        76\n",
            "           4       0.00      0.00      0.00         1\n",
            "           5       0.00      0.00      0.00         0\n",
            "           6       0.00      0.00      0.00         0\n",
            "\n",
            "    accuracy                           0.21        77\n",
            "   macro avg       0.19      0.04      0.07        77\n",
            "weighted avg       0.93      0.21      0.34        77\n",
            "\n",
            "Accuracy:  0.2077922077922078\n"
          ],
          "name": "stdout"
        },
        {
          "output_type": "display_data",
          "data": {
            "image/png": "[encoded data removed]",
            "text/plain": [
              "<Figure size 432x288 with 2 Axes>"
            ]
          },
          "metadata": {
            "tags": []
          }
        }
      ]
    },
    {
      "cell_type": "code",
      "metadata": {
        "id": "nJaWXyjfQZbQ"
      },
      "source": [
        "# https://www.kaggle.com/grfiv4/plot-a-confusion-matrix\n",
        "import numpy as np\n",
        "import pandas as pd\n",
        "import matplotlib.pyplot as plt\n",
        "%matplotlib inline\n",
        "import seaborn as sns\n",
        "from sklearn.metrics import confusion_matrix\n",
        "\n",
        "def plot_cm(y_true, y_pred, figsize=(10,10)):\n",
        "    cm = confusion_matrix(y_true, y_pred, labels=np.unique(y_true))\n",
        "    cm_sum = np.sum(cm, axis=1, keepdims=True)\n",
        "    cm_perc = cm / cm_sum.astype(float) * 100\n",
        "    annot = np.empty_like(cm).astype(str)\n",
        "    nrows, ncols = cm.shape\n",
        "    for i in range(nrows):\n",
        "        for j in range(ncols):\n",
        "            c = cm[i, j]\n",
        "            p = cm_perc[i, j]\n",
        "            if i == j:\n",
        "                s = cm_sum[i]\n",
        "                annot[i, j] = '%.1f%%\\n%d/%d' % (p, c, s)\n",
        "            elif c == 0:\n",
        "                annot[i, j] = ''\n",
        "            else:\n",
        "                annot[i, j] = '%.1f%%\\n%d' % (p, c)\n",
        "    cm = pd.DataFrame(cm, index=np.unique(y_true), columns=np.unique(y_true))\n",
        "    cm.index.name = 'Actual'\n",
        "    cm.columns.name = 'Predicted'\n",
        "    fig, ax = plt.subplots(figsize=figsize)\n",
        "    sns.heatmap(cm, cmap= \"YlGnBu\", annot=annot, fmt='', ax=ax)\n",
        "    \n",
        "plot_cm(y_true, y_pred)"
      ],
      "execution_count": null,
      "outputs": []
    },
    {
      "cell_type": "code",
      "metadata": {
        "id": "ugaIH8Axz3J1"
      },
      "source": [
        "# https://medium.com/clique-org/how-to-create-a-face-recognition-model-using-facenet-keras-fd65c0b092f1"
      ],
      "execution_count": null,
      "outputs": []
    }
  ]
}