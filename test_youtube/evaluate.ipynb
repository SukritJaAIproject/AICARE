{
  "nbformat": 4,
  "nbformat_minor": 0,
  "metadata": {
    "colab": {
      "name": "evaluate.ipynb",
      "provenance": [],
      "collapsed_sections": []
    },
    "kernelspec": {
      "display_name": "Python 3",
      "name": "python3"
    },
    "language_info": {
      "name": "python"
    },
    "widgets": {
      "application/vnd.jupyter.widget-state+json": {
        "726f13ad75ea4b14a4d97bcee7f11ce5": {
          "model_module": "@jupyter-widgets/controls",
          "model_name": "HBoxModel",
          "state": {
            "_view_name": "HBoxView",
            "_dom_classes": [],
            "_model_name": "HBoxModel",
            "_view_module": "@jupyter-widgets/controls",
            "_model_module_version": "1.5.0",
            "_view_count": null,
            "_view_module_version": "1.5.0",
            "box_style": "",
            "layout": "IPY_MODEL_2a4925f5bb7b47d9a705a5bd4ea4e99e",
            "_model_module": "@jupyter-widgets/controls",
            "children": [
              "IPY_MODEL_f676bf5375b4412d8ddd58dca2d8f173",
              "IPY_MODEL_23bfa70079454e708c4a31665ad5beab"
            ]
          }
        },
        "2a4925f5bb7b47d9a705a5bd4ea4e99e": {
          "model_module": "@jupyter-widgets/base",
          "model_name": "LayoutModel",
          "state": {
            "_view_name": "LayoutView",
            "grid_template_rows": null,
            "right": null,
            "justify_content": null,
            "_view_module": "@jupyter-widgets/base",
            "overflow": null,
            "_model_module_version": "1.2.0",
            "_view_count": null,
            "flex_flow": null,
            "width": null,
            "min_width": null,
            "border": null,
            "align_items": null,
            "bottom": null,
            "_model_module": "@jupyter-widgets/base",
            "top": null,
            "grid_column": null,
            "overflow_y": null,
            "overflow_x": null,
            "grid_auto_flow": null,
            "grid_area": null,
            "grid_template_columns": null,
            "flex": null,
            "_model_name": "LayoutModel",
            "justify_items": null,
            "grid_row": null,
            "max_height": null,
            "align_content": null,
            "visibility": null,
            "align_self": null,
            "height": null,
            "min_height": null,
            "padding": null,
            "grid_auto_rows": null,
            "grid_gap": null,
            "max_width": null,
            "order": null,
            "_view_module_version": "1.2.0",
            "grid_template_areas": null,
            "object_position": null,
            "object_fit": null,
            "grid_auto_columns": null,
            "margin": null,
            "display": null,
            "left": null
          }
        },
        "f676bf5375b4412d8ddd58dca2d8f173": {
          "model_module": "@jupyter-widgets/controls",
          "model_name": "FloatProgressModel",
          "state": {
            "_view_name": "ProgressView",
            "style": "IPY_MODEL_297c76de3500450a858f5a0b3629f000",
            "_dom_classes": [],
            "description": " 12%",
            "_model_name": "FloatProgressModel",
            "bar_style": "",
            "max": 69,
            "_view_module": "@jupyter-widgets/controls",
            "_model_module_version": "1.5.0",
            "value": 8,
            "_view_count": null,
            "_view_module_version": "1.5.0",
            "orientation": "horizontal",
            "min": 0,
            "description_tooltip": null,
            "_model_module": "@jupyter-widgets/controls",
            "layout": "IPY_MODEL_edf5fd21b8bb4bd6b3a89bed4d27f973"
          }
        },
        "23bfa70079454e708c4a31665ad5beab": {
          "model_module": "@jupyter-widgets/controls",
          "model_name": "HTMLModel",
          "state": {
            "_view_name": "HTMLView",
            "style": "IPY_MODEL_d2df8b1d04fa486f86554ae1eea3f893",
            "_dom_classes": [],
            "description": "",
            "_model_name": "HTMLModel",
            "placeholder": "​",
            "_view_module": "@jupyter-widgets/controls",
            "_model_module_version": "1.5.0",
            "value": " 8/69 [34:02&lt;3:17:56, 194.69s/it]",
            "_view_count": null,
            "_view_module_version": "1.5.0",
            "description_tooltip": null,
            "_model_module": "@jupyter-widgets/controls",
            "layout": "IPY_MODEL_f3c8816717c84acfbe5cd27a605f9eaa"
          }
        },
        "297c76de3500450a858f5a0b3629f000": {
          "model_module": "@jupyter-widgets/controls",
          "model_name": "ProgressStyleModel",
          "state": {
            "_view_name": "StyleView",
            "_model_name": "ProgressStyleModel",
            "description_width": "initial",
            "_view_module": "@jupyter-widgets/base",
            "_model_module_version": "1.5.0",
            "_view_count": null,
            "_view_module_version": "1.2.0",
            "bar_color": null,
            "_model_module": "@jupyter-widgets/controls"
          }
        },
        "edf5fd21b8bb4bd6b3a89bed4d27f973": {
          "model_module": "@jupyter-widgets/base",
          "model_name": "LayoutModel",
          "state": {
            "_view_name": "LayoutView",
            "grid_template_rows": null,
            "right": null,
            "justify_content": null,
            "_view_module": "@jupyter-widgets/base",
            "overflow": null,
            "_model_module_version": "1.2.0",
            "_view_count": null,
            "flex_flow": null,
            "width": null,
            "min_width": null,
            "border": null,
            "align_items": null,
            "bottom": null,
            "_model_module": "@jupyter-widgets/base",
            "top": null,
            "grid_column": null,
            "overflow_y": null,
            "overflow_x": null,
            "grid_auto_flow": null,
            "grid_area": null,
            "grid_template_columns": null,
            "flex": null,
            "_model_name": "LayoutModel",
            "justify_items": null,
            "grid_row": null,
            "max_height": null,
            "align_content": null,
            "visibility": null,
            "align_self": null,
            "height": null,
            "min_height": null,
            "padding": null,
            "grid_auto_rows": null,
            "grid_gap": null,
            "max_width": null,
            "order": null,
            "_view_module_version": "1.2.0",
            "grid_template_areas": null,
            "object_position": null,
            "object_fit": null,
            "grid_auto_columns": null,
            "margin": null,
            "display": null,
            "left": null
          }
        },
        "d2df8b1d04fa486f86554ae1eea3f893": {
          "model_module": "@jupyter-widgets/controls",
          "model_name": "DescriptionStyleModel",
          "state": {
            "_view_name": "StyleView",
            "_model_name": "DescriptionStyleModel",
            "description_width": "",
            "_view_module": "@jupyter-widgets/base",
            "_model_module_version": "1.5.0",
            "_view_count": null,
            "_view_module_version": "1.2.0",
            "_model_module": "@jupyter-widgets/controls"
          }
        },
        "f3c8816717c84acfbe5cd27a605f9eaa": {
          "model_module": "@jupyter-widgets/base",
          "model_name": "LayoutModel",
          "state": {
            "_view_name": "LayoutView",
            "grid_template_rows": null,
            "right": null,
            "justify_content": null,
            "_view_module": "@jupyter-widgets/base",
            "overflow": null,
            "_model_module_version": "1.2.0",
            "_view_count": null,
            "flex_flow": null,
            "width": null,
            "min_width": null,
            "border": null,
            "align_items": null,
            "bottom": null,
            "_model_module": "@jupyter-widgets/base",
            "top": null,
            "grid_column": null,
            "overflow_y": null,
            "overflow_x": null,
            "grid_auto_flow": null,
            "grid_area": null,
            "grid_template_columns": null,
            "flex": null,
            "_model_name": "LayoutModel",
            "justify_items": null,
            "grid_row": null,
            "max_height": null,
            "align_content": null,
            "visibility": null,
            "align_self": null,
            "height": null,
            "min_height": null,
            "padding": null,
            "grid_auto_rows": null,
            "grid_gap": null,
            "max_width": null,
            "order": null,
            "_view_module_version": "1.2.0",
            "grid_template_areas": null,
            "object_position": null,
            "object_fit": null,
            "grid_auto_columns": null,
            "margin": null,
            "display": null,
            "left": null
          }
        }
      }
    },
    "accelerator": "GPU"
  },
  "cells": [
    {
      "cell_type": "code",
      "metadata": {
        "id": "kPFVCHjcQrEv"
      },
      "source": [
        "!pip install -q py-feat\n",
        "# !pip install -q facial-emotion-recognition\n",
        "# !pip install -q fer\n",
        "# !pip install -q deepface\n",
        "!pip install -q mtcnn"
      ],
      "execution_count": null,
      "outputs": []
    },
    {
      "cell_type": "code",
      "metadata": {
        "id": "Kpu_xoUpRHxW"
      },
      "source": [
        "from google.colab import drive\n",
        "drive.mount('/content/drive')\n",
        "\n",
        "import numpy as np\n",
        "import pandas as pd\n",
        "from feat import Detector\n",
        "import glob\n",
        "import math\n",
        "import dlib\n",
        "import joblib\n",
        "import cv2\n",
        "from tqdm.notebook import tqdm\n",
        "from google.colab.patches import cv2_imshow\n",
        "from collections import Counter\n",
        "from mtcnn import MTCNN"
      ],
      "execution_count": null,
      "outputs": []
    },
    {
      "cell_type": "code",
      "metadata": {
        "id": "H2v82PSkQ0Fu"
      },
      "source": [
        "################ FER\n",
        "# https://github.com/justinshenk/fer\n",
        "# from fer import FER\n",
        "# import operator\n",
        "# # detector = FER()\n",
        "# detector = FER(mtcnn=True)\n",
        "\n",
        "################ DeepFace\n",
        "# from deepface import DeepFace\n",
        "# https://awesomeopensource.com/project/serengil/deepface\n",
        "# obj = DeepFace.analyze(img_path = \"img4.jpg\", actions = ['age', 'gender', 'race', 'emotion'])\n",
        "# print(obj[\"age\"],\" years old \",obj[\"dominant_race\"],\" \",obj[\"dominant_emotion\"],\" \", obj[\"gender\"])\n",
        "\n",
        "################# py-feat\n",
        "# from feat import Detector\n",
        "face_model = \"MTCNN\"\n",
        "landmark_model = \"PFLD\"\n",
        "au_model = \"rf\"\n",
        "emotion_model = \"resmasknet\" #resmasknet,fer, svm, rf\n",
        "detector = Detector(face_model = face_model, landmark_model = landmark_model, au_model = au_model, emotion_model = emotion_model)\n",
        "\n",
        "detector_MTCNN = MTCNN()"
      ],
      "execution_count": null,
      "outputs": []
    },
    {
      "cell_type": "code",
      "metadata": {
        "id": "SWwugvO9mv9k"
      },
      "source": [
        "def cal_mean_std(image):\n",
        "  val = np.reshape(image[:,:,0], -1)\n",
        "  img_mean = np.mean(val)\n",
        "  img_std = np.std(val)\n",
        "  X = np.array([img_mean, img_std]).reshape(1, -1)\n",
        "  return X\n",
        "\n",
        "def my_mode(sample):\n",
        "  c = Counter(sample)\n",
        "  return [k for k, v in c.items() if v == c.most_common(1)[0][1]]"
      ],
      "execution_count": 4,
      "outputs": []
    },
    {
      "cell_type": "markdown",
      "metadata": {
        "id": "bUrNBJdNRUJ8"
      },
      "source": [
        "## ALL STEP IN ONE"
      ]
    },
    {
      "cell_type": "code",
      "metadata": {
        "colab": {
          "base_uri": "https://localhost:8080/"
        },
        "id": "KhlYnFD5T2Vm",
        "outputId": "07d18f81-aab7-4051-d67b-6656661657b4"
      },
      "source": [
        "ls 'drive/MyDrive/file2/files/'"
      ],
      "execution_count": 22,
      "outputs": [
        {
          "output_type": "stream",
          "text": [
            "01_blackping_P1.csv  03_PaeArak_P1.csv  05_pimrypie_tony_P1.csv\n",
            "01_blackping.xlsx    03_PaeArak.xlsx    05_pimrypie_tony.xlsx\n",
            "02_pimrypie_P1.csv   04_one31_P1.csv\n",
            "02_pimrypie.xlsx     04_one31.xlsx\n"
          ],
          "name": "stdout"
        }
      ]
    },
    {
      "cell_type": "code",
      "metadata": {
        "colab": {
          "base_uri": "https://localhost:8080/",
          "height": 1000,
          "referenced_widgets": [
            "726f13ad75ea4b14a4d97bcee7f11ce5",
            "2a4925f5bb7b47d9a705a5bd4ea4e99e",
            "f676bf5375b4412d8ddd58dca2d8f173",
            "23bfa70079454e708c4a31665ad5beab",
            "297c76de3500450a858f5a0b3629f000",
            "edf5fd21b8bb4bd6b3a89bed4d27f973",
            "d2df8b1d04fa486f86554ae1eea3f893",
            "f3c8816717c84acfbe5cd27a605f9eaa"
          ]
        },
        "id": "Qxch2_rrRXwL",
        "outputId": "df11152a-57b4-4206-938a-ebe70a84da91"
      },
      "source": [
        "pred_emotion= []\n",
        "\n",
        "filepath = 'drive/MyDrive/file2/files/05_pimrypie_tony_P1.csv'\n",
        "vdopath = 'drive/MyDrive/file2/vdo/05_pimrypie_tony.mp4'\n",
        "df = pd.read_csv(filepath)\n",
        "\n",
        "rowimg = []\n",
        "label_img = []\n",
        "\n",
        "print('df', df.shape)\n",
        "\n",
        "for i in tqdm(range(df.shape[0])):\n",
        "  seqimg = []\n",
        "  for j in range(df['start_frame'][i], df['end_frame'][i]):\n",
        "    cap = cv2.VideoCapture(vdopath)\n",
        "    cap.set(cv2.CAP_PROP_POS_FRAMES, j)\n",
        "    success, image = cap.read()\n",
        "    scale_percent = 50 \n",
        "    width = int(image.shape[1] * scale_percent / 100)\n",
        "    height = int(image.shape[0] * scale_percent / 100)\n",
        "    dim = (width, height)\n",
        "    resized = cv2.resize(image, dim)\n",
        "\n",
        "    try:\n",
        "      faceimg = detector_MTCNN.detect_faces(resized)\n",
        "      faceimg = faceimg[0]['box']\n",
        "      faceimg =resized[faceimg[1]-30:faceimg[1]+faceimg[3]+30,faceimg[0]-30:faceimg[0]+faceimg[2]+30] #[x, y, width, height]  \n",
        "      # cv2_imshow(faceimg)\n",
        "    except:\n",
        "      try:\n",
        "        faceimg = detect_faces(resized)\n",
        "      except:\n",
        "        print(\"Crop face Error  i = \",i, ' j =', j)\n",
        "\n",
        "    try:\n",
        "      detected_faces = [[0, 0, faceimg.shape[0]-1, faceimg.shape[1]-1, 1]]\n",
        "      detected_landmarks = detector.detect_landmarks(faceimg, detected_faces)\n",
        "      ypred = detector.detect_emotions(faceimg, detected_faces, detected_landmarks)[0]\n",
        "      ypred_arg = np.argmax(ypred)\n",
        "      seqimg.append(ypred_arg) \n",
        "    except:\n",
        "      print(\"Emotion Error  i = \",i, ' j =', j)\n",
        "\n",
        "  seq_label = my_mode(seqimg)\n",
        "  print('i =', i, 'seq_label =', seq_label)\n",
        "  pred_emotion.append(seq_label[0])"
      ],
      "execution_count": null,
      "outputs": [
        {
          "output_type": "stream",
          "text": [
            "df (69, 7)\n"
          ],
          "name": "stdout"
        },
        {
          "output_type": "display_data",
          "data": {
            "application/vnd.jupyter.widget-view+json": {
              "model_id": "726f13ad75ea4b14a4d97bcee7f11ce5",
              "version_minor": 0,
              "version_major": 2
            },
            "text/plain": [
              "HBox(children=(FloatProgress(value=0.0, max=69.0), HTML(value='')))"
            ]
          },
          "metadata": {
            "tags": []
          }
        },
        {
          "output_type": "stream",
          "text": [
            "i = 0 seq_label = [1, 6]\n",
            "i = 1 seq_label = [6]\n",
            "Emotion Error  i =  2  j = 771\n",
            "Emotion Error  i =  2  j = 772\n",
            "Emotion Error  i =  2  j = 773\n",
            "Emotion Error  i =  2  j = 775\n",
            "Crop face Error  i =  2  j = 832\n",
            "Emotion Error  i =  2  j = 832\n",
            "Crop face Error  i =  2  j = 833\n",
            "Emotion Error  i =  2  j = 833\n",
            "Crop face Error  i =  2  j = 834\n",
            "Emotion Error  i =  2  j = 834\n",
            "Crop face Error  i =  2  j = 835\n",
            "Emotion Error  i =  2  j = 835\n",
            "Crop face Error  i =  2  j = 836\n",
            "Emotion Error  i =  2  j = 836\n",
            "Crop face Error  i =  2  j = 837\n",
            "Emotion Error  i =  2  j = 837\n",
            "Crop face Error  i =  2  j = 838\n",
            "Emotion Error  i =  2  j = 838\n",
            "Crop face Error  i =  2  j = 839\n",
            "Emotion Error  i =  2  j = 839\n",
            "Crop face Error  i =  2  j = 840\n",
            "Emotion Error  i =  2  j = 840\n",
            "Crop face Error  i =  2  j = 841\n",
            "Emotion Error  i =  2  j = 841\n",
            "Crop face Error  i =  2  j = 842\n",
            "Emotion Error  i =  2  j = 842\n",
            "Crop face Error  i =  2  j = 843\n",
            "Emotion Error  i =  2  j = 843\n",
            "Crop face Error  i =  2  j = 844\n",
            "Emotion Error  i =  2  j = 844\n",
            "Crop face Error  i =  2  j = 845\n",
            "Emotion Error  i =  2  j = 845\n",
            "Crop face Error  i =  2  j = 846\n",
            "Emotion Error  i =  2  j = 846\n",
            "Crop face Error  i =  2  j = 847\n",
            "Emotion Error  i =  2  j = 847\n",
            "Crop face Error  i =  2  j = 848\n",
            "Emotion Error  i =  2  j = 848\n",
            "Crop face Error  i =  2  j = 849\n",
            "Emotion Error  i =  2  j = 849\n",
            "Crop face Error  i =  2  j = 850\n",
            "Emotion Error  i =  2  j = 850\n",
            "Crop face Error  i =  2  j = 851\n",
            "Emotion Error  i =  2  j = 851\n",
            "Crop face Error  i =  2  j = 852\n",
            "Emotion Error  i =  2  j = 852\n",
            "Crop face Error  i =  2  j = 853\n",
            "Emotion Error  i =  2  j = 853\n",
            "Crop face Error  i =  2  j = 854\n",
            "Emotion Error  i =  2  j = 854\n",
            "Crop face Error  i =  2  j = 855\n",
            "Emotion Error  i =  2  j = 855\n",
            "Crop face Error  i =  2  j = 856\n",
            "Emotion Error  i =  2  j = 856\n",
            "Crop face Error  i =  2  j = 857\n",
            "Emotion Error  i =  2  j = 857\n",
            "Crop face Error  i =  2  j = 858\n",
            "Emotion Error  i =  2  j = 858\n",
            "Crop face Error  i =  2  j = 859\n",
            "Emotion Error  i =  2  j = 859\n",
            "Crop face Error  i =  2  j = 860\n",
            "Emotion Error  i =  2  j = 860\n",
            "Crop face Error  i =  2  j = 861\n",
            "Emotion Error  i =  2  j = 861\n",
            "Crop face Error  i =  2  j = 862\n",
            "Emotion Error  i =  2  j = 862\n",
            "Crop face Error  i =  2  j = 863\n",
            "Emotion Error  i =  2  j = 863\n",
            "Crop face Error  i =  2  j = 864\n",
            "Emotion Error  i =  2  j = 864\n",
            "Crop face Error  i =  2  j = 865\n",
            "Emotion Error  i =  2  j = 865\n",
            "Crop face Error  i =  2  j = 866\n",
            "Emotion Error  i =  2  j = 866\n",
            "Crop face Error  i =  2  j = 867\n",
            "Emotion Error  i =  2  j = 867\n",
            "Crop face Error  i =  2  j = 868\n",
            "Emotion Error  i =  2  j = 868\n",
            "Crop face Error  i =  2  j = 869\n",
            "Emotion Error  i =  2  j = 869\n",
            "Crop face Error  i =  2  j = 870\n",
            "Emotion Error  i =  2  j = 870\n",
            "Crop face Error  i =  2  j = 871\n",
            "Emotion Error  i =  2  j = 871\n",
            "Crop face Error  i =  2  j = 872\n",
            "Emotion Error  i =  2  j = 872\n",
            "Crop face Error  i =  2  j = 873\n",
            "Emotion Error  i =  2  j = 873\n",
            "Crop face Error  i =  2  j = 874\n",
            "Emotion Error  i =  2  j = 874\n",
            "Crop face Error  i =  2  j = 875\n",
            "Emotion Error  i =  2  j = 875\n",
            "Crop face Error  i =  2  j = 876\n",
            "Emotion Error  i =  2  j = 876\n",
            "Crop face Error  i =  2  j = 877\n",
            "Emotion Error  i =  2  j = 877\n",
            "Crop face Error  i =  2  j = 878\n",
            "Emotion Error  i =  2  j = 878\n",
            "Crop face Error  i =  2  j = 879\n",
            "Emotion Error  i =  2  j = 879\n",
            "i = 2 seq_label = [3]\n",
            "Emotion Error  i =  3  j = 1443\n",
            "Emotion Error  i =  3  j = 1448\n",
            "i = 3 seq_label = [6]\n",
            "Emotion Error  i =  4  j = 1796\n",
            "Emotion Error  i =  4  j = 1797\n",
            "Emotion Error  i =  4  j = 1798\n",
            "Emotion Error  i =  4  j = 1800\n",
            "Emotion Error  i =  4  j = 1801\n",
            "i = 4 seq_label = [6]\n",
            "i = 5 seq_label = [1]\n",
            "i = 6 seq_label = [1]\n",
            "Emotion Error  i =  7  j = 2151\n",
            "Emotion Error  i =  7  j = 2152\n",
            "Emotion Error  i =  7  j = 2153\n",
            "i = 7 seq_label = [6]\n",
            "Emotion Error  i =  8  j = 2218\n",
            "Emotion Error  i =  8  j = 2219\n"
          ],
          "name": "stdout"
        }
      ]
    },
    {
      "cell_type": "code",
      "metadata": {
        "id": "FGVa4i0rPLgf"
      },
      "source": [
        "dic_resmask =  {0:'anger',1:'disgust', 2:'fear', 3:'happiness',4:'sadness',\t5:'surprise',\t6:'neutral' }\n",
        "# dic_kagle =  {0:'anger',1:'disgust', 2:'fear', 3:'happiness',4:'sadness',\t5:'surprise',\t6:'neutral' }\n",
        "# dic_ckplus =  {1:'anger',3:'disgust', 4:'fear', 5:'happiness',6:'sadness',\t7:'surprise'}\n",
        "# dic_fer_svm_rf =  {0:'anger',1:'disgust', 2:'fear', 3:'happiness',4:'sadness',\t5:'surprise',\t6:'neutral' }\n",
        "# dic_fer_svm_rf =  {0:'anger',1:'disgust', 2:'fear', 3:'happiness',4:'sadness',\t5:'surprise',\t6:'neutral' }\n",
        "# dic_Deepfake =  {0:'anger',1:'fear', 2:'neutral', 3:'sad',4:'disgust',\t5:'happy',\t6:'surprise' }\n",
        "\n",
        "pred = pd.DataFrame({'Pred':pred_emotion})\n",
        "pred['emotion'] = pred['Pred'].replace(dic_resmask) \n",
        "result = pd.concat([df, pred], axis=1, join=\"inner\")\n",
        "\n",
        "from google.colab import files\n",
        "result.to_csv('05_pimrypie_tony_R1.csv') \n",
        "files.download('05_pimrypie_tony_R1.csv')"
      ],
      "execution_count": 15,
      "outputs": []
    },
    {
      "cell_type": "code",
      "metadata": {
        "id": "B1TQ1XKAUr_N"
      },
      "source": [
        "while True:pass"
      ],
      "execution_count": null,
      "outputs": []
    },
    {
      "cell_type": "code",
      "metadata": {
        "colab": {
          "base_uri": "https://localhost:8080/",
          "height": 571
        },
        "id": "4lhqjeIqtLUN",
        "outputId": "fcf17b93-ecca-45d2-9142-7571da81e861"
      },
      "source": [
        "from sklearn import metrics\n",
        "from sklearn.metrics import confusion_matrix\n",
        "import seaborn as sns; sns.set()\n",
        "import matplotlib.pyplot as plt\n",
        "%matplotlib inline\n",
        "import seaborn as sns\n",
        "from sklearn.metrics import confusion_matrix\n",
        "\n",
        "\n",
        "\n",
        "def plot_confus(pred_lable, truelable):\n",
        "  print(metrics.classification_report(pred_lable, truelable))\n",
        "  print('Accuracy: ',metrics.accuracy_score(truelable, pred_lable))\n",
        "\n",
        "  mat = confusion_matrix(truelable, pred_lable)\n",
        "  sns.heatmap(mat.T, square=True, annot=True, fmt='d', cmap=\"YlGnBu\")\n",
        "  # tick_marks = np.arange(len(target_names))\n",
        "  # plt.xticks(tick_marks, target_names, rotation ='vertical', ha='center')\n",
        "  # plt.yticks(tick_marks, target_names, rotation ='horizontal', ha='center')\n",
        "  plt.xlabel('true label')\n",
        "  plt.ylabel('predicted label'); \n",
        "\n",
        "plot_confus(df['pred'], df['label'])"
      ],
      "execution_count": null,
      "outputs": [
        {
          "output_type": "stream",
          "text": [
            "/usr/local/lib/python3.7/dist-packages/sklearn/metrics/_classification.py:1272: UndefinedMetricWarning: Recall and F-score are ill-defined and being set to 0.0 in labels with no true samples. Use `zero_division` parameter to control this behavior.\n",
            "  _warn_prf(average, modifier, msg_start, len(result))\n"
          ],
          "name": "stderr"
        },
        {
          "output_type": "stream",
          "text": [
            "              precision    recall  f1-score   support\n",
            "\n",
            "           0       0.00      0.00      0.00         0\n",
            "           3       0.94      0.21      0.34        76\n",
            "           4       0.00      0.00      0.00         1\n",
            "           5       0.00      0.00      0.00         0\n",
            "           6       0.00      0.00      0.00         0\n",
            "\n",
            "    accuracy                           0.21        77\n",
            "   macro avg       0.19      0.04      0.07        77\n",
            "weighted avg       0.93      0.21      0.34        77\n",
            "\n",
            "Accuracy:  0.2077922077922078\n"
          ],
          "name": "stdout"
        },
        {
          "output_type": "display_data",
          "data": {
            "image/png": "[encoded data removed]",
            "text/plain": [
              "<Figure size 432x288 with 2 Axes>"
            ]
          },
          "metadata": {
            "tags": []
          }
        }
      ]
    }
  ]
}