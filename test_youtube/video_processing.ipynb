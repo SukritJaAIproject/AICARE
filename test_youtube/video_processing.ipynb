{
  "nbformat": 4,
  "nbformat_minor": 0,
  "metadata": {
    "colab": {
      "name": "video_processing.ipynb",
      "provenance": [],
      "collapsed_sections": []
    },
    "kernelspec": {
      "name": "python3",
      "display_name": "Python 3"
    },
    "language_info": {
      "name": "python"
    }
  },
  "cells": [
    {
      "cell_type": "code",
      "metadata": {
        "id": "VsdJUYPkYTb1"
      },
      "source": [
        "import cv2"
      ],
      "execution_count": null,
      "outputs": []
    },
    {
      "cell_type": "code",
      "metadata": {
        "colab": {
          "base_uri": "https://localhost:8080/"
        },
        "id": "OdjWbGZTY0Dm",
        "outputId": "052265ea-5567-465a-e127-c295d700fd63"
      },
      "source": [
        "from google.colab import drive\n",
        "drive.mount('/content/drive')"
      ],
      "execution_count": 2,
      "outputs": [
        {
          "output_type": "stream",
          "text": [
            "Mounted at /content/drive\n"
          ],
          "name": "stdout"
        }
      ]
    },
    {
      "cell_type": "code",
      "metadata": {
        "colab": {
          "base_uri": "https://localhost:8080/"
        },
        "id": "cNms9W7-ZJB7",
        "outputId": "d411a83f-3358-4952-b576-3254c011d674"
      },
      "source": [
        "ls 'drive/MyDrive/AIHealthcare/AIcare_Phrase1/data/season2/file_v1/videos'"
      ],
      "execution_count": 11,
      "outputs": [
        {
          "output_type": "stream",
          "text": [
            "face10_01.mp4  face5_01.mp4  face6_02.mp4  face9_2.mp4\n",
            "face10_02.mp4  face5_02.mp4  face7_01.mp4  face9_3.mp4\n",
            "face2_01.mp4   face5_03.mp4  face7_02.mp4  face9_4.mp4\n",
            "face2_02.mp4   face6_01.mp4  face9_1.mp4   face9_5.mp4\n"
          ],
          "name": "stdout"
        }
      ]
    },
    {
      "cell_type": "code",
      "metadata": {
        "colab": {
          "base_uri": "https://localhost:8080/"
        },
        "id": "sw62zqTXYtSB",
        "outputId": "69f0518e-9e37-470b-95be-bd427c5948ba"
      },
      "source": [
        "# https://stackoverflow.com/questions/33650974/opencv-python-read-specific-frame-using-videocapture\n",
        "# Set a specific frame\n",
        "# frame = 15\n",
        "# cap.set(cv2.CAP_PROP_POS_FRAMES, frame-1)\n",
        "\n",
        "cap = cv2.VideoCapture('drive/MyDrive/AIHealthcare/AIcare_Phrase1/data/season2/file_v1/videos/face9_5.mp4')\n",
        "# Get the frames per second\n",
        "fps = cap.get(cv2.CAP_PROP_FPS) \n",
        "print('fps', fps)\n",
        "\n",
        "# Get the total numer of frames in the video.\n",
        "frame_count = cap.get(cv2.CAP_PROP_FRAME_COUNT)\n",
        "print('frame_count', frame_count)\n",
        "\n",
        "frame_number = 0\n",
        "cap.set(cv2.CAP_PROP_POS_FRAMES, frame_number) # optional\n",
        "success, image = cap.read()\n",
        "\n",
        "# while success and frame_number <= frame_count:\n",
        "\n",
        "#     # do stuff\n",
        "\n",
        "#     frame_number += fps\n",
        "#     cap.set(cv2.CAP_PROP_POS_FRAMES, frame_number)\n",
        "#     success, image = cap.read()"
      ],
      "execution_count": 15,
      "outputs": [
        {
          "output_type": "stream",
          "text": [
            "fps 25.0\n",
            "frame_count 8864.0\n"
          ],
          "name": "stdout"
        }
      ]
    },
    {
      "cell_type": "code",
      "metadata": {
        "colab": {
          "base_uri": "https://localhost:8080/"
        },
        "id": "7a45-iasYzAh",
        "outputId": "b0c9144c-2684-44c6-b6d2-277fc719ba6d"
      },
      "source": [
        "# https://stackoverflow.com/questions/33650974/opencv-python-read-specific-frame-using-videocapture\n",
        "# Set a specific time\n",
        "# milliseconds = 1000\n",
        "# cap.set(cv2.CAP_PROP_POS_MSEC, milliseconds)\n",
        "\n",
        "import cv2\n",
        "cap = cv2.VideoCapture('drive/MyDrive/AIHealthcare/AIcare_Phrase1/data/season2/file_v1/videos/face10_01.mp4')\n",
        "\n",
        "# Get the frames per second\n",
        "fps = cap.get(cv2.CAP_PROP_FPS) \n",
        "print('FPS', fps)\n",
        "\n",
        "# Get the total numer of frames in the video.\n",
        "frame_count = cap.get(cv2.CAP_PROP_FRAME_COUNT)\n",
        "print('frame_count', frame_count)\n",
        "\n",
        "# Calculate the duration of the video in seconds\n",
        "duration = frame_count / fps\n",
        "print('duration', duration)\n",
        "\n",
        "second = 0\n",
        "cap.set(cv2.CAP_PROP_POS_MSEC, second * 1000) # optional\n",
        "success, image = cap.read()\n",
        "\n",
        "# while success and second <= duration:\n",
        "\n",
        "#     # do stuff\n",
        "\n",
        "#     second += 1\n",
        "#     cap.set(cv2.CAP_PROP_POS_MSEC, second * 1000)\n",
        "#     success, image = cap.read()"
      ],
      "execution_count": 18,
      "outputs": [
        {
          "output_type": "stream",
          "text": [
            "FPS 25.0\n",
            "frame_count 27503.0\n",
            "duration 1100.12\n"
          ],
          "name": "stdout"
        }
      ]
    },
    {
      "cell_type": "code",
      "metadata": {
        "id": "9-7JrKeiby1j"
      },
      "source": [
        "# https://www.programmersought.com/article/33055054585/"
      ],
      "execution_count": null,
      "outputs": []
    }
  ]
}