{
  "nbformat": 4,
  "nbformat_minor": 0,
  "metadata": {
    "colab": {
      "name": "KSE2021_data_prepare_v2.ipynb",
      "provenance": [],
      "collapsed_sections": []
    },
    "kernelspec": {
      "name": "python3",
      "display_name": "Python 3"
    },
    "language_info": {
      "name": "python"
    },
    "accelerator": "GPU",
    "widgets": {
      "application/vnd.jupyter.widget-state+json": {
        "55a5740dea6e41f5aab1a96ce45a9583": {
          "model_module": "@jupyter-widgets/controls",
          "model_name": "HBoxModel",
          "state": {
            "_view_name": "HBoxView",
            "_dom_classes": [],
            "_model_name": "HBoxModel",
            "_view_module": "@jupyter-widgets/controls",
            "_model_module_version": "1.5.0",
            "_view_count": null,
            "_view_module_version": "1.5.0",
            "box_style": "",
            "layout": "IPY_MODEL_0f2fb31abd9245f29b338f6b0b67b95f",
            "_model_module": "@jupyter-widgets/controls",
            "children": [
              "IPY_MODEL_1b7edc19b1204b2785f311dd9f7722af",
              "IPY_MODEL_8ab3e2c5d4084dee92db50a0a2d46851"
            ]
          }
        },
        "0f2fb31abd9245f29b338f6b0b67b95f": {
          "model_module": "@jupyter-widgets/base",
          "model_name": "LayoutModel",
          "state": {
            "_view_name": "LayoutView",
            "grid_template_rows": null,
            "right": null,
            "justify_content": null,
            "_view_module": "@jupyter-widgets/base",
            "overflow": null,
            "_model_module_version": "1.2.0",
            "_view_count": null,
            "flex_flow": null,
            "width": null,
            "min_width": null,
            "border": null,
            "align_items": null,
            "bottom": null,
            "_model_module": "@jupyter-widgets/base",
            "top": null,
            "grid_column": null,
            "overflow_y": null,
            "overflow_x": null,
            "grid_auto_flow": null,
            "grid_area": null,
            "grid_template_columns": null,
            "flex": null,
            "_model_name": "LayoutModel",
            "justify_items": null,
            "grid_row": null,
            "max_height": null,
            "align_content": null,
            "visibility": null,
            "align_self": null,
            "height": null,
            "min_height": null,
            "padding": null,
            "grid_auto_rows": null,
            "grid_gap": null,
            "max_width": null,
            "order": null,
            "_view_module_version": "1.2.0",
            "grid_template_areas": null,
            "object_position": null,
            "object_fit": null,
            "grid_auto_columns": null,
            "margin": null,
            "display": null,
            "left": null
          }
        },
        "1b7edc19b1204b2785f311dd9f7722af": {
          "model_module": "@jupyter-widgets/controls",
          "model_name": "FloatProgressModel",
          "state": {
            "_view_name": "ProgressView",
            "style": "IPY_MODEL_3f3d3d8e5a2d4b3b93185c0c8c643e8c",
            "_dom_classes": [],
            "description": "  0%",
            "_model_name": "FloatProgressModel",
            "bar_style": "",
            "max": 152,
            "_view_module": "@jupyter-widgets/controls",
            "_model_module_version": "1.5.0",
            "value": 0,
            "_view_count": null,
            "_view_module_version": "1.5.0",
            "orientation": "horizontal",
            "min": 0,
            "description_tooltip": null,
            "_model_module": "@jupyter-widgets/controls",
            "layout": "IPY_MODEL_01beb1ffcaea44b8b11d058b7f57cfe1"
          }
        },
        "8ab3e2c5d4084dee92db50a0a2d46851": {
          "model_module": "@jupyter-widgets/controls",
          "model_name": "HTMLModel",
          "state": {
            "_view_name": "HTMLView",
            "style": "IPY_MODEL_8dbefe5255a04209bec769535e93fd5d",
            "_dom_classes": [],
            "description": "",
            "_model_name": "HTMLModel",
            "placeholder": "​",
            "_view_module": "@jupyter-widgets/controls",
            "_model_module_version": "1.5.0",
            "value": " 0/152 [00:00&lt;?, ?it/s]",
            "_view_count": null,
            "_view_module_version": "1.5.0",
            "description_tooltip": null,
            "_model_module": "@jupyter-widgets/controls",
            "layout": "IPY_MODEL_0df7b091f5ac49b4a7265d0f4a4214be"
          }
        },
        "3f3d3d8e5a2d4b3b93185c0c8c643e8c": {
          "model_module": "@jupyter-widgets/controls",
          "model_name": "ProgressStyleModel",
          "state": {
            "_view_name": "StyleView",
            "_model_name": "ProgressStyleModel",
            "description_width": "initial",
            "_view_module": "@jupyter-widgets/base",
            "_model_module_version": "1.5.0",
            "_view_count": null,
            "_view_module_version": "1.2.0",
            "bar_color": null,
            "_model_module": "@jupyter-widgets/controls"
          }
        },
        "01beb1ffcaea44b8b11d058b7f57cfe1": {
          "model_module": "@jupyter-widgets/base",
          "model_name": "LayoutModel",
          "state": {
            "_view_name": "LayoutView",
            "grid_template_rows": null,
            "right": null,
            "justify_content": null,
            "_view_module": "@jupyter-widgets/base",
            "overflow": null,
            "_model_module_version": "1.2.0",
            "_view_count": null,
            "flex_flow": null,
            "width": null,
            "min_width": null,
            "border": null,
            "align_items": null,
            "bottom": null,
            "_model_module": "@jupyter-widgets/base",
            "top": null,
            "grid_column": null,
            "overflow_y": null,
            "overflow_x": null,
            "grid_auto_flow": null,
            "grid_area": null,
            "grid_template_columns": null,
            "flex": null,
            "_model_name": "LayoutModel",
            "justify_items": null,
            "grid_row": null,
            "max_height": null,
            "align_content": null,
            "visibility": null,
            "align_self": null,
            "height": null,
            "min_height": null,
            "padding": null,
            "grid_auto_rows": null,
            "grid_gap": null,
            "max_width": null,
            "order": null,
            "_view_module_version": "1.2.0",
            "grid_template_areas": null,
            "object_position": null,
            "object_fit": null,
            "grid_auto_columns": null,
            "margin": null,
            "display": null,
            "left": null
          }
        },
        "8dbefe5255a04209bec769535e93fd5d": {
          "model_module": "@jupyter-widgets/controls",
          "model_name": "DescriptionStyleModel",
          "state": {
            "_view_name": "StyleView",
            "_model_name": "DescriptionStyleModel",
            "description_width": "",
            "_view_module": "@jupyter-widgets/base",
            "_model_module_version": "1.5.0",
            "_view_count": null,
            "_view_module_version": "1.2.0",
            "_model_module": "@jupyter-widgets/controls"
          }
        },
        "0df7b091f5ac49b4a7265d0f4a4214be": {
          "model_module": "@jupyter-widgets/base",
          "model_name": "LayoutModel",
          "state": {
            "_view_name": "LayoutView",
            "grid_template_rows": null,
            "right": null,
            "justify_content": null,
            "_view_module": "@jupyter-widgets/base",
            "overflow": null,
            "_model_module_version": "1.2.0",
            "_view_count": null,
            "flex_flow": null,
            "width": null,
            "min_width": null,
            "border": null,
            "align_items": null,
            "bottom": null,
            "_model_module": "@jupyter-widgets/base",
            "top": null,
            "grid_column": null,
            "overflow_y": null,
            "overflow_x": null,
            "grid_auto_flow": null,
            "grid_area": null,
            "grid_template_columns": null,
            "flex": null,
            "_model_name": "LayoutModel",
            "justify_items": null,
            "grid_row": null,
            "max_height": null,
            "align_content": null,
            "visibility": null,
            "align_self": null,
            "height": null,
            "min_height": null,
            "padding": null,
            "grid_auto_rows": null,
            "grid_gap": null,
            "max_width": null,
            "order": null,
            "_view_module_version": "1.2.0",
            "grid_template_areas": null,
            "object_position": null,
            "object_fit": null,
            "grid_auto_columns": null,
            "margin": null,
            "display": null,
            "left": null
          }
        }
      }
    }
  },
  "cells": [
    {
      "cell_type": "code",
      "metadata": {
        "id": "4bysocSX5GkQ"
      },
      "source": [
        "import cv2\n",
        "import pandas as pd\n",
        "import numpy as np\n",
        "from tqdm.notebook import tqdm\n",
        "from shutil import copyfile, copy\n",
        "from google.colab.patches import cv2_imshow"
      ],
      "execution_count": 1,
      "outputs": []
    },
    {
      "cell_type": "code",
      "metadata": {
        "colab": {
          "base_uri": "https://localhost:8080/"
        },
        "id": "saYYJ4UzjYkO",
        "outputId": "4c9be646-f85e-4645-8153-c219614cfa8f"
      },
      "source": [
        "!pip install -q py-feat"
      ],
      "execution_count": 2,
      "outputs": [
        {
          "output_type": "stream",
          "text": [
            "\u001b[K     |████████████████████████████████| 6.0MB 24.2MB/s \n",
            "\u001b[K     |████████████████████████████████| 3.3MB 46.1MB/s \n",
            "\u001b[K     |████████████████████████████████| 57.4MB 51kB/s \n",
            "\u001b[K     |████████████████████████████████| 4.9MB 58.5MB/s \n",
            "\u001b[?25h  Building wheel for py-feat (setup.py) ... \u001b[?25l\u001b[?25hdone\n"
          ],
          "name": "stdout"
        }
      ]
    },
    {
      "cell_type": "code",
      "metadata": {
        "id": "g4cyGVcxjXf9",
        "colab": {
          "base_uri": "https://localhost:8080/"
        },
        "outputId": "34d886db-ad98-4b40-8463-d180662f57f1"
      },
      "source": [
        "from google.colab import drive\n",
        "drive.mount('/content/drive')"
      ],
      "execution_count": 3,
      "outputs": [
        {
          "output_type": "stream",
          "text": [
            "Mounted at /content/drive\n"
          ],
          "name": "stdout"
        }
      ]
    },
    {
      "cell_type": "code",
      "metadata": {
        "id": "lI1FgbpAXtdc"
      },
      "source": [
        "from feat import Detector\n",
        "face_model = \"RetinaFace\"\n",
        "landmark_model = \"MobileNet\"\n",
        "au_model = \"svm\"\n",
        "emotion_model = \"resmasknet\" #resmasknet,fer, svm, rf\n",
        "detector = Detector(face_model = face_model, landmark_model = landmark_model, au_model = au_model, emotion_model = emotion_model)"
      ],
      "execution_count": null,
      "outputs": []
    },
    {
      "cell_type": "code",
      "metadata": {
        "id": "ZbjLkljncnhR"
      },
      "source": [
        "dict1 = {0:'AU01',1:'AU02', 2:'AU04', 3:'AU05', 4:'AU06', 5:'AU07', 6:'AU09', 7:'AU10', 8:'AU12',\n",
        "         9:'AU14',10:'AU15', 11:'AU17', 12:'AU20', 13:'AU23',14:'AU25',15:'AU26',16:'AU28',17:'AU45'}\n",
        "# dict1[16]"
      ],
      "execution_count": 8,
      "outputs": []
    },
    {
      "cell_type": "code",
      "metadata": {
        "colab": {
          "base_uri": "https://localhost:8080/"
        },
        "id": "xqP8-AjmCQme",
        "outputId": "dc27cd03-3bcf-4633-c64f-0db2a0a27482"
      },
      "source": [
        "ls 'drive/MyDrive/AIHealthcare/AIcare_Phrase1/data/audataset/files'"
      ],
      "execution_count": 4,
      "outputs": [
        {
          "output_type": "stream",
          "text": [
            "01_002_FAUS_Isaree.csv     02_016_FAUS_Wachiraya.csv  03_31_FAUS_manaporn.csv\n",
            "01_002_FAUS_Wachiraya.csv  02_14_FAUS_anongrat.csv    03_98_FAUS_Krittika.csv\n",
            "01_02_FAUS_anongrat.csv    02_186_FAUS_Isaree.csv     04_40_FAUS_anongrat.csv\n",
            "01_02_FAUS_Jiratchaya.csv  02_21_FAUS_manaporn.csv    04_41_FAUS_manaporn.csv\n",
            "01_02_FAUS_Kittiya.csv     02_59_FAUS_Krittika.csv    05_55_FAUS_anongrat.csv\n",
            "01_02_FAUS_Krittika.csv    02_68_FAUS_Monsrung.csv    05_83_FAUS_manaporn.csv\n",
            "01_02_FAUS_manaporn.csv    02_72_FAUS_Kittiya.csv     06_81_FAUS_anongrat.csv\n",
            "01_02_FAUS_Monsrung.csv    03_152_FAUS_Wachiraya.csv\n",
            "01_02_FAUS_Punnama.csv     03_29_FAUS_anongrat.csv\n"
          ],
          "name": "stdout"
        }
      ]
    },
    {
      "cell_type": "code",
      "metadata": {
        "colab": {
          "base_uri": "https://localhost:8080/"
        },
        "id": "vIo4t1P0EHaQ",
        "outputId": "321a7f5a-8747-4c7a-9db3-1369b4bd6f71"
      },
      "source": [
        "ls 'drive/MyDrive/file2/vdo/Wachiraya/01_mintchyy.mp4'"
      ],
      "execution_count": 11,
      "outputs": [
        {
          "output_type": "stream",
          "text": [
            "drive/MyDrive/file2/vdo/Wachiraya/01_mintchyy.mp4\n"
          ],
          "name": "stdout"
        }
      ]
    },
    {
      "cell_type": "code",
      "metadata": {
        "colab": {
          "base_uri": "https://localhost:8080/"
        },
        "id": "INj2MmaNVZDk",
        "outputId": "986c603b-dac9-46b9-9074-14fd5c7a1e83"
      },
      "source": [
        "ls 'drive/MyDrive/file2/done/'"
      ],
      "execution_count": 6,
      "outputs": [
        {
          "output_type": "stream",
          "text": [
            "face2_01_KARNMAY_P1.csv          face5_03_clubfriday.xlsx\n",
            "face2_01_KARNMAY.xlsx            face6_01_mintchyy_ep2_P1.csv\n",
            "face2_02_Kemisara_P1.csv         face6_01_mintchyy_ep2.xlsx\n",
            "face2_02_Kemisara.xlsx           face6_02_Babyjingko_P1.csv\n",
            "face5_01_jaysbabyfood_P1.csv     face6_02_Babyjingko.xlsx\n",
            "face5_01_jaysbabyfood_P1.gsheet  face7_01_mintchyy_QA_100_P1.csv\n",
            "face5_01_jaysbabyfood.xlsx       face7_01_mintchyy_QA_100.xlsx\n",
            "face5_02_gssspotted_P1.csv       face_7_2_01_thematter_P1.csv\n",
            "face5_02_gssspotted.xlsx         face_7_2_01_thematter.xlsx\n",
            "face5_03_clubfriday_P1.csv       \u001b[0m\u001b[01;34mold\u001b[0m/\n"
          ],
          "name": "stdout"
        }
      ]
    },
    {
      "cell_type": "code",
      "metadata": {
        "colab": {
          "base_uri": "https://localhost:8080/",
          "height": 66,
          "referenced_widgets": [
            "55a5740dea6e41f5aab1a96ce45a9583",
            "0f2fb31abd9245f29b338f6b0b67b95f",
            "1b7edc19b1204b2785f311dd9f7722af",
            "8ab3e2c5d4084dee92db50a0a2d46851",
            "3f3d3d8e5a2d4b3b93185c0c8c643e8c",
            "01beb1ffcaea44b8b11d058b7f57cfe1",
            "8dbefe5255a04209bec769535e93fd5d",
            "0df7b091f5ac49b4a7265d0f4a4214be"
          ]
        },
        "id": "VYX-bIInBNmg",
        "outputId": "e975e631-21d8-450d-b3d3-78b737b16000"
      },
      "source": [
        "pred_emotion= []\n",
        "filepath_frame = 'drive/MyDrive/file2/done/face7_01_mintchyy_QA_100_P1.csv'\n",
        "filepath_au = 'drive/MyDrive/AIHealthcare/AIcare_Phrase1/data/audataset/files/01_002_FAUS_Wachiraya.csv'\n",
        "vdopath = 'drive/MyDrive/file2/vdo/Wachiraya/01_mintchyy.mp4'\n",
        "\n",
        "df = pd.read_csv(filepath_frame)\n",
        "dfau = pd.read_csv(filepath_au)[['frame',' AU01_c', ' AU02_c', ' AU04_c', ' AU05_c', ' AU06_c', ' AU07_c',\n",
        "                            ' AU09_c', ' AU10_c', ' AU12_c', ' AU14_c', ' AU15_c', ' AU17_c',' AU20_c',\n",
        "                            ' AU23_c', ' AU25_c', ' AU26_c', ' AU28_c', ' AU45_c']]\n",
        "                            \n",
        "dim = (224, 224)\n",
        "rowimg = []\n",
        "label_img = []\n",
        "filename = 'lab.png'\n",
        "print('df', df.shape)\n",
        "\n",
        "for i in tqdm(range(df.shape[0])):\n",
        "  seqimg = []\n",
        "  for j in range(df['start_frame'][i], df['end_frame'][i],3):\n",
        "    cap = cv2.VideoCapture(vdopath)\n",
        "    cap.set(cv2.CAP_PROP_POS_FRAMES, j)\n",
        "    success, image = cap.read()\n",
        "    faceimg = detector.detect_faces(image)\n",
        "    try:\n",
        "      pos = faceimg[0][:4]\n",
        "      cropimg =image[int(pos[1]):int(pos[3]),int(pos[0]):int(pos[2])] \n",
        "      resized = cv2.resize(cropimg, dim, interpolation=cv2.INTER_CUBIC)     \n",
        "      dfsm = dfau.loc[dfau['frame'] == dfau['frame'][j]]\n",
        "      dfsm = dfsm.drop('frame', axis=1)\n",
        "      dfsm = dfsm.values\n",
        "      # print(dfsm[0])\n",
        "      idxs = np.where(dfsm[0] == 1)[0]\n",
        "      for idx in range(idxs.shape[0]):\n",
        "        # print(idxs[idx])\n",
        "        # print(dict1[idxs[idx]])\n",
        "        cv2.imwrite(filename, resized)\n",
        "        FAUS = dict1[idxs[idx]]\n",
        "        dst = 'AU_'+str(i)+'_'+str(j)+'_'+FAUS+'.png'\n",
        "        terminal_path = \"drive/MyDrive/AIHealthcare/AIcare_Phrase1/data/FAUS_lab/{0}/{1}\".format(FAUS, dst)\n",
        "        copyfile('/content/lab.png', terminal_path)\n",
        "    except:\n",
        "      pass"
      ],
      "execution_count": null,
      "outputs": [
        {
          "output_type": "stream",
          "text": [
            "df (152, 8)\n"
          ],
          "name": "stdout"
        },
        {
          "output_type": "display_data",
          "data": {
            "application/vnd.jupyter.widget-view+json": {
              "model_id": "55a5740dea6e41f5aab1a96ce45a9583",
              "version_minor": 0,
              "version_major": 2
            },
            "text/plain": [
              "HBox(children=(FloatProgress(value=0.0, max=152.0), HTML(value='')))"
            ]
          },
          "metadata": {
            "tags": []
          }
        }
      ]
    }
  ]
}