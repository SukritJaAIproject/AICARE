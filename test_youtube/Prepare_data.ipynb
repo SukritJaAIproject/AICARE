{
  "nbformat": 4,
  "nbformat_minor": 0,
  "metadata": {
    "accelerator": "GPU",
    "colab": {
      "name": "Copy_of_Testing_r1.ipynb",
      "provenance": [],
      "collapsed_sections": []
    },
    "kernelspec": {
      "display_name": "Python 3",
      "name": "python3"
    },
    "language_info": {
      "name": "python"
    }
  },
  "cells": [
    {
      "cell_type": "code",
      "metadata": {
        "colab": {
          "base_uri": "https://localhost:8080/"
        },
        "id": "FhNIXvzlgAex",
        "outputId": "2695b3ae-df9a-483a-e0e0-5a774b0d1b1a"
      },
      "source": [
        "from google.colab import drive\n",
        "drive.mount('/content/drive')"
      ],
      "execution_count": null,
      "outputs": [
        {
          "output_type": "stream",
          "text": [
            "Mounted at /content/drive\n"
          ],
          "name": "stdout"
        }
      ]
    },
    {
      "cell_type": "code",
      "metadata": {
        "id": "aTnVXBskNvbL"
      },
      "source": [
        "!pip install timecode\n",
        "!pip install -q py-feat"
      ],
      "execution_count": null,
      "outputs": []
    },
    {
      "cell_type": "code",
      "metadata": {
        "id": "2Wr3CSKSLxCV"
      },
      "source": [
        "import cv2\n",
        "import glob\n",
        "import dlib\n",
        "import ast\n",
        "import time\n",
        "from tqdm.notebook import tqdm\n",
        "import numpy as np\n",
        "from google.colab import files\n",
        "import pandas as pd\n",
        "import matplotlib.pyplot as plt\n",
        "from google.colab.patches import cv2_imshow"
      ],
      "execution_count": null,
      "outputs": []
    },
    {
      "cell_type": "code",
      "metadata": {
        "colab": {
          "base_uri": "https://localhost:8080/"
        },
        "id": "yFxJMvTlyNLi",
        "outputId": "af3eb304-da96-4724-dfe4-5267bae9fbb6"
      },
      "source": [
        "# df = pd.read_excel('drive/MyDrive/AIHealthcare/AIcare_Phrase1/data/label_emotion/Anongrat.xlsx')\n",
        "df = pd.read_excel('drive/MyDrive/AIHealthcare/AIcare_Phrase1/data/label_emotion/Isaree.xlsx')\n",
        "sourcel = pd.unique(df['แหล่งที่มา']).tolist()\n",
        "print('sourcel', sourcel)\n",
        "\n",
        "####  Anongrat\n",
        "# vdo_01_02 = df.loc[df['แหล่งที่มา'] == '01_02']\n",
        "# vdo_02_14 = df.loc[df['แหล่งที่มา'] == '02_14']\n",
        "# vdo_03_29 = df.loc[df['แหล่งที่มา'] == '03_29']\n",
        "# vdo_04_40 = df.loc[df['แหล่งที่มา'] == '04_40']\n",
        "# vdo_05_55 = df.loc[df['แหล่งที่มา'] == '05_55']\n",
        "# vdo_06_81 = df.loc[df['แหล่งที่มา'] == '06_81']\n",
        "\n",
        "####  Isaree\n",
        "# df = df.loc[df['แหล่งที่มา'] == '01_002']\n",
        "# df = df.loc[df['แหล่งที่มา'] == '02_186']\n",
        "\n",
        "####  Jiratchaya\n",
        "# df = df.loc[df['แหล่งที่มา'] == '01_02']\n",
        "\n",
        "####  Kittiya\n",
        "# df = df.loc[df['แหล่งที่มา'] == '01_02']\n",
        "# df = df.loc[df['แหล่งที่มา'] == '02_72']\n",
        "\n",
        "####  Krittika\n",
        "# df = df.loc[df['แหล่งที่มา'] == '01_02']\n",
        "# df = df.loc[df['แหล่งที่มา'] == '02_59']\n",
        "# df = df.loc[df['แหล่งที่มา'] == '03_98']\n",
        "\n",
        "####  Monsrung\n",
        "# df = df.loc[df['แหล่งที่มา'] == '01_02']\n",
        "# df = df.loc[df['แหล่งที่มา'] == '02_68']\n",
        "\n",
        "####  Wachiraya\n",
        "# df = df.loc[df['แหล่งที่มา'] == '01_02']\n",
        "# df = df.loc[df['แหล่งที่มา'] == '02_16']\n",
        "# df = df.loc[df['แหล่งที่มา'] == '03_152']\n",
        "\n",
        "####  ปุณณมา\n",
        "# df = df.loc[df['แหล่งที่มา'] == '01_02']\n",
        "\n",
        "####  มานาพร\n",
        "# df = df.loc[df['แหล่งที่มา'] == '01_02']\n",
        "# df = df.loc[df['แหล่งที่มา'] == '02_21']\n",
        "# df = df.loc[df['แหล่งที่มา'] == '03_31']\n",
        "# df = df.loc[df['แหล่งที่มา'] == '04_41']\n",
        "# df = df.loc[df['แหล่งที่มา'] == '05_83']\n",
        "\n",
        "df.columns = ['source','time_range','class','persons']\n",
        "pd.unique(df['class'])"
      ],
      "execution_count": null,
      "outputs": [
        {
          "output_type": "stream",
          "text": [
            "sourcel ['01_002', '02_186']\n"
          ],
          "name": "stdout"
        },
        {
          "output_type": "execute_result",
          "data": {
            "text/plain": [
              "array(['ผ่อนคลาย', 'มีความสุข', 'neutral', 'เครียด', 'มีความสุุข',\n",
              "       'เศร้า', 'โกรธ', 'มีความสูข', 'ผ่่อนคลาย', 'มีความสุจ'],\n",
              "      dtype=object)"
            ]
          },
          "metadata": {
            "tags": []
          },
          "execution_count": 113
        }
      ]
    },
    {
      "cell_type": "markdown",
      "metadata": {
        "id": "e313-RQi2gt_"
      },
      "source": [
        "# Helper Function"
      ]
    },
    {
      "cell_type": "code",
      "metadata": {
        "id": "wQA-C0JchvXl"
      },
      "source": [
        "def caminfo(vdo_name):\n",
        "  cap = cv2.VideoCapture(vdo_name)\n",
        "  total_frames = int(cap.get(cv2.CAP_PROP_FRAME_COUNT))\n",
        "  width  = int(cap.get(cv2.CAP_PROP_FRAME_WIDTH))\n",
        "  height = int(cap.get(cv2.CAP_PROP_FRAME_HEIGHT))\n",
        "  fps    = cap.get(cv2.CAP_PROP_FPS)\n",
        "  return total_frames, fps\n",
        "\n",
        "def get_img(fps, vdo_name, filename):\n",
        "  # [Anongrat.xlsx, Isaree.xlsx, Jiratchaya.xlsx, Kittiya.xlsx, Krittika.xlsx, Monsrung.xlsx, Wachiraya.xlsx, ปุณณมา.xlsx, มานาพร.xlsx]\n",
        "  df = pd.read_excel('drive/MyDrive/AIHealthcare/AIcare_Phrase1/data/label_emotion/' + filename + '.xlsx')\n",
        "  print('Shape all data = ', df.shape)\n",
        "\n",
        "  if filename == 'Anongrat':\n",
        "    print('filename = ', filename)\n",
        "    if vdo_name == '01_02':\n",
        "      df = df.loc[df['แหล่งที่มา'] == '01_02']\n",
        "    elif vdo_name == '02_14':\n",
        "      df = df.loc[df['แหล่งที่มา'] == '02_14']\n",
        "    elif vdo_name == '03_29':\n",
        "      df = df.loc[df['แหล่งที่มา'] == '03_29']\n",
        "    elif vdo_name == '04_40':\n",
        "      df = df.loc[df['แหล่งที่มา'] == '04_40']\n",
        "    elif vdo_name == '05_55':\n",
        "      df = df.loc[df['แหล่งที่มา'] == '05_55']\n",
        "    elif vdo_name == '06_81':\n",
        "      df = df.loc[df['แหล่งที่มา'] == '06_81']\n",
        "\n",
        "  if filename == 'Isaree':\n",
        "    print('filename = ', filename)\n",
        "    if vdo_name == '01_002':\n",
        "      df = df.loc[df['แหล่งที่มา'] == '01_002']\n",
        "    elif vdo_name == '02_186':\n",
        "      df = df.loc[df['แหล่งที่มา'] == '02_186']\n",
        "\n",
        "  if filename == 'Jiratchaya':\n",
        "    print('filename = ', filename)\n",
        "    if vdo_name == '01_02':\n",
        "      df = df.loc[df['แหล่งที่มา'] == '01_02']\n",
        "\n",
        "  if filename == 'Kittiya':\n",
        "    print('filename = ', filename)\n",
        "    if vdo_name == '01_02':\n",
        "      df = df.loc[df['แหล่งที่มา'] == '01_02']\n",
        "    elif vdo_name == '02_72':\n",
        "      df = df.loc[df['แหล่งที่มา'] == '02_72']\n",
        "\n",
        "  if filename == 'Krittika':\n",
        "    print('filename = ', filename)\n",
        "    if vdo_name == '01_02':\n",
        "      df = df.loc[df['แหล่งที่มา'] == '01_02']\n",
        "    elif vdo_name == '02_59':\n",
        "      df = df.loc[df['แหล่งที่มา'] == '02_59']\n",
        "    elif vdo_name == '03_98':\n",
        "      df = df.loc[df['แหล่งที่มา'] == '03_98']\n",
        "\n",
        "  if filename == 'Monsrung':\n",
        "    print('filename = ', filename)\n",
        "    if vdo_name == '01_02':\n",
        "      df = df.loc[df['แหล่งที่มา'] == '01_02']\n",
        "    elif vdo_name == '02_68':\n",
        "      df = df.loc[df['แหล่งที่มา'] == '02_68']\n",
        "\n",
        "  if filename == 'Wachiraya':\n",
        "    print('filename = ', filename)\n",
        "    if vdo_name == '01_002':\n",
        "      df = df.loc[df['แหล่งที่มา'] == '01_002']\n",
        "    elif vdo_name == '02_016':\n",
        "      df = df.loc[df['แหล่งที่มา'] == '02_016']\n",
        "    elif vdo_name == '03_152':\n",
        "      df = df.loc[df['แหล่งที่มา'] == '03_152']\n",
        "\n",
        "  if filename == 'ปุณณมา':\n",
        "    print('filename = ', filename)\n",
        "    if vdo_name == '01_02':\n",
        "      df = df.loc[df['แหล่งที่มา'] == '01_02']\n",
        "\n",
        "  if filename == 'มานาพร':\n",
        "    print('filename = ', filename)\n",
        "    if vdo_name == '01_02':\n",
        "      df = df.loc[df['แหล่งที่มา'] == '01_02']\n",
        "    elif vdo_name == '02_21':\n",
        "      df = df.loc[df['แหล่งที่มา'] == '02_21']\n",
        "    elif vdo_name == '03_31':\n",
        "      df = df.loc[df['แหล่งที่มา'] == '03_31']\n",
        "    elif vdo_name == '04_41':\n",
        "      df = df.loc[df['แหล่งที่มา'] == '04_41']\n",
        "    elif vdo_name == '05_83':\n",
        "      df = df.loc[df['แหล่งที่มา'] == '05_83']\n",
        "\n",
        "  df.columns = ['source','time_range','class','persons']\n",
        "\n",
        "  df[\"class\"].replace({'มีความสุข':'happy','ผ่อนคลาย':'relax',\n",
        "                    'มีความสุุข': 'happy','เครียด':'stress',\n",
        "                    'มีความสูข': 'happy', 'ผ่่อนคลาย': 'relax',\n",
        "                    'มีความสุจ': 'happy','เศร้า':'sad',\n",
        "                    'โกรธ':'anger','มีีความสุข': 'happy', 'เครีียด': 'stress',\n",
        "                    'เครียด (จริงจัง)': 'stress', 'มีความสุข (ประหลาดใจ)': 'happy',\n",
        "                    'อารมณ์โกรธ': 'anger'\n",
        "                    },inplace=True)\n",
        "  \n",
        "  df.reset_index(drop=True, inplace=True)\n",
        "  df['start'] = df['time_range'].apply(lambda x: x.split(\"-\")[0].strip())\n",
        "  df['end'] = df['time_range'].apply(lambda x: x.split(\"-\")[1].strip())\n",
        "  df['start_sec'] = df['start'].apply(lambda x: float(x.split(\".\")[0].strip())*60 + float(x.split(\".\")[1].strip()))\n",
        "  df['end_sec'] = df['end'].apply(lambda x: float(x.split(\".\")[0].strip())*60 + float(x.split(\".\")[1].strip()))\n",
        "  df['start_frame'] = df['start_sec'].apply(lambda x: int(x*fps)) # sec * FPS\n",
        "  df['end_frame'] = df['end_sec'].apply(lambda x: int(x*fps))\n",
        "  return df"
      ],
      "execution_count": null,
      "outputs": []
    },
    {
      "cell_type": "code",
      "metadata": {
        "id": "MNEUZ_WF04ov"
      },
      "source": [
        "# # [Anongrat.xlsx, Isaree.xlsx, Jiratchaya.xlsx, Kittiya.xlsx, Krittika.xlsx, Monsrung.xlsx, Wachiraya.xlsx, ปุณณมา.xlsx, มานาพร.xlsx]\n",
        "# df = pd.read_excel('drive/MyDrive/AIHealthcare/AIcare_Phrase1/data/label_emotion/มานาพร.xlsx')\n",
        "# sourcel = pd.unique(df['แหล่งที่มา']).tolist()\n",
        "# # print('sourcel', sourcel)\n",
        "# df.columns = ['source','time_range','class','persons']\n",
        "# pd.unique(df['class'])"
      ],
      "execution_count": null,
      "outputs": []
    },
    {
      "cell_type": "markdown",
      "metadata": {
        "id": "ZbkGdevA2W14"
      },
      "source": [
        "# 1 Anongrat"
      ]
    },
    {
      "cell_type": "code",
      "metadata": {
        "id": "5U2SgTtco1bt"
      },
      "source": [
        "vdo_01_02_row = []\n",
        "vdo_02_14_row = []\n",
        "vdo_03_29_row = []\n",
        "vdo_04_40_row = []\n",
        "vdo_05_55_row = []\n",
        "vdo_06_81_row = []\n",
        "df_fr = pd.DataFrame()\n",
        "df_raw = pd.DataFrame()\n",
        "\n",
        "# [Anongrat.xlsx, Isaree.xlsx, Jiratchaya.xlsx, Kittiya.xlsx, Krittika.xlsx, Monsrung.xlsx, Wachiraya.xlsx, ปุณณมา.xlsx, มานาพร.xlsx]\n",
        "filename = 'Anongrat'\n",
        "\n",
        "for files in glob.iglob(r'drive/MyDrive/AIHealthcare/AIcare_Phrase1/data/label_emotion/emotional_labeling/' + filename+ '/*.mp4'):\n",
        "  vdo_name = files[89:94]\n",
        "  print('vdo name =', vdo_name)\n",
        "  T_frames, fps = caminfo(files)\n",
        "  print('FPS = ', fps)\n",
        "  print('Total Frames = ', T_frames)\n",
        "  df = get_img(fps, vdo_name, filename)\n",
        "  print('Shape selected = ', df.shape)\n",
        "\n",
        "  if vdo_name == '01_02':\n",
        "    for row in range(df.shape[0]):\n",
        "      vdo_01_02_mem = []\n",
        "      for frame in range(df['start_frame'][row], df['end_frame'][row]+1):\n",
        "        vdo_01_02_mem.append(frame)\n",
        "      vdo_01_02_row.append([vdo_01_02_mem])\n",
        "    dict = {'Frames': vdo_01_02_row} \n",
        "    frame_df = pd.DataFrame(dict)\n",
        "    df_fr = df_fr.append(frame_df)\n",
        "\n",
        "  elif vdo_name == '02_14':\n",
        "    for row in range(df.shape[0]):\n",
        "      vdo_02_14_mem = []\n",
        "      for frame in range(df['start_frame'][row], df['end_frame'][row]+1):\n",
        "        vdo_02_14_mem.append(frame)\n",
        "      vdo_02_14_row.append([vdo_02_14_mem])        \n",
        "    dict = {'Frames': vdo_02_14_row} \n",
        "    frame_df = pd.DataFrame(dict)\n",
        "    df_fr = df_fr.append(frame_df)\n",
        "\n",
        "  elif vdo_name == '03_29':\n",
        "    for row in range(df.shape[0]):\n",
        "      vdo_03_29_mem = []\n",
        "      for frame in range(df['start_frame'][row], df['end_frame'][row]+1):\n",
        "        vdo_03_29_mem.append(frame)\n",
        "      vdo_03_29_row.append([vdo_03_29_mem])   \n",
        "    dict = {'Frames': vdo_03_29_row} \n",
        "    frame_df = pd.DataFrame(dict)\n",
        "    df_fr = df_fr.append(frame_df)\n",
        "\n",
        "  elif vdo_name == '04_40':\n",
        "    for row in range(df.shape[0]):\n",
        "      vdo_04_40_mem = []\n",
        "      for frame in range(df['start_frame'][row], df['end_frame'][row]+1):\n",
        "        vdo_04_40_mem.append(frame)\n",
        "      vdo_04_40_row.append([vdo_04_40_mem])  \n",
        "    dict = {'Frames': vdo_04_40_row} \n",
        "    frame_df = pd.DataFrame(dict)\n",
        "    df_fr = df_fr.append(frame_df)\n",
        "\n",
        "  elif vdo_name == '05_55':\n",
        "    for row in range(df.shape[0]):\n",
        "      vdo_05_55_mem = []\n",
        "      for frame in range(df['start_frame'][row], df['end_frame'][row]+1):\n",
        "        vdo_05_55_mem.append(frame)\n",
        "      vdo_05_55_row.append([vdo_05_55_mem])     \n",
        "    dict = {'Frames': vdo_05_55_row} \n",
        "    frame_df = pd.DataFrame(dict)\n",
        "    df_fr = df_fr.append(frame_df)\n",
        "\n",
        "  elif vdo_name == '06_81':\n",
        "    for row in range(df.shape[0]):\n",
        "      vdo_06_81_mem = []\n",
        "      for frame in range(df['start_frame'][row], df['end_frame'][row]+1):\n",
        "        vdo_06_81_mem.append(frame)\n",
        "      vdo_06_81_row.append([vdo_06_81_mem])     \n",
        "    dict = {'Frames': vdo_06_81_row} \n",
        "    frame_df = pd.DataFrame(dict)\n",
        "    df_fr = df_fr.append(frame_df)\n",
        "  \n",
        "  print('########################')\n",
        "  df_raw = df_raw.append(df)\n",
        "\n",
        "df_fr.reset_index(drop=True, inplace=True)\n",
        "df_raw.reset_index(drop=True, inplace=True)\n",
        "result = pd.concat([df_raw, df_fr], axis=1, join=\"inner\")\n",
        "\n",
        "print(result)\n",
        "from google.colab import files\n",
        "result.to_csv('Anongrat.csv') \n",
        "files.download('Anongrat.csv')"
      ],
      "execution_count": null,
      "outputs": []
    },
    {
      "cell_type": "markdown",
      "metadata": {
        "id": "QThJQWLO2aoD"
      },
      "source": [
        "# 2 Isaree"
      ]
    },
    {
      "cell_type": "code",
      "metadata": {
        "colab": {
          "base_uri": "https://localhost:8080/",
          "height": 526
        },
        "id": "IHL5pCsw2bPY",
        "outputId": "c3d4016a-6934-45eb-c1c0-fb6e5223cf98"
      },
      "source": [
        "vdo_01_002_row = []\n",
        "vdo_02_186_row = []\n",
        "df_frame = pd.DataFrame()\n",
        "df_raw = pd.DataFrame()\n",
        "df_fr = pd.DataFrame()\n",
        "\n",
        "# [Anongrat.xlsx, Isaree.xlsx, Jiratchaya.xlsx, Kittiya.xlsx, Krittika.xlsx, Monsrung.xlsx, Wachiraya.xlsx, ปุณณมา.xlsx, มานาพร.xlsx]\n",
        "filename = 'Isaree'\n",
        "\n",
        "for files in glob.iglob(r'drive/MyDrive/AIHealthcare/AIcare_Phrase1/data/label_emotion/emotional_labeling/' + filename+ '/*.mp4'):\n",
        "  vdo_name = files[87:93]\n",
        "  print('vdo name =', vdo_name)\n",
        "  T_frames, fps = caminfo(files)\n",
        "  print('FPS = ', fps)\n",
        "  print('Total Frames = ', T_frames)\n",
        "  df = get_img(fps, vdo_name, filename)\n",
        "  print('Shape selected = ', df.shape)\n",
        "\n",
        "  if vdo_name == '01_002':\n",
        "    for row in range(df.shape[0]):\n",
        "      vdo_01_002_mem = []\n",
        "      for frame in range(df['start_frame'][row], df['end_frame'][row]+1):\n",
        "        vdo_01_002_mem.append(frame)\n",
        "      vdo_01_002_row.append([vdo_01_002_mem])\n",
        "    dict = {'Frames': vdo_01_002_row} \n",
        "    frame_df = pd.DataFrame(dict)\n",
        "    df_fr = df_fr.append(frame_df)\n",
        "\n",
        "  elif vdo_name == '02_186':\n",
        "    for row in range(df.shape[0]):\n",
        "      vdo_02_186_mem = []\n",
        "      for frame in range(df['start_frame'][row], df['end_frame'][row]+1):\n",
        "        vdo_02_186_mem.append(frame)\n",
        "      vdo_02_186_row.append([vdo_02_186_mem])        \n",
        "    dict = {'Frames': vdo_02_186_row} \n",
        "    frame_df = pd.DataFrame(dict)\n",
        "    df_fr = df_fr.append(frame_df)\n",
        "  \n",
        "  print('########################')\n",
        "  df_raw = df_raw.append(df)\n",
        "\n",
        "df_fr.reset_index(drop=True, inplace=True)\n",
        "df_raw.reset_index(drop=True, inplace=True)\n",
        "result = pd.concat([df_raw, df_fr], axis=1, join=\"inner\")\n",
        "print(result)\n",
        "\n",
        "from google.colab import files\n",
        "result.to_csv('Isaree.csv') \n",
        "files.download('Isaree.csv')"
      ],
      "execution_count": null,
      "outputs": [
        {
          "output_type": "stream",
          "text": [
            "vdo name = 01_002\n",
            "FPS =  59.94005994005994\n",
            "Total Frames =  93229\n",
            "Shape all data =  (217, 4)\n",
            "filename =  Isaree\n",
            "Shape selected =  (184, 10)\n",
            "########################\n",
            "vdo name = 02_186\n",
            "FPS =  50.0\n",
            "Total Frames =  40131\n",
            "Shape all data =  (217, 4)\n",
            "filename =  Isaree\n",
            "Shape selected =  (33, 10)\n",
            "########################\n",
            "     source  ...                                             Frames\n",
            "0    01_002  ...  [[599, 600, 601, 602, 603, 604, 605, 606, 607,...\n",
            "1    01_002  ...  [[3356, 3357, 3358, 3359, 3360, 3361, 3362, 33...\n",
            "2    01_002  ...  [[4135, 4136, 4137, 4138, 4139, 4140, 4141, 41...\n",
            "3    01_002  ...  [[5634, 5635, 5636, 5637, 5638, 5639, 5640, 56...\n",
            "4    01_002  ...  [[5814, 5815, 5816, 5817, 5818, 5819, 5820, 58...\n",
            "..      ...  ...                                                ...\n",
            "212  02_186  ...  [[15200, 15201, 15202, 15203, 15204, 15205, 15...\n",
            "213  02_186  ...  [[15750, 15751, 15752, 15753, 15754, 15755, 15...\n",
            "214  02_186  ...  [[15850, 15851, 15852, 15853, 15854, 15855, 15...\n",
            "215  02_186  ...  [[16400, 16401, 16402, 16403, 16404, 16405, 16...\n",
            "216  02_186  ...  [[17900, 17901, 17902, 17903, 17904, 17905, 17...\n",
            "\n",
            "[217 rows x 11 columns]\n"
          ],
          "name": "stdout"
        },
        {
          "output_type": "display_data",
          "data": {
            "application/javascript": [
              "\n",
              "    async function download(id, filename, size) {\n",
              "      if (!google.colab.kernel.accessAllowed) {\n",
              "        return;\n",
              "      }\n",
              "      const div = document.createElement('div');\n",
              "      const label = document.createElement('label');\n",
              "      label.textContent = `Downloading \"${filename}\": `;\n",
              "      div.appendChild(label);\n",
              "      const progress = document.createElement('progress');\n",
              "      progress.max = size;\n",
              "      div.appendChild(progress);\n",
              "      document.body.appendChild(div);\n",
              "\n",
              "      const buffers = [];\n",
              "      let downloaded = 0;\n",
              "\n",
              "      const channel = await google.colab.kernel.comms.open(id);\n",
              "      // Send a message to notify the kernel that we're ready.\n",
              "      channel.send({})\n",
              "\n",
              "      for await (const message of channel.messages) {\n",
              "        // Send a message to notify the kernel that we're ready.\n",
              "        channel.send({})\n",
              "        if (message.buffers) {\n",
              "          for (const buffer of message.buffers) {\n",
              "            buffers.push(buffer);\n",
              "            downloaded += buffer.byteLength;\n",
              "            progress.value = downloaded;\n",
              "          }\n",
              "        }\n",
              "      }\n",
              "      const blob = new Blob(buffers, {type: 'application/binary'});\n",
              "      const a = document.createElement('a');\n",
              "      a.href = window.URL.createObjectURL(blob);\n",
              "      a.download = filename;\n",
              "      div.appendChild(a);\n",
              "      a.click();\n",
              "      div.remove();\n",
              "    }\n",
              "  "
            ],
            "text/plain": [
              "<IPython.core.display.Javascript object>"
            ]
          },
          "metadata": {
            "tags": []
          }
        },
        {
          "output_type": "display_data",
          "data": {
            "application/javascript": [
              "download(\"download_7908470a-ea45-4dfb-8ac8-53c46af67dcb\", \"Isaree.csv\", 759604)"
            ],
            "text/plain": [
              "<IPython.core.display.Javascript object>"
            ]
          },
          "metadata": {
            "tags": []
          }
        }
      ]
    },
    {
      "cell_type": "markdown",
      "metadata": {
        "id": "y_5K3K2VmGoD"
      },
      "source": [
        "# 3 Jiratchaya"
      ]
    },
    {
      "cell_type": "code",
      "metadata": {
        "colab": {
          "base_uri": "https://localhost:8080/",
          "height": 399
        },
        "id": "f1XFtvC3mYvs",
        "outputId": "b34e782f-b478-48bf-fbd1-0265a577df0e"
      },
      "source": [
        "vdo_01_002_row = []\n",
        "df_frame = pd.DataFrame()\n",
        "df_raw = pd.DataFrame()\n",
        "df_fr = pd.DataFrame()\n",
        "\n",
        "# [Anongrat.xlsx, Isaree.xlsx, Jiratchaya.xlsx, Kittiya.xlsx, Krittika.xlsx, Monsrung.xlsx, Wachiraya.xlsx, ปุณณมา.xlsx, มานาพร.xlsx]\n",
        "filename = 'Jiratchaya'\n",
        "\n",
        "for files in glob.iglob(r'drive/MyDrive/AIHealthcare/AIcare_Phrase1/data/label_emotion/emotional_labeling/' + filename+ '/*.mp4'):\n",
        "  vdo_name = files[91:96]\n",
        "  print('vdo name =', vdo_name)\n",
        "  T_frames, fps = caminfo(files)\n",
        "  print('FPS = ', fps)\n",
        "  print('Total Frames = ', T_frames)\n",
        "  df = get_img(fps, vdo_name, filename)\n",
        "  print('Shape selected = ', df.shape)\n",
        "\n",
        "  if vdo_name == '01_02':\n",
        "    for row in range(df.shape[0]):\n",
        "      vdo_01_002_mem = []\n",
        "      for frame in range(df['start_frame'][row], df['end_frame'][row]+1):\n",
        "        vdo_01_002_mem.append(frame)\n",
        "      vdo_01_002_row.append([vdo_01_002_mem])\n",
        "    dict = {'Frames': vdo_01_002_row} \n",
        "    frame_df = pd.DataFrame(dict)\n",
        "    df_fr = df_fr.append(frame_df)\n",
        "  \n",
        "  print('########################')\n",
        "  df_raw = df_raw.append(df)\n",
        "\n",
        "df_fr.reset_index(drop=True, inplace=True)\n",
        "df_raw.reset_index(drop=True, inplace=True)\n",
        "result = pd.concat([df_raw, df_fr], axis=1, join=\"inner\")\n",
        "print(result)\n",
        "\n",
        "from google.colab import files\n",
        "result.to_csv('jiratchaya.csv') \n",
        "files.download('jiratchaya.csv')"
      ],
      "execution_count": null,
      "outputs": [
        {
          "output_type": "stream",
          "text": [
            "vdo name = 01_02\n",
            "FPS =  25.0\n",
            "Total Frames =  54752\n",
            "Shape all data =  (172, 4)\n",
            "filename =  Jiratchaya\n",
            "Shape selected =  (172, 10)\n",
            "########################\n",
            "    source  ...                                             Frames\n",
            "0    01_02  ...  [[1525, 1526, 1527, 1528, 1529, 1530, 1531, 15...\n",
            "1    01_02  ...  [[1650, 1651, 1652, 1653, 1654, 1655, 1656, 16...\n",
            "2    01_02  ...  [[1800, 1801, 1802, 1803, 1804, 1805, 1806, 18...\n",
            "3    01_02  ...  [[1900, 1901, 1902, 1903, 1904, 1905, 1906, 19...\n",
            "4    01_02  ...  [[2075, 2076, 2077, 2078, 2079, 2080, 2081, 20...\n",
            "..     ...  ...                                                ...\n",
            "167  01_02  ...  [[28575, 28576, 28577, 28578, 28579, 28580, 28...\n",
            "168  01_02  ...  [[28650, 28651, 28652, 28653, 28654, 28655, 28...\n",
            "169  01_02  ...  [[29000, 29001, 29002, 29003, 29004, 29005, 29...\n",
            "170  01_02  ...  [[29225, 29226, 29227, 29228, 29229, 29230, 29...\n",
            "171  01_02  ...  [[29325, 29326, 29327, 29328, 29329, 29330, 29...\n",
            "\n",
            "[172 rows x 11 columns]\n"
          ],
          "name": "stdout"
        },
        {
          "output_type": "display_data",
          "data": {
            "application/javascript": [
              "\n",
              "    async function download(id, filename, size) {\n",
              "      if (!google.colab.kernel.accessAllowed) {\n",
              "        return;\n",
              "      }\n",
              "      const div = document.createElement('div');\n",
              "      const label = document.createElement('label');\n",
              "      label.textContent = `Downloading \"${filename}\": `;\n",
              "      div.appendChild(label);\n",
              "      const progress = document.createElement('progress');\n",
              "      progress.max = size;\n",
              "      div.appendChild(progress);\n",
              "      document.body.appendChild(div);\n",
              "\n",
              "      const buffers = [];\n",
              "      let downloaded = 0;\n",
              "\n",
              "      const channel = await google.colab.kernel.comms.open(id);\n",
              "      // Send a message to notify the kernel that we're ready.\n",
              "      channel.send({})\n",
              "\n",
              "      for await (const message of channel.messages) {\n",
              "        // Send a message to notify the kernel that we're ready.\n",
              "        channel.send({})\n",
              "        if (message.buffers) {\n",
              "          for (const buffer of message.buffers) {\n",
              "            buffers.push(buffer);\n",
              "            downloaded += buffer.byteLength;\n",
              "            progress.value = downloaded;\n",
              "          }\n",
              "        }\n",
              "      }\n",
              "      const blob = new Blob(buffers, {type: 'application/binary'});\n",
              "      const a = document.createElement('a');\n",
              "      a.href = window.URL.createObjectURL(blob);\n",
              "      a.download = filename;\n",
              "      div.appendChild(a);\n",
              "      a.click();\n",
              "      div.remove();\n",
              "    }\n",
              "  "
            ],
            "text/plain": [
              "<IPython.core.display.Javascript object>"
            ]
          },
          "metadata": {
            "tags": []
          }
        },
        {
          "output_type": "display_data",
          "data": {
            "application/javascript": [
              "download(\"download_103ffeba-a72b-4a1f-919f-2c61c71c6aeb\", \"jiratchaya.csv\", 140908)"
            ],
            "text/plain": [
              "<IPython.core.display.Javascript object>"
            ]
          },
          "metadata": {
            "tags": []
          }
        }
      ]
    },
    {
      "cell_type": "markdown",
      "metadata": {
        "id": "qfcNCL12VWlg"
      },
      "source": [
        "# New Section"
      ]
    },
    {
      "cell_type": "markdown",
      "metadata": {
        "id": "0amz7mG7ouXv"
      },
      "source": [
        "# 4 Kittiya"
      ]
    },
    {
      "cell_type": "code",
      "metadata": {
        "colab": {
          "base_uri": "https://localhost:8080/",
          "height": 526
        },
        "id": "LZbm-ybvrRue",
        "outputId": "49ad3785-f289-45da-d917-29f0631c5446"
      },
      "source": [
        "vdo_01_02_row = []\n",
        "vdo_02_72_row = []\n",
        "df_frame = pd.DataFrame()\n",
        "df_raw = pd.DataFrame()\n",
        "df_fr = pd.DataFrame()\n",
        "\n",
        "# [Anongrat.xlsx, Isaree.xlsx, Jiratchaya.xlsx, Kittiya.xlsx, Krittika.xlsx, Monsrung.xlsx, Wachiraya.xlsx, ปุณณมา.xlsx, มานาพร.xlsx]\n",
        "filename = 'Kittiya'\n",
        "\n",
        "for files in glob.iglob(r'drive/MyDrive/AIHealthcare/AIcare_Phrase1/data/label_emotion/emotional_labeling/' + filename+ '/*.mp4'):\n",
        "  vdo_name = files[88:93]\n",
        "  print('vdo name =', vdo_name)\n",
        "  T_frames, fps = caminfo(files)\n",
        "  print('FPS = ', fps)\n",
        "  print('Total Frames = ', T_frames)\n",
        "  df = get_img(fps, vdo_name, filename)\n",
        "  print('Shape selected = ', df.shape)\n",
        "\n",
        "  if vdo_name == '01_02':\n",
        "    for row in range(df.shape[0]):\n",
        "      vdo_01_02_mem = []\n",
        "      for frame in range(df['start_frame'][row], df['end_frame'][row]+1):\n",
        "        vdo_01_02_mem.append(frame)\n",
        "      vdo_01_02_row.append([vdo_01_02_mem])\n",
        "    dict = {'Frames': vdo_01_02_row} \n",
        "    frame_df = pd.DataFrame(dict)\n",
        "    df_fr = df_fr.append(frame_df)\n",
        "\n",
        "  elif vdo_name == '02_72':\n",
        "    for row in range(df.shape[0]):\n",
        "      vdo_02_72_mem = []\n",
        "      for frame in range(df['start_frame'][row], df['end_frame'][row]+1):\n",
        "        vdo_02_72_mem.append(frame)\n",
        "      vdo_02_72_row.append([vdo_02_72_mem])\n",
        "    dict = {'Frames': vdo_02_72_row} \n",
        "    frame_df = pd.DataFrame(dict)\n",
        "    df_fr = df_fr.append(frame_df)\n",
        "  \n",
        "  print('########################')\n",
        "  df_raw = df_raw.append(df)\n",
        "\n",
        "df_fr.reset_index(drop=True, inplace=True)\n",
        "df_raw.reset_index(drop=True, inplace=True)\n",
        "result = pd.concat([df_raw, df_fr], axis=1, join=\"inner\")\n",
        "print(result)\n",
        "\n",
        "from google.colab import files\n",
        "result.to_csv('Kittiya.csv') \n",
        "files.download('Kittiya.csv')"
      ],
      "execution_count": null,
      "outputs": [
        {
          "output_type": "stream",
          "text": [
            "vdo name = 01_02\n",
            "FPS =  25.0\n",
            "Total Frames =  27503\n",
            "Shape all data =  (145, 4)\n",
            "filename =  Kittiya\n",
            "Shape selected =  (70, 10)\n",
            "########################\n",
            "vdo name = 02_72\n",
            "FPS =  29.97002997002997\n",
            "Total Frames =  24843\n",
            "Shape all data =  (145, 4)\n",
            "filename =  Kittiya\n",
            "Shape selected =  (75, 10)\n",
            "########################\n",
            "    source  ...                                             Frames\n",
            "0    01_02  ...  [[0, 1, 2, 3, 4, 5, 6, 7, 8, 9, 10, 11, 12, 13...\n",
            "1    01_02  ...  [[500, 501, 502, 503, 504, 505, 506, 507, 508,...\n",
            "2    01_02  ...  [[950, 951, 952, 953, 954, 955, 956, 957, 958,...\n",
            "3    01_02  ...  [[1425, 1426, 1427, 1428, 1429, 1430, 1431, 14...\n",
            "4    01_02  ...  [[1575, 1576, 1577, 1578, 1579, 1580, 1581, 15...\n",
            "..     ...  ...                                                ...\n",
            "140  02_72  ...  [[23646, 23647, 23648, 23649, 23650, 23651, 23...\n",
            "141  02_72  ...  [[23736, 23737, 23738, 23739, 23740, 23741, 23...\n",
            "142  02_72  ...  [[24215, 24216, 24217, 24218, 24219, 24220, 24...\n",
            "143  02_72  ...  [[24275, 24276, 24277, 24278, 24279, 24280, 24...\n",
            "144  02_72  ...  [[24485, 24486, 24487, 24488, 24489, 24490, 24...\n",
            "\n",
            "[145 rows x 11 columns]\n"
          ],
          "name": "stdout"
        },
        {
          "output_type": "display_data",
          "data": {
            "application/javascript": [
              "\n",
              "    async function download(id, filename, size) {\n",
              "      if (!google.colab.kernel.accessAllowed) {\n",
              "        return;\n",
              "      }\n",
              "      const div = document.createElement('div');\n",
              "      const label = document.createElement('label');\n",
              "      label.textContent = `Downloading \"${filename}\": `;\n",
              "      div.appendChild(label);\n",
              "      const progress = document.createElement('progress');\n",
              "      progress.max = size;\n",
              "      div.appendChild(progress);\n",
              "      document.body.appendChild(div);\n",
              "\n",
              "      const buffers = [];\n",
              "      let downloaded = 0;\n",
              "\n",
              "      const channel = await google.colab.kernel.comms.open(id);\n",
              "      // Send a message to notify the kernel that we're ready.\n",
              "      channel.send({})\n",
              "\n",
              "      for await (const message of channel.messages) {\n",
              "        // Send a message to notify the kernel that we're ready.\n",
              "        channel.send({})\n",
              "        if (message.buffers) {\n",
              "          for (const buffer of message.buffers) {\n",
              "            buffers.push(buffer);\n",
              "            downloaded += buffer.byteLength;\n",
              "            progress.value = downloaded;\n",
              "          }\n",
              "        }\n",
              "      }\n",
              "      const blob = new Blob(buffers, {type: 'application/binary'});\n",
              "      const a = document.createElement('a');\n",
              "      a.href = window.URL.createObjectURL(blob);\n",
              "      a.download = filename;\n",
              "      div.appendChild(a);\n",
              "      a.click();\n",
              "      div.remove();\n",
              "    }\n",
              "  "
            ],
            "text/plain": [
              "<IPython.core.display.Javascript object>"
            ]
          },
          "metadata": {
            "tags": []
          }
        },
        {
          "output_type": "display_data",
          "data": {
            "application/javascript": [
              "download(\"download_1cf48935-b1b7-4bbf-b317-804f71659ce5\", \"Kittiya.csv\", 333679)"
            ],
            "text/plain": [
              "<IPython.core.display.Javascript object>"
            ]
          },
          "metadata": {
            "tags": []
          }
        }
      ]
    },
    {
      "cell_type": "markdown",
      "metadata": {
        "id": "Zv1Seh90o_vg"
      },
      "source": [
        "# 5 Krittika"
      ]
    },
    {
      "cell_type": "code",
      "metadata": {
        "colab": {
          "base_uri": "https://localhost:8080/",
          "height": 654
        },
        "id": "5xdmdMDARE0P",
        "outputId": "aeb9ab81-4c7b-4080-acf2-416506d4cb2b"
      },
      "source": [
        "vdo_01_02_row = []\n",
        "vdo_02_59_row = []\n",
        "vdo_03_98_row = []\n",
        "df_frame = pd.DataFrame()\n",
        "df_raw = pd.DataFrame()\n",
        "df_fr = pd.DataFrame()\n",
        "\n",
        "# [Anongrat.xlsx, Isaree.xlsx, Jiratchaya.xlsx, Kittiya.xlsx, Krittika.xlsx, Monsrung.xlsx, Wachiraya.xlsx, ปุณณมา.xlsx, มานาพร.xlsx]\n",
        "filename = 'Krittika'\n",
        "\n",
        "for files in glob.iglob(r'drive/MyDrive/AIHealthcare/AIcare_Phrase1/data/label_emotion/emotional_labeling/' + filename+ '/*.mp4'):\n",
        "  vdo_name = files[89:94]\n",
        "  print('vdo name =', vdo_name)\n",
        "  T_frames, fps = caminfo(files)\n",
        "  print('FPS = ', fps)\n",
        "  print('Total Frames = ', T_frames)\n",
        "  df = get_img(fps, vdo_name, filename)\n",
        "  print('Shape selected = ', df.shape)\n",
        "  \n",
        "  if vdo_name == '01_02':\n",
        "    for row in range(df.shape[0]):\n",
        "      vdo_01_02_mem = []\n",
        "      for frame in range(df['start_frame'][row], df['end_frame'][row]+1):\n",
        "        vdo_01_02_mem.append(frame)\n",
        "      vdo_01_02_row.append([vdo_01_02_mem])\n",
        "    dict = {'Frames': vdo_01_02_row} \n",
        "    frame_df = pd.DataFrame(dict)\n",
        "    df_fr = df_fr.append(frame_df)\n",
        "\n",
        "  elif vdo_name == '02_59':\n",
        "    for row in range(df.shape[0]):\n",
        "      vdo_02_59_mem = []\n",
        "      for frame in range(df['start_frame'][row], df['end_frame'][row]+1):\n",
        "        vdo_02_59_mem.append(frame)\n",
        "      vdo_02_59_row.append([vdo_02_59_mem])\n",
        "    dict = {'Frames': vdo_02_59_row} \n",
        "    frame_df = pd.DataFrame(dict)\n",
        "    df_fr = df_fr.append(frame_df)\n",
        "\n",
        "  elif vdo_name == '03_98':\n",
        "    for row in range(df.shape[0]):\n",
        "      vdo_03_98_mem = []\n",
        "      for frame in range(df['start_frame'][row], df['end_frame'][row]+1):\n",
        "        vdo_03_98_mem.append(frame)\n",
        "      vdo_03_98_row.append([vdo_03_98_mem])\n",
        "    dict = {'Frames': vdo_03_98_row} \n",
        "    frame_df = pd.DataFrame(dict)\n",
        "    df_fr = df_fr.append(frame_df)\n",
        "  \n",
        "  print('########################')\n",
        "  df_raw = df_raw.append(df)\n",
        "\n",
        "df_fr.reset_index(drop=True, inplace=True)\n",
        "df_raw.reset_index(drop=True, inplace=True)\n",
        "result = pd.concat([df_raw, df_fr], axis=1, join=\"inner\")\n",
        "print(result)\n",
        "\n",
        "from google.colab import files\n",
        "result.to_csv('Krittika.csv') \n",
        "files.download('Krittika.csv')"
      ],
      "execution_count": null,
      "outputs": [
        {
          "output_type": "stream",
          "text": [
            "vdo name = 01_02\n",
            "FPS =  50.0\n",
            "Total Frames =  57856\n",
            "Shape all data =  (98, 4)\n",
            "filename =  Krittika\n",
            "Shape selected =  (57, 10)\n",
            "########################\n",
            "vdo name = 02_59\n",
            "FPS =  60.0\n",
            "Total Frames =  290084\n",
            "Shape all data =  (98, 4)\n",
            "filename =  Krittika\n",
            "Shape selected =  (39, 10)\n",
            "########################\n",
            "vdo name = 03_98\n",
            "FPS =  25.0\n",
            "Total Frames =  16831\n",
            "Shape all data =  (98, 4)\n",
            "filename =  Krittika\n",
            "Shape selected =  (2, 10)\n",
            "########################\n",
            "   source  ...                                             Frames\n",
            "0   01_02  ...  [[500, 501, 502, 503, 504, 505, 506, 507, 508,...\n",
            "1   01_02  ...  [[800, 801, 802, 803, 804, 805, 806, 807, 808,...\n",
            "2   01_02  ...  [[1000, 1001, 1002, 1003, 1004, 1005, 1006, 10...\n",
            "3   01_02  ...  [[1500, 1501, 1502, 1503, 1504, 1505, 1506, 15...\n",
            "4   01_02  ...  [[2450, 2451, 2452, 2453, 2454, 2455, 2456, 24...\n",
            "..    ...  ...                                                ...\n",
            "93  02_59  ...  [[110820, 110821, 110822, 110823, 110824, 1108...\n",
            "94  02_59  ...  [[111960, 111961, 111962, 111963, 111964, 1119...\n",
            "95  02_59  ...  [[113040, 113041, 113042, 113043, 113044, 1130...\n",
            "96  03_98  ...  [[12475, 12476, 12477, 12478, 12479, 12480, 12...\n",
            "97  03_98  ...  [[13125, 13126, 13127, 13128, 13129, 13130, 13...\n",
            "\n",
            "[98 rows x 11 columns]\n"
          ],
          "name": "stdout"
        },
        {
          "output_type": "display_data",
          "data": {
            "application/javascript": [
              "\n",
              "    async function download(id, filename, size) {\n",
              "      if (!google.colab.kernel.accessAllowed) {\n",
              "        return;\n",
              "      }\n",
              "      const div = document.createElement('div');\n",
              "      const label = document.createElement('label');\n",
              "      label.textContent = `Downloading \"${filename}\": `;\n",
              "      div.appendChild(label);\n",
              "      const progress = document.createElement('progress');\n",
              "      progress.max = size;\n",
              "      div.appendChild(progress);\n",
              "      document.body.appendChild(div);\n",
              "\n",
              "      const buffers = [];\n",
              "      let downloaded = 0;\n",
              "\n",
              "      const channel = await google.colab.kernel.comms.open(id);\n",
              "      // Send a message to notify the kernel that we're ready.\n",
              "      channel.send({})\n",
              "\n",
              "      for await (const message of channel.messages) {\n",
              "        // Send a message to notify the kernel that we're ready.\n",
              "        channel.send({})\n",
              "        if (message.buffers) {\n",
              "          for (const buffer of message.buffers) {\n",
              "            buffers.push(buffer);\n",
              "            downloaded += buffer.byteLength;\n",
              "            progress.value = downloaded;\n",
              "          }\n",
              "        }\n",
              "      }\n",
              "      const blob = new Blob(buffers, {type: 'application/binary'});\n",
              "      const a = document.createElement('a');\n",
              "      a.href = window.URL.createObjectURL(blob);\n",
              "      a.download = filename;\n",
              "      div.appendChild(a);\n",
              "      a.click();\n",
              "      div.remove();\n",
              "    }\n",
              "  "
            ],
            "text/plain": [
              "<IPython.core.display.Javascript object>"
            ]
          },
          "metadata": {
            "tags": []
          }
        },
        {
          "output_type": "display_data",
          "data": {
            "application/javascript": [
              "download(\"download_edaaa375-da03-47f1-9319-7e4ec7aeefe9\", \"Krittika.csv\", 635936)"
            ],
            "text/plain": [
              "<IPython.core.display.Javascript object>"
            ]
          },
          "metadata": {
            "tags": []
          }
        }
      ]
    },
    {
      "cell_type": "markdown",
      "metadata": {
        "id": "mc4GmdnfpGbD"
      },
      "source": [
        "# 6 Monsrung"
      ]
    },
    {
      "cell_type": "code",
      "metadata": {
        "colab": {
          "base_uri": "https://localhost:8080/",
          "height": 526
        },
        "id": "CV4gC-s3ScBl",
        "outputId": "99fa0b50-9155-4f86-c362-aaec904e29ea"
      },
      "source": [
        "vdo_01_02_row = []\n",
        "vdo_02_68_row = []\n",
        "df_frame = pd.DataFrame()\n",
        "df_raw = pd.DataFrame()\n",
        "df_fr = pd.DataFrame()\n",
        "\n",
        "# [Anongrat.xlsx, Isaree.xlsx, Jiratchaya.xlsx, Kittiya.xlsx, Krittika.xlsx, Monsrung.xlsx, Wachiraya.xlsx, ปุณณมา.xlsx, มานาพร.xlsx]\n",
        "filename = 'Monsrung'\n",
        "\n",
        "for files in glob.iglob(r'drive/MyDrive/AIHealthcare/AIcare_Phrase1/data/label_emotion/emotional_labeling/' + filename+ '/*.mp4'):\n",
        "\n",
        "  vdo_name = files[89:94]\n",
        "  print('vdo name =', vdo_name)\n",
        "  T_frames, fps = caminfo(files)\n",
        "  print('FPS = ', fps)\n",
        "  print('Total Frames = ', T_frames)\n",
        "  df = get_img(fps, vdo_name, filename)\n",
        "  print('Shape selected = ', df.shape)\n",
        "\n",
        "  if vdo_name == '01_02':\n",
        "    for row in range(df.shape[0]):\n",
        "      vdo_01_02_mem = []\n",
        "      for frame in range(df['start_frame'][row], df['end_frame'][row]+1):\n",
        "        vdo_01_02_mem.append(frame)\n",
        "      vdo_01_02_row.append([vdo_01_02_mem])\n",
        "    dict = {'Frames': vdo_01_02_row} \n",
        "    frame_df = pd.DataFrame(dict)\n",
        "    df_fr = df_fr.append(frame_df)\n",
        "\n",
        "  elif vdo_name == '02_68':\n",
        "    for row in range(df.shape[0]):\n",
        "      vdo_02_68_mem = []\n",
        "      for frame in range(df['start_frame'][row], df['end_frame'][row]+1):\n",
        "        vdo_02_68_mem.append(frame)\n",
        "      vdo_02_68_row.append([vdo_02_68_mem])\n",
        "    dict = {'Frames': vdo_02_68_row} \n",
        "    frame_df = pd.DataFrame(dict)\n",
        "    df_fr = df_fr.append(frame_df)\n",
        "  \n",
        "  print('########################')\n",
        "  df_raw = df_raw.append(df)\n",
        "\n",
        "df_fr.reset_index(drop=True, inplace=True)\n",
        "df_raw.reset_index(drop=True, inplace=True)\n",
        "result = pd.concat([df_raw, df_fr], axis=1, join=\"inner\")\n",
        "print(result)\n",
        "\n",
        "from google.colab import files\n",
        "result.to_csv('Monsrung.csv') \n",
        "files.download('Monsrung.csv')"
      ],
      "execution_count": null,
      "outputs": [
        {
          "output_type": "stream",
          "text": [
            "vdo name = 01_02\n",
            "FPS =  25.0\n",
            "Total Frames =  15216\n",
            "Shape all data =  (192, 4)\n",
            "filename =  Monsrung\n",
            "Shape selected =  (65, 10)\n",
            "########################\n",
            "vdo name = 02_68\n",
            "FPS =  25.0\n",
            "Total Frames =  35480\n",
            "Shape all data =  (192, 4)\n",
            "filename =  Monsrung\n",
            "Shape selected =  (127, 10)\n",
            "########################\n",
            "    source  ...                                             Frames\n",
            "0    01_02  ...  [[800, 801, 802, 803, 804, 805, 806, 807, 808,...\n",
            "1    01_02  ...  [[900, 901, 902, 903, 904, 905, 906, 907, 908,...\n",
            "2    01_02  ...  [[1025, 1026, 1027, 1028, 1029, 1030, 1031, 10...\n",
            "3    01_02  ...  [[1100, 1101, 1102, 1103, 1104, 1105, 1106, 11...\n",
            "4    01_02  ...  [[1700, 1701, 1702, 1703, 1704, 1705, 1706, 17...\n",
            "..     ...  ...                                                ...\n",
            "187  02_68  ...  [[34225, 34226, 34227, 34228, 34229, 34230, 34...\n",
            "188  02_68  ...  [[34425, 34426, 34427, 34428, 34429, 34430, 34...\n",
            "189  02_68  ...  [[34625, 34626, 34627, 34628, 34629, 34630, 34...\n",
            "190  02_68  ...  [[34675, 34676, 34677, 34678, 34679, 34680, 34...\n",
            "191  02_68  ...  [[35125, 35126, 35127, 35128, 35129, 35130, 35...\n",
            "\n",
            "[192 rows x 11 columns]\n"
          ],
          "name": "stdout"
        },
        {
          "output_type": "display_data",
          "data": {
            "application/javascript": [
              "\n",
              "    async function download(id, filename, size) {\n",
              "      if (!google.colab.kernel.accessAllowed) {\n",
              "        return;\n",
              "      }\n",
              "      const div = document.createElement('div');\n",
              "      const label = document.createElement('label');\n",
              "      label.textContent = `Downloading \"${filename}\": `;\n",
              "      div.appendChild(label);\n",
              "      const progress = document.createElement('progress');\n",
              "      progress.max = size;\n",
              "      div.appendChild(progress);\n",
              "      document.body.appendChild(div);\n",
              "\n",
              "      const buffers = [];\n",
              "      let downloaded = 0;\n",
              "\n",
              "      const channel = await google.colab.kernel.comms.open(id);\n",
              "      // Send a message to notify the kernel that we're ready.\n",
              "      channel.send({})\n",
              "\n",
              "      for await (const message of channel.messages) {\n",
              "        // Send a message to notify the kernel that we're ready.\n",
              "        channel.send({})\n",
              "        if (message.buffers) {\n",
              "          for (const buffer of message.buffers) {\n",
              "            buffers.push(buffer);\n",
              "            downloaded += buffer.byteLength;\n",
              "            progress.value = downloaded;\n",
              "          }\n",
              "        }\n",
              "      }\n",
              "      const blob = new Blob(buffers, {type: 'application/binary'});\n",
              "      const a = document.createElement('a');\n",
              "      a.href = window.URL.createObjectURL(blob);\n",
              "      a.download = filename;\n",
              "      div.appendChild(a);\n",
              "      a.click();\n",
              "      div.remove();\n",
              "    }\n",
              "  "
            ],
            "text/plain": [
              "<IPython.core.display.Javascript object>"
            ]
          },
          "metadata": {
            "tags": []
          }
        },
        {
          "output_type": "display_data",
          "data": {
            "application/javascript": [
              "download(\"download_b06e388d-5b84-47e0-b3a7-5f8a60ee77a6\", \"Monsrung.csv\", 311430)"
            ],
            "text/plain": [
              "<IPython.core.display.Javascript object>"
            ]
          },
          "metadata": {
            "tags": []
          }
        }
      ]
    },
    {
      "cell_type": "markdown",
      "metadata": {
        "id": "RSusAf7WpI-S"
      },
      "source": [
        "# 7 Wachiraya"
      ]
    },
    {
      "cell_type": "code",
      "metadata": {
        "colab": {
          "base_uri": "https://localhost:8080/",
          "height": 654
        },
        "id": "86EH77JqfDvb",
        "outputId": "6450e16f-170a-454c-da0e-7de4a0371843"
      },
      "source": [
        "vdo_01_002_row = []\n",
        "vdo_02_016_row = []\n",
        "vdo_03_152_row = []\n",
        "df_frame = pd.DataFrame()\n",
        "df_raw = pd.DataFrame()\n",
        "df_fr = pd.DataFrame()\n",
        "\n",
        "# [Anongrat.xlsx, Isaree.xlsx, Jiratchaya.xlsx, Kittiya.xlsx, Krittika.xlsx, Monsrung.xlsx, Wachiraya.xlsx, ปุณณมา.xlsx, มานาพร.xlsx]\n",
        "filename = 'Wachiraya'\n",
        "\n",
        "for files in glob.iglob(r'drive/MyDrive/AIHealthcare/AIcare_Phrase1/data/label_emotion/emotional_labeling/' + filename+ '/*.mp4'):\n",
        "  vdo_name = files[90:96]\n",
        "  print('vdo name =', vdo_name)\n",
        "  T_frames, fps = caminfo(files)\n",
        "  print('FPS = ', fps)\n",
        "  print('Total Frames = ', T_frames)\n",
        "  df = get_img(fps, vdo_name, filename)\n",
        "  print('Shape selected = ', df.shape)\n",
        "\n",
        "  if vdo_name == '01_002':\n",
        "    for row in range(df.shape[0]):\n",
        "      vdo_01_002_mem = []\n",
        "      for frame in range(df['start_frame'][row], df['end_frame'][row]+1):\n",
        "        vdo_01_002_mem.append(frame)\n",
        "      vdo_01_002_row.append([vdo_01_002_mem])\n",
        "    dict = {'Frames': vdo_01_002_row} \n",
        "    frame_df = pd.DataFrame(dict)\n",
        "    df_fr = df_fr.append(frame_df)\n",
        "\n",
        "  elif vdo_name == '02_016':\n",
        "    for row in range(df.shape[0]):\n",
        "      vdo_02_016_mem = []\n",
        "      for frame in range(df['start_frame'][row], df['end_frame'][row]+1):\n",
        "        vdo_02_016_mem.append(frame)\n",
        "      vdo_02_016_row.append([vdo_02_016_mem])\n",
        "    dict = {'Frames': vdo_02_016_row} \n",
        "    frame_df = pd.DataFrame(dict)\n",
        "    df_fr = df_fr.append(frame_df)\n",
        "\n",
        "  elif vdo_name == '03_152':\n",
        "    for row in range(df.shape[0]):\n",
        "      vdo_03_152_mem = []\n",
        "      for frame in range(df['start_frame'][row], df['end_frame'][row]+1):\n",
        "        vdo_03_152_mem.append(frame)\n",
        "      vdo_03_152_row.append([vdo_03_152_mem])\n",
        "    dict = {'Frames': vdo_03_152_row} \n",
        "    frame_df = pd.DataFrame(dict)\n",
        "    df_fr = df_fr.append(frame_df)\n",
        "\n",
        "  print('########################')\n",
        "  df_raw = df_raw.append(df)\n",
        "\n",
        "df_fr.reset_index(drop=True, inplace=True)\n",
        "df_raw.reset_index(drop=True, inplace=True)\n",
        "result = pd.concat([df_raw, df_fr], axis=1, join=\"inner\")\n",
        "print(result)\n",
        "\n",
        "from google.colab import files\n",
        "result.to_csv('Wachiraya.csv') \n",
        "files.download('Wachiraya.csv')"
      ],
      "execution_count": null,
      "outputs": [
        {
          "output_type": "stream",
          "text": [
            "vdo name = 01_002\n",
            "FPS =  23.976023976023978\n",
            "Total Frames =  12484\n",
            "Shape all data =  (159, 4)\n",
            "filename =  Wachiraya\n",
            "Shape selected =  (14, 10)\n",
            "########################\n",
            "vdo name = 02_016\n",
            "FPS =  25.0\n",
            "Total Frames =  28211\n",
            "Shape all data =  (159, 4)\n",
            "filename =  Wachiraya\n",
            "Shape selected =  (136, 10)\n",
            "########################\n",
            "vdo name = 03_152\n",
            "FPS =  25.0\n",
            "Total Frames =  5781\n",
            "Shape all data =  (159, 4)\n",
            "filename =  Wachiraya\n",
            "Shape selected =  (9, 10)\n",
            "########################\n",
            "     source  ...                                             Frames\n",
            "0    01_002  ...  [[0, 1, 2, 3, 4, 5, 6, 7, 8, 9, 10, 11, 12, 13...\n",
            "1    01_002  ...  [[2565, 2566, 2567, 2568, 2569, 2570, 2571, 25...\n",
            "2    01_002  ...  [[5346, 5347, 5348, 5349, 5350, 5351, 5352, 53...\n",
            "3    01_002  ...  [[6545, 6546, 6547, 6548, 6549, 6550, 6551, 65...\n",
            "4    01_002  ...  [[6713, 6714, 6715, 6716, 6717, 6718, 6719, 67...\n",
            "..      ...  ...                                                ...\n",
            "154  03_152  ...  [[2450, 2451, 2452, 2453, 2454, 2455, 2456, 24...\n",
            "155  03_152  ...  [[2575, 2576, 2577, 2578, 2579, 2580, 2581, 25...\n",
            "156  03_152  ...  [[2700, 2701, 2702, 2703, 2704, 2705, 2706, 27...\n",
            "157  03_152  ...  [[4150, 4151, 4152, 4153, 4154, 4155, 4156, 41...\n",
            "158  03_152  ...  [[4775, 4776, 4777, 4778, 4779, 4780, 4781, 47...\n",
            "\n",
            "[159 rows x 11 columns]\n"
          ],
          "name": "stdout"
        },
        {
          "output_type": "display_data",
          "data": {
            "application/javascript": [
              "\n",
              "    async function download(id, filename, size) {\n",
              "      if (!google.colab.kernel.accessAllowed) {\n",
              "        return;\n",
              "      }\n",
              "      const div = document.createElement('div');\n",
              "      const label = document.createElement('label');\n",
              "      label.textContent = `Downloading \"${filename}\": `;\n",
              "      div.appendChild(label);\n",
              "      const progress = document.createElement('progress');\n",
              "      progress.max = size;\n",
              "      div.appendChild(progress);\n",
              "      document.body.appendChild(div);\n",
              "\n",
              "      const buffers = [];\n",
              "      let downloaded = 0;\n",
              "\n",
              "      const channel = await google.colab.kernel.comms.open(id);\n",
              "      // Send a message to notify the kernel that we're ready.\n",
              "      channel.send({})\n",
              "\n",
              "      for await (const message of channel.messages) {\n",
              "        // Send a message to notify the kernel that we're ready.\n",
              "        channel.send({})\n",
              "        if (message.buffers) {\n",
              "          for (const buffer of message.buffers) {\n",
              "            buffers.push(buffer);\n",
              "            downloaded += buffer.byteLength;\n",
              "            progress.value = downloaded;\n",
              "          }\n",
              "        }\n",
              "      }\n",
              "      const blob = new Blob(buffers, {type: 'application/binary'});\n",
              "      const a = document.createElement('a');\n",
              "      a.href = window.URL.createObjectURL(blob);\n",
              "      a.download = filename;\n",
              "      div.appendChild(a);\n",
              "      a.click();\n",
              "      div.remove();\n",
              "    }\n",
              "  "
            ],
            "text/plain": [
              "<IPython.core.display.Javascript object>"
            ]
          },
          "metadata": {
            "tags": []
          }
        },
        {
          "output_type": "display_data",
          "data": {
            "application/javascript": [
              "download(\"download_84b7cb4a-64b1-4572-b567-fa232b91dc46\", \"Wachiraya.csv\", 281154)"
            ],
            "text/plain": [
              "<IPython.core.display.Javascript object>"
            ]
          },
          "metadata": {
            "tags": []
          }
        }
      ]
    },
    {
      "cell_type": "markdown",
      "metadata": {
        "id": "i-cVs1sKpLVL"
      },
      "source": [
        "# 8 ปุณณมา"
      ]
    },
    {
      "cell_type": "code",
      "metadata": {
        "colab": {
          "base_uri": "https://localhost:8080/",
          "height": 399
        },
        "id": "ehjthFPujKMw",
        "outputId": "f55150ff-82a9-4954-d883-d38f6e810bb6"
      },
      "source": [
        "vdo_01_02_row = []\n",
        "df_frame = pd.DataFrame()\n",
        "df_raw = pd.DataFrame()\n",
        "df_fr = pd.DataFrame()\n",
        "\n",
        "# [Anongrat.xlsx, Isaree.xlsx, Jiratchaya.xlsx, Kittiya.xlsx, Krittika.xlsx, Monsrung.xlsx, Wachiraya.xlsx, ปุณณมา.xlsx, มานาพร.xlsx]\n",
        "filename = 'ปุณณมา'\n",
        "\n",
        "for files in glob.iglob(r'drive/MyDrive/AIHealthcare/AIcare_Phrase1/data/label_emotion/emotional_labeling/' + filename+ '/*.mp4'):\n",
        "  vdo_name = files[87:92]\n",
        "  print('vdo name =', vdo_name)\n",
        "  T_frames, fps = caminfo(files)\n",
        "  print('FPS = ', fps)\n",
        "  print('Total Frames = ', T_frames)\n",
        "  df = get_img(fps, vdo_name, filename)\n",
        "  print('Shape selected = ', df.shape)\n",
        "\n",
        "  if vdo_name == '01_02':\n",
        "    for row in range(df.shape[0]):\n",
        "      vdo_01_02_mem = []\n",
        "      for frame in range(df['start_frame'][row], df['end_frame'][row]+1):\n",
        "        vdo_01_02_mem.append(frame)\n",
        "      vdo_01_02_row.append([vdo_01_02_mem])\n",
        "    dict = {'Frames': vdo_01_02_row} \n",
        "    frame_df = pd.DataFrame(dict)\n",
        "    df_fr = df_fr.append(frame_df)\n",
        "\n",
        "  print('########################')\n",
        "  df_raw = df_raw.append(df)\n",
        "\n",
        "df_fr.reset_index(drop=True, inplace=True)\n",
        "df_raw.reset_index(drop=True, inplace=True)\n",
        "result = pd.concat([df_raw, df_fr], axis=1, join=\"inner\")\n",
        "print(result)\n",
        "\n",
        "from google.colab import files\n",
        "result.to_csv('ปุณณมา.csv') \n",
        "files.download('ปุณณมา.csv')"
      ],
      "execution_count": null,
      "outputs": [
        {
          "output_type": "stream",
          "text": [
            "vdo name = 01_02\n",
            "FPS =  29.97002997002997\n",
            "Total Frames =  91782\n",
            "Shape all data =  (175, 4)\n",
            "filename =  ปุณณมา\n",
            "Shape selected =  (175, 10)\n",
            "########################\n",
            "    source  ...                                             Frames\n",
            "0    01_02  ...  [[4585, 4586, 4587, 4588, 4589, 4590, 4591, 45...\n",
            "1    01_02  ...  [[5334, 5335, 5336, 5337, 5338, 5339, 5340, 53...\n",
            "2    01_02  ...  [[5604, 5605, 5606, 5607, 5608, 5609, 5610, 56...\n",
            "3    01_02  ...  [[6053, 6054, 6055, 6056, 6057, 6058, 6059, 60...\n",
            "4    01_02  ...  [[6413, 6414, 6415, 6416, 6417, 6418, 6419, 64...\n",
            "..     ...  ...                                                ...\n",
            "170  01_02  ...  [[56373, 56374, 56375, 56376, 56377, 56378, 56...\n",
            "171  01_02  ...  [[56463, 56464, 56465, 56466, 56467, 56468, 56...\n",
            "172  01_02  ...  [[57302, 57303, 57304, 57305, 57306, 57307, 57...\n",
            "173  01_02  ...  [[57392, 57393, 57394, 57395, 57396, 57397, 57...\n",
            "174  01_02  ...  [[57542, 57543, 57544, 57545, 57546, 57547, 57...\n",
            "\n",
            "[175 rows x 11 columns]\n"
          ],
          "name": "stdout"
        },
        {
          "output_type": "display_data",
          "data": {
            "application/javascript": [
              "\n",
              "    async function download(id, filename, size) {\n",
              "      if (!google.colab.kernel.accessAllowed) {\n",
              "        return;\n",
              "      }\n",
              "      const div = document.createElement('div');\n",
              "      const label = document.createElement('label');\n",
              "      label.textContent = `Downloading \"${filename}\": `;\n",
              "      div.appendChild(label);\n",
              "      const progress = document.createElement('progress');\n",
              "      progress.max = size;\n",
              "      div.appendChild(progress);\n",
              "      document.body.appendChild(div);\n",
              "\n",
              "      const buffers = [];\n",
              "      let downloaded = 0;\n",
              "\n",
              "      const channel = await google.colab.kernel.comms.open(id);\n",
              "      // Send a message to notify the kernel that we're ready.\n",
              "      channel.send({})\n",
              "\n",
              "      for await (const message of channel.messages) {\n",
              "        // Send a message to notify the kernel that we're ready.\n",
              "        channel.send({})\n",
              "        if (message.buffers) {\n",
              "          for (const buffer of message.buffers) {\n",
              "            buffers.push(buffer);\n",
              "            downloaded += buffer.byteLength;\n",
              "            progress.value = downloaded;\n",
              "          }\n",
              "        }\n",
              "      }\n",
              "      const blob = new Blob(buffers, {type: 'application/binary'});\n",
              "      const a = document.createElement('a');\n",
              "      a.href = window.URL.createObjectURL(blob);\n",
              "      a.download = filename;\n",
              "      div.appendChild(a);\n",
              "      a.click();\n",
              "      div.remove();\n",
              "    }\n",
              "  "
            ],
            "text/plain": [
              "<IPython.core.display.Javascript object>"
            ]
          },
          "metadata": {
            "tags": []
          }
        },
        {
          "output_type": "display_data",
          "data": {
            "application/javascript": [
              "download(\"download_329b4b2f-4cb8-4bdd-ac7f-8c8823ed8ff6\", \"\\u0e1b\\u0e38\\u0e13\\u0e13\\u0e21\\u0e32.csv\", 376838)"
            ],
            "text/plain": [
              "<IPython.core.display.Javascript object>"
            ]
          },
          "metadata": {
            "tags": []
          }
        }
      ]
    },
    {
      "cell_type": "markdown",
      "metadata": {
        "id": "z-4p6eWTpXuS"
      },
      "source": [
        "# 9 มานาพร"
      ]
    },
    {
      "cell_type": "code",
      "metadata": {
        "id": "McjpjIAEmY4t"
      },
      "source": [
        "vdo_01_02_row = []\n",
        "vdo_02_21_row = []\n",
        "vdo_03_31_row = []\n",
        "vdo_04_41_row = []\n",
        "vdo_05_83_row = []\n",
        "\n",
        "df_frame = pd.DataFrame()\n",
        "df_raw = pd.DataFrame()\n",
        "df_fr = pd.DataFrame()\n",
        "\n",
        "# [Anongrat.xlsx, Isaree.xlsx, Jiratchaya.xlsx, Kittiya.xlsx, Krittika.xlsx, Monsrung.xlsx, Wachiraya.xlsx, ปุณณมา.xlsx, มานาพร.xlsx]\n",
        "filename = 'มานาพร'\n",
        "\n",
        "for files in glob.iglob(r'drive/MyDrive/AIHealthcare/AIcare_Phrase1/data/label_emotion/emotional_labeling/' + filename+ '/*.mp4'):\n",
        "  vdo_name = files[87:92]\n",
        "  print('vdo name =', vdo_name)\n",
        "  T_frames, fps = caminfo(files)\n",
        "  print('FPS = ', fps)\n",
        "  print('Total Frames = ', T_frames)\n",
        "  df = get_img(fps, vdo_name, filename)\n",
        "  print('Shape selected = ', df.shape)\n",
        "\n",
        "  if vdo_name == '01_02':\n",
        "    for row in range(df.shape[0]):\n",
        "      vdo_01_02_mem = []\n",
        "      for frame in range(df['start_frame'][row], df['end_frame'][row]+1):\n",
        "        vdo_01_02_mem.append(frame)\n",
        "      vdo_01_02_row.append([vdo_01_02_mem])\n",
        "    dict = {'Frames': vdo_01_02_row} \n",
        "    frame_df = pd.DataFrame(dict)\n",
        "    df_fr = df_fr.append(frame_df)\n",
        "\n",
        "  elif vdo_name == '02_21':\n",
        "    for row in range(df.shape[0]):\n",
        "      vdo_02_21_mem = []\n",
        "      for frame in range(df['start_frame'][row], df['end_frame'][row]+1):\n",
        "        vdo_02_21_mem.append(frame)\n",
        "      vdo_02_21_row.append([vdo_02_21_mem])\n",
        "    dict = {'Frames': vdo_02_21_row} \n",
        "    frame_df = pd.DataFrame(dict)\n",
        "    df_fr = df_fr.append(frame_df)\n",
        "\n",
        "  elif vdo_name == '03_31':\n",
        "    for row in range(df.shape[0]):\n",
        "      vdo_03_31_mem = []\n",
        "      for frame in range(df['start_frame'][row], df['end_frame'][row]+1):\n",
        "        vdo_03_31_mem.append(frame)\n",
        "      vdo_03_31_row.append([vdo_03_31_mem])\n",
        "    dict = {'Frames': vdo_03_31_row} \n",
        "    frame_df = pd.DataFrame(dict)\n",
        "    df_fr = df_fr.append(frame_df)\n",
        "\n",
        "  elif vdo_name == '04_41':\n",
        "    for row in range(df.shape[0]):\n",
        "      vdo_04_41_mem = []\n",
        "      for frame in range(df['start_frame'][row], df['end_frame'][row]+1):\n",
        "        vdo_04_41_mem.append(frame)\n",
        "      vdo_04_41_row.append([vdo_04_41_mem])\n",
        "    dict = {'Frames': vdo_04_41_row} \n",
        "    frame_df = pd.DataFrame(dict)\n",
        "    df_fr = df_fr.append(frame_df)\n",
        "\n",
        "  elif vdo_name == '05_83':\n",
        "    for row in range(df.shape[0]):\n",
        "      vdo_05_83_mem = []\n",
        "      for frame in range(df['start_frame'][row], df['end_frame'][row]+1):\n",
        "        vdo_05_83_mem.append(frame)\n",
        "      vdo_05_83_row.append([vdo_05_83_mem])\n",
        "    dict = {'Frames': vdo_05_83_row} \n",
        "    frame_df = pd.DataFrame(dict)\n",
        "    df_fr = df_fr.append(frame_df)\n",
        "\n",
        "  print('########################')\n",
        "  df_raw = df_raw.append(df)\n",
        "\n",
        "df_fr.reset_index(drop=True, inplace=True)\n",
        "df_raw.reset_index(drop=True, inplace=True)\n",
        "result = pd.concat([df_raw, df_fr], axis=1, join=\"inner\")\n",
        "print(result)\n",
        "\n",
        "from google.colab import files\n",
        "result.to_csv('มานาพร.csv') \n",
        "files.download('มานาพร.csv')"
      ],
      "execution_count": null,
      "outputs": []
    },
    {
      "cell_type": "markdown",
      "metadata": {
        "id": "0aDC8-g1sPpL"
      },
      "source": [
        "# **Test**"
      ]
    },
    {
      "cell_type": "code",
      "metadata": {
        "id": "grh-JbDSNtEj"
      },
      "source": [
        "def get_landmarks(image):\n",
        "    data={}\n",
        "    detections = detector(image, 1)\n",
        "    for k,d in enumerate(detections): #For all detected face instances individually\n",
        "        shape = predictor(image, d) #Draw Facial Landmarks with the predictor class\n",
        "        xlist = []\n",
        "        ylist = []\n",
        "        for i in range(1,68): #Store X and Y coordinates in two lists\n",
        "            xlist.append(float(shape.part(i).x))\n",
        "            ylist.append(float(shape.part(i).y))\n",
        "        # calculate the center of gravity\n",
        "        xmean = np.mean(xlist)\n",
        "        ymean = np.mean(ylist)\n",
        "        # calculate the distance from center from both axis.\n",
        "        # this information is used to get the angle relative to center point.\n",
        "        xcentral = [(x-xmean) for x in xlist]\n",
        "        ycentral = [(y-ymean) for y in ylist]\n",
        "        landmarks_vectorised = []\n",
        "        for x, y, w, z in zip(xcentral, ycentral, xlist, ylist):\n",
        "            # append x and y values\n",
        "            landmarks_vectorised.append(w)\n",
        "            landmarks_vectorised.append(z)\n",
        "            meannp = np.asarray((ymean,xmean))\n",
        "            coornp = np.asarray((z,w))\n",
        "            # calculate the euclidiean distance from center\n",
        "            dist = np.linalg.norm(coornp-meannp)\n",
        "            # append the distance to the feature vector\n",
        "            landmarks_vectorised.append(dist)\n",
        "            # apend the angle relative to the center of gravity.\n",
        "            landmarks_vectorised.append(math.degrees(math.atan2(y,x)))\n",
        "        data['landmarks_vectorised'] = landmarks_vectorised\n",
        "    if len(detections) < 1:\n",
        "        data['landmarks_vestorised'] = \"error\"\n",
        "    return data"
      ],
      "execution_count": null,
      "outputs": []
    },
    {
      "cell_type": "code",
      "metadata": {
        "colab": {
          "base_uri": "https://localhost:8080/"
        },
        "id": "hVOjp440R2U5",
        "outputId": "48b766b1-f0bb-4cc7-d452-41426a53a5ae"
      },
      "source": [
        "# from feat import Detector\n",
        "face_model = \"MTCNN\" #MTCNN\n",
        "landmark_model = \"PFLD\" #PFLD\n",
        "au_model = \"rf\" # JAANET, DRML, logistic, svm, rf\n",
        "emotion_model = \"resmasknet\"\n",
        "detector = Detector(face_model = face_model, landmark_model = landmark_model, au_model = au_model, emotion_model = emotion_model)\n",
        "\n",
        "def calculate(img):\n",
        "  image_prediction = detector.detect_image(img)\n",
        "  df = image_prediction\n",
        "  return df\n",
        "\n",
        "# DRML      =>   AU01\tAU02\tAU04\tAU06\tAU07\tAU10\tAU12\tAU14\tAU15\tAU17\tAU23\tAU24\n",
        "# JAANET    =>   AU01\tAU02\tAU04\tAU06\tAU07\tAU10\tAU12\tAU14\tAU15\tAU17\tAU23\tAU24\n",
        "# logistic  =>   AU01\tAU02\tAU04\tAU05\tAU06\tAU07\tAU09\tAU10\tAU11\tAU12\tAU14\tAU15\tAU17\tAU20\tAU23\tAU24\tAU25\tAU26\tAU28\tAU43\n",
        "# svm       =>   AU01\tAU02\tAU04\tAU05\tAU06\tAU07\tAU09\tAU10\tAU11\tAU12\tAU14\tAU15\tAU17\tAU20\tAU23\tAU24\tAU25\tAU26\tAU28\tAU43\n",
        "# rf        =>   AU01\tAU02\tAU04\tAU05\tAU06\tAU07\tAU09\tAU10\tAU11\tAU12\tAU14\tAU15\tAU17\tAU20\tAU23\tAU24\tAU25\tAU26\tAU28\tAU43\n",
        "\n",
        "# # Find the file you want to process.\n",
        "# from feat.tests.utils import get_test_data_path\n",
        "# import os\n",
        "# test_data_dir = get_test_data_path()\n",
        "# test_image = os.path.join(test_data_dir, \"input.jpg\")\n",
        "# image_prediction = detector.detect_image(test_image)\n",
        "# image_prediction.aus()"
      ],
      "execution_count": null,
      "outputs": [
        {
          "output_type": "stream",
          "text": [
            "Loading Face Detection model:  MTCNN\n",
            "Using downloaded and verified file: /usr/local/lib/python3.7/dist-packages/feat/resources/onet.npy\n",
            "Using downloaded and verified file: /usr/local/lib/python3.7/dist-packages/feat/resources/pnet.npy\n",
            "Using downloaded and verified file: /usr/local/lib/python3.7/dist-packages/feat/resources/rnet.npy\n",
            "Using downloaded and verified file: /usr/local/lib/python3.7/dist-packages/feat/resources/pfld_model_best.pth.tar\n",
            "Using downloaded and verified file: /usr/local/lib/python3.7/dist-packages/feat/resources/hog_pca_all_emotio.joblib\n",
            "Using downloaded and verified file: /usr/local/lib/python3.7/dist-packages/feat/resources/hog_pca_all_emotio.joblib\n",
            "Using downloaded and verified file: /usr/local/lib/python3.7/dist-packages/feat/resources/hog_scalar_aus.joblib\n",
            "Using downloaded and verified file: /usr/local/lib/python3.7/dist-packages/feat/resources/RF_568.joblib\n",
            "Using downloaded and verified file: /usr/local/lib/python3.7/dist-packages/feat/resources/hog_pca_all_emotio.joblib\n",
            "Using downloaded and verified file: /usr/local/lib/python3.7/dist-packages/feat/resources/hog_scalar_aus.joblib\n",
            "Using downloaded and verified file: /usr/local/lib/python3.7/dist-packages/feat/resources/ResMaskNet_Z_resmasking_dropout1_rot30.pth\n",
            "Loading Face Landmark model:  PFLD\n",
            "Loading au model:  rf\n"
          ],
          "name": "stdout"
        },
        {
          "output_type": "stream",
          "text": [
            "/usr/local/lib/python3.7/dist-packages/sklearn/base.py:318: UserWarning: Trying to unpickle estimator PCA from version 0.24.1 when using version 0.22.2.post1. This might lead to breaking code or invalid results. Use at your own risk.\n",
            "  UserWarning)\n",
            "/usr/local/lib/python3.7/dist-packages/sklearn/base.py:318: UserWarning: Trying to unpickle estimator DecisionTreeClassifier from version 0.24.1 when using version 0.22.2.post1. This might lead to breaking code or invalid results. Use at your own risk.\n",
            "  UserWarning)\n",
            "/usr/local/lib/python3.7/dist-packages/sklearn/base.py:318: UserWarning: Trying to unpickle estimator RandomForestClassifier from version 0.24.1 when using version 0.22.2.post1. This might lead to breaking code or invalid results. Use at your own risk.\n",
            "  UserWarning)\n",
            "/usr/local/lib/python3.7/dist-packages/sklearn/base.py:318: UserWarning: Trying to unpickle estimator StandardScaler from version 0.24.1 when using version 0.22.2.post1. This might lead to breaking code or invalid results. Use at your own risk.\n",
            "  UserWarning)\n"
          ],
          "name": "stderr"
        },
        {
          "output_type": "stream",
          "text": [
            "Loading emotion model:  resmasknet\n"
          ],
          "name": "stdout"
        }
      ]
    },
    {
      "cell_type": "code",
      "metadata": {
        "id": "n0z9vgqK_qDQ"
      },
      "source": [
        "df = pd.read_csv('drive/MyDrive/AIHealthcare/AIcare_Phrase1/data/Test/Anongrat1.csv')\n",
        "filename = 'Anongrat'\n",
        "font = cv2.FONT_HERSHEY_SIMPLEX\n",
        "predsub = []\n",
        "predmain = []\n",
        " \n",
        "for files in glob.iglob(r'drive/MyDrive/AIHealthcare/AIcare_Phrase1/data/label_emotion/emotional_labeling/'+ filename+ '/*.mp4'):\n",
        "  df = pd.read_csv('drive/MyDrive/AIHealthcare/AIcare_Phrase1/data/Test/Anongrat1.csv')\n",
        "  vdo_name = files[89:94]\n",
        "  print('vdo_name =', vdo_name)\n",
        "  df = df.loc[df['source'] == vdo_name]\n",
        "  print('df', df.shape)\n",
        "  for i in tqdm(range(df.shape[0])): \n",
        "    frame_list = ast.literal_eval(df['Frames'][i])[0]\n",
        "    cap = cv2.VideoCapture('drive/MyDrive/AIHealthcare/AIcare_Phrase1/data/label_emotion/emotional_labeling/Anongrat/'+vdo_name+'.mp4')\n",
        "    predsub = []\n",
        "    for j in tqdm(range(len(frame_list))):\n",
        "      cap.set(cv2.CAP_PROP_POS_FRAMES, frame_list[j]) \n",
        "      success, image = cap.read()\n",
        "      df_au = calculate(image)   \n",
        "      predsub.append(df_au.values)\n",
        "    predmain.append(predsub)"
      ],
      "execution_count": null,
      "outputs": []
    },
    {
      "cell_type": "code",
      "metadata": {
        "colab": {
          "base_uri": "https://localhost:8080/",
          "height": 71
        },
        "id": "BoRCeACsWHut",
        "outputId": "8827a800-d969-4578-f15d-91e1f64449d1"
      },
      "source": [
        "np.save('Anongrat_01_02.npy', np.array(predmain))\n",
        "files.download('Anongrat_01_02.npy')"
      ],
      "execution_count": null,
      "outputs": [
        {
          "output_type": "stream",
          "text": [
            "/usr/local/lib/python3.7/dist-packages/ipykernel_launcher.py:1: VisibleDeprecationWarning: Creating an ndarray from ragged nested sequences (which is a list-or-tuple of lists-or-tuples-or ndarrays with different lengths or shapes) is deprecated. If you meant to do this, you must specify 'dtype=object' when creating the ndarray\n",
            "  \"\"\"Entry point for launching an IPython kernel.\n"
          ],
          "name": "stderr"
        },
        {
          "output_type": "display_data",
          "data": {
            "application/javascript": [
              "\n",
              "    async function download(id, filename, size) {\n",
              "      if (!google.colab.kernel.accessAllowed) {\n",
              "        return;\n",
              "      }\n",
              "      const div = document.createElement('div');\n",
              "      const label = document.createElement('label');\n",
              "      label.textContent = `Downloading \"${filename}\": `;\n",
              "      div.appendChild(label);\n",
              "      const progress = document.createElement('progress');\n",
              "      progress.max = size;\n",
              "      div.appendChild(progress);\n",
              "      document.body.appendChild(div);\n",
              "\n",
              "      const buffers = [];\n",
              "      let downloaded = 0;\n",
              "\n",
              "      const channel = await google.colab.kernel.comms.open(id);\n",
              "      // Send a message to notify the kernel that we're ready.\n",
              "      channel.send({})\n",
              "\n",
              "      for await (const message of channel.messages) {\n",
              "        // Send a message to notify the kernel that we're ready.\n",
              "        channel.send({})\n",
              "        if (message.buffers) {\n",
              "          for (const buffer of message.buffers) {\n",
              "            buffers.push(buffer);\n",
              "            downloaded += buffer.byteLength;\n",
              "            progress.value = downloaded;\n",
              "          }\n",
              "        }\n",
              "      }\n",
              "      const blob = new Blob(buffers, {type: 'application/binary'});\n",
              "      const a = document.createElement('a');\n",
              "      a.href = window.URL.createObjectURL(blob);\n",
              "      a.download = filename;\n",
              "      div.appendChild(a);\n",
              "      a.click();\n",
              "      div.remove();\n",
              "    }\n",
              "  "
            ],
            "text/plain": [
              "<IPython.core.display.Javascript object>"
            ]
          },
          "metadata": {
            "tags": []
          }
        },
        {
          "output_type": "display_data",
          "data": {
            "application/javascript": [
              "download(\"download_8d8351bc-5dfc-4682-a0f9-ffc6e7868a14\", \"Anongrat_01_02.npy\", 1568953)"
            ],
            "text/plain": [
              "<IPython.core.display.Javascript object>"
            ]
          },
          "metadata": {
            "tags": []
          }
        }
      ]
    },
    {
      "cell_type": "code",
      "metadata": {
        "colab": {
          "background_save": true
        },
        "id": "_M3BYfg8BiJY"
      },
      "source": [
        "df = pd.read_csv('drive/MyDrive/AIHealthcare/AIcare_Phrase1/data/Test/Anongrat1.csv')\n",
        "filename = 'Anongrat'\n",
        "font = cv2.FONT_HERSHEY_SIMPLEX\n",
        "predsub = []\n",
        "predmain = []\n",
        " \n",
        "for files in glob.iglob(r'drive/MyDrive/AIHealthcare/AIcare_Phrase1/data/label_emotion/emotional_labeling/'+ filename+ '/*.mp4'):\n",
        "  df = pd.read_csv('drive/MyDrive/AIHealthcare/AIcare_Phrase1/data/Test/Anongrat1.csv')\n",
        "  vdo_name = files[89:94]\n",
        "  if vdo_name != '01_02':\n",
        "    print('vdo_name =', vdo_name)\n",
        "    df = df.loc[df['source'] == vdo_name]\n",
        "    df.reset_index(drop=True, inplace=True)\n",
        "    print('df', df.shape)\n",
        "    for i in tqdm(range(df.shape[0])): \n",
        "      frame_list = ast.literal_eval(df['Frames'][i])[0]\n",
        "      cap = cv2.VideoCapture('drive/MyDrive/AIHealthcare/AIcare_Phrase1/data/label_emotion/emotional_labeling/Anongrat/'+vdo_name+'.mp4')\n",
        "      predsub = []\n",
        "      for j in tqdm(range(len(frame_list))):\n",
        "        cap.set(cv2.CAP_PROP_POS_FRAMES, frame_list[j]) \n",
        "        success, image = cap.read()\n",
        "        df_au = calculate(image)   \n",
        "        predsub.append(df_au.values)\n",
        "      predmain.append(predsub)\n",
        "    frame_df = pd.DataFrame({'Anongrat': predmain})\n",
        "    np.save('Anongrat'+vdo_name+'.npy', frame_df.values)\n",
        "    files.download('Anongrat.npy')"
      ],
      "execution_count": null,
      "outputs": []
    },
    {
      "cell_type": "code",
      "metadata": {
        "id": "NiBbbA2wAP_y"
      },
      "source": [
        "# Anger 4+5+7+23+24\n",
        "# stress 4+7\n",
        "# Sad 1+ 4 + 15\n",
        "data = np.load('drive/MyDrive/AIHealthcare/AIcare_Phrase1/data/Test/data_01_02.npy',allow_pickle=True)\n",
        "class_data = pd.DataFrame({'Frames': data.tolist()} )"
      ],
      "execution_count": null,
      "outputs": []
    },
    {
      "cell_type": "code",
      "metadata": {
        "id": "ERp8EhvULx8-"
      },
      "source": [
        "for i in range(class_data.shape[0]):\n",
        "  # print('i =', i)\n",
        "  for j in range(len(class_data.loc[i][0][0])):\n",
        "    # val = pd.DataFrame(class_data.loc[i][0][0][j], \n",
        "    #                    columns=['AU01', 'AU02', 'AU04', 'AU06',\n",
        "    #                             'AU07', 'AU10', 'AU12', 'AU14',\n",
        "    #                             'AU15','AU17', 'AU23', 'AU24'])\n",
        "    val = pd.DataFrame(class_data.loc[i][0][0][j], \n",
        "                       columns=['AU01', 'AU02', 'AU04', 'AU06',\n",
        "                                'AU07', 'AU10', 'AU12', 'AU14',\n",
        "                                'AU15','AU17', 'AU23', 'AU24'])\n",
        "    print(val.shape)\n",
        "  # print('j', j)\n",
        "    # print(val)"
      ],
      "execution_count": null,
      "outputs": []
    },
    {
      "cell_type": "code",
      "metadata": {
        "id": "cJlunFYu9KEI"
      },
      "source": [
        "# from google.colab import files\n",
        "# frame_df.to_csv('01_02.csv') \n",
        "# files.download('01_02.csv')"
      ],
      "execution_count": null,
      "outputs": []
    },
    {
      "cell_type": "code",
      "metadata": {
        "colab": {
          "base_uri": "https://localhost:8080/"
        },
        "id": "00SHd5ADu8sR",
        "outputId": "74765f3b-1a2c-40f3-941d-e90c58af1e3e"
      },
      "source": [
        "df = pd.read_excel('drive/MyDrive/AIHealthcare/AIcare_Phrase1/data/label_emotion/Anongrat.xlsx')\n",
        "print('Shape all data = ', df.shape)\n",
        "df = df.loc[df['แหล่งที่มา'] == '01_02']\n",
        "df.columns = ['source','time_range','class','persons']\n",
        "\n",
        "df[\"class\"].replace({'มีความสุข':'happy','ผ่อนคลาย':'relax',\n",
        "                  'มีความสุุข': 'happy','เครียด':'stress',\n",
        "                  'มีความสูข': 'happy', 'ผ่่อนคลาย': 'relax',\n",
        "                  'มีความสุจ': 'happy','เศร้า':'sad',\n",
        "                  'โกรธ':'anger','มีีความสุข': 'happy', 'เครีียด': 'stress',\n",
        "                  'เครียด (จริงจัง)': 'stress', 'มีความสุข (ประหลาดใจ)': 'happy',\n",
        "                  'อารมณ์โกรธ': 'anger'\n",
        "                  },inplace=True)\n",
        "\n",
        "df.reset_index(drop=True, inplace=True)\n",
        "df['start'] = df['time_range'].apply(lambda x: x.split(\"-\")[0].strip())\n",
        "df['end'] = df['time_range'].apply(lambda x: x.split(\"-\")[1].strip())\n",
        "df['start_sec'] = df['start'].apply(lambda x: float(x.split(\".\")[0].strip())*60 + float(x.split(\".\")[1].strip()))\n",
        "df['end_sec'] = df['end'].apply(lambda x: float(x.split(\".\")[0].strip())*60 + float(x.split(\".\")[1].strip()))\n",
        "df['start_frame'] = df['start_sec'].apply(lambda x: int(x*25.0)) # sec * FPS\n",
        "df['end_frame'] = df['end_sec'].apply(lambda x: int(x*25.0))"
      ],
      "execution_count": null,
      "outputs": [
        {
          "output_type": "stream",
          "text": [
            "Shape all data =  (101, 4)\n"
          ],
          "name": "stdout"
        }
      ]
    },
    {
      "cell_type": "code",
      "metadata": {
        "id": "w6MCGF39mQYz"
      },
      "source": [
        "# second = 0\n",
        "# cap.set(cv2.CAP_PROP_POS_MSEC, 21.6*1000) # optional\n",
        "# success, image = cap.read()\n",
        "\n",
        "# cap = cv2.VideoCapture('drive/MyDrive/AIHealthcare/AIcare_Phrase1/data/label_emotion/emotional_labeling/Anongrat/01_02.mp4')\n",
        "# fps = cap.get(cv2.CAP_PROP_FPS) \n",
        "# frame_count = cap.get(cv2.CAP_PROP_FRAME_COUNT)\n",
        "# duration = frame_count / fps\n",
        "# print('duration', duration)\n",
        "\n",
        "cap = cv2.VideoCapture('drive/MyDrive/AIHealthcare/AIcare_Phrase1/data/label_emotion/emotional_labeling/Anongrat/03_29.mp4')\n",
        "fps = cap.get(cv2.CAP_PROP_FPS) \n",
        "frame_count = cap.get(cv2.CAP_PROP_FRAME_COUNT)\n",
        "duration = frame_count / fps\n",
        "print('fps', fps)\n",
        "print('duration', duration)\n",
        "print('frame_count', frame_count)\n",
        "\n",
        "# second = 0\n",
        "# cap.set(cv2.CAP_PROP_POS_MSEC, 1.45 * 60 * 1000) # optional\n",
        "cap.set(cv2.CAP_PROP_POS_FRAMES, 5251) # optional\n",
        "success, image = cap.read()\n",
        "cv2_imshow(image)\n",
        "\n",
        "# while success and second <= duration:\n",
        "#     # do stuff\n",
        "#     second += 1\n",
        "#     cap.set(cv2.CAP_PROP_POS_MSEC, second * 1000)\n",
        "#     success, image = cap.read()\n",
        "#     cv2_imshow(image)\n",
        "\n",
        "# for i in range(df.shape[0]):\n",
        "#   for j in range()\n",
        "#   cap.set(cv2.CAP_PROP_POS_FRAMES, df['start_frame'][i])\n",
        "#   success, image = cap.read()"
      ],
      "execution_count": null,
      "outputs": []
    },
    {
      "cell_type": "code",
      "metadata": {
        "colab": {
          "base_uri": "https://localhost:8080/"
        },
        "id": "ycOs2jRcUUUQ",
        "outputId": "a798454e-30d1-43f1-a5cf-5876ffbcae0a"
      },
      "source": [
        "# print(frames_to_timecode(22999, 50, False))\n",
        "\n",
        "# from timecode import Timecode\n",
        "# tc1 = Timecode('50', '00:07:39:49')\n",
        "# print('tc1', tc1.frames)\n",
        "\n",
        "# tc2 = Timecode('50', '00:01:45:00')\n",
        "# print('tc2', tc2.frames)"
      ],
      "execution_count": null,
      "outputs": [
        {
          "output_type": "stream",
          "text": [
            "00:07:39:49\n"
          ],
          "name": "stdout"
        }
      ]
    },
    {
      "cell_type": "markdown",
      "metadata": {
        "id": "vnI0S8KM9FZO"
      },
      "source": [
        "# VDO_Test"
      ]
    },
    {
      "cell_type": "code",
      "metadata": {
        "colab": {
          "base_uri": "https://localhost:8080/"
        },
        "id": "ixMVjYelU9tH",
        "outputId": "e7ed9096-a674-4747-fe87-1fc7e22a858f"
      },
      "source": [
        "from google.colab import drive\n",
        "drive.mount('/content/drive')"
      ],
      "execution_count": null,
      "outputs": [
        {
          "output_type": "stream",
          "text": [
            "Mounted at /content/drive\n"
          ],
          "name": "stdout"
        }
      ]
    },
    {
      "cell_type": "code",
      "metadata": {
        "id": "nbWHdJi2-Rlc"
      },
      "source": [
        "import cv2\n",
        "import glob\n",
        "import dlib\n",
        "import ast\n",
        "import time\n",
        "from tqdm.notebook import tqdm\n",
        "import numpy as np\n",
        "from google.colab import files\n",
        "import pandas as pd\n",
        "import matplotlib.pyplot as plt\n",
        "from google.colab.patches import cv2_imshow\n",
        "from collections import Counter\n",
        "\n",
        "def my_mode(sample):\n",
        "  c = Counter(sample)\n",
        "  return [k for k, v in c.items() if v == c.most_common(1)[0][1]]\n",
        "\n",
        "def CountFrequency(my_list):\n",
        "   count = {}\n",
        "   for i in my_list:\n",
        "    count[i] = count.get(i, 0) + 1\n",
        "   return count"
      ],
      "execution_count": null,
      "outputs": []
    },
    {
      "cell_type": "code",
      "metadata": {
        "id": "vnmk4eDfU9x-"
      },
      "source": [
        "gt = pd.read_csv('drive/MyDrive/AIHealthcare/AIcare_Phrase1/data/Test/Anongrat/Aus/Anongrat_vdo.csv')\n",
        "print(pd.unique(gt['source']))\n",
        "df_01_02 = gt.loc[gt['source'] == '01_02']\n",
        "df_02_14 = gt.loc[gt['source'] == '02_14']\n",
        "df_03_29 = gt.loc[gt['source'] == '03_29']\n",
        "df_04_40 = gt.loc[gt['source'] == '04_40']\n",
        "df_05_55 = gt.loc[gt['source'] == '05_55']\n",
        "df_06_81 = gt.loc[gt['source'] == '06_81']\n",
        "\n",
        "# ls 'drive/MyDrive/AIHealthcare/AIcare_Phrase1/data/Test/Anongrat/Aus/'\n",
        "v_01_02 = pd.read_csv('drive/MyDrive/AIHealthcare/AIcare_Phrase1/data/Test/Anongrat/Aus/Anongrat_01_02.csv')\n",
        "v_02_14= pd.read_csv('drive/MyDrive/AIHealthcare/AIcare_Phrase1/data/Test/Anongrat/Aus/Anongrat_02_14_720.csv')\n",
        "v_03_29 = pd.read_csv('drive/MyDrive/AIHealthcare/AIcare_Phrase1/data/Test/Anongrat/Aus/Anongrat_03_29.csv')\n",
        "v_04_40 = pd.read_csv('drive/MyDrive/AIHealthcare/AIcare_Phrase1/data/Test/Anongrat/Aus/Anongrat_04_40.csv')\n",
        "v_05_55 = pd.read_csv('drive/MyDrive/AIHealthcare/AIcare_Phrase1/data/Test/Anongrat/Aus/Anongrat_05_55.csv')\n",
        "v_06_81 = pd.read_csv('drive/MyDrive/AIHealthcare/AIcare_Phrase1/data/Test/Anongrat/Aus/Anongrat_06_81.csv')\n",
        "print(v_01_02.columns)"
      ],
      "execution_count": null,
      "outputs": []
    },
    {
      "cell_type": "code",
      "metadata": {
        "id": "vAkw3keLxmOP"
      },
      "source": [
        "# anger = 0, stress = 1, sadness = 2, happiness = 3, relax = 4\n",
        "# anger = 0, disgust = 1, fear = 2, happiness = 3,sadness=4, surprise=5, neutral=6\n",
        "# ['df_01_02', 'df_02_14', 'df_03_29', 'df_04_40', 'df_05_55', 'df_06_81']\n",
        "# ['v_01_02',  'v_02_14',  'v_03_29',   'v_04_40',  'v_05_55', 'v_06_81']\n",
        "\n",
        "# AU01 = 0, AU02 = 1, AU04 = 2, AU05 = 3,\n",
        "# AU06 = 4, AU07 = 5, AU09 = 6, AU10 = 7,\n",
        "# AU11 = 8, AU12 = 9, AU14 = 10, AU15 = 11,\n",
        "# AU17 = 12, AU20 = 13, AU23 = 14, AU24 = 15,\n",
        "#  AU25 = 16, AU26 = 17, AU28 = 18, AU43 = 19\n",
        "# anger = 0, stress = 1, sadness = 2, happiness = 3, relax = 4\n",
        "# {0:'anger', 1:'disgust', 2:'fear', 3:'happy', 4:'sad', 5:'surprise', 6:'Neutral'})\n",
        "\n",
        "def getresult(ground_truth, prediction):\n",
        "  final_ans = []\n",
        "  ground_truth.reset_index(drop=True, inplace=True)\n",
        "  prediction.reset_index(drop=True, inplace=True)\n",
        "  for i in range(ground_truth.shape[0]): #loop in datafrane\n",
        "    start_frame = ground_truth['start_frame'][i]\n",
        "    end_frame = ground_truth['end_frame'][i]\n",
        "    # print('i =', i, ', start_frame : ', start_frame, ', end_frame : ', end_frame)\n",
        "    v_02 = prediction.loc[((prediction['frame'] > start_frame) & (prediction['frame'] < end_frame))]\n",
        "    emo = v_02[['anger', 'disgust', 'fear', 'happiness','sadness', 'surprise', 'neutral']].values\n",
        "    aus = v_02[['AU01', 'AU02', 'AU04', 'AU05', 'AU06', 'AU07', 'AU09', 'AU10',\n",
        "                'AU11', 'AU12', 'AU14', 'AU15', 'AU17', 'AU20', 'AU23', 'AU24', 'AU25',\n",
        "                'AU26', 'AU28', 'AU43']].values\n",
        "    emo_mean = np.argmax(np.mean(emo, axis=0))\n",
        "    ausp = predictau(aus)\n",
        "    final_ans.append(emo_mean)\n",
        "  pred_df = pd.DataFrame({'predict':final_ans}).replace({0:'anger', 1:'disgust', 2:'fear', 3:'happy', 4:'sad', 5:'surprise', 6:'Neutral'})\n",
        "  result = pd.concat([ground_truth, pred_df], axis=1, join=\"inner\")\n",
        "  return result\n",
        "\n",
        "def predictau(aus):\n",
        "  au_list = []\n",
        "  pred_list = []\n",
        "  threshold = 0.4\n",
        "\n",
        "  for j in range(aus.shape[0]): # for loop in frame\n",
        "    for i in range(20):\n",
        "      au_list.append(aus[j,i])\n",
        "    Anger  = (au_list[2] > threshold) & (au_list[3] > threshold) & (au_list[5] > threshold) & (au_list[14] > threshold) & (au_list[15] > threshold)\n",
        "    stress = (au_list[2] > threshold) & (au_list[5] > threshold)\n",
        "    sad    = (au_list[0] > threshold) & (au_list[2] > threshold) & (au_list[11] > threshold)\n",
        "    happy  = (au_list[4] > threshold) & (au_list[5] > threshold) & (au_list[9] > threshold) & (au_list[16] > threshold)\n",
        "    relax  = (au_list[9] > threshold) & (au_list[16] > threshold) & (au_list[17] > threshold) & (au_list[19] > threshold)\n",
        "    if Anger:\n",
        "      pred_list.append(0)\n",
        "    elif stress:\n",
        "      pred_list.append(0)\n",
        "    elif sad:\n",
        "      pred_list.append(4)\n",
        "    elif happy:\n",
        "      pred_list.append(3)\n",
        "    elif relax:\n",
        "      pred_list.append(6)\n",
        "    else:\n",
        "      pred_list.append(99)\n",
        "  fans = my_mode(pred_list)[0]\n",
        "  print(fans)\n",
        "  return fans"
      ],
      "execution_count": null,
      "outputs": []
    },
    {
      "cell_type": "code",
      "metadata": {
        "id": "LV9s5JJ-ZuBx"
      },
      "source": [
        "result_01_02 = getresult(df_01_02, v_01_02)\n",
        "result_02_14 = getresult(df_02_14, v_02_14)\n",
        "result_03_29 = getresult(df_03_29, v_03_29)\n",
        "result_04_40 = getresult(df_04_40, v_04_40)\n",
        "result_05_55 = getresult(df_05_55, v_05_55)\n",
        "result_06_81 = getresult(df_06_81, v_06_81)\n",
        "\n",
        "result = result_01_02.append([result_02_14, result_03_29, result_04_40, result_05_55, result_06_81 ])\n",
        "result.reset_index(drop=True, inplace=True)\n",
        "result.drop(['start_frame', 'end_frame'], axis=1, inplace=True)\n",
        "result = result.replace({'neutral':'Neutral'})\n",
        "result = result.replace({'anger':'negactivate', 'stress':'negactivate', 'disgust': 'negactivate', 'fear': 'negactivate'})\n",
        "result = result.drop(result[(result['class'] == 'surprise') | (result.predict == 'surprise')].index)\n",
        "# result = result.drop(result[result.predict == 'disgust'].index)\n",
        "from google.colab import data_table\n",
        "data_table.DataTable(result)"
      ],
      "execution_count": null,
      "outputs": []
    },
    {
      "cell_type": "code",
      "metadata": {
        "colab": {
          "base_uri": "https://localhost:8080/",
          "height": 560
        },
        "id": "71-qRUlR5o9_",
        "outputId": "2d46c9a9-cecb-4d40-f4c0-63e4558370de"
      },
      "source": [
        "from sklearn import metrics\n",
        "from sklearn.metrics import confusion_matrix\n",
        "import seaborn as sns; sns.set()\n",
        "\n",
        "target_names = ['Neutral', 'happy', 'negactivate', 'relax', 'sad']\n",
        "\n",
        "def plot_confus(pred_lable, truelable, target_names):\n",
        "  print(metrics.classification_report(pred_lable, truelable))\n",
        "  print('Accuracy: ',metrics.accuracy_score(truelable, pred_lable))\n",
        "\n",
        "  mat = confusion_matrix(truelable, pred_lable, target_names)\n",
        "  sns.heatmap(mat.T, square=True, annot=True, fmt='d', cmap=\"YlGnBu\")\n",
        "  # tick_marks = np.arange(len(target_names))\n",
        "  # plt.xticks(tick_marks, target_names, rotation ='vertical', ha='center')\n",
        "  # plt.yticks(tick_marks, target_names, rotation ='horizontal', ha='center')\n",
        "  plt.xlabel('true label')\n",
        "  plt.ylabel('predicted label'); \n",
        "\n",
        "plot_confus(result['predict'], result['class'], target_names)"
      ],
      "execution_count": null,
      "outputs": [
        {
          "output_type": "stream",
          "text": [
            "/usr/local/lib/python3.7/dist-packages/sklearn/metrics/_classification.py:1272: UndefinedMetricWarning: Recall and F-score are ill-defined and being set to 0.0 in labels with no true samples. Use `zero_division` parameter to control this behavior.\n",
            "  _warn_prf(average, modifier, msg_start, len(result))\n"
          ],
          "name": "stderr"
        },
        {
          "output_type": "stream",
          "text": [
            "              precision    recall  f1-score   support\n",
            "\n",
            "     Neutral       0.32      0.29      0.30        28\n",
            "       happy       0.50      0.50      0.50        16\n",
            " negactivate       0.27      0.13      0.18        30\n",
            "       relax       0.00      0.00      0.00         0\n",
            "         sad       0.00      0.00      0.00         8\n",
            "\n",
            "    accuracy                           0.24        82\n",
            "   macro avg       0.22      0.18      0.20        82\n",
            "weighted avg       0.30      0.24      0.27        82\n",
            "\n",
            "Accuracy:  0.24390243902439024\n"
          ],
          "name": "stdout"
        },
        {
          "output_type": "display_data",
          "data": {
            "image/png": "[encoded data removed]",
            "text/plain": [
              "<Figure size 432x288 with 2 Axes>"
            ]
          },
          "metadata": {
            "tags": []
          }
        }
      ]
    },
    {
      "cell_type": "code",
      "metadata": {
        "id": "0nHBuPHB4ja4"
      },
      "source": [
        "# # anger = 0, stress = 1, sadness = 2, happiness = 3, relax = 4\n",
        "# # anger = 0, disgust = 1, fear = 2, happiness = 3,sadness=4, surprise=5, neutral=6\n",
        "\n",
        "# ground_truth = df_01_02\n",
        "# prediction = v_01_02\n",
        "\n",
        "# final_ans = []\n",
        "# for i in range(ground_truth.shape[0]): #loop in datafrane\n",
        "#   start_frame = ground_truth['start_frame'][i]\n",
        "#   end_frame = ground_truth['end_frame'][i]\n",
        "#   print('i =', i, ', start_frame : ', start_frame, ', end_frame : ', end_frame)\n",
        "#   v_02 = prediction.loc[((prediction['frame'] > start_frame) & (prediction['frame'] < end_frame))]\n",
        "#   emo = v_02[['anger', 'disgust', 'fear', 'happiness','sadness', 'surprise', 'neutral']].values\n",
        "#   aus = v_02[['AU01', 'AU02', 'AU04', 'AU05', 'AU06', 'AU07', 'AU09', 'AU10',\n",
        "#               'AU11', 'AU12', 'AU14', 'AU15', 'AU17', 'AU20', 'AU23', 'AU24', 'AU25',\n",
        "#               'AU26', 'AU28', 'AU43']].values\n",
        "#   emo_mean = np.argmax(np.mean(emo, axis=0))\n",
        "#   print('emo_mean =', emo_mean)\n",
        "#   final_ans.append(emo_mean)\n",
        "\n",
        "#   ans = []       \n",
        "#   for j in range(emo.shape[0]): #loop in start_frame to end_frame\n",
        "#     pred_emo  = np.argmax(emo[j])\n",
        "#     ans.append(pred_emo)\n",
        "\n",
        "#     if pred_emo == 0:\n",
        "#       print('pred_emo =', 'anger')\n",
        "#     elif pred_emo == 1:\n",
        "#       print('pred_emo =', 'disgust')\n",
        "#     elif pred_emo == 2:\n",
        "#       print('pred_emo =', 'fear')\n",
        "#     elif pred_emo == 3:\n",
        "#       print('pred_emo =', 'happiness')\n",
        "#     elif pred_emo == 4:\n",
        "#       print('pred_emo =', 'sadness')      \n",
        "#     elif pred_emo == 5:\n",
        "#       print('pred_emo =', 'surprise')      \n",
        "#     elif pred_emo == 6:\n",
        "#       print('pred_emo =', 'neutral')      \n",
        "\n",
        "#   fin = my_mode(ans)\n",
        "#   print('fin', fin)\n",
        "#   print('###########################')\n",
        "\n",
        "  # AU01 = aus[j,0]\n",
        "  # AU02 = aus[j,1]\n",
        "  # AU04 = aus[j,2]\n",
        "  # AU05 = aus[j,3]\n",
        "  # AU06 = aus[j,4]\n",
        "  # AU07 = aus[j,5]\n",
        "  # AU09 = aus[j,6]\n",
        "  # AU10 = aus[j,7]\n",
        "  # AU11 = aus[j,8]\n",
        "  # AU12 = aus[j,9]\n",
        "  # AU14 = aus[j,10]\n",
        "  # AU15 = aus[j,11]\n",
        "  # AU17 = aus[j,12]\n",
        "  # AU20 = aus[j,13]\n",
        "  # AU23 = aus[j,14]\n",
        "  # AU24 = aus[j,15]\n",
        "  # AU25 = aus[j,16]\n",
        "  # AU26 = aus[j,17]\n",
        "  # AU28 = aus[j,18]\n",
        "  # AU43 = aus[j,19]"
      ],
      "execution_count": null,
      "outputs": []
    },
    {
      "cell_type": "markdown",
      "metadata": {
        "id": "3jXnn8BUOqQL"
      },
      "source": [
        "# Method2"
      ]
    },
    {
      "cell_type": "code",
      "metadata": {
        "colab": {
          "base_uri": "https://localhost:8080/"
        },
        "id": "NZFkXS43Qxzy",
        "outputId": "e9ad2ea5-2a6f-4c84-860c-2e24cf8b31d4"
      },
      "source": [
        "ls 'drive/MyDrive/AIHealthcare/AIcare_Phrase1/data/label_emotion/download.png'"
      ],
      "execution_count": null,
      "outputs": [
        {
          "output_type": "stream",
          "text": [
            "drive/MyDrive/AIHealthcare/AIcare_Phrase1/data/label_emotion/download.png\n"
          ],
          "name": "stdout"
        }
      ]
    },
    {
      "cell_type": "code",
      "metadata": {
        "id": "2DbEf8YTRsbo"
      },
      "source": [
        "faceDet = cv2.CascadeClassifier(\"drive/MyDrive/AIHealthcare/AIcare_Phrase1/haarcascades/haarcascade_frontalface_default.xml\")\n",
        "faceDet_two = cv2.CascadeClassifier(\"drive/MyDrive/AIHealthcare/AIcare_Phrase1/haarcascades/haarcascade_frontalface_alt2.xml\")\n",
        "predictor = dlib.shape_predictor(\"drive/MyDrive/AIHealthcare/AIcare_Phrase1/model/shape_predictor_68_face_landmarks.dat\") \n",
        "detector = dlib.get_frontal_face_detector() \n",
        "detectordlib = dlib.get_frontal_face_detector()\n",
        "\n",
        "def detect_faces(img):\n",
        "  face = faceDet.detectMultiScale(img, scaleFactor=1.1, minNeighbors=10, minSize=(5, 5), flags=cv2.CASCADE_SCALE_IMAGE)\n",
        "  face_two = faceDet_two.detectMultiScale(img, scaleFactor=1.1, minNeighbors=10, minSize=(5, 5), flags=cv2.CASCADE_SCALE_IMAGE)\n",
        "\n",
        "  if len(face) == 1:\n",
        "      facefeatures = face\n",
        "  elif len(face_two) == 1:\n",
        "      facefeatures = face_two\n",
        "  else:\n",
        "      facefeatures = \"\"\n",
        "\n",
        "  for (x, y, w, h) in facefeatures: \n",
        "      img = img[y:y+h, x:x+w] \n",
        "      try:\n",
        "          out = cv2.resize(img, (350, 350)) \n",
        "      except:\n",
        "          pass \n",
        "  return out"
      ],
      "execution_count": null,
      "outputs": []
    },
    {
      "cell_type": "code",
      "metadata": {
        "colab": {
          "base_uri": "https://localhost:8080/"
        },
        "id": "PdRrODyDgAsy",
        "outputId": "c52f4b05-005b-4a45-ae46-ec08d259b362"
      },
      "source": [
        "df = pd.read_csv('drive/MyDrive/AIHealthcare/AIcare_Phrase1/data/Test/Anongrat2.csv')\n",
        "# label_kaggle = (0=Angry, 1=Disgust, 2=Fear, 3=Happy, 4=Sad, 5=Surprise, 6=Neutral)\n",
        "pd.unique(df['source'])"
      ],
      "execution_count": null,
      "outputs": [
        {
          "output_type": "execute_result",
          "data": {
            "text/plain": [
              "array(['01_02', '02_14', '03_29', '04_40', '05_55', '06_81'], dtype=object)"
            ]
          },
          "metadata": {
            "tags": []
          },
          "execution_count": 6
        }
      ]
    },
    {
      "cell_type": "code",
      "metadata": {
        "id": "aBe5rJsxQh0f"
      },
      "source": [
        "df = pd.read_csv('drive/MyDrive/AIHealthcare/AIcare_Phrase1/data/Test/Anongrat2.csv')\n",
        "filename = 'Anongrat'\n",
        "font = cv2.FONT_HERSHEY_SIMPLEX\n",
        "rowimg = []\n",
        "label_img = []\n",
        "\n",
        "df = df.loc[df['source'] == '06_81']\n",
        "df.reset_index(drop=True, inplace=True)\n",
        "print('df', df.shape)\n",
        "\n",
        "for i in tqdm(range(df.shape[0])):\n",
        "  seqimg = []\n",
        "  for j in range(df['start_frame'][i], df['end_frame'][i]):\n",
        "    cap = cv2.VideoCapture('drive/MyDrive/AIHealthcare/AIcare_Phrase1/data/label_emotion/emotional_labeling/Anongrat/06_81.mp4')\n",
        "    cap.set(cv2.CAP_PROP_POS_FRAMES, j)\n",
        "    success, image = cap.read()\n",
        "    scale_percent = 30 \n",
        "    width = int(image.shape[1] * scale_percent / 100)\n",
        "    height = int(image.shape[0] * scale_percent / 100)\n",
        "    dim = (width, height)\n",
        "    resized = cv2.resize(image, dim, interpolation = cv2.INTER_AREA)\n",
        "    try:\n",
        "      faceimg = detect_faces(resized)\n",
        "    except:\n",
        "      faceimg = cv2.imread('drive/MyDrive/AIHealthcare/AIcare_Phrase1/data/label_emotion/download.png')\n",
        "    seqimg.append(faceimg) \n",
        "    # cv2_imshow(faceimg)\n",
        "  rowimg.append(seqimg)\n",
        "  label_img.append(df['class'][i])\n",
        "\n",
        "df_06_81 = pd.DataFrame({'img': rowimg, 'label': label_img})\n",
        "np.save('df_06_81.npy', df_06_81.values)"
      ],
      "execution_count": null,
      "outputs": []
    },
    {
      "cell_type": "code",
      "metadata": {
        "id": "JTK-YIc4fUT4"
      },
      "source": [
        "!cp '/content/df_03_29.npy' 'drive/MyDrive/AIHealthcare/AIcare_Phrase1/data/label_emotion/prepare_data/'"
      ],
      "execution_count": 8,
      "outputs": []
    },
    {
      "cell_type": "code",
      "metadata": {
        "id": "2s4bYgRYeMaZ"
      },
      "source": [
        "ls 'drive/MyDrive/AIHealthcare/AIcare_Phrase1/data/label_emotion/prepare_data/'"
      ],
      "execution_count": null,
      "outputs": []
    },
    {
      "cell_type": "code",
      "metadata": {
        "id": "KoYypXrPSCsM"
      },
      "source": [
        "data = np.load(\"drive/MyDrive/AIHealthcare/AIcare_Phrase1/data/mid_feame_6c.npy\", allow_pickle=True)"
      ],
      "execution_count": null,
      "outputs": []
    },
    {
      "cell_type": "code",
      "metadata": {
        "colab": {
          "base_uri": "https://localhost:8080/"
        },
        "id": "KKn8ny021N40",
        "outputId": "d5f5110c-8ba2-477d-b7e8-462cf913108f"
      },
      "source": [
        "!pip install EmoPy"
      ],
      "execution_count": 10,
      "outputs": [
        {
          "output_type": "stream",
          "text": [
            "\u001b[31mERROR: Could not find a version that satisfies the requirement EmoPy (from versions: none)\u001b[0m\n",
            "\u001b[31mERROR: No matching distribution found for EmoPy\u001b[0m\n"
          ],
          "name": "stdout"
        }
      ]
    },
    {
      "cell_type": "code",
      "metadata": {
        "id": "9zBbSYqW1OC8"
      },
      "source": [
        ""
      ],
      "execution_count": null,
      "outputs": []
    }
  ]
}