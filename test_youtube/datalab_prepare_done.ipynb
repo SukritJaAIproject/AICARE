{
  "nbformat": 4,
  "nbformat_minor": 0,
  "metadata": {
    "colab": {
      "name": "datalab_prepare_done.ipynb",
      "provenance": [],
      "collapsed_sections": []
    },
    "kernelspec": {
      "display_name": "Python 3",
      "name": "python3"
    },
    "language_info": {
      "name": "python"
    },
    "widgets": {
      "application/vnd.jupyter.widget-state+json": {
        "8bba6c998ed34d40a85b4655541d5860": {
          "model_module": "@jupyter-widgets/controls",
          "model_name": "HBoxModel",
          "state": {
            "_view_name": "HBoxView",
            "_dom_classes": [],
            "_model_name": "HBoxModel",
            "_view_module": "@jupyter-widgets/controls",
            "_model_module_version": "1.5.0",
            "_view_count": null,
            "_view_module_version": "1.5.0",
            "box_style": "",
            "layout": "IPY_MODEL_e1b0c6c7c7d040d485422f27bbb8c75e",
            "_model_module": "@jupyter-widgets/controls",
            "children": [
              "IPY_MODEL_c081d787c6664d33962c422ec8ee7fa5",
              "IPY_MODEL_18f13f039b7f42d7a1d8711b04cbf7ef"
            ]
          }
        },
        "e1b0c6c7c7d040d485422f27bbb8c75e": {
          "model_module": "@jupyter-widgets/base",
          "model_name": "LayoutModel",
          "state": {
            "_view_name": "LayoutView",
            "grid_template_rows": null,
            "right": null,
            "justify_content": null,
            "_view_module": "@jupyter-widgets/base",
            "overflow": null,
            "_model_module_version": "1.2.0",
            "_view_count": null,
            "flex_flow": null,
            "width": null,
            "min_width": null,
            "border": null,
            "align_items": null,
            "bottom": null,
            "_model_module": "@jupyter-widgets/base",
            "top": null,
            "grid_column": null,
            "overflow_y": null,
            "overflow_x": null,
            "grid_auto_flow": null,
            "grid_area": null,
            "grid_template_columns": null,
            "flex": null,
            "_model_name": "LayoutModel",
            "justify_items": null,
            "grid_row": null,
            "max_height": null,
            "align_content": null,
            "visibility": null,
            "align_self": null,
            "height": null,
            "min_height": null,
            "padding": null,
            "grid_auto_rows": null,
            "grid_gap": null,
            "max_width": null,
            "order": null,
            "_view_module_version": "1.2.0",
            "grid_template_areas": null,
            "object_position": null,
            "object_fit": null,
            "grid_auto_columns": null,
            "margin": null,
            "display": null,
            "left": null
          }
        },
        "c081d787c6664d33962c422ec8ee7fa5": {
          "model_module": "@jupyter-widgets/controls",
          "model_name": "FloatProgressModel",
          "state": {
            "_view_name": "ProgressView",
            "style": "IPY_MODEL_b828ec00d8ff4b368a9ed8316c720d4d",
            "_dom_classes": [],
            "description": "  0%",
            "_model_name": "FloatProgressModel",
            "bar_style": "",
            "max": 74,
            "_view_module": "@jupyter-widgets/controls",
            "_model_module_version": "1.5.0",
            "value": 0,
            "_view_count": null,
            "_view_module_version": "1.5.0",
            "orientation": "horizontal",
            "min": 0,
            "description_tooltip": null,
            "_model_module": "@jupyter-widgets/controls",
            "layout": "IPY_MODEL_1ef2be55103f492cb133e308a9c2881e"
          }
        },
        "18f13f039b7f42d7a1d8711b04cbf7ef": {
          "model_module": "@jupyter-widgets/controls",
          "model_name": "HTMLModel",
          "state": {
            "_view_name": "HTMLView",
            "style": "IPY_MODEL_19fe42d187854c70acf3142fb2469e05",
            "_dom_classes": [],
            "description": "",
            "_model_name": "HTMLModel",
            "placeholder": "​",
            "_view_module": "@jupyter-widgets/controls",
            "_model_module_version": "1.5.0",
            "value": " 0/74 [00:00&lt;?, ?it/s]",
            "_view_count": null,
            "_view_module_version": "1.5.0",
            "description_tooltip": null,
            "_model_module": "@jupyter-widgets/controls",
            "layout": "IPY_MODEL_4ede24eb79c24803a5603c1e90a1aca7"
          }
        },
        "b828ec00d8ff4b368a9ed8316c720d4d": {
          "model_module": "@jupyter-widgets/controls",
          "model_name": "ProgressStyleModel",
          "state": {
            "_view_name": "StyleView",
            "_model_name": "ProgressStyleModel",
            "description_width": "initial",
            "_view_module": "@jupyter-widgets/base",
            "_model_module_version": "1.5.0",
            "_view_count": null,
            "_view_module_version": "1.2.0",
            "bar_color": null,
            "_model_module": "@jupyter-widgets/controls"
          }
        },
        "1ef2be55103f492cb133e308a9c2881e": {
          "model_module": "@jupyter-widgets/base",
          "model_name": "LayoutModel",
          "state": {
            "_view_name": "LayoutView",
            "grid_template_rows": null,
            "right": null,
            "justify_content": null,
            "_view_module": "@jupyter-widgets/base",
            "overflow": null,
            "_model_module_version": "1.2.0",
            "_view_count": null,
            "flex_flow": null,
            "width": null,
            "min_width": null,
            "border": null,
            "align_items": null,
            "bottom": null,
            "_model_module": "@jupyter-widgets/base",
            "top": null,
            "grid_column": null,
            "overflow_y": null,
            "overflow_x": null,
            "grid_auto_flow": null,
            "grid_area": null,
            "grid_template_columns": null,
            "flex": null,
            "_model_name": "LayoutModel",
            "justify_items": null,
            "grid_row": null,
            "max_height": null,
            "align_content": null,
            "visibility": null,
            "align_self": null,
            "height": null,
            "min_height": null,
            "padding": null,
            "grid_auto_rows": null,
            "grid_gap": null,
            "max_width": null,
            "order": null,
            "_view_module_version": "1.2.0",
            "grid_template_areas": null,
            "object_position": null,
            "object_fit": null,
            "grid_auto_columns": null,
            "margin": null,
            "display": null,
            "left": null
          }
        },
        "19fe42d187854c70acf3142fb2469e05": {
          "model_module": "@jupyter-widgets/controls",
          "model_name": "DescriptionStyleModel",
          "state": {
            "_view_name": "StyleView",
            "_model_name": "DescriptionStyleModel",
            "description_width": "",
            "_view_module": "@jupyter-widgets/base",
            "_model_module_version": "1.5.0",
            "_view_count": null,
            "_view_module_version": "1.2.0",
            "_model_module": "@jupyter-widgets/controls"
          }
        },
        "4ede24eb79c24803a5603c1e90a1aca7": {
          "model_module": "@jupyter-widgets/base",
          "model_name": "LayoutModel",
          "state": {
            "_view_name": "LayoutView",
            "grid_template_rows": null,
            "right": null,
            "justify_content": null,
            "_view_module": "@jupyter-widgets/base",
            "overflow": null,
            "_model_module_version": "1.2.0",
            "_view_count": null,
            "flex_flow": null,
            "width": null,
            "min_width": null,
            "border": null,
            "align_items": null,
            "bottom": null,
            "_model_module": "@jupyter-widgets/base",
            "top": null,
            "grid_column": null,
            "overflow_y": null,
            "overflow_x": null,
            "grid_auto_flow": null,
            "grid_area": null,
            "grid_template_columns": null,
            "flex": null,
            "_model_name": "LayoutModel",
            "justify_items": null,
            "grid_row": null,
            "max_height": null,
            "align_content": null,
            "visibility": null,
            "align_self": null,
            "height": null,
            "min_height": null,
            "padding": null,
            "grid_auto_rows": null,
            "grid_gap": null,
            "max_width": null,
            "order": null,
            "_view_module_version": "1.2.0",
            "grid_template_areas": null,
            "object_position": null,
            "object_fit": null,
            "grid_auto_columns": null,
            "margin": null,
            "display": null,
            "left": null
          }
        }
      }
    },
    "accelerator": "GPU"
  },
  "cells": [
    {
      "cell_type": "code",
      "metadata": {
        "colab": {
          "base_uri": "https://localhost:8080/"
        },
        "id": "kPFVCHjcQrEv",
        "outputId": "561d6972-dc67-431c-aeb4-864995f8dcb1"
      },
      "source": [
        "!pip install -q py-feat\n",
        "# !pip install -q facial-emotion-recognition\n",
        "# !pip install -q fer\n",
        "# !pip install -q deepface\n",
        "# !pip install -q mtcnn"
      ],
      "execution_count": 1,
      "outputs": [
        {
          "output_type": "stream",
          "text": [
            "\u001b[K     |████████████████████████████████| 6.0MB 9.4MB/s \n",
            "\u001b[K     |████████████████████████████████| 3.3MB 33.9MB/s \n",
            "\u001b[K     |████████████████████████████████| 57.4MB 92kB/s \n",
            "\u001b[K     |████████████████████████████████| 4.9MB 41.1MB/s \n",
            "\u001b[?25h  Building wheel for py-feat (setup.py) ... \u001b[?25l\u001b[?25hdone\n"
          ],
          "name": "stdout"
        }
      ]
    },
    {
      "cell_type": "code",
      "metadata": {
        "id": "Kpu_xoUpRHxW",
        "colab": {
          "base_uri": "https://localhost:8080/"
        },
        "outputId": "cf0d74b5-eaff-4edf-e275-9b5a2ed27aad"
      },
      "source": [
        "from google.colab import drive\n",
        "drive.mount('/content/drive')\n",
        "\n",
        "import numpy as np\n",
        "import pandas as pd\n",
        "from feat import Detector\n",
        "import glob\n",
        "import math\n",
        "import dlib\n",
        "import joblib\n",
        "import cv2\n",
        "from tqdm.notebook import tqdm\n",
        "from google.colab.patches import cv2_imshow\n",
        "from collections import Counter"
      ],
      "execution_count": 2,
      "outputs": [
        {
          "output_type": "stream",
          "text": [
            "Mounted at /content/drive\n"
          ],
          "name": "stdout"
        },
        {
          "output_type": "stream",
          "text": [
            "/usr/local/lib/python3.7/dist-packages/statsmodels/tools/_testing.py:19: FutureWarning: pandas.util.testing is deprecated. Use the functions in the public API at pandas.testing instead.\n",
            "  import pandas.util.testing as tm\n",
            "/usr/local/lib/python3.7/dist-packages/nilearn/datasets/__init__.py:89: FutureWarning: Fetchers from the nilearn.datasets module will be updated in version 0.9 to return python strings instead of bytes and Pandas dataframes instead of Numpy arrays.\n",
            "  \"Numpy arrays.\", FutureWarning)\n"
          ],
          "name": "stderr"
        }
      ]
    },
    {
      "cell_type": "code",
      "metadata": {
        "id": "H2v82PSkQ0Fu"
      },
      "source": [
        "################# py-feat\n",
        "face_model = \"retinaface\"\n",
        "landmark_model = \"MobileNet\"\n",
        "au_model = \"svm\"\n",
        "emotion_model = \"resmasknet\" #resmasknet,fer, svm, rf\n",
        "detector = Detector(face_model = face_model, landmark_model = landmark_model, au_model = au_model, emotion_model = emotion_model)"
      ],
      "execution_count": null,
      "outputs": []
    },
    {
      "cell_type": "code",
      "metadata": {
        "colab": {
          "base_uri": "https://localhost:8080/"
        },
        "id": "KhlYnFD5T2Vm",
        "outputId": "7eb9a4f5-bd45-4d00-8b77-a391981e16a2"
      },
      "source": [
        "ls 'drive/MyDrive/file2/vdo/Isaree/02_Bell.mp4'"
      ],
      "execution_count": 12,
      "outputs": [
        {
          "output_type": "stream",
          "text": [
            "drive/MyDrive/file2/vdo/Isaree/02_Bell.mp4\n"
          ],
          "name": "stdout"
        }
      ]
    },
    {
      "cell_type": "code",
      "metadata": {
        "colab": {
          "base_uri": "https://localhost:8080/"
        },
        "id": "PUIeopKRocpX",
        "outputId": "edc61f6a-ceb4-4ec2-e236-2f7bdf3f7859"
      },
      "source": [
        "ls 'drive/MyDrive/file2/done'"
      ],
      "execution_count": 6,
      "outputs": [
        {
          "output_type": "stream",
          "text": [
            "face2_01_KARNMAY_P1.csv       face6_01_mintchyy_ep2_P1.csv\n",
            "face2_01_KARNMAY.xlsx         face6_01_mintchyy_ep2.xlsx\n",
            "face2_02_Kemisara_P1.csv      face6_02_Babyjingko_P1.csv\n",
            "face2_02_Kemisara.xlsx        face6_02_Babyjingko.xlsx\n",
            "face5_01_jaysbabyfood_P1.csv  face7_01_mintchyy_QA_100_P1.csv\n",
            "face5_01_jaysbabyfood.xlsx    face7_01_mintchyy_QA_100.xlsx\n",
            "face5_02_gssspotted_P1.csv    face_7_2_01_thematter_P1.csv\n",
            "face5_02_gssspotted.xlsx      face_7_2_01_thematter.xlsx\n",
            "face5_03_clubfriday_P1.csv    \u001b[0m\u001b[01;34mold\u001b[0m/\n",
            "face5_03_clubfriday.xlsx\n"
          ],
          "name": "stdout"
        }
      ]
    },
    {
      "cell_type": "code",
      "metadata": {
        "colab": {
          "base_uri": "https://localhost:8080/",
          "height": 65,
          "referenced_widgets": [
            "8bba6c998ed34d40a85b4655541d5860",
            "e1b0c6c7c7d040d485422f27bbb8c75e",
            "c081d787c6664d33962c422ec8ee7fa5",
            "18f13f039b7f42d7a1d8711b04cbf7ef",
            "b828ec00d8ff4b368a9ed8316c720d4d",
            "1ef2be55103f492cb133e308a9c2881e",
            "19fe42d187854c70acf3142fb2469e05",
            "4ede24eb79c24803a5603c1e90a1aca7"
          ]
        },
        "id": "kh56HGqYnvD4",
        "outputId": "859c843f-c1e0-446e-cf0f-5fd211acb7c2"
      },
      "source": [
        "from shutil import copyfile, copy\n",
        "filepath = 'drive/MyDrive/file2/done/face2_02_Kemisara_P1.csv'\n",
        "vdopath = 'drive/MyDrive/file2/vdo/Isaree/02_Bell.mp4'\n",
        "df = pd.read_csv(filepath)\n",
        "dictT = {'Neutral':'neutral', 'มีความสุข':'happy', 'ผ่อนคลาย':'neutral', 'เครียด':'angry', 'เศร้า':'sad',\n",
        "         'มีความสุช':'happy', 'โกรธ':'angry', 'มีความสุุข':'happy', 'มีความสูข':'happy', 'ผ่่อนคลาย':'neutral',\n",
        "         'ตื่นเต้น':'happy', 'ประหลาดใจ':'surprise', 'จริงจัง':'angry', 'neutral ': 'neutral', 'ผ่อ่นคลาย':'neutral',\n",
        "         'มีตวามสุข':'happy', 'โกรธ ':'angry'}\n",
        "\n",
        "df['done'] = df['done'].replace(dictT)\n",
        "print([pd.unique(df['done'])])\n",
        "\n",
        "for i in tqdm(range(df.shape[0])):\n",
        "  for j in range(df['start_frame'][i], df['end_frame'][i],5):\n",
        "    cap = cv2.VideoCapture(vdopath)\n",
        "    cap.set(cv2.CAP_PROP_POS_FRAMES, j)\n",
        "    success, image = cap.read()\n",
        "    faceimg = detector.detect_faces(image)\n",
        "    try:\n",
        "      pos = faceimg[0][:4] # [FaceRectX, FaceRectY, FaceRectWidth, FaceRectHeight]\n",
        "      cropimg =image[int(pos[1]):int(pos[3]),int(pos[0]):int(pos[2])] #[x, y, width, height]  \n",
        "      dim = (224, 224)\n",
        "      resized = cv2.resize(cropimg, dim)\n",
        "      # cv2_imshow(resized)\n",
        "      filename = 'lab.png'\n",
        "      cv2.imwrite(filename, resized)\n",
        "      emotion = df['done'][i]\n",
        "      dst = 'lab'+str(j)+'.png'\n",
        "      terminal_path = \"drive/MyDrive/AIHealthcare/AIcare_Phrase1/data/trainset_separate/face_datalab_done/{0}/{1}\".format(emotion, dst)\n",
        "      copyfile('/content/lab.png', terminal_path)\n",
        "    except:\n",
        "      pass"
      ],
      "execution_count": null,
      "outputs": [
        {
          "output_type": "stream",
          "text": [
            "[array(['happy', 'neutral', 'angry'], dtype=object)]\n"
          ],
          "name": "stdout"
        },
        {
          "output_type": "display_data",
          "data": {
            "application/vnd.jupyter.widget-view+json": {
              "model_id": "8bba6c998ed34d40a85b4655541d5860",
              "version_minor": 0,
              "version_major": 2
            },
            "text/plain": [
              "HBox(children=(FloatProgress(value=0.0, max=74.0), HTML(value='')))"
            ]
          },
          "metadata": {
            "tags": []
          }
        }
      ]
    }
  ]
}