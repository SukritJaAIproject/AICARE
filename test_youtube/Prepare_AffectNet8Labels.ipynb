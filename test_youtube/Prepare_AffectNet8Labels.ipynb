{
  "nbformat": 4,
  "nbformat_minor": 0,
  "metadata": {
    "colab": {
      "name": "Prepare_AffectNet8Labels.ipynb",
      "provenance": [],
      "collapsed_sections": []
    },
    "kernelspec": {
      "name": "python3",
      "display_name": "Python 3"
    },
    "language_info": {
      "name": "python"
    }
  },
  "cells": [
    {
      "cell_type": "code",
      "metadata": {
        "id": "Gkks0vFAiJKx"
      },
      "source": [
        "from google.colab import drive\n",
        "drive.mount('/content/drive')"
      ],
      "execution_count": null,
      "outputs": []
    },
    {
      "cell_type": "code",
      "metadata": {
        "id": "CBUtJqdenK9s"
      },
      "source": [
        "import numpy as np\n",
        "import glob\n",
        "import pandas as pd"
      ],
      "execution_count": 2,
      "outputs": []
    },
    {
      "cell_type": "code",
      "metadata": {
        "id": "mtNdAo3XiT2u"
      },
      "source": [
        "# !tar -xvf 'drive/MyDrive/AIHealthcare/AIcare_Phrase1/data/AffectNet8Labels/val_set.tar' -C \"drive/MyDrive/AIHealthcare/AIcare_Phrase1/data/AffectNet8Labels/unzip\" \n",
        "# data = np.load('drive/MyDrive/AIHealthcare/AIcare_Phrase1/data/AffectNet8Labels/unzip/val_set/annotations/1980_exp.npy')\n",
        "# ls 'drive/MyDrive/AIHealthcare/AIcare_Phrase1/data/AffectNet8Labels/unzip/train_set/images'\n",
        "# ls 'drive/MyDrive/AIHealthcare/AIcare_Phrase1/data/AffectNet8Labels/unzip/train_set/images/339866.jpg'\n",
        "# ls 'drive/MyDrive/AIHealthcare/AIcare_Phrase1/data/AffectNet8Labels/unzip/train_set/images/339866.jpg'"
      ],
      "execution_count": null,
      "outputs": []
    },
    {
      "cell_type": "code",
      "metadata": {
        "id": "EK0Wm3senJ2u"
      },
      "source": [
        "dataname = []\n",
        "label = []\n",
        "for name in sorted(glob.glob('drive/MyDrive/AIHealthcare/AIcare_Phrase1/data/AffectNet8Labels/unzip/train_set/annotations/*exp.npy')):\n",
        "  # print(name[92:-8])\n",
        "  dataname.append(int(name[92:-8]))\n",
        "  data = np.load(name)\n",
        "  label_val = int(data.item())\n",
        "  label.append(label_val)\n",
        "val_set_df = pd.DataFrame({'name':dataname, 'label':label})\n",
        "val_set_df = val_set_df.sort_values('name')\n",
        "\n",
        "from google.colab import files\n",
        "val_set_df.to_csv('train_set_df.csv') \n",
        "files.download('train_set_df.csv')"
      ],
      "execution_count": null,
      "outputs": []
    },
    {
      "cell_type": "code",
      "metadata": {
        "id": "ArsRg1JB0Y9M"
      },
      "source": [
        "imagname = []\n",
        "path = []\n",
        "for name in glob.glob('drive/MyDrive/AIHealthcare/AIcare_Phrase1/data/AffectNet8Labels/unzip/train_set/images/*.jpg'):\n",
        "  # print(name[87:-4])\n",
        "  imagname.append(int(name[87:-4]))\n",
        "  path.append(name)\n",
        "\n",
        "val_setimg = pd.DataFrame({'imagname':imagname, 'path':path})\n",
        "val_setimg = val_setimg.sort_values('imagname')\n",
        "\n",
        "from google.colab import files\n",
        "val_setimg.to_csv('train_setimg.csv') \n",
        "files.download('train_setimg.csv')"
      ],
      "execution_count": null,
      "outputs": []
    },
    {
      "cell_type": "code",
      "metadata": {
        "id": "HFMiLz2u2hoU"
      },
      "source": [
        "# ls 'drive/MyDrive/AIHealthcare/AIcare_Phrase1/data/AffectNet8Labels/unzip/val_set/'\n",
        "# val_set_df = pd.read_csv('drive/MyDrive/AIHealthcare/AIcare_Phrase1/data/AffectNet8Labels/unzip/val_set/val_set_df.csv')\n",
        "# val_setimg = pd.read_csv('drive/MyDrive/AIHealthcare/AIcare_Phrase1/data/AffectNet8Labels/unzip/val_set/val_setimg.csv')\n",
        "\n",
        "tr_set_df = pd.read_csv('drive/MyDrive/AIHealthcare/AIcare_Phrase1/data/AffectNet8Labels/unzip/train_set/train_set_df_rm_idx.csv')\n",
        "tr_set_df.index = tr_set_df['name']\n",
        "tr_setimg = pd.read_csv('drive/MyDrive/AIHealthcare/AIcare_Phrase1/data/AffectNet8Labels/unzip/train_set/train_setimg_rm_idx.csv')\n",
        "tr_setimg.index = tr_setimg['imagname']\n",
        "# result = pd.concat([val_setimg, val_set_df], axis=1, join=\"inner\")\n",
        "result = pd.concat([tr_setimg, tr_set_df], axis=1, join=\"inner\")\n",
        "\n",
        "from google.colab import files\n",
        "result.to_csv('df_train.csv') \n",
        "files.download('df_train.csv')"
      ],
      "execution_count": null,
      "outputs": []
    }
  ]
}