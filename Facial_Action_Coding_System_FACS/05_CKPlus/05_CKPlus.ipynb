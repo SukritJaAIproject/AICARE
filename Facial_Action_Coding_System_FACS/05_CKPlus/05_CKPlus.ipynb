{
  "nbformat": 4,
  "nbformat_minor": 0,
  "metadata": {
    "accelerator": "GPU",
    "colab": {
      "name": "05_CKPlus.ipynb",
      "provenance": [],
      "collapsed_sections": [
        "rL4Eut_5Lh7k",
        "T8ZJiJq9LSwB",
        "ZKWtjeQCLbIa"
      ]
    },
    "kernelspec": {
      "display_name": "Python 3",
      "name": "python3"
    },
    "language_info": {
      "name": "python"
    }
  },
  "cells": [
    {
      "cell_type": "markdown",
      "metadata": {
        "id": "rL4Eut_5Lh7k"
      },
      "source": [
        "# create_dataset"
      ]
    },
    {
      "cell_type": "code",
      "metadata": {
        "id": "stJyrrjeOcFZ"
      },
      "source": [
        "# 0=neutral, 1=anger, 2=contempt, 3=disgust, 4=fear, 5=happy, 6=sadness, 7=surprise"
      ],
      "execution_count": null,
      "outputs": []
    },
    {
      "cell_type": "code",
      "metadata": {
        "id": "1FstrjLF7tq7"
      },
      "source": [
        "import os, sys, random\n",
        "import matplotlib.pyplot as plt\n",
        "from shutil import copyfile\n",
        "import numpy as np\n",
        "from mtcnn.mtcnn import MTCNN\n",
        "from scipy import misc\n",
        "import cv2\n",
        "import time\n",
        "import shutil"
      ],
      "execution_count": 17,
      "outputs": []
    },
    {
      "cell_type": "code",
      "metadata": {
        "id": "C5duGc7Y7vDB"
      },
      "source": [
        "def last_8chars(x):\n",
        "    return (x[-8:])\n",
        "\n",
        "def last_3chars(x):\n",
        "    return (x[-3:])\n",
        "\n",
        "def get_vid_name(file):\n",
        "    return file.split(\"_\")[0] + \"_\" + file.split(\"_\")[1]\n",
        "\n",
        "def create_moving_batch(images_list, depth):\n",
        "    batch = [[], []]\n",
        "    for index, image in enumerate(sorted(images_list, key=last_8chars)):\n",
        "        if (index < depth):\n",
        "            batch[1] = np.append(batch[1], image)\n",
        "        if (index > len(images_list) - depth - 1):\n",
        "            batch[0] = np.append(batch[0], image)\n",
        "    return batch\n",
        "\n",
        "def move_images(images_list, src, dest, neu_dest, min_seq_len, depth, t_height,\n",
        "                t_width, crop_faces_flag, detector):\n",
        "\n",
        "    batch = create_moving_batch(images_list, depth)\n",
        "\n",
        "    # Emotion batch\n",
        "    vid_name = get_vid_name(batch[0][0])\n",
        "    if not os.path.exists(dest + '/' + vid_name):\n",
        "        im_size = cv2.imread(src + batch[0][0]).shape\n",
        "        im_shape = im_size\n",
        "        vid = np.zeros(0)\n",
        "        for index, image in enumerate(batch[0]):\n",
        "            if crop_faces_flag:\n",
        "                im = crop_face(src + image, detector)\n",
        "            else:\n",
        "                im = cv2.imread(src + image)\n",
        "            im_resized = cv2.resize(im, (t_height, t_width), cv2.INTER_LINEAR)\n",
        "            if index == 0:\n",
        "                temp = np.zeros((0, im_resized.shape[0], im_resized.shape[1],\n",
        "                                 im_resized.shape[2]))\n",
        "            temp = np.append(temp, [im_resized], axis=0)\n",
        "            vid = temp\n",
        "        # Save to Numpy binary file\n",
        "        try:\n",
        "            np.save(dest + '/' + vid_name, vid)\n",
        "        except Exception as e:\n",
        "            print(\"Unable to save instance at:\",\n",
        "                  dest + str(vid_name[0]) + \"_\" + str(vid_name[1]))\n",
        "            raise\n",
        "\n",
        "    # Neutral batch\n",
        "    vid_name = get_vid_name(batch[1][0])\n",
        "    if not os.path.exists(neu_dest + '/' + vid_name):\n",
        "        im_size = cv2.imread(src + batch[1][0]).shape\n",
        "        vid = np.zeros(0)\n",
        "        for index, image in enumerate(batch[1]):\n",
        "            if crop_faces_flag:\n",
        "                im = crop_face(src + image, detector)\n",
        "            else:\n",
        "                im = cv2.imread(src + image)\n",
        "            im_resized = cv2.resize(im, (t_height, t_width), cv2.INTER_LINEAR)\n",
        "            if index == 0:\n",
        "                temp = np.zeros((0, im_resized.shape[0], im_resized.shape[1],\n",
        "                                 im_resized.shape[2]))\n",
        "            temp = np.append(temp, [im_resized], axis=0)\n",
        "            vid = temp\n",
        "        # Save to Numpy binary file\n",
        "        try:\n",
        "            np.save(neu_dest + '/' + vid_name, vid)\n",
        "        except Exception as e:\n",
        "            print(\"Unable to save instance at:\",\n",
        "                  dest + str(vid_name[0]) + \"_\" + str(vid_name[1]))\n",
        "            raise\n",
        "\n",
        "def get_label(filepath):\n",
        "    if os.path.exists(filepath) and os.listdir(filepath):\n",
        "        g = open(filepath + str(os.listdir(filepath)[0]), 'r')\n",
        "        label = g.readline().split('.')[0].replace(\" \", \"\")\n",
        "        return label\n",
        "    else:\n",
        "        return -1\n",
        "\n",
        "def crop_face(image_path, detector):\n",
        "    image = cv2.imread(image_path)\n",
        "    if detector:\n",
        "        result = detector.detect_faces(image)\n",
        "        if result:\n",
        "            bbox = result[0]['box']\n",
        "            image = image[bbox[1]:bbox[1] + bbox[3], bbox[0]:\n",
        "                          bbox[0] + bbox[2], :]\n",
        "        else:\n",
        "            print(\"Face could not be detected in image\",\n",
        "                  image_path + \", \" + \"proceeding with center cropping.\")\n",
        "            image = image[:448, 96:-96, :]\n",
        "    return image \n",
        "\n",
        "def gen_emotionsFolders(main_dir, label_main_dir, image_main_dir, emotions_dir,\n",
        "                        crop_faces, neutral_label, min_seq_len, depth,\n",
        "                        t_height, t_width):\n",
        "    try:\n",
        "        assert (min_seq_len >= depth * 2)\n",
        "    except AssertionError as e:\n",
        "        print('The depth should be at most equal to half of min_seq_len.')\n",
        "        raise\n",
        "\n",
        "    start_time = time.time()\n",
        "    print(\"Getting images...\")\n",
        "\n",
        "    if crop_faces==\"True\" or crop_faces==\"1\":\n",
        "        detector = MTCNN()\n",
        "    else:\n",
        "        detector = 0\n",
        "\n",
        "    if os.path.exists(emotions_dir):\n",
        "        shutil.rmtree(emotions_dir, ignore_errors=True)\n",
        "\n",
        "    list_labels = np.array([])\n",
        "    im_shape = []\n",
        "    list_labels = np.append(list_labels, neutral_label)\n",
        "    if not os.path.exists(emotions_dir + neutral_label):\n",
        "        os.makedirs(emotions_dir + str(neutral_label))\n",
        "    for subject in sorted(os.listdir(image_main_dir), key=last_3chars):\n",
        "        for session in sorted(\n",
        "                os.listdir(image_main_dir + str(subject)), key=last_3chars):\n",
        "            if session != \".DS_Store\":\n",
        "                images_path = image_main_dir + str(subject) + '/' + str(\n",
        "                    session) + '/'\n",
        "                images_list = [\n",
        "                    x\n",
        "                    for x in sorted(os.listdir(images_path), key=last_8chars)\n",
        "                    if x.split(\".\")[1] == \"png\"\n",
        "                ]\n",
        "                if (images_list and len(images_list) >= min_seq_len):\n",
        "                    label_path = label_main_dir + str(subject) + '/' + str(\n",
        "                        session) + '/'\n",
        "                    label = get_label(label_path)\n",
        "                    if label != -1:\n",
        "                        if label not in list_labels:\n",
        "                            list_labels = np.append(list_labels, label)\n",
        "                            if not os.path.exists(emotions_dir + str(label)):\n",
        "                                os.makedirs(emotions_dir + str(label))\n",
        "                        im_shape = move_images(\n",
        "                            images_list, images_path,\n",
        "                            emotions_dir + str(label),\n",
        "                            emotions_dir + str(neutral_label), min_seq_len,\n",
        "                            depth, t_height, t_width, crop_faces, detector)\n",
        "    duration = time.time() - start_time\n",
        "    print(\"\\nDone! Total time %.1f seconds.\" % (duration))\n",
        "    test_vid = np.load(emotions_dir + neutral_label + \"/\" +\n",
        "                       sorted(os.listdir(emotions_dir + neutral_label))[0])\n",
        "    print(\"Clip size:\", test_vid.shape)\n",
        "    print(\"Neutral label example:\")\n",
        "    plt.imshow(test_vid[0][:, :, 0], cmap=\"gray\", interpolation=\"nearest\")\n",
        "    plt.axis(\"off\")\n",
        "    plt.show()"
      ],
      "execution_count": 19,
      "outputs": []
    },
    {
      "cell_type": "code",
      "metadata": {
        "id": "Bv7RcAuyz8qa",
        "colab": {
          "base_uri": "https://localhost:8080/",
          "height": 375
        },
        "outputId": "a1581caf-0000-41a0-8332-9e0bd84f86d4"
      },
      "source": [
        "gen_emotionsFolders(\n",
        "        main_dir=str('drive/MyDrive/AIHealthcare/Cohn_Kanade_Database/CK+/'),\n",
        "        label_main_dir=str('drive/MyDrive/AIHealthcare/Cohn_Kanade_Database/CK+/Emotion/'),\n",
        "        image_main_dir=str('drive/MyDrive/AIHealthcare/Cohn_Kanade_Database/CK+/cohn-kanade-images/'),\n",
        "        emotions_dir=str('drive/MyDrive/AIHealthcare/Cohn_Kanade_Database/CK+/emotion_images/'),\n",
        "        crop_faces=str(True),\n",
        "        neutral_label=str(0),\n",
        "        min_seq_len=int(9),\n",
        "        depth=int(3),\n",
        "        t_height=int(112),\n",
        "        t_width=int(112))"
      ],
      "execution_count": 29,
      "outputs": [
        {
          "output_type": "stream",
          "text": [
            "Getting images...\n",
            "Face could not be detected in image drive/MyDrive/AIHealthcare/Cohn_Kanade_Database/CK+/cohn-kanade-images/S149/002/S149_002_00000011.png, proceeding with center cropping.\n",
            "Face could not be detected in image drive/MyDrive/AIHealthcare/Cohn_Kanade_Database/CK+/cohn-kanade-images/S149/002/S149_002_00000013.png, proceeding with center cropping.\n",
            "\n",
            "Done! Total time 1872.7 seconds.\n",
            "Clip size: (3, 112, 112, 3)\n",
            "Neutral label example:\n"
          ],
          "name": "stdout"
        },
        {
          "output_type": "display_data",
          "data": {
            "image/png": "[encoded data removed]",
            "text/plain": [
              "<Figure size 432x288 with 1 Axes>"
            ]
          },
          "metadata": {
            "tags": [],
            "needs_background": "light"
          }
        }
      ]
    },
    {
      "cell_type": "code",
      "metadata": {
        "id": "IkTOagzD1q73"
      },
      "source": [
        "# ls 'drive/MyDrive/AIHealthcare/Cohn_Kanade_Database/CK+/Emotion'\n",
        "# !python train.py drive/MyDrive/AIHealthcare/Cohn_Kanade_Database/CK+/emotion_images/  43 .1 .3 32 10"
      ],
      "execution_count": null,
      "outputs": []
    },
    {
      "cell_type": "markdown",
      "metadata": {
        "id": "T8ZJiJq9LSwB"
      },
      "source": [
        "# Train model"
      ]
    },
    {
      "cell_type": "code",
      "metadata": {
        "id": "CRzsAaF7GZv5"
      },
      "source": [
        "import numpy as np\n",
        "import os, sys, random\n",
        "import matplotlib.pyplot as plt\n",
        "from sklearn.model_selection import train_test_split\n",
        "import keras\n",
        "from keras import backend as K\n",
        "from keras.models import Sequential\n",
        "from keras.models import Model\n",
        "from keras.layers import Input\n",
        "from keras.layers import Dense, Dropout, Flatten\n",
        "from keras.layers.convolutional import Convolution3D, MaxPooling3D\n",
        "from keras.layers.normalization import BatchNormalization\n",
        "from keras.engine.topology import get_source_inputs\n",
        "from keras.callbacks import ReduceLROnPlateau, EarlyStopping\n",
        "from keras import optimizers"
      ],
      "execution_count": 32,
      "outputs": []
    },
    {
      "cell_type": "code",
      "metadata": {
        "id": "mfecn2oCGcfA"
      },
      "source": [
        "def recover_3darrays(emotions_dir, neutral_instances):\n",
        "    \"\"\"Generates a single X, y arrays using all Numpy binary file.\n",
        "\n",
        "      Args:\n",
        "        emotions_dir: String path to folder with emotion folders.\n",
        "        neutral_instances: Number of neutral instances to add to the X, y \n",
        "            arrays. Given the high number of neutral instances that are\n",
        "            generated, even with a low class weight in the training phase \n",
        "            the model will have a poor performance. A good choice can be \n",
        "            a number between 30 - 50.\n",
        "\n",
        "      Returns:\n",
        "        An array X with all 3D images on the dataset.\n",
        "        An array y with the labels of all 3D images on the dataset.\n",
        "    \"\"\"\n",
        "\n",
        "    labels = sorted(os.listdir(emotions_dir))\n",
        "\n",
        "    for index1, label in enumerate(labels):\n",
        "        if index1 == 0:\n",
        "            print(\"Recovering arrays for label\", label)\n",
        "            for index2, npy in enumerate(\n",
        "                    os.listdir(emotions_dir + label)[:neutral_instances]):\n",
        "                im = np.load(emotions_dir + label + '/' + npy)\n",
        "                if index1 == 0 and index2 == 0:\n",
        "                    X = np.zeros((0, im.shape[0], im.shape[1], im.shape[2],\n",
        "                                  im.shape[3]))\n",
        "                    y = np.zeros((0, len(labels)))\n",
        "                X = np.append(X, [im], axis=0)\n",
        "\n",
        "                y_temp = [0] * len(labels)\n",
        "                for index, lab in enumerate(labels):\n",
        "                    if int(label) == int(lab):\n",
        "                        y_temp[index] = 1.0\n",
        "                        break\n",
        "                y = np.append(y, [y_temp], axis=0)\n",
        "        else:\n",
        "            print(\"Recovering arrays for label\", label)\n",
        "            for index2, npy in enumerate(os.listdir(emotions_dir + label)):\n",
        "                im = np.load(emotions_dir + label + '/' + npy)\n",
        "                X = np.append(X, [im], axis=0)\n",
        "\n",
        "                y_temp = [0] * len(labels)\n",
        "                for index, lab in enumerate(labels):\n",
        "                    if int(label) == int(lab):\n",
        "                        y_temp[index] = 1.0\n",
        "                        break\n",
        "                y = np.append(y, [y_temp], axis=0)\n",
        "\n",
        "    print(\"\\nShape of X array:\", X.shape)\n",
        "    print(\"Shape of y array:\", y.shape)\n",
        "    return X, y"
      ],
      "execution_count": 33,
      "outputs": []
    },
    {
      "cell_type": "code",
      "metadata": {
        "id": "gnJWa6FkGjyq"
      },
      "source": [
        "def train_test_valid_split(X, y, test_size, valid_size):\n",
        "    \"\"\"Generates the train, test and validation datasets.\n",
        "\n",
        "      Args:\n",
        "        X: Numpy array with all input images.\n",
        "        y: Numpy array with all labels.\n",
        "        test_size: Float percentage in the range (0, 1) of images\n",
        "            used in test set.\n",
        "        valid_size: Float percentage in the range (0, 1) of images\n",
        "            used in validation set.\n",
        "        \n",
        "      Returns:\n",
        "        Arrays of images and labels for each data partition. \n",
        "    \"\"\"\n",
        "    total_size = len(y)\n",
        "    X_train, X_test, y_train, y_test = train_test_split(\n",
        "        X, y, test_size=test_size)\n",
        "    train_size = len(y_train)\n",
        "    X_train, X_valid, y_train, y_valid = train_test_split(\n",
        "        X_train, y_train, test_size=total_size * valid_size / train_size)\n",
        "    return X_train, y_train, X_valid, y_valid, X_test, y_test"
      ],
      "execution_count": 34,
      "outputs": []
    },
    {
      "cell_type": "code",
      "metadata": {
        "id": "G-2jgFD1GnF4"
      },
      "source": [
        "def create_model(input_tensor=None, input_shape=None, classes=7):\n",
        "    \"\"\"Creates C3D model with 3 more fully connected layers.\n",
        "\n",
        "      Args:\n",
        "        input_tensor: Tensor image to be processed\n",
        "        input_shape: String tuple (height, width, channels) of input image\n",
        "        classes: Integer number of classes\n",
        "        \n",
        "      Returns:\n",
        "        Keras neural network model. \n",
        "    \"\"\"\n",
        "\n",
        "    K.set_image_data_format(\"channels_last\")\n",
        "\n",
        "    if input_tensor is None:\n",
        "        img_input = Input(shape=input_shape)\n",
        "    else:\n",
        "        if not K.is_keras_tensor(input_tensor):\n",
        "            img_input = Input(tensor=input_tensor, shape=input_shape)\n",
        "        else:\n",
        "            img_input = input_tensor\n",
        "\n",
        "    # Layer 1\n",
        "    conv_1 = Convolution3D(\n",
        "        64, (3, 3, 3),\n",
        "        strides=(1, 1, 1),\n",
        "        padding='same',\n",
        "        activation='relu',\n",
        "        name='conv_1',\n",
        "        data_format=\"channels_last\")(img_input)\n",
        "    maxpool_1a = MaxPooling3D(\n",
        "        (2, 2, 2), strides=(2, 2, 2), name=\"maxpool_1a\",\n",
        "        padding='same')(conv_1)\n",
        "    batchnorm_1 = BatchNormalization(name=\"batchnorm_1\")(maxpool_1a)\n",
        "\n",
        "    # Layer 2\n",
        "    conv_2 = Convolution3D(\n",
        "        128, (3, 3, 3),\n",
        "        strides=(1, 1, 1),\n",
        "        padding='same',\n",
        "        activation='relu',\n",
        "        name='conv_2',\n",
        "        data_format=\"channels_last\")(batchnorm_1)\n",
        "    maxpool_2 = MaxPooling3D(\n",
        "        (2, 2, 2), strides=(2, 2, 2), name=\"maxpool_2\", padding='same')(conv_2)\n",
        "\n",
        "    # Layer 3\n",
        "    conv_3 = Convolution3D(\n",
        "        256, (3, 3, 3),\n",
        "        strides=(1, 1, 1),\n",
        "        padding='same',\n",
        "        activation='relu',\n",
        "        name='conv_3',\n",
        "        data_format=\"channels_last\")(maxpool_2)\n",
        "\n",
        "    # Layer 4\n",
        "    conv_4 = Convolution3D(\n",
        "        256, (3, 3, 3),\n",
        "        strides=(1, 1, 1),\n",
        "        padding='same',\n",
        "        activation='relu',\n",
        "        name='conv_4',\n",
        "        data_format=\"channels_last\")(conv_3)\n",
        "    maxpool_4 = MaxPooling3D(\n",
        "        (2, 2, 2), strides=(2, 2, 2), name=\"maxpool_4\", padding='same')(conv_4)\n",
        "\n",
        "    # Layer 5\n",
        "    conv_5 = Convolution3D(\n",
        "        512, (3, 3, 3),\n",
        "        strides=(1, 1, 1),\n",
        "        padding='same',\n",
        "        activation='relu',\n",
        "        name='conv_5',\n",
        "        data_format=\"channels_last\")(maxpool_4)\n",
        "\n",
        "    # Layer 6\n",
        "    conv_6 = Convolution3D(\n",
        "        512, (3, 3, 3),\n",
        "        strides=(1, 1, 1),\n",
        "        padding='same',\n",
        "        activation='relu',\n",
        "        name='conv_6',\n",
        "        data_format=\"channels_last\")(conv_5)\n",
        "    maxpool_6 = MaxPooling3D(\n",
        "        (2, 2, 2), strides=(2, 2, 2), name=\"maxpool_6\", padding='same')(conv_6)\n",
        "\n",
        "    # Layer 7\n",
        "    conv_7 = Convolution3D(\n",
        "        512, (3, 3, 3),\n",
        "        strides=(1, 1, 1),\n",
        "        padding='same',\n",
        "        activation='relu',\n",
        "        name='conv_7',\n",
        "        data_format=\"channels_last\")(maxpool_6)\n",
        "\n",
        "    # Layer 8\n",
        "    conv_8 = Convolution3D(\n",
        "        512, (3, 3, 3),\n",
        "        strides=(1, 1, 1),\n",
        "        padding='same',\n",
        "        activation='relu',\n",
        "        name='conv_8',\n",
        "        data_format=\"channels_last\")(conv_7)\n",
        "    maxpool_8 = MaxPooling3D(\n",
        "        (2, 2, 2), strides=(2, 2, 2), name=\"maxpool_8\", padding='same')(conv_8)\n",
        "\n",
        "    flat = Flatten(name='flatten')(maxpool_6)\n",
        "    fc_1 = Dense(4096, activation='relu', name='fc_1')(flat)\n",
        "    dropout_1 = Dropout(0.33, name='dropout_1')(fc_1)\n",
        "    net = Dense(classes, activation='softmax', name='predictions')(dropout_1)\n",
        "\n",
        "    # Ensure that the model takes into account\n",
        "    # any potential predecessors of `input_tensor`.\n",
        "    if input_tensor is not None:\n",
        "        inputs = get_source_inputs(input_tensor)\n",
        "    else:\n",
        "        inputs = img_input\n",
        "\n",
        "    # Create model.\n",
        "    model = Model(inputs, net, name='MOC3D')\n",
        "\n",
        "    for layer in model.layers:\n",
        "        layer.trainable = True\n",
        "\n",
        "    return model"
      ],
      "execution_count": 35,
      "outputs": []
    },
    {
      "cell_type": "code",
      "metadata": {
        "colab": {
          "base_uri": "https://localhost:8080/",
          "height": 1000
        },
        "id": "9T27FBSFF1Ma",
        "outputId": "de6c13c7-2cc7-4f13-96d3-b5841612aa26"
      },
      "source": [
        "emotions_dir = str('drive/MyDrive/AIHealthcare/Cohn_Kanade_Database/CK+/emotion_images/')\n",
        "neutral_instances = int(43)\n",
        "valid_split = float(.1)\n",
        "test_split = float(.3)\n",
        "batch_size = int(32)\n",
        "epochs = int(10)\n",
        "\n",
        "try:\n",
        "    assert (valid_split + test_split < .9)\n",
        "except AssertionError as e:\n",
        "    print('Please check the validation and test set sizes.')\n",
        "    raise\n",
        "\n",
        "X, y = recover_3darrays(emotions_dir, neutral_instances=neutral_instances)\n",
        "\n",
        "y_counts = np.sum(y, axis=0, dtype=np.int32)\n",
        "keys = range(len(y_counts))\n",
        "distrib = dict(zip(keys, y_counts))\n",
        "print(\"Class distribution:\", distrib)\n",
        "\n",
        "X_train, y_train, X_valid, y_valid, X_test, y_test = \\\n",
        "                  train_test_valid_split(X, y, test_split, valid_split)\n",
        "\n",
        "print(\"\\n  Training set = \", str(X_train.shape))\n",
        "print(\"Validation set = \", str(X_valid.shape))\n",
        "print(\"      Test set = \", str(X_test.shape) + \"\\n\")\n",
        "\n",
        "y_sum = np.append(y_train, y_valid, axis=0)\n",
        "y_count = np.sum(y_sum, axis=0, dtype=np.int32)\n",
        "y_cnt = np.round(np.max(y_count) / y_count, 4)\n",
        "keys = range(len(y_cnt))\n",
        "class_weights = dict(zip(keys, y_cnt))\n",
        "\n",
        "optimizer = \"adam\"\n",
        "metrics = ['accuracy']\n",
        "loss = 'categorical_crossentropy'\n",
        "\n",
        "model = create_model(\n",
        "    input_tensor=None, input_shape=X_train[0].shape, classes=len(keys))\n",
        "\n",
        "model.compile(optimizer, loss, metrics)\n",
        "\n",
        "reduce_lr = ReduceLROnPlateau(\n",
        "    monitor='val_acc', factor=0.5, patience=5, min_lr=0.0001, verbose=1)\n",
        "early_stopping = EarlyStopping(\n",
        "    monitor='val_acc',\n",
        "    min_delta=0,\n",
        "    patience=10,\n",
        "    verbose=1,\n",
        "    mode='max',\n",
        "    baseline=None)\n",
        "\n",
        "history = model.fit(\n",
        "    X_train,\n",
        "    y_train,\n",
        "    batch_size=batch_size,\n",
        "    epochs=epochs,\n",
        "    verbose=2,\n",
        "    validation_data=(X_valid, y_valid),\n",
        "    class_weight=class_weights,\n",
        "    callbacks=[reduce_lr])\n",
        "\n",
        "scores = model.evaluate(X_test, y_test)\n",
        "print(\"Accuracy: %.2f%%\" % (scores[1] * 100))\n",
        "\n",
        "print(\"\\nDisplaying accuracy curves...\")\n",
        "\n",
        "# Accuracy Curves\n",
        "plt.figure(figsize=[8, 6])\n",
        "plt.plot(history.history['accuracy'], 'r', linewidth=3.0)\n",
        "plt.plot(history.history['val_accuracy'], 'b', linewidth=3.0)\n",
        "plt.legend(['Training Accuracy', 'Validation Accuracy'], fontsize=18)\n",
        "plt.xlabel('Epochs ', fontsize=16)\n",
        "plt.ylabel('Accuracy', fontsize=16)\n",
        "plt.title('Accuracy Curves', fontsize=16)\n",
        "plt.show()\n",
        "\n",
        "print(\"\\nSaving model and weights...\")\n",
        "\n",
        "# serialize model to JSON\n",
        "model_json = model.to_json()\n",
        "with open(\"model.json\", \"w\") as json_file:\n",
        "    json_file.write(model_json)\n",
        "# serialize weights to HDF5\n",
        "model.save_weights(\"weigths.h5\")\n",
        "print(\"\\nModel and weights saved to disk.\\n\")"
      ],
      "execution_count": 38,
      "outputs": [
        {
          "output_type": "stream",
          "text": [
            "Recovering arrays for label 0\n",
            "Recovering arrays for label 1\n",
            "Recovering arrays for label 2\n",
            "Recovering arrays for label 3\n",
            "Recovering arrays for label 4\n",
            "Recovering arrays for label 5\n",
            "Recovering arrays for label 6\n",
            "Recovering arrays for label 7\n",
            "\n",
            "Shape of X array: (359, 3, 112, 112, 3)\n",
            "Shape of y array: (359, 8)\n",
            "Class distribution: {0: 43, 1: 45, 2: 16, 3: 56, 4: 24, 5: 69, 6: 28, 7: 78}\n",
            "\n",
            "  Training set =  (215, 3, 112, 112, 3)\n",
            "Validation set =  (36, 3, 112, 112, 3)\n",
            "      Test set =  (108, 3, 112, 112, 3)\n",
            "\n",
            "Epoch 1/10\n",
            "7/7 - 3s - loss: 17.9508 - accuracy: 0.1163 - val_loss: 1.9746 - val_accuracy: 0.1944\n",
            "WARNING:tensorflow:Learning rate reduction is conditioned on metric `val_acc` which is not available. Available metrics are: loss,accuracy,val_loss,val_accuracy,lr\n",
            "Epoch 2/10\n",
            "7/7 - 2s - loss: 3.7582 - accuracy: 0.1209 - val_loss: 2.1701 - val_accuracy: 0.2778\n",
            "WARNING:tensorflow:Learning rate reduction is conditioned on metric `val_acc` which is not available. Available metrics are: loss,accuracy,val_loss,val_accuracy,lr\n",
            "Epoch 3/10\n",
            "7/7 - 2s - loss: 3.6914 - accuracy: 0.1488 - val_loss: 2.0764 - val_accuracy: 0.1667\n",
            "WARNING:tensorflow:Learning rate reduction is conditioned on metric `val_acc` which is not available. Available metrics are: loss,accuracy,val_loss,val_accuracy,lr\n",
            "Epoch 4/10\n",
            "7/7 - 2s - loss: 3.6720 - accuracy: 0.0930 - val_loss: 2.5788 - val_accuracy: 0.0833\n",
            "WARNING:tensorflow:Learning rate reduction is conditioned on metric `val_acc` which is not available. Available metrics are: loss,accuracy,val_loss,val_accuracy,lr\n",
            "Epoch 5/10\n",
            "7/7 - 2s - loss: 3.6514 - accuracy: 0.1767 - val_loss: 2.0471 - val_accuracy: 0.1944\n",
            "WARNING:tensorflow:Learning rate reduction is conditioned on metric `val_acc` which is not available. Available metrics are: loss,accuracy,val_loss,val_accuracy,lr\n",
            "Epoch 6/10\n",
            "7/7 - 2s - loss: 3.5771 - accuracy: 0.1953 - val_loss: 1.9107 - val_accuracy: 0.1944\n",
            "WARNING:tensorflow:Learning rate reduction is conditioned on metric `val_acc` which is not available. Available metrics are: loss,accuracy,val_loss,val_accuracy,lr\n",
            "Epoch 7/10\n",
            "7/7 - 2s - loss: 3.3471 - accuracy: 0.3023 - val_loss: 1.9497 - val_accuracy: 0.1667\n",
            "WARNING:tensorflow:Learning rate reduction is conditioned on metric `val_acc` which is not available. Available metrics are: loss,accuracy,val_loss,val_accuracy,lr\n",
            "Epoch 8/10\n",
            "7/7 - 2s - loss: 2.9741 - accuracy: 0.3860 - val_loss: 1.7344 - val_accuracy: 0.2500\n",
            "WARNING:tensorflow:Learning rate reduction is conditioned on metric `val_acc` which is not available. Available metrics are: loss,accuracy,val_loss,val_accuracy,lr\n",
            "Epoch 9/10\n",
            "7/7 - 2s - loss: 2.7046 - accuracy: 0.4093 - val_loss: 1.4923 - val_accuracy: 0.4722\n",
            "WARNING:tensorflow:Learning rate reduction is conditioned on metric `val_acc` which is not available. Available metrics are: loss,accuracy,val_loss,val_accuracy,lr\n",
            "Epoch 10/10\n",
            "7/7 - 2s - loss: 2.7105 - accuracy: 0.5395 - val_loss: 1.4512 - val_accuracy: 0.4722\n",
            "WARNING:tensorflow:Learning rate reduction is conditioned on metric `val_acc` which is not available. Available metrics are: loss,accuracy,val_loss,val_accuracy,lr\n",
            "4/4 [==============================] - 0s 84ms/step - loss: 1.7560 - accuracy: 0.3519\n",
            "Accuracy: 35.19%\n",
            "\n",
            "Displaying accuracy curves...\n"
          ],
          "name": "stdout"
        },
        {
          "output_type": "display_data",
          "data": {
            "image/png": "[encoded data removed]",
            "text/plain": [
              "<Figure size 576x432 with 1 Axes>"
            ]
          },
          "metadata": {
            "tags": [],
            "needs_background": "light"
          }
        },
        {
          "output_type": "stream",
          "text": [
            "\n",
            "Saving model and weights...\n",
            "\n",
            "Model and weights saved to disk.\n",
            "\n"
          ],
          "name": "stdout"
        }
      ]
    },
    {
      "cell_type": "code",
      "metadata": {
        "colab": {
          "base_uri": "https://localhost:8080/"
        },
        "id": "G-8SU-jJI0qo",
        "outputId": "119c9b44-e53d-4f49-d37a-a7f8d3319434"
      },
      "source": [
        "# print(X_test[0].shape)\n",
        "# print(X_test[0][np.newaxis,:,:,:,:].shape)"
      ],
      "execution_count": 62,
      "outputs": [
        {
          "output_type": "execute_result",
          "data": {
            "text/plain": [
              "(1, 3, 112, 112, 3)"
            ]
          },
          "metadata": {
            "tags": []
          },
          "execution_count": 62
        }
      ]
    },
    {
      "cell_type": "code",
      "metadata": {
        "colab": {
          "base_uri": "https://localhost:8080/",
          "height": 129
        },
        "id": "esS0p1i4IYGM",
        "outputId": "59757bf3-6f1c-4a8e-cdc4-7a0dc33a61d6"
      },
      "source": [
        "from google.colab.patches import cv2_imshow\n",
        "cv2_imshow(X_test[0][0])         "
      ],
      "execution_count": 54,
      "outputs": [
        {
          "output_type": "display_data",
          "data": {
            "image/png": "[encoded data removed]",
            "text/plain": [
              "<PIL.Image.Image image mode=RGB size=112x112 at 0x7F3824886550>"
            ]
          },
          "metadata": {
            "tags": []
          }
        }
      ]
    },
    {
      "cell_type": "code",
      "metadata": {
        "id": "XRt7xIWIHAAP"
      },
      "source": [
        "# ls 'drive/MyDrive/AIHealthcare/CKPlus/CKPlus'\n",
        "# !cp /content/weigths.h5 drive/MyDrive/AIHealthcare/CKPlus/CKPlus\n",
        "# !cp /content/model.json drive/MyDrive/AIHealthcare/CKPlus/CKPlus"
      ],
      "execution_count": 45,
      "outputs": []
    },
    {
      "cell_type": "markdown",
      "metadata": {
        "id": "ZKWtjeQCLbIa"
      },
      "source": [
        "# Deploy"
      ]
    },
    {
      "cell_type": "code",
      "metadata": {
        "id": "3jA8UbR5IMC8"
      },
      "source": [
        "classau = model.predict(X_test[0][np.newaxis,:,:,:,:])"
      ],
      "execution_count": 64,
      "outputs": []
    },
    {
      "cell_type": "code",
      "metadata": {
        "colab": {
          "base_uri": "https://localhost:8080/"
        },
        "id": "GtbXd_6zRHS3",
        "outputId": "1554c77e-0dd8-4738-8147-5362b0de37d8"
      },
      "source": [
        "classau"
      ],
      "execution_count": 66,
      "outputs": [
        {
          "output_type": "execute_result",
          "data": {
            "text/plain": [
              "array([[0.22141752, 0.08319061, 0.00188459, 0.03990152, 0.10450736,\n",
              "        0.4555263 , 0.07176475, 0.02180732]], dtype=float32)"
            ]
          },
          "metadata": {
            "tags": []
          },
          "execution_count": 66
        }
      ]
    },
    {
      "cell_type": "code",
      "metadata": {
        "colab": {
          "base_uri": "https://localhost:8080/"
        },
        "id": "24Fqz8lTQ9vR",
        "outputId": "1671cb8a-c5ae-494d-9362-d427f9a61506"
      },
      "source": [
        ""
      ],
      "execution_count": 84,
      "outputs": [
        {
          "output_type": "execute_result",
          "data": {
            "text/plain": [
              "5"
            ]
          },
          "metadata": {
            "tags": []
          },
          "execution_count": 84
        }
      ]
    },
    {
      "cell_type": "code",
      "metadata": {
        "colab": {
          "base_uri": "https://localhost:8080/"
        },
        "id": "h0DcEHezVGTV",
        "outputId": "35ee4851-fbbe-40fd-f135-f5d327af7cef"
      },
      "source": [
        "from sklearn import preprocessing\n",
        "le = preprocessing.LabelEncoder()\n",
        "le.fit([\"01_neutral\", \"02_anger\", \"03_contempt\", \"04_disgust\", \"05_fear\", \"06_happy\", \"07_sadness\", \"08_surprise\"])\n",
        "le_name_mapping = dict(zip(le.classes_, le.transform(le.classes_)))\n",
        "print(le_name_mapping)"
      ],
      "execution_count": 96,
      "outputs": [
        {
          "output_type": "stream",
          "text": [
            "{'01_neutral': 0, '02_anger': 1, '03_contempt': 2, '04_disgust': 3, '05_fear': 4, '06_happy': 5, '07_sadness': 6, '08_surprise': 7}\n"
          ],
          "name": "stdout"
        }
      ]
    },
    {
      "cell_type": "code",
      "metadata": {
        "colab": {
          "base_uri": "https://localhost:8080/",
          "height": 35
        },
        "id": "dcewsuMdUyzN",
        "outputId": "871982a4-3ded-4a5a-f933-dfd3f0fb6e66"
      },
      "source": [
        "list(le.inverse_transform([np.argmax(classau)]))[0]"
      ],
      "execution_count": 101,
      "outputs": [
        {
          "output_type": "execute_result",
          "data": {
            "application/vnd.google.colaboratory.intrinsic+json": {
              "type": "string"
            },
            "text/plain": [
              "'06_happy'"
            ]
          },
          "metadata": {
            "tags": []
          },
          "execution_count": 101
        }
      ]
    },
    {
      "cell_type": "code",
      "metadata": {
        "id": "fsJ-olAZZY8e"
      },
      "source": [
        ""
      ],
      "execution_count": null,
      "outputs": []
    }
  ]
}