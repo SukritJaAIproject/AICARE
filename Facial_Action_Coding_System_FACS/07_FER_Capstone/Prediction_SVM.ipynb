{
 "cells": [
  {
   "cell_type": "code",
   "execution_count": 28,
   "id": "engaged-checklist",
   "metadata": {},
   "outputs": [],
   "source": [
    "import warnings\n",
    "warnings.filterwarnings('ignore')\n",
    "import glob\n",
    "from shutil import copyfile\n",
    "import random\n",
    "import cv2\n",
    "import dlib\n",
    "import numpy as np\n",
    "random.seed(123)\n",
    "emotions = [\"neutral\", \"anger\", \"contempt\", \"disgust\", \"fear\", \"happy\", \"sadness\", \"surprise\"]"
   ]
  },
  {
   "cell_type": "code",
   "execution_count": 29,
   "id": "stopped-uncertainty",
   "metadata": {},
   "outputs": [],
   "source": [
    "import math\n",
    "def get_landmarks(image):\n",
    "    data={}\n",
    "    detections = detector(image, 1)\n",
    "    for k,d in enumerate(detections): #For all detected face instances individually\n",
    "        shape = predictor(image, d) #Draw Facial Landmarks with the predictor class\n",
    "        xlist = []\n",
    "        ylist = []\n",
    "        for i in range(1,68): #Store X and Y coordinates in two lists\n",
    "            xlist.append(float(shape.part(i).x))\n",
    "            ylist.append(float(shape.part(i).y))\n",
    "        # calculate the center of gravity\n",
    "        xmean = np.mean(xlist)\n",
    "        ymean = np.mean(ylist)\n",
    "        # calculate the distance from center from both axis.\n",
    "        # this information is used to get the angle relative to center point.\n",
    "        xcentral = [(x-xmean) for x in xlist]\n",
    "        ycentral = [(y-ymean) for y in ylist]\n",
    "        landmarks_vectorised = []\n",
    "        for x, y, w, z in zip(xcentral, ycentral, xlist, ylist):\n",
    "            # append x and y values\n",
    "            landmarks_vectorised.append(w)\n",
    "            landmarks_vectorised.append(z)\n",
    "            meannp = np.asarray((ymean,xmean))\n",
    "            coornp = np.asarray((z,w))\n",
    "            # calculate the euclidiean distance from center\n",
    "            dist = np.linalg.norm(coornp-meannp)\n",
    "            # append the distance to the feature vector\n",
    "            landmarks_vectorised.append(dist)\n",
    "            # apend the angle relative to the center of gravity.\n",
    "            landmarks_vectorised.append(math.degrees(math.atan2(y,x)))\n",
    "        data['landmarks_vectorised'] = landmarks_vectorised\n",
    "    if len(detections) < 1:\n",
    "        data['landmarks_vestorised'] = \"error\"\n",
    "    return data"
   ]
  },
  {
   "cell_type": "code",
   "execution_count": 30,
   "id": "ceramic-banking",
   "metadata": {},
   "outputs": [],
   "source": [
    "def get_files(emotion):\n",
    "    files = glob.glob(\"dataset/{0}/*\".format(emotion))\n",
    "    random.shuffle(files)\n",
    "    train = files[:int(len(files)*0.8)] #get first 80% of file list\n",
    "    test = files[-int(len(files)*0.2):] #get last 20% of file list\n",
    "    return train, test"
   ]
  },
  {
   "cell_type": "code",
   "execution_count": 31,
   "id": "fourth-consequence",
   "metadata": {},
   "outputs": [],
   "source": [
    "def make_sets():\n",
    "    training_data = []\n",
    "    training_labels = []\n",
    "    test_data = []\n",
    "    test_labels = []\n",
    "    train_files_list = [] # its a list of dict of trainfiles\n",
    "    test_files_list = [] \n",
    "    for emotion in emotions:\n",
    "        #print(\" working on %s\" %emotion)\n",
    "        train, test = get_files(emotion)\n",
    "        #Append data to training and prediction list, and generate labels 0-7\n",
    "        for item in train:\n",
    "            d = dict()\n",
    "            d[\"name\"]= item\n",
    "            d[\"emotion\"] = emotions.index(emotion)\n",
    "            train_files_list.append(d)\n",
    "            image = cv2.imread(item) #open image\n",
    "            data = get_landmarks(image)\n",
    "            if data['landmarks_vectorised'] == \"error\":\n",
    "                print(\"no face detected on this one\")\n",
    "            else:\n",
    "                training_data.append(data['landmarks_vectorised']) #append image array to training data list\n",
    "                training_labels.append(emotions.index(emotion))\n",
    "        for item in test:\n",
    "            d = dict()\n",
    "            d[\"name\"]= item\n",
    "            d[\"emotion\"] = emotions.index(emotion)\n",
    "            test_files_list.append(d)\n",
    "            image = cv2.imread(item)\n",
    "            data = get_landmarks(image)\n",
    "            if data['landmarks_vectorised'] == \"error\":\n",
    "                print(\"no face detected on this one\")\n",
    "            else:\n",
    "                test_data.append(data['landmarks_vectorised'])\n",
    "                test_labels.append(emotions.index(emotion))\n",
    "    return training_data, training_labels, test_data, test_labels, train_files_list, test_files_list"
   ]
  },
  {
   "cell_type": "code",
   "execution_count": 32,
   "id": "greenhouse-reduction",
   "metadata": {},
   "outputs": [],
   "source": [
    "detector = dlib.get_frontal_face_detector() #Face detector\n",
    "predictor = dlib.shape_predictor(\"shape_predictor_68_face_landmarks.dat\") #Landmark identifier. Set the filename to whatever you named the downloaded file"
   ]
  },
  {
   "cell_type": "code",
   "execution_count": 33,
   "id": "greater-topic",
   "metadata": {},
   "outputs": [],
   "source": [
    "from sklearn.svm import SVC\n",
    "from sklearn.metrics import log_loss\n",
    "clf_lin_svm = SVC(kernel='linear', random_state=7, probability=True, tol=1e-3)\n",
    "\n",
    "train_data, train_labels, test_data, test_labels, train_files_list, test_files_list = make_sets()\n",
    "\n",
    "X_train = np.array(train_data) #Turn the training set into a numpy array for the classifier    \n",
    "y_train = np.array(train_labels)\n",
    "\n",
    "clf_lin_svm.fit(X_train, y_train)\n",
    "\n",
    "X_test = np.array(test_data)\n",
    "y_test = np.array(test_labels)\n",
    "train_accuracy = clf_lin_svm.score(X_train, y_train)        \n",
    "test_accuracy = clf_lin_svm.score(X_test, y_test)"
   ]
  },
  {
   "cell_type": "code",
   "execution_count": 40,
   "id": "compressed-desire",
   "metadata": {},
   "outputs": [
    {
     "data": {
      "text/plain": [
       "(1, 268)"
      ]
     },
     "execution_count": 40,
     "metadata": {},
     "output_type": "execute_result"
    }
   ],
   "source": [
    "X_test[1].reshape(1, -1).shape"
   ]
  },
  {
   "cell_type": "code",
   "execution_count": 35,
   "id": "vanilla-legislature",
   "metadata": {},
   "outputs": [
    {
     "name": "stdout",
     "output_type": "stream",
     "text": [
      "Train Accuracy Score for trail = 1.0 \n",
      "Test Accuracy Score for trail = 0.7764705882352941 \n",
      "Train log loss for trail = 0.2780392533170983\n",
      "Test log loss for trail = 0.6067184668743413\n"
     ]
    }
   ],
   "source": [
    "print(\"Train Accuracy Score for trail = {0} \".format(train_accuracy))\n",
    "print(\"Test Accuracy Score for trail = {0} \".format(test_accuracy))\n",
    "\n",
    "train_pred_proba_lin = clf_lin_svm.predict_proba(X_train)\n",
    "print(\"Train log loss for trail = {0}\".format(log_loss(train_labels, train_pred_proba_lin)))\n",
    "\n",
    "test_pred_proba_lin =clf_lin_svm.predict_proba(X_test)\n",
    "print(\"Test log loss for trail = {0}\".format(log_loss(test_labels, test_pred_proba_lin)))"
   ]
  },
  {
   "cell_type": "code",
   "execution_count": 43,
   "id": "fitted-source",
   "metadata": {},
   "outputs": [
    {
     "data": {
      "text/plain": [
       "array([7])"
      ]
     },
     "execution_count": 43,
     "metadata": {},
     "output_type": "execute_result"
    }
   ],
   "source": [
    "clf_lin_svm.predict(X_test[3].reshape(1, -1))"
   ]
  },
  {
   "cell_type": "code",
   "execution_count": 44,
   "id": "focal-reverse",
   "metadata": {},
   "outputs": [],
   "source": [
    "import pickle"
   ]
  },
  {
   "cell_type": "code",
   "execution_count": 45,
   "id": "valid-combine",
   "metadata": {},
   "outputs": [],
   "source": [
    "s = pickle.dumps(clf_lin_svm)"
   ]
  },
  {
   "cell_type": "code",
   "execution_count": 50,
   "id": "secure-northwest",
   "metadata": {},
   "outputs": [],
   "source": [
    "import joblib"
   ]
  },
  {
   "cell_type": "code",
   "execution_count": 51,
   "id": "flying-climate",
   "metadata": {},
   "outputs": [
    {
     "data": {
      "text/plain": [
       "['SVM_model.pkl']"
      ]
     },
     "execution_count": 51,
     "metadata": {},
     "output_type": "execute_result"
    }
   ],
   "source": [
    "joblib.dump(clf_lin_svm, 'SVM_model.pkl')"
   ]
  }
 ],
 "metadata": {
  "kernelspec": {
   "display_name": "Python 3",
   "language": "python",
   "name": "python3"
  },
  "language_info": {
   "codemirror_mode": {
    "name": "ipython",
    "version": 3
   },
   "file_extension": ".py",
   "mimetype": "text/x-python",
   "name": "python",
   "nbconvert_exporter": "python",
   "pygments_lexer": "ipython3",
   "version": "3.7.7"
  }
 },
 "nbformat": 4,
 "nbformat_minor": 5
}
