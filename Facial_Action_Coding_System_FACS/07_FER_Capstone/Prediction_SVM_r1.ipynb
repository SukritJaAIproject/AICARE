{
 "cells": [
  {
   "cell_type": "code",
   "execution_count": 11,
   "id": "global-sitting",
   "metadata": {},
   "outputs": [],
   "source": [
    "import warnings\n",
    "warnings.filterwarnings('ignore')\n",
    "import glob\n",
    "from shutil import copyfile\n",
    "import random\n",
    "import cv2\n",
    "import dlib\n",
    "import numpy as np\n",
    "import pickle\n",
    "import joblib\n",
    "random.seed(123)\n",
    "emotions = [\"neutral\", \"anger\", \"contempt\", \"disgust\", \"fear\", \"happy\", \"sadness\", \"surprise\"]"
   ]
  },
  {
   "cell_type": "code",
   "execution_count": 2,
   "id": "demanding-ancient",
   "metadata": {},
   "outputs": [],
   "source": [
    "import math\n",
    "def get_landmarks(image):\n",
    "    data={}\n",
    "    detections = detector(image, 1)\n",
    "    for k,d in enumerate(detections): #For all detected face instances individually\n",
    "        shape = predictor(image, d) #Draw Facial Landmarks with the predictor class\n",
    "        xlist = []\n",
    "        ylist = []\n",
    "        for i in range(1,68): #Store X and Y coordinates in two lists\n",
    "            xlist.append(float(shape.part(i).x))\n",
    "            ylist.append(float(shape.part(i).y))\n",
    "        # calculate the center of gravity\n",
    "        xmean = np.mean(xlist)\n",
    "        ymean = np.mean(ylist)\n",
    "        # calculate the distance from center from both axis.\n",
    "        # this information is used to get the angle relative to center point.\n",
    "        xcentral = [(x-xmean) for x in xlist]\n",
    "        ycentral = [(y-ymean) for y in ylist]\n",
    "        landmarks_vectorised = []\n",
    "        for x, y, w, z in zip(xcentral, ycentral, xlist, ylist):\n",
    "            # append x and y values\n",
    "            landmarks_vectorised.append(w)\n",
    "            landmarks_vectorised.append(z)\n",
    "            meannp = np.asarray((ymean,xmean))\n",
    "            coornp = np.asarray((z,w))\n",
    "            # calculate the euclidiean distance from center\n",
    "            dist = np.linalg.norm(coornp-meannp)\n",
    "            # append the distance to the feature vector\n",
    "            landmarks_vectorised.append(dist)\n",
    "            # apend the angle relative to the center of gravity.\n",
    "            landmarks_vectorised.append(math.degrees(math.atan2(y,x)))\n",
    "        data['landmarks_vectorised'] = landmarks_vectorised\n",
    "    if len(detections) < 1:\n",
    "        data['landmarks_vestorised'] = \"error\"\n",
    "    return data"
   ]
  },
  {
   "cell_type": "code",
   "execution_count": 3,
   "id": "frozen-contest",
   "metadata": {},
   "outputs": [],
   "source": [
    "def get_files(emotion):\n",
    "    files = glob.glob(\"dataset/{0}/*\".format(emotion))\n",
    "    random.shuffle(files)\n",
    "    train = files[:int(len(files)*0.8)] #get first 80% of file list\n",
    "    test = files[-int(len(files)*0.2):] #get last 20% of file list\n",
    "    return train, test"
   ]
  },
  {
   "cell_type": "code",
   "execution_count": 4,
   "id": "burning-concert",
   "metadata": {},
   "outputs": [],
   "source": [
    "def make_sets():\n",
    "    training_data = []\n",
    "    training_labels = []\n",
    "    test_data = []\n",
    "    test_labels = []\n",
    "    train_files_list = [] # its a list of dict of trainfiles\n",
    "    test_files_list = [] \n",
    "    for emotion in emotions:\n",
    "        #print(\" working on %s\" %emotion)\n",
    "        train, test = get_files(emotion)\n",
    "        #Append data to training and prediction list, and generate labels 0-7\n",
    "        for item in train:\n",
    "            d = dict()\n",
    "            d[\"name\"]= item\n",
    "            d[\"emotion\"] = emotions.index(emotion)\n",
    "            train_files_list.append(d)\n",
    "            image = cv2.imread(item) #open image\n",
    "            data = get_landmarks(image)\n",
    "            if data['landmarks_vectorised'] == \"error\":\n",
    "                print(\"no face detected on this one\")\n",
    "            else:\n",
    "                training_data.append(data['landmarks_vectorised']) #append image array to training data list\n",
    "                training_labels.append(emotions.index(emotion))\n",
    "        for item in test:\n",
    "            d = dict()\n",
    "            d[\"name\"]= item\n",
    "            d[\"emotion\"] = emotions.index(emotion)\n",
    "            test_files_list.append(d)\n",
    "            image = cv2.imread(item)\n",
    "            data = get_landmarks(image)\n",
    "            if data['landmarks_vectorised'] == \"error\":\n",
    "                print(\"no face detected on this one\")\n",
    "            else:\n",
    "                test_data.append(data['landmarks_vectorised'])\n",
    "                test_labels.append(emotions.index(emotion))\n",
    "    return training_data, training_labels, test_data, test_labels, train_files_list, test_files_list"
   ]
  },
  {
   "cell_type": "code",
   "execution_count": 5,
   "id": "welcome-hospital",
   "metadata": {},
   "outputs": [],
   "source": [
    "detector = dlib.get_frontal_face_detector() #Face detector\n",
    "predictor = dlib.shape_predictor(\"shape_predictor_68_face_landmarks.dat\") #Landmark identifier. Set the filename to whatever you named the downloaded file"
   ]
  },
  {
   "cell_type": "code",
   "execution_count": 14,
   "id": "overall-premium",
   "metadata": {},
   "outputs": [],
   "source": [
    "from sklearn.svm import SVC\n",
    "from sklearn.metrics import log_loss\n",
    "train_data, train_labels, test_data, test_labels, train_files_list, test_files_list = make_sets()"
   ]
  },
  {
   "cell_type": "code",
   "execution_count": 15,
   "id": "certain-ready",
   "metadata": {},
   "outputs": [],
   "source": [
    "loaded_model = joblib.load('SVM_model.pkl')"
   ]
  },
  {
   "cell_type": "code",
   "execution_count": 16,
   "id": "packed-philosophy",
   "metadata": {},
   "outputs": [
    {
     "data": {
      "text/plain": [
       "array([7])"
      ]
     },
     "execution_count": 16,
     "metadata": {},
     "output_type": "execute_result"
    }
   ],
   "source": [
    "loaded_model.predict(X_test[3].reshape(1, -1))"
   ]
  }
 ],
 "metadata": {
  "kernelspec": {
   "display_name": "Python 3",
   "language": "python",
   "name": "python3"
  },
  "language_info": {
   "codemirror_mode": {
    "name": "ipython",
    "version": 3
   },
   "file_extension": ".py",
   "mimetype": "text/x-python",
   "name": "python",
   "nbconvert_exporter": "python",
   "pygments_lexer": "ipython3",
   "version": "3.7.7"
  }
 },
 "nbformat": 4,
 "nbformat_minor": 5
}
