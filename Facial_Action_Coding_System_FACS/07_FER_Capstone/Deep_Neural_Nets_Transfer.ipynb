{
  "nbformat": 4,
  "nbformat_minor": 5,
  "metadata": {
    "kernelspec": {
      "display_name": "Python 3",
      "language": "python",
      "name": "python3"
    },
    "language_info": {
      "codemirror_mode": {
        "name": "ipython",
        "version": 3
      },
      "file_extension": ".py",
      "mimetype": "text/x-python",
      "name": "python",
      "nbconvert_exporter": "python",
      "pygments_lexer": "ipython3",
      "version": "3.7.7"
    },
    "colab": {
      "name": "Deep_Neural_Nets.ipynb",
      "provenance": [],
      "collapsed_sections": []
    },
    "accelerator": "GPU"
  },
  "cells": [
    {
      "cell_type": "code",
      "metadata": {
        "colab": {
          "base_uri": "https://localhost:8080/"
        },
        "id": "BMqJZKUFxau3",
        "outputId": "e7d21dff-27dc-428b-a9f8-f7db791aabdf"
      },
      "source": [
        "from google.colab import drive\n",
        "drive.mount('/content/drive')"
      ],
      "id": "BMqJZKUFxau3",
      "execution_count": 1,
      "outputs": [
        {
          "output_type": "stream",
          "text": [
            "Mounted at /content/drive\n"
          ],
          "name": "stdout"
        }
      ]
    },
    {
      "cell_type": "code",
      "metadata": {
        "colab": {
          "base_uri": "https://localhost:8080/"
        },
        "id": "K-XSRw5kxfym",
        "outputId": "54177294-d641-4fdd-8952-e17051b36be8"
      },
      "source": [
        "ls 'drive/MyDrive/AIHealthcare/FER-master'"
      ],
      "id": "K-XSRw5kxfym",
      "execution_count": 9,
      "outputs": [
        {
          "output_type": "stream",
          "text": [
            " bottleneck_features.npz                \u001b[0m\u001b[01;34mmarkdown\u001b[0m/\n",
            " bottleneck_features_X.npz              \u001b[01;34mnpdata\u001b[0m/\n",
            " \u001b[01;34mdataset\u001b[0m/                               np_test_files_list.npy\n",
            " Deep_Neural_Nets.ipynb                 np_train_files_list.npy\n",
            "'FER Capstone Implementation.html'      plot_learning_curve.py\n",
            "'FER Capstone Implementation.ipynb'     \u001b[01;34mpre_dataset\u001b[0m/\n",
            "'FER Capstone Proposal.md'              README.md\n",
            "'FER Capstone Proposal.pdf'             \u001b[01;34msaved_models\u001b[0m/\n",
            " \u001b[01;34mhaarcascades\u001b[0m/                          shape_predictor_68_face_landmarks.dat\n",
            " install_env.sh                         \u001b[01;34msource_emotion\u001b[0m/\n",
            "'Karthik - FER Capstone Report.html'    \u001b[01;34msource_images\u001b[0m/\n",
            "'Karthik - FER Capstone Report.ipynb'   SVM_model.pkl\n",
            "'Karthik - FER Capstone Report.pdf'\n"
          ],
          "name": "stdout"
        }
      ]
    },
    {
      "cell_type": "code",
      "metadata": {
        "colab": {
          "base_uri": "https://localhost:8080/"
        },
        "id": "AGsamOfYxphU",
        "outputId": "5eb1a770-1cca-4636-b520-158dc9a986ba"
      },
      "source": [
        "%cd drive/MyDrive/AIHealthcare/FER-master"
      ],
      "id": "AGsamOfYxphU",
      "execution_count": 10,
      "outputs": [
        {
          "output_type": "stream",
          "text": [
            "/content/drive/MyDrive/AIHealthcare/FER-master\n"
          ],
          "name": "stdout"
        }
      ]
    },
    {
      "cell_type": "code",
      "metadata": {
        "id": "smoking-judges"
      },
      "source": [
        "import keras\n",
        "from keras import backend as K\n",
        "from keras.preprocessing import image\n",
        "from tqdm import tqdm\n",
        "import numpy as np\n",
        "import pandas as pd\n",
        "import matplotlib.pyplot as plt                        \n",
        "%matplotlib inline\n",
        "emotions = [\"neutral\", \"anger\", \"contempt\", \"disgust\", \"fear\", \"happy\", \"sadness\", \"surprise\"]"
      ],
      "id": "smoking-judges",
      "execution_count": 11,
      "outputs": []
    },
    {
      "cell_type": "code",
      "metadata": {
        "id": "affected-contemporary"
      },
      "source": [
        "from sklearn.metrics import confusion_matrix\n",
        "def plot_confusion_matrix(y_true, y_pred, classes,\n",
        "                          normalize=False,\n",
        "                          title=None,\n",
        "                          cmap=plt.cm.Blues):\n",
        "    if not title:\n",
        "        if normalize:\n",
        "            title = 'Normalized confusion matrix'\n",
        "        else:\n",
        "            title = 'Confusion matrix, without normalization'\n",
        "\n",
        "    # Compute confusion matrix\n",
        "    cm = confusion_matrix(y_true, y_pred)\n",
        "    # Only use the labels that appear in the data\n",
        "    if normalize:\n",
        "        cm = cm.astype('float') / cm.sum(axis=1)[:, np.newaxis]\n",
        "        print(\"Normalized confusion matrix\")\n",
        "    else:\n",
        "        print('Confusion matrix, without normalization')\n",
        "\n",
        "    #print(cm)\n",
        "    fig, ax = plt.subplots(figsize=(8,8))\n",
        "    im = ax.imshow(cm, interpolation='nearest', cmap=cmap)\n",
        "    ax.figure.colorbar(im, ax=ax)\n",
        "    # We want to show all ticks...\n",
        "    ax.set(xticks=np.arange(cm.shape[1]),\n",
        "           yticks=np.arange(cm.shape[0]),\n",
        "           # ... and label them with the respective list entries\n",
        "           xticklabels=classes, yticklabels=classes,\n",
        "           title=title,\n",
        "           ylabel='True label',\n",
        "           xlabel='Predicted label')\n",
        "\n",
        "    # Rotate the tick labels and set their alignment.\n",
        "    plt.setp(ax.get_xticklabels(), rotation=90, ha=\"right\",\n",
        "             rotation_mode=\"anchor\")\n",
        "\n",
        "    # Loop over data dimensions and create text annotations.\n",
        "    fmt = '.2f' if normalize else 'd'\n",
        "    thresh = cm.max() / 2.\n",
        "    for i in range(cm.shape[0]):\n",
        "        for j in range(cm.shape[1]):\n",
        "            ax.text(j, i, format(cm[i, j], fmt),\n",
        "                    ha=\"center\", va=\"center\",\n",
        "                    color=\"white\" if cm[i, j] > thresh else \"black\")\n",
        "    fig.tight_layout()\n",
        "    return ax"
      ],
      "id": "affected-contemporary",
      "execution_count": 12,
      "outputs": []
    },
    {
      "cell_type": "code",
      "metadata": {
        "id": "medical-allah"
      },
      "source": [
        "train_df = pd.DataFrame(np.load('npdata/np_train_files_list.npy',allow_pickle=True).tolist())\n",
        "test_df = pd.DataFrame(np.load('npdata/np_test_files_list.npy',allow_pickle=True).tolist())"
      ],
      "id": "medical-allah",
      "execution_count": 13,
      "outputs": []
    },
    {
      "cell_type": "code",
      "metadata": {
        "colab": {
          "base_uri": "https://localhost:8080/",
          "height": 198
        },
        "id": "behavioral-yield",
        "outputId": "1ca474d3-de12-4302-b316-d7277af7f0ce"
      },
      "source": [
        "from sklearn.utils import shuffle\n",
        "shuffled_df = shuffle(train_df).reset_index(drop=True)\n",
        "shuffled_df.head()"
      ],
      "id": "behavioral-yield",
      "execution_count": 44,
      "outputs": [
        {
          "output_type": "execute_result",
          "data": {
            "text/html": [
              "<div>\n",
              "<style scoped>\n",
              "    .dataframe tbody tr th:only-of-type {\n",
              "        vertical-align: middle;\n",
              "    }\n",
              "\n",
              "    .dataframe tbody tr th {\n",
              "        vertical-align: top;\n",
              "    }\n",
              "\n",
              "    .dataframe thead th {\n",
              "        text-align: right;\n",
              "    }\n",
              "</style>\n",
              "<table border=\"1\" class=\"dataframe\">\n",
              "  <thead>\n",
              "    <tr style=\"text-align: right;\">\n",
              "      <th></th>\n",
              "      <th>name</th>\n",
              "      <th>emotion</th>\n",
              "    </tr>\n",
              "  </thead>\n",
              "  <tbody>\n",
              "    <tr>\n",
              "      <th>0</th>\n",
              "      <td>dataset/happy\\14.png</td>\n",
              "      <td>5</td>\n",
              "    </tr>\n",
              "    <tr>\n",
              "      <th>1</th>\n",
              "      <td>dataset/contempt\\1.png</td>\n",
              "      <td>2</td>\n",
              "    </tr>\n",
              "    <tr>\n",
              "      <th>2</th>\n",
              "      <td>dataset/happy\\26.png</td>\n",
              "      <td>5</td>\n",
              "    </tr>\n",
              "    <tr>\n",
              "      <th>3</th>\n",
              "      <td>dataset/surprise\\44.png</td>\n",
              "      <td>7</td>\n",
              "    </tr>\n",
              "    <tr>\n",
              "      <th>4</th>\n",
              "      <td>dataset/surprise\\74.png</td>\n",
              "      <td>7</td>\n",
              "    </tr>\n",
              "  </tbody>\n",
              "</table>\n",
              "</div>"
            ],
            "text/plain": [
              "                      name  emotion\n",
              "0     dataset/happy\\14.png        5\n",
              "1   dataset/contempt\\1.png        2\n",
              "2     dataset/happy\\26.png        5\n",
              "3  dataset/surprise\\44.png        7\n",
              "4  dataset/surprise\\74.png        7"
            ]
          },
          "metadata": {
            "tags": []
          },
          "execution_count": 44
        }
      ]
    },
    {
      "cell_type": "code",
      "metadata": {
        "id": "0lg8mX_q4yDH"
      },
      "source": [
        "shuffled_df['name']=shuffled_df.apply(lambda x: x['name'].replace(\"\\\\\", \"/\"),axis=1)"
      ],
      "id": "0lg8mX_q4yDH",
      "execution_count": 45,
      "outputs": []
    },
    {
      "cell_type": "code",
      "metadata": {
        "colab": {
          "base_uri": "https://localhost:8080/",
          "height": 198
        },
        "id": "NsiHXQdP5qI1",
        "outputId": "57f95945-cffc-4605-ef5f-c403ef59c137"
      },
      "source": [
        "shuffled_df.head()"
      ],
      "id": "NsiHXQdP5qI1",
      "execution_count": 46,
      "outputs": [
        {
          "output_type": "execute_result",
          "data": {
            "text/html": [
              "<div>\n",
              "<style scoped>\n",
              "    .dataframe tbody tr th:only-of-type {\n",
              "        vertical-align: middle;\n",
              "    }\n",
              "\n",
              "    .dataframe tbody tr th {\n",
              "        vertical-align: top;\n",
              "    }\n",
              "\n",
              "    .dataframe thead th {\n",
              "        text-align: right;\n",
              "    }\n",
              "</style>\n",
              "<table border=\"1\" class=\"dataframe\">\n",
              "  <thead>\n",
              "    <tr style=\"text-align: right;\">\n",
              "      <th></th>\n",
              "      <th>name</th>\n",
              "      <th>emotion</th>\n",
              "    </tr>\n",
              "  </thead>\n",
              "  <tbody>\n",
              "    <tr>\n",
              "      <th>0</th>\n",
              "      <td>dataset/happy/14.png</td>\n",
              "      <td>5</td>\n",
              "    </tr>\n",
              "    <tr>\n",
              "      <th>1</th>\n",
              "      <td>dataset/contempt/1.png</td>\n",
              "      <td>2</td>\n",
              "    </tr>\n",
              "    <tr>\n",
              "      <th>2</th>\n",
              "      <td>dataset/happy/26.png</td>\n",
              "      <td>5</td>\n",
              "    </tr>\n",
              "    <tr>\n",
              "      <th>3</th>\n",
              "      <td>dataset/surprise/44.png</td>\n",
              "      <td>7</td>\n",
              "    </tr>\n",
              "    <tr>\n",
              "      <th>4</th>\n",
              "      <td>dataset/surprise/74.png</td>\n",
              "      <td>7</td>\n",
              "    </tr>\n",
              "  </tbody>\n",
              "</table>\n",
              "</div>"
            ],
            "text/plain": [
              "                      name  emotion\n",
              "0     dataset/happy/14.png        5\n",
              "1   dataset/contempt/1.png        2\n",
              "2     dataset/happy/26.png        5\n",
              "3  dataset/surprise/44.png        7\n",
              "4  dataset/surprise/74.png        7"
            ]
          },
          "metadata": {
            "tags": []
          },
          "execution_count": 46
        }
      ]
    },
    {
      "cell_type": "code",
      "metadata": {
        "id": "fatty-legend"
      },
      "source": [
        "# 80 % trainset, 20% valid set and the test_df will be the test set.\n",
        "train_set_df = shuffled_df.iloc[:int(.8*len(shuffled_df))]\n",
        "valid_set_df = shuffled_df.iloc[int(.8*len(shuffled_df)):]"
      ],
      "id": "fatty-legend",
      "execution_count": 47,
      "outputs": []
    },
    {
      "cell_type": "code",
      "metadata": {
        "id": "laughing-profession"
      },
      "source": [
        "def load_dataset(data):\n",
        "    image_files = np.array(data['name'])\n",
        "    emotion_class = np.array(data['emotion'])\n",
        "    return image_files, emotion_class"
      ],
      "id": "laughing-profession",
      "execution_count": 48,
      "outputs": []
    },
    {
      "cell_type": "code",
      "metadata": {
        "colab": {
          "base_uri": "https://localhost:8080/",
          "height": 198
        },
        "id": "d8lAD2vc8KEG",
        "outputId": "f7558837-ea51-4ecd-9cf6-98a57586cce5"
      },
      "source": [
        "test_df.head(5)"
      ],
      "id": "d8lAD2vc8KEG",
      "execution_count": 60,
      "outputs": [
        {
          "output_type": "execute_result",
          "data": {
            "text/html": [
              "<div>\n",
              "<style scoped>\n",
              "    .dataframe tbody tr th:only-of-type {\n",
              "        vertical-align: middle;\n",
              "    }\n",
              "\n",
              "    .dataframe tbody tr th {\n",
              "        vertical-align: top;\n",
              "    }\n",
              "\n",
              "    .dataframe thead th {\n",
              "        text-align: right;\n",
              "    }\n",
              "</style>\n",
              "<table border=\"1\" class=\"dataframe\">\n",
              "  <thead>\n",
              "    <tr style=\"text-align: right;\">\n",
              "      <th></th>\n",
              "      <th>name</th>\n",
              "      <th>emotion</th>\n",
              "    </tr>\n",
              "  </thead>\n",
              "  <tbody>\n",
              "    <tr>\n",
              "      <th>0</th>\n",
              "      <td>dataset/neutral/85.png</td>\n",
              "      <td>0</td>\n",
              "    </tr>\n",
              "    <tr>\n",
              "      <th>1</th>\n",
              "      <td>dataset/neutral/20.png</td>\n",
              "      <td>0</td>\n",
              "    </tr>\n",
              "    <tr>\n",
              "      <th>2</th>\n",
              "      <td>dataset/neutral/73.png</td>\n",
              "      <td>0</td>\n",
              "    </tr>\n",
              "    <tr>\n",
              "      <th>3</th>\n",
              "      <td>dataset/neutral/88.png</td>\n",
              "      <td>0</td>\n",
              "    </tr>\n",
              "    <tr>\n",
              "      <th>4</th>\n",
              "      <td>dataset/neutral/89.png</td>\n",
              "      <td>0</td>\n",
              "    </tr>\n",
              "  </tbody>\n",
              "</table>\n",
              "</div>"
            ],
            "text/plain": [
              "                     name  emotion\n",
              "0  dataset/neutral/85.png        0\n",
              "1  dataset/neutral/20.png        0\n",
              "2  dataset/neutral/73.png        0\n",
              "3  dataset/neutral/88.png        0\n",
              "4  dataset/neutral/89.png        0"
            ]
          },
          "metadata": {
            "tags": []
          },
          "execution_count": 60
        }
      ]
    },
    {
      "cell_type": "code",
      "metadata": {
        "id": "yc5x4rRL8Ms_"
      },
      "source": [
        "test_df['name']=test_df.apply(lambda x: x['name'].replace(\"\\\\\", \"/\"),axis=1)"
      ],
      "id": "yc5x4rRL8Ms_",
      "execution_count": 59,
      "outputs": []
    },
    {
      "cell_type": "code",
      "metadata": {
        "colab": {
          "base_uri": "https://localhost:8080/"
        },
        "id": "stuffed-hygiene",
        "outputId": "4fb5aa58-eaa7-418e-d0b7-a844b861f2ce"
      },
      "source": [
        "# load train, test, and validation datasets\n",
        "train_files, train_targets = load_dataset(train_set_df)\n",
        "valid_files, valid_targets = load_dataset(valid_set_df)\n",
        "test_files, test_targets = load_dataset(test_df)\n",
        "\n",
        "\n",
        "# print statistics about the dataset\n",
        "print('There are %s total emotion  files.\\n' % len(np.hstack([train_files, valid_files, test_files])))\n",
        "print('There are %d training emotion images.' % len(train_files))\n",
        "print('There are %d validation emotion images.' % len(valid_files))\n",
        "print('There are %d test emotion images.'% len(test_files))"
      ],
      "id": "stuffed-hygiene",
      "execution_count": 62,
      "outputs": [
        {
          "output_type": "stream",
          "text": [
            "There are 439 total emotion  files.\n",
            "\n",
            "There are 283 training emotion images.\n",
            "There are 71 validation emotion images.\n",
            "There are 85 test emotion images.\n"
          ],
          "name": "stdout"
        }
      ]
    },
    {
      "cell_type": "code",
      "metadata": {
        "id": "behind-longitude"
      },
      "source": [
        "from keras.applications.vgg16 import VGG16\n",
        "from keras.preprocessing import image\n",
        "from keras.applications.vgg16 import preprocess_input as vgg_preprocess\n",
        "from keras.layers import Input, GlobalAveragePooling2D, Dense, Dropout\n",
        "from keras.models import Model, Sequential\n",
        "from keras.callbacks import ModelCheckpoint"
      ],
      "id": "behind-longitude",
      "execution_count": 50,
      "outputs": []
    },
    {
      "cell_type": "code",
      "metadata": {
        "id": "bronze-cylinder"
      },
      "source": [
        "\n",
        "##### Convert images to tensors and create bottleneck features\n",
        "\n",
        "def path_to_tensor(img_path, model=None, model_preprocess=None, transfer_learn=True):\n",
        "    # loads RGB image as PIL.Image.Image type\n",
        "    img = image.load_img(img_path, target_size=(350, 350))\n",
        "    \n",
        "    # convert PIL.Image.Image type to 3D tensor with shape (350, 350)\n",
        "    x = image.img_to_array(img)\n",
        "    print('image.img_to_array(img) = ', x.shape)\n",
        "    \n",
        "    # convert 3D tensor to 4D tensor with shape (1, 224, 224, 3) and return 4D tensor\n",
        "    x = np.expand_dims(x, axis=0)\n",
        "    print('np.expand_dims = ', x.shape)\n",
        "    \n",
        "    # get the bottleneck feature from the model\n",
        "    if transfer_learn and (model is not None) and (model_preprocess is not None):\n",
        "        return model.predict(model_preprocess(x))\n",
        "    else:\n",
        "        return x    \n",
        "\n",
        "def paths_to_tensor(img_paths, model, model_preprocess):\n",
        "    list_of_tensors = [path_to_tensor(img_path, model, model_preprocess) for img_path in tqdm(img_paths)]\n",
        "    return np.vstack(list_of_tensors)"
      ],
      "id": "bronze-cylinder",
      "execution_count": 51,
      "outputs": []
    },
    {
      "cell_type": "code",
      "metadata": {
        "id": "proud-greeting"
      },
      "source": [
        "model_VGG = VGG16(weights='imagenet', include_top=False)"
      ],
      "id": "proud-greeting",
      "execution_count": 52,
      "outputs": []
    },
    {
      "cell_type": "code",
      "metadata": {
        "colab": {
          "base_uri": "https://localhost:8080/"
        },
        "id": "08h-mdzA29DA",
        "outputId": "692d2e15-8c39-4c5a-a0ab-cfb25c8b2486"
      },
      "source": [
        "ls 'dataset/surprise/47.png'"
      ],
      "id": "08h-mdzA29DA",
      "execution_count": 53,
      "outputs": [
        {
          "output_type": "stream",
          "text": [
            "dataset/surprise/47.png\n"
          ],
          "name": "stdout"
        }
      ]
    },
    {
      "cell_type": "code",
      "metadata": {
        "colab": {
          "base_uri": "https://localhost:8080/"
        },
        "id": "YmlaoKui3QEK",
        "outputId": "f75f2870-bb0d-42ed-ac62-d505e450757d"
      },
      "source": [
        "train_files"
      ],
      "id": "YmlaoKui3QEK",
      "execution_count": 54,
      "outputs": [
        {
          "output_type": "execute_result",
          "data": {
            "text/plain": [
              "array(['dataset/happy/14.png', 'dataset/contempt/1.png',\n",
              "       'dataset/happy/26.png', 'dataset/surprise/44.png',\n",
              "       'dataset/surprise/74.png', 'dataset/anger/20.png',\n",
              "       'dataset/surprise/57.png', 'dataset/contempt/15.png',\n",
              "       'dataset/neutral/74.png', 'dataset/happy/31.png',\n",
              "       'dataset/sadness/0.png', 'dataset/neutral/46.png',\n",
              "       'dataset/anger/43.png', 'dataset/neutral/37.png',\n",
              "       'dataset/surprise/0.png', 'dataset/neutral/33.png',\n",
              "       'dataset/fear/6.png', 'dataset/surprise/59.png',\n",
              "       'dataset/anger/44.png', 'dataset/happy/36.png',\n",
              "       'dataset/neutral/110.png', 'dataset/neutral/29.png',\n",
              "       'dataset/neutral/56.png', 'dataset/sadness/22.png',\n",
              "       'dataset/sadness/24.png', 'dataset/sadness/16.png',\n",
              "       'dataset/anger/1.png', 'dataset/surprise/68.png',\n",
              "       'dataset/anger/31.png', 'dataset/happy/9.png',\n",
              "       'dataset/sadness/9.png', 'dataset/disgust/26.png',\n",
              "       'dataset/neutral/109.png', 'dataset/anger/16.png',\n",
              "       'dataset/neutral/47.png', 'dataset/disgust/25.png',\n",
              "       'dataset/surprise/50.png', 'dataset/happy/67.png',\n",
              "       'dataset/happy/46.png', 'dataset/happy/59.png',\n",
              "       'dataset/contempt/2.png', 'dataset/happy/65.png',\n",
              "       'dataset/surprise/67.png', 'dataset/neutral/93.png',\n",
              "       'dataset/surprise/75.png', 'dataset/anger/42.png',\n",
              "       'dataset/fear/1.png', 'dataset/neutral/100.png',\n",
              "       'dataset/sadness/14.png', 'dataset/neutral/72.png',\n",
              "       'dataset/contempt/11.png', 'dataset/neutral/61.png',\n",
              "       'dataset/disgust/20.png', 'dataset/neutral/63.png',\n",
              "       'dataset/neutral/26.png', 'dataset/surprise/10.png',\n",
              "       'dataset/happy/6.png', 'dataset/anger/36.png',\n",
              "       'dataset/surprise/53.png', 'dataset/neutral/97.png',\n",
              "       'dataset/disgust/18.png', 'dataset/neutral/117.png',\n",
              "       'dataset/disgust/45.png', 'dataset/happy/68.png',\n",
              "       'dataset/anger/29.png', 'dataset/anger/25.png',\n",
              "       'dataset/neutral/10.png', 'dataset/contempt/14.png',\n",
              "       'dataset/disgust/49.png', 'dataset/neutral/112.png',\n",
              "       'dataset/contempt/3.png', 'dataset/surprise/38.png',\n",
              "       'dataset/anger/34.png', 'dataset/neutral/14.png',\n",
              "       'dataset/disgust/33.png', 'dataset/anger/41.png',\n",
              "       'dataset/surprise/48.png', 'dataset/disgust/31.png',\n",
              "       'dataset/fear/21.png', 'dataset/disgust/48.png',\n",
              "       'dataset/contempt/9.png', 'dataset/neutral/67.png',\n",
              "       'dataset/happy/38.png', 'dataset/neutral/18.png',\n",
              "       'dataset/happy/4.png', 'dataset/disgust/32.png',\n",
              "       'dataset/surprise/18.png', 'dataset/happy/15.png',\n",
              "       'dataset/happy/10.png', 'dataset/anger/9.png',\n",
              "       'dataset/anger/15.png', 'dataset/neutral/13.png',\n",
              "       'dataset/anger/2.png', 'dataset/surprise/45.png',\n",
              "       'dataset/sadness/12.png', 'dataset/surprise/9.png',\n",
              "       'dataset/anger/26.png', 'dataset/disgust/42.png',\n",
              "       'dataset/happy/58.png', 'dataset/surprise/56.png',\n",
              "       'dataset/neutral/7.png', 'dataset/anger/37.png',\n",
              "       'dataset/neutral/114.png', 'dataset/disgust/53.png',\n",
              "       'dataset/surprise/1.png', 'dataset/fear/11.png',\n",
              "       'dataset/neutral/3.png', 'dataset/neutral/91.png',\n",
              "       'dataset/neutral/49.png', 'dataset/happy/29.png',\n",
              "       'dataset/neutral/17.png', 'dataset/neutral/115.png',\n",
              "       'dataset/anger/18.png', 'dataset/surprise/47.png',\n",
              "       'dataset/surprise/35.png', 'dataset/surprise/3.png',\n",
              "       'dataset/surprise/55.png', 'dataset/anger/4.png',\n",
              "       'dataset/sadness/4.png', 'dataset/fear/10.png',\n",
              "       'dataset/neutral/104.png', 'dataset/neutral/15.png',\n",
              "       'dataset/anger/6.png', 'dataset/neutral/111.png',\n",
              "       'dataset/neutral/45.png', 'dataset/surprise/21.png',\n",
              "       'dataset/surprise/46.png', 'dataset/neutral/2.png',\n",
              "       'dataset/surprise/72.png', 'dataset/disgust/44.png',\n",
              "       'dataset/disgust/23.png', 'dataset/disgust/37.png',\n",
              "       'dataset/fear/12.png', 'dataset/happy/20.png',\n",
              "       'dataset/disgust/36.png', 'dataset/happy/40.png',\n",
              "       'dataset/neutral/52.png', 'dataset/disgust/19.png',\n",
              "       'dataset/anger/28.png', 'dataset/sadness/7.png',\n",
              "       'dataset/disgust/11.png', 'dataset/disgust/0.png',\n",
              "       'dataset/anger/3.png', 'dataset/happy/25.png',\n",
              "       'dataset/anger/39.png', 'dataset/surprise/82.png',\n",
              "       'dataset/surprise/60.png', 'dataset/disgust/4.png',\n",
              "       'dataset/surprise/54.png', 'dataset/neutral/58.png',\n",
              "       'dataset/neutral/78.png', 'dataset/neutral/38.png',\n",
              "       'dataset/neutral/8.png', 'dataset/disgust/41.png',\n",
              "       'dataset/surprise/81.png', 'dataset/disgust/17.png',\n",
              "       'dataset/fear/17.png', 'dataset/disgust/43.png',\n",
              "       'dataset/happy/0.png', 'dataset/sadness/8.png',\n",
              "       'dataset/sadness/10.png', 'dataset/surprise/65.png',\n",
              "       'dataset/surprise/16.png', 'dataset/neutral/25.png',\n",
              "       'dataset/surprise/51.png', 'dataset/disgust/12.png',\n",
              "       'dataset/happy/12.png', 'dataset/neutral/44.png',\n",
              "       'dataset/anger/40.png', 'dataset/happy/41.png',\n",
              "       'dataset/surprise/49.png', 'dataset/neutral/80.png',\n",
              "       'dataset/fear/19.png', 'dataset/happy/39.png',\n",
              "       'dataset/anger/19.png', 'dataset/disgust/27.png',\n",
              "       'dataset/surprise/5.png', 'dataset/surprise/70.png',\n",
              "       'dataset/neutral/102.png', 'dataset/anger/30.png',\n",
              "       'dataset/contempt/16.png', 'dataset/anger/27.png',\n",
              "       'dataset/disgust/57.png', 'dataset/contempt/7.png',\n",
              "       'dataset/happy/27.png', 'dataset/surprise/71.png',\n",
              "       'dataset/neutral/32.png', 'dataset/surprise/27.png',\n",
              "       'dataset/surprise/29.png', 'dataset/disgust/24.png',\n",
              "       'dataset/happy/53.png', 'dataset/neutral/48.png',\n",
              "       'dataset/fear/18.png', 'dataset/happy/42.png',\n",
              "       'dataset/sadness/2.png', 'dataset/disgust/22.png',\n",
              "       'dataset/contempt/12.png', 'dataset/anger/35.png',\n",
              "       'dataset/happy/37.png', 'dataset/happy/11.png',\n",
              "       'dataset/surprise/32.png', 'dataset/neutral/50.png',\n",
              "       'dataset/surprise/58.png', 'dataset/happy/63.png',\n",
              "       'dataset/happy/66.png', 'dataset/sadness/11.png',\n",
              "       'dataset/sadness/23.png', 'dataset/surprise/42.png',\n",
              "       'dataset/neutral/22.png', 'dataset/neutral/106.png',\n",
              "       'dataset/neutral/66.png', 'dataset/neutral/83.png',\n",
              "       'dataset/sadness/20.png', 'dataset/happy/61.png',\n",
              "       'dataset/neutral/82.png', 'dataset/happy/17.png',\n",
              "       'dataset/neutral/92.png', 'dataset/neutral/59.png',\n",
              "       'dataset/neutral/21.png', 'dataset/surprise/73.png',\n",
              "       'dataset/neutral/90.png', 'dataset/fear/13.png',\n",
              "       'dataset/disgust/40.png', 'dataset/anger/10.png',\n",
              "       'dataset/surprise/64.png', 'dataset/neutral/60.png',\n",
              "       'dataset/contempt/5.png', 'dataset/neutral/41.png',\n",
              "       'dataset/surprise/78.png', 'dataset/contempt/13.png',\n",
              "       'dataset/happy/44.png', 'dataset/happy/43.png',\n",
              "       'dataset/neutral/35.png', 'dataset/neutral/68.png',\n",
              "       'dataset/happy/16.png', 'dataset/neutral/5.png',\n",
              "       'dataset/surprise/36.png', 'dataset/surprise/61.png',\n",
              "       'dataset/neutral/6.png', 'dataset/neutral/64.png',\n",
              "       'dataset/surprise/63.png', 'dataset/disgust/2.png',\n",
              "       'dataset/sadness/13.png', 'dataset/anger/22.png',\n",
              "       'dataset/neutral/65.png', 'dataset/disgust/13.png',\n",
              "       'dataset/surprise/76.png', 'dataset/disgust/7.png',\n",
              "       'dataset/happy/34.png', 'dataset/neutral/1.png',\n",
              "       'dataset/surprise/11.png', 'dataset/neutral/70.png',\n",
              "       'dataset/fear/8.png', 'dataset/surprise/15.png',\n",
              "       'dataset/surprise/17.png', 'dataset/neutral/94.png',\n",
              "       'dataset/neutral/105.png', 'dataset/happy/24.png',\n",
              "       'dataset/neutral/51.png', 'dataset/fear/15.png',\n",
              "       'dataset/neutral/12.png', 'dataset/neutral/62.png',\n",
              "       'dataset/sadness/25.png', 'dataset/fear/23.png',\n",
              "       'dataset/happy/62.png', 'dataset/surprise/39.png',\n",
              "       'dataset/neutral/19.png', 'dataset/fear/24.png',\n",
              "       'dataset/surprise/2.png', 'dataset/sadness/27.png',\n",
              "       'dataset/surprise/77.png', 'dataset/surprise/37.png',\n",
              "       'dataset/neutral/24.png', 'dataset/happy/3.png',\n",
              "       'dataset/neutral/28.png', 'dataset/anger/11.png',\n",
              "       'dataset/neutral/95.png', 'dataset/disgust/58.png',\n",
              "       'dataset/fear/3.png', 'dataset/anger/21.png',\n",
              "       'dataset/surprise/33.png', 'dataset/happy/21.png',\n",
              "       'dataset/surprise/12.png'], dtype=object)"
            ]
          },
          "metadata": {
            "tags": []
          },
          "execution_count": 54
        }
      ]
    },
    {
      "cell_type": "code",
      "metadata": {
        "colab": {
          "base_uri": "https://localhost:8080/"
        },
        "id": "handled-bridges",
        "outputId": "07125b0c-09e2-4511-cdfa-af967597b0f0"
      },
      "source": [
        "from PIL import ImageFile                            \n",
        "ImageFile.LOAD_TRUNCATED_IMAGES = True\n",
        "\n",
        "# train_tensors_VGG_bottleneck = paths_to_tensor(train_files, model_VGG, vgg_preprocess)\n",
        "# valid_tensors_VGG_bottleneck = paths_to_tensor(valid_files, model_VGG, vgg_preprocess)\n",
        "test_tensors_VGG_bottleneck = paths_to_tensor(test_files, model_VGG, vgg_preprocess)"
      ],
      "id": "handled-bridges",
      "execution_count": 63,
      "outputs": [
        {
          "output_type": "stream",
          "text": [
            "\n",
            "\n",
            "\n",
            "\n",
            "\n",
            "\n",
            "\n",
            "\n",
            "\n",
            "  0%|          | 0/85 [00:00<?, ?it/s]\u001b[A\u001b[A\u001b[A\u001b[A\u001b[A\u001b[A\u001b[A\u001b[A\u001b[A"
          ],
          "name": "stderr"
        },
        {
          "output_type": "stream",
          "text": [
            "image.img_to_array(img) =  (350, 350, 3)\n",
            "np.expand_dims =  (1, 350, 350, 3)\n"
          ],
          "name": "stdout"
        },
        {
          "output_type": "stream",
          "text": [
            "\n",
            "\n",
            "\n",
            "\n",
            "\n",
            "\n",
            "\n",
            "\n",
            "\n",
            "  1%|          | 1/85 [00:01<01:40,  1.19s/it]\u001b[A\u001b[A\u001b[A\u001b[A\u001b[A\u001b[A\u001b[A\u001b[A\u001b[A"
          ],
          "name": "stderr"
        },
        {
          "output_type": "stream",
          "text": [
            "image.img_to_array(img) =  (350, 350, 3)\n",
            "np.expand_dims =  (1, 350, 350, 3)\n"
          ],
          "name": "stdout"
        },
        {
          "output_type": "stream",
          "text": [
            "\n",
            "\n",
            "\n",
            "\n",
            "\n",
            "\n",
            "\n",
            "\n",
            "\n",
            "  2%|▏         | 2/85 [00:02<01:43,  1.25s/it]\u001b[A\u001b[A\u001b[A\u001b[A\u001b[A\u001b[A\u001b[A\u001b[A\u001b[A"
          ],
          "name": "stderr"
        },
        {
          "output_type": "stream",
          "text": [
            "image.img_to_array(img) =  (350, 350, 3)\n",
            "np.expand_dims =  (1, 350, 350, 3)\n"
          ],
          "name": "stdout"
        },
        {
          "output_type": "stream",
          "text": [
            "\n",
            "\n",
            "\n",
            "\n",
            "\n",
            "\n",
            "\n",
            "\n",
            "\n",
            "  4%|▎         | 3/85 [00:03<01:41,  1.24s/it]\u001b[A\u001b[A\u001b[A\u001b[A\u001b[A\u001b[A\u001b[A\u001b[A\u001b[A"
          ],
          "name": "stderr"
        },
        {
          "output_type": "stream",
          "text": [
            "image.img_to_array(img) =  (350, 350, 3)\n",
            "np.expand_dims =  (1, 350, 350, 3)\n"
          ],
          "name": "stdout"
        },
        {
          "output_type": "stream",
          "text": [
            "\n",
            "\n",
            "\n",
            "\n",
            "\n",
            "\n",
            "\n",
            "\n",
            "\n",
            "  5%|▍         | 4/85 [00:05<01:42,  1.27s/it]\u001b[A\u001b[A\u001b[A\u001b[A\u001b[A\u001b[A\u001b[A\u001b[A\u001b[A"
          ],
          "name": "stderr"
        },
        {
          "output_type": "stream",
          "text": [
            "image.img_to_array(img) =  (350, 350, 3)\n",
            "np.expand_dims =  (1, 350, 350, 3)\n"
          ],
          "name": "stdout"
        },
        {
          "output_type": "stream",
          "text": [
            "\n",
            "\n",
            "\n",
            "\n",
            "\n",
            "\n",
            "\n",
            "\n",
            "\n",
            "  6%|▌         | 5/85 [00:06<01:36,  1.21s/it]\u001b[A\u001b[A\u001b[A\u001b[A\u001b[A\u001b[A\u001b[A\u001b[A\u001b[A"
          ],
          "name": "stderr"
        },
        {
          "output_type": "stream",
          "text": [
            "image.img_to_array(img) =  (350, 350, 3)\n",
            "np.expand_dims =  (1, 350, 350, 3)\n"
          ],
          "name": "stdout"
        },
        {
          "output_type": "stream",
          "text": [
            "\n",
            "\n",
            "\n",
            "\n",
            "\n",
            "\n",
            "\n",
            "\n",
            "\n",
            "  7%|▋         | 6/85 [00:07<01:30,  1.15s/it]\u001b[A\u001b[A\u001b[A\u001b[A\u001b[A\u001b[A\u001b[A\u001b[A\u001b[A"
          ],
          "name": "stderr"
        },
        {
          "output_type": "stream",
          "text": [
            "image.img_to_array(img) =  (350, 350, 3)\n",
            "np.expand_dims =  (1, 350, 350, 3)\n"
          ],
          "name": "stdout"
        },
        {
          "output_type": "stream",
          "text": [
            "\n",
            "\n",
            "\n",
            "\n",
            "\n",
            "\n",
            "\n",
            "\n",
            "\n",
            "  8%|▊         | 7/85 [00:08<01:30,  1.16s/it]\u001b[A\u001b[A\u001b[A\u001b[A\u001b[A\u001b[A\u001b[A\u001b[A\u001b[A"
          ],
          "name": "stderr"
        },
        {
          "output_type": "stream",
          "text": [
            "image.img_to_array(img) =  (350, 350, 3)\n",
            "np.expand_dims =  (1, 350, 350, 3)\n"
          ],
          "name": "stdout"
        },
        {
          "output_type": "stream",
          "text": [
            "\n",
            "\n",
            "\n",
            "\n",
            "\n",
            "\n",
            "\n",
            "\n",
            "\n",
            "  9%|▉         | 8/85 [00:09<01:34,  1.22s/it]\u001b[A\u001b[A\u001b[A\u001b[A\u001b[A\u001b[A\u001b[A\u001b[A\u001b[A"
          ],
          "name": "stderr"
        },
        {
          "output_type": "stream",
          "text": [
            "image.img_to_array(img) =  (350, 350, 3)\n",
            "np.expand_dims =  (1, 350, 350, 3)\n"
          ],
          "name": "stdout"
        },
        {
          "output_type": "stream",
          "text": [
            "\n",
            "\n",
            "\n",
            "\n",
            "\n",
            "\n",
            "\n",
            "\n",
            "\n",
            " 11%|█         | 9/85 [00:10<01:31,  1.20s/it]\u001b[A\u001b[A\u001b[A\u001b[A\u001b[A\u001b[A\u001b[A\u001b[A\u001b[A"
          ],
          "name": "stderr"
        },
        {
          "output_type": "stream",
          "text": [
            "image.img_to_array(img) =  (350, 350, 3)\n",
            "np.expand_dims =  (1, 350, 350, 3)\n"
          ],
          "name": "stdout"
        },
        {
          "output_type": "stream",
          "text": [
            "\n",
            "\n",
            "\n",
            "\n",
            "\n",
            "\n",
            "\n",
            "\n",
            "\n",
            " 12%|█▏        | 10/85 [00:12<01:35,  1.28s/it]\u001b[A\u001b[A\u001b[A\u001b[A\u001b[A\u001b[A\u001b[A\u001b[A\u001b[A"
          ],
          "name": "stderr"
        },
        {
          "output_type": "stream",
          "text": [
            "image.img_to_array(img) =  (350, 350, 3)\n",
            "np.expand_dims =  (1, 350, 350, 3)\n"
          ],
          "name": "stdout"
        },
        {
          "output_type": "stream",
          "text": [
            "\n",
            "\n",
            "\n",
            "\n",
            "\n",
            "\n",
            "\n",
            "\n",
            "\n",
            " 13%|█▎        | 11/85 [00:13<01:37,  1.32s/it]\u001b[A\u001b[A\u001b[A\u001b[A\u001b[A\u001b[A\u001b[A\u001b[A\u001b[A"
          ],
          "name": "stderr"
        },
        {
          "output_type": "stream",
          "text": [
            "image.img_to_array(img) =  (350, 350, 3)\n",
            "np.expand_dims =  (1, 350, 350, 3)\n"
          ],
          "name": "stdout"
        },
        {
          "output_type": "stream",
          "text": [
            "\n",
            "\n",
            "\n",
            "\n",
            "\n",
            "\n",
            "\n",
            "\n",
            "\n",
            " 14%|█▍        | 12/85 [00:14<01:30,  1.24s/it]\u001b[A\u001b[A\u001b[A\u001b[A\u001b[A\u001b[A\u001b[A\u001b[A\u001b[A"
          ],
          "name": "stderr"
        },
        {
          "output_type": "stream",
          "text": [
            "image.img_to_array(img) =  (350, 350, 3)\n",
            "np.expand_dims =  (1, 350, 350, 3)\n"
          ],
          "name": "stdout"
        },
        {
          "output_type": "stream",
          "text": [
            "\n",
            "\n",
            "\n",
            "\n",
            "\n",
            "\n",
            "\n",
            "\n",
            "\n",
            " 15%|█▌        | 13/85 [00:16<01:30,  1.26s/it]\u001b[A\u001b[A\u001b[A\u001b[A\u001b[A\u001b[A\u001b[A\u001b[A\u001b[A"
          ],
          "name": "stderr"
        },
        {
          "output_type": "stream",
          "text": [
            "image.img_to_array(img) =  (350, 350, 3)\n",
            "np.expand_dims =  (1, 350, 350, 3)\n"
          ],
          "name": "stdout"
        },
        {
          "output_type": "stream",
          "text": [
            "\n",
            "\n",
            "\n",
            "\n",
            "\n",
            "\n",
            "\n",
            "\n",
            "\n",
            " 16%|█▋        | 14/85 [00:17<01:26,  1.22s/it]\u001b[A\u001b[A\u001b[A\u001b[A\u001b[A\u001b[A\u001b[A\u001b[A\u001b[A"
          ],
          "name": "stderr"
        },
        {
          "output_type": "stream",
          "text": [
            "image.img_to_array(img) =  (350, 350, 3)\n",
            "np.expand_dims =  (1, 350, 350, 3)\n"
          ],
          "name": "stdout"
        },
        {
          "output_type": "stream",
          "text": [
            "\n",
            "\n",
            "\n",
            "\n",
            "\n",
            "\n",
            "\n",
            "\n",
            "\n",
            " 18%|█▊        | 15/85 [00:18<01:28,  1.26s/it]\u001b[A\u001b[A\u001b[A\u001b[A\u001b[A\u001b[A\u001b[A\u001b[A\u001b[A"
          ],
          "name": "stderr"
        },
        {
          "output_type": "stream",
          "text": [
            "image.img_to_array(img) =  (350, 350, 3)\n",
            "np.expand_dims =  (1, 350, 350, 3)\n"
          ],
          "name": "stdout"
        },
        {
          "output_type": "stream",
          "text": [
            "\n",
            "\n",
            "\n",
            "\n",
            "\n",
            "\n",
            "\n",
            "\n",
            "\n",
            " 19%|█▉        | 16/85 [00:19<01:23,  1.22s/it]\u001b[A\u001b[A\u001b[A\u001b[A\u001b[A\u001b[A\u001b[A\u001b[A\u001b[A"
          ],
          "name": "stderr"
        },
        {
          "output_type": "stream",
          "text": [
            "image.img_to_array(img) =  (350, 350, 3)\n",
            "np.expand_dims =  (1, 350, 350, 3)\n"
          ],
          "name": "stdout"
        },
        {
          "output_type": "stream",
          "text": [
            "\n",
            "\n",
            "\n",
            "\n",
            "\n",
            "\n",
            "\n",
            "\n",
            "\n",
            " 20%|██        | 17/85 [00:21<01:26,  1.27s/it]\u001b[A\u001b[A\u001b[A\u001b[A\u001b[A\u001b[A\u001b[A\u001b[A\u001b[A"
          ],
          "name": "stderr"
        },
        {
          "output_type": "stream",
          "text": [
            "image.img_to_array(img) =  (350, 350, 3)\n",
            "np.expand_dims =  (1, 350, 350, 3)\n"
          ],
          "name": "stdout"
        },
        {
          "output_type": "stream",
          "text": [
            "\n",
            "\n",
            "\n",
            "\n",
            "\n",
            "\n",
            "\n",
            "\n",
            "\n",
            " 21%|██        | 18/85 [00:22<01:28,  1.32s/it]\u001b[A\u001b[A\u001b[A\u001b[A\u001b[A\u001b[A\u001b[A\u001b[A\u001b[A"
          ],
          "name": "stderr"
        },
        {
          "output_type": "stream",
          "text": [
            "image.img_to_array(img) =  (350, 350, 3)\n",
            "np.expand_dims =  (1, 350, 350, 3)\n"
          ],
          "name": "stdout"
        },
        {
          "output_type": "stream",
          "text": [
            "\n",
            "\n",
            "\n",
            "\n",
            "\n",
            "\n",
            "\n",
            "\n",
            "\n",
            " 22%|██▏       | 19/85 [00:23<01:23,  1.26s/it]\u001b[A\u001b[A\u001b[A\u001b[A\u001b[A\u001b[A\u001b[A\u001b[A\u001b[A"
          ],
          "name": "stderr"
        },
        {
          "output_type": "stream",
          "text": [
            "image.img_to_array(img) =  (350, 350, 3)\n",
            "np.expand_dims =  (1, 350, 350, 3)\n"
          ],
          "name": "stdout"
        },
        {
          "output_type": "stream",
          "text": [
            "\n",
            "\n",
            "\n",
            "\n",
            "\n",
            "\n",
            "\n",
            "\n",
            "\n",
            " 24%|██▎       | 20/85 [00:25<01:23,  1.28s/it]\u001b[A\u001b[A\u001b[A\u001b[A\u001b[A\u001b[A\u001b[A\u001b[A\u001b[A"
          ],
          "name": "stderr"
        },
        {
          "output_type": "stream",
          "text": [
            "image.img_to_array(img) =  (350, 350, 3)\n",
            "np.expand_dims =  (1, 350, 350, 3)\n"
          ],
          "name": "stdout"
        },
        {
          "output_type": "stream",
          "text": [
            "\n",
            "\n",
            "\n",
            "\n",
            "\n",
            "\n",
            "\n",
            "\n",
            "\n",
            " 25%|██▍       | 21/85 [00:26<01:19,  1.24s/it]\u001b[A\u001b[A\u001b[A\u001b[A\u001b[A\u001b[A\u001b[A\u001b[A\u001b[A"
          ],
          "name": "stderr"
        },
        {
          "output_type": "stream",
          "text": [
            "image.img_to_array(img) =  (350, 350, 3)\n",
            "np.expand_dims =  (1, 350, 350, 3)\n"
          ],
          "name": "stdout"
        },
        {
          "output_type": "stream",
          "text": [
            "\n",
            "\n",
            "\n",
            "\n",
            "\n",
            "\n",
            "\n",
            "\n",
            "\n",
            " 26%|██▌       | 22/85 [00:27<01:21,  1.30s/it]\u001b[A\u001b[A\u001b[A\u001b[A\u001b[A\u001b[A\u001b[A\u001b[A\u001b[A"
          ],
          "name": "stderr"
        },
        {
          "output_type": "stream",
          "text": [
            "image.img_to_array(img) =  (350, 350, 3)\n",
            "np.expand_dims =  (1, 350, 350, 3)\n"
          ],
          "name": "stdout"
        },
        {
          "output_type": "stream",
          "text": [
            "\n",
            "\n",
            "\n",
            "\n",
            "\n",
            "\n",
            "\n",
            "\n",
            "\n",
            " 27%|██▋       | 23/85 [00:28<01:20,  1.30s/it]\u001b[A\u001b[A\u001b[A\u001b[A\u001b[A\u001b[A\u001b[A\u001b[A\u001b[A"
          ],
          "name": "stderr"
        },
        {
          "output_type": "stream",
          "text": [
            "image.img_to_array(img) =  (350, 350, 3)\n",
            "np.expand_dims =  (1, 350, 350, 3)\n"
          ],
          "name": "stdout"
        },
        {
          "output_type": "stream",
          "text": [
            "\n",
            "\n",
            "\n",
            "\n",
            "\n",
            "\n",
            "\n",
            "\n",
            "\n",
            " 28%|██▊       | 24/85 [00:30<01:19,  1.31s/it]\u001b[A\u001b[A\u001b[A\u001b[A\u001b[A\u001b[A\u001b[A\u001b[A\u001b[A"
          ],
          "name": "stderr"
        },
        {
          "output_type": "stream",
          "text": [
            "image.img_to_array(img) =  (350, 350, 3)\n",
            "np.expand_dims =  (1, 350, 350, 3)\n"
          ],
          "name": "stdout"
        },
        {
          "output_type": "stream",
          "text": [
            "\n",
            "\n",
            "\n",
            "\n",
            "\n",
            "\n",
            "\n",
            "\n",
            "\n",
            " 29%|██▉       | 25/85 [00:31<01:16,  1.27s/it]\u001b[A\u001b[A\u001b[A\u001b[A\u001b[A\u001b[A\u001b[A\u001b[A\u001b[A"
          ],
          "name": "stderr"
        },
        {
          "output_type": "stream",
          "text": [
            "image.img_to_array(img) =  (350, 350, 3)\n",
            "np.expand_dims =  (1, 350, 350, 3)\n"
          ],
          "name": "stdout"
        },
        {
          "output_type": "stream",
          "text": [
            "\n",
            "\n",
            "\n",
            "\n",
            "\n",
            "\n",
            "\n",
            "\n",
            "\n",
            " 31%|███       | 26/85 [00:32<01:11,  1.21s/it]\u001b[A\u001b[A\u001b[A\u001b[A\u001b[A\u001b[A\u001b[A\u001b[A\u001b[A"
          ],
          "name": "stderr"
        },
        {
          "output_type": "stream",
          "text": [
            "image.img_to_array(img) =  (350, 350, 3)\n",
            "np.expand_dims =  (1, 350, 350, 3)\n"
          ],
          "name": "stdout"
        },
        {
          "output_type": "stream",
          "text": [
            "\n",
            "\n",
            "\n",
            "\n",
            "\n",
            "\n",
            "\n",
            "\n",
            "\n",
            " 32%|███▏      | 27/85 [00:33<01:14,  1.28s/it]\u001b[A\u001b[A\u001b[A\u001b[A\u001b[A\u001b[A\u001b[A\u001b[A\u001b[A"
          ],
          "name": "stderr"
        },
        {
          "output_type": "stream",
          "text": [
            "image.img_to_array(img) =  (350, 350, 3)\n",
            "np.expand_dims =  (1, 350, 350, 3)\n"
          ],
          "name": "stdout"
        },
        {
          "output_type": "stream",
          "text": [
            "\n",
            "\n",
            "\n",
            "\n",
            "\n",
            "\n",
            "\n",
            "\n",
            "\n",
            " 33%|███▎      | 28/85 [00:35<01:11,  1.25s/it]\u001b[A\u001b[A\u001b[A\u001b[A\u001b[A\u001b[A\u001b[A\u001b[A\u001b[A"
          ],
          "name": "stderr"
        },
        {
          "output_type": "stream",
          "text": [
            "image.img_to_array(img) =  (350, 350, 3)\n",
            "np.expand_dims =  (1, 350, 350, 3)\n"
          ],
          "name": "stdout"
        },
        {
          "output_type": "stream",
          "text": [
            "\n",
            "\n",
            "\n",
            "\n",
            "\n",
            "\n",
            "\n",
            "\n",
            "\n",
            " 34%|███▍      | 29/85 [00:36<01:07,  1.21s/it]\u001b[A\u001b[A\u001b[A\u001b[A\u001b[A\u001b[A\u001b[A\u001b[A\u001b[A"
          ],
          "name": "stderr"
        },
        {
          "output_type": "stream",
          "text": [
            "image.img_to_array(img) =  (350, 350, 3)\n",
            "np.expand_dims =  (1, 350, 350, 3)\n"
          ],
          "name": "stdout"
        },
        {
          "output_type": "stream",
          "text": [
            "\n",
            "\n",
            "\n",
            "\n",
            "\n",
            "\n",
            "\n",
            "\n",
            "\n",
            " 35%|███▌      | 30/85 [00:37<01:06,  1.21s/it]\u001b[A\u001b[A\u001b[A\u001b[A\u001b[A\u001b[A\u001b[A\u001b[A\u001b[A"
          ],
          "name": "stderr"
        },
        {
          "output_type": "stream",
          "text": [
            "image.img_to_array(img) =  (350, 350, 3)\n",
            "np.expand_dims =  (1, 350, 350, 3)\n"
          ],
          "name": "stdout"
        },
        {
          "output_type": "stream",
          "text": [
            "\n",
            "\n",
            "\n",
            "\n",
            "\n",
            "\n",
            "\n",
            "\n",
            "\n",
            " 36%|███▋      | 31/85 [00:38<01:02,  1.15s/it]\u001b[A\u001b[A\u001b[A\u001b[A\u001b[A\u001b[A\u001b[A\u001b[A\u001b[A"
          ],
          "name": "stderr"
        },
        {
          "output_type": "stream",
          "text": [
            "image.img_to_array(img) =  (350, 350, 3)\n",
            "np.expand_dims =  (1, 350, 350, 3)\n"
          ],
          "name": "stdout"
        },
        {
          "output_type": "stream",
          "text": [
            "\n",
            "\n",
            "\n",
            "\n",
            "\n",
            "\n",
            "\n",
            "\n",
            "\n",
            " 38%|███▊      | 32/85 [00:39<01:01,  1.16s/it]\u001b[A\u001b[A\u001b[A\u001b[A\u001b[A\u001b[A\u001b[A\u001b[A\u001b[A"
          ],
          "name": "stderr"
        },
        {
          "output_type": "stream",
          "text": [
            "image.img_to_array(img) =  (350, 350, 3)\n",
            "np.expand_dims =  (1, 350, 350, 3)\n"
          ],
          "name": "stdout"
        },
        {
          "output_type": "stream",
          "text": [
            "\n",
            "\n",
            "\n",
            "\n",
            "\n",
            "\n",
            "\n",
            "\n",
            "\n",
            " 39%|███▉      | 33/85 [00:40<01:00,  1.17s/it]\u001b[A\u001b[A\u001b[A\u001b[A\u001b[A\u001b[A\u001b[A\u001b[A\u001b[A"
          ],
          "name": "stderr"
        },
        {
          "output_type": "stream",
          "text": [
            "image.img_to_array(img) =  (350, 350, 3)\n",
            "np.expand_dims =  (1, 350, 350, 3)\n"
          ],
          "name": "stdout"
        },
        {
          "output_type": "stream",
          "text": [
            "\n",
            "\n",
            "\n",
            "\n",
            "\n",
            "\n",
            "\n",
            "\n",
            "\n",
            " 40%|████      | 34/85 [00:42<00:59,  1.17s/it]\u001b[A\u001b[A\u001b[A\u001b[A\u001b[A\u001b[A\u001b[A\u001b[A\u001b[A"
          ],
          "name": "stderr"
        },
        {
          "output_type": "stream",
          "text": [
            "image.img_to_array(img) =  (350, 350, 3)\n",
            "np.expand_dims =  (1, 350, 350, 3)\n"
          ],
          "name": "stdout"
        },
        {
          "output_type": "stream",
          "text": [
            "\n",
            "\n",
            "\n",
            "\n",
            "\n",
            "\n",
            "\n",
            "\n",
            "\n",
            " 41%|████      | 35/85 [00:43<00:55,  1.12s/it]\u001b[A\u001b[A\u001b[A\u001b[A\u001b[A\u001b[A\u001b[A\u001b[A\u001b[A"
          ],
          "name": "stderr"
        },
        {
          "output_type": "stream",
          "text": [
            "image.img_to_array(img) =  (350, 350, 3)\n",
            "np.expand_dims =  (1, 350, 350, 3)\n"
          ],
          "name": "stdout"
        },
        {
          "output_type": "stream",
          "text": [
            "\n",
            "\n",
            "\n",
            "\n",
            "\n",
            "\n",
            "\n",
            "\n",
            "\n",
            " 42%|████▏     | 36/85 [00:44<00:54,  1.11s/it]\u001b[A\u001b[A\u001b[A\u001b[A\u001b[A\u001b[A\u001b[A\u001b[A\u001b[A"
          ],
          "name": "stderr"
        },
        {
          "output_type": "stream",
          "text": [
            "image.img_to_array(img) =  (350, 350, 3)\n",
            "np.expand_dims =  (1, 350, 350, 3)\n"
          ],
          "name": "stdout"
        },
        {
          "output_type": "stream",
          "text": [
            "\n",
            "\n",
            "\n",
            "\n",
            "\n",
            "\n",
            "\n",
            "\n",
            "\n",
            " 44%|████▎     | 37/85 [00:45<00:51,  1.08s/it]\u001b[A\u001b[A\u001b[A\u001b[A\u001b[A\u001b[A\u001b[A\u001b[A\u001b[A"
          ],
          "name": "stderr"
        },
        {
          "output_type": "stream",
          "text": [
            "image.img_to_array(img) =  (350, 350, 3)\n",
            "np.expand_dims =  (1, 350, 350, 3)\n"
          ],
          "name": "stdout"
        },
        {
          "output_type": "stream",
          "text": [
            "\n",
            "\n",
            "\n",
            "\n",
            "\n",
            "\n",
            "\n",
            "\n",
            "\n",
            " 45%|████▍     | 38/85 [00:46<00:49,  1.05s/it]\u001b[A\u001b[A\u001b[A\u001b[A\u001b[A\u001b[A\u001b[A\u001b[A\u001b[A"
          ],
          "name": "stderr"
        },
        {
          "output_type": "stream",
          "text": [
            "image.img_to_array(img) =  (350, 350, 3)\n",
            "np.expand_dims =  (1, 350, 350, 3)\n"
          ],
          "name": "stdout"
        },
        {
          "output_type": "stream",
          "text": [
            "\n",
            "\n",
            "\n",
            "\n",
            "\n",
            "\n",
            "\n",
            "\n",
            "\n",
            " 46%|████▌     | 39/85 [00:47<00:47,  1.04s/it]\u001b[A\u001b[A\u001b[A\u001b[A\u001b[A\u001b[A\u001b[A\u001b[A\u001b[A"
          ],
          "name": "stderr"
        },
        {
          "output_type": "stream",
          "text": [
            "image.img_to_array(img) =  (350, 350, 3)\n",
            "np.expand_dims =  (1, 350, 350, 3)\n"
          ],
          "name": "stdout"
        },
        {
          "output_type": "stream",
          "text": [
            "\n",
            "\n",
            "\n",
            "\n",
            "\n",
            "\n",
            "\n",
            "\n",
            "\n",
            " 47%|████▋     | 40/85 [00:48<00:46,  1.03s/it]\u001b[A\u001b[A\u001b[A\u001b[A\u001b[A\u001b[A\u001b[A\u001b[A\u001b[A"
          ],
          "name": "stderr"
        },
        {
          "output_type": "stream",
          "text": [
            "image.img_to_array(img) =  (350, 350, 3)\n",
            "np.expand_dims =  (1, 350, 350, 3)\n"
          ],
          "name": "stdout"
        },
        {
          "output_type": "stream",
          "text": [
            "\n",
            "\n",
            "\n",
            "\n",
            "\n",
            "\n",
            "\n",
            "\n",
            "\n",
            " 48%|████▊     | 41/85 [00:49<00:46,  1.05s/it]\u001b[A\u001b[A\u001b[A\u001b[A\u001b[A\u001b[A\u001b[A\u001b[A\u001b[A"
          ],
          "name": "stderr"
        },
        {
          "output_type": "stream",
          "text": [
            "image.img_to_array(img) =  (350, 350, 3)\n",
            "np.expand_dims =  (1, 350, 350, 3)\n"
          ],
          "name": "stdout"
        },
        {
          "output_type": "stream",
          "text": [
            "\n",
            "\n",
            "\n",
            "\n",
            "\n",
            "\n",
            "\n",
            "\n",
            "\n",
            " 49%|████▉     | 42/85 [00:50<00:46,  1.09s/it]\u001b[A\u001b[A\u001b[A\u001b[A\u001b[A\u001b[A\u001b[A\u001b[A\u001b[A"
          ],
          "name": "stderr"
        },
        {
          "output_type": "stream",
          "text": [
            "image.img_to_array(img) =  (350, 350, 3)\n",
            "np.expand_dims =  (1, 350, 350, 3)\n"
          ],
          "name": "stdout"
        },
        {
          "output_type": "stream",
          "text": [
            "\n",
            "\n",
            "\n",
            "\n",
            "\n",
            "\n",
            "\n",
            "\n",
            "\n",
            " 51%|█████     | 43/85 [00:51<00:44,  1.05s/it]\u001b[A\u001b[A\u001b[A\u001b[A\u001b[A\u001b[A\u001b[A\u001b[A\u001b[A"
          ],
          "name": "stderr"
        },
        {
          "output_type": "stream",
          "text": [
            "image.img_to_array(img) =  (350, 350, 3)\n",
            "np.expand_dims =  (1, 350, 350, 3)\n"
          ],
          "name": "stdout"
        },
        {
          "output_type": "stream",
          "text": [
            "\n",
            "\n",
            "\n",
            "\n",
            "\n",
            "\n",
            "\n",
            "\n",
            "\n",
            " 52%|█████▏    | 44/85 [00:52<00:42,  1.03s/it]\u001b[A\u001b[A\u001b[A\u001b[A\u001b[A\u001b[A\u001b[A\u001b[A\u001b[A"
          ],
          "name": "stderr"
        },
        {
          "output_type": "stream",
          "text": [
            "image.img_to_array(img) =  (350, 350, 3)\n",
            "np.expand_dims =  (1, 350, 350, 3)\n"
          ],
          "name": "stdout"
        },
        {
          "output_type": "stream",
          "text": [
            "\n",
            "\n",
            "\n",
            "\n",
            "\n",
            "\n",
            "\n",
            "\n",
            "\n",
            " 53%|█████▎    | 45/85 [00:53<00:40,  1.01s/it]\u001b[A\u001b[A\u001b[A\u001b[A\u001b[A\u001b[A\u001b[A\u001b[A\u001b[A"
          ],
          "name": "stderr"
        },
        {
          "output_type": "stream",
          "text": [
            "image.img_to_array(img) =  (350, 350, 3)\n",
            "np.expand_dims =  (1, 350, 350, 3)\n"
          ],
          "name": "stdout"
        },
        {
          "output_type": "stream",
          "text": [
            "\n",
            "\n",
            "\n",
            "\n",
            "\n",
            "\n",
            "\n",
            "\n",
            "\n",
            " 54%|█████▍    | 46/85 [00:54<00:40,  1.05s/it]\u001b[A\u001b[A\u001b[A\u001b[A\u001b[A\u001b[A\u001b[A\u001b[A\u001b[A"
          ],
          "name": "stderr"
        },
        {
          "output_type": "stream",
          "text": [
            "image.img_to_array(img) =  (350, 350, 3)\n",
            "np.expand_dims =  (1, 350, 350, 3)\n"
          ],
          "name": "stdout"
        },
        {
          "output_type": "stream",
          "text": [
            "\n",
            "\n",
            "\n",
            "\n",
            "\n",
            "\n",
            "\n",
            "\n",
            "\n",
            " 55%|█████▌    | 47/85 [00:55<00:38,  1.02s/it]\u001b[A\u001b[A\u001b[A\u001b[A\u001b[A\u001b[A\u001b[A\u001b[A\u001b[A"
          ],
          "name": "stderr"
        },
        {
          "output_type": "stream",
          "text": [
            "image.img_to_array(img) =  (350, 350, 3)\n",
            "np.expand_dims =  (1, 350, 350, 3)\n"
          ],
          "name": "stdout"
        },
        {
          "output_type": "stream",
          "text": [
            "\n",
            "\n",
            "\n",
            "\n",
            "\n",
            "\n",
            "\n",
            "\n",
            "\n",
            " 56%|█████▋    | 48/85 [00:56<00:38,  1.05s/it]\u001b[A\u001b[A\u001b[A\u001b[A\u001b[A\u001b[A\u001b[A\u001b[A\u001b[A"
          ],
          "name": "stderr"
        },
        {
          "output_type": "stream",
          "text": [
            "image.img_to_array(img) =  (350, 350, 3)\n",
            "np.expand_dims =  (1, 350, 350, 3)\n"
          ],
          "name": "stdout"
        },
        {
          "output_type": "stream",
          "text": [
            "\n",
            "\n",
            "\n",
            "\n",
            "\n",
            "\n",
            "\n",
            "\n",
            "\n",
            " 58%|█████▊    | 49/85 [00:57<00:37,  1.03s/it]\u001b[A\u001b[A\u001b[A\u001b[A\u001b[A\u001b[A\u001b[A\u001b[A\u001b[A"
          ],
          "name": "stderr"
        },
        {
          "output_type": "stream",
          "text": [
            "image.img_to_array(img) =  (350, 350, 3)\n",
            "np.expand_dims =  (1, 350, 350, 3)\n"
          ],
          "name": "stdout"
        },
        {
          "output_type": "stream",
          "text": [
            "\n",
            "\n",
            "\n",
            "\n",
            "\n",
            "\n",
            "\n",
            "\n",
            "\n",
            " 59%|█████▉    | 50/85 [00:58<00:36,  1.05s/it]\u001b[A\u001b[A\u001b[A\u001b[A\u001b[A\u001b[A\u001b[A\u001b[A\u001b[A"
          ],
          "name": "stderr"
        },
        {
          "output_type": "stream",
          "text": [
            "image.img_to_array(img) =  (350, 350, 3)\n",
            "np.expand_dims =  (1, 350, 350, 3)\n"
          ],
          "name": "stdout"
        },
        {
          "output_type": "stream",
          "text": [
            "\n",
            "\n",
            "\n",
            "\n",
            "\n",
            "\n",
            "\n",
            "\n",
            "\n",
            " 60%|██████    | 51/85 [00:59<00:36,  1.06s/it]\u001b[A\u001b[A\u001b[A\u001b[A\u001b[A\u001b[A\u001b[A\u001b[A\u001b[A"
          ],
          "name": "stderr"
        },
        {
          "output_type": "stream",
          "text": [
            "image.img_to_array(img) =  (350, 350, 3)\n",
            "np.expand_dims =  (1, 350, 350, 3)\n"
          ],
          "name": "stdout"
        },
        {
          "output_type": "stream",
          "text": [
            "\n",
            "\n",
            "\n",
            "\n",
            "\n",
            "\n",
            "\n",
            "\n",
            "\n",
            " 61%|██████    | 52/85 [01:00<00:34,  1.05s/it]\u001b[A\u001b[A\u001b[A\u001b[A\u001b[A\u001b[A\u001b[A\u001b[A\u001b[A"
          ],
          "name": "stderr"
        },
        {
          "output_type": "stream",
          "text": [
            "image.img_to_array(img) =  (350, 350, 3)\n",
            "np.expand_dims =  (1, 350, 350, 3)\n"
          ],
          "name": "stdout"
        },
        {
          "output_type": "stream",
          "text": [
            "\n",
            "\n",
            "\n",
            "\n",
            "\n",
            "\n",
            "\n",
            "\n",
            "\n",
            " 62%|██████▏   | 53/85 [01:01<00:32,  1.02s/it]\u001b[A\u001b[A\u001b[A\u001b[A\u001b[A\u001b[A\u001b[A\u001b[A\u001b[A"
          ],
          "name": "stderr"
        },
        {
          "output_type": "stream",
          "text": [
            "image.img_to_array(img) =  (350, 350, 3)\n",
            "np.expand_dims =  (1, 350, 350, 3)\n"
          ],
          "name": "stdout"
        },
        {
          "output_type": "stream",
          "text": [
            "\n",
            "\n",
            "\n",
            "\n",
            "\n",
            "\n",
            "\n",
            "\n",
            "\n",
            " 64%|██████▎   | 54/85 [01:02<00:32,  1.06s/it]\u001b[A\u001b[A\u001b[A\u001b[A\u001b[A\u001b[A\u001b[A\u001b[A\u001b[A"
          ],
          "name": "stderr"
        },
        {
          "output_type": "stream",
          "text": [
            "image.img_to_array(img) =  (350, 350, 3)\n",
            "np.expand_dims =  (1, 350, 350, 3)\n"
          ],
          "name": "stdout"
        },
        {
          "output_type": "stream",
          "text": [
            "\n",
            "\n",
            "\n",
            "\n",
            "\n",
            "\n",
            "\n",
            "\n",
            "\n",
            " 65%|██████▍   | 55/85 [01:03<00:30,  1.03s/it]\u001b[A\u001b[A\u001b[A\u001b[A\u001b[A\u001b[A\u001b[A\u001b[A\u001b[A"
          ],
          "name": "stderr"
        },
        {
          "output_type": "stream",
          "text": [
            "image.img_to_array(img) =  (350, 350, 3)\n",
            "np.expand_dims =  (1, 350, 350, 3)\n"
          ],
          "name": "stdout"
        },
        {
          "output_type": "stream",
          "text": [
            "\n",
            "\n",
            "\n",
            "\n",
            "\n",
            "\n",
            "\n",
            "\n",
            "\n",
            " 66%|██████▌   | 56/85 [01:04<00:31,  1.07s/it]\u001b[A\u001b[A\u001b[A\u001b[A\u001b[A\u001b[A\u001b[A\u001b[A\u001b[A"
          ],
          "name": "stderr"
        },
        {
          "output_type": "stream",
          "text": [
            "image.img_to_array(img) =  (350, 350, 3)\n",
            "np.expand_dims =  (1, 350, 350, 3)\n"
          ],
          "name": "stdout"
        },
        {
          "output_type": "stream",
          "text": [
            "\n",
            "\n",
            "\n",
            "\n",
            "\n",
            "\n",
            "\n",
            "\n",
            "\n",
            " 67%|██████▋   | 57/85 [01:05<00:29,  1.04s/it]\u001b[A\u001b[A\u001b[A\u001b[A\u001b[A\u001b[A\u001b[A\u001b[A\u001b[A"
          ],
          "name": "stderr"
        },
        {
          "output_type": "stream",
          "text": [
            "image.img_to_array(img) =  (350, 350, 3)\n",
            "np.expand_dims =  (1, 350, 350, 3)\n"
          ],
          "name": "stdout"
        },
        {
          "output_type": "stream",
          "text": [
            "\n",
            "\n",
            "\n",
            "\n",
            "\n",
            "\n",
            "\n",
            "\n",
            "\n",
            " 68%|██████▊   | 58/85 [01:06<00:27,  1.03s/it]\u001b[A\u001b[A\u001b[A\u001b[A\u001b[A\u001b[A\u001b[A\u001b[A\u001b[A"
          ],
          "name": "stderr"
        },
        {
          "output_type": "stream",
          "text": [
            "image.img_to_array(img) =  (350, 350, 3)\n",
            "np.expand_dims =  (1, 350, 350, 3)\n"
          ],
          "name": "stdout"
        },
        {
          "output_type": "stream",
          "text": [
            "\n",
            "\n",
            "\n",
            "\n",
            "\n",
            "\n",
            "\n",
            "\n",
            "\n",
            " 69%|██████▉   | 59/85 [01:07<00:26,  1.02s/it]\u001b[A\u001b[A\u001b[A\u001b[A\u001b[A\u001b[A\u001b[A\u001b[A\u001b[A"
          ],
          "name": "stderr"
        },
        {
          "output_type": "stream",
          "text": [
            "image.img_to_array(img) =  (350, 350, 3)\n",
            "np.expand_dims =  (1, 350, 350, 3)\n"
          ],
          "name": "stdout"
        },
        {
          "output_type": "stream",
          "text": [
            "\n",
            "\n",
            "\n",
            "\n",
            "\n",
            "\n",
            "\n",
            "\n",
            "\n",
            " 71%|███████   | 60/85 [01:08<00:25,  1.00s/it]\u001b[A\u001b[A\u001b[A\u001b[A\u001b[A\u001b[A\u001b[A\u001b[A\u001b[A"
          ],
          "name": "stderr"
        },
        {
          "output_type": "stream",
          "text": [
            "image.img_to_array(img) =  (350, 350, 3)\n",
            "np.expand_dims =  (1, 350, 350, 3)\n"
          ],
          "name": "stdout"
        },
        {
          "output_type": "stream",
          "text": [
            "\n",
            "\n",
            "\n",
            "\n",
            "\n",
            "\n",
            "\n",
            "\n",
            "\n",
            " 72%|███████▏  | 61/85 [01:09<00:23,  1.01it/s]\u001b[A\u001b[A\u001b[A\u001b[A\u001b[A\u001b[A\u001b[A\u001b[A\u001b[A"
          ],
          "name": "stderr"
        },
        {
          "output_type": "stream",
          "text": [
            "image.img_to_array(img) =  (350, 350, 3)\n",
            "np.expand_dims =  (1, 350, 350, 3)\n"
          ],
          "name": "stdout"
        },
        {
          "output_type": "stream",
          "text": [
            "\n",
            "\n",
            "\n",
            "\n",
            "\n",
            "\n",
            "\n",
            "\n",
            "\n",
            " 73%|███████▎  | 62/85 [01:10<00:23,  1.01s/it]\u001b[A\u001b[A\u001b[A\u001b[A\u001b[A\u001b[A\u001b[A\u001b[A\u001b[A"
          ],
          "name": "stderr"
        },
        {
          "output_type": "stream",
          "text": [
            "image.img_to_array(img) =  (350, 350, 3)\n",
            "np.expand_dims =  (1, 350, 350, 3)\n"
          ],
          "name": "stdout"
        },
        {
          "output_type": "stream",
          "text": [
            "\n",
            "\n",
            "\n",
            "\n",
            "\n",
            "\n",
            "\n",
            "\n",
            "\n",
            " 74%|███████▍  | 63/85 [01:11<00:22,  1.00s/it]\u001b[A\u001b[A\u001b[A\u001b[A\u001b[A\u001b[A\u001b[A\u001b[A\u001b[A"
          ],
          "name": "stderr"
        },
        {
          "output_type": "stream",
          "text": [
            "image.img_to_array(img) =  (350, 350, 3)\n",
            "np.expand_dims =  (1, 350, 350, 3)\n"
          ],
          "name": "stdout"
        },
        {
          "output_type": "stream",
          "text": [
            "\n",
            "\n",
            "\n",
            "\n",
            "\n",
            "\n",
            "\n",
            "\n",
            "\n",
            " 75%|███████▌  | 64/85 [01:13<00:22,  1.08s/it]\u001b[A\u001b[A\u001b[A\u001b[A\u001b[A\u001b[A\u001b[A\u001b[A\u001b[A"
          ],
          "name": "stderr"
        },
        {
          "output_type": "stream",
          "text": [
            "image.img_to_array(img) =  (350, 350, 3)\n",
            "np.expand_dims =  (1, 350, 350, 3)\n"
          ],
          "name": "stdout"
        },
        {
          "output_type": "stream",
          "text": [
            "\n",
            "\n",
            "\n",
            "\n",
            "\n",
            "\n",
            "\n",
            "\n",
            "\n",
            " 76%|███████▋  | 65/85 [01:14<00:20,  1.05s/it]\u001b[A\u001b[A\u001b[A\u001b[A\u001b[A\u001b[A\u001b[A\u001b[A\u001b[A"
          ],
          "name": "stderr"
        },
        {
          "output_type": "stream",
          "text": [
            "image.img_to_array(img) =  (350, 350, 3)\n",
            "np.expand_dims =  (1, 350, 350, 3)\n"
          ],
          "name": "stdout"
        },
        {
          "output_type": "stream",
          "text": [
            "\n",
            "\n",
            "\n",
            "\n",
            "\n",
            "\n",
            "\n",
            "\n",
            "\n",
            " 78%|███████▊  | 66/85 [01:15<00:19,  1.03s/it]\u001b[A\u001b[A\u001b[A\u001b[A\u001b[A\u001b[A\u001b[A\u001b[A\u001b[A"
          ],
          "name": "stderr"
        },
        {
          "output_type": "stream",
          "text": [
            "image.img_to_array(img) =  (350, 350, 3)\n",
            "np.expand_dims =  (1, 350, 350, 3)\n"
          ],
          "name": "stdout"
        },
        {
          "output_type": "stream",
          "text": [
            "\n",
            "\n",
            "\n",
            "\n",
            "\n",
            "\n",
            "\n",
            "\n",
            "\n",
            " 79%|███████▉  | 67/85 [01:16<00:18,  1.02s/it]\u001b[A\u001b[A\u001b[A\u001b[A\u001b[A\u001b[A\u001b[A\u001b[A\u001b[A"
          ],
          "name": "stderr"
        },
        {
          "output_type": "stream",
          "text": [
            "image.img_to_array(img) =  (350, 350, 3)\n",
            "np.expand_dims =  (1, 350, 350, 3)\n"
          ],
          "name": "stdout"
        },
        {
          "output_type": "stream",
          "text": [
            "\n",
            "\n",
            "\n",
            "\n",
            "\n",
            "\n",
            "\n",
            "\n",
            "\n",
            " 80%|████████  | 68/85 [01:17<00:17,  1.01s/it]\u001b[A\u001b[A\u001b[A\u001b[A\u001b[A\u001b[A\u001b[A\u001b[A\u001b[A"
          ],
          "name": "stderr"
        },
        {
          "output_type": "stream",
          "text": [
            "image.img_to_array(img) =  (350, 350, 3)\n",
            "np.expand_dims =  (1, 350, 350, 3)\n"
          ],
          "name": "stdout"
        },
        {
          "output_type": "stream",
          "text": [
            "\n",
            "\n",
            "\n",
            "\n",
            "\n",
            "\n",
            "\n",
            "\n",
            "\n",
            " 81%|████████  | 69/85 [01:18<00:16,  1.00s/it]\u001b[A\u001b[A\u001b[A\u001b[A\u001b[A\u001b[A\u001b[A\u001b[A\u001b[A"
          ],
          "name": "stderr"
        },
        {
          "output_type": "stream",
          "text": [
            "image.img_to_array(img) =  (350, 350, 3)\n",
            "np.expand_dims =  (1, 350, 350, 3)\n"
          ],
          "name": "stdout"
        },
        {
          "output_type": "stream",
          "text": [
            "\n",
            "\n",
            "\n",
            "\n",
            "\n",
            "\n",
            "\n",
            "\n",
            "\n",
            " 82%|████████▏ | 70/85 [01:19<00:15,  1.03s/it]\u001b[A\u001b[A\u001b[A\u001b[A\u001b[A\u001b[A\u001b[A\u001b[A\u001b[A"
          ],
          "name": "stderr"
        },
        {
          "output_type": "stream",
          "text": [
            "image.img_to_array(img) =  (350, 350, 3)\n",
            "np.expand_dims =  (1, 350, 350, 3)\n"
          ],
          "name": "stdout"
        },
        {
          "output_type": "stream",
          "text": [
            "\n",
            "\n",
            "\n",
            "\n",
            "\n",
            "\n",
            "\n",
            "\n",
            "\n",
            " 84%|████████▎ | 71/85 [01:20<00:14,  1.02s/it]\u001b[A\u001b[A\u001b[A\u001b[A\u001b[A\u001b[A\u001b[A\u001b[A\u001b[A"
          ],
          "name": "stderr"
        },
        {
          "output_type": "stream",
          "text": [
            "image.img_to_array(img) =  (350, 350, 3)\n",
            "np.expand_dims =  (1, 350, 350, 3)\n"
          ],
          "name": "stdout"
        },
        {
          "output_type": "stream",
          "text": [
            "\n",
            "\n",
            "\n",
            "\n",
            "\n",
            "\n",
            "\n",
            "\n",
            "\n",
            " 85%|████████▍ | 72/85 [01:21<00:13,  1.01s/it]\u001b[A\u001b[A\u001b[A\u001b[A\u001b[A\u001b[A\u001b[A\u001b[A\u001b[A"
          ],
          "name": "stderr"
        },
        {
          "output_type": "stream",
          "text": [
            "image.img_to_array(img) =  (350, 350, 3)\n",
            "np.expand_dims =  (1, 350, 350, 3)\n"
          ],
          "name": "stdout"
        },
        {
          "output_type": "stream",
          "text": [
            "\n",
            "\n",
            "\n",
            "\n",
            "\n",
            "\n",
            "\n",
            "\n",
            "\n",
            " 86%|████████▌ | 73/85 [01:22<00:12,  1.00s/it]\u001b[A\u001b[A\u001b[A\u001b[A\u001b[A\u001b[A\u001b[A\u001b[A\u001b[A"
          ],
          "name": "stderr"
        },
        {
          "output_type": "stream",
          "text": [
            "image.img_to_array(img) =  (350, 350, 3)\n",
            "np.expand_dims =  (1, 350, 350, 3)\n"
          ],
          "name": "stdout"
        },
        {
          "output_type": "stream",
          "text": [
            "\n",
            "\n",
            "\n",
            "\n",
            "\n",
            "\n",
            "\n",
            "\n",
            "\n",
            " 87%|████████▋ | 74/85 [01:23<00:11,  1.04s/it]\u001b[A\u001b[A\u001b[A\u001b[A\u001b[A\u001b[A\u001b[A\u001b[A\u001b[A"
          ],
          "name": "stderr"
        },
        {
          "output_type": "stream",
          "text": [
            "image.img_to_array(img) =  (350, 350, 3)\n",
            "np.expand_dims =  (1, 350, 350, 3)\n"
          ],
          "name": "stdout"
        },
        {
          "output_type": "stream",
          "text": [
            "\n",
            "\n",
            "\n",
            "\n",
            "\n",
            "\n",
            "\n",
            "\n",
            "\n",
            " 88%|████████▊ | 75/85 [01:24<00:10,  1.02s/it]\u001b[A\u001b[A\u001b[A\u001b[A\u001b[A\u001b[A\u001b[A\u001b[A\u001b[A"
          ],
          "name": "stderr"
        },
        {
          "output_type": "stream",
          "text": [
            "image.img_to_array(img) =  (350, 350, 3)\n",
            "np.expand_dims =  (1, 350, 350, 3)\n"
          ],
          "name": "stdout"
        },
        {
          "output_type": "stream",
          "text": [
            "\n",
            "\n",
            "\n",
            "\n",
            "\n",
            "\n",
            "\n",
            "\n",
            "\n",
            " 89%|████████▉ | 76/85 [01:25<00:09,  1.01s/it]\u001b[A\u001b[A\u001b[A\u001b[A\u001b[A\u001b[A\u001b[A\u001b[A\u001b[A"
          ],
          "name": "stderr"
        },
        {
          "output_type": "stream",
          "text": [
            "image.img_to_array(img) =  (350, 350, 3)\n",
            "np.expand_dims =  (1, 350, 350, 3)\n"
          ],
          "name": "stdout"
        },
        {
          "output_type": "stream",
          "text": [
            "\n",
            "\n",
            "\n",
            "\n",
            "\n",
            "\n",
            "\n",
            "\n",
            "\n",
            " 91%|█████████ | 77/85 [01:26<00:07,  1.00it/s]\u001b[A\u001b[A\u001b[A\u001b[A\u001b[A\u001b[A\u001b[A\u001b[A\u001b[A"
          ],
          "name": "stderr"
        },
        {
          "output_type": "stream",
          "text": [
            "image.img_to_array(img) =  (350, 350, 3)\n",
            "np.expand_dims =  (1, 350, 350, 3)\n"
          ],
          "name": "stdout"
        },
        {
          "output_type": "stream",
          "text": [
            "\n",
            "\n",
            "\n",
            "\n",
            "\n",
            "\n",
            "\n",
            "\n",
            "\n",
            " 92%|█████████▏| 78/85 [01:27<00:06,  1.01it/s]\u001b[A\u001b[A\u001b[A\u001b[A\u001b[A\u001b[A\u001b[A\u001b[A\u001b[A"
          ],
          "name": "stderr"
        },
        {
          "output_type": "stream",
          "text": [
            "image.img_to_array(img) =  (350, 350, 3)\n",
            "np.expand_dims =  (1, 350, 350, 3)\n"
          ],
          "name": "stdout"
        },
        {
          "output_type": "stream",
          "text": [
            "\n",
            "\n",
            "\n",
            "\n",
            "\n",
            "\n",
            "\n",
            "\n",
            "\n",
            " 93%|█████████▎| 79/85 [01:28<00:05,  1.01it/s]\u001b[A\u001b[A\u001b[A\u001b[A\u001b[A\u001b[A\u001b[A\u001b[A\u001b[A"
          ],
          "name": "stderr"
        },
        {
          "output_type": "stream",
          "text": [
            "image.img_to_array(img) =  (350, 350, 3)\n",
            "np.expand_dims =  (1, 350, 350, 3)\n"
          ],
          "name": "stdout"
        },
        {
          "output_type": "stream",
          "text": [
            "\n",
            "\n",
            "\n",
            "\n",
            "\n",
            "\n",
            "\n",
            "\n",
            "\n",
            " 94%|█████████▍| 80/85 [01:29<00:04,  1.00it/s]\u001b[A\u001b[A\u001b[A\u001b[A\u001b[A\u001b[A\u001b[A\u001b[A\u001b[A"
          ],
          "name": "stderr"
        },
        {
          "output_type": "stream",
          "text": [
            "image.img_to_array(img) =  (350, 350, 3)\n",
            "np.expand_dims =  (1, 350, 350, 3)\n"
          ],
          "name": "stdout"
        },
        {
          "output_type": "stream",
          "text": [
            "\n",
            "\n",
            "\n",
            "\n",
            "\n",
            "\n",
            "\n",
            "\n",
            "\n",
            " 95%|█████████▌| 81/85 [01:30<00:03,  1.00it/s]\u001b[A\u001b[A\u001b[A\u001b[A\u001b[A\u001b[A\u001b[A\u001b[A\u001b[A"
          ],
          "name": "stderr"
        },
        {
          "output_type": "stream",
          "text": [
            "image.img_to_array(img) =  (350, 350, 3)\n",
            "np.expand_dims =  (1, 350, 350, 3)\n"
          ],
          "name": "stdout"
        },
        {
          "output_type": "stream",
          "text": [
            "\n",
            "\n",
            "\n",
            "\n",
            "\n",
            "\n",
            "\n",
            "\n",
            "\n",
            " 96%|█████████▋| 82/85 [01:31<00:03,  1.02s/it]\u001b[A\u001b[A\u001b[A\u001b[A\u001b[A\u001b[A\u001b[A\u001b[A\u001b[A"
          ],
          "name": "stderr"
        },
        {
          "output_type": "stream",
          "text": [
            "image.img_to_array(img) =  (350, 350, 3)\n",
            "np.expand_dims =  (1, 350, 350, 3)\n"
          ],
          "name": "stdout"
        },
        {
          "output_type": "stream",
          "text": [
            "\n",
            "\n",
            "\n",
            "\n",
            "\n",
            "\n",
            "\n",
            "\n",
            "\n",
            " 98%|█████████▊| 83/85 [01:32<00:02,  1.00s/it]\u001b[A\u001b[A\u001b[A\u001b[A\u001b[A\u001b[A\u001b[A\u001b[A\u001b[A"
          ],
          "name": "stderr"
        },
        {
          "output_type": "stream",
          "text": [
            "image.img_to_array(img) =  (350, 350, 3)\n",
            "np.expand_dims =  (1, 350, 350, 3)\n"
          ],
          "name": "stdout"
        },
        {
          "output_type": "stream",
          "text": [
            "\n",
            "\n",
            "\n",
            "\n",
            "\n",
            "\n",
            "\n",
            "\n",
            "\n",
            " 99%|█████████▉| 84/85 [01:33<00:01,  1.08s/it]\u001b[A\u001b[A\u001b[A\u001b[A\u001b[A\u001b[A\u001b[A\u001b[A\u001b[A"
          ],
          "name": "stderr"
        },
        {
          "output_type": "stream",
          "text": [
            "image.img_to_array(img) =  (350, 350, 3)\n",
            "np.expand_dims =  (1, 350, 350, 3)\n"
          ],
          "name": "stdout"
        },
        {
          "output_type": "stream",
          "text": [
            "\n",
            "\n",
            "\n",
            "\n",
            "\n",
            "\n",
            "\n",
            "\n",
            "\n",
            "100%|██████████| 85/85 [01:34<00:00,  1.11s/it]\n"
          ],
          "name": "stderr"
        }
      ]
    },
    {
      "cell_type": "code",
      "metadata": {
        "id": "ancient-syntax"
      },
      "source": [
        "np.savez(\"bottleneck_features.npz\", train=train_tensors_VGG_bottleneck, valid=valid_tensors_VGG_bottleneck, test=test_tensors_VGG_bottleneck)"
      ],
      "id": "ancient-syntax",
      "execution_count": 64,
      "outputs": []
    },
    {
      "cell_type": "code",
      "metadata": {
        "colab": {
          "base_uri": "https://localhost:8080/"
        },
        "id": "hydraulic-virus",
        "outputId": "d38461cf-3287-4acb-c597-60c250861219"
      },
      "source": [
        "npzfile = np.load(\"bottleneck_features.npz\")\n",
        "npzfile.files"
      ],
      "id": "hydraulic-virus",
      "execution_count": 65,
      "outputs": [
        {
          "output_type": "execute_result",
          "data": {
            "text/plain": [
              "['train', 'valid', 'test']"
            ]
          },
          "metadata": {
            "tags": []
          },
          "execution_count": 65
        }
      ]
    },
    {
      "cell_type": "code",
      "metadata": {
        "colab": {
          "base_uri": "https://localhost:8080/"
        },
        "id": "valued-logging",
        "outputId": "30a6e335-c72b-4007-e158-ee618be624c9"
      },
      "source": [
        "print('Training: ',train_tensors_VGG_bottleneck.shape)\n",
        "print('Validation: ',valid_tensors_VGG_bottleneck.shape)\n",
        "print('Test: ',test_tensors_VGG_bottleneck.shape)"
      ],
      "id": "valued-logging",
      "execution_count": 66,
      "outputs": [
        {
          "output_type": "stream",
          "text": [
            "Training:  (283, 10, 10, 512)\n",
            "Validation:  (71, 10, 10, 512)\n",
            "Test:  (85, 10, 10, 512)\n"
          ],
          "name": "stdout"
        }
      ]
    },
    {
      "cell_type": "code",
      "metadata": {
        "colab": {
          "base_uri": "https://localhost:8080/"
        },
        "id": "allied-hurricane",
        "outputId": "a9d87e93-ca17-4961-d0c7-389e42a1d209"
      },
      "source": [
        "from keras.utils import np_utils\n",
        "num_classes = len(emotions)\n",
        "y_train = train_set_df.emotion\n",
        "y_train = np_utils.to_categorical(y_train, num_classes)\n",
        "\n",
        "y_valid = valid_set_df.emotion\n",
        "y_valid = np_utils.to_categorical(y_valid, num_classes)\n",
        "\n",
        "y_test = test_df.emotion\n",
        "y_test = np_utils.to_categorical(y_test, num_classes)\n",
        "\n",
        "print('Training: ',y_train.shape)\n",
        "print('Validation: ',y_valid.shape)\n",
        "print('Test: ',y_test.shape)"
      ],
      "id": "allied-hurricane",
      "execution_count": 67,
      "outputs": [
        {
          "output_type": "stream",
          "text": [
            "Training:  (283, 8)\n",
            "Validation:  (71, 8)\n",
            "Test:  (85, 8)\n"
          ],
          "name": "stdout"
        }
      ]
    },
    {
      "cell_type": "code",
      "metadata": {
        "id": "administrative-democrat"
      },
      "source": [
        "train_VGG16 = npzfile[\"train\"]\n",
        "valid_VGG16 = npzfile[\"valid\"]\n",
        "test_VGG16 = npzfile[\"test\"]"
      ],
      "id": "administrative-democrat",
      "execution_count": 68,
      "outputs": []
    },
    {
      "cell_type": "code",
      "metadata": {
        "colab": {
          "base_uri": "https://localhost:8080/"
        },
        "id": "closing-institution",
        "outputId": "100d58d8-41c7-42bd-d1d8-65084df147a8"
      },
      "source": [
        "print(train_VGG16.shape[1:])"
      ],
      "id": "closing-institution",
      "execution_count": 69,
      "outputs": [
        {
          "output_type": "stream",
          "text": [
            "(10, 10, 512)\n"
          ],
          "name": "stdout"
        }
      ]
    },
    {
      "cell_type": "code",
      "metadata": {
        "colab": {
          "base_uri": "https://localhost:8080/"
        },
        "id": "about-skill",
        "outputId": "fb55e433-6c1c-498c-cc20-e3483dd64c98"
      },
      "source": [
        "VGG16_model = Sequential()\n",
        "VGG16_model.add(GlobalAveragePooling2D(input_shape=train_VGG16.shape[1:]))\n",
        "VGG16_model.add(Dense(len(emotions), activation='softmax'))\n",
        "\n",
        "VGG16_model.summary()"
      ],
      "id": "about-skill",
      "execution_count": 70,
      "outputs": [
        {
          "output_type": "stream",
          "text": [
            "Model: \"sequential\"\n",
            "_________________________________________________________________\n",
            "Layer (type)                 Output Shape              Param #   \n",
            "=================================================================\n",
            "global_average_pooling2d (Gl (None, 512)               0         \n",
            "_________________________________________________________________\n",
            "dense (Dense)                (None, 8)                 4104      \n",
            "=================================================================\n",
            "Total params: 4,104\n",
            "Trainable params: 4,104\n",
            "Non-trainable params: 0\n",
            "_________________________________________________________________\n"
          ],
          "name": "stdout"
        }
      ]
    },
    {
      "cell_type": "code",
      "metadata": {
        "id": "demographic-mistress"
      },
      "source": [
        "VGG16_model.compile(loss='categorical_crossentropy', optimizer='adam', metrics=['accuracy'])"
      ],
      "id": "demographic-mistress",
      "execution_count": 71,
      "outputs": []
    },
    {
      "cell_type": "code",
      "metadata": {
        "colab": {
          "base_uri": "https://localhost:8080/"
        },
        "id": "bizarre-crack",
        "outputId": "c49efcb3-d63a-4970-8b8b-b0a99fee538a"
      },
      "source": [
        "checkpointer = ModelCheckpoint(filepath='saved_models/weights.best.VGG16.hdf5',\n",
        "                               verbose=1, save_best_only=True)\n",
        "\n",
        "VGG16_history = VGG16_model.fit(train_VGG16, y_train,\n",
        "          validation_data=(valid_VGG16, y_valid),\n",
        "          epochs=20, batch_size=20, callbacks=[checkpointer], verbose=1)"
      ],
      "id": "bizarre-crack",
      "execution_count": 72,
      "outputs": [
        {
          "output_type": "stream",
          "text": [
            "Epoch 1/20\n",
            "15/15 [==============================] - 1s 18ms/step - loss: 4.3115 - accuracy: 0.2221 - val_loss: 2.8280 - val_accuracy: 0.1408\n",
            "\n",
            "Epoch 00001: val_loss improved from inf to 2.82798, saving model to saved_models/weights.best.VGG16.hdf5\n",
            "Epoch 2/20\n",
            "15/15 [==============================] - 0s 6ms/step - loss: 2.4185 - accuracy: 0.2508 - val_loss: 2.3053 - val_accuracy: 0.2676\n",
            "\n",
            "Epoch 00002: val_loss improved from 2.82798 to 2.30526, saving model to saved_models/weights.best.VGG16.hdf5\n",
            "Epoch 3/20\n",
            "15/15 [==============================] - 0s 6ms/step - loss: 1.9096 - accuracy: 0.3452 - val_loss: 1.9203 - val_accuracy: 0.2535\n",
            "\n",
            "Epoch 00003: val_loss improved from 2.30526 to 1.92029, saving model to saved_models/weights.best.VGG16.hdf5\n",
            "Epoch 4/20\n",
            "15/15 [==============================] - 0s 5ms/step - loss: 1.5518 - accuracy: 0.4669 - val_loss: 1.6989 - val_accuracy: 0.3521\n",
            "\n",
            "Epoch 00004: val_loss improved from 1.92029 to 1.69894, saving model to saved_models/weights.best.VGG16.hdf5\n",
            "Epoch 5/20\n",
            "15/15 [==============================] - 0s 6ms/step - loss: 1.3892 - accuracy: 0.5271 - val_loss: 1.4957 - val_accuracy: 0.4085\n",
            "\n",
            "Epoch 00005: val_loss improved from 1.69894 to 1.49572, saving model to saved_models/weights.best.VGG16.hdf5\n",
            "Epoch 6/20\n",
            "15/15 [==============================] - 0s 5ms/step - loss: 1.1762 - accuracy: 0.5906 - val_loss: 1.3685 - val_accuracy: 0.5211\n",
            "\n",
            "Epoch 00006: val_loss improved from 1.49572 to 1.36853, saving model to saved_models/weights.best.VGG16.hdf5\n",
            "Epoch 7/20\n",
            "15/15 [==============================] - 0s 6ms/step - loss: 1.0296 - accuracy: 0.6626 - val_loss: 1.3171 - val_accuracy: 0.5352\n",
            "\n",
            "Epoch 00007: val_loss improved from 1.36853 to 1.31713, saving model to saved_models/weights.best.VGG16.hdf5\n",
            "Epoch 8/20\n",
            "15/15 [==============================] - 0s 6ms/step - loss: 1.0037 - accuracy: 0.6510 - val_loss: 1.2278 - val_accuracy: 0.5352\n",
            "\n",
            "Epoch 00008: val_loss improved from 1.31713 to 1.22778, saving model to saved_models/weights.best.VGG16.hdf5\n",
            "Epoch 9/20\n",
            "15/15 [==============================] - 0s 6ms/step - loss: 0.9798 - accuracy: 0.6661 - val_loss: 1.1807 - val_accuracy: 0.5493\n",
            "\n",
            "Epoch 00009: val_loss improved from 1.22778 to 1.18066, saving model to saved_models/weights.best.VGG16.hdf5\n",
            "Epoch 10/20\n",
            "15/15 [==============================] - 0s 6ms/step - loss: 0.7688 - accuracy: 0.7701 - val_loss: 1.1241 - val_accuracy: 0.5634\n",
            "\n",
            "Epoch 00010: val_loss improved from 1.18066 to 1.12408, saving model to saved_models/weights.best.VGG16.hdf5\n",
            "Epoch 11/20\n",
            "15/15 [==============================] - 0s 5ms/step - loss: 0.6944 - accuracy: 0.7984 - val_loss: 1.0944 - val_accuracy: 0.5634\n",
            "\n",
            "Epoch 00011: val_loss improved from 1.12408 to 1.09443, saving model to saved_models/weights.best.VGG16.hdf5\n",
            "Epoch 12/20\n",
            "15/15 [==============================] - 0s 5ms/step - loss: 0.6773 - accuracy: 0.7980 - val_loss: 1.0684 - val_accuracy: 0.6056\n",
            "\n",
            "Epoch 00012: val_loss improved from 1.09443 to 1.06837, saving model to saved_models/weights.best.VGG16.hdf5\n",
            "Epoch 13/20\n",
            "15/15 [==============================] - 0s 5ms/step - loss: 0.6662 - accuracy: 0.7965 - val_loss: 1.0290 - val_accuracy: 0.5915\n",
            "\n",
            "Epoch 00013: val_loss improved from 1.06837 to 1.02897, saving model to saved_models/weights.best.VGG16.hdf5\n",
            "Epoch 14/20\n",
            "15/15 [==============================] - 0s 5ms/step - loss: 0.5494 - accuracy: 0.8620 - val_loss: 1.0340 - val_accuracy: 0.5915\n",
            "\n",
            "Epoch 00014: val_loss did not improve from 1.02897\n",
            "Epoch 15/20\n",
            "15/15 [==============================] - 0s 5ms/step - loss: 0.6321 - accuracy: 0.8382 - val_loss: 0.9864 - val_accuracy: 0.6479\n",
            "\n",
            "Epoch 00015: val_loss improved from 1.02897 to 0.98645, saving model to saved_models/weights.best.VGG16.hdf5\n",
            "Epoch 16/20\n",
            "15/15 [==============================] - 0s 5ms/step - loss: 0.5381 - accuracy: 0.8733 - val_loss: 1.0114 - val_accuracy: 0.6338\n",
            "\n",
            "Epoch 00016: val_loss did not improve from 0.98645\n",
            "Epoch 17/20\n",
            "15/15 [==============================] - 0s 5ms/step - loss: 0.4862 - accuracy: 0.9347 - val_loss: 0.9650 - val_accuracy: 0.6620\n",
            "\n",
            "Epoch 00017: val_loss improved from 0.98645 to 0.96503, saving model to saved_models/weights.best.VGG16.hdf5\n",
            "Epoch 18/20\n",
            "15/15 [==============================] - 0s 6ms/step - loss: 0.4346 - accuracy: 0.9180 - val_loss: 0.9731 - val_accuracy: 0.6479\n",
            "\n",
            "Epoch 00018: val_loss did not improve from 0.96503\n",
            "Epoch 19/20\n",
            "15/15 [==============================] - 0s 6ms/step - loss: 0.4218 - accuracy: 0.9111 - val_loss: 0.9608 - val_accuracy: 0.6620\n",
            "\n",
            "Epoch 00019: val_loss improved from 0.96503 to 0.96082, saving model to saved_models/weights.best.VGG16.hdf5\n",
            "Epoch 20/20\n",
            "15/15 [==============================] - 0s 5ms/step - loss: 0.4005 - accuracy: 0.9338 - val_loss: 0.9292 - val_accuracy: 0.6761\n",
            "\n",
            "Epoch 00020: val_loss improved from 0.96082 to 0.92917, saving model to saved_models/weights.best.VGG16.hdf5\n"
          ],
          "name": "stdout"
        }
      ]
    },
    {
      "cell_type": "code",
      "metadata": {
        "id": "optional-minimum"
      },
      "source": [
        "def plot_accuracy_loss_for_train_valid(model, title, epoch_len=21, epoch_window=5):\n",
        "    f, (ax1, ax2) = plt.subplots(1, 2, figsize=(12, 4))\n",
        "    t = f.suptitle(title, fontsize=12)\n",
        "    f.subplots_adjust(top=0.85, wspace=0.3)\n",
        "\n",
        "    epoch_list = list(range(1,epoch_len))\n",
        "    ax1.plot(epoch_list, model.history['accuracy'], label='Train Accuracy')\n",
        "    ax1.plot(epoch_list, model.history['val_accuracy'], label='Validation Accuracy')\n",
        "    ax1.set_xticks(np.arange(0, epoch_len, epoch_window))\n",
        "    ax1.set_ylabel('Accuracy Value')\n",
        "    ax1.set_xlabel('Epoch')\n",
        "    ax1.set_title('Accuracy')\n",
        "    l1 = ax1.legend(loc=\"best\")\n",
        "\n",
        "    ax2.plot(epoch_list, model.history['loss'], label='Train Loss')\n",
        "    ax2.plot(epoch_list, model.history['val_loss'], label='Validation Loss')\n",
        "    ax2.set_xticks(np.arange(0, epoch_len, epoch_window))\n",
        "    ax2.set_ylabel('Loss Value')\n",
        "    ax2.set_xlabel('Epoch')\n",
        "    ax2.set_title('Loss')\n",
        "    l2 = ax2.legend(loc=\"best\")"
      ],
      "id": "optional-minimum",
      "execution_count": 73,
      "outputs": []
    },
    {
      "cell_type": "code",
      "metadata": {
        "colab": {
          "base_uri": "https://localhost:8080/",
          "height": 308
        },
        "id": "loaded-genome",
        "outputId": "e7f95b52-7bec-428a-84d4-dc08107fcf52"
      },
      "source": [
        "plot_accuracy_loss_for_train_valid(VGG16_history, \"VGG16 Accuracy & Loss\")"
      ],
      "id": "loaded-genome",
      "execution_count": 74,
      "outputs": [
        {
          "output_type": "display_data",
          "data": {
            "image/png": "[encoded data removed]",
            "text/plain": [
              "<Figure size 864x288 with 2 Axes>"
            ]
          },
          "metadata": {
            "tags": [],
            "needs_background": "light"
          }
        }
      ]
    },
    {
      "cell_type": "code",
      "metadata": {
        "id": "fixed-hollow"
      },
      "source": [
        "VGG16_model.load_weights('saved_models/weights.best.VGG16.hdf5')"
      ],
      "id": "fixed-hollow",
      "execution_count": 75,
      "outputs": []
    },
    {
      "cell_type": "code",
      "metadata": {
        "colab": {
          "base_uri": "https://localhost:8080/"
        },
        "id": "continued-holly",
        "outputId": "dbcb1104-c8d0-459c-e47e-2178445cc8ca"
      },
      "source": [
        "VGG16_predictions = [np.argmax(VGG16_model.predict(np.expand_dims(feature, axis=0))) for feature in test_VGG16]\n",
        "\n",
        "# report test accuracy\n",
        "test_accuracy = 100*np.sum(np.array(VGG16_predictions)==np.argmax(y_test, axis=1))/len(VGG16_predictions)\n",
        "print('Test accuracy: %.4f%%' % test_accuracy)"
      ],
      "id": "continued-holly",
      "execution_count": 76,
      "outputs": [
        {
          "output_type": "stream",
          "text": [
            "Test accuracy: 71.7647%\n"
          ],
          "name": "stdout"
        }
      ]
    },
    {
      "cell_type": "code",
      "metadata": {
        "colab": {
          "base_uri": "https://localhost:8080/"
        },
        "id": "secure-border",
        "outputId": "ac17bcd7-ca64-41d8-97db-4a1c803edd12"
      },
      "source": [
        "VGG16_test_score = VGG16_model.evaluate(test_VGG16,y_test)\n",
        "print(\"Log loss of the VGG16 model is {0}\".format(VGG16_test_score[0]))"
      ],
      "id": "secure-border",
      "execution_count": 77,
      "outputs": [
        {
          "output_type": "stream",
          "text": [
            "3/3 [==============================] - 0s 5ms/step - loss: 0.7815 - accuracy: 0.7176\n",
            "Log loss of the VGG16 model is 0.7815175652503967\n"
          ],
          "name": "stdout"
        }
      ]
    },
    {
      "cell_type": "code",
      "metadata": {
        "colab": {
          "base_uri": "https://localhost:8080/",
          "height": 580
        },
        "id": "blessed-locking",
        "outputId": "f53ce490-adf9-40d7-adc2-dfd1d6378130"
      },
      "source": [
        "plot_confusion_matrix(test_df.emotion, VGG16_predictions, classes=emotions, normalize=True,\n",
        "                      title='Normalized VGG16 Confusion Matrix')\n",
        "\n",
        "plt.show()"
      ],
      "id": "blessed-locking",
      "execution_count": 78,
      "outputs": [
        {
          "output_type": "stream",
          "text": [
            "Normalized confusion matrix\n"
          ],
          "name": "stdout"
        },
        {
          "output_type": "display_data",
          "data": {
            "image/png": "[encoded data removed]",
            "text/plain": [
              "<Figure size 576x576 with 2 Axes>"
            ]
          },
          "metadata": {
            "tags": [],
            "needs_background": "light"
          }
        }
      ]
    },
    {
      "cell_type": "markdown",
      "metadata": {
        "id": "executed-headline"
      },
      "source": [
        "Build Transfer learned Xception"
      ],
      "id": "executed-headline"
    },
    {
      "cell_type": "code",
      "metadata": {
        "colab": {
          "base_uri": "https://localhost:8080/"
        },
        "id": "responsible-potato",
        "outputId": "f1e581c9-c132-48db-d688-0897120788a7"
      },
      "source": [
        "from keras.applications.xception import Xception\n",
        "from keras.applications.xception import preprocess_input as xception_preprocess\n",
        "model_Xception = Xception(weights='imagenet', include_top=False)"
      ],
      "id": "responsible-potato",
      "execution_count": 79,
      "outputs": [
        {
          "output_type": "stream",
          "text": [
            "Downloading data from https://storage.googleapis.com/tensorflow/keras-applications/xception/xception_weights_tf_dim_ordering_tf_kernels_notop.h5\n",
            "83689472/83683744 [==============================] - 1s 0us/step\n"
          ],
          "name": "stdout"
        }
      ]
    },
    {
      "cell_type": "code",
      "metadata": {
        "colab": {
          "base_uri": "https://localhost:8080/"
        },
        "id": "assigned-kidney",
        "outputId": "de6b1e2a-2f47-41a2-fad9-a682e507ec82"
      },
      "source": [
        "train_tensors_X_bottleneck = paths_to_tensor(train_files, model_Xception, xception_preprocess)\n",
        "valid_tensors_X_bottleneck = paths_to_tensor(valid_files, model_Xception, xception_preprocess)\n",
        "test_tensors_X_bottleneck = paths_to_tensor(test_files, model_Xception, xception_preprocess)"
      ],
      "id": "assigned-kidney",
      "execution_count": 80,
      "outputs": [
        {
          "output_type": "stream",
          "text": [
            "\n",
            "\n",
            "\n",
            "\n",
            "\n",
            "\n",
            "\n",
            "\n",
            "\n",
            "  0%|          | 0/283 [00:00<?, ?it/s]\u001b[A\u001b[A\u001b[A\u001b[A\u001b[A\u001b[A\u001b[A\u001b[A\u001b[A"
          ],
          "name": "stderr"
        },
        {
          "output_type": "stream",
          "text": [
            "image.img_to_array(img) =  (350, 350, 3)\n",
            "np.expand_dims =  (1, 350, 350, 3)\n"
          ],
          "name": "stdout"
        },
        {
          "output_type": "stream",
          "text": [
            "\n",
            "\n",
            "\n",
            "\n",
            "\n",
            "\n",
            "\n",
            "\n",
            "\n",
            "  0%|          | 1/283 [00:01<08:41,  1.85s/it]\u001b[A\u001b[A\u001b[A\u001b[A\u001b[A\u001b[A\u001b[A\u001b[A\u001b[A"
          ],
          "name": "stderr"
        },
        {
          "output_type": "stream",
          "text": [
            "image.img_to_array(img) =  (350, 350, 3)\n",
            "np.expand_dims =  (1, 350, 350, 3)\n"
          ],
          "name": "stdout"
        },
        {
          "output_type": "stream",
          "text": [
            "\n",
            "\n",
            "\n",
            "\n",
            "\n",
            "\n",
            "\n",
            "\n",
            "\n",
            "  1%|          | 2/283 [00:02<07:05,  1.51s/it]\u001b[A\u001b[A\u001b[A\u001b[A\u001b[A\u001b[A\u001b[A\u001b[A\u001b[A"
          ],
          "name": "stderr"
        },
        {
          "output_type": "stream",
          "text": [
            "image.img_to_array(img) =  (350, 350, 3)\n",
            "np.expand_dims =  (1, 350, 350, 3)\n"
          ],
          "name": "stdout"
        },
        {
          "output_type": "stream",
          "text": [
            "\n",
            "\n",
            "\n",
            "\n",
            "\n",
            "\n",
            "\n",
            "\n",
            "\n",
            "  1%|          | 3/283 [00:03<06:01,  1.29s/it]\u001b[A\u001b[A\u001b[A\u001b[A\u001b[A\u001b[A\u001b[A\u001b[A\u001b[A"
          ],
          "name": "stderr"
        },
        {
          "output_type": "stream",
          "text": [
            "image.img_to_array(img) =  (350, 350, 3)\n",
            "np.expand_dims =  (1, 350, 350, 3)\n"
          ],
          "name": "stdout"
        },
        {
          "output_type": "stream",
          "text": [
            "\n",
            "\n",
            "\n",
            "\n",
            "\n",
            "\n",
            "\n",
            "\n",
            "\n",
            "  1%|▏         | 4/283 [00:04<05:30,  1.18s/it]\u001b[A\u001b[A\u001b[A\u001b[A\u001b[A\u001b[A\u001b[A\u001b[A\u001b[A"
          ],
          "name": "stderr"
        },
        {
          "output_type": "stream",
          "text": [
            "image.img_to_array(img) =  (350, 350, 3)\n",
            "np.expand_dims =  (1, 350, 350, 3)\n"
          ],
          "name": "stdout"
        },
        {
          "output_type": "stream",
          "text": [
            "\n",
            "\n",
            "\n",
            "\n",
            "\n",
            "\n",
            "\n",
            "\n",
            "\n",
            "  2%|▏         | 5/283 [00:05<05:03,  1.09s/it]\u001b[A\u001b[A\u001b[A\u001b[A\u001b[A\u001b[A\u001b[A\u001b[A\u001b[A"
          ],
          "name": "stderr"
        },
        {
          "output_type": "stream",
          "text": [
            "image.img_to_array(img) =  (350, 350, 3)\n",
            "np.expand_dims =  (1, 350, 350, 3)\n"
          ],
          "name": "stdout"
        },
        {
          "output_type": "stream",
          "text": [
            "\n",
            "\n",
            "\n",
            "\n",
            "\n",
            "\n",
            "\n",
            "\n",
            "\n",
            "  2%|▏         | 6/283 [00:05<04:37,  1.00s/it]\u001b[A\u001b[A\u001b[A\u001b[A\u001b[A\u001b[A\u001b[A\u001b[A\u001b[A"
          ],
          "name": "stderr"
        },
        {
          "output_type": "stream",
          "text": [
            "image.img_to_array(img) =  (350, 350, 3)\n",
            "np.expand_dims =  (1, 350, 350, 3)\n"
          ],
          "name": "stdout"
        },
        {
          "output_type": "stream",
          "text": [
            "\n",
            "\n",
            "\n",
            "\n",
            "\n",
            "\n",
            "\n",
            "\n",
            "\n",
            "  2%|▏         | 7/283 [00:06<04:06,  1.12it/s]\u001b[A\u001b[A\u001b[A\u001b[A\u001b[A\u001b[A\u001b[A\u001b[A\u001b[A"
          ],
          "name": "stderr"
        },
        {
          "output_type": "stream",
          "text": [
            "image.img_to_array(img) =  (350, 350, 3)\n",
            "np.expand_dims =  (1, 350, 350, 3)\n"
          ],
          "name": "stdout"
        },
        {
          "output_type": "stream",
          "text": [
            "\n",
            "\n",
            "\n",
            "\n",
            "\n",
            "\n",
            "\n",
            "\n",
            "\n",
            "  3%|▎         | 8/283 [00:07<03:45,  1.22it/s]\u001b[A\u001b[A\u001b[A\u001b[A\u001b[A\u001b[A\u001b[A\u001b[A\u001b[A"
          ],
          "name": "stderr"
        },
        {
          "output_type": "stream",
          "text": [
            "image.img_to_array(img) =  (350, 350, 3)\n",
            "np.expand_dims =  (1, 350, 350, 3)\n"
          ],
          "name": "stdout"
        },
        {
          "output_type": "stream",
          "text": [
            "\n",
            "\n",
            "\n",
            "\n",
            "\n",
            "\n",
            "\n",
            "\n",
            "\n",
            "  3%|▎         | 9/283 [00:08<03:40,  1.24it/s]\u001b[A\u001b[A\u001b[A\u001b[A\u001b[A\u001b[A\u001b[A\u001b[A\u001b[A"
          ],
          "name": "stderr"
        },
        {
          "output_type": "stream",
          "text": [
            "image.img_to_array(img) =  (350, 350, 3)\n",
            "np.expand_dims =  (1, 350, 350, 3)\n"
          ],
          "name": "stdout"
        },
        {
          "output_type": "stream",
          "text": [
            "\n",
            "\n",
            "\n",
            "\n",
            "\n",
            "\n",
            "\n",
            "\n",
            "\n",
            "  4%|▎         | 10/283 [00:08<03:33,  1.28it/s]\u001b[A\u001b[A\u001b[A\u001b[A\u001b[A\u001b[A\u001b[A\u001b[A\u001b[A"
          ],
          "name": "stderr"
        },
        {
          "output_type": "stream",
          "text": [
            "image.img_to_array(img) =  (350, 350, 3)\n",
            "np.expand_dims =  (1, 350, 350, 3)\n"
          ],
          "name": "stdout"
        },
        {
          "output_type": "stream",
          "text": [
            "\n",
            "\n",
            "\n",
            "\n",
            "\n",
            "\n",
            "\n",
            "\n",
            "\n",
            "  4%|▍         | 11/283 [00:09<03:27,  1.31it/s]\u001b[A\u001b[A\u001b[A\u001b[A\u001b[A\u001b[A\u001b[A\u001b[A\u001b[A"
          ],
          "name": "stderr"
        },
        {
          "output_type": "stream",
          "text": [
            "image.img_to_array(img) =  (350, 350, 3)\n",
            "np.expand_dims =  (1, 350, 350, 3)\n"
          ],
          "name": "stdout"
        },
        {
          "output_type": "stream",
          "text": [
            "\n",
            "\n",
            "\n",
            "\n",
            "\n",
            "\n",
            "\n",
            "\n",
            "\n",
            "  4%|▍         | 12/283 [00:10<03:33,  1.27it/s]\u001b[A\u001b[A\u001b[A\u001b[A\u001b[A\u001b[A\u001b[A\u001b[A\u001b[A"
          ],
          "name": "stderr"
        },
        {
          "output_type": "stream",
          "text": [
            "image.img_to_array(img) =  (350, 350, 3)\n",
            "np.expand_dims =  (1, 350, 350, 3)\n"
          ],
          "name": "stdout"
        },
        {
          "output_type": "stream",
          "text": [
            "\n",
            "\n",
            "\n",
            "\n",
            "\n",
            "\n",
            "\n",
            "\n",
            "\n",
            "  5%|▍         | 13/283 [00:11<03:26,  1.31it/s]\u001b[A\u001b[A\u001b[A\u001b[A\u001b[A\u001b[A\u001b[A\u001b[A\u001b[A"
          ],
          "name": "stderr"
        },
        {
          "output_type": "stream",
          "text": [
            "image.img_to_array(img) =  (350, 350, 3)\n",
            "np.expand_dims =  (1, 350, 350, 3)\n"
          ],
          "name": "stdout"
        },
        {
          "output_type": "stream",
          "text": [
            "\n",
            "\n",
            "\n",
            "\n",
            "\n",
            "\n",
            "\n",
            "\n",
            "\n",
            "  5%|▍         | 14/283 [00:12<03:47,  1.18it/s]\u001b[A\u001b[A\u001b[A\u001b[A\u001b[A\u001b[A\u001b[A\u001b[A\u001b[A"
          ],
          "name": "stderr"
        },
        {
          "output_type": "stream",
          "text": [
            "image.img_to_array(img) =  (350, 350, 3)\n",
            "np.expand_dims =  (1, 350, 350, 3)\n"
          ],
          "name": "stdout"
        },
        {
          "output_type": "stream",
          "text": [
            "\n",
            "\n",
            "\n",
            "\n",
            "\n",
            "\n",
            "\n",
            "\n",
            "\n",
            "  5%|▌         | 15/283 [00:12<03:49,  1.17it/s]\u001b[A\u001b[A\u001b[A\u001b[A\u001b[A\u001b[A\u001b[A\u001b[A\u001b[A"
          ],
          "name": "stderr"
        },
        {
          "output_type": "stream",
          "text": [
            "image.img_to_array(img) =  (350, 350, 3)\n",
            "np.expand_dims =  (1, 350, 350, 3)\n"
          ],
          "name": "stdout"
        },
        {
          "output_type": "stream",
          "text": [
            "\n",
            "\n",
            "\n",
            "\n",
            "\n",
            "\n",
            "\n",
            "\n",
            "\n",
            "  6%|▌         | 16/283 [00:13<03:40,  1.21it/s]\u001b[A\u001b[A\u001b[A\u001b[A\u001b[A\u001b[A\u001b[A\u001b[A\u001b[A"
          ],
          "name": "stderr"
        },
        {
          "output_type": "stream",
          "text": [
            "image.img_to_array(img) =  (350, 350, 3)\n",
            "np.expand_dims =  (1, 350, 350, 3)\n"
          ],
          "name": "stdout"
        },
        {
          "output_type": "stream",
          "text": [
            "\n",
            "\n",
            "\n",
            "\n",
            "\n",
            "\n",
            "\n",
            "\n",
            "\n",
            "  6%|▌         | 17/283 [00:14<03:57,  1.12it/s]\u001b[A\u001b[A\u001b[A\u001b[A\u001b[A\u001b[A\u001b[A\u001b[A\u001b[A"
          ],
          "name": "stderr"
        },
        {
          "output_type": "stream",
          "text": [
            "image.img_to_array(img) =  (350, 350, 3)\n",
            "np.expand_dims =  (1, 350, 350, 3)\n"
          ],
          "name": "stdout"
        },
        {
          "output_type": "stream",
          "text": [
            "\n",
            "\n",
            "\n",
            "\n",
            "\n",
            "\n",
            "\n",
            "\n",
            "\n",
            "  6%|▋         | 18/283 [00:15<03:46,  1.17it/s]\u001b[A\u001b[A\u001b[A\u001b[A\u001b[A\u001b[A\u001b[A\u001b[A\u001b[A"
          ],
          "name": "stderr"
        },
        {
          "output_type": "stream",
          "text": [
            "image.img_to_array(img) =  (350, 350, 3)\n",
            "np.expand_dims =  (1, 350, 350, 3)\n"
          ],
          "name": "stdout"
        },
        {
          "output_type": "stream",
          "text": [
            "\n",
            "\n",
            "\n",
            "\n",
            "\n",
            "\n",
            "\n",
            "\n",
            "\n",
            "  7%|▋         | 19/283 [00:16<03:32,  1.24it/s]\u001b[A\u001b[A\u001b[A\u001b[A\u001b[A\u001b[A\u001b[A\u001b[A\u001b[A"
          ],
          "name": "stderr"
        },
        {
          "output_type": "stream",
          "text": [
            "image.img_to_array(img) =  (350, 350, 3)\n",
            "np.expand_dims =  (1, 350, 350, 3)\n"
          ],
          "name": "stdout"
        },
        {
          "output_type": "stream",
          "text": [
            "\n",
            "\n",
            "\n",
            "\n",
            "\n",
            "\n",
            "\n",
            "\n",
            "\n",
            "  7%|▋         | 20/283 [00:16<03:28,  1.26it/s]\u001b[A\u001b[A\u001b[A\u001b[A\u001b[A\u001b[A\u001b[A\u001b[A\u001b[A"
          ],
          "name": "stderr"
        },
        {
          "output_type": "stream",
          "text": [
            "image.img_to_array(img) =  (350, 350, 3)\n",
            "np.expand_dims =  (1, 350, 350, 3)\n"
          ],
          "name": "stdout"
        },
        {
          "output_type": "stream",
          "text": [
            "\n",
            "\n",
            "\n",
            "\n",
            "\n",
            "\n",
            "\n",
            "\n",
            "\n",
            "  7%|▋         | 21/283 [00:17<03:27,  1.26it/s]\u001b[A\u001b[A\u001b[A\u001b[A\u001b[A\u001b[A\u001b[A\u001b[A\u001b[A"
          ],
          "name": "stderr"
        },
        {
          "output_type": "stream",
          "text": [
            "image.img_to_array(img) =  (350, 350, 3)\n",
            "np.expand_dims =  (1, 350, 350, 3)\n"
          ],
          "name": "stdout"
        },
        {
          "output_type": "stream",
          "text": [
            "\n",
            "\n",
            "\n",
            "\n",
            "\n",
            "\n",
            "\n",
            "\n",
            "\n",
            "  8%|▊         | 22/283 [00:18<03:29,  1.24it/s]\u001b[A\u001b[A\u001b[A\u001b[A\u001b[A\u001b[A\u001b[A\u001b[A\u001b[A"
          ],
          "name": "stderr"
        },
        {
          "output_type": "stream",
          "text": [
            "image.img_to_array(img) =  (350, 350, 3)\n",
            "np.expand_dims =  (1, 350, 350, 3)\n"
          ],
          "name": "stdout"
        },
        {
          "output_type": "stream",
          "text": [
            "\n",
            "\n",
            "\n",
            "\n",
            "\n",
            "\n",
            "\n",
            "\n",
            "\n",
            "  8%|▊         | 23/283 [00:19<03:17,  1.32it/s]\u001b[A\u001b[A\u001b[A\u001b[A\u001b[A\u001b[A\u001b[A\u001b[A\u001b[A"
          ],
          "name": "stderr"
        },
        {
          "output_type": "stream",
          "text": [
            "image.img_to_array(img) =  (350, 350, 3)\n",
            "np.expand_dims =  (1, 350, 350, 3)\n"
          ],
          "name": "stdout"
        },
        {
          "output_type": "stream",
          "text": [
            "\n",
            "\n",
            "\n",
            "\n",
            "\n",
            "\n",
            "\n",
            "\n",
            "\n",
            "  8%|▊         | 24/283 [00:19<03:12,  1.35it/s]\u001b[A\u001b[A\u001b[A\u001b[A\u001b[A\u001b[A\u001b[A\u001b[A\u001b[A"
          ],
          "name": "stderr"
        },
        {
          "output_type": "stream",
          "text": [
            "image.img_to_array(img) =  (350, 350, 3)\n",
            "np.expand_dims =  (1, 350, 350, 3)\n"
          ],
          "name": "stdout"
        },
        {
          "output_type": "stream",
          "text": [
            "\n",
            "\n",
            "\n",
            "\n",
            "\n",
            "\n",
            "\n",
            "\n",
            "\n",
            "  9%|▉         | 25/283 [00:20<03:21,  1.28it/s]\u001b[A\u001b[A\u001b[A\u001b[A\u001b[A\u001b[A\u001b[A\u001b[A\u001b[A"
          ],
          "name": "stderr"
        },
        {
          "output_type": "stream",
          "text": [
            "image.img_to_array(img) =  (350, 350, 3)\n",
            "np.expand_dims =  (1, 350, 350, 3)\n"
          ],
          "name": "stdout"
        },
        {
          "output_type": "stream",
          "text": [
            "\n",
            "\n",
            "\n",
            "\n",
            "\n",
            "\n",
            "\n",
            "\n",
            "\n",
            "  9%|▉         | 26/283 [00:21<03:21,  1.28it/s]\u001b[A\u001b[A\u001b[A\u001b[A\u001b[A\u001b[A\u001b[A\u001b[A\u001b[A"
          ],
          "name": "stderr"
        },
        {
          "output_type": "stream",
          "text": [
            "image.img_to_array(img) =  (350, 350, 3)\n",
            "np.expand_dims =  (1, 350, 350, 3)\n"
          ],
          "name": "stdout"
        },
        {
          "output_type": "stream",
          "text": [
            "\n",
            "\n",
            "\n",
            "\n",
            "\n",
            "\n",
            "\n",
            "\n",
            "\n",
            " 10%|▉         | 27/283 [00:22<03:09,  1.35it/s]\u001b[A\u001b[A\u001b[A\u001b[A\u001b[A\u001b[A\u001b[A\u001b[A\u001b[A"
          ],
          "name": "stderr"
        },
        {
          "output_type": "stream",
          "text": [
            "image.img_to_array(img) =  (350, 350, 3)\n",
            "np.expand_dims =  (1, 350, 350, 3)\n"
          ],
          "name": "stdout"
        },
        {
          "output_type": "stream",
          "text": [
            "\n",
            "\n",
            "\n",
            "\n",
            "\n",
            "\n",
            "\n",
            "\n",
            "\n",
            " 10%|▉         | 28/283 [00:22<03:02,  1.40it/s]\u001b[A\u001b[A\u001b[A\u001b[A\u001b[A\u001b[A\u001b[A\u001b[A\u001b[A"
          ],
          "name": "stderr"
        },
        {
          "output_type": "stream",
          "text": [
            "image.img_to_array(img) =  (350, 350, 3)\n",
            "np.expand_dims =  (1, 350, 350, 3)\n"
          ],
          "name": "stdout"
        },
        {
          "output_type": "stream",
          "text": [
            "\n",
            "\n",
            "\n",
            "\n",
            "\n",
            "\n",
            "\n",
            "\n",
            "\n",
            " 10%|█         | 29/283 [00:23<02:56,  1.44it/s]\u001b[A\u001b[A\u001b[A\u001b[A\u001b[A\u001b[A\u001b[A\u001b[A\u001b[A"
          ],
          "name": "stderr"
        },
        {
          "output_type": "stream",
          "text": [
            "image.img_to_array(img) =  (350, 350, 3)\n",
            "np.expand_dims =  (1, 350, 350, 3)\n"
          ],
          "name": "stdout"
        },
        {
          "output_type": "stream",
          "text": [
            "\n",
            "\n",
            "\n",
            "\n",
            "\n",
            "\n",
            "\n",
            "\n",
            "\n",
            " 11%|█         | 30/283 [00:24<02:52,  1.47it/s]\u001b[A\u001b[A\u001b[A\u001b[A\u001b[A\u001b[A\u001b[A\u001b[A\u001b[A"
          ],
          "name": "stderr"
        },
        {
          "output_type": "stream",
          "text": [
            "image.img_to_array(img) =  (350, 350, 3)\n",
            "np.expand_dims =  (1, 350, 350, 3)\n"
          ],
          "name": "stdout"
        },
        {
          "output_type": "stream",
          "text": [
            "\n",
            "\n",
            "\n",
            "\n",
            "\n",
            "\n",
            "\n",
            "\n",
            "\n",
            " 11%|█         | 31/283 [00:24<02:50,  1.48it/s]\u001b[A\u001b[A\u001b[A\u001b[A\u001b[A\u001b[A\u001b[A\u001b[A\u001b[A"
          ],
          "name": "stderr"
        },
        {
          "output_type": "stream",
          "text": [
            "image.img_to_array(img) =  (350, 350, 3)\n",
            "np.expand_dims =  (1, 350, 350, 3)\n"
          ],
          "name": "stdout"
        },
        {
          "output_type": "stream",
          "text": [
            "\n",
            "\n",
            "\n",
            "\n",
            "\n",
            "\n",
            "\n",
            "\n",
            "\n",
            " 11%|█▏        | 32/283 [00:25<02:48,  1.49it/s]\u001b[A\u001b[A\u001b[A\u001b[A\u001b[A\u001b[A\u001b[A\u001b[A\u001b[A"
          ],
          "name": "stderr"
        },
        {
          "output_type": "stream",
          "text": [
            "image.img_to_array(img) =  (350, 350, 3)\n",
            "np.expand_dims =  (1, 350, 350, 3)\n"
          ],
          "name": "stdout"
        },
        {
          "output_type": "stream",
          "text": [
            "\n",
            "\n",
            "\n",
            "\n",
            "\n",
            "\n",
            "\n",
            "\n",
            "\n",
            " 12%|█▏        | 33/283 [00:26<02:56,  1.42it/s]\u001b[A\u001b[A\u001b[A\u001b[A\u001b[A\u001b[A\u001b[A\u001b[A\u001b[A"
          ],
          "name": "stderr"
        },
        {
          "output_type": "stream",
          "text": [
            "image.img_to_array(img) =  (350, 350, 3)\n",
            "np.expand_dims =  (1, 350, 350, 3)\n"
          ],
          "name": "stdout"
        },
        {
          "output_type": "stream",
          "text": [
            "\n",
            "\n",
            "\n",
            "\n",
            "\n",
            "\n",
            "\n",
            "\n",
            "\n",
            " 12%|█▏        | 34/283 [00:27<03:05,  1.35it/s]\u001b[A\u001b[A\u001b[A\u001b[A\u001b[A\u001b[A\u001b[A\u001b[A\u001b[A"
          ],
          "name": "stderr"
        },
        {
          "output_type": "stream",
          "text": [
            "image.img_to_array(img) =  (350, 350, 3)\n",
            "np.expand_dims =  (1, 350, 350, 3)\n"
          ],
          "name": "stdout"
        },
        {
          "output_type": "stream",
          "text": [
            "\n",
            "\n",
            "\n",
            "\n",
            "\n",
            "\n",
            "\n",
            "\n",
            "\n",
            " 12%|█▏        | 35/283 [00:27<03:11,  1.30it/s]\u001b[A\u001b[A\u001b[A\u001b[A\u001b[A\u001b[A\u001b[A\u001b[A\u001b[A"
          ],
          "name": "stderr"
        },
        {
          "output_type": "stream",
          "text": [
            "image.img_to_array(img) =  (350, 350, 3)\n",
            "np.expand_dims =  (1, 350, 350, 3)\n"
          ],
          "name": "stdout"
        },
        {
          "output_type": "stream",
          "text": [
            "\n",
            "\n",
            "\n",
            "\n",
            "\n",
            "\n",
            "\n",
            "\n",
            "\n",
            " 13%|█▎        | 36/283 [00:28<03:01,  1.36it/s]\u001b[A\u001b[A\u001b[A\u001b[A\u001b[A\u001b[A\u001b[A\u001b[A\u001b[A"
          ],
          "name": "stderr"
        },
        {
          "output_type": "stream",
          "text": [
            "image.img_to_array(img) =  (350, 350, 3)\n",
            "np.expand_dims =  (1, 350, 350, 3)\n"
          ],
          "name": "stdout"
        },
        {
          "output_type": "stream",
          "text": [
            "\n",
            "\n",
            "\n",
            "\n",
            "\n",
            "\n",
            "\n",
            "\n",
            "\n",
            " 13%|█▎        | 37/283 [00:29<02:59,  1.37it/s]\u001b[A\u001b[A\u001b[A\u001b[A\u001b[A\u001b[A\u001b[A\u001b[A\u001b[A"
          ],
          "name": "stderr"
        },
        {
          "output_type": "stream",
          "text": [
            "image.img_to_array(img) =  (350, 350, 3)\n",
            "np.expand_dims =  (1, 350, 350, 3)\n"
          ],
          "name": "stdout"
        },
        {
          "output_type": "stream",
          "text": [
            "\n",
            "\n",
            "\n",
            "\n",
            "\n",
            "\n",
            "\n",
            "\n",
            "\n",
            " 13%|█▎        | 38/283 [00:30<03:06,  1.32it/s]\u001b[A\u001b[A\u001b[A\u001b[A\u001b[A\u001b[A\u001b[A\u001b[A\u001b[A"
          ],
          "name": "stderr"
        },
        {
          "output_type": "stream",
          "text": [
            "image.img_to_array(img) =  (350, 350, 3)\n",
            "np.expand_dims =  (1, 350, 350, 3)\n"
          ],
          "name": "stdout"
        },
        {
          "output_type": "stream",
          "text": [
            "\n",
            "\n",
            "\n",
            "\n",
            "\n",
            "\n",
            "\n",
            "\n",
            "\n",
            " 14%|█▍        | 39/283 [00:30<02:55,  1.39it/s]\u001b[A\u001b[A\u001b[A\u001b[A\u001b[A\u001b[A\u001b[A\u001b[A\u001b[A"
          ],
          "name": "stderr"
        },
        {
          "output_type": "stream",
          "text": [
            "image.img_to_array(img) =  (350, 350, 3)\n",
            "np.expand_dims =  (1, 350, 350, 3)\n"
          ],
          "name": "stdout"
        },
        {
          "output_type": "stream",
          "text": [
            "\n",
            "\n",
            "\n",
            "\n",
            "\n",
            "\n",
            "\n",
            "\n",
            "\n",
            " 14%|█▍        | 40/283 [00:31<02:49,  1.43it/s]\u001b[A\u001b[A\u001b[A\u001b[A\u001b[A\u001b[A\u001b[A\u001b[A\u001b[A"
          ],
          "name": "stderr"
        },
        {
          "output_type": "stream",
          "text": [
            "image.img_to_array(img) =  (350, 350, 3)\n",
            "np.expand_dims =  (1, 350, 350, 3)\n"
          ],
          "name": "stdout"
        },
        {
          "output_type": "stream",
          "text": [
            "\n",
            "\n",
            "\n",
            "\n",
            "\n",
            "\n",
            "\n",
            "\n",
            "\n",
            " 14%|█▍        | 41/283 [00:32<02:48,  1.44it/s]\u001b[A\u001b[A\u001b[A\u001b[A\u001b[A\u001b[A\u001b[A\u001b[A\u001b[A"
          ],
          "name": "stderr"
        },
        {
          "output_type": "stream",
          "text": [
            "image.img_to_array(img) =  (350, 350, 3)\n",
            "np.expand_dims =  (1, 350, 350, 3)\n"
          ],
          "name": "stdout"
        },
        {
          "output_type": "stream",
          "text": [
            "\n",
            "\n",
            "\n",
            "\n",
            "\n",
            "\n",
            "\n",
            "\n",
            "\n",
            " 15%|█▍        | 42/283 [00:33<03:09,  1.27it/s]\u001b[A\u001b[A\u001b[A\u001b[A\u001b[A\u001b[A\u001b[A\u001b[A\u001b[A"
          ],
          "name": "stderr"
        },
        {
          "output_type": "stream",
          "text": [
            "image.img_to_array(img) =  (350, 350, 3)\n",
            "np.expand_dims =  (1, 350, 350, 3)\n"
          ],
          "name": "stdout"
        },
        {
          "output_type": "stream",
          "text": [
            "\n",
            "\n",
            "\n",
            "\n",
            "\n",
            "\n",
            "\n",
            "\n",
            "\n",
            " 15%|█▌        | 43/283 [00:33<02:59,  1.33it/s]\u001b[A\u001b[A\u001b[A\u001b[A\u001b[A\u001b[A\u001b[A\u001b[A\u001b[A"
          ],
          "name": "stderr"
        },
        {
          "output_type": "stream",
          "text": [
            "image.img_to_array(img) =  (350, 350, 3)\n",
            "np.expand_dims =  (1, 350, 350, 3)\n"
          ],
          "name": "stdout"
        },
        {
          "output_type": "stream",
          "text": [
            "\n",
            "\n",
            "\n",
            "\n",
            "\n",
            "\n",
            "\n",
            "\n",
            "\n",
            " 16%|█▌        | 44/283 [00:34<03:04,  1.29it/s]\u001b[A\u001b[A\u001b[A\u001b[A\u001b[A\u001b[A\u001b[A\u001b[A\u001b[A"
          ],
          "name": "stderr"
        },
        {
          "output_type": "stream",
          "text": [
            "image.img_to_array(img) =  (350, 350, 3)\n",
            "np.expand_dims =  (1, 350, 350, 3)\n"
          ],
          "name": "stdout"
        },
        {
          "output_type": "stream",
          "text": [
            "\n",
            "\n",
            "\n",
            "\n",
            "\n",
            "\n",
            "\n",
            "\n",
            "\n",
            " 16%|█▌        | 45/283 [00:35<02:54,  1.37it/s]\u001b[A\u001b[A\u001b[A\u001b[A\u001b[A\u001b[A\u001b[A\u001b[A\u001b[A"
          ],
          "name": "stderr"
        },
        {
          "output_type": "stream",
          "text": [
            "image.img_to_array(img) =  (350, 350, 3)\n",
            "np.expand_dims =  (1, 350, 350, 3)\n"
          ],
          "name": "stdout"
        },
        {
          "output_type": "stream",
          "text": [
            "\n",
            "\n",
            "\n",
            "\n",
            "\n",
            "\n",
            "\n",
            "\n",
            "\n",
            " 16%|█▋        | 46/283 [00:35<02:46,  1.43it/s]\u001b[A\u001b[A\u001b[A\u001b[A\u001b[A\u001b[A\u001b[A\u001b[A\u001b[A"
          ],
          "name": "stderr"
        },
        {
          "output_type": "stream",
          "text": [
            "image.img_to_array(img) =  (350, 350, 3)\n",
            "np.expand_dims =  (1, 350, 350, 3)\n"
          ],
          "name": "stdout"
        },
        {
          "output_type": "stream",
          "text": [
            "\n",
            "\n",
            "\n",
            "\n",
            "\n",
            "\n",
            "\n",
            "\n",
            "\n",
            " 17%|█▋        | 47/283 [00:36<02:53,  1.36it/s]\u001b[A\u001b[A\u001b[A\u001b[A\u001b[A\u001b[A\u001b[A\u001b[A\u001b[A"
          ],
          "name": "stderr"
        },
        {
          "output_type": "stream",
          "text": [
            "image.img_to_array(img) =  (350, 350, 3)\n",
            "np.expand_dims =  (1, 350, 350, 3)\n"
          ],
          "name": "stdout"
        },
        {
          "output_type": "stream",
          "text": [
            "\n",
            "\n",
            "\n",
            "\n",
            "\n",
            "\n",
            "\n",
            "\n",
            "\n",
            " 17%|█▋        | 48/283 [00:37<02:49,  1.39it/s]\u001b[A\u001b[A\u001b[A\u001b[A\u001b[A\u001b[A\u001b[A\u001b[A\u001b[A"
          ],
          "name": "stderr"
        },
        {
          "output_type": "stream",
          "text": [
            "image.img_to_array(img) =  (350, 350, 3)\n",
            "np.expand_dims =  (1, 350, 350, 3)\n"
          ],
          "name": "stdout"
        },
        {
          "output_type": "stream",
          "text": [
            "\n",
            "\n",
            "\n",
            "\n",
            "\n",
            "\n",
            "\n",
            "\n",
            "\n",
            " 17%|█▋        | 49/283 [00:38<02:43,  1.43it/s]\u001b[A\u001b[A\u001b[A\u001b[A\u001b[A\u001b[A\u001b[A\u001b[A\u001b[A"
          ],
          "name": "stderr"
        },
        {
          "output_type": "stream",
          "text": [
            "image.img_to_array(img) =  (350, 350, 3)\n",
            "np.expand_dims =  (1, 350, 350, 3)\n"
          ],
          "name": "stdout"
        },
        {
          "output_type": "stream",
          "text": [
            "\n",
            "\n",
            "\n",
            "\n",
            "\n",
            "\n",
            "\n",
            "\n",
            "\n",
            " 18%|█▊        | 50/283 [00:38<02:39,  1.46it/s]\u001b[A\u001b[A\u001b[A\u001b[A\u001b[A\u001b[A\u001b[A\u001b[A\u001b[A"
          ],
          "name": "stderr"
        },
        {
          "output_type": "stream",
          "text": [
            "image.img_to_array(img) =  (350, 350, 3)\n",
            "np.expand_dims =  (1, 350, 350, 3)\n"
          ],
          "name": "stdout"
        },
        {
          "output_type": "stream",
          "text": [
            "\n",
            "\n",
            "\n",
            "\n",
            "\n",
            "\n",
            "\n",
            "\n",
            "\n",
            " 18%|█▊        | 51/283 [00:39<02:35,  1.50it/s]\u001b[A\u001b[A\u001b[A\u001b[A\u001b[A\u001b[A\u001b[A\u001b[A\u001b[A"
          ],
          "name": "stderr"
        },
        {
          "output_type": "stream",
          "text": [
            "image.img_to_array(img) =  (350, 350, 3)\n",
            "np.expand_dims =  (1, 350, 350, 3)\n"
          ],
          "name": "stdout"
        },
        {
          "output_type": "stream",
          "text": [
            "\n",
            "\n",
            "\n",
            "\n",
            "\n",
            "\n",
            "\n",
            "\n",
            "\n",
            " 18%|█▊        | 52/283 [00:40<02:47,  1.38it/s]\u001b[A\u001b[A\u001b[A\u001b[A\u001b[A\u001b[A\u001b[A\u001b[A\u001b[A"
          ],
          "name": "stderr"
        },
        {
          "output_type": "stream",
          "text": [
            "image.img_to_array(img) =  (350, 350, 3)\n",
            "np.expand_dims =  (1, 350, 350, 3)\n"
          ],
          "name": "stdout"
        },
        {
          "output_type": "stream",
          "text": [
            "\n",
            "\n",
            "\n",
            "\n",
            "\n",
            "\n",
            "\n",
            "\n",
            "\n",
            " 19%|█▊        | 53/283 [00:40<02:40,  1.43it/s]\u001b[A\u001b[A\u001b[A\u001b[A\u001b[A\u001b[A\u001b[A\u001b[A\u001b[A"
          ],
          "name": "stderr"
        },
        {
          "output_type": "stream",
          "text": [
            "image.img_to_array(img) =  (350, 350, 3)\n",
            "np.expand_dims =  (1, 350, 350, 3)\n"
          ],
          "name": "stdout"
        },
        {
          "output_type": "stream",
          "text": [
            "\n",
            "\n",
            "\n",
            "\n",
            "\n",
            "\n",
            "\n",
            "\n",
            "\n",
            " 19%|█▉        | 54/283 [00:41<02:37,  1.45it/s]\u001b[A\u001b[A\u001b[A\u001b[A\u001b[A\u001b[A\u001b[A\u001b[A\u001b[A"
          ],
          "name": "stderr"
        },
        {
          "output_type": "stream",
          "text": [
            "image.img_to_array(img) =  (350, 350, 3)\n",
            "np.expand_dims =  (1, 350, 350, 3)\n"
          ],
          "name": "stdout"
        },
        {
          "output_type": "stream",
          "text": [
            "\n",
            "\n",
            "\n",
            "\n",
            "\n",
            "\n",
            "\n",
            "\n",
            "\n",
            " 19%|█▉        | 55/283 [00:42<02:35,  1.46it/s]\u001b[A\u001b[A\u001b[A\u001b[A\u001b[A\u001b[A\u001b[A\u001b[A\u001b[A"
          ],
          "name": "stderr"
        },
        {
          "output_type": "stream",
          "text": [
            "image.img_to_array(img) =  (350, 350, 3)\n",
            "np.expand_dims =  (1, 350, 350, 3)\n"
          ],
          "name": "stdout"
        },
        {
          "output_type": "stream",
          "text": [
            "\n",
            "\n",
            "\n",
            "\n",
            "\n",
            "\n",
            "\n",
            "\n",
            "\n",
            " 20%|█▉        | 56/283 [00:42<02:40,  1.41it/s]\u001b[A\u001b[A\u001b[A\u001b[A\u001b[A\u001b[A\u001b[A\u001b[A\u001b[A"
          ],
          "name": "stderr"
        },
        {
          "output_type": "stream",
          "text": [
            "image.img_to_array(img) =  (350, 350, 3)\n",
            "np.expand_dims =  (1, 350, 350, 3)\n"
          ],
          "name": "stdout"
        },
        {
          "output_type": "stream",
          "text": [
            "\n",
            "\n",
            "\n",
            "\n",
            "\n",
            "\n",
            "\n",
            "\n",
            "\n",
            " 20%|██        | 57/283 [00:43<02:44,  1.37it/s]\u001b[A\u001b[A\u001b[A\u001b[A\u001b[A\u001b[A\u001b[A\u001b[A\u001b[A"
          ],
          "name": "stderr"
        },
        {
          "output_type": "stream",
          "text": [
            "image.img_to_array(img) =  (350, 350, 3)\n",
            "np.expand_dims =  (1, 350, 350, 3)\n"
          ],
          "name": "stdout"
        },
        {
          "output_type": "stream",
          "text": [
            "\n",
            "\n",
            "\n",
            "\n",
            "\n",
            "\n",
            "\n",
            "\n",
            "\n",
            " 20%|██        | 58/283 [00:44<02:37,  1.43it/s]\u001b[A\u001b[A\u001b[A\u001b[A\u001b[A\u001b[A\u001b[A\u001b[A\u001b[A"
          ],
          "name": "stderr"
        },
        {
          "output_type": "stream",
          "text": [
            "image.img_to_array(img) =  (350, 350, 3)\n",
            "np.expand_dims =  (1, 350, 350, 3)\n"
          ],
          "name": "stdout"
        },
        {
          "output_type": "stream",
          "text": [
            "\n",
            "\n",
            "\n",
            "\n",
            "\n",
            "\n",
            "\n",
            "\n",
            "\n",
            " 21%|██        | 59/283 [00:44<02:32,  1.46it/s]\u001b[A\u001b[A\u001b[A\u001b[A\u001b[A\u001b[A\u001b[A\u001b[A\u001b[A"
          ],
          "name": "stderr"
        },
        {
          "output_type": "stream",
          "text": [
            "image.img_to_array(img) =  (350, 350, 3)\n",
            "np.expand_dims =  (1, 350, 350, 3)\n"
          ],
          "name": "stdout"
        },
        {
          "output_type": "stream",
          "text": [
            "\n",
            "\n",
            "\n",
            "\n",
            "\n",
            "\n",
            "\n",
            "\n",
            "\n",
            " 21%|██        | 60/283 [00:45<02:39,  1.40it/s]\u001b[A\u001b[A\u001b[A\u001b[A\u001b[A\u001b[A\u001b[A\u001b[A\u001b[A"
          ],
          "name": "stderr"
        },
        {
          "output_type": "stream",
          "text": [
            "image.img_to_array(img) =  (350, 350, 3)\n",
            "np.expand_dims =  (1, 350, 350, 3)\n"
          ],
          "name": "stdout"
        },
        {
          "output_type": "stream",
          "text": [
            "\n",
            "\n",
            "\n",
            "\n",
            "\n",
            "\n",
            "\n",
            "\n",
            "\n",
            " 22%|██▏       | 61/283 [00:46<02:34,  1.44it/s]\u001b[A\u001b[A\u001b[A\u001b[A\u001b[A\u001b[A\u001b[A\u001b[A\u001b[A"
          ],
          "name": "stderr"
        },
        {
          "output_type": "stream",
          "text": [
            "image.img_to_array(img) =  (350, 350, 3)\n",
            "np.expand_dims =  (1, 350, 350, 3)\n"
          ],
          "name": "stdout"
        },
        {
          "output_type": "stream",
          "text": [
            "\n",
            "\n",
            "\n",
            "\n",
            "\n",
            "\n",
            "\n",
            "\n",
            "\n",
            " 22%|██▏       | 62/283 [00:47<02:39,  1.39it/s]\u001b[A\u001b[A\u001b[A\u001b[A\u001b[A\u001b[A\u001b[A\u001b[A\u001b[A"
          ],
          "name": "stderr"
        },
        {
          "output_type": "stream",
          "text": [
            "image.img_to_array(img) =  (350, 350, 3)\n",
            "np.expand_dims =  (1, 350, 350, 3)\n"
          ],
          "name": "stdout"
        },
        {
          "output_type": "stream",
          "text": [
            "\n",
            "\n",
            "\n",
            "\n",
            "\n",
            "\n",
            "\n",
            "\n",
            "\n",
            " 22%|██▏       | 63/283 [00:47<02:33,  1.43it/s]\u001b[A\u001b[A\u001b[A\u001b[A\u001b[A\u001b[A\u001b[A\u001b[A\u001b[A"
          ],
          "name": "stderr"
        },
        {
          "output_type": "stream",
          "text": [
            "image.img_to_array(img) =  (350, 350, 3)\n",
            "np.expand_dims =  (1, 350, 350, 3)\n"
          ],
          "name": "stdout"
        },
        {
          "output_type": "stream",
          "text": [
            "\n",
            "\n",
            "\n",
            "\n",
            "\n",
            "\n",
            "\n",
            "\n",
            "\n",
            " 23%|██▎       | 64/283 [00:48<02:40,  1.37it/s]\u001b[A\u001b[A\u001b[A\u001b[A\u001b[A\u001b[A\u001b[A\u001b[A\u001b[A"
          ],
          "name": "stderr"
        },
        {
          "output_type": "stream",
          "text": [
            "image.img_to_array(img) =  (350, 350, 3)\n",
            "np.expand_dims =  (1, 350, 350, 3)\n"
          ],
          "name": "stdout"
        },
        {
          "output_type": "stream",
          "text": [
            "\n",
            "\n",
            "\n",
            "\n",
            "\n",
            "\n",
            "\n",
            "\n",
            "\n",
            " 23%|██▎       | 65/283 [00:49<02:34,  1.42it/s]\u001b[A\u001b[A\u001b[A\u001b[A\u001b[A\u001b[A\u001b[A\u001b[A\u001b[A"
          ],
          "name": "stderr"
        },
        {
          "output_type": "stream",
          "text": [
            "image.img_to_array(img) =  (350, 350, 3)\n",
            "np.expand_dims =  (1, 350, 350, 3)\n"
          ],
          "name": "stdout"
        },
        {
          "output_type": "stream",
          "text": [
            "\n",
            "\n",
            "\n",
            "\n",
            "\n",
            "\n",
            "\n",
            "\n",
            "\n",
            " 23%|██▎       | 66/283 [00:50<02:36,  1.39it/s]\u001b[A\u001b[A\u001b[A\u001b[A\u001b[A\u001b[A\u001b[A\u001b[A\u001b[A"
          ],
          "name": "stderr"
        },
        {
          "output_type": "stream",
          "text": [
            "image.img_to_array(img) =  (350, 350, 3)\n",
            "np.expand_dims =  (1, 350, 350, 3)\n"
          ],
          "name": "stdout"
        },
        {
          "output_type": "stream",
          "text": [
            "\n",
            "\n",
            "\n",
            "\n",
            "\n",
            "\n",
            "\n",
            "\n",
            "\n",
            " 24%|██▎       | 67/283 [00:50<02:16,  1.58it/s]\u001b[A\u001b[A\u001b[A\u001b[A\u001b[A\u001b[A\u001b[A\u001b[A\u001b[A"
          ],
          "name": "stderr"
        },
        {
          "output_type": "stream",
          "text": [
            "image.img_to_array(img) =  (350, 350, 3)\n",
            "np.expand_dims =  (1, 350, 350, 3)\n"
          ],
          "name": "stdout"
        },
        {
          "output_type": "stream",
          "text": [
            "\n",
            "\n",
            "\n",
            "\n",
            "\n",
            "\n",
            "\n",
            "\n",
            "\n",
            " 24%|██▍       | 68/283 [00:51<02:30,  1.43it/s]\u001b[A\u001b[A\u001b[A\u001b[A\u001b[A\u001b[A\u001b[A\u001b[A\u001b[A"
          ],
          "name": "stderr"
        },
        {
          "output_type": "stream",
          "text": [
            "image.img_to_array(img) =  (350, 350, 3)\n",
            "np.expand_dims =  (1, 350, 350, 3)\n"
          ],
          "name": "stdout"
        },
        {
          "output_type": "stream",
          "text": [
            "\n",
            "\n",
            "\n",
            "\n",
            "\n",
            "\n",
            "\n",
            "\n",
            "\n",
            " 24%|██▍       | 69/283 [00:52<02:52,  1.24it/s]\u001b[A\u001b[A\u001b[A\u001b[A\u001b[A\u001b[A\u001b[A\u001b[A\u001b[A"
          ],
          "name": "stderr"
        },
        {
          "output_type": "stream",
          "text": [
            "image.img_to_array(img) =  (350, 350, 3)\n",
            "np.expand_dims =  (1, 350, 350, 3)\n"
          ],
          "name": "stdout"
        },
        {
          "output_type": "stream",
          "text": [
            "\n",
            "\n",
            "\n",
            "\n",
            "\n",
            "\n",
            "\n",
            "\n",
            "\n",
            " 25%|██▍       | 70/283 [00:53<02:41,  1.32it/s]\u001b[A\u001b[A\u001b[A\u001b[A\u001b[A\u001b[A\u001b[A\u001b[A\u001b[A"
          ],
          "name": "stderr"
        },
        {
          "output_type": "stream",
          "text": [
            "image.img_to_array(img) =  (350, 350, 3)\n",
            "np.expand_dims =  (1, 350, 350, 3)\n"
          ],
          "name": "stdout"
        },
        {
          "output_type": "stream",
          "text": [
            "\n",
            "\n",
            "\n",
            "\n",
            "\n",
            "\n",
            "\n",
            "\n",
            "\n",
            " 25%|██▌       | 71/283 [00:53<02:35,  1.36it/s]\u001b[A\u001b[A\u001b[A\u001b[A\u001b[A\u001b[A\u001b[A\u001b[A\u001b[A"
          ],
          "name": "stderr"
        },
        {
          "output_type": "stream",
          "text": [
            "image.img_to_array(img) =  (350, 350, 3)\n",
            "np.expand_dims =  (1, 350, 350, 3)\n"
          ],
          "name": "stdout"
        },
        {
          "output_type": "stream",
          "text": [
            "\n",
            "\n",
            "\n",
            "\n",
            "\n",
            "\n",
            "\n",
            "\n",
            "\n",
            " 25%|██▌       | 72/283 [00:54<02:42,  1.30it/s]\u001b[A\u001b[A\u001b[A\u001b[A\u001b[A\u001b[A\u001b[A\u001b[A\u001b[A"
          ],
          "name": "stderr"
        },
        {
          "output_type": "stream",
          "text": [
            "image.img_to_array(img) =  (350, 350, 3)\n",
            "np.expand_dims =  (1, 350, 350, 3)\n"
          ],
          "name": "stdout"
        },
        {
          "output_type": "stream",
          "text": [
            "\n",
            "\n",
            "\n",
            "\n",
            "\n",
            "\n",
            "\n",
            "\n",
            "\n",
            " 26%|██▌       | 73/283 [00:55<02:44,  1.28it/s]\u001b[A\u001b[A\u001b[A\u001b[A\u001b[A\u001b[A\u001b[A\u001b[A\u001b[A"
          ],
          "name": "stderr"
        },
        {
          "output_type": "stream",
          "text": [
            "image.img_to_array(img) =  (350, 350, 3)\n",
            "np.expand_dims =  (1, 350, 350, 3)\n"
          ],
          "name": "stdout"
        },
        {
          "output_type": "stream",
          "text": [
            "\n",
            "\n",
            "\n",
            "\n",
            "\n",
            "\n",
            "\n",
            "\n",
            "\n",
            " 26%|██▌       | 74/283 [00:55<02:21,  1.48it/s]\u001b[A\u001b[A\u001b[A\u001b[A\u001b[A\u001b[A\u001b[A\u001b[A\u001b[A"
          ],
          "name": "stderr"
        },
        {
          "output_type": "stream",
          "text": [
            "image.img_to_array(img) =  (350, 350, 3)\n",
            "np.expand_dims =  (1, 350, 350, 3)\n"
          ],
          "name": "stdout"
        },
        {
          "output_type": "stream",
          "text": [
            "\n",
            "\n",
            "\n",
            "\n",
            "\n",
            "\n",
            "\n",
            "\n",
            "\n",
            " 27%|██▋       | 75/283 [00:56<02:18,  1.51it/s]\u001b[A\u001b[A\u001b[A\u001b[A\u001b[A\u001b[A\u001b[A\u001b[A\u001b[A"
          ],
          "name": "stderr"
        },
        {
          "output_type": "stream",
          "text": [
            "image.img_to_array(img) =  (350, 350, 3)\n",
            "np.expand_dims =  (1, 350, 350, 3)\n"
          ],
          "name": "stdout"
        },
        {
          "output_type": "stream",
          "text": [
            "\n",
            "\n",
            "\n",
            "\n",
            "\n",
            "\n",
            "\n",
            "\n",
            "\n",
            " 27%|██▋       | 76/283 [00:57<02:23,  1.45it/s]\u001b[A\u001b[A\u001b[A\u001b[A\u001b[A\u001b[A\u001b[A\u001b[A\u001b[A"
          ],
          "name": "stderr"
        },
        {
          "output_type": "stream",
          "text": [
            "image.img_to_array(img) =  (350, 350, 3)\n",
            "np.expand_dims =  (1, 350, 350, 3)\n"
          ],
          "name": "stdout"
        },
        {
          "output_type": "stream",
          "text": [
            "\n",
            "\n",
            "\n",
            "\n",
            "\n",
            "\n",
            "\n",
            "\n",
            "\n",
            " 27%|██▋       | 77/283 [00:57<02:20,  1.47it/s]\u001b[A\u001b[A\u001b[A\u001b[A\u001b[A\u001b[A\u001b[A\u001b[A\u001b[A"
          ],
          "name": "stderr"
        },
        {
          "output_type": "stream",
          "text": [
            "image.img_to_array(img) =  (350, 350, 3)\n",
            "np.expand_dims =  (1, 350, 350, 3)\n"
          ],
          "name": "stdout"
        },
        {
          "output_type": "stream",
          "text": [
            "\n",
            "\n",
            "\n",
            "\n",
            "\n",
            "\n",
            "\n",
            "\n",
            "\n",
            " 28%|██▊       | 78/283 [00:58<02:27,  1.39it/s]\u001b[A\u001b[A\u001b[A\u001b[A\u001b[A\u001b[A\u001b[A\u001b[A\u001b[A"
          ],
          "name": "stderr"
        },
        {
          "output_type": "stream",
          "text": [
            "image.img_to_array(img) =  (350, 350, 3)\n",
            "np.expand_dims =  (1, 350, 350, 3)\n"
          ],
          "name": "stdout"
        },
        {
          "output_type": "stream",
          "text": [
            "\n",
            "\n",
            "\n",
            "\n",
            "\n",
            "\n",
            "\n",
            "\n",
            "\n",
            " 28%|██▊       | 79/283 [00:59<02:21,  1.44it/s]\u001b[A\u001b[A\u001b[A\u001b[A\u001b[A\u001b[A\u001b[A\u001b[A\u001b[A"
          ],
          "name": "stderr"
        },
        {
          "output_type": "stream",
          "text": [
            "image.img_to_array(img) =  (350, 350, 3)\n",
            "np.expand_dims =  (1, 350, 350, 3)\n"
          ],
          "name": "stdout"
        },
        {
          "output_type": "stream",
          "text": [
            "\n",
            "\n",
            "\n",
            "\n",
            "\n",
            "\n",
            "\n",
            "\n",
            "\n",
            " 28%|██▊       | 80/283 [00:59<02:20,  1.45it/s]\u001b[A\u001b[A\u001b[A\u001b[A\u001b[A\u001b[A\u001b[A\u001b[A\u001b[A"
          ],
          "name": "stderr"
        },
        {
          "output_type": "stream",
          "text": [
            "image.img_to_array(img) =  (350, 350, 3)\n",
            "np.expand_dims =  (1, 350, 350, 3)\n"
          ],
          "name": "stdout"
        },
        {
          "output_type": "stream",
          "text": [
            "\n",
            "\n",
            "\n",
            "\n",
            "\n",
            "\n",
            "\n",
            "\n",
            "\n",
            " 29%|██▊       | 81/283 [01:00<02:17,  1.47it/s]\u001b[A\u001b[A\u001b[A\u001b[A\u001b[A\u001b[A\u001b[A\u001b[A\u001b[A"
          ],
          "name": "stderr"
        },
        {
          "output_type": "stream",
          "text": [
            "image.img_to_array(img) =  (350, 350, 3)\n",
            "np.expand_dims =  (1, 350, 350, 3)\n"
          ],
          "name": "stdout"
        },
        {
          "output_type": "stream",
          "text": [
            "\n",
            "\n",
            "\n",
            "\n",
            "\n",
            "\n",
            "\n",
            "\n",
            "\n",
            " 29%|██▉       | 82/283 [01:01<02:13,  1.50it/s]\u001b[A\u001b[A\u001b[A\u001b[A\u001b[A\u001b[A\u001b[A\u001b[A\u001b[A"
          ],
          "name": "stderr"
        },
        {
          "output_type": "stream",
          "text": [
            "image.img_to_array(img) =  (350, 350, 3)\n",
            "np.expand_dims =  (1, 350, 350, 3)\n"
          ],
          "name": "stdout"
        },
        {
          "output_type": "stream",
          "text": [
            "\n",
            "\n",
            "\n",
            "\n",
            "\n",
            "\n",
            "\n",
            "\n",
            "\n",
            " 29%|██▉       | 83/283 [01:01<02:11,  1.52it/s]\u001b[A\u001b[A\u001b[A\u001b[A\u001b[A\u001b[A\u001b[A\u001b[A\u001b[A"
          ],
          "name": "stderr"
        },
        {
          "output_type": "stream",
          "text": [
            "image.img_to_array(img) =  (350, 350, 3)\n",
            "np.expand_dims =  (1, 350, 350, 3)\n"
          ],
          "name": "stdout"
        },
        {
          "output_type": "stream",
          "text": [
            "\n",
            "\n",
            "\n",
            "\n",
            "\n",
            "\n",
            "\n",
            "\n",
            "\n",
            " 30%|██▉       | 84/283 [01:02<01:56,  1.71it/s]\u001b[A\u001b[A\u001b[A\u001b[A\u001b[A\u001b[A\u001b[A\u001b[A\u001b[A"
          ],
          "name": "stderr"
        },
        {
          "output_type": "stream",
          "text": [
            "image.img_to_array(img) =  (350, 350, 3)\n",
            "np.expand_dims =  (1, 350, 350, 3)\n"
          ],
          "name": "stdout"
        },
        {
          "output_type": "stream",
          "text": [
            "\n",
            "\n",
            "\n",
            "\n",
            "\n",
            "\n",
            "\n",
            "\n",
            "\n",
            " 30%|███       | 85/283 [01:02<02:01,  1.63it/s]\u001b[A\u001b[A\u001b[A\u001b[A\u001b[A\u001b[A\u001b[A\u001b[A\u001b[A"
          ],
          "name": "stderr"
        },
        {
          "output_type": "stream",
          "text": [
            "image.img_to_array(img) =  (350, 350, 3)\n",
            "np.expand_dims =  (1, 350, 350, 3)\n"
          ],
          "name": "stdout"
        },
        {
          "output_type": "stream",
          "text": [
            "\n",
            "\n",
            "\n",
            "\n",
            "\n",
            "\n",
            "\n",
            "\n",
            "\n",
            " 30%|███       | 86/283 [01:03<02:05,  1.57it/s]\u001b[A\u001b[A\u001b[A\u001b[A\u001b[A\u001b[A\u001b[A\u001b[A\u001b[A"
          ],
          "name": "stderr"
        },
        {
          "output_type": "stream",
          "text": [
            "image.img_to_array(img) =  (350, 350, 3)\n",
            "np.expand_dims =  (1, 350, 350, 3)\n"
          ],
          "name": "stdout"
        },
        {
          "output_type": "stream",
          "text": [
            "\n",
            "\n",
            "\n",
            "\n",
            "\n",
            "\n",
            "\n",
            "\n",
            "\n",
            " 31%|███       | 87/283 [01:04<02:04,  1.57it/s]\u001b[A\u001b[A\u001b[A\u001b[A\u001b[A\u001b[A\u001b[A\u001b[A\u001b[A"
          ],
          "name": "stderr"
        },
        {
          "output_type": "stream",
          "text": [
            "image.img_to_array(img) =  (350, 350, 3)\n",
            "np.expand_dims =  (1, 350, 350, 3)\n"
          ],
          "name": "stdout"
        },
        {
          "output_type": "stream",
          "text": [
            "\n",
            "\n",
            "\n",
            "\n",
            "\n",
            "\n",
            "\n",
            "\n",
            "\n",
            " 31%|███       | 88/283 [01:05<02:10,  1.49it/s]\u001b[A\u001b[A\u001b[A\u001b[A\u001b[A\u001b[A\u001b[A\u001b[A\u001b[A"
          ],
          "name": "stderr"
        },
        {
          "output_type": "stream",
          "text": [
            "image.img_to_array(img) =  (350, 350, 3)\n",
            "np.expand_dims =  (1, 350, 350, 3)\n"
          ],
          "name": "stdout"
        },
        {
          "output_type": "stream",
          "text": [
            "\n",
            "\n",
            "\n",
            "\n",
            "\n",
            "\n",
            "\n",
            "\n",
            "\n",
            " 31%|███▏      | 89/283 [01:05<02:10,  1.49it/s]\u001b[A\u001b[A\u001b[A\u001b[A\u001b[A\u001b[A\u001b[A\u001b[A\u001b[A"
          ],
          "name": "stderr"
        },
        {
          "output_type": "stream",
          "text": [
            "image.img_to_array(img) =  (350, 350, 3)\n",
            "np.expand_dims =  (1, 350, 350, 3)\n"
          ],
          "name": "stdout"
        },
        {
          "output_type": "stream",
          "text": [
            "\n",
            "\n",
            "\n",
            "\n",
            "\n",
            "\n",
            "\n",
            "\n",
            "\n",
            " 32%|███▏      | 90/283 [01:06<02:07,  1.52it/s]\u001b[A\u001b[A\u001b[A\u001b[A\u001b[A\u001b[A\u001b[A\u001b[A\u001b[A"
          ],
          "name": "stderr"
        },
        {
          "output_type": "stream",
          "text": [
            "image.img_to_array(img) =  (350, 350, 3)\n",
            "np.expand_dims =  (1, 350, 350, 3)\n"
          ],
          "name": "stdout"
        },
        {
          "output_type": "stream",
          "text": [
            "\n",
            "\n",
            "\n",
            "\n",
            "\n",
            "\n",
            "\n",
            "\n",
            "\n",
            " 32%|███▏      | 91/283 [01:07<02:14,  1.43it/s]\u001b[A\u001b[A\u001b[A\u001b[A\u001b[A\u001b[A\u001b[A\u001b[A\u001b[A"
          ],
          "name": "stderr"
        },
        {
          "output_type": "stream",
          "text": [
            "image.img_to_array(img) =  (350, 350, 3)\n",
            "np.expand_dims =  (1, 350, 350, 3)\n"
          ],
          "name": "stdout"
        },
        {
          "output_type": "stream",
          "text": [
            "\n",
            "\n",
            "\n",
            "\n",
            "\n",
            "\n",
            "\n",
            "\n",
            "\n",
            " 33%|███▎      | 92/283 [01:07<01:57,  1.63it/s]\u001b[A\u001b[A\u001b[A\u001b[A\u001b[A\u001b[A\u001b[A\u001b[A\u001b[A"
          ],
          "name": "stderr"
        },
        {
          "output_type": "stream",
          "text": [
            "image.img_to_array(img) =  (350, 350, 3)\n",
            "np.expand_dims =  (1, 350, 350, 3)\n"
          ],
          "name": "stdout"
        },
        {
          "output_type": "stream",
          "text": [
            "\n",
            "\n",
            "\n",
            "\n",
            "\n",
            "\n",
            "\n",
            "\n",
            "\n",
            " 33%|███▎      | 93/283 [01:08<01:58,  1.60it/s]\u001b[A\u001b[A\u001b[A\u001b[A\u001b[A\u001b[A\u001b[A\u001b[A\u001b[A"
          ],
          "name": "stderr"
        },
        {
          "output_type": "stream",
          "text": [
            "image.img_to_array(img) =  (350, 350, 3)\n",
            "np.expand_dims =  (1, 350, 350, 3)\n"
          ],
          "name": "stdout"
        },
        {
          "output_type": "stream",
          "text": [
            "\n",
            "\n",
            "\n",
            "\n",
            "\n",
            "\n",
            "\n",
            "\n",
            "\n",
            " 33%|███▎      | 94/283 [01:08<01:58,  1.59it/s]\u001b[A\u001b[A\u001b[A\u001b[A\u001b[A\u001b[A\u001b[A\u001b[A\u001b[A"
          ],
          "name": "stderr"
        },
        {
          "output_type": "stream",
          "text": [
            "image.img_to_array(img) =  (350, 350, 3)\n",
            "np.expand_dims =  (1, 350, 350, 3)\n"
          ],
          "name": "stdout"
        },
        {
          "output_type": "stream",
          "text": [
            "\n",
            "\n",
            "\n",
            "\n",
            "\n",
            "\n",
            "\n",
            "\n",
            "\n",
            " 34%|███▎      | 95/283 [01:09<02:00,  1.56it/s]\u001b[A\u001b[A\u001b[A\u001b[A\u001b[A\u001b[A\u001b[A\u001b[A\u001b[A"
          ],
          "name": "stderr"
        },
        {
          "output_type": "stream",
          "text": [
            "image.img_to_array(img) =  (350, 350, 3)\n",
            "np.expand_dims =  (1, 350, 350, 3)\n"
          ],
          "name": "stdout"
        },
        {
          "output_type": "stream",
          "text": [
            "\n",
            "\n",
            "\n",
            "\n",
            "\n",
            "\n",
            "\n",
            "\n",
            "\n",
            " 34%|███▍      | 96/283 [01:10<02:00,  1.55it/s]\u001b[A\u001b[A\u001b[A\u001b[A\u001b[A\u001b[A\u001b[A\u001b[A\u001b[A"
          ],
          "name": "stderr"
        },
        {
          "output_type": "stream",
          "text": [
            "image.img_to_array(img) =  (350, 350, 3)\n",
            "np.expand_dims =  (1, 350, 350, 3)\n"
          ],
          "name": "stdout"
        },
        {
          "output_type": "stream",
          "text": [
            "\n",
            "\n",
            "\n",
            "\n",
            "\n",
            "\n",
            "\n",
            "\n",
            "\n",
            " 34%|███▍      | 97/283 [01:10<02:00,  1.54it/s]\u001b[A\u001b[A\u001b[A\u001b[A\u001b[A\u001b[A\u001b[A\u001b[A\u001b[A"
          ],
          "name": "stderr"
        },
        {
          "output_type": "stream",
          "text": [
            "image.img_to_array(img) =  (350, 350, 3)\n",
            "np.expand_dims =  (1, 350, 350, 3)\n"
          ],
          "name": "stdout"
        },
        {
          "output_type": "stream",
          "text": [
            "\n",
            "\n",
            "\n",
            "\n",
            "\n",
            "\n",
            "\n",
            "\n",
            "\n",
            " 35%|███▍      | 98/283 [01:11<02:02,  1.51it/s]\u001b[A\u001b[A\u001b[A\u001b[A\u001b[A\u001b[A\u001b[A\u001b[A\u001b[A"
          ],
          "name": "stderr"
        },
        {
          "output_type": "stream",
          "text": [
            "image.img_to_array(img) =  (350, 350, 3)\n",
            "np.expand_dims =  (1, 350, 350, 3)\n"
          ],
          "name": "stdout"
        },
        {
          "output_type": "stream",
          "text": [
            "\n",
            "\n",
            "\n",
            "\n",
            "\n",
            "\n",
            "\n",
            "\n",
            "\n",
            " 35%|███▍      | 99/283 [01:12<02:00,  1.52it/s]\u001b[A\u001b[A\u001b[A\u001b[A\u001b[A\u001b[A\u001b[A\u001b[A\u001b[A"
          ],
          "name": "stderr"
        },
        {
          "output_type": "stream",
          "text": [
            "image.img_to_array(img) =  (350, 350, 3)\n",
            "np.expand_dims =  (1, 350, 350, 3)\n"
          ],
          "name": "stdout"
        },
        {
          "output_type": "stream",
          "text": [
            "\n",
            "\n",
            "\n",
            "\n",
            "\n",
            "\n",
            "\n",
            "\n",
            "\n",
            " 35%|███▌      | 100/283 [01:12<02:02,  1.50it/s]\u001b[A\u001b[A\u001b[A\u001b[A\u001b[A\u001b[A\u001b[A\u001b[A\u001b[A"
          ],
          "name": "stderr"
        },
        {
          "output_type": "stream",
          "text": [
            "image.img_to_array(img) =  (350, 350, 3)\n",
            "np.expand_dims =  (1, 350, 350, 3)\n"
          ],
          "name": "stdout"
        },
        {
          "output_type": "stream",
          "text": [
            "\n",
            "\n",
            "\n",
            "\n",
            "\n",
            "\n",
            "\n",
            "\n",
            "\n",
            " 36%|███▌      | 101/283 [01:13<01:47,  1.69it/s]\u001b[A\u001b[A\u001b[A\u001b[A\u001b[A\u001b[A\u001b[A\u001b[A\u001b[A"
          ],
          "name": "stderr"
        },
        {
          "output_type": "stream",
          "text": [
            "image.img_to_array(img) =  (350, 350, 3)\n",
            "np.expand_dims =  (1, 350, 350, 3)\n"
          ],
          "name": "stdout"
        },
        {
          "output_type": "stream",
          "text": [
            "\n",
            "\n",
            "\n",
            "\n",
            "\n",
            "\n",
            "\n",
            "\n",
            "\n",
            " 36%|███▌      | 102/283 [01:13<01:52,  1.61it/s]\u001b[A\u001b[A\u001b[A\u001b[A\u001b[A\u001b[A\u001b[A\u001b[A\u001b[A"
          ],
          "name": "stderr"
        },
        {
          "output_type": "stream",
          "text": [
            "image.img_to_array(img) =  (350, 350, 3)\n",
            "np.expand_dims =  (1, 350, 350, 3)\n"
          ],
          "name": "stdout"
        },
        {
          "output_type": "stream",
          "text": [
            "\n",
            "\n",
            "\n",
            "\n",
            "\n",
            "\n",
            "\n",
            "\n",
            "\n",
            " 36%|███▋      | 103/283 [01:14<02:05,  1.43it/s]\u001b[A\u001b[A\u001b[A\u001b[A\u001b[A\u001b[A\u001b[A\u001b[A\u001b[A"
          ],
          "name": "stderr"
        },
        {
          "output_type": "stream",
          "text": [
            "image.img_to_array(img) =  (350, 350, 3)\n",
            "np.expand_dims =  (1, 350, 350, 3)\n"
          ],
          "name": "stdout"
        },
        {
          "output_type": "stream",
          "text": [
            "\n",
            "\n",
            "\n",
            "\n",
            "\n",
            "\n",
            "\n",
            "\n",
            "\n",
            " 37%|███▋      | 104/283 [01:15<02:02,  1.46it/s]\u001b[A\u001b[A\u001b[A\u001b[A\u001b[A\u001b[A\u001b[A\u001b[A\u001b[A"
          ],
          "name": "stderr"
        },
        {
          "output_type": "stream",
          "text": [
            "image.img_to_array(img) =  (350, 350, 3)\n",
            "np.expand_dims =  (1, 350, 350, 3)\n"
          ],
          "name": "stdout"
        },
        {
          "output_type": "stream",
          "text": [
            "\n",
            "\n",
            "\n",
            "\n",
            "\n",
            "\n",
            "\n",
            "\n",
            "\n",
            " 37%|███▋      | 105/283 [01:16<02:01,  1.47it/s]\u001b[A\u001b[A\u001b[A\u001b[A\u001b[A\u001b[A\u001b[A\u001b[A\u001b[A"
          ],
          "name": "stderr"
        },
        {
          "output_type": "stream",
          "text": [
            "image.img_to_array(img) =  (350, 350, 3)\n",
            "np.expand_dims =  (1, 350, 350, 3)\n"
          ],
          "name": "stdout"
        },
        {
          "output_type": "stream",
          "text": [
            "\n",
            "\n",
            "\n",
            "\n",
            "\n",
            "\n",
            "\n",
            "\n",
            "\n",
            " 37%|███▋      | 106/283 [01:16<01:59,  1.48it/s]\u001b[A\u001b[A\u001b[A\u001b[A\u001b[A\u001b[A\u001b[A\u001b[A\u001b[A"
          ],
          "name": "stderr"
        },
        {
          "output_type": "stream",
          "text": [
            "image.img_to_array(img) =  (350, 350, 3)\n",
            "np.expand_dims =  (1, 350, 350, 3)\n"
          ],
          "name": "stdout"
        },
        {
          "output_type": "stream",
          "text": [
            "\n",
            "\n",
            "\n",
            "\n",
            "\n",
            "\n",
            "\n",
            "\n",
            "\n",
            " 38%|███▊      | 107/283 [01:17<01:45,  1.67it/s]\u001b[A\u001b[A\u001b[A\u001b[A\u001b[A\u001b[A\u001b[A\u001b[A\u001b[A"
          ],
          "name": "stderr"
        },
        {
          "output_type": "stream",
          "text": [
            "image.img_to_array(img) =  (350, 350, 3)\n",
            "np.expand_dims =  (1, 350, 350, 3)\n"
          ],
          "name": "stdout"
        },
        {
          "output_type": "stream",
          "text": [
            "\n",
            "\n",
            "\n",
            "\n",
            "\n",
            "\n",
            "\n",
            "\n",
            "\n",
            " 38%|███▊      | 108/283 [01:17<01:48,  1.62it/s]\u001b[A\u001b[A\u001b[A\u001b[A\u001b[A\u001b[A\u001b[A\u001b[A\u001b[A"
          ],
          "name": "stderr"
        },
        {
          "output_type": "stream",
          "text": [
            "image.img_to_array(img) =  (350, 350, 3)\n",
            "np.expand_dims =  (1, 350, 350, 3)\n"
          ],
          "name": "stdout"
        },
        {
          "output_type": "stream",
          "text": [
            "\n",
            "\n",
            "\n",
            "\n",
            "\n",
            "\n",
            "\n",
            "\n",
            "\n",
            " 39%|███▊      | 109/283 [01:18<01:37,  1.79it/s]\u001b[A\u001b[A\u001b[A\u001b[A\u001b[A\u001b[A\u001b[A\u001b[A\u001b[A"
          ],
          "name": "stderr"
        },
        {
          "output_type": "stream",
          "text": [
            "image.img_to_array(img) =  (350, 350, 3)\n",
            "np.expand_dims =  (1, 350, 350, 3)\n"
          ],
          "name": "stdout"
        },
        {
          "output_type": "stream",
          "text": [
            "\n",
            "\n",
            "\n",
            "\n",
            "\n",
            "\n",
            "\n",
            "\n",
            "\n",
            " 39%|███▉      | 110/283 [01:19<01:49,  1.58it/s]\u001b[A\u001b[A\u001b[A\u001b[A\u001b[A\u001b[A\u001b[A\u001b[A\u001b[A"
          ],
          "name": "stderr"
        },
        {
          "output_type": "stream",
          "text": [
            "image.img_to_array(img) =  (350, 350, 3)\n",
            "np.expand_dims =  (1, 350, 350, 3)\n"
          ],
          "name": "stdout"
        },
        {
          "output_type": "stream",
          "text": [
            "\n",
            "\n",
            "\n",
            "\n",
            "\n",
            "\n",
            "\n",
            "\n",
            "\n",
            " 39%|███▉      | 111/283 [01:19<01:38,  1.74it/s]\u001b[A\u001b[A\u001b[A\u001b[A\u001b[A\u001b[A\u001b[A\u001b[A\u001b[A"
          ],
          "name": "stderr"
        },
        {
          "output_type": "stream",
          "text": [
            "image.img_to_array(img) =  (350, 350, 3)\n",
            "np.expand_dims =  (1, 350, 350, 3)\n"
          ],
          "name": "stdout"
        },
        {
          "output_type": "stream",
          "text": [
            "\n",
            "\n",
            "\n",
            "\n",
            "\n",
            "\n",
            "\n",
            "\n",
            "\n",
            " 40%|███▉      | 112/283 [01:20<01:57,  1.46it/s]\u001b[A\u001b[A\u001b[A\u001b[A\u001b[A\u001b[A\u001b[A\u001b[A\u001b[A"
          ],
          "name": "stderr"
        },
        {
          "output_type": "stream",
          "text": [
            "image.img_to_array(img) =  (350, 350, 3)\n",
            "np.expand_dims =  (1, 350, 350, 3)\n"
          ],
          "name": "stdout"
        },
        {
          "output_type": "stream",
          "text": [
            "\n",
            "\n",
            "\n",
            "\n",
            "\n",
            "\n",
            "\n",
            "\n",
            "\n",
            " 40%|███▉      | 113/283 [01:21<01:54,  1.49it/s]\u001b[A\u001b[A\u001b[A\u001b[A\u001b[A\u001b[A\u001b[A\u001b[A\u001b[A"
          ],
          "name": "stderr"
        },
        {
          "output_type": "stream",
          "text": [
            "image.img_to_array(img) =  (350, 350, 3)\n",
            "np.expand_dims =  (1, 350, 350, 3)\n"
          ],
          "name": "stdout"
        },
        {
          "output_type": "stream",
          "text": [
            "\n",
            "\n",
            "\n",
            "\n",
            "\n",
            "\n",
            "\n",
            "\n",
            "\n",
            " 40%|████      | 114/283 [01:21<01:53,  1.49it/s]\u001b[A\u001b[A\u001b[A\u001b[A\u001b[A\u001b[A\u001b[A\u001b[A\u001b[A"
          ],
          "name": "stderr"
        },
        {
          "output_type": "stream",
          "text": [
            "image.img_to_array(img) =  (350, 350, 3)\n",
            "np.expand_dims =  (1, 350, 350, 3)\n"
          ],
          "name": "stdout"
        },
        {
          "output_type": "stream",
          "text": [
            "\n",
            "\n",
            "\n",
            "\n",
            "\n",
            "\n",
            "\n",
            "\n",
            "\n",
            " 41%|████      | 115/283 [01:22<01:59,  1.41it/s]\u001b[A\u001b[A\u001b[A\u001b[A\u001b[A\u001b[A\u001b[A\u001b[A\u001b[A"
          ],
          "name": "stderr"
        },
        {
          "output_type": "stream",
          "text": [
            "image.img_to_array(img) =  (350, 350, 3)\n",
            "np.expand_dims =  (1, 350, 350, 3)\n"
          ],
          "name": "stdout"
        },
        {
          "output_type": "stream",
          "text": [
            "\n",
            "\n",
            "\n",
            "\n",
            "\n",
            "\n",
            "\n",
            "\n",
            "\n",
            " 41%|████      | 116/283 [01:23<01:56,  1.43it/s]\u001b[A\u001b[A\u001b[A\u001b[A\u001b[A\u001b[A\u001b[A\u001b[A\u001b[A"
          ],
          "name": "stderr"
        },
        {
          "output_type": "stream",
          "text": [
            "image.img_to_array(img) =  (350, 350, 3)\n",
            "np.expand_dims =  (1, 350, 350, 3)\n"
          ],
          "name": "stdout"
        },
        {
          "output_type": "stream",
          "text": [
            "\n",
            "\n",
            "\n",
            "\n",
            "\n",
            "\n",
            "\n",
            "\n",
            "\n",
            " 41%|████▏     | 117/283 [01:24<01:54,  1.44it/s]\u001b[A\u001b[A\u001b[A\u001b[A\u001b[A\u001b[A\u001b[A\u001b[A\u001b[A"
          ],
          "name": "stderr"
        },
        {
          "output_type": "stream",
          "text": [
            "image.img_to_array(img) =  (350, 350, 3)\n",
            "np.expand_dims =  (1, 350, 350, 3)\n"
          ],
          "name": "stdout"
        },
        {
          "output_type": "stream",
          "text": [
            "\n",
            "\n",
            "\n",
            "\n",
            "\n",
            "\n",
            "\n",
            "\n",
            "\n",
            " 42%|████▏     | 118/283 [01:24<01:57,  1.41it/s]\u001b[A\u001b[A\u001b[A\u001b[A\u001b[A\u001b[A\u001b[A\u001b[A\u001b[A"
          ],
          "name": "stderr"
        },
        {
          "output_type": "stream",
          "text": [
            "image.img_to_array(img) =  (350, 350, 3)\n",
            "np.expand_dims =  (1, 350, 350, 3)\n"
          ],
          "name": "stdout"
        },
        {
          "output_type": "stream",
          "text": [
            "\n",
            "\n",
            "\n",
            "\n",
            "\n",
            "\n",
            "\n",
            "\n",
            "\n",
            " 42%|████▏     | 119/283 [01:25<01:52,  1.45it/s]\u001b[A\u001b[A\u001b[A\u001b[A\u001b[A\u001b[A\u001b[A\u001b[A\u001b[A"
          ],
          "name": "stderr"
        },
        {
          "output_type": "stream",
          "text": [
            "image.img_to_array(img) =  (350, 350, 3)\n",
            "np.expand_dims =  (1, 350, 350, 3)\n"
          ],
          "name": "stdout"
        },
        {
          "output_type": "stream",
          "text": [
            "\n",
            "\n",
            "\n",
            "\n",
            "\n",
            "\n",
            "\n",
            "\n",
            "\n",
            " 42%|████▏     | 120/283 [01:26<01:51,  1.46it/s]\u001b[A\u001b[A\u001b[A\u001b[A\u001b[A\u001b[A\u001b[A\u001b[A\u001b[A"
          ],
          "name": "stderr"
        },
        {
          "output_type": "stream",
          "text": [
            "image.img_to_array(img) =  (350, 350, 3)\n",
            "np.expand_dims =  (1, 350, 350, 3)\n"
          ],
          "name": "stdout"
        },
        {
          "output_type": "stream",
          "text": [
            "\n",
            "\n",
            "\n",
            "\n",
            "\n",
            "\n",
            "\n",
            "\n",
            "\n",
            " 43%|████▎     | 121/283 [01:26<01:49,  1.48it/s]\u001b[A\u001b[A\u001b[A\u001b[A\u001b[A\u001b[A\u001b[A\u001b[A\u001b[A"
          ],
          "name": "stderr"
        },
        {
          "output_type": "stream",
          "text": [
            "image.img_to_array(img) =  (350, 350, 3)\n",
            "np.expand_dims =  (1, 350, 350, 3)\n"
          ],
          "name": "stdout"
        },
        {
          "output_type": "stream",
          "text": [
            "\n",
            "\n",
            "\n",
            "\n",
            "\n",
            "\n",
            "\n",
            "\n",
            "\n",
            " 43%|████▎     | 122/283 [01:27<01:36,  1.66it/s]\u001b[A\u001b[A\u001b[A\u001b[A\u001b[A\u001b[A\u001b[A\u001b[A\u001b[A"
          ],
          "name": "stderr"
        },
        {
          "output_type": "stream",
          "text": [
            "image.img_to_array(img) =  (350, 350, 3)\n",
            "np.expand_dims =  (1, 350, 350, 3)\n"
          ],
          "name": "stdout"
        },
        {
          "output_type": "stream",
          "text": [
            "\n",
            "\n",
            "\n",
            "\n",
            "\n",
            "\n",
            "\n",
            "\n",
            "\n",
            " 43%|████▎     | 123/283 [01:27<01:38,  1.62it/s]\u001b[A\u001b[A\u001b[A\u001b[A\u001b[A\u001b[A\u001b[A\u001b[A\u001b[A"
          ],
          "name": "stderr"
        },
        {
          "output_type": "stream",
          "text": [
            "image.img_to_array(img) =  (350, 350, 3)\n",
            "np.expand_dims =  (1, 350, 350, 3)\n"
          ],
          "name": "stdout"
        },
        {
          "output_type": "stream",
          "text": [
            "\n",
            "\n",
            "\n",
            "\n",
            "\n",
            "\n",
            "\n",
            "\n",
            "\n",
            " 44%|████▍     | 124/283 [01:28<01:39,  1.59it/s]\u001b[A\u001b[A\u001b[A\u001b[A\u001b[A\u001b[A\u001b[A\u001b[A\u001b[A"
          ],
          "name": "stderr"
        },
        {
          "output_type": "stream",
          "text": [
            "image.img_to_array(img) =  (350, 350, 3)\n",
            "np.expand_dims =  (1, 350, 350, 3)\n"
          ],
          "name": "stdout"
        },
        {
          "output_type": "stream",
          "text": [
            "\n",
            "\n",
            "\n",
            "\n",
            "\n",
            "\n",
            "\n",
            "\n",
            "\n",
            " 44%|████▍     | 125/283 [01:28<01:29,  1.77it/s]\u001b[A\u001b[A\u001b[A\u001b[A\u001b[A\u001b[A\u001b[A\u001b[A\u001b[A"
          ],
          "name": "stderr"
        },
        {
          "output_type": "stream",
          "text": [
            "image.img_to_array(img) =  (350, 350, 3)\n",
            "np.expand_dims =  (1, 350, 350, 3)\n"
          ],
          "name": "stdout"
        },
        {
          "output_type": "stream",
          "text": [
            "\n",
            "\n",
            "\n",
            "\n",
            "\n",
            "\n",
            "\n",
            "\n",
            "\n",
            " 45%|████▍     | 126/283 [01:29<01:32,  1.70it/s]\u001b[A\u001b[A\u001b[A\u001b[A\u001b[A\u001b[A\u001b[A\u001b[A\u001b[A"
          ],
          "name": "stderr"
        },
        {
          "output_type": "stream",
          "text": [
            "image.img_to_array(img) =  (350, 350, 3)\n",
            "np.expand_dims =  (1, 350, 350, 3)\n"
          ],
          "name": "stdout"
        },
        {
          "output_type": "stream",
          "text": [
            "\n",
            "\n",
            "\n",
            "\n",
            "\n",
            "\n",
            "\n",
            "\n",
            "\n",
            " 45%|████▍     | 127/283 [01:30<01:35,  1.64it/s]\u001b[A\u001b[A\u001b[A\u001b[A\u001b[A\u001b[A\u001b[A\u001b[A\u001b[A"
          ],
          "name": "stderr"
        },
        {
          "output_type": "stream",
          "text": [
            "image.img_to_array(img) =  (350, 350, 3)\n",
            "np.expand_dims =  (1, 350, 350, 3)\n"
          ],
          "name": "stdout"
        },
        {
          "output_type": "stream",
          "text": [
            "\n",
            "\n",
            "\n",
            "\n",
            "\n",
            "\n",
            "\n",
            "\n",
            "\n",
            " 45%|████▌     | 128/283 [01:30<01:25,  1.81it/s]\u001b[A\u001b[A\u001b[A\u001b[A\u001b[A\u001b[A\u001b[A\u001b[A\u001b[A"
          ],
          "name": "stderr"
        },
        {
          "output_type": "stream",
          "text": [
            "image.img_to_array(img) =  (350, 350, 3)\n",
            "np.expand_dims =  (1, 350, 350, 3)\n"
          ],
          "name": "stdout"
        },
        {
          "output_type": "stream",
          "text": [
            "\n",
            "\n",
            "\n",
            "\n",
            "\n",
            "\n",
            "\n",
            "\n",
            "\n",
            " 46%|████▌     | 129/283 [01:31<01:30,  1.70it/s]\u001b[A\u001b[A\u001b[A\u001b[A\u001b[A\u001b[A\u001b[A\u001b[A\u001b[A"
          ],
          "name": "stderr"
        },
        {
          "output_type": "stream",
          "text": [
            "image.img_to_array(img) =  (350, 350, 3)\n",
            "np.expand_dims =  (1, 350, 350, 3)\n"
          ],
          "name": "stdout"
        },
        {
          "output_type": "stream",
          "text": [
            "\n",
            "\n",
            "\n",
            "\n",
            "\n",
            "\n",
            "\n",
            "\n",
            "\n",
            " 46%|████▌     | 130/283 [01:31<01:33,  1.63it/s]\u001b[A\u001b[A\u001b[A\u001b[A\u001b[A\u001b[A\u001b[A\u001b[A\u001b[A"
          ],
          "name": "stderr"
        },
        {
          "output_type": "stream",
          "text": [
            "image.img_to_array(img) =  (350, 350, 3)\n",
            "np.expand_dims =  (1, 350, 350, 3)\n"
          ],
          "name": "stdout"
        },
        {
          "output_type": "stream",
          "text": [
            "\n",
            "\n",
            "\n",
            "\n",
            "\n",
            "\n",
            "\n",
            "\n",
            "\n",
            " 46%|████▋     | 131/283 [01:32<01:35,  1.59it/s]\u001b[A\u001b[A\u001b[A\u001b[A\u001b[A\u001b[A\u001b[A\u001b[A\u001b[A"
          ],
          "name": "stderr"
        },
        {
          "output_type": "stream",
          "text": [
            "image.img_to_array(img) =  (350, 350, 3)\n",
            "np.expand_dims =  (1, 350, 350, 3)\n"
          ],
          "name": "stdout"
        },
        {
          "output_type": "stream",
          "text": [
            "\n",
            "\n",
            "\n",
            "\n",
            "\n",
            "\n",
            "\n",
            "\n",
            "\n",
            " 47%|████▋     | 132/283 [01:33<01:40,  1.50it/s]\u001b[A\u001b[A\u001b[A\u001b[A\u001b[A\u001b[A\u001b[A\u001b[A\u001b[A"
          ],
          "name": "stderr"
        },
        {
          "output_type": "stream",
          "text": [
            "image.img_to_array(img) =  (350, 350, 3)\n",
            "np.expand_dims =  (1, 350, 350, 3)\n"
          ],
          "name": "stdout"
        },
        {
          "output_type": "stream",
          "text": [
            "\n",
            "\n",
            "\n",
            "\n",
            "\n",
            "\n",
            "\n",
            "\n",
            "\n",
            " 47%|████▋     | 133/283 [01:34<01:45,  1.42it/s]\u001b[A\u001b[A\u001b[A\u001b[A\u001b[A\u001b[A\u001b[A\u001b[A\u001b[A"
          ],
          "name": "stderr"
        },
        {
          "output_type": "stream",
          "text": [
            "image.img_to_array(img) =  (350, 350, 3)\n",
            "np.expand_dims =  (1, 350, 350, 3)\n"
          ],
          "name": "stdout"
        },
        {
          "output_type": "stream",
          "text": [
            "\n",
            "\n",
            "\n",
            "\n",
            "\n",
            "\n",
            "\n",
            "\n",
            "\n",
            " 47%|████▋     | 134/283 [01:34<01:43,  1.44it/s]\u001b[A\u001b[A\u001b[A\u001b[A\u001b[A\u001b[A\u001b[A\u001b[A\u001b[A"
          ],
          "name": "stderr"
        },
        {
          "output_type": "stream",
          "text": [
            "image.img_to_array(img) =  (350, 350, 3)\n",
            "np.expand_dims =  (1, 350, 350, 3)\n"
          ],
          "name": "stdout"
        },
        {
          "output_type": "stream",
          "text": [
            "\n",
            "\n",
            "\n",
            "\n",
            "\n",
            "\n",
            "\n",
            "\n",
            "\n",
            " 48%|████▊     | 135/283 [01:35<01:40,  1.47it/s]\u001b[A\u001b[A\u001b[A\u001b[A\u001b[A\u001b[A\u001b[A\u001b[A\u001b[A"
          ],
          "name": "stderr"
        },
        {
          "output_type": "stream",
          "text": [
            "image.img_to_array(img) =  (350, 350, 3)\n",
            "np.expand_dims =  (1, 350, 350, 3)\n"
          ],
          "name": "stdout"
        },
        {
          "output_type": "stream",
          "text": [
            "\n",
            "\n",
            "\n",
            "\n",
            "\n",
            "\n",
            "\n",
            "\n",
            "\n",
            " 48%|████▊     | 136/283 [01:36<01:41,  1.45it/s]\u001b[A\u001b[A\u001b[A\u001b[A\u001b[A\u001b[A\u001b[A\u001b[A\u001b[A"
          ],
          "name": "stderr"
        },
        {
          "output_type": "stream",
          "text": [
            "image.img_to_array(img) =  (350, 350, 3)\n",
            "np.expand_dims =  (1, 350, 350, 3)\n"
          ],
          "name": "stdout"
        },
        {
          "output_type": "stream",
          "text": [
            "\n",
            "\n",
            "\n",
            "\n",
            "\n",
            "\n",
            "\n",
            "\n",
            "\n",
            " 48%|████▊     | 137/283 [01:36<01:28,  1.64it/s]\u001b[A\u001b[A\u001b[A\u001b[A\u001b[A\u001b[A\u001b[A\u001b[A\u001b[A"
          ],
          "name": "stderr"
        },
        {
          "output_type": "stream",
          "text": [
            "image.img_to_array(img) =  (350, 350, 3)\n",
            "np.expand_dims =  (1, 350, 350, 3)\n"
          ],
          "name": "stdout"
        },
        {
          "output_type": "stream",
          "text": [
            "\n",
            "\n",
            "\n",
            "\n",
            "\n",
            "\n",
            "\n",
            "\n",
            "\n",
            " 49%|████▉     | 138/283 [01:37<01:43,  1.40it/s]\u001b[A\u001b[A\u001b[A\u001b[A\u001b[A\u001b[A\u001b[A\u001b[A\u001b[A"
          ],
          "name": "stderr"
        },
        {
          "output_type": "stream",
          "text": [
            "image.img_to_array(img) =  (350, 350, 3)\n",
            "np.expand_dims =  (1, 350, 350, 3)\n"
          ],
          "name": "stdout"
        },
        {
          "output_type": "stream",
          "text": [
            "\n",
            "\n",
            "\n",
            "\n",
            "\n",
            "\n",
            "\n",
            "\n",
            "\n",
            " 49%|████▉     | 139/283 [01:38<01:39,  1.45it/s]\u001b[A\u001b[A\u001b[A\u001b[A\u001b[A\u001b[A\u001b[A\u001b[A\u001b[A"
          ],
          "name": "stderr"
        },
        {
          "output_type": "stream",
          "text": [
            "image.img_to_array(img) =  (350, 350, 3)\n",
            "np.expand_dims =  (1, 350, 350, 3)\n"
          ],
          "name": "stdout"
        },
        {
          "output_type": "stream",
          "text": [
            "\n",
            "\n",
            "\n",
            "\n",
            "\n",
            "\n",
            "\n",
            "\n",
            "\n",
            " 49%|████▉     | 140/283 [01:38<01:42,  1.40it/s]\u001b[A\u001b[A\u001b[A\u001b[A\u001b[A\u001b[A\u001b[A\u001b[A\u001b[A"
          ],
          "name": "stderr"
        },
        {
          "output_type": "stream",
          "text": [
            "image.img_to_array(img) =  (350, 350, 3)\n",
            "np.expand_dims =  (1, 350, 350, 3)\n"
          ],
          "name": "stdout"
        },
        {
          "output_type": "stream",
          "text": [
            "\n",
            "\n",
            "\n",
            "\n",
            "\n",
            "\n",
            "\n",
            "\n",
            "\n",
            " 50%|████▉     | 141/283 [01:39<01:40,  1.41it/s]\u001b[A\u001b[A\u001b[A\u001b[A\u001b[A\u001b[A\u001b[A\u001b[A\u001b[A"
          ],
          "name": "stderr"
        },
        {
          "output_type": "stream",
          "text": [
            "image.img_to_array(img) =  (350, 350, 3)\n",
            "np.expand_dims =  (1, 350, 350, 3)\n"
          ],
          "name": "stdout"
        },
        {
          "output_type": "stream",
          "text": [
            "\n",
            "\n",
            "\n",
            "\n",
            "\n",
            "\n",
            "\n",
            "\n",
            "\n",
            " 50%|█████     | 142/283 [01:40<01:37,  1.44it/s]\u001b[A\u001b[A\u001b[A\u001b[A\u001b[A\u001b[A\u001b[A\u001b[A\u001b[A"
          ],
          "name": "stderr"
        },
        {
          "output_type": "stream",
          "text": [
            "image.img_to_array(img) =  (350, 350, 3)\n",
            "np.expand_dims =  (1, 350, 350, 3)\n"
          ],
          "name": "stdout"
        },
        {
          "output_type": "stream",
          "text": [
            "\n",
            "\n",
            "\n",
            "\n",
            "\n",
            "\n",
            "\n",
            "\n",
            "\n",
            " 51%|█████     | 143/283 [01:41<01:45,  1.33it/s]\u001b[A\u001b[A\u001b[A\u001b[A\u001b[A\u001b[A\u001b[A\u001b[A\u001b[A"
          ],
          "name": "stderr"
        },
        {
          "output_type": "stream",
          "text": [
            "image.img_to_array(img) =  (350, 350, 3)\n",
            "np.expand_dims =  (1, 350, 350, 3)\n"
          ],
          "name": "stdout"
        },
        {
          "output_type": "stream",
          "text": [
            "\n",
            "\n",
            "\n",
            "\n",
            "\n",
            "\n",
            "\n",
            "\n",
            "\n",
            " 51%|█████     | 144/283 [01:42<01:46,  1.30it/s]\u001b[A\u001b[A\u001b[A\u001b[A\u001b[A\u001b[A\u001b[A\u001b[A\u001b[A"
          ],
          "name": "stderr"
        },
        {
          "output_type": "stream",
          "text": [
            "image.img_to_array(img) =  (350, 350, 3)\n",
            "np.expand_dims =  (1, 350, 350, 3)\n"
          ],
          "name": "stdout"
        },
        {
          "output_type": "stream",
          "text": [
            "\n",
            "\n",
            "\n",
            "\n",
            "\n",
            "\n",
            "\n",
            "\n",
            "\n",
            " 51%|█████     | 145/283 [01:42<01:43,  1.34it/s]\u001b[A\u001b[A\u001b[A\u001b[A\u001b[A\u001b[A\u001b[A\u001b[A\u001b[A"
          ],
          "name": "stderr"
        },
        {
          "output_type": "stream",
          "text": [
            "image.img_to_array(img) =  (350, 350, 3)\n",
            "np.expand_dims =  (1, 350, 350, 3)\n"
          ],
          "name": "stdout"
        },
        {
          "output_type": "stream",
          "text": [
            "\n",
            "\n",
            "\n",
            "\n",
            "\n",
            "\n",
            "\n",
            "\n",
            "\n",
            " 52%|█████▏    | 146/283 [01:43<01:42,  1.34it/s]\u001b[A\u001b[A\u001b[A\u001b[A\u001b[A\u001b[A\u001b[A\u001b[A\u001b[A"
          ],
          "name": "stderr"
        },
        {
          "output_type": "stream",
          "text": [
            "image.img_to_array(img) =  (350, 350, 3)\n",
            "np.expand_dims =  (1, 350, 350, 3)\n"
          ],
          "name": "stdout"
        },
        {
          "output_type": "stream",
          "text": [
            "\n",
            "\n",
            "\n",
            "\n",
            "\n",
            "\n",
            "\n",
            "\n",
            "\n",
            " 52%|█████▏    | 147/283 [01:44<01:37,  1.40it/s]\u001b[A\u001b[A\u001b[A\u001b[A\u001b[A\u001b[A\u001b[A\u001b[A\u001b[A"
          ],
          "name": "stderr"
        },
        {
          "output_type": "stream",
          "text": [
            "image.img_to_array(img) =  (350, 350, 3)\n",
            "np.expand_dims =  (1, 350, 350, 3)\n"
          ],
          "name": "stdout"
        },
        {
          "output_type": "stream",
          "text": [
            "\n",
            "\n",
            "\n",
            "\n",
            "\n",
            "\n",
            "\n",
            "\n",
            "\n",
            " 52%|█████▏    | 148/283 [01:45<01:46,  1.26it/s]\u001b[A\u001b[A\u001b[A\u001b[A\u001b[A\u001b[A\u001b[A\u001b[A\u001b[A"
          ],
          "name": "stderr"
        },
        {
          "output_type": "stream",
          "text": [
            "image.img_to_array(img) =  (350, 350, 3)\n",
            "np.expand_dims =  (1, 350, 350, 3)\n"
          ],
          "name": "stdout"
        },
        {
          "output_type": "stream",
          "text": [
            "\n",
            "\n",
            "\n",
            "\n",
            "\n",
            "\n",
            "\n",
            "\n",
            "\n",
            " 53%|█████▎    | 149/283 [01:45<01:41,  1.32it/s]\u001b[A\u001b[A\u001b[A\u001b[A\u001b[A\u001b[A\u001b[A\u001b[A\u001b[A"
          ],
          "name": "stderr"
        },
        {
          "output_type": "stream",
          "text": [
            "image.img_to_array(img) =  (350, 350, 3)\n",
            "np.expand_dims =  (1, 350, 350, 3)\n"
          ],
          "name": "stdout"
        },
        {
          "output_type": "stream",
          "text": [
            "\n",
            "\n",
            "\n",
            "\n",
            "\n",
            "\n",
            "\n",
            "\n",
            "\n",
            " 53%|█████▎    | 150/283 [01:46<01:27,  1.53it/s]\u001b[A\u001b[A\u001b[A\u001b[A\u001b[A\u001b[A\u001b[A\u001b[A\u001b[A"
          ],
          "name": "stderr"
        },
        {
          "output_type": "stream",
          "text": [
            "image.img_to_array(img) =  (350, 350, 3)\n",
            "np.expand_dims =  (1, 350, 350, 3)\n"
          ],
          "name": "stdout"
        },
        {
          "output_type": "stream",
          "text": [
            "\n",
            "\n",
            "\n",
            "\n",
            "\n",
            "\n",
            "\n",
            "\n",
            "\n",
            " 53%|█████▎    | 151/283 [01:46<01:17,  1.71it/s]\u001b[A\u001b[A\u001b[A\u001b[A\u001b[A\u001b[A\u001b[A\u001b[A\u001b[A"
          ],
          "name": "stderr"
        },
        {
          "output_type": "stream",
          "text": [
            "image.img_to_array(img) =  (350, 350, 3)\n",
            "np.expand_dims =  (1, 350, 350, 3)\n"
          ],
          "name": "stdout"
        },
        {
          "output_type": "stream",
          "text": [
            "\n",
            "\n",
            "\n",
            "\n",
            "\n",
            "\n",
            "\n",
            "\n",
            "\n",
            " 54%|█████▎    | 152/283 [01:47<01:10,  1.87it/s]\u001b[A\u001b[A\u001b[A\u001b[A\u001b[A\u001b[A\u001b[A\u001b[A\u001b[A"
          ],
          "name": "stderr"
        },
        {
          "output_type": "stream",
          "text": [
            "image.img_to_array(img) =  (350, 350, 3)\n",
            "np.expand_dims =  (1, 350, 350, 3)\n"
          ],
          "name": "stdout"
        },
        {
          "output_type": "stream",
          "text": [
            "\n",
            "\n",
            "\n",
            "\n",
            "\n",
            "\n",
            "\n",
            "\n",
            "\n",
            " 54%|█████▍    | 153/283 [01:47<01:06,  1.97it/s]\u001b[A\u001b[A\u001b[A\u001b[A\u001b[A\u001b[A\u001b[A\u001b[A\u001b[A"
          ],
          "name": "stderr"
        },
        {
          "output_type": "stream",
          "text": [
            "image.img_to_array(img) =  (350, 350, 3)\n",
            "np.expand_dims =  (1, 350, 350, 3)\n"
          ],
          "name": "stdout"
        },
        {
          "output_type": "stream",
          "text": [
            "\n",
            "\n",
            "\n",
            "\n",
            "\n",
            "\n",
            "\n",
            "\n",
            "\n",
            " 54%|█████▍    | 154/283 [01:48<01:16,  1.69it/s]\u001b[A\u001b[A\u001b[A\u001b[A\u001b[A\u001b[A\u001b[A\u001b[A\u001b[A"
          ],
          "name": "stderr"
        },
        {
          "output_type": "stream",
          "text": [
            "image.img_to_array(img) =  (350, 350, 3)\n",
            "np.expand_dims =  (1, 350, 350, 3)\n"
          ],
          "name": "stdout"
        },
        {
          "output_type": "stream",
          "text": [
            "\n",
            "\n",
            "\n",
            "\n",
            "\n",
            "\n",
            "\n",
            "\n",
            "\n",
            " 55%|█████▍    | 155/283 [01:48<01:17,  1.66it/s]\u001b[A\u001b[A\u001b[A\u001b[A\u001b[A\u001b[A\u001b[A\u001b[A\u001b[A"
          ],
          "name": "stderr"
        },
        {
          "output_type": "stream",
          "text": [
            "image.img_to_array(img) =  (350, 350, 3)\n",
            "np.expand_dims =  (1, 350, 350, 3)\n"
          ],
          "name": "stdout"
        },
        {
          "output_type": "stream",
          "text": [
            "\n",
            "\n",
            "\n",
            "\n",
            "\n",
            "\n",
            "\n",
            "\n",
            "\n",
            " 55%|█████▌    | 156/283 [01:49<01:18,  1.62it/s]\u001b[A\u001b[A\u001b[A\u001b[A\u001b[A\u001b[A\u001b[A\u001b[A\u001b[A"
          ],
          "name": "stderr"
        },
        {
          "output_type": "stream",
          "text": [
            "image.img_to_array(img) =  (350, 350, 3)\n",
            "np.expand_dims =  (1, 350, 350, 3)\n"
          ],
          "name": "stdout"
        },
        {
          "output_type": "stream",
          "text": [
            "\n",
            "\n",
            "\n",
            "\n",
            "\n",
            "\n",
            "\n",
            "\n",
            "\n",
            " 55%|█████▌    | 157/283 [01:50<01:25,  1.48it/s]\u001b[A\u001b[A\u001b[A\u001b[A\u001b[A\u001b[A\u001b[A\u001b[A\u001b[A"
          ],
          "name": "stderr"
        },
        {
          "output_type": "stream",
          "text": [
            "image.img_to_array(img) =  (350, 350, 3)\n",
            "np.expand_dims =  (1, 350, 350, 3)\n"
          ],
          "name": "stdout"
        },
        {
          "output_type": "stream",
          "text": [
            "\n",
            "\n",
            "\n",
            "\n",
            "\n",
            "\n",
            "\n",
            "\n",
            "\n",
            " 56%|█████▌    | 158/283 [01:51<01:28,  1.42it/s]\u001b[A\u001b[A\u001b[A\u001b[A\u001b[A\u001b[A\u001b[A\u001b[A\u001b[A"
          ],
          "name": "stderr"
        },
        {
          "output_type": "stream",
          "text": [
            "image.img_to_array(img) =  (350, 350, 3)\n",
            "np.expand_dims =  (1, 350, 350, 3)\n"
          ],
          "name": "stdout"
        },
        {
          "output_type": "stream",
          "text": [
            "\n",
            "\n",
            "\n",
            "\n",
            "\n",
            "\n",
            "\n",
            "\n",
            "\n",
            " 56%|█████▌    | 159/283 [01:52<01:38,  1.26it/s]\u001b[A\u001b[A\u001b[A\u001b[A\u001b[A\u001b[A\u001b[A\u001b[A\u001b[A"
          ],
          "name": "stderr"
        },
        {
          "output_type": "stream",
          "text": [
            "image.img_to_array(img) =  (350, 350, 3)\n",
            "np.expand_dims =  (1, 350, 350, 3)\n"
          ],
          "name": "stdout"
        },
        {
          "output_type": "stream",
          "text": [
            "\n",
            "\n",
            "\n",
            "\n",
            "\n",
            "\n",
            "\n",
            "\n",
            "\n",
            " 57%|█████▋    | 160/283 [01:52<01:33,  1.32it/s]\u001b[A\u001b[A\u001b[A\u001b[A\u001b[A\u001b[A\u001b[A\u001b[A\u001b[A"
          ],
          "name": "stderr"
        },
        {
          "output_type": "stream",
          "text": [
            "image.img_to_array(img) =  (350, 350, 3)\n",
            "np.expand_dims =  (1, 350, 350, 3)\n"
          ],
          "name": "stdout"
        },
        {
          "output_type": "stream",
          "text": [
            "\n",
            "\n",
            "\n",
            "\n",
            "\n",
            "\n",
            "\n",
            "\n",
            "\n",
            " 57%|█████▋    | 161/283 [01:53<01:28,  1.37it/s]\u001b[A\u001b[A\u001b[A\u001b[A\u001b[A\u001b[A\u001b[A\u001b[A\u001b[A"
          ],
          "name": "stderr"
        },
        {
          "output_type": "stream",
          "text": [
            "image.img_to_array(img) =  (350, 350, 3)\n",
            "np.expand_dims =  (1, 350, 350, 3)\n"
          ],
          "name": "stdout"
        },
        {
          "output_type": "stream",
          "text": [
            "\n",
            "\n",
            "\n",
            "\n",
            "\n",
            "\n",
            "\n",
            "\n",
            "\n",
            " 57%|█████▋    | 162/283 [01:54<01:27,  1.38it/s]\u001b[A\u001b[A\u001b[A\u001b[A\u001b[A\u001b[A\u001b[A\u001b[A\u001b[A"
          ],
          "name": "stderr"
        },
        {
          "output_type": "stream",
          "text": [
            "image.img_to_array(img) =  (350, 350, 3)\n",
            "np.expand_dims =  (1, 350, 350, 3)\n"
          ],
          "name": "stdout"
        },
        {
          "output_type": "stream",
          "text": [
            "\n",
            "\n",
            "\n",
            "\n",
            "\n",
            "\n",
            "\n",
            "\n",
            "\n",
            " 58%|█████▊    | 163/283 [01:55<01:32,  1.29it/s]\u001b[A\u001b[A\u001b[A\u001b[A\u001b[A\u001b[A\u001b[A\u001b[A\u001b[A"
          ],
          "name": "stderr"
        },
        {
          "output_type": "stream",
          "text": [
            "image.img_to_array(img) =  (350, 350, 3)\n",
            "np.expand_dims =  (1, 350, 350, 3)\n"
          ],
          "name": "stdout"
        },
        {
          "output_type": "stream",
          "text": [
            "\n",
            "\n",
            "\n",
            "\n",
            "\n",
            "\n",
            "\n",
            "\n",
            "\n",
            " 58%|█████▊    | 164/283 [01:55<01:20,  1.48it/s]\u001b[A\u001b[A\u001b[A\u001b[A\u001b[A\u001b[A\u001b[A\u001b[A\u001b[A"
          ],
          "name": "stderr"
        },
        {
          "output_type": "stream",
          "text": [
            "image.img_to_array(img) =  (350, 350, 3)\n",
            "np.expand_dims =  (1, 350, 350, 3)\n"
          ],
          "name": "stdout"
        },
        {
          "output_type": "stream",
          "text": [
            "\n",
            "\n",
            "\n",
            "\n",
            "\n",
            "\n",
            "\n",
            "\n",
            "\n",
            " 58%|█████▊    | 165/283 [01:56<01:19,  1.48it/s]\u001b[A\u001b[A\u001b[A\u001b[A\u001b[A\u001b[A\u001b[A\u001b[A\u001b[A"
          ],
          "name": "stderr"
        },
        {
          "output_type": "stream",
          "text": [
            "image.img_to_array(img) =  (350, 350, 3)\n",
            "np.expand_dims =  (1, 350, 350, 3)\n"
          ],
          "name": "stdout"
        },
        {
          "output_type": "stream",
          "text": [
            "\n",
            "\n",
            "\n",
            "\n",
            "\n",
            "\n",
            "\n",
            "\n",
            "\n",
            " 59%|█████▊    | 166/283 [01:56<01:18,  1.49it/s]\u001b[A\u001b[A\u001b[A\u001b[A\u001b[A\u001b[A\u001b[A\u001b[A\u001b[A"
          ],
          "name": "stderr"
        },
        {
          "output_type": "stream",
          "text": [
            "image.img_to_array(img) =  (350, 350, 3)\n",
            "np.expand_dims =  (1, 350, 350, 3)\n"
          ],
          "name": "stdout"
        },
        {
          "output_type": "stream",
          "text": [
            "\n",
            "\n",
            "\n",
            "\n",
            "\n",
            "\n",
            "\n",
            "\n",
            "\n",
            " 59%|█████▉    | 167/283 [01:57<01:17,  1.51it/s]\u001b[A\u001b[A\u001b[A\u001b[A\u001b[A\u001b[A\u001b[A\u001b[A\u001b[A"
          ],
          "name": "stderr"
        },
        {
          "output_type": "stream",
          "text": [
            "image.img_to_array(img) =  (350, 350, 3)\n",
            "np.expand_dims =  (1, 350, 350, 3)\n"
          ],
          "name": "stdout"
        },
        {
          "output_type": "stream",
          "text": [
            "\n",
            "\n",
            "\n",
            "\n",
            "\n",
            "\n",
            "\n",
            "\n",
            "\n",
            " 59%|█████▉    | 168/283 [01:57<01:08,  1.69it/s]\u001b[A\u001b[A\u001b[A\u001b[A\u001b[A\u001b[A\u001b[A\u001b[A\u001b[A"
          ],
          "name": "stderr"
        },
        {
          "output_type": "stream",
          "text": [
            "image.img_to_array(img) =  (350, 350, 3)\n",
            "np.expand_dims =  (1, 350, 350, 3)\n"
          ],
          "name": "stdout"
        },
        {
          "output_type": "stream",
          "text": [
            "\n",
            "\n",
            "\n",
            "\n",
            "\n",
            "\n",
            "\n",
            "\n",
            "\n",
            " 60%|█████▉    | 169/283 [01:58<01:14,  1.53it/s]\u001b[A\u001b[A\u001b[A\u001b[A\u001b[A\u001b[A\u001b[A\u001b[A\u001b[A"
          ],
          "name": "stderr"
        },
        {
          "output_type": "stream",
          "text": [
            "image.img_to_array(img) =  (350, 350, 3)\n",
            "np.expand_dims =  (1, 350, 350, 3)\n"
          ],
          "name": "stdout"
        },
        {
          "output_type": "stream",
          "text": [
            "\n",
            "\n",
            "\n",
            "\n",
            "\n",
            "\n",
            "\n",
            "\n",
            "\n",
            " 60%|██████    | 170/283 [01:59<01:14,  1.52it/s]\u001b[A\u001b[A\u001b[A\u001b[A\u001b[A\u001b[A\u001b[A\u001b[A\u001b[A"
          ],
          "name": "stderr"
        },
        {
          "output_type": "stream",
          "text": [
            "image.img_to_array(img) =  (350, 350, 3)\n",
            "np.expand_dims =  (1, 350, 350, 3)\n"
          ],
          "name": "stdout"
        },
        {
          "output_type": "stream",
          "text": [
            "\n",
            "\n",
            "\n",
            "\n",
            "\n",
            "\n",
            "\n",
            "\n",
            "\n",
            " 60%|██████    | 171/283 [02:00<01:15,  1.49it/s]\u001b[A\u001b[A\u001b[A\u001b[A\u001b[A\u001b[A\u001b[A\u001b[A\u001b[A"
          ],
          "name": "stderr"
        },
        {
          "output_type": "stream",
          "text": [
            "image.img_to_array(img) =  (350, 350, 3)\n",
            "np.expand_dims =  (1, 350, 350, 3)\n"
          ],
          "name": "stdout"
        },
        {
          "output_type": "stream",
          "text": [
            "\n",
            "\n",
            "\n",
            "\n",
            "\n",
            "\n",
            "\n",
            "\n",
            "\n",
            " 61%|██████    | 172/283 [02:00<01:06,  1.66it/s]\u001b[A\u001b[A\u001b[A\u001b[A\u001b[A\u001b[A\u001b[A\u001b[A\u001b[A"
          ],
          "name": "stderr"
        },
        {
          "output_type": "stream",
          "text": [
            "image.img_to_array(img) =  (350, 350, 3)\n",
            "np.expand_dims =  (1, 350, 350, 3)\n"
          ],
          "name": "stdout"
        },
        {
          "output_type": "stream",
          "text": [
            "\n",
            "\n",
            "\n",
            "\n",
            "\n",
            "\n",
            "\n",
            "\n",
            "\n",
            " 61%|██████    | 173/283 [02:01<01:13,  1.50it/s]\u001b[A\u001b[A\u001b[A\u001b[A\u001b[A\u001b[A\u001b[A\u001b[A\u001b[A"
          ],
          "name": "stderr"
        },
        {
          "output_type": "stream",
          "text": [
            "image.img_to_array(img) =  (350, 350, 3)\n",
            "np.expand_dims =  (1, 350, 350, 3)\n"
          ],
          "name": "stdout"
        },
        {
          "output_type": "stream",
          "text": [
            "\n",
            "\n",
            "\n",
            "\n",
            "\n",
            "\n",
            "\n",
            "\n",
            "\n",
            " 61%|██████▏   | 174/283 [02:01<01:12,  1.51it/s]\u001b[A\u001b[A\u001b[A\u001b[A\u001b[A\u001b[A\u001b[A\u001b[A\u001b[A"
          ],
          "name": "stderr"
        },
        {
          "output_type": "stream",
          "text": [
            "image.img_to_array(img) =  (350, 350, 3)\n",
            "np.expand_dims =  (1, 350, 350, 3)\n"
          ],
          "name": "stdout"
        },
        {
          "output_type": "stream",
          "text": [
            "\n",
            "\n",
            "\n",
            "\n",
            "\n",
            "\n",
            "\n",
            "\n",
            "\n",
            " 62%|██████▏   | 175/283 [02:02<01:11,  1.51it/s]\u001b[A\u001b[A\u001b[A\u001b[A\u001b[A\u001b[A\u001b[A\u001b[A\u001b[A"
          ],
          "name": "stderr"
        },
        {
          "output_type": "stream",
          "text": [
            "image.img_to_array(img) =  (350, 350, 3)\n",
            "np.expand_dims =  (1, 350, 350, 3)\n"
          ],
          "name": "stdout"
        },
        {
          "output_type": "stream",
          "text": [
            "\n",
            "\n",
            "\n",
            "\n",
            "\n",
            "\n",
            "\n",
            "\n",
            "\n",
            " 62%|██████▏   | 176/283 [02:03<01:10,  1.51it/s]\u001b[A\u001b[A\u001b[A\u001b[A\u001b[A\u001b[A\u001b[A\u001b[A\u001b[A"
          ],
          "name": "stderr"
        },
        {
          "output_type": "stream",
          "text": [
            "image.img_to_array(img) =  (350, 350, 3)\n",
            "np.expand_dims =  (1, 350, 350, 3)\n"
          ],
          "name": "stdout"
        },
        {
          "output_type": "stream",
          "text": [
            "\n",
            "\n",
            "\n",
            "\n",
            "\n",
            "\n",
            "\n",
            "\n",
            "\n",
            " 63%|██████▎   | 177/283 [02:03<01:09,  1.52it/s]\u001b[A\u001b[A\u001b[A\u001b[A\u001b[A\u001b[A\u001b[A\u001b[A\u001b[A"
          ],
          "name": "stderr"
        },
        {
          "output_type": "stream",
          "text": [
            "image.img_to_array(img) =  (350, 350, 3)\n",
            "np.expand_dims =  (1, 350, 350, 3)\n"
          ],
          "name": "stdout"
        },
        {
          "output_type": "stream",
          "text": [
            "\n",
            "\n",
            "\n",
            "\n",
            "\n",
            "\n",
            "\n",
            "\n",
            "\n",
            " 63%|██████▎   | 178/283 [02:04<01:11,  1.47it/s]\u001b[A\u001b[A\u001b[A\u001b[A\u001b[A\u001b[A\u001b[A\u001b[A\u001b[A"
          ],
          "name": "stderr"
        },
        {
          "output_type": "stream",
          "text": [
            "image.img_to_array(img) =  (350, 350, 3)\n",
            "np.expand_dims =  (1, 350, 350, 3)\n"
          ],
          "name": "stdout"
        },
        {
          "output_type": "stream",
          "text": [
            "\n",
            "\n",
            "\n",
            "\n",
            "\n",
            "\n",
            "\n",
            "\n",
            "\n",
            " 63%|██████▎   | 179/283 [02:05<01:02,  1.66it/s]\u001b[A\u001b[A\u001b[A\u001b[A\u001b[A\u001b[A\u001b[A\u001b[A\u001b[A"
          ],
          "name": "stderr"
        },
        {
          "output_type": "stream",
          "text": [
            "image.img_to_array(img) =  (350, 350, 3)\n",
            "np.expand_dims =  (1, 350, 350, 3)\n"
          ],
          "name": "stdout"
        },
        {
          "output_type": "stream",
          "text": [
            "\n",
            "\n",
            "\n",
            "\n",
            "\n",
            "\n",
            "\n",
            "\n",
            "\n",
            " 64%|██████▎   | 180/283 [02:05<01:03,  1.62it/s]\u001b[A\u001b[A\u001b[A\u001b[A\u001b[A\u001b[A\u001b[A\u001b[A\u001b[A"
          ],
          "name": "stderr"
        },
        {
          "output_type": "stream",
          "text": [
            "image.img_to_array(img) =  (350, 350, 3)\n",
            "np.expand_dims =  (1, 350, 350, 3)\n"
          ],
          "name": "stdout"
        },
        {
          "output_type": "stream",
          "text": [
            "\n",
            "\n",
            "\n",
            "\n",
            "\n",
            "\n",
            "\n",
            "\n",
            "\n",
            " 64%|██████▍   | 181/283 [02:06<01:04,  1.59it/s]\u001b[A\u001b[A\u001b[A\u001b[A\u001b[A\u001b[A\u001b[A\u001b[A\u001b[A"
          ],
          "name": "stderr"
        },
        {
          "output_type": "stream",
          "text": [
            "image.img_to_array(img) =  (350, 350, 3)\n",
            "np.expand_dims =  (1, 350, 350, 3)\n"
          ],
          "name": "stdout"
        },
        {
          "output_type": "stream",
          "text": [
            "\n",
            "\n",
            "\n",
            "\n",
            "\n",
            "\n",
            "\n",
            "\n",
            "\n",
            " 64%|██████▍   | 182/283 [02:07<01:05,  1.53it/s]\u001b[A\u001b[A\u001b[A\u001b[A\u001b[A\u001b[A\u001b[A\u001b[A\u001b[A"
          ],
          "name": "stderr"
        },
        {
          "output_type": "stream",
          "text": [
            "image.img_to_array(img) =  (350, 350, 3)\n",
            "np.expand_dims =  (1, 350, 350, 3)\n"
          ],
          "name": "stdout"
        },
        {
          "output_type": "stream",
          "text": [
            "\n",
            "\n",
            "\n",
            "\n",
            "\n",
            "\n",
            "\n",
            "\n",
            "\n",
            " 65%|██████▍   | 183/283 [02:07<01:05,  1.53it/s]\u001b[A\u001b[A\u001b[A\u001b[A\u001b[A\u001b[A\u001b[A\u001b[A\u001b[A"
          ],
          "name": "stderr"
        },
        {
          "output_type": "stream",
          "text": [
            "image.img_to_array(img) =  (350, 350, 3)\n",
            "np.expand_dims =  (1, 350, 350, 3)\n"
          ],
          "name": "stdout"
        },
        {
          "output_type": "stream",
          "text": [
            "\n",
            "\n",
            "\n",
            "\n",
            "\n",
            "\n",
            "\n",
            "\n",
            "\n",
            " 65%|██████▌   | 184/283 [02:08<01:04,  1.53it/s]\u001b[A\u001b[A\u001b[A\u001b[A\u001b[A\u001b[A\u001b[A\u001b[A\u001b[A"
          ],
          "name": "stderr"
        },
        {
          "output_type": "stream",
          "text": [
            "image.img_to_array(img) =  (350, 350, 3)\n",
            "np.expand_dims =  (1, 350, 350, 3)\n"
          ],
          "name": "stdout"
        },
        {
          "output_type": "stream",
          "text": [
            "\n",
            "\n",
            "\n",
            "\n",
            "\n",
            "\n",
            "\n",
            "\n",
            "\n",
            " 65%|██████▌   | 185/283 [02:09<01:03,  1.55it/s]\u001b[A\u001b[A\u001b[A\u001b[A\u001b[A\u001b[A\u001b[A\u001b[A\u001b[A"
          ],
          "name": "stderr"
        },
        {
          "output_type": "stream",
          "text": [
            "image.img_to_array(img) =  (350, 350, 3)\n",
            "np.expand_dims =  (1, 350, 350, 3)\n"
          ],
          "name": "stdout"
        },
        {
          "output_type": "stream",
          "text": [
            "\n",
            "\n",
            "\n",
            "\n",
            "\n",
            "\n",
            "\n",
            "\n",
            "\n",
            " 66%|██████▌   | 186/283 [02:09<01:02,  1.54it/s]\u001b[A\u001b[A\u001b[A\u001b[A\u001b[A\u001b[A\u001b[A\u001b[A\u001b[A"
          ],
          "name": "stderr"
        },
        {
          "output_type": "stream",
          "text": [
            "image.img_to_array(img) =  (350, 350, 3)\n",
            "np.expand_dims =  (1, 350, 350, 3)\n"
          ],
          "name": "stdout"
        },
        {
          "output_type": "stream",
          "text": [
            "\n",
            "\n",
            "\n",
            "\n",
            "\n",
            "\n",
            "\n",
            "\n",
            "\n",
            " 66%|██████▌   | 187/283 [02:10<00:56,  1.71it/s]\u001b[A\u001b[A\u001b[A\u001b[A\u001b[A\u001b[A\u001b[A\u001b[A\u001b[A"
          ],
          "name": "stderr"
        },
        {
          "output_type": "stream",
          "text": [
            "image.img_to_array(img) =  (350, 350, 3)\n",
            "np.expand_dims =  (1, 350, 350, 3)\n"
          ],
          "name": "stdout"
        },
        {
          "output_type": "stream",
          "text": [
            "\n",
            "\n",
            "\n",
            "\n",
            "\n",
            "\n",
            "\n",
            "\n",
            "\n",
            " 66%|██████▋   | 188/283 [02:10<00:58,  1.64it/s]\u001b[A\u001b[A\u001b[A\u001b[A\u001b[A\u001b[A\u001b[A\u001b[A\u001b[A"
          ],
          "name": "stderr"
        },
        {
          "output_type": "stream",
          "text": [
            "image.img_to_array(img) =  (350, 350, 3)\n",
            "np.expand_dims =  (1, 350, 350, 3)\n"
          ],
          "name": "stdout"
        },
        {
          "output_type": "stream",
          "text": [
            "\n",
            "\n",
            "\n",
            "\n",
            "\n",
            "\n",
            "\n",
            "\n",
            "\n",
            " 67%|██████▋   | 189/283 [02:11<00:58,  1.61it/s]\u001b[A\u001b[A\u001b[A\u001b[A\u001b[A\u001b[A\u001b[A\u001b[A\u001b[A"
          ],
          "name": "stderr"
        },
        {
          "output_type": "stream",
          "text": [
            "image.img_to_array(img) =  (350, 350, 3)\n",
            "np.expand_dims =  (1, 350, 350, 3)\n"
          ],
          "name": "stdout"
        },
        {
          "output_type": "stream",
          "text": [
            "\n",
            "\n",
            "\n",
            "\n",
            "\n",
            "\n",
            "\n",
            "\n",
            "\n",
            " 67%|██████▋   | 190/283 [02:12<01:04,  1.45it/s]\u001b[A\u001b[A\u001b[A\u001b[A\u001b[A\u001b[A\u001b[A\u001b[A\u001b[A"
          ],
          "name": "stderr"
        },
        {
          "output_type": "stream",
          "text": [
            "image.img_to_array(img) =  (350, 350, 3)\n",
            "np.expand_dims =  (1, 350, 350, 3)\n"
          ],
          "name": "stdout"
        },
        {
          "output_type": "stream",
          "text": [
            "\n",
            "\n",
            "\n",
            "\n",
            "\n",
            "\n",
            "\n",
            "\n",
            "\n",
            " 67%|██████▋   | 191/283 [02:13<01:03,  1.44it/s]\u001b[A\u001b[A\u001b[A\u001b[A\u001b[A\u001b[A\u001b[A\u001b[A\u001b[A"
          ],
          "name": "stderr"
        },
        {
          "output_type": "stream",
          "text": [
            "image.img_to_array(img) =  (350, 350, 3)\n",
            "np.expand_dims =  (1, 350, 350, 3)\n"
          ],
          "name": "stdout"
        },
        {
          "output_type": "stream",
          "text": [
            "\n",
            "\n",
            "\n",
            "\n",
            "\n",
            "\n",
            "\n",
            "\n",
            "\n",
            " 68%|██████▊   | 192/283 [02:13<00:55,  1.63it/s]\u001b[A\u001b[A\u001b[A\u001b[A\u001b[A\u001b[A\u001b[A\u001b[A\u001b[A"
          ],
          "name": "stderr"
        },
        {
          "output_type": "stream",
          "text": [
            "image.img_to_array(img) =  (350, 350, 3)\n",
            "np.expand_dims =  (1, 350, 350, 3)\n"
          ],
          "name": "stdout"
        },
        {
          "output_type": "stream",
          "text": [
            "\n",
            "\n",
            "\n",
            "\n",
            "\n",
            "\n",
            "\n",
            "\n",
            "\n",
            " 68%|██████▊   | 193/283 [02:14<00:59,  1.51it/s]\u001b[A\u001b[A\u001b[A\u001b[A\u001b[A\u001b[A\u001b[A\u001b[A\u001b[A"
          ],
          "name": "stderr"
        },
        {
          "output_type": "stream",
          "text": [
            "image.img_to_array(img) =  (350, 350, 3)\n",
            "np.expand_dims =  (1, 350, 350, 3)\n"
          ],
          "name": "stdout"
        },
        {
          "output_type": "stream",
          "text": [
            "\n",
            "\n",
            "\n",
            "\n",
            "\n",
            "\n",
            "\n",
            "\n",
            "\n",
            " 69%|██████▊   | 194/283 [02:14<00:58,  1.52it/s]\u001b[A\u001b[A\u001b[A\u001b[A\u001b[A\u001b[A\u001b[A\u001b[A\u001b[A"
          ],
          "name": "stderr"
        },
        {
          "output_type": "stream",
          "text": [
            "image.img_to_array(img) =  (350, 350, 3)\n",
            "np.expand_dims =  (1, 350, 350, 3)\n"
          ],
          "name": "stdout"
        },
        {
          "output_type": "stream",
          "text": [
            "\n",
            "\n",
            "\n",
            "\n",
            "\n",
            "\n",
            "\n",
            "\n",
            "\n",
            " 69%|██████▉   | 195/283 [02:15<00:58,  1.50it/s]\u001b[A\u001b[A\u001b[A\u001b[A\u001b[A\u001b[A\u001b[A\u001b[A\u001b[A"
          ],
          "name": "stderr"
        },
        {
          "output_type": "stream",
          "text": [
            "image.img_to_array(img) =  (350, 350, 3)\n",
            "np.expand_dims =  (1, 350, 350, 3)\n"
          ],
          "name": "stdout"
        },
        {
          "output_type": "stream",
          "text": [
            "\n",
            "\n",
            "\n",
            "\n",
            "\n",
            "\n",
            "\n",
            "\n",
            "\n",
            " 69%|██████▉   | 196/283 [02:16<01:01,  1.43it/s]\u001b[A\u001b[A\u001b[A\u001b[A\u001b[A\u001b[A\u001b[A\u001b[A\u001b[A"
          ],
          "name": "stderr"
        },
        {
          "output_type": "stream",
          "text": [
            "image.img_to_array(img) =  (350, 350, 3)\n",
            "np.expand_dims =  (1, 350, 350, 3)\n"
          ],
          "name": "stdout"
        },
        {
          "output_type": "stream",
          "text": [
            "\n",
            "\n",
            "\n",
            "\n",
            "\n",
            "\n",
            "\n",
            "\n",
            "\n",
            " 70%|██████▉   | 197/283 [02:17<01:24,  1.01it/s]\u001b[A\u001b[A\u001b[A\u001b[A\u001b[A\u001b[A\u001b[A\u001b[A\u001b[A"
          ],
          "name": "stderr"
        },
        {
          "output_type": "stream",
          "text": [
            "image.img_to_array(img) =  (350, 350, 3)\n",
            "np.expand_dims =  (1, 350, 350, 3)\n"
          ],
          "name": "stdout"
        },
        {
          "output_type": "stream",
          "text": [
            "\n",
            "\n",
            "\n",
            "\n",
            "\n",
            "\n",
            "\n",
            "\n",
            "\n",
            " 70%|██████▉   | 198/283 [02:18<01:17,  1.10it/s]\u001b[A\u001b[A\u001b[A\u001b[A\u001b[A\u001b[A\u001b[A\u001b[A\u001b[A"
          ],
          "name": "stderr"
        },
        {
          "output_type": "stream",
          "text": [
            "image.img_to_array(img) =  (350, 350, 3)\n",
            "np.expand_dims =  (1, 350, 350, 3)\n"
          ],
          "name": "stdout"
        },
        {
          "output_type": "stream",
          "text": [
            "\n",
            "\n",
            "\n",
            "\n",
            "\n",
            "\n",
            "\n",
            "\n",
            "\n",
            " 70%|███████   | 199/283 [02:19<01:10,  1.20it/s]\u001b[A\u001b[A\u001b[A\u001b[A\u001b[A\u001b[A\u001b[A\u001b[A\u001b[A"
          ],
          "name": "stderr"
        },
        {
          "output_type": "stream",
          "text": [
            "image.img_to_array(img) =  (350, 350, 3)\n",
            "np.expand_dims =  (1, 350, 350, 3)\n"
          ],
          "name": "stdout"
        },
        {
          "output_type": "stream",
          "text": [
            "\n",
            "\n",
            "\n",
            "\n",
            "\n",
            "\n",
            "\n",
            "\n",
            "\n",
            " 71%|███████   | 200/283 [02:20<01:04,  1.29it/s]\u001b[A\u001b[A\u001b[A\u001b[A\u001b[A\u001b[A\u001b[A\u001b[A\u001b[A"
          ],
          "name": "stderr"
        },
        {
          "output_type": "stream",
          "text": [
            "image.img_to_array(img) =  (350, 350, 3)\n",
            "np.expand_dims =  (1, 350, 350, 3)\n"
          ],
          "name": "stdout"
        },
        {
          "output_type": "stream",
          "text": [
            "\n",
            "\n",
            "\n",
            "\n",
            "\n",
            "\n",
            "\n",
            "\n",
            "\n",
            " 71%|███████   | 201/283 [02:20<01:00,  1.36it/s]\u001b[A\u001b[A\u001b[A\u001b[A\u001b[A\u001b[A\u001b[A\u001b[A\u001b[A"
          ],
          "name": "stderr"
        },
        {
          "output_type": "stream",
          "text": [
            "image.img_to_array(img) =  (350, 350, 3)\n",
            "np.expand_dims =  (1, 350, 350, 3)\n"
          ],
          "name": "stdout"
        },
        {
          "output_type": "stream",
          "text": [
            "\n",
            "\n",
            "\n",
            "\n",
            "\n",
            "\n",
            "\n",
            "\n",
            "\n",
            " 71%|███████▏  | 202/283 [02:21<00:52,  1.55it/s]\u001b[A\u001b[A\u001b[A\u001b[A\u001b[A\u001b[A\u001b[A\u001b[A\u001b[A"
          ],
          "name": "stderr"
        },
        {
          "output_type": "stream",
          "text": [
            "image.img_to_array(img) =  (350, 350, 3)\n",
            "np.expand_dims =  (1, 350, 350, 3)\n"
          ],
          "name": "stdout"
        },
        {
          "output_type": "stream",
          "text": [
            "\n",
            "\n",
            "\n",
            "\n",
            "\n",
            "\n",
            "\n",
            "\n",
            "\n",
            " 72%|███████▏  | 203/283 [02:21<00:52,  1.52it/s]\u001b[A\u001b[A\u001b[A\u001b[A\u001b[A\u001b[A\u001b[A\u001b[A\u001b[A"
          ],
          "name": "stderr"
        },
        {
          "output_type": "stream",
          "text": [
            "image.img_to_array(img) =  (350, 350, 3)\n",
            "np.expand_dims =  (1, 350, 350, 3)\n"
          ],
          "name": "stdout"
        },
        {
          "output_type": "stream",
          "text": [
            "\n",
            "\n",
            "\n",
            "\n",
            "\n",
            "\n",
            "\n",
            "\n",
            "\n",
            " 72%|███████▏  | 204/283 [02:22<00:51,  1.52it/s]\u001b[A\u001b[A\u001b[A\u001b[A\u001b[A\u001b[A\u001b[A\u001b[A\u001b[A"
          ],
          "name": "stderr"
        },
        {
          "output_type": "stream",
          "text": [
            "image.img_to_array(img) =  (350, 350, 3)\n",
            "np.expand_dims =  (1, 350, 350, 3)\n"
          ],
          "name": "stdout"
        },
        {
          "output_type": "stream",
          "text": [
            "\n",
            "\n",
            "\n",
            "\n",
            "\n",
            "\n",
            "\n",
            "\n",
            "\n",
            " 72%|███████▏  | 205/283 [02:23<00:50,  1.53it/s]\u001b[A\u001b[A\u001b[A\u001b[A\u001b[A\u001b[A\u001b[A\u001b[A\u001b[A"
          ],
          "name": "stderr"
        },
        {
          "output_type": "stream",
          "text": [
            "image.img_to_array(img) =  (350, 350, 3)\n",
            "np.expand_dims =  (1, 350, 350, 3)\n"
          ],
          "name": "stdout"
        },
        {
          "output_type": "stream",
          "text": [
            "\n",
            "\n",
            "\n",
            "\n",
            "\n",
            "\n",
            "\n",
            "\n",
            "\n",
            " 73%|███████▎  | 206/283 [02:23<00:51,  1.50it/s]\u001b[A\u001b[A\u001b[A\u001b[A\u001b[A\u001b[A\u001b[A\u001b[A\u001b[A"
          ],
          "name": "stderr"
        },
        {
          "output_type": "stream",
          "text": [
            "image.img_to_array(img) =  (350, 350, 3)\n",
            "np.expand_dims =  (1, 350, 350, 3)\n"
          ],
          "name": "stdout"
        },
        {
          "output_type": "stream",
          "text": [
            "\n",
            "\n",
            "\n",
            "\n",
            "\n",
            "\n",
            "\n",
            "\n",
            "\n",
            " 73%|███████▎  | 207/283 [02:24<00:51,  1.49it/s]\u001b[A\u001b[A\u001b[A\u001b[A\u001b[A\u001b[A\u001b[A\u001b[A\u001b[A"
          ],
          "name": "stderr"
        },
        {
          "output_type": "stream",
          "text": [
            "image.img_to_array(img) =  (350, 350, 3)\n",
            "np.expand_dims =  (1, 350, 350, 3)\n"
          ],
          "name": "stdout"
        },
        {
          "output_type": "stream",
          "text": [
            "\n",
            "\n",
            "\n",
            "\n",
            "\n",
            "\n",
            "\n",
            "\n",
            "\n",
            " 73%|███████▎  | 208/283 [02:25<00:49,  1.51it/s]\u001b[A\u001b[A\u001b[A\u001b[A\u001b[A\u001b[A\u001b[A\u001b[A\u001b[A"
          ],
          "name": "stderr"
        },
        {
          "output_type": "stream",
          "text": [
            "image.img_to_array(img) =  (350, 350, 3)\n",
            "np.expand_dims =  (1, 350, 350, 3)\n"
          ],
          "name": "stdout"
        },
        {
          "output_type": "stream",
          "text": [
            "\n",
            "\n",
            "\n",
            "\n",
            "\n",
            "\n",
            "\n",
            "\n",
            "\n",
            " 74%|███████▍  | 209/283 [02:25<00:44,  1.68it/s]\u001b[A\u001b[A\u001b[A\u001b[A\u001b[A\u001b[A\u001b[A\u001b[A\u001b[A"
          ],
          "name": "stderr"
        },
        {
          "output_type": "stream",
          "text": [
            "image.img_to_array(img) =  (350, 350, 3)\n",
            "np.expand_dims =  (1, 350, 350, 3)\n"
          ],
          "name": "stdout"
        },
        {
          "output_type": "stream",
          "text": [
            "\n",
            "\n",
            "\n",
            "\n",
            "\n",
            "\n",
            "\n",
            "\n",
            "\n",
            " 74%|███████▍  | 210/283 [02:25<00:39,  1.83it/s]\u001b[A\u001b[A\u001b[A\u001b[A\u001b[A\u001b[A\u001b[A\u001b[A\u001b[A"
          ],
          "name": "stderr"
        },
        {
          "output_type": "stream",
          "text": [
            "image.img_to_array(img) =  (350, 350, 3)\n",
            "np.expand_dims =  (1, 350, 350, 3)\n"
          ],
          "name": "stdout"
        },
        {
          "output_type": "stream",
          "text": [
            "\n",
            "\n",
            "\n",
            "\n",
            "\n",
            "\n",
            "\n",
            "\n",
            "\n",
            " 75%|███████▍  | 211/283 [02:26<00:36,  1.96it/s]\u001b[A\u001b[A\u001b[A\u001b[A\u001b[A\u001b[A\u001b[A\u001b[A\u001b[A"
          ],
          "name": "stderr"
        },
        {
          "output_type": "stream",
          "text": [
            "image.img_to_array(img) =  (350, 350, 3)\n",
            "np.expand_dims =  (1, 350, 350, 3)\n"
          ],
          "name": "stdout"
        },
        {
          "output_type": "stream",
          "text": [
            "\n",
            "\n",
            "\n",
            "\n",
            "\n",
            "\n",
            "\n",
            "\n",
            "\n",
            " 75%|███████▍  | 212/283 [02:26<00:34,  2.07it/s]\u001b[A\u001b[A\u001b[A\u001b[A\u001b[A\u001b[A\u001b[A\u001b[A\u001b[A"
          ],
          "name": "stderr"
        },
        {
          "output_type": "stream",
          "text": [
            "image.img_to_array(img) =  (350, 350, 3)\n",
            "np.expand_dims =  (1, 350, 350, 3)\n"
          ],
          "name": "stdout"
        },
        {
          "output_type": "stream",
          "text": [
            "\n",
            "\n",
            "\n",
            "\n",
            "\n",
            "\n",
            "\n",
            "\n",
            "\n",
            " 75%|███████▌  | 213/283 [02:27<00:37,  1.86it/s]\u001b[A\u001b[A\u001b[A\u001b[A\u001b[A\u001b[A\u001b[A\u001b[A\u001b[A"
          ],
          "name": "stderr"
        },
        {
          "output_type": "stream",
          "text": [
            "image.img_to_array(img) =  (350, 350, 3)\n",
            "np.expand_dims =  (1, 350, 350, 3)\n"
          ],
          "name": "stdout"
        },
        {
          "output_type": "stream",
          "text": [
            "\n",
            "\n",
            "\n",
            "\n",
            "\n",
            "\n",
            "\n",
            "\n",
            "\n",
            " 76%|███████▌  | 214/283 [02:28<00:40,  1.72it/s]\u001b[A\u001b[A\u001b[A\u001b[A\u001b[A\u001b[A\u001b[A\u001b[A\u001b[A"
          ],
          "name": "stderr"
        },
        {
          "output_type": "stream",
          "text": [
            "image.img_to_array(img) =  (350, 350, 3)\n",
            "np.expand_dims =  (1, 350, 350, 3)\n"
          ],
          "name": "stdout"
        },
        {
          "output_type": "stream",
          "text": [
            "\n",
            "\n",
            "\n",
            "\n",
            "\n",
            "\n",
            "\n",
            "\n",
            "\n",
            " 76%|███████▌  | 215/283 [02:28<00:36,  1.86it/s]\u001b[A\u001b[A\u001b[A\u001b[A\u001b[A\u001b[A\u001b[A\u001b[A\u001b[A"
          ],
          "name": "stderr"
        },
        {
          "output_type": "stream",
          "text": [
            "image.img_to_array(img) =  (350, 350, 3)\n",
            "np.expand_dims =  (1, 350, 350, 3)\n"
          ],
          "name": "stdout"
        },
        {
          "output_type": "stream",
          "text": [
            "\n",
            "\n",
            "\n",
            "\n",
            "\n",
            "\n",
            "\n",
            "\n",
            "\n",
            " 76%|███████▋  | 216/283 [02:29<00:38,  1.75it/s]\u001b[A\u001b[A\u001b[A\u001b[A\u001b[A\u001b[A\u001b[A\u001b[A\u001b[A"
          ],
          "name": "stderr"
        },
        {
          "output_type": "stream",
          "text": [
            "image.img_to_array(img) =  (350, 350, 3)\n",
            "np.expand_dims =  (1, 350, 350, 3)\n"
          ],
          "name": "stdout"
        },
        {
          "output_type": "stream",
          "text": [
            "\n",
            "\n",
            "\n",
            "\n",
            "\n",
            "\n",
            "\n",
            "\n",
            "\n",
            " 77%|███████▋  | 217/283 [02:29<00:34,  1.89it/s]\u001b[A\u001b[A\u001b[A\u001b[A\u001b[A\u001b[A\u001b[A\u001b[A\u001b[A"
          ],
          "name": "stderr"
        },
        {
          "output_type": "stream",
          "text": [
            "image.img_to_array(img) =  (350, 350, 3)\n",
            "np.expand_dims =  (1, 350, 350, 3)\n"
          ],
          "name": "stdout"
        },
        {
          "output_type": "stream",
          "text": [
            "\n",
            "\n",
            "\n",
            "\n",
            "\n",
            "\n",
            "\n",
            "\n",
            "\n",
            " 77%|███████▋  | 218/283 [02:30<00:32,  2.01it/s]\u001b[A\u001b[A\u001b[A\u001b[A\u001b[A\u001b[A\u001b[A\u001b[A\u001b[A"
          ],
          "name": "stderr"
        },
        {
          "output_type": "stream",
          "text": [
            "image.img_to_array(img) =  (350, 350, 3)\n",
            "np.expand_dims =  (1, 350, 350, 3)\n"
          ],
          "name": "stdout"
        },
        {
          "output_type": "stream",
          "text": [
            "\n",
            "\n",
            "\n",
            "\n",
            "\n",
            "\n",
            "\n",
            "\n",
            "\n",
            " 77%|███████▋  | 219/283 [02:30<00:30,  2.09it/s]\u001b[A\u001b[A\u001b[A\u001b[A\u001b[A\u001b[A\u001b[A\u001b[A\u001b[A"
          ],
          "name": "stderr"
        },
        {
          "output_type": "stream",
          "text": [
            "image.img_to_array(img) =  (350, 350, 3)\n",
            "np.expand_dims =  (1, 350, 350, 3)\n"
          ],
          "name": "stdout"
        },
        {
          "output_type": "stream",
          "text": [
            "\n",
            "\n",
            "\n",
            "\n",
            "\n",
            "\n",
            "\n",
            "\n",
            "\n",
            " 78%|███████▊  | 220/283 [02:31<00:33,  1.86it/s]\u001b[A\u001b[A\u001b[A\u001b[A\u001b[A\u001b[A\u001b[A\u001b[A\u001b[A"
          ],
          "name": "stderr"
        },
        {
          "output_type": "stream",
          "text": [
            "image.img_to_array(img) =  (350, 350, 3)\n",
            "np.expand_dims =  (1, 350, 350, 3)\n"
          ],
          "name": "stdout"
        },
        {
          "output_type": "stream",
          "text": [
            "\n",
            "\n",
            "\n",
            "\n",
            "\n",
            "\n",
            "\n",
            "\n",
            "\n",
            " 78%|███████▊  | 221/283 [02:31<00:31,  1.97it/s]\u001b[A\u001b[A\u001b[A\u001b[A\u001b[A\u001b[A\u001b[A\u001b[A\u001b[A"
          ],
          "name": "stderr"
        },
        {
          "output_type": "stream",
          "text": [
            "image.img_to_array(img) =  (350, 350, 3)\n",
            "np.expand_dims =  (1, 350, 350, 3)\n"
          ],
          "name": "stdout"
        },
        {
          "output_type": "stream",
          "text": [
            "\n",
            "\n",
            "\n",
            "\n",
            "\n",
            "\n",
            "\n",
            "\n",
            "\n",
            " 78%|███████▊  | 222/283 [02:32<00:34,  1.78it/s]\u001b[A\u001b[A\u001b[A\u001b[A\u001b[A\u001b[A\u001b[A\u001b[A\u001b[A"
          ],
          "name": "stderr"
        },
        {
          "output_type": "stream",
          "text": [
            "image.img_to_array(img) =  (350, 350, 3)\n",
            "np.expand_dims =  (1, 350, 350, 3)\n"
          ],
          "name": "stdout"
        },
        {
          "output_type": "stream",
          "text": [
            "\n",
            "\n",
            "\n",
            "\n",
            "\n",
            "\n",
            "\n",
            "\n",
            "\n",
            " 79%|███████▉  | 223/283 [02:33<00:35,  1.68it/s]\u001b[A\u001b[A\u001b[A\u001b[A\u001b[A\u001b[A\u001b[A\u001b[A\u001b[A"
          ],
          "name": "stderr"
        },
        {
          "output_type": "stream",
          "text": [
            "image.img_to_array(img) =  (350, 350, 3)\n",
            "np.expand_dims =  (1, 350, 350, 3)\n"
          ],
          "name": "stdout"
        },
        {
          "output_type": "stream",
          "text": [
            "\n",
            "\n",
            "\n",
            "\n",
            "\n",
            "\n",
            "\n",
            "\n",
            "\n",
            " 79%|███████▉  | 224/283 [02:33<00:36,  1.62it/s]\u001b[A\u001b[A\u001b[A\u001b[A\u001b[A\u001b[A\u001b[A\u001b[A\u001b[A"
          ],
          "name": "stderr"
        },
        {
          "output_type": "stream",
          "text": [
            "image.img_to_array(img) =  (350, 350, 3)\n",
            "np.expand_dims =  (1, 350, 350, 3)\n"
          ],
          "name": "stdout"
        },
        {
          "output_type": "stream",
          "text": [
            "\n",
            "\n",
            "\n",
            "\n",
            "\n",
            "\n",
            "\n",
            "\n",
            "\n",
            " 80%|███████▉  | 225/283 [02:34<00:38,  1.52it/s]\u001b[A\u001b[A\u001b[A\u001b[A\u001b[A\u001b[A\u001b[A\u001b[A\u001b[A"
          ],
          "name": "stderr"
        },
        {
          "output_type": "stream",
          "text": [
            "image.img_to_array(img) =  (350, 350, 3)\n",
            "np.expand_dims =  (1, 350, 350, 3)\n"
          ],
          "name": "stdout"
        },
        {
          "output_type": "stream",
          "text": [
            "\n",
            "\n",
            "\n",
            "\n",
            "\n",
            "\n",
            "\n",
            "\n",
            "\n",
            " 80%|███████▉  | 226/283 [02:34<00:33,  1.71it/s]\u001b[A\u001b[A\u001b[A\u001b[A\u001b[A\u001b[A\u001b[A\u001b[A\u001b[A"
          ],
          "name": "stderr"
        },
        {
          "output_type": "stream",
          "text": [
            "image.img_to_array(img) =  (350, 350, 3)\n",
            "np.expand_dims =  (1, 350, 350, 3)\n"
          ],
          "name": "stdout"
        },
        {
          "output_type": "stream",
          "text": [
            "\n",
            "\n",
            "\n",
            "\n",
            "\n",
            "\n",
            "\n",
            "\n",
            "\n",
            " 80%|████████  | 227/283 [02:35<00:33,  1.67it/s]\u001b[A\u001b[A\u001b[A\u001b[A\u001b[A\u001b[A\u001b[A\u001b[A\u001b[A"
          ],
          "name": "stderr"
        },
        {
          "output_type": "stream",
          "text": [
            "image.img_to_array(img) =  (350, 350, 3)\n",
            "np.expand_dims =  (1, 350, 350, 3)\n"
          ],
          "name": "stdout"
        },
        {
          "output_type": "stream",
          "text": [
            "\n",
            "\n",
            "\n",
            "\n",
            "\n",
            "\n",
            "\n",
            "\n",
            "\n",
            " 81%|████████  | 228/283 [02:35<00:30,  1.81it/s]\u001b[A\u001b[A\u001b[A\u001b[A\u001b[A\u001b[A\u001b[A\u001b[A\u001b[A"
          ],
          "name": "stderr"
        },
        {
          "output_type": "stream",
          "text": [
            "image.img_to_array(img) =  (350, 350, 3)\n",
            "np.expand_dims =  (1, 350, 350, 3)\n"
          ],
          "name": "stdout"
        },
        {
          "output_type": "stream",
          "text": [
            "\n",
            "\n",
            "\n",
            "\n",
            "\n",
            "\n",
            "\n",
            "\n",
            "\n",
            " 81%|████████  | 229/283 [02:36<00:31,  1.72it/s]\u001b[A\u001b[A\u001b[A\u001b[A\u001b[A\u001b[A\u001b[A\u001b[A\u001b[A"
          ],
          "name": "stderr"
        },
        {
          "output_type": "stream",
          "text": [
            "image.img_to_array(img) =  (350, 350, 3)\n",
            "np.expand_dims =  (1, 350, 350, 3)\n"
          ],
          "name": "stdout"
        },
        {
          "output_type": "stream",
          "text": [
            "\n",
            "\n",
            "\n",
            "\n",
            "\n",
            "\n",
            "\n",
            "\n",
            "\n",
            " 81%|████████▏ | 230/283 [02:37<00:32,  1.61it/s]\u001b[A\u001b[A\u001b[A\u001b[A\u001b[A\u001b[A\u001b[A\u001b[A\u001b[A"
          ],
          "name": "stderr"
        },
        {
          "output_type": "stream",
          "text": [
            "image.img_to_array(img) =  (350, 350, 3)\n",
            "np.expand_dims =  (1, 350, 350, 3)\n"
          ],
          "name": "stdout"
        },
        {
          "output_type": "stream",
          "text": [
            "\n",
            "\n",
            "\n",
            "\n",
            "\n",
            "\n",
            "\n",
            "\n",
            "\n",
            " 82%|████████▏ | 231/283 [02:37<00:32,  1.58it/s]\u001b[A\u001b[A\u001b[A\u001b[A\u001b[A\u001b[A\u001b[A\u001b[A\u001b[A"
          ],
          "name": "stderr"
        },
        {
          "output_type": "stream",
          "text": [
            "image.img_to_array(img) =  (350, 350, 3)\n",
            "np.expand_dims =  (1, 350, 350, 3)\n"
          ],
          "name": "stdout"
        },
        {
          "output_type": "stream",
          "text": [
            "\n",
            "\n",
            "\n",
            "\n",
            "\n",
            "\n",
            "\n",
            "\n",
            "\n",
            " 82%|████████▏ | 232/283 [02:38<00:35,  1.42it/s]\u001b[A\u001b[A\u001b[A\u001b[A\u001b[A\u001b[A\u001b[A\u001b[A\u001b[A"
          ],
          "name": "stderr"
        },
        {
          "output_type": "stream",
          "text": [
            "image.img_to_array(img) =  (350, 350, 3)\n",
            "np.expand_dims =  (1, 350, 350, 3)\n"
          ],
          "name": "stdout"
        },
        {
          "output_type": "stream",
          "text": [
            "\n",
            "\n",
            "\n",
            "\n",
            "\n",
            "\n",
            "\n",
            "\n",
            "\n",
            " 82%|████████▏ | 233/283 [02:39<00:31,  1.60it/s]\u001b[A\u001b[A\u001b[A\u001b[A\u001b[A\u001b[A\u001b[A\u001b[A\u001b[A"
          ],
          "name": "stderr"
        },
        {
          "output_type": "stream",
          "text": [
            "image.img_to_array(img) =  (350, 350, 3)\n",
            "np.expand_dims =  (1, 350, 350, 3)\n"
          ],
          "name": "stdout"
        },
        {
          "output_type": "stream",
          "text": [
            "\n",
            "\n",
            "\n",
            "\n",
            "\n",
            "\n",
            "\n",
            "\n",
            "\n",
            " 83%|████████▎ | 234/283 [02:39<00:27,  1.76it/s]\u001b[A\u001b[A\u001b[A\u001b[A\u001b[A\u001b[A\u001b[A\u001b[A\u001b[A"
          ],
          "name": "stderr"
        },
        {
          "output_type": "stream",
          "text": [
            "image.img_to_array(img) =  (350, 350, 3)\n",
            "np.expand_dims =  (1, 350, 350, 3)\n"
          ],
          "name": "stdout"
        },
        {
          "output_type": "stream",
          "text": [
            "\n",
            "\n",
            "\n",
            "\n",
            "\n",
            "\n",
            "\n",
            "\n",
            "\n",
            " 83%|████████▎ | 235/283 [02:40<00:28,  1.69it/s]\u001b[A\u001b[A\u001b[A\u001b[A\u001b[A\u001b[A\u001b[A\u001b[A\u001b[A"
          ],
          "name": "stderr"
        },
        {
          "output_type": "stream",
          "text": [
            "image.img_to_array(img) =  (350, 350, 3)\n",
            "np.expand_dims =  (1, 350, 350, 3)\n"
          ],
          "name": "stdout"
        },
        {
          "output_type": "stream",
          "text": [
            "\n",
            "\n",
            "\n",
            "\n",
            "\n",
            "\n",
            "\n",
            "\n",
            "\n",
            " 83%|████████▎ | 236/283 [02:40<00:25,  1.84it/s]\u001b[A\u001b[A\u001b[A\u001b[A\u001b[A\u001b[A\u001b[A\u001b[A\u001b[A"
          ],
          "name": "stderr"
        },
        {
          "output_type": "stream",
          "text": [
            "image.img_to_array(img) =  (350, 350, 3)\n",
            "np.expand_dims =  (1, 350, 350, 3)\n"
          ],
          "name": "stdout"
        },
        {
          "output_type": "stream",
          "text": [
            "\n",
            "\n",
            "\n",
            "\n",
            "\n",
            "\n",
            "\n",
            "\n",
            "\n",
            " 84%|████████▎ | 237/283 [02:41<00:28,  1.63it/s]\u001b[A\u001b[A\u001b[A\u001b[A\u001b[A\u001b[A\u001b[A\u001b[A\u001b[A"
          ],
          "name": "stderr"
        },
        {
          "output_type": "stream",
          "text": [
            "image.img_to_array(img) =  (350, 350, 3)\n",
            "np.expand_dims =  (1, 350, 350, 3)\n"
          ],
          "name": "stdout"
        },
        {
          "output_type": "stream",
          "text": [
            "\n",
            "\n",
            "\n",
            "\n",
            "\n",
            "\n",
            "\n",
            "\n",
            "\n",
            " 84%|████████▍ | 238/283 [02:42<00:28,  1.59it/s]\u001b[A\u001b[A\u001b[A\u001b[A\u001b[A\u001b[A\u001b[A\u001b[A\u001b[A"
          ],
          "name": "stderr"
        },
        {
          "output_type": "stream",
          "text": [
            "image.img_to_array(img) =  (350, 350, 3)\n",
            "np.expand_dims =  (1, 350, 350, 3)\n"
          ],
          "name": "stdout"
        },
        {
          "output_type": "stream",
          "text": [
            "\n",
            "\n",
            "\n",
            "\n",
            "\n",
            "\n",
            "\n",
            "\n",
            "\n",
            " 84%|████████▍ | 239/283 [02:42<00:25,  1.75it/s]\u001b[A\u001b[A\u001b[A\u001b[A\u001b[A\u001b[A\u001b[A\u001b[A\u001b[A"
          ],
          "name": "stderr"
        },
        {
          "output_type": "stream",
          "text": [
            "image.img_to_array(img) =  (350, 350, 3)\n",
            "np.expand_dims =  (1, 350, 350, 3)\n"
          ],
          "name": "stdout"
        },
        {
          "output_type": "stream",
          "text": [
            "\n",
            "\n",
            "\n",
            "\n",
            "\n",
            "\n",
            "\n",
            "\n",
            "\n",
            " 85%|████████▍ | 240/283 [02:43<00:22,  1.88it/s]\u001b[A\u001b[A\u001b[A\u001b[A\u001b[A\u001b[A\u001b[A\u001b[A\u001b[A"
          ],
          "name": "stderr"
        },
        {
          "output_type": "stream",
          "text": [
            "image.img_to_array(img) =  (350, 350, 3)\n",
            "np.expand_dims =  (1, 350, 350, 3)\n"
          ],
          "name": "stdout"
        },
        {
          "output_type": "stream",
          "text": [
            "\n",
            "\n",
            "\n",
            "\n",
            "\n",
            "\n",
            "\n",
            "\n",
            "\n",
            " 85%|████████▌ | 241/283 [02:43<00:24,  1.70it/s]\u001b[A\u001b[A\u001b[A\u001b[A\u001b[A\u001b[A\u001b[A\u001b[A\u001b[A"
          ],
          "name": "stderr"
        },
        {
          "output_type": "stream",
          "text": [
            "image.img_to_array(img) =  (350, 350, 3)\n",
            "np.expand_dims =  (1, 350, 350, 3)\n"
          ],
          "name": "stdout"
        },
        {
          "output_type": "stream",
          "text": [
            "\n",
            "\n",
            "\n",
            "\n",
            "\n",
            "\n",
            "\n",
            "\n",
            "\n",
            " 86%|████████▌ | 242/283 [02:44<00:24,  1.65it/s]\u001b[A\u001b[A\u001b[A\u001b[A\u001b[A\u001b[A\u001b[A\u001b[A\u001b[A"
          ],
          "name": "stderr"
        },
        {
          "output_type": "stream",
          "text": [
            "image.img_to_array(img) =  (350, 350, 3)\n",
            "np.expand_dims =  (1, 350, 350, 3)\n"
          ],
          "name": "stdout"
        },
        {
          "output_type": "stream",
          "text": [
            "\n",
            "\n",
            "\n",
            "\n",
            "\n",
            "\n",
            "\n",
            "\n",
            "\n",
            " 86%|████████▌ | 243/283 [02:45<00:27,  1.46it/s]\u001b[A\u001b[A\u001b[A\u001b[A\u001b[A\u001b[A\u001b[A\u001b[A\u001b[A"
          ],
          "name": "stderr"
        },
        {
          "output_type": "stream",
          "text": [
            "image.img_to_array(img) =  (350, 350, 3)\n",
            "np.expand_dims =  (1, 350, 350, 3)\n"
          ],
          "name": "stdout"
        },
        {
          "output_type": "stream",
          "text": [
            "\n",
            "\n",
            "\n",
            "\n",
            "\n",
            "\n",
            "\n",
            "\n",
            "\n",
            " 86%|████████▌ | 244/283 [02:45<00:23,  1.63it/s]\u001b[A\u001b[A\u001b[A\u001b[A\u001b[A\u001b[A\u001b[A\u001b[A\u001b[A"
          ],
          "name": "stderr"
        },
        {
          "output_type": "stream",
          "text": [
            "image.img_to_array(img) =  (350, 350, 3)\n",
            "np.expand_dims =  (1, 350, 350, 3)\n"
          ],
          "name": "stdout"
        },
        {
          "output_type": "stream",
          "text": [
            "\n",
            "\n",
            "\n",
            "\n",
            "\n",
            "\n",
            "\n",
            "\n",
            "\n",
            " 87%|████████▋ | 245/283 [02:46<00:21,  1.79it/s]\u001b[A\u001b[A\u001b[A\u001b[A\u001b[A\u001b[A\u001b[A\u001b[A\u001b[A"
          ],
          "name": "stderr"
        },
        {
          "output_type": "stream",
          "text": [
            "image.img_to_array(img) =  (350, 350, 3)\n",
            "np.expand_dims =  (1, 350, 350, 3)\n"
          ],
          "name": "stdout"
        },
        {
          "output_type": "stream",
          "text": [
            "\n",
            "\n",
            "\n",
            "\n",
            "\n",
            "\n",
            "\n",
            "\n",
            "\n",
            " 87%|████████▋ | 246/283 [02:46<00:21,  1.70it/s]\u001b[A\u001b[A\u001b[A\u001b[A\u001b[A\u001b[A\u001b[A\u001b[A\u001b[A"
          ],
          "name": "stderr"
        },
        {
          "output_type": "stream",
          "text": [
            "image.img_to_array(img) =  (350, 350, 3)\n",
            "np.expand_dims =  (1, 350, 350, 3)\n"
          ],
          "name": "stdout"
        },
        {
          "output_type": "stream",
          "text": [
            "\n",
            "\n",
            "\n",
            "\n",
            "\n",
            "\n",
            "\n",
            "\n",
            "\n",
            " 87%|████████▋ | 247/283 [02:47<00:21,  1.64it/s]\u001b[A\u001b[A\u001b[A\u001b[A\u001b[A\u001b[A\u001b[A\u001b[A\u001b[A"
          ],
          "name": "stderr"
        },
        {
          "output_type": "stream",
          "text": [
            "image.img_to_array(img) =  (350, 350, 3)\n",
            "np.expand_dims =  (1, 350, 350, 3)\n"
          ],
          "name": "stdout"
        },
        {
          "output_type": "stream",
          "text": [
            "\n",
            "\n",
            "\n",
            "\n",
            "\n",
            "\n",
            "\n",
            "\n",
            "\n",
            " 88%|████████▊ | 248/283 [02:48<00:21,  1.61it/s]\u001b[A\u001b[A\u001b[A\u001b[A\u001b[A\u001b[A\u001b[A\u001b[A\u001b[A"
          ],
          "name": "stderr"
        },
        {
          "output_type": "stream",
          "text": [
            "image.img_to_array(img) =  (350, 350, 3)\n",
            "np.expand_dims =  (1, 350, 350, 3)\n"
          ],
          "name": "stdout"
        },
        {
          "output_type": "stream",
          "text": [
            "\n",
            "\n",
            "\n",
            "\n",
            "\n",
            "\n",
            "\n",
            "\n",
            "\n",
            " 88%|████████▊ | 249/283 [02:48<00:21,  1.59it/s]\u001b[A\u001b[A\u001b[A\u001b[A\u001b[A\u001b[A\u001b[A\u001b[A\u001b[A"
          ],
          "name": "stderr"
        },
        {
          "output_type": "stream",
          "text": [
            "image.img_to_array(img) =  (350, 350, 3)\n",
            "np.expand_dims =  (1, 350, 350, 3)\n"
          ],
          "name": "stdout"
        },
        {
          "output_type": "stream",
          "text": [
            "\n",
            "\n",
            "\n",
            "\n",
            "\n",
            "\n",
            "\n",
            "\n",
            "\n",
            " 88%|████████▊ | 250/283 [02:49<00:18,  1.75it/s]\u001b[A\u001b[A\u001b[A\u001b[A\u001b[A\u001b[A\u001b[A\u001b[A\u001b[A"
          ],
          "name": "stderr"
        },
        {
          "output_type": "stream",
          "text": [
            "image.img_to_array(img) =  (350, 350, 3)\n",
            "np.expand_dims =  (1, 350, 350, 3)\n"
          ],
          "name": "stdout"
        },
        {
          "output_type": "stream",
          "text": [
            "\n",
            "\n",
            "\n",
            "\n",
            "\n",
            "\n",
            "\n",
            "\n",
            "\n",
            " 89%|████████▊ | 251/283 [02:49<00:18,  1.69it/s]\u001b[A\u001b[A\u001b[A\u001b[A\u001b[A\u001b[A\u001b[A\u001b[A\u001b[A"
          ],
          "name": "stderr"
        },
        {
          "output_type": "stream",
          "text": [
            "image.img_to_array(img) =  (350, 350, 3)\n",
            "np.expand_dims =  (1, 350, 350, 3)\n"
          ],
          "name": "stdout"
        },
        {
          "output_type": "stream",
          "text": [
            "\n",
            "\n",
            "\n",
            "\n",
            "\n",
            "\n",
            "\n",
            "\n",
            "\n",
            " 89%|████████▉ | 252/283 [02:50<00:16,  1.84it/s]\u001b[A\u001b[A\u001b[A\u001b[A\u001b[A\u001b[A\u001b[A\u001b[A\u001b[A"
          ],
          "name": "stderr"
        },
        {
          "output_type": "stream",
          "text": [
            "image.img_to_array(img) =  (350, 350, 3)\n",
            "np.expand_dims =  (1, 350, 350, 3)\n"
          ],
          "name": "stdout"
        },
        {
          "output_type": "stream",
          "text": [
            "\n",
            "\n",
            "\n",
            "\n",
            "\n",
            "\n",
            "\n",
            "\n",
            "\n",
            " 89%|████████▉ | 253/283 [02:50<00:17,  1.73it/s]\u001b[A\u001b[A\u001b[A\u001b[A\u001b[A\u001b[A\u001b[A\u001b[A\u001b[A"
          ],
          "name": "stderr"
        },
        {
          "output_type": "stream",
          "text": [
            "image.img_to_array(img) =  (350, 350, 3)\n",
            "np.expand_dims =  (1, 350, 350, 3)\n"
          ],
          "name": "stdout"
        },
        {
          "output_type": "stream",
          "text": [
            "\n",
            "\n",
            "\n",
            "\n",
            "\n",
            "\n",
            "\n",
            "\n",
            "\n",
            " 90%|████████▉ | 254/283 [02:51<00:17,  1.65it/s]\u001b[A\u001b[A\u001b[A\u001b[A\u001b[A\u001b[A\u001b[A\u001b[A\u001b[A"
          ],
          "name": "stderr"
        },
        {
          "output_type": "stream",
          "text": [
            "image.img_to_array(img) =  (350, 350, 3)\n",
            "np.expand_dims =  (1, 350, 350, 3)\n"
          ],
          "name": "stdout"
        },
        {
          "output_type": "stream",
          "text": [
            "\n",
            "\n",
            "\n",
            "\n",
            "\n",
            "\n",
            "\n",
            "\n",
            "\n",
            " 90%|█████████ | 255/283 [02:52<00:18,  1.49it/s]\u001b[A\u001b[A\u001b[A\u001b[A\u001b[A\u001b[A\u001b[A\u001b[A\u001b[A"
          ],
          "name": "stderr"
        },
        {
          "output_type": "stream",
          "text": [
            "image.img_to_array(img) =  (350, 350, 3)\n",
            "np.expand_dims =  (1, 350, 350, 3)\n"
          ],
          "name": "stdout"
        },
        {
          "output_type": "stream",
          "text": [
            "\n",
            "\n",
            "\n",
            "\n",
            "\n",
            "\n",
            "\n",
            "\n",
            "\n",
            " 90%|█████████ | 256/283 [02:52<00:16,  1.67it/s]\u001b[A\u001b[A\u001b[A\u001b[A\u001b[A\u001b[A\u001b[A\u001b[A\u001b[A"
          ],
          "name": "stderr"
        },
        {
          "output_type": "stream",
          "text": [
            "image.img_to_array(img) =  (350, 350, 3)\n",
            "np.expand_dims =  (1, 350, 350, 3)\n"
          ],
          "name": "stdout"
        },
        {
          "output_type": "stream",
          "text": [
            "\n",
            "\n",
            "\n",
            "\n",
            "\n",
            "\n",
            "\n",
            "\n",
            "\n",
            " 91%|█████████ | 257/283 [02:53<00:14,  1.82it/s]\u001b[A\u001b[A\u001b[A\u001b[A\u001b[A\u001b[A\u001b[A\u001b[A\u001b[A"
          ],
          "name": "stderr"
        },
        {
          "output_type": "stream",
          "text": [
            "image.img_to_array(img) =  (350, 350, 3)\n",
            "np.expand_dims =  (1, 350, 350, 3)\n"
          ],
          "name": "stdout"
        },
        {
          "output_type": "stream",
          "text": [
            "\n",
            "\n",
            "\n",
            "\n",
            "\n",
            "\n",
            "\n",
            "\n",
            "\n",
            " 91%|█████████ | 258/283 [02:53<00:14,  1.73it/s]\u001b[A\u001b[A\u001b[A\u001b[A\u001b[A\u001b[A\u001b[A\u001b[A\u001b[A"
          ],
          "name": "stderr"
        },
        {
          "output_type": "stream",
          "text": [
            "image.img_to_array(img) =  (350, 350, 3)\n",
            "np.expand_dims =  (1, 350, 350, 3)\n"
          ],
          "name": "stdout"
        },
        {
          "output_type": "stream",
          "text": [
            "\n",
            "\n",
            "\n",
            "\n",
            "\n",
            "\n",
            "\n",
            "\n",
            "\n",
            " 92%|█████████▏| 259/283 [02:54<00:12,  1.87it/s]\u001b[A\u001b[A\u001b[A\u001b[A\u001b[A\u001b[A\u001b[A\u001b[A\u001b[A"
          ],
          "name": "stderr"
        },
        {
          "output_type": "stream",
          "text": [
            "image.img_to_array(img) =  (350, 350, 3)\n",
            "np.expand_dims =  (1, 350, 350, 3)\n"
          ],
          "name": "stdout"
        },
        {
          "output_type": "stream",
          "text": [
            "\n",
            "\n",
            "\n",
            "\n",
            "\n",
            "\n",
            "\n",
            "\n",
            "\n",
            " 92%|█████████▏| 260/283 [02:55<00:13,  1.76it/s]\u001b[A\u001b[A\u001b[A\u001b[A\u001b[A\u001b[A\u001b[A\u001b[A\u001b[A"
          ],
          "name": "stderr"
        },
        {
          "output_type": "stream",
          "text": [
            "image.img_to_array(img) =  (350, 350, 3)\n",
            "np.expand_dims =  (1, 350, 350, 3)\n"
          ],
          "name": "stdout"
        },
        {
          "output_type": "stream",
          "text": [
            "\n",
            "\n",
            "\n",
            "\n",
            "\n",
            "\n",
            "\n",
            "\n",
            "\n",
            " 92%|█████████▏| 261/283 [02:55<00:11,  1.90it/s]\u001b[A\u001b[A\u001b[A\u001b[A\u001b[A\u001b[A\u001b[A\u001b[A\u001b[A"
          ],
          "name": "stderr"
        },
        {
          "output_type": "stream",
          "text": [
            "image.img_to_array(img) =  (350, 350, 3)\n",
            "np.expand_dims =  (1, 350, 350, 3)\n"
          ],
          "name": "stdout"
        },
        {
          "output_type": "stream",
          "text": [
            "\n",
            "\n",
            "\n",
            "\n",
            "\n",
            "\n",
            "\n",
            "\n",
            "\n",
            " 93%|█████████▎| 262/283 [02:55<00:10,  2.01it/s]\u001b[A\u001b[A\u001b[A\u001b[A\u001b[A\u001b[A\u001b[A\u001b[A\u001b[A"
          ],
          "name": "stderr"
        },
        {
          "output_type": "stream",
          "text": [
            "image.img_to_array(img) =  (350, 350, 3)\n",
            "np.expand_dims =  (1, 350, 350, 3)\n"
          ],
          "name": "stdout"
        },
        {
          "output_type": "stream",
          "text": [
            "\n",
            "\n",
            "\n",
            "\n",
            "\n",
            "\n",
            "\n",
            "\n",
            "\n",
            " 93%|█████████▎| 263/283 [02:56<00:11,  1.78it/s]\u001b[A\u001b[A\u001b[A\u001b[A\u001b[A\u001b[A\u001b[A\u001b[A\u001b[A"
          ],
          "name": "stderr"
        },
        {
          "output_type": "stream",
          "text": [
            "image.img_to_array(img) =  (350, 350, 3)\n",
            "np.expand_dims =  (1, 350, 350, 3)\n"
          ],
          "name": "stdout"
        },
        {
          "output_type": "stream",
          "text": [
            "\n",
            "\n",
            "\n",
            "\n",
            "\n",
            "\n",
            "\n",
            "\n",
            "\n",
            " 93%|█████████▎| 264/283 [02:57<00:11,  1.60it/s]\u001b[A\u001b[A\u001b[A\u001b[A\u001b[A\u001b[A\u001b[A\u001b[A\u001b[A"
          ],
          "name": "stderr"
        },
        {
          "output_type": "stream",
          "text": [
            "image.img_to_array(img) =  (350, 350, 3)\n",
            "np.expand_dims =  (1, 350, 350, 3)\n"
          ],
          "name": "stdout"
        },
        {
          "output_type": "stream",
          "text": [
            "\n",
            "\n",
            "\n",
            "\n",
            "\n",
            "\n",
            "\n",
            "\n",
            "\n",
            " 94%|█████████▎| 265/283 [02:58<00:12,  1.47it/s]\u001b[A\u001b[A\u001b[A\u001b[A\u001b[A\u001b[A\u001b[A\u001b[A\u001b[A"
          ],
          "name": "stderr"
        },
        {
          "output_type": "stream",
          "text": [
            "image.img_to_array(img) =  (350, 350, 3)\n",
            "np.expand_dims =  (1, 350, 350, 3)\n"
          ],
          "name": "stdout"
        },
        {
          "output_type": "stream",
          "text": [
            "\n",
            "\n",
            "\n",
            "\n",
            "\n",
            "\n",
            "\n",
            "\n",
            "\n",
            " 94%|█████████▍| 266/283 [02:58<00:11,  1.47it/s]\u001b[A\u001b[A\u001b[A\u001b[A\u001b[A\u001b[A\u001b[A\u001b[A\u001b[A"
          ],
          "name": "stderr"
        },
        {
          "output_type": "stream",
          "text": [
            "image.img_to_array(img) =  (350, 350, 3)\n",
            "np.expand_dims =  (1, 350, 350, 3)\n"
          ],
          "name": "stdout"
        },
        {
          "output_type": "stream",
          "text": [
            "\n",
            "\n",
            "\n",
            "\n",
            "\n",
            "\n",
            "\n",
            "\n",
            "\n",
            " 94%|█████████▍| 267/283 [02:59<00:09,  1.65it/s]\u001b[A\u001b[A\u001b[A\u001b[A\u001b[A\u001b[A\u001b[A\u001b[A\u001b[A"
          ],
          "name": "stderr"
        },
        {
          "output_type": "stream",
          "text": [
            "image.img_to_array(img) =  (350, 350, 3)\n",
            "np.expand_dims =  (1, 350, 350, 3)\n"
          ],
          "name": "stdout"
        },
        {
          "output_type": "stream",
          "text": [
            "\n",
            "\n",
            "\n",
            "\n",
            "\n",
            "\n",
            "\n",
            "\n",
            "\n",
            " 95%|█████████▍| 268/283 [03:00<00:09,  1.59it/s]\u001b[A\u001b[A\u001b[A\u001b[A\u001b[A\u001b[A\u001b[A\u001b[A\u001b[A"
          ],
          "name": "stderr"
        },
        {
          "output_type": "stream",
          "text": [
            "image.img_to_array(img) =  (350, 350, 3)\n",
            "np.expand_dims =  (1, 350, 350, 3)\n"
          ],
          "name": "stdout"
        },
        {
          "output_type": "stream",
          "text": [
            "\n",
            "\n",
            "\n",
            "\n",
            "\n",
            "\n",
            "\n",
            "\n",
            "\n",
            " 95%|█████████▌| 269/283 [03:00<00:08,  1.57it/s]\u001b[A\u001b[A\u001b[A\u001b[A\u001b[A\u001b[A\u001b[A\u001b[A\u001b[A"
          ],
          "name": "stderr"
        },
        {
          "output_type": "stream",
          "text": [
            "image.img_to_array(img) =  (350, 350, 3)\n",
            "np.expand_dims =  (1, 350, 350, 3)\n"
          ],
          "name": "stdout"
        },
        {
          "output_type": "stream",
          "text": [
            "\n",
            "\n",
            "\n",
            "\n",
            "\n",
            "\n",
            "\n",
            "\n",
            "\n",
            " 95%|█████████▌| 270/283 [03:01<00:08,  1.57it/s]\u001b[A\u001b[A\u001b[A\u001b[A\u001b[A\u001b[A\u001b[A\u001b[A\u001b[A"
          ],
          "name": "stderr"
        },
        {
          "output_type": "stream",
          "text": [
            "image.img_to_array(img) =  (350, 350, 3)\n",
            "np.expand_dims =  (1, 350, 350, 3)\n"
          ],
          "name": "stdout"
        },
        {
          "output_type": "stream",
          "text": [
            "\n",
            "\n",
            "\n",
            "\n",
            "\n",
            "\n",
            "\n",
            "\n",
            "\n",
            " 96%|█████████▌| 271/283 [03:01<00:07,  1.56it/s]\u001b[A\u001b[A\u001b[A\u001b[A\u001b[A\u001b[A\u001b[A\u001b[A\u001b[A"
          ],
          "name": "stderr"
        },
        {
          "output_type": "stream",
          "text": [
            "image.img_to_array(img) =  (350, 350, 3)\n",
            "np.expand_dims =  (1, 350, 350, 3)\n"
          ],
          "name": "stdout"
        },
        {
          "output_type": "stream",
          "text": [
            "\n",
            "\n",
            "\n",
            "\n",
            "\n",
            "\n",
            "\n",
            "\n",
            "\n",
            " 96%|█████████▌| 272/283 [03:02<00:07,  1.55it/s]\u001b[A\u001b[A\u001b[A\u001b[A\u001b[A\u001b[A\u001b[A\u001b[A\u001b[A"
          ],
          "name": "stderr"
        },
        {
          "output_type": "stream",
          "text": [
            "image.img_to_array(img) =  (350, 350, 3)\n",
            "np.expand_dims =  (1, 350, 350, 3)\n"
          ],
          "name": "stdout"
        },
        {
          "output_type": "stream",
          "text": [
            "\n",
            "\n",
            "\n",
            "\n",
            "\n",
            "\n",
            "\n",
            "\n",
            "\n",
            " 96%|█████████▋| 273/283 [03:03<00:05,  1.73it/s]\u001b[A\u001b[A\u001b[A\u001b[A\u001b[A\u001b[A\u001b[A\u001b[A\u001b[A"
          ],
          "name": "stderr"
        },
        {
          "output_type": "stream",
          "text": [
            "image.img_to_array(img) =  (350, 350, 3)\n",
            "np.expand_dims =  (1, 350, 350, 3)\n"
          ],
          "name": "stdout"
        },
        {
          "output_type": "stream",
          "text": [
            "\n",
            "\n",
            "\n",
            "\n",
            "\n",
            "\n",
            "\n",
            "\n",
            "\n",
            " 97%|█████████▋| 274/283 [03:04<00:08,  1.12it/s]\u001b[A\u001b[A\u001b[A\u001b[A\u001b[A\u001b[A\u001b[A\u001b[A\u001b[A"
          ],
          "name": "stderr"
        },
        {
          "output_type": "stream",
          "text": [
            "image.img_to_array(img) =  (350, 350, 3)\n",
            "np.expand_dims =  (1, 350, 350, 3)\n"
          ],
          "name": "stdout"
        },
        {
          "output_type": "stream",
          "text": [
            "\n",
            "\n",
            "\n",
            "\n",
            "\n",
            "\n",
            "\n",
            "\n",
            "\n",
            " 97%|█████████▋| 275/283 [03:05<00:06,  1.32it/s]\u001b[A\u001b[A\u001b[A\u001b[A\u001b[A\u001b[A\u001b[A\u001b[A\u001b[A"
          ],
          "name": "stderr"
        },
        {
          "output_type": "stream",
          "text": [
            "image.img_to_array(img) =  (350, 350, 3)\n",
            "np.expand_dims =  (1, 350, 350, 3)\n"
          ],
          "name": "stdout"
        },
        {
          "output_type": "stream",
          "text": [
            "\n",
            "\n",
            "\n",
            "\n",
            "\n",
            "\n",
            "\n",
            "\n",
            "\n",
            " 98%|█████████▊| 276/283 [03:05<00:04,  1.50it/s]\u001b[A\u001b[A\u001b[A\u001b[A\u001b[A\u001b[A\u001b[A\u001b[A\u001b[A"
          ],
          "name": "stderr"
        },
        {
          "output_type": "stream",
          "text": [
            "image.img_to_array(img) =  (350, 350, 3)\n",
            "np.expand_dims =  (1, 350, 350, 3)\n"
          ],
          "name": "stdout"
        },
        {
          "output_type": "stream",
          "text": [
            "\n",
            "\n",
            "\n",
            "\n",
            "\n",
            "\n",
            "\n",
            "\n",
            "\n",
            " 98%|█████████▊| 277/283 [03:06<00:03,  1.66it/s]\u001b[A\u001b[A\u001b[A\u001b[A\u001b[A\u001b[A\u001b[A\u001b[A\u001b[A"
          ],
          "name": "stderr"
        },
        {
          "output_type": "stream",
          "text": [
            "image.img_to_array(img) =  (350, 350, 3)\n",
            "np.expand_dims =  (1, 350, 350, 3)\n"
          ],
          "name": "stdout"
        },
        {
          "output_type": "stream",
          "text": [
            "\n",
            "\n",
            "\n",
            "\n",
            "\n",
            "\n",
            "\n",
            "\n",
            "\n",
            " 98%|█████████▊| 278/283 [03:06<00:03,  1.60it/s]\u001b[A\u001b[A\u001b[A\u001b[A\u001b[A\u001b[A\u001b[A\u001b[A\u001b[A"
          ],
          "name": "stderr"
        },
        {
          "output_type": "stream",
          "text": [
            "image.img_to_array(img) =  (350, 350, 3)\n",
            "np.expand_dims =  (1, 350, 350, 3)\n"
          ],
          "name": "stdout"
        },
        {
          "output_type": "stream",
          "text": [
            "\n",
            "\n",
            "\n",
            "\n",
            "\n",
            "\n",
            "\n",
            "\n",
            "\n",
            " 99%|█████████▊| 279/283 [03:07<00:02,  1.58it/s]\u001b[A\u001b[A\u001b[A\u001b[A\u001b[A\u001b[A\u001b[A\u001b[A\u001b[A"
          ],
          "name": "stderr"
        },
        {
          "output_type": "stream",
          "text": [
            "image.img_to_array(img) =  (350, 350, 3)\n",
            "np.expand_dims =  (1, 350, 350, 3)\n"
          ],
          "name": "stdout"
        },
        {
          "output_type": "stream",
          "text": [
            "\n",
            "\n",
            "\n",
            "\n",
            "\n",
            "\n",
            "\n",
            "\n",
            "\n",
            " 99%|█████████▉| 280/283 [03:07<00:01,  1.73it/s]\u001b[A\u001b[A\u001b[A\u001b[A\u001b[A\u001b[A\u001b[A\u001b[A\u001b[A"
          ],
          "name": "stderr"
        },
        {
          "output_type": "stream",
          "text": [
            "image.img_to_array(img) =  (350, 350, 3)\n",
            "np.expand_dims =  (1, 350, 350, 3)\n"
          ],
          "name": "stdout"
        },
        {
          "output_type": "stream",
          "text": [
            "\n",
            "\n",
            "\n",
            "\n",
            "\n",
            "\n",
            "\n",
            "\n",
            "\n",
            " 99%|█████████▉| 281/283 [03:08<00:01,  1.63it/s]\u001b[A\u001b[A\u001b[A\u001b[A\u001b[A\u001b[A\u001b[A\u001b[A\u001b[A"
          ],
          "name": "stderr"
        },
        {
          "output_type": "stream",
          "text": [
            "image.img_to_array(img) =  (350, 350, 3)\n",
            "np.expand_dims =  (1, 350, 350, 3)\n"
          ],
          "name": "stdout"
        },
        {
          "output_type": "stream",
          "text": [
            "\n",
            "\n",
            "\n",
            "\n",
            "\n",
            "\n",
            "\n",
            "\n",
            "\n",
            "100%|█████████▉| 282/283 [03:09<00:00,  1.51it/s]\u001b[A\u001b[A\u001b[A\u001b[A\u001b[A\u001b[A\u001b[A\u001b[A\u001b[A"
          ],
          "name": "stderr"
        },
        {
          "output_type": "stream",
          "text": [
            "image.img_to_array(img) =  (350, 350, 3)\n",
            "np.expand_dims =  (1, 350, 350, 3)\n"
          ],
          "name": "stdout"
        },
        {
          "output_type": "stream",
          "text": [
            "\n",
            "\n",
            "\n",
            "\n",
            "\n",
            "\n",
            "\n",
            "\n",
            "\n",
            "100%|██████████| 283/283 [03:09<00:00,  1.49it/s]\n",
            "\n",
            "\n",
            "\n",
            "\n",
            "\n",
            "\n",
            "\n",
            "\n",
            "\n",
            "  0%|          | 0/71 [00:00<?, ?it/s]\u001b[A\u001b[A\u001b[A\u001b[A\u001b[A\u001b[A\u001b[A\u001b[A\u001b[A"
          ],
          "name": "stderr"
        },
        {
          "output_type": "stream",
          "text": [
            "image.img_to_array(img) =  (350, 350, 3)\n",
            "np.expand_dims =  (1, 350, 350, 3)\n"
          ],
          "name": "stdout"
        },
        {
          "output_type": "stream",
          "text": [
            "\n",
            "\n",
            "\n",
            "\n",
            "\n",
            "\n",
            "\n",
            "\n",
            "\n",
            "  1%|▏         | 1/71 [00:00<00:46,  1.51it/s]\u001b[A\u001b[A\u001b[A\u001b[A\u001b[A\u001b[A\u001b[A\u001b[A\u001b[A"
          ],
          "name": "stderr"
        },
        {
          "output_type": "stream",
          "text": [
            "image.img_to_array(img) =  (350, 350, 3)\n",
            "np.expand_dims =  (1, 350, 350, 3)\n"
          ],
          "name": "stdout"
        },
        {
          "output_type": "stream",
          "text": [
            "\n",
            "\n",
            "\n",
            "\n",
            "\n",
            "\n",
            "\n",
            "\n",
            "\n",
            "  3%|▎         | 2/71 [00:01<00:46,  1.49it/s]\u001b[A\u001b[A\u001b[A\u001b[A\u001b[A\u001b[A\u001b[A\u001b[A\u001b[A"
          ],
          "name": "stderr"
        },
        {
          "output_type": "stream",
          "text": [
            "image.img_to_array(img) =  (350, 350, 3)\n",
            "np.expand_dims =  (1, 350, 350, 3)\n"
          ],
          "name": "stdout"
        },
        {
          "output_type": "stream",
          "text": [
            "\n",
            "\n",
            "\n",
            "\n",
            "\n",
            "\n",
            "\n",
            "\n",
            "\n",
            "  4%|▍         | 3/71 [00:02<00:48,  1.41it/s]\u001b[A\u001b[A\u001b[A\u001b[A\u001b[A\u001b[A\u001b[A\u001b[A\u001b[A"
          ],
          "name": "stderr"
        },
        {
          "output_type": "stream",
          "text": [
            "image.img_to_array(img) =  (350, 350, 3)\n",
            "np.expand_dims =  (1, 350, 350, 3)\n"
          ],
          "name": "stdout"
        },
        {
          "output_type": "stream",
          "text": [
            "\n",
            "\n",
            "\n",
            "\n",
            "\n",
            "\n",
            "\n",
            "\n",
            "\n",
            "  6%|▌         | 4/71 [00:02<00:48,  1.37it/s]\u001b[A\u001b[A\u001b[A\u001b[A\u001b[A\u001b[A\u001b[A\u001b[A\u001b[A"
          ],
          "name": "stderr"
        },
        {
          "output_type": "stream",
          "text": [
            "image.img_to_array(img) =  (350, 350, 3)\n",
            "np.expand_dims =  (1, 350, 350, 3)\n"
          ],
          "name": "stdout"
        },
        {
          "output_type": "stream",
          "text": [
            "\n",
            "\n",
            "\n",
            "\n",
            "\n",
            "\n",
            "\n",
            "\n",
            "\n",
            "  7%|▋         | 5/71 [00:03<00:46,  1.41it/s]\u001b[A\u001b[A\u001b[A\u001b[A\u001b[A\u001b[A\u001b[A\u001b[A\u001b[A"
          ],
          "name": "stderr"
        },
        {
          "output_type": "stream",
          "text": [
            "image.img_to_array(img) =  (350, 350, 3)\n",
            "np.expand_dims =  (1, 350, 350, 3)\n"
          ],
          "name": "stdout"
        },
        {
          "output_type": "stream",
          "text": [
            "\n",
            "\n",
            "\n",
            "\n",
            "\n",
            "\n",
            "\n",
            "\n",
            "\n",
            "  8%|▊         | 6/71 [00:04<00:40,  1.60it/s]\u001b[A\u001b[A\u001b[A\u001b[A\u001b[A\u001b[A\u001b[A\u001b[A\u001b[A"
          ],
          "name": "stderr"
        },
        {
          "output_type": "stream",
          "text": [
            "image.img_to_array(img) =  (350, 350, 3)\n",
            "np.expand_dims =  (1, 350, 350, 3)\n"
          ],
          "name": "stdout"
        },
        {
          "output_type": "stream",
          "text": [
            "\n",
            "\n",
            "\n",
            "\n",
            "\n",
            "\n",
            "\n",
            "\n",
            "\n",
            " 10%|▉         | 7/71 [00:04<00:36,  1.77it/s]\u001b[A\u001b[A\u001b[A\u001b[A\u001b[A\u001b[A\u001b[A\u001b[A\u001b[A"
          ],
          "name": "stderr"
        },
        {
          "output_type": "stream",
          "text": [
            "image.img_to_array(img) =  (350, 350, 3)\n",
            "np.expand_dims =  (1, 350, 350, 3)\n"
          ],
          "name": "stdout"
        },
        {
          "output_type": "stream",
          "text": [
            "\n",
            "\n",
            "\n",
            "\n",
            "\n",
            "\n",
            "\n",
            "\n",
            "\n",
            " 11%|█▏        | 8/71 [00:05<00:37,  1.66it/s]\u001b[A\u001b[A\u001b[A\u001b[A\u001b[A\u001b[A\u001b[A\u001b[A\u001b[A"
          ],
          "name": "stderr"
        },
        {
          "output_type": "stream",
          "text": [
            "image.img_to_array(img) =  (350, 350, 3)\n",
            "np.expand_dims =  (1, 350, 350, 3)\n"
          ],
          "name": "stdout"
        },
        {
          "output_type": "stream",
          "text": [
            "\n",
            "\n",
            "\n",
            "\n",
            "\n",
            "\n",
            "\n",
            "\n",
            "\n",
            " 13%|█▎        | 9/71 [00:05<00:38,  1.63it/s]\u001b[A\u001b[A\u001b[A\u001b[A\u001b[A\u001b[A\u001b[A\u001b[A\u001b[A"
          ],
          "name": "stderr"
        },
        {
          "output_type": "stream",
          "text": [
            "image.img_to_array(img) =  (350, 350, 3)\n",
            "np.expand_dims =  (1, 350, 350, 3)\n"
          ],
          "name": "stdout"
        },
        {
          "output_type": "stream",
          "text": [
            "\n",
            "\n",
            "\n",
            "\n",
            "\n",
            "\n",
            "\n",
            "\n",
            "\n",
            " 14%|█▍        | 10/71 [00:06<00:37,  1.61it/s]\u001b[A\u001b[A\u001b[A\u001b[A\u001b[A\u001b[A\u001b[A\u001b[A\u001b[A"
          ],
          "name": "stderr"
        },
        {
          "output_type": "stream",
          "text": [
            "image.img_to_array(img) =  (350, 350, 3)\n",
            "np.expand_dims =  (1, 350, 350, 3)\n"
          ],
          "name": "stdout"
        },
        {
          "output_type": "stream",
          "text": [
            "\n",
            "\n",
            "\n",
            "\n",
            "\n",
            "\n",
            "\n",
            "\n",
            "\n",
            " 15%|█▌        | 11/71 [00:07<00:38,  1.58it/s]\u001b[A\u001b[A\u001b[A\u001b[A\u001b[A\u001b[A\u001b[A\u001b[A\u001b[A"
          ],
          "name": "stderr"
        },
        {
          "output_type": "stream",
          "text": [
            "image.img_to_array(img) =  (350, 350, 3)\n",
            "np.expand_dims =  (1, 350, 350, 3)\n"
          ],
          "name": "stdout"
        },
        {
          "output_type": "stream",
          "text": [
            "\n",
            "\n",
            "\n",
            "\n",
            "\n",
            "\n",
            "\n",
            "\n",
            "\n",
            " 17%|█▋        | 12/71 [00:07<00:39,  1.49it/s]\u001b[A\u001b[A\u001b[A\u001b[A\u001b[A\u001b[A\u001b[A\u001b[A\u001b[A"
          ],
          "name": "stderr"
        },
        {
          "output_type": "stream",
          "text": [
            "image.img_to_array(img) =  (350, 350, 3)\n",
            "np.expand_dims =  (1, 350, 350, 3)\n"
          ],
          "name": "stdout"
        },
        {
          "output_type": "stream",
          "text": [
            "\n",
            "\n",
            "\n",
            "\n",
            "\n",
            "\n",
            "\n",
            "\n",
            "\n",
            " 18%|█▊        | 13/71 [00:08<00:38,  1.50it/s]\u001b[A\u001b[A\u001b[A\u001b[A\u001b[A\u001b[A\u001b[A\u001b[A\u001b[A"
          ],
          "name": "stderr"
        },
        {
          "output_type": "stream",
          "text": [
            "image.img_to_array(img) =  (350, 350, 3)\n",
            "np.expand_dims =  (1, 350, 350, 3)\n"
          ],
          "name": "stdout"
        },
        {
          "output_type": "stream",
          "text": [
            "\n",
            "\n",
            "\n",
            "\n",
            "\n",
            "\n",
            "\n",
            "\n",
            "\n",
            " 20%|█▉        | 14/71 [00:09<00:37,  1.53it/s]\u001b[A\u001b[A\u001b[A\u001b[A\u001b[A\u001b[A\u001b[A\u001b[A\u001b[A"
          ],
          "name": "stderr"
        },
        {
          "output_type": "stream",
          "text": [
            "image.img_to_array(img) =  (350, 350, 3)\n",
            "np.expand_dims =  (1, 350, 350, 3)\n"
          ],
          "name": "stdout"
        },
        {
          "output_type": "stream",
          "text": [
            "\n",
            "\n",
            "\n",
            "\n",
            "\n",
            "\n",
            "\n",
            "\n",
            "\n",
            " 21%|██        | 15/71 [00:09<00:36,  1.53it/s]\u001b[A\u001b[A\u001b[A\u001b[A\u001b[A\u001b[A\u001b[A\u001b[A\u001b[A"
          ],
          "name": "stderr"
        },
        {
          "output_type": "stream",
          "text": [
            "image.img_to_array(img) =  (350, 350, 3)\n",
            "np.expand_dims =  (1, 350, 350, 3)\n"
          ],
          "name": "stdout"
        },
        {
          "output_type": "stream",
          "text": [
            "\n",
            "\n",
            "\n",
            "\n",
            "\n",
            "\n",
            "\n",
            "\n",
            "\n",
            " 23%|██▎       | 16/71 [00:10<00:35,  1.55it/s]\u001b[A\u001b[A\u001b[A\u001b[A\u001b[A\u001b[A\u001b[A\u001b[A\u001b[A"
          ],
          "name": "stderr"
        },
        {
          "output_type": "stream",
          "text": [
            "image.img_to_array(img) =  (350, 350, 3)\n",
            "np.expand_dims =  (1, 350, 350, 3)\n"
          ],
          "name": "stdout"
        },
        {
          "output_type": "stream",
          "text": [
            "\n",
            "\n",
            "\n",
            "\n",
            "\n",
            "\n",
            "\n",
            "\n",
            "\n",
            " 24%|██▍       | 17/71 [00:11<00:36,  1.48it/s]\u001b[A\u001b[A\u001b[A\u001b[A\u001b[A\u001b[A\u001b[A\u001b[A\u001b[A"
          ],
          "name": "stderr"
        },
        {
          "output_type": "stream",
          "text": [
            "image.img_to_array(img) =  (350, 350, 3)\n",
            "np.expand_dims =  (1, 350, 350, 3)\n"
          ],
          "name": "stdout"
        },
        {
          "output_type": "stream",
          "text": [
            "\n",
            "\n",
            "\n",
            "\n",
            "\n",
            "\n",
            "\n",
            "\n",
            "\n",
            " 25%|██▌       | 18/71 [00:11<00:37,  1.40it/s]\u001b[A\u001b[A\u001b[A\u001b[A\u001b[A\u001b[A\u001b[A\u001b[A\u001b[A"
          ],
          "name": "stderr"
        },
        {
          "output_type": "stream",
          "text": [
            "image.img_to_array(img) =  (350, 350, 3)\n",
            "np.expand_dims =  (1, 350, 350, 3)\n"
          ],
          "name": "stdout"
        },
        {
          "output_type": "stream",
          "text": [
            "\n",
            "\n",
            "\n",
            "\n",
            "\n",
            "\n",
            "\n",
            "\n",
            "\n",
            " 27%|██▋       | 19/71 [00:12<00:36,  1.44it/s]\u001b[A\u001b[A\u001b[A\u001b[A\u001b[A\u001b[A\u001b[A\u001b[A\u001b[A"
          ],
          "name": "stderr"
        },
        {
          "output_type": "stream",
          "text": [
            "image.img_to_array(img) =  (350, 350, 3)\n",
            "np.expand_dims =  (1, 350, 350, 3)\n"
          ],
          "name": "stdout"
        },
        {
          "output_type": "stream",
          "text": [
            "\n",
            "\n",
            "\n",
            "\n",
            "\n",
            "\n",
            "\n",
            "\n",
            "\n",
            " 28%|██▊       | 20/71 [00:13<00:34,  1.46it/s]\u001b[A\u001b[A\u001b[A\u001b[A\u001b[A\u001b[A\u001b[A\u001b[A\u001b[A"
          ],
          "name": "stderr"
        },
        {
          "output_type": "stream",
          "text": [
            "image.img_to_array(img) =  (350, 350, 3)\n",
            "np.expand_dims =  (1, 350, 350, 3)\n"
          ],
          "name": "stdout"
        },
        {
          "output_type": "stream",
          "text": [
            "\n",
            "\n",
            "\n",
            "\n",
            "\n",
            "\n",
            "\n",
            "\n",
            "\n",
            " 30%|██▉       | 21/71 [00:13<00:30,  1.64it/s]\u001b[A\u001b[A\u001b[A\u001b[A\u001b[A\u001b[A\u001b[A\u001b[A\u001b[A"
          ],
          "name": "stderr"
        },
        {
          "output_type": "stream",
          "text": [
            "image.img_to_array(img) =  (350, 350, 3)\n",
            "np.expand_dims =  (1, 350, 350, 3)\n"
          ],
          "name": "stdout"
        },
        {
          "output_type": "stream",
          "text": [
            "\n",
            "\n",
            "\n",
            "\n",
            "\n",
            "\n",
            "\n",
            "\n",
            "\n",
            " 31%|███       | 22/71 [00:14<00:27,  1.81it/s]\u001b[A\u001b[A\u001b[A\u001b[A\u001b[A\u001b[A\u001b[A\u001b[A\u001b[A"
          ],
          "name": "stderr"
        },
        {
          "output_type": "stream",
          "text": [
            "image.img_to_array(img) =  (350, 350, 3)\n",
            "np.expand_dims =  (1, 350, 350, 3)\n"
          ],
          "name": "stdout"
        },
        {
          "output_type": "stream",
          "text": [
            "\n",
            "\n",
            "\n",
            "\n",
            "\n",
            "\n",
            "\n",
            "\n",
            "\n",
            " 32%|███▏      | 23/71 [00:14<00:24,  1.93it/s]\u001b[A\u001b[A\u001b[A\u001b[A\u001b[A\u001b[A\u001b[A\u001b[A\u001b[A"
          ],
          "name": "stderr"
        },
        {
          "output_type": "stream",
          "text": [
            "image.img_to_array(img) =  (350, 350, 3)\n",
            "np.expand_dims =  (1, 350, 350, 3)\n"
          ],
          "name": "stdout"
        },
        {
          "output_type": "stream",
          "text": [
            "\n",
            "\n",
            "\n",
            "\n",
            "\n",
            "\n",
            "\n",
            "\n",
            "\n",
            " 34%|███▍      | 24/71 [00:15<00:27,  1.71it/s]\u001b[A\u001b[A\u001b[A\u001b[A\u001b[A\u001b[A\u001b[A\u001b[A\u001b[A"
          ],
          "name": "stderr"
        },
        {
          "output_type": "stream",
          "text": [
            "image.img_to_array(img) =  (350, 350, 3)\n",
            "np.expand_dims =  (1, 350, 350, 3)\n"
          ],
          "name": "stdout"
        },
        {
          "output_type": "stream",
          "text": [
            "\n",
            "\n",
            "\n",
            "\n",
            "\n",
            "\n",
            "\n",
            "\n",
            "\n",
            " 35%|███▌      | 25/71 [00:16<00:29,  1.56it/s]\u001b[A\u001b[A\u001b[A\u001b[A\u001b[A\u001b[A\u001b[A\u001b[A\u001b[A"
          ],
          "name": "stderr"
        },
        {
          "output_type": "stream",
          "text": [
            "image.img_to_array(img) =  (350, 350, 3)\n",
            "np.expand_dims =  (1, 350, 350, 3)\n"
          ],
          "name": "stdout"
        },
        {
          "output_type": "stream",
          "text": [
            "\n",
            "\n",
            "\n",
            "\n",
            "\n",
            "\n",
            "\n",
            "\n",
            "\n",
            " 37%|███▋      | 26/71 [00:16<00:31,  1.42it/s]\u001b[A\u001b[A\u001b[A\u001b[A\u001b[A\u001b[A\u001b[A\u001b[A\u001b[A"
          ],
          "name": "stderr"
        },
        {
          "output_type": "stream",
          "text": [
            "image.img_to_array(img) =  (350, 350, 3)\n",
            "np.expand_dims =  (1, 350, 350, 3)\n"
          ],
          "name": "stdout"
        },
        {
          "output_type": "stream",
          "text": [
            "\n",
            "\n",
            "\n",
            "\n",
            "\n",
            "\n",
            "\n",
            "\n",
            "\n",
            " 38%|███▊      | 27/71 [00:17<00:27,  1.61it/s]\u001b[A\u001b[A\u001b[A\u001b[A\u001b[A\u001b[A\u001b[A\u001b[A\u001b[A"
          ],
          "name": "stderr"
        },
        {
          "output_type": "stream",
          "text": [
            "image.img_to_array(img) =  (350, 350, 3)\n",
            "np.expand_dims =  (1, 350, 350, 3)\n"
          ],
          "name": "stdout"
        },
        {
          "output_type": "stream",
          "text": [
            "\n",
            "\n",
            "\n",
            "\n",
            "\n",
            "\n",
            "\n",
            "\n",
            "\n",
            " 39%|███▉      | 28/71 [00:18<00:27,  1.58it/s]\u001b[A\u001b[A\u001b[A\u001b[A\u001b[A\u001b[A\u001b[A\u001b[A\u001b[A"
          ],
          "name": "stderr"
        },
        {
          "output_type": "stream",
          "text": [
            "image.img_to_array(img) =  (350, 350, 3)\n",
            "np.expand_dims =  (1, 350, 350, 3)\n"
          ],
          "name": "stdout"
        },
        {
          "output_type": "stream",
          "text": [
            "\n",
            "\n",
            "\n",
            "\n",
            "\n",
            "\n",
            "\n",
            "\n",
            "\n",
            " 41%|████      | 29/71 [00:18<00:24,  1.75it/s]\u001b[A\u001b[A\u001b[A\u001b[A\u001b[A\u001b[A\u001b[A\u001b[A\u001b[A"
          ],
          "name": "stderr"
        },
        {
          "output_type": "stream",
          "text": [
            "image.img_to_array(img) =  (350, 350, 3)\n",
            "np.expand_dims =  (1, 350, 350, 3)\n"
          ],
          "name": "stdout"
        },
        {
          "output_type": "stream",
          "text": [
            "\n",
            "\n",
            "\n",
            "\n",
            "\n",
            "\n",
            "\n",
            "\n",
            "\n",
            " 42%|████▏     | 30/71 [00:18<00:21,  1.88it/s]\u001b[A\u001b[A\u001b[A\u001b[A\u001b[A\u001b[A\u001b[A\u001b[A\u001b[A"
          ],
          "name": "stderr"
        },
        {
          "output_type": "stream",
          "text": [
            "image.img_to_array(img) =  (350, 350, 3)\n",
            "np.expand_dims =  (1, 350, 350, 3)\n"
          ],
          "name": "stdout"
        },
        {
          "output_type": "stream",
          "text": [
            "\n",
            "\n",
            "\n",
            "\n",
            "\n",
            "\n",
            "\n",
            "\n",
            "\n",
            " 44%|████▎     | 31/71 [00:19<00:20,  2.00it/s]\u001b[A\u001b[A\u001b[A\u001b[A\u001b[A\u001b[A\u001b[A\u001b[A\u001b[A"
          ],
          "name": "stderr"
        },
        {
          "output_type": "stream",
          "text": [
            "image.img_to_array(img) =  (350, 350, 3)\n",
            "np.expand_dims =  (1, 350, 350, 3)\n"
          ],
          "name": "stdout"
        },
        {
          "output_type": "stream",
          "text": [
            "\n",
            "\n",
            "\n",
            "\n",
            "\n",
            "\n",
            "\n",
            "\n",
            "\n",
            " 45%|████▌     | 32/71 [00:19<00:18,  2.09it/s]\u001b[A\u001b[A\u001b[A\u001b[A\u001b[A\u001b[A\u001b[A\u001b[A\u001b[A"
          ],
          "name": "stderr"
        },
        {
          "output_type": "stream",
          "text": [
            "image.img_to_array(img) =  (350, 350, 3)\n",
            "np.expand_dims =  (1, 350, 350, 3)\n"
          ],
          "name": "stdout"
        },
        {
          "output_type": "stream",
          "text": [
            "\n",
            "\n",
            "\n",
            "\n",
            "\n",
            "\n",
            "\n",
            "\n",
            "\n",
            " 46%|████▋     | 33/71 [00:20<00:17,  2.17it/s]\u001b[A\u001b[A\u001b[A\u001b[A\u001b[A\u001b[A\u001b[A\u001b[A\u001b[A"
          ],
          "name": "stderr"
        },
        {
          "output_type": "stream",
          "text": [
            "image.img_to_array(img) =  (350, 350, 3)\n",
            "np.expand_dims =  (1, 350, 350, 3)\n"
          ],
          "name": "stdout"
        },
        {
          "output_type": "stream",
          "text": [
            "\n",
            "\n",
            "\n",
            "\n",
            "\n",
            "\n",
            "\n",
            "\n",
            "\n",
            " 48%|████▊     | 34/71 [00:20<00:16,  2.22it/s]\u001b[A\u001b[A\u001b[A\u001b[A\u001b[A\u001b[A\u001b[A\u001b[A\u001b[A"
          ],
          "name": "stderr"
        },
        {
          "output_type": "stream",
          "text": [
            "image.img_to_array(img) =  (350, 350, 3)\n",
            "np.expand_dims =  (1, 350, 350, 3)\n"
          ],
          "name": "stdout"
        },
        {
          "output_type": "stream",
          "text": [
            "\n",
            "\n",
            "\n",
            "\n",
            "\n",
            "\n",
            "\n",
            "\n",
            "\n",
            " 49%|████▉     | 35/71 [00:21<00:19,  1.88it/s]\u001b[A\u001b[A\u001b[A\u001b[A\u001b[A\u001b[A\u001b[A\u001b[A\u001b[A"
          ],
          "name": "stderr"
        },
        {
          "output_type": "stream",
          "text": [
            "image.img_to_array(img) =  (350, 350, 3)\n",
            "np.expand_dims =  (1, 350, 350, 3)\n"
          ],
          "name": "stdout"
        },
        {
          "output_type": "stream",
          "text": [
            "\n",
            "\n",
            "\n",
            "\n",
            "\n",
            "\n",
            "\n",
            "\n",
            "\n",
            " 51%|█████     | 36/71 [00:21<00:17,  1.98it/s]\u001b[A\u001b[A\u001b[A\u001b[A\u001b[A\u001b[A\u001b[A\u001b[A\u001b[A"
          ],
          "name": "stderr"
        },
        {
          "output_type": "stream",
          "text": [
            "image.img_to_array(img) =  (350, 350, 3)\n",
            "np.expand_dims =  (1, 350, 350, 3)\n"
          ],
          "name": "stdout"
        },
        {
          "output_type": "stream",
          "text": [
            "\n",
            "\n",
            "\n",
            "\n",
            "\n",
            "\n",
            "\n",
            "\n",
            "\n",
            " 52%|█████▏    | 37/71 [00:22<00:16,  2.09it/s]\u001b[A\u001b[A\u001b[A\u001b[A\u001b[A\u001b[A\u001b[A\u001b[A\u001b[A"
          ],
          "name": "stderr"
        },
        {
          "output_type": "stream",
          "text": [
            "image.img_to_array(img) =  (350, 350, 3)\n",
            "np.expand_dims =  (1, 350, 350, 3)\n"
          ],
          "name": "stdout"
        },
        {
          "output_type": "stream",
          "text": [
            "\n",
            "\n",
            "\n",
            "\n",
            "\n",
            "\n",
            "\n",
            "\n",
            "\n",
            " 54%|█████▎    | 38/71 [00:22<00:15,  2.16it/s]\u001b[A\u001b[A\u001b[A\u001b[A\u001b[A\u001b[A\u001b[A\u001b[A\u001b[A"
          ],
          "name": "stderr"
        },
        {
          "output_type": "stream",
          "text": [
            "image.img_to_array(img) =  (350, 350, 3)\n",
            "np.expand_dims =  (1, 350, 350, 3)\n"
          ],
          "name": "stdout"
        },
        {
          "output_type": "stream",
          "text": [
            "\n",
            "\n",
            "\n",
            "\n",
            "\n",
            "\n",
            "\n",
            "\n",
            "\n",
            " 55%|█████▍    | 39/71 [00:23<00:19,  1.68it/s]\u001b[A\u001b[A\u001b[A\u001b[A\u001b[A\u001b[A\u001b[A\u001b[A\u001b[A"
          ],
          "name": "stderr"
        },
        {
          "output_type": "stream",
          "text": [
            "image.img_to_array(img) =  (350, 350, 3)\n",
            "np.expand_dims =  (1, 350, 350, 3)\n"
          ],
          "name": "stdout"
        },
        {
          "output_type": "stream",
          "text": [
            "\n",
            "\n",
            "\n",
            "\n",
            "\n",
            "\n",
            "\n",
            "\n",
            "\n",
            " 56%|█████▋    | 40/71 [00:23<00:16,  1.83it/s]\u001b[A\u001b[A\u001b[A\u001b[A\u001b[A\u001b[A\u001b[A\u001b[A\u001b[A"
          ],
          "name": "stderr"
        },
        {
          "output_type": "stream",
          "text": [
            "image.img_to_array(img) =  (350, 350, 3)\n",
            "np.expand_dims =  (1, 350, 350, 3)\n"
          ],
          "name": "stdout"
        },
        {
          "output_type": "stream",
          "text": [
            "\n",
            "\n",
            "\n",
            "\n",
            "\n",
            "\n",
            "\n",
            "\n",
            "\n",
            " 58%|█████▊    | 41/71 [00:24<00:17,  1.73it/s]\u001b[A\u001b[A\u001b[A\u001b[A\u001b[A\u001b[A\u001b[A\u001b[A\u001b[A"
          ],
          "name": "stderr"
        },
        {
          "output_type": "stream",
          "text": [
            "image.img_to_array(img) =  (350, 350, 3)\n",
            "np.expand_dims =  (1, 350, 350, 3)\n"
          ],
          "name": "stdout"
        },
        {
          "output_type": "stream",
          "text": [
            "\n",
            "\n",
            "\n",
            "\n",
            "\n",
            "\n",
            "\n",
            "\n",
            "\n",
            " 59%|█████▉    | 42/71 [00:25<00:17,  1.67it/s]\u001b[A\u001b[A\u001b[A\u001b[A\u001b[A\u001b[A\u001b[A\u001b[A\u001b[A"
          ],
          "name": "stderr"
        },
        {
          "output_type": "stream",
          "text": [
            "image.img_to_array(img) =  (350, 350, 3)\n",
            "np.expand_dims =  (1, 350, 350, 3)\n"
          ],
          "name": "stdout"
        },
        {
          "output_type": "stream",
          "text": [
            "\n",
            "\n",
            "\n",
            "\n",
            "\n",
            "\n",
            "\n",
            "\n",
            "\n",
            " 61%|██████    | 43/71 [00:25<00:15,  1.82it/s]\u001b[A\u001b[A\u001b[A\u001b[A\u001b[A\u001b[A\u001b[A\u001b[A\u001b[A"
          ],
          "name": "stderr"
        },
        {
          "output_type": "stream",
          "text": [
            "image.img_to_array(img) =  (350, 350, 3)\n",
            "np.expand_dims =  (1, 350, 350, 3)\n"
          ],
          "name": "stdout"
        },
        {
          "output_type": "stream",
          "text": [
            "\n",
            "\n",
            "\n",
            "\n",
            "\n",
            "\n",
            "\n",
            "\n",
            "\n",
            " 62%|██████▏   | 44/71 [00:26<00:16,  1.61it/s]\u001b[A\u001b[A\u001b[A\u001b[A\u001b[A\u001b[A\u001b[A\u001b[A\u001b[A"
          ],
          "name": "stderr"
        },
        {
          "output_type": "stream",
          "text": [
            "image.img_to_array(img) =  (350, 350, 3)\n",
            "np.expand_dims =  (1, 350, 350, 3)\n"
          ],
          "name": "stdout"
        },
        {
          "output_type": "stream",
          "text": [
            "\n",
            "\n",
            "\n",
            "\n",
            "\n",
            "\n",
            "\n",
            "\n",
            "\n",
            " 63%|██████▎   | 45/71 [00:26<00:14,  1.78it/s]\u001b[A\u001b[A\u001b[A\u001b[A\u001b[A\u001b[A\u001b[A\u001b[A\u001b[A"
          ],
          "name": "stderr"
        },
        {
          "output_type": "stream",
          "text": [
            "image.img_to_array(img) =  (350, 350, 3)\n",
            "np.expand_dims =  (1, 350, 350, 3)\n"
          ],
          "name": "stdout"
        },
        {
          "output_type": "stream",
          "text": [
            "\n",
            "\n",
            "\n",
            "\n",
            "\n",
            "\n",
            "\n",
            "\n",
            "\n",
            " 65%|██████▍   | 46/71 [00:27<00:13,  1.91it/s]\u001b[A\u001b[A\u001b[A\u001b[A\u001b[A\u001b[A\u001b[A\u001b[A\u001b[A"
          ],
          "name": "stderr"
        },
        {
          "output_type": "stream",
          "text": [
            "image.img_to_array(img) =  (350, 350, 3)\n",
            "np.expand_dims =  (1, 350, 350, 3)\n"
          ],
          "name": "stdout"
        },
        {
          "output_type": "stream",
          "text": [
            "\n",
            "\n",
            "\n",
            "\n",
            "\n",
            "\n",
            "\n",
            "\n",
            "\n",
            " 66%|██████▌   | 47/71 [00:27<00:11,  2.00it/s]\u001b[A\u001b[A\u001b[A\u001b[A\u001b[A\u001b[A\u001b[A\u001b[A\u001b[A"
          ],
          "name": "stderr"
        },
        {
          "output_type": "stream",
          "text": [
            "image.img_to_array(img) =  (350, 350, 3)\n",
            "np.expand_dims =  (1, 350, 350, 3)\n"
          ],
          "name": "stdout"
        },
        {
          "output_type": "stream",
          "text": [
            "\n",
            "\n",
            "\n",
            "\n",
            "\n",
            "\n",
            "\n",
            "\n",
            "\n",
            " 68%|██████▊   | 48/71 [00:28<00:12,  1.84it/s]\u001b[A\u001b[A\u001b[A\u001b[A\u001b[A\u001b[A\u001b[A\u001b[A\u001b[A"
          ],
          "name": "stderr"
        },
        {
          "output_type": "stream",
          "text": [
            "image.img_to_array(img) =  (350, 350, 3)\n",
            "np.expand_dims =  (1, 350, 350, 3)\n"
          ],
          "name": "stdout"
        },
        {
          "output_type": "stream",
          "text": [
            "\n",
            "\n",
            "\n",
            "\n",
            "\n",
            "\n",
            "\n",
            "\n",
            "\n",
            " 69%|██████▉   | 49/71 [00:28<00:11,  1.97it/s]\u001b[A\u001b[A\u001b[A\u001b[A\u001b[A\u001b[A\u001b[A\u001b[A\u001b[A"
          ],
          "name": "stderr"
        },
        {
          "output_type": "stream",
          "text": [
            "image.img_to_array(img) =  (350, 350, 3)\n",
            "np.expand_dims =  (1, 350, 350, 3)\n"
          ],
          "name": "stdout"
        },
        {
          "output_type": "stream",
          "text": [
            "\n",
            "\n",
            "\n",
            "\n",
            "\n",
            "\n",
            "\n",
            "\n",
            "\n",
            " 70%|███████   | 50/71 [00:29<00:10,  2.06it/s]\u001b[A\u001b[A\u001b[A\u001b[A\u001b[A\u001b[A\u001b[A\u001b[A\u001b[A"
          ],
          "name": "stderr"
        },
        {
          "output_type": "stream",
          "text": [
            "image.img_to_array(img) =  (350, 350, 3)\n",
            "np.expand_dims =  (1, 350, 350, 3)\n"
          ],
          "name": "stdout"
        },
        {
          "output_type": "stream",
          "text": [
            "\n",
            "\n",
            "\n",
            "\n",
            "\n",
            "\n",
            "\n",
            "\n",
            "\n",
            " 72%|███████▏  | 51/71 [00:29<00:09,  2.13it/s]\u001b[A\u001b[A\u001b[A\u001b[A\u001b[A\u001b[A\u001b[A\u001b[A\u001b[A"
          ],
          "name": "stderr"
        },
        {
          "output_type": "stream",
          "text": [
            "image.img_to_array(img) =  (350, 350, 3)\n",
            "np.expand_dims =  (1, 350, 350, 3)\n"
          ],
          "name": "stdout"
        },
        {
          "output_type": "stream",
          "text": [
            "\n",
            "\n",
            "\n",
            "\n",
            "\n",
            "\n",
            "\n",
            "\n",
            "\n",
            " 73%|███████▎  | 52/71 [00:30<00:08,  2.17it/s]\u001b[A\u001b[A\u001b[A\u001b[A\u001b[A\u001b[A\u001b[A\u001b[A\u001b[A"
          ],
          "name": "stderr"
        },
        {
          "output_type": "stream",
          "text": [
            "image.img_to_array(img) =  (350, 350, 3)\n",
            "np.expand_dims =  (1, 350, 350, 3)\n"
          ],
          "name": "stdout"
        },
        {
          "output_type": "stream",
          "text": [
            "\n",
            "\n",
            "\n",
            "\n",
            "\n",
            "\n",
            "\n",
            "\n",
            "\n",
            " 75%|███████▍  | 53/71 [00:30<00:09,  1.95it/s]\u001b[A\u001b[A\u001b[A\u001b[A\u001b[A\u001b[A\u001b[A\u001b[A\u001b[A"
          ],
          "name": "stderr"
        },
        {
          "output_type": "stream",
          "text": [
            "image.img_to_array(img) =  (350, 350, 3)\n",
            "np.expand_dims =  (1, 350, 350, 3)\n"
          ],
          "name": "stdout"
        },
        {
          "output_type": "stream",
          "text": [
            "\n",
            "\n",
            "\n",
            "\n",
            "\n",
            "\n",
            "\n",
            "\n",
            "\n",
            " 76%|███████▌  | 54/71 [00:31<00:08,  2.06it/s]\u001b[A\u001b[A\u001b[A\u001b[A\u001b[A\u001b[A\u001b[A\u001b[A\u001b[A"
          ],
          "name": "stderr"
        },
        {
          "output_type": "stream",
          "text": [
            "image.img_to_array(img) =  (350, 350, 3)\n",
            "np.expand_dims =  (1, 350, 350, 3)\n"
          ],
          "name": "stdout"
        },
        {
          "output_type": "stream",
          "text": [
            "\n",
            "\n",
            "\n",
            "\n",
            "\n",
            "\n",
            "\n",
            "\n",
            "\n",
            " 77%|███████▋  | 55/71 [00:31<00:08,  1.82it/s]\u001b[A\u001b[A\u001b[A\u001b[A\u001b[A\u001b[A\u001b[A\u001b[A\u001b[A"
          ],
          "name": "stderr"
        },
        {
          "output_type": "stream",
          "text": [
            "image.img_to_array(img) =  (350, 350, 3)\n",
            "np.expand_dims =  (1, 350, 350, 3)\n"
          ],
          "name": "stdout"
        },
        {
          "output_type": "stream",
          "text": [
            "\n",
            "\n",
            "\n",
            "\n",
            "\n",
            "\n",
            "\n",
            "\n",
            "\n",
            " 79%|███████▉  | 56/71 [00:32<00:09,  1.61it/s]\u001b[A\u001b[A\u001b[A\u001b[A\u001b[A\u001b[A\u001b[A\u001b[A\u001b[A"
          ],
          "name": "stderr"
        },
        {
          "output_type": "stream",
          "text": [
            "image.img_to_array(img) =  (350, 350, 3)\n",
            "np.expand_dims =  (1, 350, 350, 3)\n"
          ],
          "name": "stdout"
        },
        {
          "output_type": "stream",
          "text": [
            "\n",
            "\n",
            "\n",
            "\n",
            "\n",
            "\n",
            "\n",
            "\n",
            "\n",
            " 80%|████████  | 57/71 [00:33<00:07,  1.76it/s]\u001b[A\u001b[A\u001b[A\u001b[A\u001b[A\u001b[A\u001b[A\u001b[A\u001b[A"
          ],
          "name": "stderr"
        },
        {
          "output_type": "stream",
          "text": [
            "image.img_to_array(img) =  (350, 350, 3)\n",
            "np.expand_dims =  (1, 350, 350, 3)\n"
          ],
          "name": "stdout"
        },
        {
          "output_type": "stream",
          "text": [
            "\n",
            "\n",
            "\n",
            "\n",
            "\n",
            "\n",
            "\n",
            "\n",
            "\n",
            " 82%|████████▏ | 58/71 [00:33<00:06,  1.90it/s]\u001b[A\u001b[A\u001b[A\u001b[A\u001b[A\u001b[A\u001b[A\u001b[A\u001b[A"
          ],
          "name": "stderr"
        },
        {
          "output_type": "stream",
          "text": [
            "image.img_to_array(img) =  (350, 350, 3)\n",
            "np.expand_dims =  (1, 350, 350, 3)\n"
          ],
          "name": "stdout"
        },
        {
          "output_type": "stream",
          "text": [
            "\n",
            "\n",
            "\n",
            "\n",
            "\n",
            "\n",
            "\n",
            "\n",
            "\n",
            " 83%|████████▎ | 59/71 [00:34<00:06,  1.74it/s]\u001b[A\u001b[A\u001b[A\u001b[A\u001b[A\u001b[A\u001b[A\u001b[A\u001b[A"
          ],
          "name": "stderr"
        },
        {
          "output_type": "stream",
          "text": [
            "image.img_to_array(img) =  (350, 350, 3)\n",
            "np.expand_dims =  (1, 350, 350, 3)\n"
          ],
          "name": "stdout"
        },
        {
          "output_type": "stream",
          "text": [
            "\n",
            "\n",
            "\n",
            "\n",
            "\n",
            "\n",
            "\n",
            "\n",
            "\n",
            " 85%|████████▍ | 60/71 [00:34<00:07,  1.57it/s]\u001b[A\u001b[A\u001b[A\u001b[A\u001b[A\u001b[A\u001b[A\u001b[A\u001b[A"
          ],
          "name": "stderr"
        },
        {
          "output_type": "stream",
          "text": [
            "image.img_to_array(img) =  (350, 350, 3)\n",
            "np.expand_dims =  (1, 350, 350, 3)\n"
          ],
          "name": "stdout"
        },
        {
          "output_type": "stream",
          "text": [
            "\n",
            "\n",
            "\n",
            "\n",
            "\n",
            "\n",
            "\n",
            "\n",
            "\n",
            " 86%|████████▌ | 61/71 [00:35<00:05,  1.73it/s]\u001b[A\u001b[A\u001b[A\u001b[A\u001b[A\u001b[A\u001b[A\u001b[A\u001b[A"
          ],
          "name": "stderr"
        },
        {
          "output_type": "stream",
          "text": [
            "image.img_to_array(img) =  (350, 350, 3)\n",
            "np.expand_dims =  (1, 350, 350, 3)\n"
          ],
          "name": "stdout"
        },
        {
          "output_type": "stream",
          "text": [
            "\n",
            "\n",
            "\n",
            "\n",
            "\n",
            "\n",
            "\n",
            "\n",
            "\n",
            " 87%|████████▋ | 62/71 [00:36<00:05,  1.65it/s]\u001b[A\u001b[A\u001b[A\u001b[A\u001b[A\u001b[A\u001b[A\u001b[A\u001b[A"
          ],
          "name": "stderr"
        },
        {
          "output_type": "stream",
          "text": [
            "image.img_to_array(img) =  (350, 350, 3)\n",
            "np.expand_dims =  (1, 350, 350, 3)\n"
          ],
          "name": "stdout"
        },
        {
          "output_type": "stream",
          "text": [
            "\n",
            "\n",
            "\n",
            "\n",
            "\n",
            "\n",
            "\n",
            "\n",
            "\n",
            " 89%|████████▊ | 63/71 [00:36<00:04,  1.81it/s]\u001b[A\u001b[A\u001b[A\u001b[A\u001b[A\u001b[A\u001b[A\u001b[A\u001b[A"
          ],
          "name": "stderr"
        },
        {
          "output_type": "stream",
          "text": [
            "image.img_to_array(img) =  (350, 350, 3)\n",
            "np.expand_dims =  (1, 350, 350, 3)\n"
          ],
          "name": "stdout"
        },
        {
          "output_type": "stream",
          "text": [
            "\n",
            "\n",
            "\n",
            "\n",
            "\n",
            "\n",
            "\n",
            "\n",
            "\n",
            " 90%|█████████ | 64/71 [00:36<00:03,  1.94it/s]\u001b[A\u001b[A\u001b[A\u001b[A\u001b[A\u001b[A\u001b[A\u001b[A\u001b[A"
          ],
          "name": "stderr"
        },
        {
          "output_type": "stream",
          "text": [
            "image.img_to_array(img) =  (350, 350, 3)\n",
            "np.expand_dims =  (1, 350, 350, 3)\n"
          ],
          "name": "stdout"
        },
        {
          "output_type": "stream",
          "text": [
            "\n",
            "\n",
            "\n",
            "\n",
            "\n",
            "\n",
            "\n",
            "\n",
            "\n",
            " 92%|█████████▏| 65/71 [00:37<00:03,  1.75it/s]\u001b[A\u001b[A\u001b[A\u001b[A\u001b[A\u001b[A\u001b[A\u001b[A\u001b[A"
          ],
          "name": "stderr"
        },
        {
          "output_type": "stream",
          "text": [
            "image.img_to_array(img) =  (350, 350, 3)\n",
            "np.expand_dims =  (1, 350, 350, 3)\n"
          ],
          "name": "stdout"
        },
        {
          "output_type": "stream",
          "text": [
            "\n",
            "\n",
            "\n",
            "\n",
            "\n",
            "\n",
            "\n",
            "\n",
            "\n",
            " 93%|█████████▎| 66/71 [00:38<00:02,  1.88it/s]\u001b[A\u001b[A\u001b[A\u001b[A\u001b[A\u001b[A\u001b[A\u001b[A\u001b[A"
          ],
          "name": "stderr"
        },
        {
          "output_type": "stream",
          "text": [
            "image.img_to_array(img) =  (350, 350, 3)\n",
            "np.expand_dims =  (1, 350, 350, 3)\n"
          ],
          "name": "stdout"
        },
        {
          "output_type": "stream",
          "text": [
            "\n",
            "\n",
            "\n",
            "\n",
            "\n",
            "\n",
            "\n",
            "\n",
            "\n",
            " 94%|█████████▍| 67/71 [00:38<00:02,  1.75it/s]\u001b[A\u001b[A\u001b[A\u001b[A\u001b[A\u001b[A\u001b[A\u001b[A\u001b[A"
          ],
          "name": "stderr"
        },
        {
          "output_type": "stream",
          "text": [
            "image.img_to_array(img) =  (350, 350, 3)\n",
            "np.expand_dims =  (1, 350, 350, 3)\n"
          ],
          "name": "stdout"
        },
        {
          "output_type": "stream",
          "text": [
            "\n",
            "\n",
            "\n",
            "\n",
            "\n",
            "\n",
            "\n",
            "\n",
            "\n",
            " 96%|█████████▌| 68/71 [00:39<00:01,  1.88it/s]\u001b[A\u001b[A\u001b[A\u001b[A\u001b[A\u001b[A\u001b[A\u001b[A\u001b[A"
          ],
          "name": "stderr"
        },
        {
          "output_type": "stream",
          "text": [
            "image.img_to_array(img) =  (350, 350, 3)\n",
            "np.expand_dims =  (1, 350, 350, 3)\n"
          ],
          "name": "stdout"
        },
        {
          "output_type": "stream",
          "text": [
            "\n",
            "\n",
            "\n",
            "\n",
            "\n",
            "\n",
            "\n",
            "\n",
            "\n",
            " 97%|█████████▋| 69/71 [00:39<00:01,  2.00it/s]\u001b[A\u001b[A\u001b[A\u001b[A\u001b[A\u001b[A\u001b[A\u001b[A\u001b[A"
          ],
          "name": "stderr"
        },
        {
          "output_type": "stream",
          "text": [
            "image.img_to_array(img) =  (350, 350, 3)\n",
            "np.expand_dims =  (1, 350, 350, 3)\n"
          ],
          "name": "stdout"
        },
        {
          "output_type": "stream",
          "text": [
            "\n",
            "\n",
            "\n",
            "\n",
            "\n",
            "\n",
            "\n",
            "\n",
            "\n",
            " 99%|█████████▊| 70/71 [00:40<00:00,  2.09it/s]\u001b[A\u001b[A\u001b[A\u001b[A\u001b[A\u001b[A\u001b[A\u001b[A\u001b[A"
          ],
          "name": "stderr"
        },
        {
          "output_type": "stream",
          "text": [
            "image.img_to_array(img) =  (350, 350, 3)\n",
            "np.expand_dims =  (1, 350, 350, 3)\n"
          ],
          "name": "stdout"
        },
        {
          "output_type": "stream",
          "text": [
            "\n",
            "\n",
            "\n",
            "\n",
            "\n",
            "\n",
            "\n",
            "\n",
            "\n",
            "100%|██████████| 71/71 [00:40<00:00,  1.74it/s]\n",
            "\n",
            "\n",
            "\n",
            "\n",
            "\n",
            "\n",
            "\n",
            "\n",
            "\n",
            "  0%|          | 0/85 [00:00<?, ?it/s]\u001b[A\u001b[A\u001b[A\u001b[A\u001b[A\u001b[A\u001b[A\u001b[A\u001b[A"
          ],
          "name": "stderr"
        },
        {
          "output_type": "stream",
          "text": [
            "image.img_to_array(img) =  (350, 350, 3)\n",
            "np.expand_dims =  (1, 350, 350, 3)\n"
          ],
          "name": "stdout"
        },
        {
          "output_type": "stream",
          "text": [
            "\n",
            "\n",
            "\n",
            "\n",
            "\n",
            "\n",
            "\n",
            "\n",
            "\n",
            "  1%|          | 1/85 [00:00<00:36,  2.28it/s]\u001b[A\u001b[A\u001b[A\u001b[A\u001b[A\u001b[A\u001b[A\u001b[A\u001b[A"
          ],
          "name": "stderr"
        },
        {
          "output_type": "stream",
          "text": [
            "image.img_to_array(img) =  (350, 350, 3)\n",
            "np.expand_dims =  (1, 350, 350, 3)\n"
          ],
          "name": "stdout"
        },
        {
          "output_type": "stream",
          "text": [
            "\n",
            "\n",
            "\n",
            "\n",
            "\n",
            "\n",
            "\n",
            "\n",
            "\n",
            "  2%|▏         | 2/85 [00:00<00:35,  2.32it/s]\u001b[A\u001b[A\u001b[A\u001b[A\u001b[A\u001b[A\u001b[A\u001b[A\u001b[A"
          ],
          "name": "stderr"
        },
        {
          "output_type": "stream",
          "text": [
            "image.img_to_array(img) =  (350, 350, 3)\n",
            "np.expand_dims =  (1, 350, 350, 3)\n"
          ],
          "name": "stdout"
        },
        {
          "output_type": "stream",
          "text": [
            "\n",
            "\n",
            "\n",
            "\n",
            "\n",
            "\n",
            "\n",
            "\n",
            "\n",
            "  4%|▎         | 3/85 [00:01<00:36,  2.28it/s]\u001b[A\u001b[A\u001b[A\u001b[A\u001b[A\u001b[A\u001b[A\u001b[A\u001b[A"
          ],
          "name": "stderr"
        },
        {
          "output_type": "stream",
          "text": [
            "image.img_to_array(img) =  (350, 350, 3)\n",
            "np.expand_dims =  (1, 350, 350, 3)\n"
          ],
          "name": "stdout"
        },
        {
          "output_type": "stream",
          "text": [
            "\n",
            "\n",
            "\n",
            "\n",
            "\n",
            "\n",
            "\n",
            "\n",
            "\n",
            "  5%|▍         | 4/85 [00:01<00:35,  2.28it/s]\u001b[A\u001b[A\u001b[A\u001b[A\u001b[A\u001b[A\u001b[A\u001b[A\u001b[A"
          ],
          "name": "stderr"
        },
        {
          "output_type": "stream",
          "text": [
            "image.img_to_array(img) =  (350, 350, 3)\n",
            "np.expand_dims =  (1, 350, 350, 3)\n"
          ],
          "name": "stdout"
        },
        {
          "output_type": "stream",
          "text": [
            "\n",
            "\n",
            "\n",
            "\n",
            "\n",
            "\n",
            "\n",
            "\n",
            "\n",
            "  6%|▌         | 5/85 [00:02<00:34,  2.29it/s]\u001b[A\u001b[A\u001b[A\u001b[A\u001b[A\u001b[A\u001b[A\u001b[A\u001b[A"
          ],
          "name": "stderr"
        },
        {
          "output_type": "stream",
          "text": [
            "image.img_to_array(img) =  (350, 350, 3)\n",
            "np.expand_dims =  (1, 350, 350, 3)\n"
          ],
          "name": "stdout"
        },
        {
          "output_type": "stream",
          "text": [
            "\n",
            "\n",
            "\n",
            "\n",
            "\n",
            "\n",
            "\n",
            "\n",
            "\n",
            "  7%|▋         | 6/85 [00:02<00:34,  2.30it/s]\u001b[A\u001b[A\u001b[A\u001b[A\u001b[A\u001b[A\u001b[A\u001b[A\u001b[A"
          ],
          "name": "stderr"
        },
        {
          "output_type": "stream",
          "text": [
            "image.img_to_array(img) =  (350, 350, 3)\n",
            "np.expand_dims =  (1, 350, 350, 3)\n"
          ],
          "name": "stdout"
        },
        {
          "output_type": "stream",
          "text": [
            "\n",
            "\n",
            "\n",
            "\n",
            "\n",
            "\n",
            "\n",
            "\n",
            "\n",
            "  8%|▊         | 7/85 [00:03<00:33,  2.31it/s]\u001b[A\u001b[A\u001b[A\u001b[A\u001b[A\u001b[A\u001b[A\u001b[A\u001b[A"
          ],
          "name": "stderr"
        },
        {
          "output_type": "stream",
          "text": [
            "image.img_to_array(img) =  (350, 350, 3)\n",
            "np.expand_dims =  (1, 350, 350, 3)\n"
          ],
          "name": "stdout"
        },
        {
          "output_type": "stream",
          "text": [
            "\n",
            "\n",
            "\n",
            "\n",
            "\n",
            "\n",
            "\n",
            "\n",
            "\n",
            "  9%|▉         | 8/85 [00:03<00:33,  2.29it/s]\u001b[A\u001b[A\u001b[A\u001b[A\u001b[A\u001b[A\u001b[A\u001b[A\u001b[A"
          ],
          "name": "stderr"
        },
        {
          "output_type": "stream",
          "text": [
            "image.img_to_array(img) =  (350, 350, 3)\n",
            "np.expand_dims =  (1, 350, 350, 3)\n"
          ],
          "name": "stdout"
        },
        {
          "output_type": "stream",
          "text": [
            "\n",
            "\n",
            "\n",
            "\n",
            "\n",
            "\n",
            "\n",
            "\n",
            "\n",
            " 11%|█         | 9/85 [00:03<00:32,  2.31it/s]\u001b[A\u001b[A\u001b[A\u001b[A\u001b[A\u001b[A\u001b[A\u001b[A\u001b[A"
          ],
          "name": "stderr"
        },
        {
          "output_type": "stream",
          "text": [
            "image.img_to_array(img) =  (350, 350, 3)\n",
            "np.expand_dims =  (1, 350, 350, 3)\n"
          ],
          "name": "stdout"
        },
        {
          "output_type": "stream",
          "text": [
            "\n",
            "\n",
            "\n",
            "\n",
            "\n",
            "\n",
            "\n",
            "\n",
            "\n",
            " 12%|█▏        | 10/85 [00:04<00:32,  2.30it/s]\u001b[A\u001b[A\u001b[A\u001b[A\u001b[A\u001b[A\u001b[A\u001b[A\u001b[A"
          ],
          "name": "stderr"
        },
        {
          "output_type": "stream",
          "text": [
            "image.img_to_array(img) =  (350, 350, 3)\n",
            "np.expand_dims =  (1, 350, 350, 3)\n"
          ],
          "name": "stdout"
        },
        {
          "output_type": "stream",
          "text": [
            "\n",
            "\n",
            "\n",
            "\n",
            "\n",
            "\n",
            "\n",
            "\n",
            "\n",
            " 13%|█▎        | 11/85 [00:04<00:31,  2.31it/s]\u001b[A\u001b[A\u001b[A\u001b[A\u001b[A\u001b[A\u001b[A\u001b[A\u001b[A"
          ],
          "name": "stderr"
        },
        {
          "output_type": "stream",
          "text": [
            "image.img_to_array(img) =  (350, 350, 3)\n",
            "np.expand_dims =  (1, 350, 350, 3)\n"
          ],
          "name": "stdout"
        },
        {
          "output_type": "stream",
          "text": [
            "\n",
            "\n",
            "\n",
            "\n",
            "\n",
            "\n",
            "\n",
            "\n",
            "\n",
            " 14%|█▍        | 12/85 [00:05<00:31,  2.30it/s]\u001b[A\u001b[A\u001b[A\u001b[A\u001b[A\u001b[A\u001b[A\u001b[A\u001b[A"
          ],
          "name": "stderr"
        },
        {
          "output_type": "stream",
          "text": [
            "image.img_to_array(img) =  (350, 350, 3)\n",
            "np.expand_dims =  (1, 350, 350, 3)\n"
          ],
          "name": "stdout"
        },
        {
          "output_type": "stream",
          "text": [
            "\n",
            "\n",
            "\n",
            "\n",
            "\n",
            "\n",
            "\n",
            "\n",
            "\n",
            " 15%|█▌        | 13/85 [00:05<00:31,  2.30it/s]\u001b[A\u001b[A\u001b[A\u001b[A\u001b[A\u001b[A\u001b[A\u001b[A\u001b[A"
          ],
          "name": "stderr"
        },
        {
          "output_type": "stream",
          "text": [
            "image.img_to_array(img) =  (350, 350, 3)\n",
            "np.expand_dims =  (1, 350, 350, 3)\n"
          ],
          "name": "stdout"
        },
        {
          "output_type": "stream",
          "text": [
            "\n",
            "\n",
            "\n",
            "\n",
            "\n",
            "\n",
            "\n",
            "\n",
            "\n",
            " 16%|█▋        | 14/85 [00:06<00:30,  2.32it/s]\u001b[A\u001b[A\u001b[A\u001b[A\u001b[A\u001b[A\u001b[A\u001b[A\u001b[A"
          ],
          "name": "stderr"
        },
        {
          "output_type": "stream",
          "text": [
            "image.img_to_array(img) =  (350, 350, 3)\n",
            "np.expand_dims =  (1, 350, 350, 3)\n"
          ],
          "name": "stdout"
        },
        {
          "output_type": "stream",
          "text": [
            "\n",
            "\n",
            "\n",
            "\n",
            "\n",
            "\n",
            "\n",
            "\n",
            "\n",
            " 18%|█▊        | 15/85 [00:06<00:30,  2.30it/s]\u001b[A\u001b[A\u001b[A\u001b[A\u001b[A\u001b[A\u001b[A\u001b[A\u001b[A"
          ],
          "name": "stderr"
        },
        {
          "output_type": "stream",
          "text": [
            "image.img_to_array(img) =  (350, 350, 3)\n",
            "np.expand_dims =  (1, 350, 350, 3)\n"
          ],
          "name": "stdout"
        },
        {
          "output_type": "stream",
          "text": [
            "\n",
            "\n",
            "\n",
            "\n",
            "\n",
            "\n",
            "\n",
            "\n",
            "\n",
            " 19%|█▉        | 16/85 [00:06<00:29,  2.30it/s]\u001b[A\u001b[A\u001b[A\u001b[A\u001b[A\u001b[A\u001b[A\u001b[A\u001b[A"
          ],
          "name": "stderr"
        },
        {
          "output_type": "stream",
          "text": [
            "image.img_to_array(img) =  (350, 350, 3)\n",
            "np.expand_dims =  (1, 350, 350, 3)\n"
          ],
          "name": "stdout"
        },
        {
          "output_type": "stream",
          "text": [
            "\n",
            "\n",
            "\n",
            "\n",
            "\n",
            "\n",
            "\n",
            "\n",
            "\n",
            " 20%|██        | 17/85 [00:07<00:29,  2.29it/s]\u001b[A\u001b[A\u001b[A\u001b[A\u001b[A\u001b[A\u001b[A\u001b[A\u001b[A"
          ],
          "name": "stderr"
        },
        {
          "output_type": "stream",
          "text": [
            "image.img_to_array(img) =  (350, 350, 3)\n",
            "np.expand_dims =  (1, 350, 350, 3)\n"
          ],
          "name": "stdout"
        },
        {
          "output_type": "stream",
          "text": [
            "\n",
            "\n",
            "\n",
            "\n",
            "\n",
            "\n",
            "\n",
            "\n",
            "\n",
            " 21%|██        | 18/85 [00:07<00:28,  2.32it/s]\u001b[A\u001b[A\u001b[A\u001b[A\u001b[A\u001b[A\u001b[A\u001b[A\u001b[A"
          ],
          "name": "stderr"
        },
        {
          "output_type": "stream",
          "text": [
            "image.img_to_array(img) =  (350, 350, 3)\n",
            "np.expand_dims =  (1, 350, 350, 3)\n"
          ],
          "name": "stdout"
        },
        {
          "output_type": "stream",
          "text": [
            "\n",
            "\n",
            "\n",
            "\n",
            "\n",
            "\n",
            "\n",
            "\n",
            "\n",
            " 22%|██▏       | 19/85 [00:08<00:28,  2.33it/s]\u001b[A\u001b[A\u001b[A\u001b[A\u001b[A\u001b[A\u001b[A\u001b[A\u001b[A"
          ],
          "name": "stderr"
        },
        {
          "output_type": "stream",
          "text": [
            "image.img_to_array(img) =  (350, 350, 3)\n",
            "np.expand_dims =  (1, 350, 350, 3)\n"
          ],
          "name": "stdout"
        },
        {
          "output_type": "stream",
          "text": [
            "\n",
            "\n",
            "\n",
            "\n",
            "\n",
            "\n",
            "\n",
            "\n",
            "\n",
            " 24%|██▎       | 20/85 [00:08<00:27,  2.33it/s]\u001b[A\u001b[A\u001b[A\u001b[A\u001b[A\u001b[A\u001b[A\u001b[A\u001b[A"
          ],
          "name": "stderr"
        },
        {
          "output_type": "stream",
          "text": [
            "image.img_to_array(img) =  (350, 350, 3)\n",
            "np.expand_dims =  (1, 350, 350, 3)\n"
          ],
          "name": "stdout"
        },
        {
          "output_type": "stream",
          "text": [
            "\n",
            "\n",
            "\n",
            "\n",
            "\n",
            "\n",
            "\n",
            "\n",
            "\n",
            " 25%|██▍       | 21/85 [00:09<00:27,  2.30it/s]\u001b[A\u001b[A\u001b[A\u001b[A\u001b[A\u001b[A\u001b[A\u001b[A\u001b[A"
          ],
          "name": "stderr"
        },
        {
          "output_type": "stream",
          "text": [
            "image.img_to_array(img) =  (350, 350, 3)\n",
            "np.expand_dims =  (1, 350, 350, 3)\n"
          ],
          "name": "stdout"
        },
        {
          "output_type": "stream",
          "text": [
            "\n",
            "\n",
            "\n",
            "\n",
            "\n",
            "\n",
            "\n",
            "\n",
            "\n",
            " 26%|██▌       | 22/85 [00:09<00:27,  2.29it/s]\u001b[A\u001b[A\u001b[A\u001b[A\u001b[A\u001b[A\u001b[A\u001b[A\u001b[A"
          ],
          "name": "stderr"
        },
        {
          "output_type": "stream",
          "text": [
            "image.img_to_array(img) =  (350, 350, 3)\n",
            "np.expand_dims =  (1, 350, 350, 3)\n"
          ],
          "name": "stdout"
        },
        {
          "output_type": "stream",
          "text": [
            "\n",
            "\n",
            "\n",
            "\n",
            "\n",
            "\n",
            "\n",
            "\n",
            "\n",
            " 27%|██▋       | 23/85 [00:09<00:26,  2.30it/s]\u001b[A\u001b[A\u001b[A\u001b[A\u001b[A\u001b[A\u001b[A\u001b[A\u001b[A"
          ],
          "name": "stderr"
        },
        {
          "output_type": "stream",
          "text": [
            "image.img_to_array(img) =  (350, 350, 3)\n",
            "np.expand_dims =  (1, 350, 350, 3)\n"
          ],
          "name": "stdout"
        },
        {
          "output_type": "stream",
          "text": [
            "\n",
            "\n",
            "\n",
            "\n",
            "\n",
            "\n",
            "\n",
            "\n",
            "\n",
            " 28%|██▊       | 24/85 [00:10<00:26,  2.28it/s]\u001b[A\u001b[A\u001b[A\u001b[A\u001b[A\u001b[A\u001b[A\u001b[A\u001b[A"
          ],
          "name": "stderr"
        },
        {
          "output_type": "stream",
          "text": [
            "image.img_to_array(img) =  (350, 350, 3)\n",
            "np.expand_dims =  (1, 350, 350, 3)\n"
          ],
          "name": "stdout"
        },
        {
          "output_type": "stream",
          "text": [
            "\n",
            "\n",
            "\n",
            "\n",
            "\n",
            "\n",
            "\n",
            "\n",
            "\n",
            " 29%|██▉       | 25/85 [00:10<00:26,  2.30it/s]\u001b[A\u001b[A\u001b[A\u001b[A\u001b[A\u001b[A\u001b[A\u001b[A\u001b[A"
          ],
          "name": "stderr"
        },
        {
          "output_type": "stream",
          "text": [
            "image.img_to_array(img) =  (350, 350, 3)\n",
            "np.expand_dims =  (1, 350, 350, 3)\n"
          ],
          "name": "stdout"
        },
        {
          "output_type": "stream",
          "text": [
            "\n",
            "\n",
            "\n",
            "\n",
            "\n",
            "\n",
            "\n",
            "\n",
            "\n",
            " 31%|███       | 26/85 [00:11<00:25,  2.30it/s]\u001b[A\u001b[A\u001b[A\u001b[A\u001b[A\u001b[A\u001b[A\u001b[A\u001b[A"
          ],
          "name": "stderr"
        },
        {
          "output_type": "stream",
          "text": [
            "image.img_to_array(img) =  (350, 350, 3)\n",
            "np.expand_dims =  (1, 350, 350, 3)\n"
          ],
          "name": "stdout"
        },
        {
          "output_type": "stream",
          "text": [
            "\n",
            "\n",
            "\n",
            "\n",
            "\n",
            "\n",
            "\n",
            "\n",
            "\n",
            " 32%|███▏      | 27/85 [00:11<00:25,  2.28it/s]\u001b[A\u001b[A\u001b[A\u001b[A\u001b[A\u001b[A\u001b[A\u001b[A\u001b[A"
          ],
          "name": "stderr"
        },
        {
          "output_type": "stream",
          "text": [
            "image.img_to_array(img) =  (350, 350, 3)\n",
            "np.expand_dims =  (1, 350, 350, 3)\n"
          ],
          "name": "stdout"
        },
        {
          "output_type": "stream",
          "text": [
            "\n",
            "\n",
            "\n",
            "\n",
            "\n",
            "\n",
            "\n",
            "\n",
            "\n",
            " 33%|███▎      | 28/85 [00:12<00:24,  2.30it/s]\u001b[A\u001b[A\u001b[A\u001b[A\u001b[A\u001b[A\u001b[A\u001b[A\u001b[A"
          ],
          "name": "stderr"
        },
        {
          "output_type": "stream",
          "text": [
            "image.img_to_array(img) =  (350, 350, 3)\n",
            "np.expand_dims =  (1, 350, 350, 3)\n"
          ],
          "name": "stdout"
        },
        {
          "output_type": "stream",
          "text": [
            "\n",
            "\n",
            "\n",
            "\n",
            "\n",
            "\n",
            "\n",
            "\n",
            "\n",
            " 34%|███▍      | 29/85 [00:12<00:24,  2.30it/s]\u001b[A\u001b[A\u001b[A\u001b[A\u001b[A\u001b[A\u001b[A\u001b[A\u001b[A"
          ],
          "name": "stderr"
        },
        {
          "output_type": "stream",
          "text": [
            "image.img_to_array(img) =  (350, 350, 3)\n",
            "np.expand_dims =  (1, 350, 350, 3)\n"
          ],
          "name": "stdout"
        },
        {
          "output_type": "stream",
          "text": [
            "\n",
            "\n",
            "\n",
            "\n",
            "\n",
            "\n",
            "\n",
            "\n",
            "\n",
            " 35%|███▌      | 30/85 [00:13<00:23,  2.30it/s]\u001b[A\u001b[A\u001b[A\u001b[A\u001b[A\u001b[A\u001b[A\u001b[A\u001b[A"
          ],
          "name": "stderr"
        },
        {
          "output_type": "stream",
          "text": [
            "image.img_to_array(img) =  (350, 350, 3)\n",
            "np.expand_dims =  (1, 350, 350, 3)\n"
          ],
          "name": "stdout"
        },
        {
          "output_type": "stream",
          "text": [
            "\n",
            "\n",
            "\n",
            "\n",
            "\n",
            "\n",
            "\n",
            "\n",
            "\n",
            " 36%|███▋      | 31/85 [00:13<00:23,  2.29it/s]\u001b[A\u001b[A\u001b[A\u001b[A\u001b[A\u001b[A\u001b[A\u001b[A\u001b[A"
          ],
          "name": "stderr"
        },
        {
          "output_type": "stream",
          "text": [
            "image.img_to_array(img) =  (350, 350, 3)\n",
            "np.expand_dims =  (1, 350, 350, 3)\n"
          ],
          "name": "stdout"
        },
        {
          "output_type": "stream",
          "text": [
            "\n",
            "\n",
            "\n",
            "\n",
            "\n",
            "\n",
            "\n",
            "\n",
            "\n",
            " 38%|███▊      | 32/85 [00:13<00:23,  2.29it/s]\u001b[A\u001b[A\u001b[A\u001b[A\u001b[A\u001b[A\u001b[A\u001b[A\u001b[A"
          ],
          "name": "stderr"
        },
        {
          "output_type": "stream",
          "text": [
            "image.img_to_array(img) =  (350, 350, 3)\n",
            "np.expand_dims =  (1, 350, 350, 3)\n"
          ],
          "name": "stdout"
        },
        {
          "output_type": "stream",
          "text": [
            "\n",
            "\n",
            "\n",
            "\n",
            "\n",
            "\n",
            "\n",
            "\n",
            "\n",
            " 39%|███▉      | 33/85 [00:14<00:22,  2.30it/s]\u001b[A\u001b[A\u001b[A\u001b[A\u001b[A\u001b[A\u001b[A\u001b[A\u001b[A"
          ],
          "name": "stderr"
        },
        {
          "output_type": "stream",
          "text": [
            "image.img_to_array(img) =  (350, 350, 3)\n",
            "np.expand_dims =  (1, 350, 350, 3)\n"
          ],
          "name": "stdout"
        },
        {
          "output_type": "stream",
          "text": [
            "\n",
            "\n",
            "\n",
            "\n",
            "\n",
            "\n",
            "\n",
            "\n",
            "\n",
            " 40%|████      | 34/85 [00:14<00:22,  2.30it/s]\u001b[A\u001b[A\u001b[A\u001b[A\u001b[A\u001b[A\u001b[A\u001b[A\u001b[A"
          ],
          "name": "stderr"
        },
        {
          "output_type": "stream",
          "text": [
            "image.img_to_array(img) =  (350, 350, 3)\n",
            "np.expand_dims =  (1, 350, 350, 3)\n"
          ],
          "name": "stdout"
        },
        {
          "output_type": "stream",
          "text": [
            "\n",
            "\n",
            "\n",
            "\n",
            "\n",
            "\n",
            "\n",
            "\n",
            "\n",
            " 41%|████      | 35/85 [00:15<00:21,  2.32it/s]\u001b[A\u001b[A\u001b[A\u001b[A\u001b[A\u001b[A\u001b[A\u001b[A\u001b[A"
          ],
          "name": "stderr"
        },
        {
          "output_type": "stream",
          "text": [
            "image.img_to_array(img) =  (350, 350, 3)\n",
            "np.expand_dims =  (1, 350, 350, 3)\n"
          ],
          "name": "stdout"
        },
        {
          "output_type": "stream",
          "text": [
            "\n",
            "\n",
            "\n",
            "\n",
            "\n",
            "\n",
            "\n",
            "\n",
            "\n",
            " 42%|████▏     | 36/85 [00:15<00:21,  2.31it/s]\u001b[A\u001b[A\u001b[A\u001b[A\u001b[A\u001b[A\u001b[A\u001b[A\u001b[A"
          ],
          "name": "stderr"
        },
        {
          "output_type": "stream",
          "text": [
            "image.img_to_array(img) =  (350, 350, 3)\n",
            "np.expand_dims =  (1, 350, 350, 3)\n"
          ],
          "name": "stdout"
        },
        {
          "output_type": "stream",
          "text": [
            "\n",
            "\n",
            "\n",
            "\n",
            "\n",
            "\n",
            "\n",
            "\n",
            "\n",
            " 44%|████▎     | 37/85 [00:16<00:20,  2.32it/s]\u001b[A\u001b[A\u001b[A\u001b[A\u001b[A\u001b[A\u001b[A\u001b[A\u001b[A"
          ],
          "name": "stderr"
        },
        {
          "output_type": "stream",
          "text": [
            "image.img_to_array(img) =  (350, 350, 3)\n",
            "np.expand_dims =  (1, 350, 350, 3)\n"
          ],
          "name": "stdout"
        },
        {
          "output_type": "stream",
          "text": [
            "\n",
            "\n",
            "\n",
            "\n",
            "\n",
            "\n",
            "\n",
            "\n",
            "\n",
            " 45%|████▍     | 38/85 [00:16<00:20,  2.31it/s]\u001b[A\u001b[A\u001b[A\u001b[A\u001b[A\u001b[A\u001b[A\u001b[A\u001b[A"
          ],
          "name": "stderr"
        },
        {
          "output_type": "stream",
          "text": [
            "image.img_to_array(img) =  (350, 350, 3)\n",
            "np.expand_dims =  (1, 350, 350, 3)\n"
          ],
          "name": "stdout"
        },
        {
          "output_type": "stream",
          "text": [
            "\n",
            "\n",
            "\n",
            "\n",
            "\n",
            "\n",
            "\n",
            "\n",
            "\n",
            " 46%|████▌     | 39/85 [00:17<00:22,  2.04it/s]\u001b[A\u001b[A\u001b[A\u001b[A\u001b[A\u001b[A\u001b[A\u001b[A\u001b[A"
          ],
          "name": "stderr"
        },
        {
          "output_type": "stream",
          "text": [
            "image.img_to_array(img) =  (350, 350, 3)\n",
            "np.expand_dims =  (1, 350, 350, 3)\n"
          ],
          "name": "stdout"
        },
        {
          "output_type": "stream",
          "text": [
            "\n",
            "\n",
            "\n",
            "\n",
            "\n",
            "\n",
            "\n",
            "\n",
            "\n",
            " 47%|████▋     | 40/85 [00:17<00:21,  2.11it/s]\u001b[A\u001b[A\u001b[A\u001b[A\u001b[A\u001b[A\u001b[A\u001b[A\u001b[A"
          ],
          "name": "stderr"
        },
        {
          "output_type": "stream",
          "text": [
            "image.img_to_array(img) =  (350, 350, 3)\n",
            "np.expand_dims =  (1, 350, 350, 3)\n"
          ],
          "name": "stdout"
        },
        {
          "output_type": "stream",
          "text": [
            "\n",
            "\n",
            "\n",
            "\n",
            "\n",
            "\n",
            "\n",
            "\n",
            "\n",
            " 48%|████▊     | 41/85 [00:18<00:20,  2.17it/s]\u001b[A\u001b[A\u001b[A\u001b[A\u001b[A\u001b[A\u001b[A\u001b[A\u001b[A"
          ],
          "name": "stderr"
        },
        {
          "output_type": "stream",
          "text": [
            "image.img_to_array(img) =  (350, 350, 3)\n",
            "np.expand_dims =  (1, 350, 350, 3)\n"
          ],
          "name": "stdout"
        },
        {
          "output_type": "stream",
          "text": [
            "\n",
            "\n",
            "\n",
            "\n",
            "\n",
            "\n",
            "\n",
            "\n",
            "\n",
            " 49%|████▉     | 42/85 [00:18<00:19,  2.23it/s]\u001b[A\u001b[A\u001b[A\u001b[A\u001b[A\u001b[A\u001b[A\u001b[A\u001b[A"
          ],
          "name": "stderr"
        },
        {
          "output_type": "stream",
          "text": [
            "image.img_to_array(img) =  (350, 350, 3)\n",
            "np.expand_dims =  (1, 350, 350, 3)\n"
          ],
          "name": "stdout"
        },
        {
          "output_type": "stream",
          "text": [
            "\n",
            "\n",
            "\n",
            "\n",
            "\n",
            "\n",
            "\n",
            "\n",
            "\n",
            " 51%|█████     | 43/85 [00:18<00:18,  2.24it/s]\u001b[A\u001b[A\u001b[A\u001b[A\u001b[A\u001b[A\u001b[A\u001b[A\u001b[A"
          ],
          "name": "stderr"
        },
        {
          "output_type": "stream",
          "text": [
            "image.img_to_array(img) =  (350, 350, 3)\n",
            "np.expand_dims =  (1, 350, 350, 3)\n"
          ],
          "name": "stdout"
        },
        {
          "output_type": "stream",
          "text": [
            "\n",
            "\n",
            "\n",
            "\n",
            "\n",
            "\n",
            "\n",
            "\n",
            "\n",
            " 52%|█████▏    | 44/85 [00:19<00:18,  2.27it/s]\u001b[A\u001b[A\u001b[A\u001b[A\u001b[A\u001b[A\u001b[A\u001b[A\u001b[A"
          ],
          "name": "stderr"
        },
        {
          "output_type": "stream",
          "text": [
            "image.img_to_array(img) =  (350, 350, 3)\n",
            "np.expand_dims =  (1, 350, 350, 3)\n"
          ],
          "name": "stdout"
        },
        {
          "output_type": "stream",
          "text": [
            "\n",
            "\n",
            "\n",
            "\n",
            "\n",
            "\n",
            "\n",
            "\n",
            "\n",
            " 53%|█████▎    | 45/85 [00:19<00:17,  2.27it/s]\u001b[A\u001b[A\u001b[A\u001b[A\u001b[A\u001b[A\u001b[A\u001b[A\u001b[A"
          ],
          "name": "stderr"
        },
        {
          "output_type": "stream",
          "text": [
            "image.img_to_array(img) =  (350, 350, 3)\n",
            "np.expand_dims =  (1, 350, 350, 3)\n"
          ],
          "name": "stdout"
        },
        {
          "output_type": "stream",
          "text": [
            "\n",
            "\n",
            "\n",
            "\n",
            "\n",
            "\n",
            "\n",
            "\n",
            "\n",
            " 54%|█████▍    | 46/85 [00:20<00:17,  2.29it/s]\u001b[A\u001b[A\u001b[A\u001b[A\u001b[A\u001b[A\u001b[A\u001b[A\u001b[A"
          ],
          "name": "stderr"
        },
        {
          "output_type": "stream",
          "text": [
            "image.img_to_array(img) =  (350, 350, 3)\n",
            "np.expand_dims =  (1, 350, 350, 3)\n"
          ],
          "name": "stdout"
        },
        {
          "output_type": "stream",
          "text": [
            "\n",
            "\n",
            "\n",
            "\n",
            "\n",
            "\n",
            "\n",
            "\n",
            "\n",
            " 55%|█████▌    | 47/85 [00:20<00:16,  2.28it/s]\u001b[A\u001b[A\u001b[A\u001b[A\u001b[A\u001b[A\u001b[A\u001b[A\u001b[A"
          ],
          "name": "stderr"
        },
        {
          "output_type": "stream",
          "text": [
            "image.img_to_array(img) =  (350, 350, 3)\n",
            "np.expand_dims =  (1, 350, 350, 3)\n"
          ],
          "name": "stdout"
        },
        {
          "output_type": "stream",
          "text": [
            "\n",
            "\n",
            "\n",
            "\n",
            "\n",
            "\n",
            "\n",
            "\n",
            "\n",
            " 56%|█████▋    | 48/85 [00:21<00:16,  2.29it/s]\u001b[A\u001b[A\u001b[A\u001b[A\u001b[A\u001b[A\u001b[A\u001b[A\u001b[A"
          ],
          "name": "stderr"
        },
        {
          "output_type": "stream",
          "text": [
            "image.img_to_array(img) =  (350, 350, 3)\n",
            "np.expand_dims =  (1, 350, 350, 3)\n"
          ],
          "name": "stdout"
        },
        {
          "output_type": "stream",
          "text": [
            "\n",
            "\n",
            "\n",
            "\n",
            "\n",
            "\n",
            "\n",
            "\n",
            "\n",
            " 58%|█████▊    | 49/85 [00:21<00:15,  2.29it/s]\u001b[A\u001b[A\u001b[A\u001b[A\u001b[A\u001b[A\u001b[A\u001b[A\u001b[A"
          ],
          "name": "stderr"
        },
        {
          "output_type": "stream",
          "text": [
            "image.img_to_array(img) =  (350, 350, 3)\n",
            "np.expand_dims =  (1, 350, 350, 3)\n"
          ],
          "name": "stdout"
        },
        {
          "output_type": "stream",
          "text": [
            "\n",
            "\n",
            "\n",
            "\n",
            "\n",
            "\n",
            "\n",
            "\n",
            "\n",
            " 59%|█████▉    | 50/85 [00:21<00:15,  2.28it/s]\u001b[A\u001b[A\u001b[A\u001b[A\u001b[A\u001b[A\u001b[A\u001b[A\u001b[A"
          ],
          "name": "stderr"
        },
        {
          "output_type": "stream",
          "text": [
            "image.img_to_array(img) =  (350, 350, 3)\n",
            "np.expand_dims =  (1, 350, 350, 3)\n"
          ],
          "name": "stdout"
        },
        {
          "output_type": "stream",
          "text": [
            "\n",
            "\n",
            "\n",
            "\n",
            "\n",
            "\n",
            "\n",
            "\n",
            "\n",
            " 60%|██████    | 51/85 [00:22<00:14,  2.28it/s]\u001b[A\u001b[A\u001b[A\u001b[A\u001b[A\u001b[A\u001b[A\u001b[A\u001b[A"
          ],
          "name": "stderr"
        },
        {
          "output_type": "stream",
          "text": [
            "image.img_to_array(img) =  (350, 350, 3)\n",
            "np.expand_dims =  (1, 350, 350, 3)\n"
          ],
          "name": "stdout"
        },
        {
          "output_type": "stream",
          "text": [
            "\n",
            "\n",
            "\n",
            "\n",
            "\n",
            "\n",
            "\n",
            "\n",
            "\n",
            " 61%|██████    | 52/85 [00:22<00:14,  2.27it/s]\u001b[A\u001b[A\u001b[A\u001b[A\u001b[A\u001b[A\u001b[A\u001b[A\u001b[A"
          ],
          "name": "stderr"
        },
        {
          "output_type": "stream",
          "text": [
            "image.img_to_array(img) =  (350, 350, 3)\n",
            "np.expand_dims =  (1, 350, 350, 3)\n"
          ],
          "name": "stdout"
        },
        {
          "output_type": "stream",
          "text": [
            "\n",
            "\n",
            "\n",
            "\n",
            "\n",
            "\n",
            "\n",
            "\n",
            "\n",
            " 62%|██████▏   | 53/85 [00:23<00:13,  2.29it/s]\u001b[A\u001b[A\u001b[A\u001b[A\u001b[A\u001b[A\u001b[A\u001b[A\u001b[A"
          ],
          "name": "stderr"
        },
        {
          "output_type": "stream",
          "text": [
            "image.img_to_array(img) =  (350, 350, 3)\n",
            "np.expand_dims =  (1, 350, 350, 3)\n"
          ],
          "name": "stdout"
        },
        {
          "output_type": "stream",
          "text": [
            "\n",
            "\n",
            "\n",
            "\n",
            "\n",
            "\n",
            "\n",
            "\n",
            "\n",
            " 64%|██████▎   | 54/85 [00:23<00:13,  2.27it/s]\u001b[A\u001b[A\u001b[A\u001b[A\u001b[A\u001b[A\u001b[A\u001b[A\u001b[A"
          ],
          "name": "stderr"
        },
        {
          "output_type": "stream",
          "text": [
            "image.img_to_array(img) =  (350, 350, 3)\n",
            "np.expand_dims =  (1, 350, 350, 3)\n"
          ],
          "name": "stdout"
        },
        {
          "output_type": "stream",
          "text": [
            "\n",
            "\n",
            "\n",
            "\n",
            "\n",
            "\n",
            "\n",
            "\n",
            "\n",
            " 65%|██████▍   | 55/85 [00:24<00:13,  2.28it/s]\u001b[A\u001b[A\u001b[A\u001b[A\u001b[A\u001b[A\u001b[A\u001b[A\u001b[A"
          ],
          "name": "stderr"
        },
        {
          "output_type": "stream",
          "text": [
            "image.img_to_array(img) =  (350, 350, 3)\n",
            "np.expand_dims =  (1, 350, 350, 3)\n"
          ],
          "name": "stdout"
        },
        {
          "output_type": "stream",
          "text": [
            "\n",
            "\n",
            "\n",
            "\n",
            "\n",
            "\n",
            "\n",
            "\n",
            "\n",
            " 66%|██████▌   | 56/85 [00:24<00:12,  2.28it/s]\u001b[A\u001b[A\u001b[A\u001b[A\u001b[A\u001b[A\u001b[A\u001b[A\u001b[A"
          ],
          "name": "stderr"
        },
        {
          "output_type": "stream",
          "text": [
            "image.img_to_array(img) =  (350, 350, 3)\n",
            "np.expand_dims =  (1, 350, 350, 3)\n"
          ],
          "name": "stdout"
        },
        {
          "output_type": "stream",
          "text": [
            "\n",
            "\n",
            "\n",
            "\n",
            "\n",
            "\n",
            "\n",
            "\n",
            "\n",
            " 67%|██████▋   | 57/85 [00:24<00:12,  2.29it/s]\u001b[A\u001b[A\u001b[A\u001b[A\u001b[A\u001b[A\u001b[A\u001b[A\u001b[A"
          ],
          "name": "stderr"
        },
        {
          "output_type": "stream",
          "text": [
            "image.img_to_array(img) =  (350, 350, 3)\n",
            "np.expand_dims =  (1, 350, 350, 3)\n"
          ],
          "name": "stdout"
        },
        {
          "output_type": "stream",
          "text": [
            "\n",
            "\n",
            "\n",
            "\n",
            "\n",
            "\n",
            "\n",
            "\n",
            "\n",
            " 68%|██████▊   | 58/85 [00:25<00:11,  2.29it/s]\u001b[A\u001b[A\u001b[A\u001b[A\u001b[A\u001b[A\u001b[A\u001b[A\u001b[A"
          ],
          "name": "stderr"
        },
        {
          "output_type": "stream",
          "text": [
            "image.img_to_array(img) =  (350, 350, 3)\n",
            "np.expand_dims =  (1, 350, 350, 3)\n"
          ],
          "name": "stdout"
        },
        {
          "output_type": "stream",
          "text": [
            "\n",
            "\n",
            "\n",
            "\n",
            "\n",
            "\n",
            "\n",
            "\n",
            "\n",
            " 69%|██████▉   | 59/85 [00:25<00:11,  2.29it/s]\u001b[A\u001b[A\u001b[A\u001b[A\u001b[A\u001b[A\u001b[A\u001b[A\u001b[A"
          ],
          "name": "stderr"
        },
        {
          "output_type": "stream",
          "text": [
            "image.img_to_array(img) =  (350, 350, 3)\n",
            "np.expand_dims =  (1, 350, 350, 3)\n"
          ],
          "name": "stdout"
        },
        {
          "output_type": "stream",
          "text": [
            "\n",
            "\n",
            "\n",
            "\n",
            "\n",
            "\n",
            "\n",
            "\n",
            "\n",
            " 71%|███████   | 60/85 [00:26<00:10,  2.31it/s]\u001b[A\u001b[A\u001b[A\u001b[A\u001b[A\u001b[A\u001b[A\u001b[A\u001b[A"
          ],
          "name": "stderr"
        },
        {
          "output_type": "stream",
          "text": [
            "image.img_to_array(img) =  (350, 350, 3)\n",
            "np.expand_dims =  (1, 350, 350, 3)\n"
          ],
          "name": "stdout"
        },
        {
          "output_type": "stream",
          "text": [
            "\n",
            "\n",
            "\n",
            "\n",
            "\n",
            "\n",
            "\n",
            "\n",
            "\n",
            " 72%|███████▏  | 61/85 [00:26<00:10,  2.29it/s]\u001b[A\u001b[A\u001b[A\u001b[A\u001b[A\u001b[A\u001b[A\u001b[A\u001b[A"
          ],
          "name": "stderr"
        },
        {
          "output_type": "stream",
          "text": [
            "image.img_to_array(img) =  (350, 350, 3)\n",
            "np.expand_dims =  (1, 350, 350, 3)\n"
          ],
          "name": "stdout"
        },
        {
          "output_type": "stream",
          "text": [
            "\n",
            "\n",
            "\n",
            "\n",
            "\n",
            "\n",
            "\n",
            "\n",
            "\n",
            " 73%|███████▎  | 62/85 [00:27<00:10,  2.29it/s]\u001b[A\u001b[A\u001b[A\u001b[A\u001b[A\u001b[A\u001b[A\u001b[A\u001b[A"
          ],
          "name": "stderr"
        },
        {
          "output_type": "stream",
          "text": [
            "image.img_to_array(img) =  (350, 350, 3)\n",
            "np.expand_dims =  (1, 350, 350, 3)\n"
          ],
          "name": "stdout"
        },
        {
          "output_type": "stream",
          "text": [
            "\n",
            "\n",
            "\n",
            "\n",
            "\n",
            "\n",
            "\n",
            "\n",
            "\n",
            " 74%|███████▍  | 63/85 [00:27<00:09,  2.31it/s]\u001b[A\u001b[A\u001b[A\u001b[A\u001b[A\u001b[A\u001b[A\u001b[A\u001b[A"
          ],
          "name": "stderr"
        },
        {
          "output_type": "stream",
          "text": [
            "image.img_to_array(img) =  (350, 350, 3)\n",
            "np.expand_dims =  (1, 350, 350, 3)\n"
          ],
          "name": "stdout"
        },
        {
          "output_type": "stream",
          "text": [
            "\n",
            "\n",
            "\n",
            "\n",
            "\n",
            "\n",
            "\n",
            "\n",
            "\n",
            " 75%|███████▌  | 64/85 [00:28<00:09,  2.31it/s]\u001b[A\u001b[A\u001b[A\u001b[A\u001b[A\u001b[A\u001b[A\u001b[A\u001b[A"
          ],
          "name": "stderr"
        },
        {
          "output_type": "stream",
          "text": [
            "image.img_to_array(img) =  (350, 350, 3)\n",
            "np.expand_dims =  (1, 350, 350, 3)\n"
          ],
          "name": "stdout"
        },
        {
          "output_type": "stream",
          "text": [
            "\n",
            "\n",
            "\n",
            "\n",
            "\n",
            "\n",
            "\n",
            "\n",
            "\n",
            " 76%|███████▋  | 65/85 [00:28<00:08,  2.32it/s]\u001b[A\u001b[A\u001b[A\u001b[A\u001b[A\u001b[A\u001b[A\u001b[A\u001b[A"
          ],
          "name": "stderr"
        },
        {
          "output_type": "stream",
          "text": [
            "image.img_to_array(img) =  (350, 350, 3)\n",
            "np.expand_dims =  (1, 350, 350, 3)\n"
          ],
          "name": "stdout"
        },
        {
          "output_type": "stream",
          "text": [
            "\n",
            "\n",
            "\n",
            "\n",
            "\n",
            "\n",
            "\n",
            "\n",
            "\n",
            " 78%|███████▊  | 66/85 [00:28<00:08,  2.31it/s]\u001b[A\u001b[A\u001b[A\u001b[A\u001b[A\u001b[A\u001b[A\u001b[A\u001b[A"
          ],
          "name": "stderr"
        },
        {
          "output_type": "stream",
          "text": [
            "image.img_to_array(img) =  (350, 350, 3)\n",
            "np.expand_dims =  (1, 350, 350, 3)\n"
          ],
          "name": "stdout"
        },
        {
          "output_type": "stream",
          "text": [
            "\n",
            "\n",
            "\n",
            "\n",
            "\n",
            "\n",
            "\n",
            "\n",
            "\n",
            " 79%|███████▉  | 67/85 [00:29<00:07,  2.32it/s]\u001b[A\u001b[A\u001b[A\u001b[A\u001b[A\u001b[A\u001b[A\u001b[A\u001b[A"
          ],
          "name": "stderr"
        },
        {
          "output_type": "stream",
          "text": [
            "image.img_to_array(img) =  (350, 350, 3)\n",
            "np.expand_dims =  (1, 350, 350, 3)\n"
          ],
          "name": "stdout"
        },
        {
          "output_type": "stream",
          "text": [
            "\n",
            "\n",
            "\n",
            "\n",
            "\n",
            "\n",
            "\n",
            "\n",
            "\n",
            " 80%|████████  | 68/85 [00:29<00:07,  2.30it/s]\u001b[A\u001b[A\u001b[A\u001b[A\u001b[A\u001b[A\u001b[A\u001b[A\u001b[A"
          ],
          "name": "stderr"
        },
        {
          "output_type": "stream",
          "text": [
            "image.img_to_array(img) =  (350, 350, 3)\n",
            "np.expand_dims =  (1, 350, 350, 3)\n"
          ],
          "name": "stdout"
        },
        {
          "output_type": "stream",
          "text": [
            "\n",
            "\n",
            "\n",
            "\n",
            "\n",
            "\n",
            "\n",
            "\n",
            "\n",
            " 81%|████████  | 69/85 [00:30<00:06,  2.32it/s]\u001b[A\u001b[A\u001b[A\u001b[A\u001b[A\u001b[A\u001b[A\u001b[A\u001b[A"
          ],
          "name": "stderr"
        },
        {
          "output_type": "stream",
          "text": [
            "image.img_to_array(img) =  (350, 350, 3)\n",
            "np.expand_dims =  (1, 350, 350, 3)\n"
          ],
          "name": "stdout"
        },
        {
          "output_type": "stream",
          "text": [
            "\n",
            "\n",
            "\n",
            "\n",
            "\n",
            "\n",
            "\n",
            "\n",
            "\n",
            " 82%|████████▏ | 70/85 [00:30<00:06,  2.30it/s]\u001b[A\u001b[A\u001b[A\u001b[A\u001b[A\u001b[A\u001b[A\u001b[A\u001b[A"
          ],
          "name": "stderr"
        },
        {
          "output_type": "stream",
          "text": [
            "image.img_to_array(img) =  (350, 350, 3)\n",
            "np.expand_dims =  (1, 350, 350, 3)\n"
          ],
          "name": "stdout"
        },
        {
          "output_type": "stream",
          "text": [
            "\n",
            "\n",
            "\n",
            "\n",
            "\n",
            "\n",
            "\n",
            "\n",
            "\n",
            " 84%|████████▎ | 71/85 [00:31<00:06,  2.30it/s]\u001b[A\u001b[A\u001b[A\u001b[A\u001b[A\u001b[A\u001b[A\u001b[A\u001b[A"
          ],
          "name": "stderr"
        },
        {
          "output_type": "stream",
          "text": [
            "image.img_to_array(img) =  (350, 350, 3)\n",
            "np.expand_dims =  (1, 350, 350, 3)\n"
          ],
          "name": "stdout"
        },
        {
          "output_type": "stream",
          "text": [
            "\n",
            "\n",
            "\n",
            "\n",
            "\n",
            "\n",
            "\n",
            "\n",
            "\n",
            " 85%|████████▍ | 72/85 [00:31<00:05,  2.30it/s]\u001b[A\u001b[A\u001b[A\u001b[A\u001b[A\u001b[A\u001b[A\u001b[A\u001b[A"
          ],
          "name": "stderr"
        },
        {
          "output_type": "stream",
          "text": [
            "image.img_to_array(img) =  (350, 350, 3)\n",
            "np.expand_dims =  (1, 350, 350, 3)\n"
          ],
          "name": "stdout"
        },
        {
          "output_type": "stream",
          "text": [
            "\n",
            "\n",
            "\n",
            "\n",
            "\n",
            "\n",
            "\n",
            "\n",
            "\n",
            " 86%|████████▌ | 73/85 [00:31<00:05,  2.29it/s]\u001b[A\u001b[A\u001b[A\u001b[A\u001b[A\u001b[A\u001b[A\u001b[A\u001b[A"
          ],
          "name": "stderr"
        },
        {
          "output_type": "stream",
          "text": [
            "image.img_to_array(img) =  (350, 350, 3)\n",
            "np.expand_dims =  (1, 350, 350, 3)\n"
          ],
          "name": "stdout"
        },
        {
          "output_type": "stream",
          "text": [
            "\n",
            "\n",
            "\n",
            "\n",
            "\n",
            "\n",
            "\n",
            "\n",
            "\n",
            " 87%|████████▋ | 74/85 [00:32<00:04,  2.28it/s]\u001b[A\u001b[A\u001b[A\u001b[A\u001b[A\u001b[A\u001b[A\u001b[A\u001b[A"
          ],
          "name": "stderr"
        },
        {
          "output_type": "stream",
          "text": [
            "image.img_to_array(img) =  (350, 350, 3)\n",
            "np.expand_dims =  (1, 350, 350, 3)\n"
          ],
          "name": "stdout"
        },
        {
          "output_type": "stream",
          "text": [
            "\n",
            "\n",
            "\n",
            "\n",
            "\n",
            "\n",
            "\n",
            "\n",
            "\n",
            " 88%|████████▊ | 75/85 [00:32<00:04,  2.29it/s]\u001b[A\u001b[A\u001b[A\u001b[A\u001b[A\u001b[A\u001b[A\u001b[A\u001b[A"
          ],
          "name": "stderr"
        },
        {
          "output_type": "stream",
          "text": [
            "image.img_to_array(img) =  (350, 350, 3)\n",
            "np.expand_dims =  (1, 350, 350, 3)\n"
          ],
          "name": "stdout"
        },
        {
          "output_type": "stream",
          "text": [
            "\n",
            "\n",
            "\n",
            "\n",
            "\n",
            "\n",
            "\n",
            "\n",
            "\n",
            " 89%|████████▉ | 76/85 [00:33<00:03,  2.30it/s]\u001b[A\u001b[A\u001b[A\u001b[A\u001b[A\u001b[A\u001b[A\u001b[A\u001b[A"
          ],
          "name": "stderr"
        },
        {
          "output_type": "stream",
          "text": [
            "image.img_to_array(img) =  (350, 350, 3)\n",
            "np.expand_dims =  (1, 350, 350, 3)\n"
          ],
          "name": "stdout"
        },
        {
          "output_type": "stream",
          "text": [
            "\n",
            "\n",
            "\n",
            "\n",
            "\n",
            "\n",
            "\n",
            "\n",
            "\n",
            " 91%|█████████ | 77/85 [00:33<00:03,  2.28it/s]\u001b[A\u001b[A\u001b[A\u001b[A\u001b[A\u001b[A\u001b[A\u001b[A\u001b[A"
          ],
          "name": "stderr"
        },
        {
          "output_type": "stream",
          "text": [
            "image.img_to_array(img) =  (350, 350, 3)\n",
            "np.expand_dims =  (1, 350, 350, 3)\n"
          ],
          "name": "stdout"
        },
        {
          "output_type": "stream",
          "text": [
            "\n",
            "\n",
            "\n",
            "\n",
            "\n",
            "\n",
            "\n",
            "\n",
            "\n",
            " 92%|█████████▏| 78/85 [00:34<00:03,  2.28it/s]\u001b[A\u001b[A\u001b[A\u001b[A\u001b[A\u001b[A\u001b[A\u001b[A\u001b[A"
          ],
          "name": "stderr"
        },
        {
          "output_type": "stream",
          "text": [
            "image.img_to_array(img) =  (350, 350, 3)\n",
            "np.expand_dims =  (1, 350, 350, 3)\n"
          ],
          "name": "stdout"
        },
        {
          "output_type": "stream",
          "text": [
            "\n",
            "\n",
            "\n",
            "\n",
            "\n",
            "\n",
            "\n",
            "\n",
            "\n",
            " 93%|█████████▎| 79/85 [00:34<00:02,  2.31it/s]\u001b[A\u001b[A\u001b[A\u001b[A\u001b[A\u001b[A\u001b[A\u001b[A\u001b[A"
          ],
          "name": "stderr"
        },
        {
          "output_type": "stream",
          "text": [
            "image.img_to_array(img) =  (350, 350, 3)\n",
            "np.expand_dims =  (1, 350, 350, 3)\n"
          ],
          "name": "stdout"
        },
        {
          "output_type": "stream",
          "text": [
            "\n",
            "\n",
            "\n",
            "\n",
            "\n",
            "\n",
            "\n",
            "\n",
            "\n",
            " 94%|█████████▍| 80/85 [00:34<00:02,  2.31it/s]\u001b[A\u001b[A\u001b[A\u001b[A\u001b[A\u001b[A\u001b[A\u001b[A\u001b[A"
          ],
          "name": "stderr"
        },
        {
          "output_type": "stream",
          "text": [
            "image.img_to_array(img) =  (350, 350, 3)\n",
            "np.expand_dims =  (1, 350, 350, 3)\n"
          ],
          "name": "stdout"
        },
        {
          "output_type": "stream",
          "text": [
            "\n",
            "\n",
            "\n",
            "\n",
            "\n",
            "\n",
            "\n",
            "\n",
            "\n",
            " 95%|█████████▌| 81/85 [00:35<00:01,  2.31it/s]\u001b[A\u001b[A\u001b[A\u001b[A\u001b[A\u001b[A\u001b[A\u001b[A\u001b[A"
          ],
          "name": "stderr"
        },
        {
          "output_type": "stream",
          "text": [
            "image.img_to_array(img) =  (350, 350, 3)\n",
            "np.expand_dims =  (1, 350, 350, 3)\n"
          ],
          "name": "stdout"
        },
        {
          "output_type": "stream",
          "text": [
            "\n",
            "\n",
            "\n",
            "\n",
            "\n",
            "\n",
            "\n",
            "\n",
            "\n",
            " 96%|█████████▋| 82/85 [00:35<00:01,  2.30it/s]\u001b[A\u001b[A\u001b[A\u001b[A\u001b[A\u001b[A\u001b[A\u001b[A\u001b[A"
          ],
          "name": "stderr"
        },
        {
          "output_type": "stream",
          "text": [
            "image.img_to_array(img) =  (350, 350, 3)\n",
            "np.expand_dims =  (1, 350, 350, 3)\n"
          ],
          "name": "stdout"
        },
        {
          "output_type": "stream",
          "text": [
            "\n",
            "\n",
            "\n",
            "\n",
            "\n",
            "\n",
            "\n",
            "\n",
            "\n",
            " 98%|█████████▊| 83/85 [00:36<00:00,  2.31it/s]\u001b[A\u001b[A\u001b[A\u001b[A\u001b[A\u001b[A\u001b[A\u001b[A\u001b[A"
          ],
          "name": "stderr"
        },
        {
          "output_type": "stream",
          "text": [
            "image.img_to_array(img) =  (350, 350, 3)\n",
            "np.expand_dims =  (1, 350, 350, 3)\n"
          ],
          "name": "stdout"
        },
        {
          "output_type": "stream",
          "text": [
            "\n",
            "\n",
            "\n",
            "\n",
            "\n",
            "\n",
            "\n",
            "\n",
            "\n",
            " 99%|█████████▉| 84/85 [00:36<00:00,  2.28it/s]\u001b[A\u001b[A\u001b[A\u001b[A\u001b[A\u001b[A\u001b[A\u001b[A\u001b[A"
          ],
          "name": "stderr"
        },
        {
          "output_type": "stream",
          "text": [
            "image.img_to_array(img) =  (350, 350, 3)\n",
            "np.expand_dims =  (1, 350, 350, 3)\n"
          ],
          "name": "stdout"
        },
        {
          "output_type": "stream",
          "text": [
            "\n",
            "\n",
            "\n",
            "\n",
            "\n",
            "\n",
            "\n",
            "\n",
            "\n",
            "100%|██████████| 85/85 [00:37<00:00,  2.29it/s]\n"
          ],
          "name": "stderr"
        }
      ]
    },
    {
      "cell_type": "code",
      "metadata": {
        "id": "geographic-cement"
      },
      "source": [
        "np.savez(\"bottleneck_features_X.npz\", train=train_tensors_X_bottleneck, valid=valid_tensors_X_bottleneck, test=test_tensors_X_bottleneck)"
      ],
      "id": "geographic-cement",
      "execution_count": 81,
      "outputs": []
    },
    {
      "cell_type": "code",
      "metadata": {
        "colab": {
          "base_uri": "https://localhost:8080/"
        },
        "id": "equivalent-brighton",
        "outputId": "9ff5d225-9547-4655-c24a-d58ecaa5104a"
      },
      "source": [
        "npzfile_X = np.load(\"bottleneck_features_X.npz\")\n",
        "npzfile_X.files"
      ],
      "id": "equivalent-brighton",
      "execution_count": 82,
      "outputs": [
        {
          "output_type": "execute_result",
          "data": {
            "text/plain": [
              "['train', 'valid', 'test']"
            ]
          },
          "metadata": {
            "tags": []
          },
          "execution_count": 82
        }
      ]
    },
    {
      "cell_type": "code",
      "metadata": {
        "colab": {
          "base_uri": "https://localhost:8080/"
        },
        "id": "organizational-behalf",
        "outputId": "c3db42e6-1468-4475-c89b-31846f88e959"
      },
      "source": [
        "print('Training: ',train_tensors_X_bottleneck.shape)\n",
        "print('Validation: ',valid_tensors_X_bottleneck.shape)\n",
        "print('Test: ',test_tensors_X_bottleneck.shape)"
      ],
      "id": "organizational-behalf",
      "execution_count": 83,
      "outputs": [
        {
          "output_type": "stream",
          "text": [
            "Training:  (283, 11, 11, 2048)\n",
            "Validation:  (71, 11, 11, 2048)\n",
            "Test:  (85, 11, 11, 2048)\n"
          ],
          "name": "stdout"
        }
      ]
    },
    {
      "cell_type": "code",
      "metadata": {
        "id": "eligible-chrome"
      },
      "source": [
        "train_Xception = npzfile_X[\"train\"]\n",
        "valid_Xception = npzfile_X[\"valid\"]\n",
        "test_Xception = npzfile_X[\"test\"]"
      ],
      "id": "eligible-chrome",
      "execution_count": 84,
      "outputs": []
    },
    {
      "cell_type": "code",
      "metadata": {
        "colab": {
          "base_uri": "https://localhost:8080/"
        },
        "id": "presidential-lesson",
        "outputId": "d2106233-9e57-41d3-af1c-a92658101d0a"
      },
      "source": [
        "Xception_model = Sequential()\n",
        "Xception_model.add(GlobalAveragePooling2D(input_shape=train_Xception.shape[1:]))\n",
        "Xception_model.add(Dense(8, activation='softmax'))\n",
        "Xception_model.summary()"
      ],
      "id": "presidential-lesson",
      "execution_count": 85,
      "outputs": [
        {
          "output_type": "stream",
          "text": [
            "Model: \"sequential_1\"\n",
            "_________________________________________________________________\n",
            "Layer (type)                 Output Shape              Param #   \n",
            "=================================================================\n",
            "global_average_pooling2d_1 ( (None, 2048)              0         \n",
            "_________________________________________________________________\n",
            "dense_1 (Dense)              (None, 8)                 16392     \n",
            "=================================================================\n",
            "Total params: 16,392\n",
            "Trainable params: 16,392\n",
            "Non-trainable params: 0\n",
            "_________________________________________________________________\n"
          ],
          "name": "stdout"
        }
      ]
    },
    {
      "cell_type": "markdown",
      "metadata": {
        "id": "double-fleet"
      },
      "source": [
        "Compile the Xception Model"
      ],
      "id": "double-fleet"
    },
    {
      "cell_type": "code",
      "metadata": {
        "id": "precise-prayer"
      },
      "source": [
        "Xception_model.compile(loss='categorical_crossentropy', optimizer='adam', metrics=['accuracy'])"
      ],
      "id": "precise-prayer",
      "execution_count": 86,
      "outputs": []
    },
    {
      "cell_type": "code",
      "metadata": {
        "colab": {
          "base_uri": "https://localhost:8080/"
        },
        "id": "literary-louisiana",
        "outputId": "fb47fe22-0418-4bab-caed-1d17a8d0fd91"
      },
      "source": [
        "checkpointer = ModelCheckpoint(filepath='saved_models/weights.best.Xception.hdf5',\n",
        "                               verbose=1, save_best_only=True)\n",
        "\n",
        "Xception_history = Xception_model.fit(train_Xception, y_train,\n",
        "          validation_data=(valid_Xception, y_valid),\n",
        "          epochs=20, batch_size=20, callbacks=[checkpointer], verbose=1)"
      ],
      "id": "literary-louisiana",
      "execution_count": 87,
      "outputs": [
        {
          "output_type": "stream",
          "text": [
            "Epoch 1/20\n",
            "15/15 [==============================] - 1s 26ms/step - loss: 1.9613 - accuracy: 0.2660 - val_loss: 1.7895 - val_accuracy: 0.3099\n",
            "\n",
            "Epoch 00001: val_loss improved from inf to 1.78947, saving model to saved_models/weights.best.Xception.hdf5\n",
            "Epoch 2/20\n",
            "15/15 [==============================] - 0s 14ms/step - loss: 1.6504 - accuracy: 0.4205 - val_loss: 1.6241 - val_accuracy: 0.3521\n",
            "\n",
            "Epoch 00002: val_loss improved from 1.78947 to 1.62414, saving model to saved_models/weights.best.Xception.hdf5\n",
            "Epoch 3/20\n",
            "15/15 [==============================] - 0s 14ms/step - loss: 1.4424 - accuracy: 0.4751 - val_loss: 1.5227 - val_accuracy: 0.4789\n",
            "\n",
            "Epoch 00003: val_loss improved from 1.62414 to 1.52268, saving model to saved_models/weights.best.Xception.hdf5\n",
            "Epoch 4/20\n",
            "15/15 [==============================] - 0s 15ms/step - loss: 1.3926 - accuracy: 0.5797 - val_loss: 1.4339 - val_accuracy: 0.5634\n",
            "\n",
            "Epoch 00004: val_loss improved from 1.52268 to 1.43389, saving model to saved_models/weights.best.Xception.hdf5\n",
            "Epoch 5/20\n",
            "15/15 [==============================] - 0s 14ms/step - loss: 1.3530 - accuracy: 0.5875 - val_loss: 1.4071 - val_accuracy: 0.5352\n",
            "\n",
            "Epoch 00005: val_loss improved from 1.43389 to 1.40711, saving model to saved_models/weights.best.Xception.hdf5\n",
            "Epoch 6/20\n",
            "15/15 [==============================] - 0s 14ms/step - loss: 1.1911 - accuracy: 0.6392 - val_loss: 1.3463 - val_accuracy: 0.5634\n",
            "\n",
            "Epoch 00006: val_loss improved from 1.40711 to 1.34632, saving model to saved_models/weights.best.Xception.hdf5\n",
            "Epoch 7/20\n",
            "15/15 [==============================] - 0s 14ms/step - loss: 1.1880 - accuracy: 0.6307 - val_loss: 1.3264 - val_accuracy: 0.5493\n",
            "\n",
            "Epoch 00007: val_loss improved from 1.34632 to 1.32636, saving model to saved_models/weights.best.Xception.hdf5\n",
            "Epoch 8/20\n",
            "15/15 [==============================] - 0s 14ms/step - loss: 1.1358 - accuracy: 0.6391 - val_loss: 1.3000 - val_accuracy: 0.5493\n",
            "\n",
            "Epoch 00008: val_loss improved from 1.32636 to 1.30004, saving model to saved_models/weights.best.Xception.hdf5\n",
            "Epoch 9/20\n",
            "15/15 [==============================] - 0s 14ms/step - loss: 1.0950 - accuracy: 0.6331 - val_loss: 1.2740 - val_accuracy: 0.5634\n",
            "\n",
            "Epoch 00009: val_loss improved from 1.30004 to 1.27400, saving model to saved_models/weights.best.Xception.hdf5\n",
            "Epoch 10/20\n",
            "15/15 [==============================] - 0s 15ms/step - loss: 1.0345 - accuracy: 0.6659 - val_loss: 1.2455 - val_accuracy: 0.5915\n",
            "\n",
            "Epoch 00010: val_loss improved from 1.27400 to 1.24547, saving model to saved_models/weights.best.Xception.hdf5\n",
            "Epoch 11/20\n",
            "15/15 [==============================] - 0s 15ms/step - loss: 0.9677 - accuracy: 0.6780 - val_loss: 1.2407 - val_accuracy: 0.5493\n",
            "\n",
            "Epoch 00011: val_loss improved from 1.24547 to 1.24067, saving model to saved_models/weights.best.Xception.hdf5\n",
            "Epoch 12/20\n",
            "15/15 [==============================] - 0s 14ms/step - loss: 0.8928 - accuracy: 0.7455 - val_loss: 1.2041 - val_accuracy: 0.6056\n",
            "\n",
            "Epoch 00012: val_loss improved from 1.24067 to 1.20413, saving model to saved_models/weights.best.Xception.hdf5\n",
            "Epoch 13/20\n",
            "15/15 [==============================] - 0s 15ms/step - loss: 0.8892 - accuracy: 0.7494 - val_loss: 1.1763 - val_accuracy: 0.6479\n",
            "\n",
            "Epoch 00013: val_loss improved from 1.20413 to 1.17628, saving model to saved_models/weights.best.Xception.hdf5\n",
            "Epoch 14/20\n",
            "15/15 [==============================] - 0s 15ms/step - loss: 0.8560 - accuracy: 0.7558 - val_loss: 1.2066 - val_accuracy: 0.5493\n",
            "\n",
            "Epoch 00014: val_loss did not improve from 1.17628\n",
            "Epoch 15/20\n",
            "15/15 [==============================] - 0s 14ms/step - loss: 0.8069 - accuracy: 0.7370 - val_loss: 1.1484 - val_accuracy: 0.6479\n",
            "\n",
            "Epoch 00015: val_loss improved from 1.17628 to 1.14842, saving model to saved_models/weights.best.Xception.hdf5\n",
            "Epoch 16/20\n",
            "15/15 [==============================] - 0s 14ms/step - loss: 0.7568 - accuracy: 0.8046 - val_loss: 1.1509 - val_accuracy: 0.5915\n",
            "\n",
            "Epoch 00016: val_loss did not improve from 1.14842\n",
            "Epoch 17/20\n",
            "15/15 [==============================] - 0s 14ms/step - loss: 0.8147 - accuracy: 0.7489 - val_loss: 1.1620 - val_accuracy: 0.5493\n",
            "\n",
            "Epoch 00017: val_loss did not improve from 1.14842\n",
            "Epoch 18/20\n",
            "15/15 [==============================] - 0s 15ms/step - loss: 0.7688 - accuracy: 0.7752 - val_loss: 1.1138 - val_accuracy: 0.6479\n",
            "\n",
            "Epoch 00018: val_loss improved from 1.14842 to 1.11382, saving model to saved_models/weights.best.Xception.hdf5\n",
            "Epoch 19/20\n",
            "15/15 [==============================] - 0s 15ms/step - loss: 0.7601 - accuracy: 0.7884 - val_loss: 1.1203 - val_accuracy: 0.5634\n",
            "\n",
            "Epoch 00019: val_loss did not improve from 1.11382\n",
            "Epoch 20/20\n",
            "15/15 [==============================] - 0s 13ms/step - loss: 0.6830 - accuracy: 0.8043 - val_loss: 1.1115 - val_accuracy: 0.5634\n",
            "\n",
            "Epoch 00020: val_loss improved from 1.11382 to 1.11154, saving model to saved_models/weights.best.Xception.hdf5\n"
          ],
          "name": "stdout"
        }
      ]
    },
    {
      "cell_type": "code",
      "metadata": {
        "colab": {
          "base_uri": "https://localhost:8080/",
          "height": 308
        },
        "id": "severe-clock",
        "outputId": "2b5ba5f8-4a9b-451e-84ec-fee33f52fbe2"
      },
      "source": [
        "plot_accuracy_loss_for_train_valid(Xception_history, \"Xception Accuracy & Loss\")"
      ],
      "id": "severe-clock",
      "execution_count": 88,
      "outputs": [
        {
          "output_type": "display_data",
          "data": {
            "image/png": "[encoded data removed]",
            "text/plain": [
              "<Figure size 864x288 with 2 Axes>"
            ]
          },
          "metadata": {
            "tags": [],
            "needs_background": "light"
          }
        }
      ]
    },
    {
      "cell_type": "markdown",
      "metadata": {
        "id": "advisory-mouth"
      },
      "source": [
        "Load the Best Xception weights from training"
      ],
      "id": "advisory-mouth"
    },
    {
      "cell_type": "code",
      "metadata": {
        "id": "annoying-bermuda"
      },
      "source": [
        "Xception_model.load_weights('saved_models/weights.best.Xception.hdf5')"
      ],
      "id": "annoying-bermuda",
      "execution_count": 89,
      "outputs": []
    },
    {
      "cell_type": "markdown",
      "metadata": {
        "id": "latin-release"
      },
      "source": [
        "Get the accuracy for the model"
      ],
      "id": "latin-release"
    },
    {
      "cell_type": "code",
      "metadata": {
        "colab": {
          "base_uri": "https://localhost:8080/"
        },
        "id": "anticipated-devon",
        "outputId": "7ddbf64b-6261-48bf-cfea-6a5df0b8b37d"
      },
      "source": [
        "Xception_predictions = [np.argmax(Xception_model.predict(np.expand_dims(feature, axis=0))) for feature in test_Xception]\n",
        "\n",
        "# report test accuracy\n",
        "test_accuracy = 100*np.sum(np.array(Xception_predictions)==np.argmax(y_test, axis=1))/len(Xception_predictions)\n",
        "print('Test accuracy: %.4f%%' % test_accuracy)"
      ],
      "id": "anticipated-devon",
      "execution_count": 90,
      "outputs": [
        {
          "output_type": "stream",
          "text": [
            "Test accuracy: 58.8235%\n"
          ],
          "name": "stdout"
        }
      ]
    },
    {
      "cell_type": "code",
      "metadata": {
        "colab": {
          "base_uri": "https://localhost:8080/"
        },
        "id": "heard-candidate",
        "outputId": "31bf2332-a278-4ae9-b3b1-978781ff1b5c"
      },
      "source": [
        "Xception_test_score = Xception_model.evaluate(test_Xception,y_test)\n",
        "print(\"Log loss of the Xception model is {0}\".format(Xception_test_score[0]))"
      ],
      "id": "heard-candidate",
      "execution_count": 91,
      "outputs": [
        {
          "output_type": "stream",
          "text": [
            "3/3 [==============================] - 0s 10ms/step - loss: 1.1586 - accuracy: 0.5882\n",
            "Log loss of the Xception model is 1.1586138010025024\n"
          ],
          "name": "stdout"
        }
      ]
    },
    {
      "cell_type": "code",
      "metadata": {
        "colab": {
          "base_uri": "https://localhost:8080/",
          "height": 580
        },
        "id": "front-tragedy",
        "outputId": "8c4634ae-901c-47da-e967-018a5941f5eb"
      },
      "source": [
        "plot_confusion_matrix(test_df.emotion, Xception_predictions, classes=emotions, normalize=True,\n",
        "                      title='Normalized Xception Confusion Matrix')\n",
        "\n",
        "plt.show()"
      ],
      "id": "front-tragedy",
      "execution_count": 92,
      "outputs": [
        {
          "output_type": "stream",
          "text": [
            "Normalized confusion matrix\n"
          ],
          "name": "stdout"
        },
        {
          "output_type": "display_data",
          "data": {
            "image/png": "[encoded data removed]",
            "text/plain": [
              "<Figure size 576x576 with 2 Axes>"
            ]
          },
          "metadata": {
            "tags": [],
            "needs_background": "light"
          }
        }
      ]
    },
    {
      "cell_type": "markdown",
      "metadata": {
        "id": "adolescent-elite"
      },
      "source": [
        "Load the input for Augumented VGG16 model"
      ],
      "id": "adolescent-elite"
    },
    {
      "cell_type": "code",
      "metadata": {
        "id": "national-passport"
      },
      "source": [
        "def get_aug_input_features(img_paths):\n",
        "    list_of_tensors = [path_to_tensor(img_path, None, None, transfer_learn=False) for img_path in tqdm(img_paths)]\n",
        "    return np.vstack(list_of_tensors)"
      ],
      "id": "national-passport",
      "execution_count": 93,
      "outputs": []
    },
    {
      "cell_type": "code",
      "metadata": {
        "colab": {
          "base_uri": "https://localhost:8080/"
        },
        "id": "amended-empty",
        "outputId": "522877c0-e1b7-4d2b-9194-0b4100e4ce39"
      },
      "source": [
        "train_aug_tensors_VGG = get_aug_input_features(train_files)\n",
        "valid_aug_tensors_VGG = get_aug_input_features(valid_files)\n",
        "test_aug_tensors_VGG = get_aug_input_features(test_files)"
      ],
      "id": "amended-empty",
      "execution_count": 94,
      "outputs": [
        {
          "output_type": "stream",
          "text": [
            "\n",
            "\n",
            "\n",
            "\n",
            "\n",
            "\n",
            "\n",
            "\n",
            "\n",
            "  0%|          | 0/283 [00:00<?, ?it/s]\u001b[A\u001b[A\u001b[A\u001b[A\u001b[A\u001b[A\u001b[A\u001b[A\u001b[A\n",
            "\n",
            "\n",
            "\n",
            "\n",
            "\n",
            "\n",
            "\n",
            "\n",
            "  5%|▍         | 13/283 [00:00<00:02, 124.67it/s]\u001b[A\u001b[A\u001b[A\u001b[A\u001b[A\u001b[A\u001b[A\u001b[A\u001b[A\n",
            "\n",
            "\n",
            "\n",
            "\n",
            "\n",
            "\n",
            "\n",
            "\n",
            " 10%|▉         | 28/283 [00:00<00:01, 130.41it/s]"
          ],
          "name": "stderr"
        },
        {
          "output_type": "stream",
          "text": [
            "image.img_to_array(img) =  (350, 350, 3)\n",
            "np.expand_dims =  (1, 350, 350, 3)\n",
            "image.img_to_array(img) =  (350, 350, 3)\n",
            "np.expand_dims =  (1, 350, 350, 3)\n",
            "image.img_to_array(img) =  (350, 350, 3)\n",
            "np.expand_dims =  (1, 350, 350, 3)\n",
            "image.img_to_array(img) =  (350, 350, 3)\n",
            "np.expand_dims =  (1, 350, 350, 3)\n",
            "image.img_to_array(img) =  (350, 350, 3)\n",
            "np.expand_dims =  (1, 350, 350, 3)\n",
            "image.img_to_array(img) =  (350, 350, 3)\n",
            "np.expand_dims =  (1, 350, 350, 3)\n",
            "image.img_to_array(img) =  (350, 350, 3)\n",
            "np.expand_dims =  (1, 350, 350, 3)\n",
            "image.img_to_array(img) =  (350, 350, 3)\n",
            "np.expand_dims =  (1, 350, 350, 3)\n",
            "image.img_to_array(img) =  (350, 350, 3)\n",
            "np.expand_dims =  (1, 350, 350, 3)\n",
            "image.img_to_array(img) =  (350, 350, 3)\n",
            "np.expand_dims =  (1, 350, 350, 3)\n",
            "image.img_to_array(img) =  (350, 350, 3)\n",
            "np.expand_dims =  (1, 350, 350, 3)\n",
            "image.img_to_array(img) =  (350, 350, 3)\n",
            "np.expand_dims =  (1, 350, 350, 3)\n",
            "image.img_to_array(img) =  (350, 350, 3)\n",
            "np.expand_dims =  (1, 350, 350, 3)\n",
            "image.img_to_array(img) =  (350, 350, 3)\n",
            "np.expand_dims =  (1, 350, 350, 3)\n",
            "image.img_to_array(img) =  (350, 350, 3)\n",
            "np.expand_dims =  (1, 350, 350, 3)\n",
            "image.img_to_array(img) =  (350, 350, 3)\n",
            "np.expand_dims =  (1, 350, 350, 3)\n",
            "image.img_to_array(img) =  (350, 350, 3)\n",
            "np.expand_dims =  (1, 350, 350, 3)\n",
            "image.img_to_array(img) =  (350, 350, 3)\n",
            "np.expand_dims =  (1, 350, 350, 3)\n",
            "image.img_to_array(img) =  (350, 350, 3)\n",
            "np.expand_dims =  (1, 350, 350, 3)\n",
            "image.img_to_array(img) =  (350, 350, 3)\n",
            "np.expand_dims =  (1, 350, 350, 3)\n",
            "image.img_to_array(img) =  (350, 350, 3)\n",
            "np.expand_dims =  (1, 350, 350, 3)\n",
            "image.img_to_array(img) =  (350, 350, 3)\n",
            "np.expand_dims =  (1, 350, 350, 3)\n",
            "image.img_to_array(img) =  (350, 350, 3)\n",
            "np.expand_dims =  (1, 350, 350, 3)\n",
            "image.img_to_array(img) =  (350, 350, 3)\n",
            "np.expand_dims =  (1, 350, 350, 3)\n",
            "image.img_to_array(img) =  (350, 350, 3)\n",
            "np.expand_dims =  (1, 350, 350, 3)\n",
            "image.img_to_array(img) =  (350, 350, 3)\n",
            "np.expand_dims =  (1, 350, 350, 3)\n",
            "image.img_to_array(img) =  (350, 350, 3)\n",
            "np.expand_dims =  (1, 350, 350, 3)\n",
            "image.img_to_array(img) =  (350, 350, 3)\n",
            "np.expand_dims =  (1, 350, 350, 3)\n"
          ],
          "name": "stdout"
        },
        {
          "output_type": "stream",
          "text": [
            "\u001b[A\u001b[A\u001b[A\u001b[A\u001b[A\u001b[A\u001b[A\u001b[A\u001b[A\n",
            "\n",
            "\n",
            "\n",
            "\n",
            "\n",
            "\n",
            "\n",
            "\n",
            " 14%|█▍        | 41/283 [00:00<00:01, 129.22it/s]\u001b[A\u001b[A\u001b[A\u001b[A\u001b[A\u001b[A\u001b[A\u001b[A\u001b[A\n",
            "\n",
            "\n",
            "\n",
            "\n",
            "\n",
            "\n",
            "\n",
            "\n",
            " 20%|██        | 57/283 [00:00<00:01, 135.78it/s]\u001b[A\u001b[A\u001b[A\u001b[A\u001b[A\u001b[A\u001b[A\u001b[A\u001b[A"
          ],
          "name": "stderr"
        },
        {
          "output_type": "stream",
          "text": [
            "image.img_to_array(img) =  (350, 350, 3)\n",
            "np.expand_dims =  (1, 350, 350, 3)\n",
            "image.img_to_array(img) =  (350, 350, 3)\n",
            "np.expand_dims =  (1, 350, 350, 3)\n",
            "image.img_to_array(img) =  (350, 350, 3)\n",
            "np.expand_dims =  (1, 350, 350, 3)\n",
            "image.img_to_array(img) =  (350, 350, 3)\n",
            "np.expand_dims =  (1, 350, 350, 3)\n",
            "image.img_to_array(img) =  (350, 350, 3)\n",
            "np.expand_dims =  (1, 350, 350, 3)\n",
            "image.img_to_array(img) =  (350, 350, 3)\n",
            "np.expand_dims =  (1, 350, 350, 3)\n",
            "image.img_to_array(img) =  (350, 350, 3)\n",
            "np.expand_dims =  (1, 350, 350, 3)\n",
            "image.img_to_array(img) =  (350, 350, 3)\n",
            "np.expand_dims =  (1, 350, 350, 3)\n",
            "image.img_to_array(img) =  (350, 350, 3)\n",
            "np.expand_dims =  (1, 350, 350, 3)\n",
            "image.img_to_array(img) =  (350, 350, 3)\n",
            "np.expand_dims =  (1, 350, 350, 3)\n",
            "image.img_to_array(img) =  (350, 350, 3)\n",
            "np.expand_dims =  (1, 350, 350, 3)\n",
            "image.img_to_array(img) =  (350, 350, 3)\n",
            "np.expand_dims =  (1, 350, 350, 3)\n",
            "image.img_to_array(img) =  (350, 350, 3)\n",
            "np.expand_dims =  (1, 350, 350, 3)\n",
            "image.img_to_array(img) =  (350, 350, 3)\n",
            "np.expand_dims =  (1, 350, 350, 3)\n",
            "image.img_to_array(img) =  (350, 350, 3)\n",
            "np.expand_dims =  (1, 350, 350, 3)\n",
            "image.img_to_array(img) =  (350, 350, 3)\n",
            "np.expand_dims =  (1, 350, 350, 3)\n",
            "image.img_to_array(img) =  (350, 350, 3)\n",
            "np.expand_dims =  (1, 350, 350, 3)\n",
            "image.img_to_array(img) =  (350, 350, 3)\n",
            "np.expand_dims =  (1, 350, 350, 3)\n",
            "image.img_to_array(img) =  (350, 350, 3)\n",
            "np.expand_dims =  (1, 350, 350, 3)\n",
            "image.img_to_array(img) =  (350, 350, 3)\n",
            "np.expand_dims =  (1, 350, 350, 3)\n",
            "image.img_to_array(img) =  (350, 350, 3)\n",
            "np.expand_dims =  (1, 350, 350, 3)\n",
            "image.img_to_array(img) =  (350, 350, 3)\n",
            "np.expand_dims =  (1, 350, 350, 3)\n",
            "image.img_to_array(img) =  (350, 350, 3)\n",
            "np.expand_dims =  (1, 350, 350, 3)\n",
            "image.img_to_array(img) =  (350, 350, 3)\n",
            "np.expand_dims =  (1, 350, 350, 3)\n",
            "image.img_to_array(img) =  (350, 350, 3)\n",
            "np.expand_dims =  (1, 350, 350, 3)\n",
            "image.img_to_array(img) =  (350, 350, 3)\n",
            "np.expand_dims =  (1, 350, 350, 3)\n",
            "image.img_to_array(img) =  (350, 350, 3)\n",
            "np.expand_dims =  (1, 350, 350, 3)\n",
            "image.img_to_array(img) =  (350, 350, 3)\n",
            "np.expand_dims =  (1, 350, 350, 3)\n",
            "image.img_to_array(img) =  (350, 350, 3)\n",
            "np.expand_dims =  (1, 350, 350, 3)\n"
          ],
          "name": "stdout"
        },
        {
          "output_type": "stream",
          "text": [
            "\n",
            "\n",
            "\n",
            "\n",
            "\n",
            "\n",
            "\n",
            "\n",
            "\n",
            " 26%|██▌       | 73/283 [00:00<00:01, 140.32it/s]\u001b[A\u001b[A\u001b[A\u001b[A\u001b[A\u001b[A\u001b[A\u001b[A\u001b[A\n",
            "\n",
            "\n",
            "\n",
            "\n",
            "\n",
            "\n",
            "\n",
            "\n",
            " 31%|███       | 87/283 [00:00<00:01, 140.16it/s]\u001b[A\u001b[A\u001b[A\u001b[A\u001b[A\u001b[A\u001b[A\u001b[A\u001b[A"
          ],
          "name": "stderr"
        },
        {
          "output_type": "stream",
          "text": [
            "image.img_to_array(img) =  (350, 350, 3)\n",
            "np.expand_dims =  (1, 350, 350, 3)\n",
            "image.img_to_array(img) =  (350, 350, 3)\n",
            "np.expand_dims =  (1, 350, 350, 3)\n",
            "image.img_to_array(img) =  (350, 350, 3)\n",
            "np.expand_dims =  (1, 350, 350, 3)\n",
            "image.img_to_array(img) =  (350, 350, 3)\n",
            "np.expand_dims =  (1, 350, 350, 3)\n",
            "image.img_to_array(img) =  (350, 350, 3)\n",
            "np.expand_dims =  (1, 350, 350, 3)\n",
            "image.img_to_array(img) =  (350, 350, 3)\n",
            "np.expand_dims =  (1, 350, 350, 3)\n",
            "image.img_to_array(img) =  (350, 350, 3)\n",
            "np.expand_dims =  (1, 350, 350, 3)\n",
            "image.img_to_array(img) =  (350, 350, 3)\n",
            "np.expand_dims =  (1, 350, 350, 3)\n",
            "image.img_to_array(img) =  (350, 350, 3)\n",
            "np.expand_dims =  (1, 350, 350, 3)\n",
            "image.img_to_array(img) =  (350, 350, 3)\n",
            "np.expand_dims =  (1, 350, 350, 3)\n",
            "image.img_to_array(img) =  (350, 350, 3)\n",
            "np.expand_dims =  (1, 350, 350, 3)\n",
            "image.img_to_array(img) =  (350, 350, 3)\n",
            "np.expand_dims =  (1, 350, 350, 3)\n",
            "image.img_to_array(img) =  (350, 350, 3)\n",
            "np.expand_dims =  (1, 350, 350, 3)\n",
            "image.img_to_array(img) =  (350, 350, 3)\n",
            "np.expand_dims =  (1, 350, 350, 3)\n",
            "image.img_to_array(img) =  (350, 350, 3)\n",
            "np.expand_dims =  (1, 350, 350, 3)\n",
            "image.img_to_array(img) =  (350, 350, 3)\n",
            "np.expand_dims =  (1, 350, 350, 3)\n",
            "image.img_to_array(img) =  (350, 350, 3)\n",
            "np.expand_dims =  (1, 350, 350, 3)\n",
            "image.img_to_array(img) =  (350, 350, 3)\n",
            "np.expand_dims =  (1, 350, 350, 3)\n",
            "image.img_to_array(img) =  (350, 350, 3)\n",
            "np.expand_dims =  (1, 350, 350, 3)\n",
            "image.img_to_array(img) =  (350, 350, 3)\n",
            "np.expand_dims =  (1, 350, 350, 3)\n",
            "image.img_to_array(img) =  (350, 350, 3)\n",
            "np.expand_dims =  (1, 350, 350, 3)\n",
            "image.img_to_array(img) =  (350, 350, 3)\n",
            "np.expand_dims =  (1, 350, 350, 3)\n",
            "image.img_to_array(img) =  (350, 350, 3)\n",
            "np.expand_dims =  (1, 350, 350, 3)\n",
            "image.img_to_array(img) =  (350, 350, 3)\n",
            "np.expand_dims =  (1, 350, 350, 3)\n",
            "image.img_to_array(img) =  (350, 350, 3)\n",
            "np.expand_dims =  (1, 350, 350, 3)\n",
            "image.img_to_array(img) =  (350, 350, 3)\n",
            "np.expand_dims =  (1, 350, 350, 3)\n",
            "image.img_to_array(img) =  (350, 350, 3)\n",
            "np.expand_dims =  (1, 350, 350, 3)\n",
            "image.img_to_array(img) =  (350, 350, 3)\n",
            "np.expand_dims =  (1, 350, 350, 3)\n",
            "image.img_to_array(img) =  (350, 350, 3)\n",
            "np.expand_dims =  (1, 350, 350, 3)\n",
            "image.img_to_array(img) =  (350, 350, 3)\n",
            "np.expand_dims =  (1, 350, 350, 3)\n",
            "image.img_to_array(img) =  (350, 350, 3)\n",
            "np.expand_dims =  (1, 350, 350, 3)\n",
            "image.img_to_array(img) =  (350, 350, 3)\n",
            "np.expand_dims =  (1, 350, 350, 3)\n"
          ],
          "name": "stdout"
        },
        {
          "output_type": "stream",
          "text": [
            "\n",
            "\n",
            "\n",
            "\n",
            "\n",
            "\n",
            "\n",
            "\n",
            "\n",
            " 36%|███▌      | 101/283 [00:00<00:01, 138.87it/s]\u001b[A\u001b[A\u001b[A\u001b[A\u001b[A\u001b[A\u001b[A\u001b[A\u001b[A\n",
            "\n",
            "\n",
            "\n",
            "\n",
            "\n",
            "\n",
            "\n",
            "\n",
            " 41%|████      | 116/283 [00:00<00:01, 141.38it/s]\u001b[A\u001b[A\u001b[A\u001b[A\u001b[A\u001b[A\u001b[A\u001b[A\u001b[A"
          ],
          "name": "stderr"
        },
        {
          "output_type": "stream",
          "text": [
            "image.img_to_array(img) =  (350, 350, 3)\n",
            "np.expand_dims =  (1, 350, 350, 3)\n",
            "image.img_to_array(img) =  (350, 350, 3)\n",
            "np.expand_dims =  (1, 350, 350, 3)\n",
            "image.img_to_array(img) =  (350, 350, 3)\n",
            "np.expand_dims =  (1, 350, 350, 3)\n",
            "image.img_to_array(img) =  (350, 350, 3)\n",
            "np.expand_dims =  (1, 350, 350, 3)\n",
            "image.img_to_array(img) =  (350, 350, 3)\n",
            "np.expand_dims =  (1, 350, 350, 3)\n",
            "image.img_to_array(img) =  (350, 350, 3)\n",
            "np.expand_dims =  (1, 350, 350, 3)\n",
            "image.img_to_array(img) =  (350, 350, 3)\n",
            "np.expand_dims =  (1, 350, 350, 3)\n",
            "image.img_to_array(img) =  (350, 350, 3)\n",
            "np.expand_dims =  (1, 350, 350, 3)\n",
            "image.img_to_array(img) =  (350, 350, 3)\n",
            "np.expand_dims =  (1, 350, 350, 3)\n",
            "image.img_to_array(img) =  (350, 350, 3)\n",
            "np.expand_dims =  (1, 350, 350, 3)\n",
            "image.img_to_array(img) =  (350, 350, 3)\n",
            "np.expand_dims =  (1, 350, 350, 3)\n",
            "image.img_to_array(img) =  (350, 350, 3)\n",
            "np.expand_dims =  (1, 350, 350, 3)\n",
            "image.img_to_array(img) =  (350, 350, 3)\n",
            "np.expand_dims =  (1, 350, 350, 3)\n",
            "image.img_to_array(img) =  (350, 350, 3)\n",
            "np.expand_dims =  (1, 350, 350, 3)\n",
            "image.img_to_array(img) =  (350, 350, 3)\n",
            "np.expand_dims =  (1, 350, 350, 3)\n",
            "image.img_to_array(img) =  (350, 350, 3)\n",
            "np.expand_dims =  (1, 350, 350, 3)\n",
            "image.img_to_array(img) =  (350, 350, 3)\n",
            "np.expand_dims =  (1, 350, 350, 3)\n",
            "image.img_to_array(img) =  (350, 350, 3)\n",
            "np.expand_dims =  (1, 350, 350, 3)\n",
            "image.img_to_array(img) =  (350, 350, 3)\n",
            "np.expand_dims =  (1, 350, 350, 3)\n",
            "image.img_to_array(img) =  (350, 350, 3)\n",
            "np.expand_dims =  (1, 350, 350, 3)\n",
            "image.img_to_array(img) =  (350, 350, 3)\n",
            "np.expand_dims =  (1, 350, 350, 3)\n",
            "image.img_to_array(img) =  (350, 350, 3)\n",
            "np.expand_dims =  (1, 350, 350, 3)\n",
            "image.img_to_array(img) =  (350, 350, 3)\n",
            "np.expand_dims =  (1, 350, 350, 3)\n",
            "image.img_to_array(img) =  (350, 350, 3)\n",
            "np.expand_dims =  (1, 350, 350, 3)\n",
            "image.img_to_array(img) =  (350, 350, 3)\n",
            "np.expand_dims =  (1, 350, 350, 3)\n",
            "image.img_to_array(img) =  (350, 350, 3)\n",
            "np.expand_dims =  (1, 350, 350, 3)\n",
            "image.img_to_array(img) =  (350, 350, 3)\n",
            "np.expand_dims =  (1, 350, 350, 3)\n",
            "image.img_to_array(img) =  (350, 350, 3)\n",
            "np.expand_dims =  (1, 350, 350, 3)\n",
            "image.img_to_array(img) =  (350, 350, 3)\n",
            "np.expand_dims =  (1, 350, 350, 3)\n"
          ],
          "name": "stdout"
        },
        {
          "output_type": "stream",
          "text": [
            "\n",
            "\n",
            "\n",
            "\n",
            "\n",
            "\n",
            "\n",
            "\n",
            "\n",
            " 46%|████▌     | 130/283 [00:00<00:01, 131.56it/s]\u001b[A\u001b[A\u001b[A\u001b[A\u001b[A\u001b[A\u001b[A\u001b[A\u001b[A\n",
            "\n",
            "\n",
            "\n",
            "\n",
            "\n",
            "\n",
            "\n",
            "\n",
            " 51%|█████     | 145/283 [00:01<00:01, 135.61it/s]\u001b[A\u001b[A\u001b[A\u001b[A\u001b[A\u001b[A\u001b[A\u001b[A\u001b[A"
          ],
          "name": "stderr"
        },
        {
          "output_type": "stream",
          "text": [
            "image.img_to_array(img) =  (350, 350, 3)\n",
            "np.expand_dims =  (1, 350, 350, 3)\n",
            "image.img_to_array(img) =  (350, 350, 3)\n",
            "np.expand_dims =  (1, 350, 350, 3)\n",
            "image.img_to_array(img) =  (350, 350, 3)\n",
            "np.expand_dims =  (1, 350, 350, 3)\n",
            "image.img_to_array(img) =  (350, 350, 3)\n",
            "np.expand_dims =  (1, 350, 350, 3)\n",
            "image.img_to_array(img) =  (350, 350, 3)\n",
            "np.expand_dims =  (1, 350, 350, 3)\n",
            "image.img_to_array(img) =  (350, 350, 3)\n",
            "np.expand_dims =  (1, 350, 350, 3)\n",
            "image.img_to_array(img) =  (350, 350, 3)\n",
            "np.expand_dims =  (1, 350, 350, 3)\n",
            "image.img_to_array(img) =  (350, 350, 3)\n",
            "np.expand_dims =  (1, 350, 350, 3)\n",
            "image.img_to_array(img) =  (350, 350, 3)\n",
            "np.expand_dims =  (1, 350, 350, 3)\n",
            "image.img_to_array(img) =  (350, 350, 3)\n",
            "np.expand_dims =  (1, 350, 350, 3)\n",
            "image.img_to_array(img) =  (350, 350, 3)\n",
            "np.expand_dims =  (1, 350, 350, 3)\n",
            "image.img_to_array(img) =  (350, 350, 3)\n",
            "np.expand_dims =  (1, 350, 350, 3)\n",
            "image.img_to_array(img) =  (350, 350, 3)\n",
            "np.expand_dims =  (1, 350, 350, 3)\n",
            "image.img_to_array(img) =  (350, 350, 3)\n",
            "np.expand_dims =  (1, 350, 350, 3)\n",
            "image.img_to_array(img) =  (350, 350, 3)\n",
            "np.expand_dims =  (1, 350, 350, 3)\n",
            "image.img_to_array(img) =  (350, 350, 3)\n",
            "np.expand_dims =  (1, 350, 350, 3)\n",
            "image.img_to_array(img) =  (350, 350, 3)\n",
            "np.expand_dims =  (1, 350, 350, 3)\n",
            "image.img_to_array(img) =  (350, 350, 3)\n",
            "np.expand_dims =  (1, 350, 350, 3)\n",
            "image.img_to_array(img) =  (350, 350, 3)\n",
            "np.expand_dims =  (1, 350, 350, 3)\n",
            "image.img_to_array(img) =  (350, 350, 3)\n",
            "np.expand_dims =  (1, 350, 350, 3)\n",
            "image.img_to_array(img) =  (350, 350, 3)\n",
            "np.expand_dims =  (1, 350, 350, 3)\n",
            "image.img_to_array(img) =  (350, 350, 3)\n",
            "np.expand_dims =  (1, 350, 350, 3)\n",
            "image.img_to_array(img) =  (350, 350, 3)\n",
            "np.expand_dims =  (1, 350, 350, 3)\n",
            "image.img_to_array(img) =  (350, 350, 3)\n",
            "np.expand_dims =  (1, 350, 350, 3)\n",
            "image.img_to_array(img) =  (350, 350, 3)\n",
            "np.expand_dims =  (1, 350, 350, 3)\n",
            "image.img_to_array(img) =  (350, 350, 3)\n",
            "np.expand_dims =  (1, 350, 350, 3)\n",
            "image.img_to_array(img) =  (350, 350, 3)\n",
            "np.expand_dims =  (1, 350, 350, 3)\n"
          ],
          "name": "stdout"
        },
        {
          "output_type": "stream",
          "text": [
            "\n",
            "\n",
            "\n",
            "\n",
            "\n",
            "\n",
            "\n",
            "\n",
            "\n",
            " 57%|█████▋    | 160/283 [00:01<00:00, 139.10it/s]\u001b[A\u001b[A\u001b[A\u001b[A\u001b[A\u001b[A\u001b[A\u001b[A\u001b[A\n",
            "\n",
            "\n",
            "\n",
            "\n",
            "\n",
            "\n",
            "\n",
            "\n",
            " 61%|██████▏   | 174/283 [00:01<00:00, 136.60it/s]\u001b[A\u001b[A\u001b[A\u001b[A\u001b[A\u001b[A\u001b[A\u001b[A\u001b[A"
          ],
          "name": "stderr"
        },
        {
          "output_type": "stream",
          "text": [
            "image.img_to_array(img) =  (350, 350, 3)\n",
            "np.expand_dims =  (1, 350, 350, 3)\n",
            "image.img_to_array(img) =  (350, 350, 3)\n",
            "np.expand_dims =  (1, 350, 350, 3)\n",
            "image.img_to_array(img) =  (350, 350, 3)\n",
            "np.expand_dims =  (1, 350, 350, 3)\n",
            "image.img_to_array(img) =  (350, 350, 3)\n",
            "np.expand_dims =  (1, 350, 350, 3)\n",
            "image.img_to_array(img) =  (350, 350, 3)\n",
            "np.expand_dims =  (1, 350, 350, 3)\n",
            "image.img_to_array(img) =  (350, 350, 3)\n",
            "np.expand_dims =  (1, 350, 350, 3)\n",
            "image.img_to_array(img) =  (350, 350, 3)\n",
            "np.expand_dims =  (1, 350, 350, 3)\n",
            "image.img_to_array(img) =  (350, 350, 3)\n",
            "np.expand_dims =  (1, 350, 350, 3)\n",
            "image.img_to_array(img) =  (350, 350, 3)\n",
            "np.expand_dims =  (1, 350, 350, 3)\n",
            "image.img_to_array(img) =  (350, 350, 3)\n",
            "np.expand_dims =  (1, 350, 350, 3)\n",
            "image.img_to_array(img) =  (350, 350, 3)\n",
            "np.expand_dims =  (1, 350, 350, 3)\n",
            "image.img_to_array(img) =  (350, 350, 3)\n",
            "np.expand_dims =  (1, 350, 350, 3)\n",
            "image.img_to_array(img) =  (350, 350, 3)\n",
            "np.expand_dims =  (1, 350, 350, 3)\n",
            "image.img_to_array(img) =  (350, 350, 3)\n",
            "np.expand_dims =  (1, 350, 350, 3)\n",
            "image.img_to_array(img) =  (350, 350, 3)\n",
            "np.expand_dims =  (1, 350, 350, 3)\n",
            "image.img_to_array(img) =  (350, 350, 3)\n",
            "np.expand_dims =  (1, 350, 350, 3)\n",
            "image.img_to_array(img) =  (350, 350, 3)\n",
            "np.expand_dims =  (1, 350, 350, 3)\n",
            "image.img_to_array(img) =  (350, 350, 3)\n",
            "np.expand_dims =  (1, 350, 350, 3)\n",
            "image.img_to_array(img) =  (350, 350, 3)\n",
            "np.expand_dims =  (1, 350, 350, 3)\n",
            "image.img_to_array(img) =  (350, 350, 3)\n",
            "np.expand_dims =  (1, 350, 350, 3)\n",
            "image.img_to_array(img) =  (350, 350, 3)\n",
            "np.expand_dims =  (1, 350, 350, 3)\n",
            "image.img_to_array(img) =  (350, 350, 3)\n",
            "np.expand_dims =  (1, 350, 350, 3)\n",
            "image.img_to_array(img) =  (350, 350, 3)\n",
            "np.expand_dims =  (1, 350, 350, 3)\n",
            "image.img_to_array(img) =  (350, 350, 3)\n",
            "np.expand_dims =  (1, 350, 350, 3)\n",
            "image.img_to_array(img) =  (350, 350, 3)\n",
            "np.expand_dims =  (1, 350, 350, 3)\n",
            "image.img_to_array(img) =  (350, 350, 3)\n",
            "np.expand_dims =  (1, 350, 350, 3)\n",
            "image.img_to_array(img) =  (350, 350, 3)\n",
            "np.expand_dims =  (1, 350, 350, 3)\n",
            "image.img_to_array(img) =  (350, 350, 3)\n",
            "np.expand_dims =  (1, 350, 350, 3)\n",
            "image.img_to_array(img) =  (350, 350, 3)\n",
            "np.expand_dims =  (1, 350, 350, 3)\n"
          ],
          "name": "stdout"
        },
        {
          "output_type": "stream",
          "text": [
            "\n",
            "\n",
            "\n",
            "\n",
            "\n",
            "\n",
            "\n",
            "\n",
            "\n",
            " 66%|██████▋   | 188/283 [00:01<00:00, 136.94it/s]\u001b[A\u001b[A\u001b[A\u001b[A\u001b[A\u001b[A\u001b[A\u001b[A\u001b[A"
          ],
          "name": "stderr"
        },
        {
          "output_type": "stream",
          "text": [
            "image.img_to_array(img) =  (350, 350, 3)\n",
            "np.expand_dims =  (1, 350, 350, 3)\n",
            "image.img_to_array(img) =  (350, 350, 3)\n",
            "np.expand_dims =  (1, 350, 350, 3)\n",
            "image.img_to_array(img) =  (350, 350, 3)\n",
            "np.expand_dims =  (1, 350, 350, 3)\n",
            "image.img_to_array(img) =  (350, 350, 3)\n",
            "np.expand_dims =  (1, 350, 350, 3)\n",
            "image.img_to_array(img) =  (350, 350, 3)\n",
            "np.expand_dims =  (1, 350, 350, 3)\n",
            "image.img_to_array(img) =  (350, 350, 3)\n",
            "np.expand_dims =  (1, 350, 350, 3)\n",
            "image.img_to_array(img) =  (350, 350, 3)\n",
            "np.expand_dims =  (1, 350, 350, 3)\n",
            "image.img_to_array(img) =  (350, 350, 3)\n",
            "np.expand_dims =  (1, 350, 350, 3)\n",
            "image.img_to_array(img) =  (350, 350, 3)\n",
            "np.expand_dims =  (1, 350, 350, 3)\n",
            "image.img_to_array(img) =  (350, 350, 3)\n",
            "np.expand_dims =  (1, 350, 350, 3)\n",
            "image.img_to_array(img) =  (350, 350, 3)\n",
            "np.expand_dims =  (1, 350, 350, 3)\n",
            "image.img_to_array(img) =  (350, 350, 3)\n",
            "np.expand_dims =  (1, 350, 350, 3)\n",
            "image.img_to_array(img) =  (350, 350, 3)\n",
            "np.expand_dims =  (1, 350, 350, 3)\n",
            "image.img_to_array(img) =  (350, 350, 3)\n",
            "np.expand_dims =  (1, 350, 350, 3)\n",
            "image.img_to_array(img) =  (350, 350, 3)\n",
            "np.expand_dims =  (1, 350, 350, 3)\n",
            "image.img_to_array(img) =  (350, 350, 3)\n",
            "np.expand_dims =  (1, 350, 350, 3)\n",
            "image.img_to_array(img) =  (350, 350, 3)\n",
            "np.expand_dims =  (1, 350, 350, 3)\n",
            "image.img_to_array(img) =  (350, 350, 3)\n",
            "np.expand_dims =  (1, 350, 350, 3)\n",
            "image.img_to_array(img) =  (350, 350, 3)\n",
            "np.expand_dims =  (1, 350, 350, 3)\n",
            "image.img_to_array(img) =  (350, 350, 3)\n",
            "np.expand_dims =  (1, 350, 350, 3)\n",
            "image.img_to_array(img) =  (350, 350, 3)\n",
            "np.expand_dims =  (1, 350, 350, 3)\n",
            "image.img_to_array(img) =  (350, 350, 3)\n",
            "np.expand_dims =  (1, 350, 350, 3)\n",
            "image.img_to_array(img) =  (350, 350, 3)\n",
            "np.expand_dims =  (1, 350, 350, 3)\n",
            "image.img_to_array(img) =  (350, 350, 3)\n",
            "np.expand_dims =  (1, 350, 350, 3)\n",
            "image.img_to_array(img) =  (350, 350, 3)\n",
            "np.expand_dims =  (1, 350, 350, 3)\n",
            "image.img_to_array(img) =  (350, 350, 3)\n",
            "np.expand_dims =  (1, 350, 350, 3)\n",
            "image.img_to_array(img) =  (350, 350, 3)\n",
            "np.expand_dims =  (1, 350, 350, 3)\n"
          ],
          "name": "stdout"
        },
        {
          "output_type": "stream",
          "text": [
            "\n",
            "\n",
            "\n",
            "\n",
            "\n",
            "\n",
            "\n",
            "\n",
            "\n",
            " 71%|███████▏  | 202/283 [00:01<00:00, 126.45it/s]\u001b[A\u001b[A\u001b[A\u001b[A\u001b[A\u001b[A\u001b[A\u001b[A\u001b[A\n",
            "\n",
            "\n",
            "\n",
            "\n",
            "\n",
            "\n",
            "\n",
            "\n",
            " 76%|███████▋  | 216/283 [00:01<00:00, 127.69it/s]\u001b[A\u001b[A\u001b[A\u001b[A\u001b[A\u001b[A\u001b[A\u001b[A\u001b[A"
          ],
          "name": "stderr"
        },
        {
          "output_type": "stream",
          "text": [
            "image.img_to_array(img) =  (350, 350, 3)\n",
            "np.expand_dims =  (1, 350, 350, 3)\n",
            "image.img_to_array(img) =  (350, 350, 3)\n",
            "np.expand_dims =  (1, 350, 350, 3)\n",
            "image.img_to_array(img) =  (350, 350, 3)\n",
            "np.expand_dims =  (1, 350, 350, 3)\n",
            "image.img_to_array(img) =  (350, 350, 3)\n",
            "np.expand_dims =  (1, 350, 350, 3)\n",
            "image.img_to_array(img) =  (350, 350, 3)\n",
            "np.expand_dims =  (1, 350, 350, 3)\n",
            "image.img_to_array(img) =  (350, 350, 3)\n",
            "np.expand_dims =  (1, 350, 350, 3)\n",
            "image.img_to_array(img) =  (350, 350, 3)\n",
            "np.expand_dims =  (1, 350, 350, 3)\n",
            "image.img_to_array(img) =  (350, 350, 3)\n",
            "np.expand_dims =  (1, 350, 350, 3)\n",
            "image.img_to_array(img) =  (350, 350, 3)\n",
            "np.expand_dims =  (1, 350, 350, 3)\n",
            "image.img_to_array(img) =  (350, 350, 3)\n",
            "np.expand_dims =  (1, 350, 350, 3)\n",
            "image.img_to_array(img) =  (350, 350, 3)\n",
            "np.expand_dims =  (1, 350, 350, 3)\n",
            "image.img_to_array(img) =  (350, 350, 3)\n",
            "np.expand_dims =  (1, 350, 350, 3)\n",
            "image.img_to_array(img) =  (350, 350, 3)\n",
            "np.expand_dims =  (1, 350, 350, 3)\n",
            "image.img_to_array(img) =  (350, 350, 3)\n",
            "np.expand_dims =  (1, 350, 350, 3)\n",
            "image.img_to_array(img) =  (350, 350, 3)\n",
            "np.expand_dims =  (1, 350, 350, 3)\n",
            "image.img_to_array(img) =  (350, 350, 3)\n",
            "np.expand_dims =  (1, 350, 350, 3)\n",
            "image.img_to_array(img) =  (350, 350, 3)\n",
            "np.expand_dims =  (1, 350, 350, 3)\n",
            "image.img_to_array(img) =  (350, 350, 3)\n",
            "np.expand_dims =  (1, 350, 350, 3)\n",
            "image.img_to_array(img) =  (350, 350, 3)\n",
            "np.expand_dims =  (1, 350, 350, 3)\n",
            "image.img_to_array(img) =  (350, 350, 3)\n",
            "np.expand_dims =  (1, 350, 350, 3)\n",
            "image.img_to_array(img) =  (350, 350, 3)\n",
            "np.expand_dims =  (1, 350, 350, 3)\n",
            "image.img_to_array(img) =  (350, 350, 3)\n",
            "np.expand_dims =  (1, 350, 350, 3)\n",
            "image.img_to_array(img) =  (350, 350, 3)\n",
            "np.expand_dims =  (1, 350, 350, 3)\n",
            "image.img_to_array(img) =  (350, 350, 3)\n",
            "np.expand_dims =  (1, 350, 350, 3)\n",
            "image.img_to_array(img) =  (350, 350, 3)\n",
            "np.expand_dims =  (1, 350, 350, 3)\n",
            "image.img_to_array(img) =  (350, 350, 3)\n",
            "np.expand_dims =  (1, 350, 350, 3)\n",
            "image.img_to_array(img) =  (350, 350, 3)\n",
            "np.expand_dims =  (1, 350, 350, 3)\n"
          ],
          "name": "stdout"
        },
        {
          "output_type": "stream",
          "text": [
            "\n",
            "\n",
            "\n",
            "\n",
            "\n",
            "\n",
            "\n",
            "\n",
            "\n",
            " 81%|████████▏ | 230/283 [00:01<00:00, 128.90it/s]\u001b[A\u001b[A\u001b[A\u001b[A\u001b[A\u001b[A\u001b[A\u001b[A\u001b[A\n",
            "\n",
            "\n",
            "\n",
            "\n",
            "\n",
            "\n",
            "\n",
            "\n",
            " 86%|████████▌ | 243/283 [00:01<00:00, 121.89it/s]\u001b[A\u001b[A\u001b[A\u001b[A\u001b[A\u001b[A\u001b[A\u001b[A\u001b[A"
          ],
          "name": "stderr"
        },
        {
          "output_type": "stream",
          "text": [
            "image.img_to_array(img) =  (350, 350, 3)\n",
            "np.expand_dims =  (1, 350, 350, 3)\n",
            "image.img_to_array(img) =  (350, 350, 3)\n",
            "np.expand_dims =  (1, 350, 350, 3)\n",
            "image.img_to_array(img) =  (350, 350, 3)\n",
            "np.expand_dims =  (1, 350, 350, 3)\n",
            "image.img_to_array(img) =  (350, 350, 3)\n",
            "np.expand_dims =  (1, 350, 350, 3)\n",
            "image.img_to_array(img) =  (350, 350, 3)\n",
            "np.expand_dims =  (1, 350, 350, 3)\n",
            "image.img_to_array(img) =  (350, 350, 3)\n",
            "np.expand_dims =  (1, 350, 350, 3)\n",
            "image.img_to_array(img) =  (350, 350, 3)\n",
            "np.expand_dims =  (1, 350, 350, 3)\n",
            "image.img_to_array(img) =  (350, 350, 3)\n",
            "np.expand_dims =  (1, 350, 350, 3)\n",
            "image.img_to_array(img) =  (350, 350, 3)\n",
            "np.expand_dims =  (1, 350, 350, 3)\n",
            "image.img_to_array(img) =  (350, 350, 3)\n",
            "np.expand_dims =  (1, 350, 350, 3)\n",
            "image.img_to_array(img) =  (350, 350, 3)\n",
            "np.expand_dims =  (1, 350, 350, 3)\n",
            "image.img_to_array(img) =  (350, 350, 3)\n",
            "np.expand_dims =  (1, 350, 350, 3)\n",
            "image.img_to_array(img) =  (350, 350, 3)\n",
            "np.expand_dims =  (1, 350, 350, 3)\n",
            "image.img_to_array(img) =  (350, 350, 3)\n",
            "np.expand_dims =  (1, 350, 350, 3)\n",
            "image.img_to_array(img) =  (350, 350, 3)\n",
            "np.expand_dims =  (1, 350, 350, 3)\n",
            "image.img_to_array(img) =  (350, 350, 3)\n",
            "np.expand_dims =  (1, 350, 350, 3)\n",
            "image.img_to_array(img) =  (350, 350, 3)\n",
            "np.expand_dims =  (1, 350, 350, 3)\n",
            "image.img_to_array(img) =  (350, 350, 3)\n",
            "np.expand_dims =  (1, 350, 350, 3)\n",
            "image.img_to_array(img) =  (350, 350, 3)\n",
            "np.expand_dims =  (1, 350, 350, 3)\n",
            "image.img_to_array(img) =  (350, 350, 3)\n",
            "np.expand_dims =  (1, 350, 350, 3)\n",
            "image.img_to_array(img) =  (350, 350, 3)\n",
            "np.expand_dims =  (1, 350, 350, 3)\n",
            "image.img_to_array(img) =  (350, 350, 3)\n",
            "np.expand_dims =  (1, 350, 350, 3)\n",
            "image.img_to_array(img) =  (350, 350, 3)\n",
            "np.expand_dims =  (1, 350, 350, 3)\n"
          ],
          "name": "stdout"
        },
        {
          "output_type": "stream",
          "text": [
            "\n",
            "\n",
            "\n",
            "\n",
            "\n",
            "\n",
            "\n",
            "\n",
            "\n",
            " 90%|█████████ | 256/283 [00:01<00:00, 119.89it/s]\u001b[A\u001b[A\u001b[A\u001b[A\u001b[A\u001b[A\u001b[A\u001b[A\u001b[A\n",
            "\n",
            "\n",
            "\n",
            "\n",
            "\n",
            "\n",
            "\n",
            "\n",
            " 95%|█████████▌| 269/283 [00:02<00:00, 120.64it/s]\u001b[A\u001b[A\u001b[A\u001b[A\u001b[A\u001b[A\u001b[A\u001b[A\u001b[A"
          ],
          "name": "stderr"
        },
        {
          "output_type": "stream",
          "text": [
            "image.img_to_array(img) =  (350, 350, 3)\n",
            "np.expand_dims =  (1, 350, 350, 3)\n",
            "image.img_to_array(img) =  (350, 350, 3)\n",
            "np.expand_dims =  (1, 350, 350, 3)\n",
            "image.img_to_array(img) =  (350, 350, 3)\n",
            "np.expand_dims =  (1, 350, 350, 3)\n",
            "image.img_to_array(img) =  (350, 350, 3)\n",
            "np.expand_dims =  (1, 350, 350, 3)\n",
            "image.img_to_array(img) =  (350, 350, 3)\n",
            "np.expand_dims =  (1, 350, 350, 3)\n",
            "image.img_to_array(img) =  (350, 350, 3)\n",
            "np.expand_dims =  (1, 350, 350, 3)\n",
            "image.img_to_array(img) =  (350, 350, 3)\n",
            "np.expand_dims =  (1, 350, 350, 3)\n",
            "image.img_to_array(img) =  (350, 350, 3)\n",
            "np.expand_dims =  (1, 350, 350, 3)\n",
            "image.img_to_array(img) =  (350, 350, 3)\n",
            "np.expand_dims =  (1, 350, 350, 3)\n",
            "image.img_to_array(img) =  (350, 350, 3)\n",
            "np.expand_dims =  (1, 350, 350, 3)\n",
            "image.img_to_array(img) =  (350, 350, 3)\n",
            "np.expand_dims =  (1, 350, 350, 3)\n",
            "image.img_to_array(img) =  (350, 350, 3)\n",
            "np.expand_dims =  (1, 350, 350, 3)\n",
            "image.img_to_array(img) =  (350, 350, 3)\n",
            "np.expand_dims =  (1, 350, 350, 3)\n",
            "image.img_to_array(img) =  (350, 350, 3)\n",
            "np.expand_dims =  (1, 350, 350, 3)\n",
            "image.img_to_array(img) =  (350, 350, 3)\n",
            "np.expand_dims =  (1, 350, 350, 3)\n",
            "image.img_to_array(img) =  (350, 350, 3)\n",
            "np.expand_dims =  (1, 350, 350, 3)\n",
            "image.img_to_array(img) =  (350, 350, 3)\n",
            "np.expand_dims =  (1, 350, 350, 3)\n",
            "image.img_to_array(img) =  (350, 350, 3)\n",
            "np.expand_dims =  (1, 350, 350, 3)\n",
            "image.img_to_array(img) =  (350, 350, 3)\n",
            "np.expand_dims =  (1, 350, 350, 3)\n",
            "image.img_to_array(img) =  (350, 350, 3)\n",
            "np.expand_dims =  (1, 350, 350, 3)\n",
            "image.img_to_array(img) =  (350, 350, 3)\n",
            "np.expand_dims =  (1, 350, 350, 3)\n",
            "image.img_to_array(img) =  (350, 350, 3)\n",
            "np.expand_dims =  (1, 350, 350, 3)\n"
          ],
          "name": "stdout"
        },
        {
          "output_type": "stream",
          "text": [
            "\n",
            "\n",
            "\n",
            "\n",
            "\n",
            "\n",
            "\n",
            "\n",
            "\n",
            "100%|██████████| 283/283 [00:02<00:00, 129.98it/s]\n"
          ],
          "name": "stderr"
        },
        {
          "output_type": "stream",
          "text": [
            "image.img_to_array(img) =  (350, 350, 3)\n",
            "np.expand_dims =  (1, 350, 350, 3)\n",
            "image.img_to_array(img) =  (350, 350, 3)\n",
            "np.expand_dims =  (1, 350, 350, 3)\n",
            "image.img_to_array(img) =  (350, 350, 3)\n",
            "np.expand_dims =  (1, 350, 350, 3)\n",
            "image.img_to_array(img) =  (350, 350, 3)\n",
            "np.expand_dims =  (1, 350, 350, 3)\n",
            "image.img_to_array(img) =  (350, 350, 3)\n",
            "np.expand_dims =  (1, 350, 350, 3)\n",
            "image.img_to_array(img) =  (350, 350, 3)\n",
            "np.expand_dims =  (1, 350, 350, 3)\n",
            "image.img_to_array(img) =  (350, 350, 3)\n",
            "np.expand_dims =  (1, 350, 350, 3)\n",
            "image.img_to_array(img) =  (350, 350, 3)\n",
            "np.expand_dims =  (1, 350, 350, 3)\n",
            "image.img_to_array(img) =  (350, 350, 3)\n",
            "np.expand_dims =  (1, 350, 350, 3)\n",
            "image.img_to_array(img) =  (350, 350, 3)\n",
            "np.expand_dims =  (1, 350, 350, 3)\n"
          ],
          "name": "stdout"
        },
        {
          "output_type": "stream",
          "text": [
            "\n",
            "\n",
            "\n",
            "\n",
            "\n",
            "\n",
            "\n",
            "\n",
            "\n",
            "  0%|          | 0/71 [00:00<?, ?it/s]\u001b[A\u001b[A\u001b[A\u001b[A\u001b[A\u001b[A\u001b[A\u001b[A\u001b[A\n",
            "\n",
            "\n",
            "\n",
            "\n",
            "\n",
            "\n",
            "\n",
            "\n",
            " 30%|██▉       | 21/71 [00:00<00:00, 203.65it/s]\u001b[A\u001b[A\u001b[A\u001b[A\u001b[A\u001b[A\u001b[A\u001b[A\u001b[A\n",
            "\n",
            "\n",
            "\n",
            "\n",
            "\n",
            "\n",
            "\n",
            "\n",
            " 56%|█████▋    | 40/71 [00:00<00:00, 198.87it/s]"
          ],
          "name": "stderr"
        },
        {
          "output_type": "stream",
          "text": [
            "image.img_to_array(img) =  (350, 350, 3)\n",
            "np.expand_dims =  (1, 350, 350, 3)\n",
            "image.img_to_array(img) =  (350, 350, 3)\n",
            "np.expand_dims =  (1, 350, 350, 3)\n",
            "image.img_to_array(img) =  (350, 350, 3)\n",
            "np.expand_dims =  (1, 350, 350, 3)\n",
            "image.img_to_array(img) =  (350, 350, 3)\n",
            "np.expand_dims =  (1, 350, 350, 3)\n",
            "image.img_to_array(img) =  (350, 350, 3)\n",
            "np.expand_dims =  (1, 350, 350, 3)\n",
            "image.img_to_array(img) =  (350, 350, 3)\n",
            "np.expand_dims =  (1, 350, 350, 3)\n",
            "image.img_to_array(img) =  (350, 350, 3)\n",
            "np.expand_dims =  (1, 350, 350, 3)\n",
            "image.img_to_array(img) =  (350, 350, 3)\n",
            "np.expand_dims =  (1, 350, 350, 3)\n",
            "image.img_to_array(img) =  (350, 350, 3)\n",
            "np.expand_dims =  (1, 350, 350, 3)\n",
            "image.img_to_array(img) =  (350, 350, 3)\n",
            "np.expand_dims =  (1, 350, 350, 3)\n",
            "image.img_to_array(img) =  (350, 350, 3)\n",
            "np.expand_dims =  (1, 350, 350, 3)\n",
            "image.img_to_array(img) =  (350, 350, 3)\n",
            "np.expand_dims =  (1, 350, 350, 3)\n",
            "image.img_to_array(img) =  (350, 350, 3)\n",
            "np.expand_dims =  (1, 350, 350, 3)\n",
            "image.img_to_array(img) =  (350, 350, 3)\n",
            "np.expand_dims =  (1, 350, 350, 3)\n",
            "image.img_to_array(img) =  (350, 350, 3)\n",
            "np.expand_dims =  (1, 350, 350, 3)\n",
            "image.img_to_array(img) =  (350, 350, 3)\n",
            "np.expand_dims =  (1, 350, 350, 3)\n",
            "image.img_to_array(img) =  (350, 350, 3)\n",
            "np.expand_dims =  (1, 350, 350, 3)\n",
            "image.img_to_array(img) =  (350, 350, 3)\n",
            "np.expand_dims =  (1, 350, 350, 3)\n",
            "image.img_to_array(img) =  (350, 350, 3)\n",
            "np.expand_dims =  (1, 350, 350, 3)\n",
            "image.img_to_array(img) =  (350, 350, 3)\n",
            "np.expand_dims =  (1, 350, 350, 3)\n",
            "image.img_to_array(img) =  (350, 350, 3)\n",
            "np.expand_dims =  (1, 350, 350, 3)\n",
            "image.img_to_array(img) =  (350, 350, 3)\n",
            "np.expand_dims =  (1, 350, 350, 3)\n",
            "image.img_to_array(img) =  (350, 350, 3)\n",
            "np.expand_dims =  (1, 350, 350, 3)\n",
            "image.img_to_array(img) =  (350, 350, 3)\n",
            "np.expand_dims =  (1, 350, 350, 3)\n",
            "image.img_to_array(img) =  (350, 350, 3)\n",
            "np.expand_dims =  (1, 350, 350, 3)\n",
            "image.img_to_array(img) =  (350, 350, 3)\n",
            "np.expand_dims =  (1, 350, 350, 3)\n",
            "image.img_to_array(img) =  (350, 350, 3)\n",
            "np.expand_dims =  (1, 350, 350, 3)\n",
            "image.img_to_array(img) =  (350, 350, 3)\n",
            "np.expand_dims =  (1, 350, 350, 3)\n",
            "image.img_to_array(img) =  (350, 350, 3)\n",
            "np.expand_dims =  (1, 350, 350, 3)\n",
            "image.img_to_array(img) =  (350, 350, 3)\n",
            "np.expand_dims =  (1, 350, 350, 3)\n",
            "image.img_to_array(img) =  (350, 350, 3)\n",
            "np.expand_dims =  (1, 350, 350, 3)\n",
            "image.img_to_array(img) =  (350, 350, 3)\n",
            "np.expand_dims =  (1, 350, 350, 3)\n",
            "image.img_to_array(img) =  (350, 350, 3)\n",
            "np.expand_dims =  (1, 350, 350, 3)\n",
            "image.img_to_array(img) =  (350, 350, 3)\n",
            "np.expand_dims =  (1, 350, 350, 3)\n",
            "image.img_to_array(img) =  (350, 350, 3)\n",
            "np.expand_dims =  (1, 350, 350, 3)\n",
            "image.img_to_array(img) =  (350, 350, 3)\n",
            "np.expand_dims =  (1, 350, 350, 3)\n",
            "image.img_to_array(img) =  (350, 350, 3)\n",
            "np.expand_dims =  (1, 350, 350, 3)\n",
            "image.img_to_array(img) =  (350, 350, 3)\n",
            "np.expand_dims =  (1, 350, 350, 3)\n",
            "image.img_to_array(img) =  (350, 350, 3)\n",
            "np.expand_dims =  (1, 350, 350, 3)\n",
            "image.img_to_array(img) =  (350, 350, 3)\n",
            "np.expand_dims =  (1, 350, 350, 3)\n"
          ],
          "name": "stdout"
        },
        {
          "output_type": "stream",
          "text": [
            "\u001b[A\u001b[A\u001b[A\u001b[A\u001b[A\u001b[A\u001b[A\u001b[A\u001b[A\n",
            "\n",
            "\n",
            "\n",
            "\n",
            "\n",
            "\n",
            "\n",
            "\n",
            "100%|██████████| 71/71 [00:00<00:00, 188.06it/s]\n",
            "\n",
            "\n",
            "\n",
            "\n",
            "\n",
            "\n",
            "\n",
            "\n",
            "\n",
            "  0%|          | 0/85 [00:00<?, ?it/s]"
          ],
          "name": "stderr"
        },
        {
          "output_type": "stream",
          "text": [
            "image.img_to_array(img) =  (350, 350, 3)\n",
            "np.expand_dims =  (1, 350, 350, 3)\n",
            "image.img_to_array(img) =  (350, 350, 3)\n",
            "np.expand_dims =  (1, 350, 350, 3)\n",
            "image.img_to_array(img) =  (350, 350, 3)\n",
            "np.expand_dims =  (1, 350, 350, 3)\n",
            "image.img_to_array(img) =  (350, 350, 3)\n",
            "np.expand_dims =  (1, 350, 350, 3)\n",
            "image.img_to_array(img) =  (350, 350, 3)\n",
            "np.expand_dims =  (1, 350, 350, 3)\n",
            "image.img_to_array(img) =  (350, 350, 3)\n",
            "np.expand_dims =  (1, 350, 350, 3)\n",
            "image.img_to_array(img) =  (350, 350, 3)\n",
            "np.expand_dims =  (1, 350, 350, 3)\n",
            "image.img_to_array(img) =  (350, 350, 3)\n",
            "np.expand_dims =  (1, 350, 350, 3)\n",
            "image.img_to_array(img) =  (350, 350, 3)\n",
            "np.expand_dims =  (1, 350, 350, 3)\n",
            "image.img_to_array(img) =  (350, 350, 3)\n",
            "np.expand_dims =  (1, 350, 350, 3)\n",
            "image.img_to_array(img) =  (350, 350, 3)\n",
            "np.expand_dims =  (1, 350, 350, 3)\n",
            "image.img_to_array(img) =  (350, 350, 3)\n",
            "np.expand_dims =  (1, 350, 350, 3)\n",
            "image.img_to_array(img) =  (350, 350, 3)\n",
            "np.expand_dims =  (1, 350, 350, 3)\n",
            "image.img_to_array(img) =  (350, 350, 3)\n",
            "np.expand_dims =  (1, 350, 350, 3)\n",
            "image.img_to_array(img) =  (350, 350, 3)\n",
            "np.expand_dims =  (1, 350, 350, 3)\n",
            "image.img_to_array(img) =  (350, 350, 3)\n",
            "np.expand_dims =  (1, 350, 350, 3)\n",
            "image.img_to_array(img) =  (350, 350, 3)\n",
            "np.expand_dims =  (1, 350, 350, 3)\n",
            "image.img_to_array(img) =  (350, 350, 3)\n",
            "np.expand_dims =  (1, 350, 350, 3)\n",
            "image.img_to_array(img) =  (350, 350, 3)\n",
            "np.expand_dims =  (1, 350, 350, 3)\n",
            "image.img_to_array(img) =  (350, 350, 3)\n",
            "np.expand_dims =  (1, 350, 350, 3)\n",
            "image.img_to_array(img) =  (350, 350, 3)\n",
            "np.expand_dims =  (1, 350, 350, 3)\n",
            "image.img_to_array(img) =  (350, 350, 3)\n",
            "np.expand_dims =  (1, 350, 350, 3)\n",
            "image.img_to_array(img) =  (350, 350, 3)\n",
            "np.expand_dims =  (1, 350, 350, 3)\n",
            "image.img_to_array(img) =  (350, 350, 3)\n",
            "np.expand_dims =  (1, 350, 350, 3)\n",
            "image.img_to_array(img) =  (350, 350, 3)\n",
            "np.expand_dims =  (1, 350, 350, 3)\n",
            "image.img_to_array(img) =  (350, 350, 3)\n",
            "np.expand_dims =  (1, 350, 350, 3)\n",
            "image.img_to_array(img) =  (350, 350, 3)\n",
            "np.expand_dims =  (1, 350, 350, 3)\n",
            "image.img_to_array(img) =  (350, 350, 3)\n",
            "np.expand_dims =  (1, 350, 350, 3)\n",
            "image.img_to_array(img) =  (350, 350, 3)\n",
            "np.expand_dims =  (1, 350, 350, 3)\n",
            "image.img_to_array(img) =  (350, 350, 3)\n",
            "np.expand_dims =  (1, 350, 350, 3)\n",
            "image.img_to_array(img) =  (350, 350, 3)\n",
            "np.expand_dims =  (1, 350, 350, 3)\n"
          ],
          "name": "stdout"
        },
        {
          "output_type": "stream",
          "text": [
            "\u001b[A\u001b[A\u001b[A\u001b[A\u001b[A\u001b[A\u001b[A\u001b[A\u001b[A\n",
            "\n",
            "\n",
            "\n",
            "\n",
            "\n",
            "\n",
            "\n",
            "\n",
            " 24%|██▎       | 20/85 [00:00<00:00, 194.71it/s]\u001b[A\u001b[A\u001b[A\u001b[A\u001b[A\u001b[A\u001b[A\u001b[A\u001b[A\n",
            "\n",
            "\n",
            "\n",
            "\n",
            "\n",
            "\n",
            "\n",
            "\n",
            " 46%|████▌     | 39/85 [00:00<00:00, 192.59it/s]"
          ],
          "name": "stderr"
        },
        {
          "output_type": "stream",
          "text": [
            "image.img_to_array(img) =  (350, 350, 3)\n",
            "np.expand_dims =  (1, 350, 350, 3)\n",
            "image.img_to_array(img) =  (350, 350, 3)\n",
            "np.expand_dims =  (1, 350, 350, 3)\n",
            "image.img_to_array(img) =  (350, 350, 3)\n",
            "np.expand_dims =  (1, 350, 350, 3)\n",
            "image.img_to_array(img) =  (350, 350, 3)\n",
            "np.expand_dims =  (1, 350, 350, 3)\n",
            "image.img_to_array(img) =  (350, 350, 3)\n",
            "np.expand_dims =  (1, 350, 350, 3)\n",
            "image.img_to_array(img) =  (350, 350, 3)\n",
            "np.expand_dims =  (1, 350, 350, 3)\n",
            "image.img_to_array(img) =  (350, 350, 3)\n",
            "np.expand_dims =  (1, 350, 350, 3)\n",
            "image.img_to_array(img) =  (350, 350, 3)\n",
            "np.expand_dims =  (1, 350, 350, 3)\n",
            "image.img_to_array(img) =  (350, 350, 3)\n",
            "np.expand_dims =  (1, 350, 350, 3)\n",
            "image.img_to_array(img) =  (350, 350, 3)\n",
            "np.expand_dims =  (1, 350, 350, 3)\n",
            "image.img_to_array(img) =  (350, 350, 3)\n",
            "np.expand_dims =  (1, 350, 350, 3)\n",
            "image.img_to_array(img) =  (350, 350, 3)\n",
            "np.expand_dims =  (1, 350, 350, 3)\n",
            "image.img_to_array(img) =  (350, 350, 3)\n",
            "np.expand_dims =  (1, 350, 350, 3)\n",
            "image.img_to_array(img) =  (350, 350, 3)\n",
            "np.expand_dims =  (1, 350, 350, 3)\n",
            "image.img_to_array(img) =  (350, 350, 3)\n",
            "np.expand_dims =  (1, 350, 350, 3)\n",
            "image.img_to_array(img) =  (350, 350, 3)\n",
            "np.expand_dims =  (1, 350, 350, 3)\n",
            "image.img_to_array(img) =  (350, 350, 3)\n",
            "np.expand_dims =  (1, 350, 350, 3)\n",
            "image.img_to_array(img) =  (350, 350, 3)\n",
            "np.expand_dims =  (1, 350, 350, 3)\n",
            "image.img_to_array(img) =  (350, 350, 3)\n",
            "np.expand_dims =  (1, 350, 350, 3)\n",
            "image.img_to_array(img) =  (350, 350, 3)\n",
            "np.expand_dims =  (1, 350, 350, 3)\n",
            "image.img_to_array(img) =  (350, 350, 3)\n",
            "np.expand_dims =  (1, 350, 350, 3)\n",
            "image.img_to_array(img) =  (350, 350, 3)\n",
            "np.expand_dims =  (1, 350, 350, 3)\n",
            "image.img_to_array(img) =  (350, 350, 3)\n",
            "np.expand_dims =  (1, 350, 350, 3)\n",
            "image.img_to_array(img) =  (350, 350, 3)\n",
            "np.expand_dims =  (1, 350, 350, 3)\n",
            "image.img_to_array(img) =  (350, 350, 3)\n",
            "np.expand_dims =  (1, 350, 350, 3)\n",
            "image.img_to_array(img) =  (350, 350, 3)\n",
            "np.expand_dims =  (1, 350, 350, 3)\n",
            "image.img_to_array(img) =  (350, 350, 3)\n",
            "np.expand_dims =  (1, 350, 350, 3)\n",
            "image.img_to_array(img) =  (350, 350, 3)\n",
            "np.expand_dims =  (1, 350, 350, 3)\n",
            "image.img_to_array(img) =  (350, 350, 3)\n",
            "np.expand_dims =  (1, 350, 350, 3)\n",
            "image.img_to_array(img) =  (350, 350, 3)\n",
            "np.expand_dims =  (1, 350, 350, 3)\n",
            "image.img_to_array(img) =  (350, 350, 3)\n",
            "np.expand_dims =  (1, 350, 350, 3)\n",
            "image.img_to_array(img) =  (350, 350, 3)\n",
            "np.expand_dims =  (1, 350, 350, 3)\n",
            "image.img_to_array(img) =  (350, 350, 3)\n",
            "np.expand_dims =  (1, 350, 350, 3)\n",
            "image.img_to_array(img) =  (350, 350, 3)\n",
            "np.expand_dims =  (1, 350, 350, 3)\n",
            "image.img_to_array(img) =  (350, 350, 3)\n",
            "np.expand_dims =  (1, 350, 350, 3)\n",
            "image.img_to_array(img) =  (350, 350, 3)\n",
            "np.expand_dims =  (1, 350, 350, 3)\n",
            "image.img_to_array(img) =  (350, 350, 3)\n",
            "np.expand_dims =  (1, 350, 350, 3)\n",
            "image.img_to_array(img) =  (350, 350, 3)\n",
            "np.expand_dims =  (1, 350, 350, 3)\n",
            "image.img_to_array(img) =  (350, 350, 3)\n",
            "np.expand_dims =  (1, 350, 350, 3)\n"
          ],
          "name": "stdout"
        },
        {
          "output_type": "stream",
          "text": [
            "\u001b[A\u001b[A\u001b[A\u001b[A\u001b[A\u001b[A\u001b[A\u001b[A\u001b[A\n",
            "\n",
            "\n",
            "\n",
            "\n",
            "\n",
            "\n",
            "\n",
            "\n",
            " 67%|██████▋   | 57/85 [00:00<00:00, 187.94it/s]\u001b[A\u001b[A\u001b[A\u001b[A\u001b[A\u001b[A\u001b[A\u001b[A\u001b[A\n",
            "\n",
            "\n",
            "\n",
            "\n",
            "\n",
            "\n",
            "\n",
            "\n",
            " 89%|████████▉ | 76/85 [00:00<00:00, 187.42it/s]\u001b[A\u001b[A\u001b[A\u001b[A\u001b[A\u001b[A\u001b[A\u001b[A\u001b[A"
          ],
          "name": "stderr"
        },
        {
          "output_type": "stream",
          "text": [
            "image.img_to_array(img) =  (350, 350, 3)\n",
            "np.expand_dims =  (1, 350, 350, 3)\n",
            "image.img_to_array(img) =  (350, 350, 3)\n",
            "np.expand_dims =  (1, 350, 350, 3)\n",
            "image.img_to_array(img) =  (350, 350, 3)\n",
            "np.expand_dims =  (1, 350, 350, 3)\n",
            "image.img_to_array(img) =  (350, 350, 3)\n",
            "np.expand_dims =  (1, 350, 350, 3)\n",
            "image.img_to_array(img) =  (350, 350, 3)\n",
            "np.expand_dims =  (1, 350, 350, 3)\n",
            "image.img_to_array(img) =  (350, 350, 3)\n",
            "np.expand_dims =  (1, 350, 350, 3)\n",
            "image.img_to_array(img) =  (350, 350, 3)\n",
            "np.expand_dims =  (1, 350, 350, 3)\n",
            "image.img_to_array(img) =  (350, 350, 3)\n",
            "np.expand_dims =  (1, 350, 350, 3)\n",
            "image.img_to_array(img) =  (350, 350, 3)\n",
            "np.expand_dims =  (1, 350, 350, 3)\n",
            "image.img_to_array(img) =  (350, 350, 3)\n",
            "np.expand_dims =  (1, 350, 350, 3)\n",
            "image.img_to_array(img) =  (350, 350, 3)\n",
            "np.expand_dims =  (1, 350, 350, 3)\n",
            "image.img_to_array(img) =  (350, 350, 3)\n",
            "np.expand_dims =  (1, 350, 350, 3)\n",
            "image.img_to_array(img) =  (350, 350, 3)\n",
            "np.expand_dims =  (1, 350, 350, 3)\n",
            "image.img_to_array(img) =  (350, 350, 3)\n",
            "np.expand_dims =  (1, 350, 350, 3)\n",
            "image.img_to_array(img) =  (350, 350, 3)\n",
            "np.expand_dims =  (1, 350, 350, 3)\n",
            "image.img_to_array(img) =  (350, 350, 3)\n",
            "np.expand_dims =  (1, 350, 350, 3)\n",
            "image.img_to_array(img) =  (350, 350, 3)\n",
            "np.expand_dims =  (1, 350, 350, 3)\n",
            "image.img_to_array(img) =  (350, 350, 3)\n",
            "np.expand_dims =  (1, 350, 350, 3)\n",
            "image.img_to_array(img) =  (350, 350, 3)\n",
            "np.expand_dims =  (1, 350, 350, 3)\n",
            "image.img_to_array(img) =  (350, 350, 3)\n",
            "np.expand_dims =  (1, 350, 350, 3)\n",
            "image.img_to_array(img) =  (350, 350, 3)\n",
            "np.expand_dims =  (1, 350, 350, 3)\n",
            "image.img_to_array(img) =  (350, 350, 3)\n",
            "np.expand_dims =  (1, 350, 350, 3)\n",
            "image.img_to_array(img) =  (350, 350, 3)\n",
            "np.expand_dims =  (1, 350, 350, 3)\n",
            "image.img_to_array(img) =  (350, 350, 3)\n",
            "np.expand_dims =  (1, 350, 350, 3)\n",
            "image.img_to_array(img) =  (350, 350, 3)\n",
            "np.expand_dims =  (1, 350, 350, 3)\n",
            "image.img_to_array(img) =  (350, 350, 3)\n",
            "np.expand_dims =  (1, 350, 350, 3)\n",
            "image.img_to_array(img) =  (350, 350, 3)\n",
            "np.expand_dims =  (1, 350, 350, 3)\n",
            "image.img_to_array(img) =  (350, 350, 3)\n",
            "np.expand_dims =  (1, 350, 350, 3)\n",
            "image.img_to_array(img) =  (350, 350, 3)\n",
            "np.expand_dims =  (1, 350, 350, 3)\n",
            "image.img_to_array(img) =  (350, 350, 3)\n",
            "np.expand_dims =  (1, 350, 350, 3)\n",
            "image.img_to_array(img) =  (350, 350, 3)\n",
            "np.expand_dims =  (1, 350, 350, 3)\n",
            "image.img_to_array(img) =  (350, 350, 3)\n",
            "np.expand_dims =  (1, 350, 350, 3)\n",
            "image.img_to_array(img) =  (350, 350, 3)\n",
            "np.expand_dims =  (1, 350, 350, 3)\n",
            "image.img_to_array(img) =  (350, 350, 3)\n",
            "np.expand_dims =  (1, 350, 350, 3)\n",
            "image.img_to_array(img) =  (350, 350, 3)\n",
            "np.expand_dims =  (1, 350, 350, 3)\n",
            "image.img_to_array(img) =  (350, 350, 3)\n",
            "np.expand_dims =  (1, 350, 350, 3)\n",
            "image.img_to_array(img) =  (350, 350, 3)\n",
            "np.expand_dims =  (1, 350, 350, 3)\n",
            "image.img_to_array(img) =  (350, 350, 3)\n",
            "np.expand_dims =  (1, 350, 350, 3)\n"
          ],
          "name": "stdout"
        },
        {
          "output_type": "stream",
          "text": [
            "\r100%|██████████| 85/85 [00:00<00:00, 177.77it/s]\n"
          ],
          "name": "stderr"
        },
        {
          "output_type": "stream",
          "text": [
            "image.img_to_array(img) =  (350, 350, 3)\n",
            "np.expand_dims =  (1, 350, 350, 3)\n",
            "image.img_to_array(img) =  (350, 350, 3)\n",
            "np.expand_dims =  (1, 350, 350, 3)\n",
            "image.img_to_array(img) =  (350, 350, 3)\n",
            "np.expand_dims =  (1, 350, 350, 3)\n",
            "image.img_to_array(img) =  (350, 350, 3)\n",
            "np.expand_dims =  (1, 350, 350, 3)\n",
            "image.img_to_array(img) =  (350, 350, 3)\n",
            "np.expand_dims =  (1, 350, 350, 3)\n",
            "image.img_to_array(img) =  (350, 350, 3)\n",
            "np.expand_dims =  (1, 350, 350, 3)\n",
            "image.img_to_array(img) =  (350, 350, 3)\n",
            "np.expand_dims =  (1, 350, 350, 3)\n",
            "image.img_to_array(img) =  (350, 350, 3)\n",
            "np.expand_dims =  (1, 350, 350, 3)\n"
          ],
          "name": "stdout"
        }
      ]
    },
    {
      "cell_type": "code",
      "metadata": {
        "colab": {
          "base_uri": "https://localhost:8080/"
        },
        "id": "rural-count",
        "outputId": "9c77555b-9c81-4747-f13b-478c60a0dd59"
      },
      "source": [
        "train_aug_tensors_VGG.shape"
      ],
      "id": "rural-count",
      "execution_count": 95,
      "outputs": [
        {
          "output_type": "execute_result",
          "data": {
            "text/plain": [
              "(283, 350, 350, 3)"
            ]
          },
          "metadata": {
            "tags": []
          },
          "execution_count": 95
        }
      ]
    },
    {
      "cell_type": "code",
      "metadata": {
        "id": "senior-summer"
      },
      "source": [
        "from keras.preprocessing.image import ImageDataGenerator\n",
        "\n",
        "train_datagen = ImageDataGenerator(\n",
        "    featurewise_center=False,\n",
        "    samplewise_center=False,\n",
        "    featurewise_std_normalization=False,\n",
        "    samplewise_std_normalization=False,\n",
        "    zca_whitening=False,\n",
        "    rotation_range=50,\n",
        "    width_shift_range=0.2,\n",
        "    height_shift_range=0.2,\n",
        "    horizontal_flip=True,\n",
        "    vertical_flip=False,\n",
        "    fill_mode='nearest'\n",
        "    )\n",
        "\n",
        "val_datagen = ImageDataGenerator()\n",
        "\n",
        "train_generator = train_datagen.flow(train_aug_tensors_VGG, y_train, batch_size=32)\n",
        "val_generator = val_datagen.flow(valid_aug_tensors_VGG, y_valid, batch_size=71)"
      ],
      "id": "senior-summer",
      "execution_count": 96,
      "outputs": []
    },
    {
      "cell_type": "code",
      "metadata": {
        "colab": {
          "base_uri": "https://localhost:8080/",
          "height": 675
        },
        "id": "surprising-montana",
        "outputId": "00026b19-aa7d-4932-e467-b46c5b651001"
      },
      "source": [
        "# https://towardsdatascience.com/a-comprehensive-hands-on-guide-to-transfer-learning-with-real-world-applications-in-deep-learning-212bf3b2f27a\n",
        "vgg_aug = VGG16(include_top=False, weights='imagenet', \n",
        "                                     input_shape=(350,350,3))\n",
        "\n",
        "vgg_aug_output = vgg_aug.layers[-1].output\n",
        "#vgg_aug_output = keras.layers.Flatten()(vgg_aug_output)\n",
        "vgg_aug_model = Model(vgg_aug.input, vgg_aug_output)\n",
        "\n",
        "vgg_aug_model.trainable = False\n",
        "for layer in vgg_aug_model.layers:\n",
        "    layer.trainable = False\n",
        "\n",
        "pd.set_option('max_colwidth', -1)\n",
        "layers = [(layer, layer.name, layer.trainable) for layer in vgg_aug_model.layers]\n",
        "pd.DataFrame(layers, columns=['Layer Type', 'Layer Name', 'Layer Trainable'])"
      ],
      "id": "surprising-montana",
      "execution_count": 97,
      "outputs": [
        {
          "output_type": "stream",
          "text": [
            "/usr/local/lib/python3.7/dist-packages/ipykernel_launcher.py:13: FutureWarning: Passing a negative integer is deprecated in version 1.0 and will not be supported in future version. Instead, use None to not limit the column width.\n",
            "  del sys.path[0]\n"
          ],
          "name": "stderr"
        },
        {
          "output_type": "execute_result",
          "data": {
            "text/html": [
              "<div>\n",
              "<style scoped>\n",
              "    .dataframe tbody tr th:only-of-type {\n",
              "        vertical-align: middle;\n",
              "    }\n",
              "\n",
              "    .dataframe tbody tr th {\n",
              "        vertical-align: top;\n",
              "    }\n",
              "\n",
              "    .dataframe thead th {\n",
              "        text-align: right;\n",
              "    }\n",
              "</style>\n",
              "<table border=\"1\" class=\"dataframe\">\n",
              "  <thead>\n",
              "    <tr style=\"text-align: right;\">\n",
              "      <th></th>\n",
              "      <th>Layer Type</th>\n",
              "      <th>Layer Name</th>\n",
              "      <th>Layer Trainable</th>\n",
              "    </tr>\n",
              "  </thead>\n",
              "  <tbody>\n",
              "    <tr>\n",
              "      <th>0</th>\n",
              "      <td>&lt;tensorflow.python.keras.engine.input_layer.InputLayer object at 0x7f74513f56d0&gt;</td>\n",
              "      <td>input_4</td>\n",
              "      <td>False</td>\n",
              "    </tr>\n",
              "    <tr>\n",
              "      <th>1</th>\n",
              "      <td>&lt;tensorflow.python.keras.layers.convolutional.Conv2D object at 0x7f74513f55d0&gt;</td>\n",
              "      <td>block1_conv1</td>\n",
              "      <td>False</td>\n",
              "    </tr>\n",
              "    <tr>\n",
              "      <th>2</th>\n",
              "      <td>&lt;tensorflow.python.keras.layers.convolutional.Conv2D object at 0x7f74535b8090&gt;</td>\n",
              "      <td>block1_conv2</td>\n",
              "      <td>False</td>\n",
              "    </tr>\n",
              "    <tr>\n",
              "      <th>3</th>\n",
              "      <td>&lt;tensorflow.python.keras.layers.pooling.MaxPooling2D object at 0x7f74513f5110&gt;</td>\n",
              "      <td>block1_pool</td>\n",
              "      <td>False</td>\n",
              "    </tr>\n",
              "    <tr>\n",
              "      <th>4</th>\n",
              "      <td>&lt;tensorflow.python.keras.layers.convolutional.Conv2D object at 0x7f7453753d10&gt;</td>\n",
              "      <td>block2_conv1</td>\n",
              "      <td>False</td>\n",
              "    </tr>\n",
              "    <tr>\n",
              "      <th>5</th>\n",
              "      <td>&lt;tensorflow.python.keras.layers.convolutional.Conv2D object at 0x7f74535b8410&gt;</td>\n",
              "      <td>block2_conv2</td>\n",
              "      <td>False</td>\n",
              "    </tr>\n",
              "    <tr>\n",
              "      <th>6</th>\n",
              "      <td>&lt;tensorflow.python.keras.layers.pooling.MaxPooling2D object at 0x7f745337cc50&gt;</td>\n",
              "      <td>block2_pool</td>\n",
              "      <td>False</td>\n",
              "    </tr>\n",
              "    <tr>\n",
              "      <th>7</th>\n",
              "      <td>&lt;tensorflow.python.keras.layers.convolutional.Conv2D object at 0x7f74514b4450&gt;</td>\n",
              "      <td>block3_conv1</td>\n",
              "      <td>False</td>\n",
              "    </tr>\n",
              "    <tr>\n",
              "      <th>8</th>\n",
              "      <td>&lt;tensorflow.python.keras.layers.convolutional.Conv2D object at 0x7f7453368990&gt;</td>\n",
              "      <td>block3_conv2</td>\n",
              "      <td>False</td>\n",
              "    </tr>\n",
              "    <tr>\n",
              "      <th>9</th>\n",
              "      <td>&lt;tensorflow.python.keras.layers.convolutional.Conv2D object at 0x7f7453367d10&gt;</td>\n",
              "      <td>block3_conv3</td>\n",
              "      <td>False</td>\n",
              "    </tr>\n",
              "    <tr>\n",
              "      <th>10</th>\n",
              "      <td>&lt;tensorflow.python.keras.layers.pooling.MaxPooling2D object at 0x7f74514b4350&gt;</td>\n",
              "      <td>block3_pool</td>\n",
              "      <td>False</td>\n",
              "    </tr>\n",
              "    <tr>\n",
              "      <th>11</th>\n",
              "      <td>&lt;tensorflow.python.keras.layers.convolutional.Conv2D object at 0x7f7453368c50&gt;</td>\n",
              "      <td>block4_conv1</td>\n",
              "      <td>False</td>\n",
              "    </tr>\n",
              "    <tr>\n",
              "      <th>12</th>\n",
              "      <td>&lt;tensorflow.python.keras.layers.convolutional.Conv2D object at 0x7f74514e0f10&gt;</td>\n",
              "      <td>block4_conv2</td>\n",
              "      <td>False</td>\n",
              "    </tr>\n",
              "    <tr>\n",
              "      <th>13</th>\n",
              "      <td>&lt;tensorflow.python.keras.layers.convolutional.Conv2D object at 0x7f74513b21d0&gt;</td>\n",
              "      <td>block4_conv3</td>\n",
              "      <td>False</td>\n",
              "    </tr>\n",
              "    <tr>\n",
              "      <th>14</th>\n",
              "      <td>&lt;tensorflow.python.keras.layers.pooling.MaxPooling2D object at 0x7f7453036450&gt;</td>\n",
              "      <td>block4_pool</td>\n",
              "      <td>False</td>\n",
              "    </tr>\n",
              "    <tr>\n",
              "      <th>15</th>\n",
              "      <td>&lt;tensorflow.python.keras.layers.convolutional.Conv2D object at 0x7f745133bd10&gt;</td>\n",
              "      <td>block5_conv1</td>\n",
              "      <td>False</td>\n",
              "    </tr>\n",
              "    <tr>\n",
              "      <th>16</th>\n",
              "      <td>&lt;tensorflow.python.keras.layers.convolutional.Conv2D object at 0x7f7453367a90&gt;</td>\n",
              "      <td>block5_conv2</td>\n",
              "      <td>False</td>\n",
              "    </tr>\n",
              "    <tr>\n",
              "      <th>17</th>\n",
              "      <td>&lt;tensorflow.python.keras.layers.convolutional.Conv2D object at 0x7f745335b790&gt;</td>\n",
              "      <td>block5_conv3</td>\n",
              "      <td>False</td>\n",
              "    </tr>\n",
              "    <tr>\n",
              "      <th>18</th>\n",
              "      <td>&lt;tensorflow.python.keras.layers.pooling.MaxPooling2D object at 0x7f745136cd90&gt;</td>\n",
              "      <td>block5_pool</td>\n",
              "      <td>False</td>\n",
              "    </tr>\n",
              "  </tbody>\n",
              "</table>\n",
              "</div>"
            ],
            "text/plain": [
              "                                                                          Layer Type  ... Layer Trainable\n",
              "0   <tensorflow.python.keras.engine.input_layer.InputLayer object at 0x7f74513f56d0>  ...  False         \n",
              "1   <tensorflow.python.keras.layers.convolutional.Conv2D object at 0x7f74513f55d0>    ...  False         \n",
              "2   <tensorflow.python.keras.layers.convolutional.Conv2D object at 0x7f74535b8090>    ...  False         \n",
              "3   <tensorflow.python.keras.layers.pooling.MaxPooling2D object at 0x7f74513f5110>    ...  False         \n",
              "4   <tensorflow.python.keras.layers.convolutional.Conv2D object at 0x7f7453753d10>    ...  False         \n",
              "5   <tensorflow.python.keras.layers.convolutional.Conv2D object at 0x7f74535b8410>    ...  False         \n",
              "6   <tensorflow.python.keras.layers.pooling.MaxPooling2D object at 0x7f745337cc50>    ...  False         \n",
              "7   <tensorflow.python.keras.layers.convolutional.Conv2D object at 0x7f74514b4450>    ...  False         \n",
              "8   <tensorflow.python.keras.layers.convolutional.Conv2D object at 0x7f7453368990>    ...  False         \n",
              "9   <tensorflow.python.keras.layers.convolutional.Conv2D object at 0x7f7453367d10>    ...  False         \n",
              "10  <tensorflow.python.keras.layers.pooling.MaxPooling2D object at 0x7f74514b4350>    ...  False         \n",
              "11  <tensorflow.python.keras.layers.convolutional.Conv2D object at 0x7f7453368c50>    ...  False         \n",
              "12  <tensorflow.python.keras.layers.convolutional.Conv2D object at 0x7f74514e0f10>    ...  False         \n",
              "13  <tensorflow.python.keras.layers.convolutional.Conv2D object at 0x7f74513b21d0>    ...  False         \n",
              "14  <tensorflow.python.keras.layers.pooling.MaxPooling2D object at 0x7f7453036450>    ...  False         \n",
              "15  <tensorflow.python.keras.layers.convolutional.Conv2D object at 0x7f745133bd10>    ...  False         \n",
              "16  <tensorflow.python.keras.layers.convolutional.Conv2D object at 0x7f7453367a90>    ...  False         \n",
              "17  <tensorflow.python.keras.layers.convolutional.Conv2D object at 0x7f745335b790>    ...  False         \n",
              "18  <tensorflow.python.keras.layers.pooling.MaxPooling2D object at 0x7f745136cd90>    ...  False         \n",
              "\n",
              "[19 rows x 3 columns]"
            ]
          },
          "metadata": {
            "tags": []
          },
          "execution_count": 97
        }
      ]
    },
    {
      "cell_type": "code",
      "metadata": {
        "colab": {
          "base_uri": "https://localhost:8080/"
        },
        "id": "approved-short",
        "outputId": "69d3ec6f-d5c8-44be-bbee-b0e95f7e4f28"
      },
      "source": [
        "input_shape = vgg_aug_model.output_shape[1:]\n",
        "\n",
        "model_vgg_aug = Sequential()\n",
        "model_vgg_aug.add(vgg_aug_model)\n",
        "model_vgg_aug.add(GlobalAveragePooling2D(input_shape=input_shape))\n",
        "model_vgg_aug.add(Dense(8, activation='sigmoid'))\n",
        "\n",
        "model_vgg_aug.summary()"
      ],
      "id": "approved-short",
      "execution_count": 98,
      "outputs": [
        {
          "output_type": "stream",
          "text": [
            "Model: \"sequential_2\"\n",
            "_________________________________________________________________\n",
            "Layer (type)                 Output Shape              Param #   \n",
            "=================================================================\n",
            "model (Functional)           (None, 10, 10, 512)       14714688  \n",
            "_________________________________________________________________\n",
            "global_average_pooling2d_2 ( (None, 512)               0         \n",
            "_________________________________________________________________\n",
            "dense_2 (Dense)              (None, 8)                 4104      \n",
            "=================================================================\n",
            "Total params: 14,718,792\n",
            "Trainable params: 4,104\n",
            "Non-trainable params: 14,714,688\n",
            "_________________________________________________________________\n"
          ],
          "name": "stdout"
        }
      ]
    },
    {
      "cell_type": "code",
      "metadata": {
        "id": "worst-inside"
      },
      "source": [
        "model_vgg_aug.compile(loss='categorical_crossentropy',\n",
        "             optimizer='adam',\n",
        "             metrics=['accuracy'])"
      ],
      "id": "worst-inside",
      "execution_count": 99,
      "outputs": []
    },
    {
      "cell_type": "code",
      "metadata": {
        "colab": {
          "base_uri": "https://localhost:8080/"
        },
        "id": "ecological-tract",
        "outputId": "a3f402bf-cde9-4ef7-9497-056e7184b802"
      },
      "source": [
        "train_steps_per_epoch_vgg = train_aug_tensors_VGG.shape[0]//32\n",
        "val_steps_per_epoch_vgg = valid_aug_tensors_VGG.shape[0]//71\n",
        "print(train_steps_per_epoch_vgg, val_steps_per_epoch_vgg)"
      ],
      "id": "ecological-tract",
      "execution_count": 100,
      "outputs": [
        {
          "output_type": "stream",
          "text": [
            "8 1\n"
          ],
          "name": "stdout"
        }
      ]
    },
    {
      "cell_type": "code",
      "metadata": {
        "colab": {
          "base_uri": "https://localhost:8080/"
        },
        "id": "norman-defensive",
        "outputId": "01447fdb-6a3d-42ce-c1a2-4059b1c34706"
      },
      "source": [
        "\n",
        "from keras.callbacks import EarlyStopping, ReduceLROnPlateau\n",
        "model_vgg_aug_checkpointer = ModelCheckpoint(filepath='saved_models/weights.best.vgg_aug.hdf5',\n",
        "                               verbose=1, save_best_only=True)\n",
        "reduce_lr = ReduceLROnPlateau(monitor='val_loss', factor=0.1, patience=5, verbose=0, mode='auto', min_delta=0.0001, cooldown=0, min_lr=0)\n",
        "early_stop = EarlyStopping(monitor='val_loss', min_delta=0, patience=3, verbose=0, mode='auto')\n",
        "\n",
        "model_vgg_aug_history = model_vgg_aug.fit_generator(train_generator, steps_per_epoch=train_steps_per_epoch_vgg, epochs=10,\n",
        "                              validation_data=val_generator, validation_steps=val_steps_per_epoch_vgg, callbacks=[model_vgg_aug_checkpointer, early_stop, reduce_lr],\n",
        "                              verbose=1)"
      ],
      "id": "norman-defensive",
      "execution_count": 101,
      "outputs": [
        {
          "output_type": "stream",
          "text": [
            "/usr/local/lib/python3.7/dist-packages/tensorflow/python/keras/engine/training.py:1844: UserWarning: `Model.fit_generator` is deprecated and will be removed in a future version. Please use `Model.fit`, which supports generators.\n",
            "  warnings.warn('`Model.fit_generator` is deprecated and '\n"
          ],
          "name": "stderr"
        },
        {
          "output_type": "stream",
          "text": [
            "Epoch 1/10\n",
            "8/8 [==============================] - 225s 29s/step - loss: 5.6169 - accuracy: 0.0991 - val_loss: 3.6245 - val_accuracy: 0.1127\n",
            "\n",
            "Epoch 00001: val_loss improved from inf to 3.62446, saving model to saved_models/weights.best.vgg_aug.hdf5\n",
            "Epoch 2/10\n",
            "8/8 [==============================] - 223s 29s/step - loss: 3.5529 - accuracy: 0.1741 - val_loss: 3.2583 - val_accuracy: 0.1690\n",
            "\n",
            "Epoch 00002: val_loss improved from 3.62446 to 3.25827, saving model to saved_models/weights.best.vgg_aug.hdf5\n",
            "Epoch 3/10\n",
            "8/8 [==============================] - 224s 29s/step - loss: 2.7835 - accuracy: 0.2661 - val_loss: 2.8241 - val_accuracy: 0.1972\n",
            "\n",
            "Epoch 00003: val_loss improved from 3.25827 to 2.82414, saving model to saved_models/weights.best.vgg_aug.hdf5\n",
            "Epoch 4/10\n",
            "8/8 [==============================] - 223s 29s/step - loss: 2.4494 - accuracy: 0.2423 - val_loss: 2.4932 - val_accuracy: 0.2817\n",
            "\n",
            "Epoch 00004: val_loss improved from 2.82414 to 2.49319, saving model to saved_models/weights.best.vgg_aug.hdf5\n",
            "Epoch 5/10\n",
            "8/8 [==============================] - 223s 29s/step - loss: 2.1652 - accuracy: 0.3044 - val_loss: 2.3844 - val_accuracy: 0.3239\n",
            "\n",
            "Epoch 00005: val_loss improved from 2.49319 to 2.38442, saving model to saved_models/weights.best.vgg_aug.hdf5\n",
            "Epoch 6/10\n",
            "8/8 [==============================] - 227s 29s/step - loss: 2.1619 - accuracy: 0.3097 - val_loss: 2.3446 - val_accuracy: 0.3239\n",
            "\n",
            "Epoch 00006: val_loss improved from 2.38442 to 2.34456, saving model to saved_models/weights.best.vgg_aug.hdf5\n",
            "Epoch 7/10\n",
            "8/8 [==============================] - 222s 28s/step - loss: 1.9645 - accuracy: 0.3665 - val_loss: 2.1816 - val_accuracy: 0.3803\n",
            "\n",
            "Epoch 00007: val_loss improved from 2.34456 to 2.18161, saving model to saved_models/weights.best.vgg_aug.hdf5\n",
            "Epoch 8/10\n",
            "8/8 [==============================] - 223s 29s/step - loss: 1.9212 - accuracy: 0.3794 - val_loss: 2.1077 - val_accuracy: 0.3521\n",
            "\n",
            "Epoch 00008: val_loss improved from 2.18161 to 2.10768, saving model to saved_models/weights.best.vgg_aug.hdf5\n",
            "Epoch 9/10\n",
            "8/8 [==============================] - 226s 29s/step - loss: 1.5176 - accuracy: 0.4594 - val_loss: 2.0302 - val_accuracy: 0.3803\n",
            "\n",
            "Epoch 00009: val_loss improved from 2.10768 to 2.03021, saving model to saved_models/weights.best.vgg_aug.hdf5\n",
            "Epoch 10/10\n",
            "8/8 [==============================] - 223s 29s/step - loss: 1.4049 - accuracy: 0.5155 - val_loss: 1.9145 - val_accuracy: 0.4507\n",
            "\n",
            "Epoch 00010: val_loss improved from 2.03021 to 1.91447, saving model to saved_models/weights.best.vgg_aug.hdf5\n"
          ],
          "name": "stdout"
        }
      ]
    },
    {
      "cell_type": "code",
      "metadata": {
        "colab": {
          "base_uri": "https://localhost:8080/",
          "height": 308
        },
        "id": "derived-princeton",
        "outputId": "4fa0b5cc-118f-46c9-c5ba-e8ba85ad8ce8"
      },
      "source": [
        "# epoch len depends on # of epochs that got trained. Print and see model_vgg_aug_history.history\n",
        "plot_accuracy_loss_for_train_valid(model_vgg_aug_history, \"Augumented VGG  Accuracy & Loss\", epoch_len=11, epoch_window=2)"
      ],
      "id": "derived-princeton",
      "execution_count": 102,
      "outputs": [
        {
          "output_type": "display_data",
          "data": {
            "image/png": "[encoded data removed]",
            "text/plain": [
              "<Figure size 864x288 with 2 Axes>"
            ]
          },
          "metadata": {
            "tags": [],
            "needs_background": "light"
          }
        }
      ]
    },
    {
      "cell_type": "markdown",
      "metadata": {
        "id": "n0JOWa57JPsD"
      },
      "source": [
        "Load the Best Augumented VGG16 weights from training\n"
      ],
      "id": "n0JOWa57JPsD"
    },
    {
      "cell_type": "code",
      "metadata": {
        "id": "cekYcMe9Int3"
      },
      "source": [
        "model_vgg_aug.load_weights('saved_models/weights.best.vgg_aug.hdf5')"
      ],
      "id": "cekYcMe9Int3",
      "execution_count": 103,
      "outputs": []
    },
    {
      "cell_type": "markdown",
      "metadata": {
        "id": "kN--GkTSJTT6"
      },
      "source": [
        "Get the accuracy for the model\n"
      ],
      "id": "kN--GkTSJTT6"
    },
    {
      "cell_type": "code",
      "metadata": {
        "colab": {
          "base_uri": "https://localhost:8080/"
        },
        "id": "9yIKQBLlJPCS",
        "outputId": "b1e93330-e17b-4944-f7e4-8630df3b3149"
      },
      "source": [
        "model_vgg_aug_predictions = [np.argmax(model_vgg_aug.predict(np.expand_dims(feature, axis=0))) for feature in test_aug_tensors_VGG]\n",
        "\n",
        "# report test accuracy\n",
        "test_accuracy = 100*np.sum(np.array(model_vgg_aug_predictions)==np.argmax(y_test, axis=1))/len(model_vgg_aug_predictions)\n",
        "print('Test accuracy: %.4f%%' % test_accuracy)"
      ],
      "id": "9yIKQBLlJPCS",
      "execution_count": 104,
      "outputs": [
        {
          "output_type": "stream",
          "text": [
            "Test accuracy: 32.9412%\n"
          ],
          "name": "stdout"
        }
      ]
    },
    {
      "cell_type": "code",
      "metadata": {
        "colab": {
          "base_uri": "https://localhost:8080/"
        },
        "id": "assK_9gMJPEz",
        "outputId": "958bb48b-e23c-4303-de6d-1617c91a7afa"
      },
      "source": [
        "vgg_aug_test_score = model_vgg_aug.evaluate(test_aug_tensors_VGG,y_test)\n",
        "print(\"Log loss of the Xception model is {0}\".format(vgg_aug_test_score[0]))"
      ],
      "id": "assK_9gMJPEz",
      "execution_count": 105,
      "outputs": [
        {
          "output_type": "stream",
          "text": [
            "3/3 [==============================] - 57s 18s/step - loss: 2.0198 - accuracy: 0.3294\n",
            "Log loss of the Xception model is 2.019808769226074\n"
          ],
          "name": "stdout"
        }
      ]
    },
    {
      "cell_type": "code",
      "metadata": {
        "colab": {
          "base_uri": "https://localhost:8080/",
          "height": 580
        },
        "id": "iPJntKe5JPHT",
        "outputId": "ce06d010-104b-4fb9-db4e-5aff59f48eb1"
      },
      "source": [
        "plot_confusion_matrix(test_df.emotion, model_vgg_aug_predictions, classes=emotions, normalize=True,\n",
        "                      title='Normalized Augumented VGG Confusion Matrix')\n",
        "\n",
        "plt.show()"
      ],
      "id": "iPJntKe5JPHT",
      "execution_count": 106,
      "outputs": [
        {
          "output_type": "stream",
          "text": [
            "Normalized confusion matrix\n"
          ],
          "name": "stdout"
        },
        {
          "output_type": "display_data",
          "data": {
            "image/png": "[encoded data removed]",
            "text/plain": [
              "<Figure size 576x576 with 2 Axes>"
            ]
          },
          "metadata": {
            "tags": [],
            "needs_background": "light"
          }
        }
      ]
    },
    {
      "cell_type": "code",
      "metadata": {
        "id": "Bdd27N7kJPJg"
      },
      "source": [
        ""
      ],
      "id": "Bdd27N7kJPJg",
      "execution_count": null,
      "outputs": []
    }
  ]
}