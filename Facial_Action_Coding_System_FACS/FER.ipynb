{
  "nbformat": 4,
  "nbformat_minor": 0,
  "metadata": {
    "colab": {
      "name": "FER.ipynb",
      "provenance": [],
      "collapsed_sections": [],
      "toc_visible": true
    },
    "kernelspec": {
      "name": "python3",
      "display_name": "Python 3"
    },
    "accelerator": "GPU"
  },
  "cells": [
    {
      "cell_type": "code",
      "metadata": {
        "colab": {
          "base_uri": "https://localhost:8080/"
        },
        "id": "hjs5Xoj58KJl",
        "outputId": "ddd37c27-39ac-4ae9-a4b2-7dd5cfedfb5a"
      },
      "source": [
        "from google.colab import drive\n",
        "drive.mount('/content/drive')"
      ],
      "execution_count": 1,
      "outputs": [
        {
          "output_type": "stream",
          "text": [
            "Drive already mounted at /content/drive; to attempt to forcibly remount, call drive.mount(\"/content/drive\", force_remount=True).\n"
          ],
          "name": "stdout"
        }
      ]
    },
    {
      "cell_type": "markdown",
      "metadata": {
        "id": "uXu2Mffr165-"
      },
      "source": [
        "# Download Datasets"
      ]
    },
    {
      "cell_type": "code",
      "metadata": {
        "id": "yirmGjXE3igL"
      },
      "source": [
        "from google.colab.patches import cv2_imshow\n",
        "from tqdm import tqdm"
      ],
      "execution_count": 2,
      "outputs": []
    },
    {
      "cell_type": "code",
      "metadata": {
        "colab": {
          "base_uri": "https://localhost:8080/"
        },
        "id": "d0TejqJ89xaO",
        "outputId": "17a721cc-00d4-4bdf-9e02-30b12cdd53a5"
      },
      "source": [
        "%cd drive/MyDrive/AIHealthcare/FER"
      ],
      "execution_count": 3,
      "outputs": [
        {
          "output_type": "stream",
          "text": [
            "/content/drive/MyDrive/AIHealthcare/FER\n"
          ],
          "name": "stdout"
        }
      ]
    },
    {
      "cell_type": "code",
      "metadata": {
        "id": "a_CphqOi7rFb"
      },
      "source": [
        "# def download_dataset_to_collab(dataset):\n",
        "\n",
        "#   !pip install -U -q PyDrive\n",
        "\n",
        "#   from pydrive.auth import GoogleAuth\n",
        "#   from pydrive.drive import GoogleDrive\n",
        "#   from google.colab import auth\n",
        "#   from oauth2client.client import GoogleCredentials\n",
        "#   import time\n",
        "\n",
        "#   # 1. Authenticate and create the PyDrive client.\n",
        "#   auth.authenticate_user()\n",
        "#   gauth = GoogleAuth()\n",
        "#   gauth.credentials = GoogleCredentials.get_application_default()\n",
        "#   drive = GoogleDrive(gauth)\n",
        "\n",
        "#   # Auto-iterate through all files in the folder ID.\n",
        "#   start = time.time()\n",
        "#   for key, value in dataset.items():\n",
        "#     print(\"Initiating files copy from {} ...\".format(key))\n",
        "#     file_list = drive.ListFile({'q': \"'{}' in parents and trashed=false\".format(value)}).GetList()      #file_list = drive.ListFile({'q': \"'1czmCOb4w0LiWetvQyhIxi6gGvJuAYb5F' in parents and trashed=false\"}).GetList()\n",
        "#     for file1 in file_list:      \n",
        "#       file6 = drive.CreateFile({'id': file1['id']}) # Initialize GoogleDriveFile instance with file id.\n",
        "#       file6.GetContentFile(file1['title'])          # Download file as file1['title']\n",
        "#     !mkdir 'datalab/'$key                           # move the data to folder in dictionary\n",
        "#     !ls -l datalab/\n",
        "#     !mv *.png 'datalab/'$key\n",
        "#     !ls -l datalab/\n",
        "#     print(\"Completed files copy from {}.\".format(key))\n",
        "\n",
        "#   end = time.time()                                                                \n",
        "#   return 'time taken:'+ str(end-start) +'seconds'\n",
        "\n",
        "# dataset = {\n",
        "#           #'<folder_name>':'<gdrive_folder_id>'\n",
        "#           # 'mask_images_emotion':'1p7acuIviEzK5D1-udAdConjhmF7hFJIm', \n",
        "#           # 'test':'1czmCOb4w0LiWetvQyhIxi6gGvJuAYb5F',\n",
        "#           'train_cleaned':'1T4uCpfZueGsSUCu145FuEcPY_he6A2fQ'\n",
        "#           }\n",
        "# download_dataset_to_collab(dataset)"
      ],
      "execution_count": 4,
      "outputs": []
    },
    {
      "cell_type": "code",
      "metadata": {
        "colab": {
          "base_uri": "https://localhost:8080/"
        },
        "id": "K3EHcbFABJzX",
        "outputId": "41f0b55a-2d6d-41d2-e442-c1bd6c5f331a"
      },
      "source": [
        "import os\n",
        "import numpy as np\n",
        "from skimage.io import imread\n",
        "\n",
        "for f in os.listdir('mask_images_emotion'):\n",
        "  opath='mask_images_emotion/'+str(f)\n",
        "  img = np.asarray(imread(opath))/255.0\n",
        "print(img.shape)"
      ],
      "execution_count": 5,
      "outputs": [
        {
          "output_type": "stream",
          "text": [
            "(382, 500)\n"
          ],
          "name": "stdout"
        }
      ]
    },
    {
      "cell_type": "code",
      "metadata": {
        "id": "fyqmEB7Y7yv3"
      },
      "source": [
        "# import os\n",
        "# import numpy as np\n",
        "# #http://scikit-image.org/docs/dev/api/skimage.io.html\n",
        "# from skimage.io import imread\n",
        "# for f in os.listdir('./datalab/img'):\n",
        "#   opath='./datalab/img/'+str(f)\n",
        "#   img = np.asarray(imread(opath))/255.0\n",
        "# print(img.shape)"
      ],
      "execution_count": 6,
      "outputs": []
    },
    {
      "cell_type": "code",
      "metadata": {
        "id": "QH6UjAwc_WJ-"
      },
      "source": [
        "from skimage.transform import resize, pyramid_reduce\n",
        "from skimage.io import imread\n",
        "import numpy as np\n",
        "\n",
        "def scale_img_to_sqaure(image, square_size):\n",
        "\n",
        "    height, width = image.shape    \n",
        "    if(height > width):\n",
        "      differ = height\n",
        "    else:\n",
        "      differ = width\n",
        "    differ += 4\n",
        "\n",
        "    # square filler\n",
        "    mask = np.zeros((differ, differ), dtype = \"uint8\")\n",
        "\n",
        "    x_pos = int((differ - width) / 2)\n",
        "    y_pos = int((differ - height) / 2)\n",
        "\n",
        "    # center image inside the square\n",
        "    mask[y_pos: y_pos + height, x_pos: x_pos + width] = image[0: height, 0: width]\n",
        "\n",
        "    # downscale if needed\n",
        "    if differ / square_size > 1:\n",
        "      mask = pyramid_reduce(mask, differ / square_size)\n",
        "    else:\n",
        "      mask = cv2.resize(mask, (square_size, square_size), interpolation = cv2.INTER_AREA)\n",
        "    return mask\n",
        "\n",
        "i=np.asarray(imread('datalab/img/S097_001_00000021.png'))/255.0\n",
        "sq = scale_img_to_sqaure(i,128)"
      ],
      "execution_count": 7,
      "outputs": []
    },
    {
      "cell_type": "code",
      "metadata": {
        "colab": {
          "base_uri": "https://localhost:8080/"
        },
        "id": "OWyfxUuV_WMc",
        "outputId": "e916671f-f0ac-4b73-8757-66adc9faa948"
      },
      "source": [
        "i.shape"
      ],
      "execution_count": 8,
      "outputs": [
        {
          "output_type": "execute_result",
          "data": {
            "text/plain": [
              "(382, 500)"
            ]
          },
          "metadata": {
            "tags": []
          },
          "execution_count": 8
        }
      ]
    },
    {
      "cell_type": "code",
      "metadata": {
        "colab": {
          "base_uri": "https://localhost:8080/"
        },
        "id": "OXOP_GjTCh9B",
        "outputId": "f770e8e2-a3ca-421f-df57-11bb744fd9f3"
      },
      "source": [
        "ls 'datalab/img/S052_004_00000033.png'"
      ],
      "execution_count": 9,
      "outputs": [
        {
          "output_type": "stream",
          "text": [
            "datalab/img/S052_004_00000033.png\n"
          ],
          "name": "stdout"
        }
      ]
    },
    {
      "cell_type": "code",
      "metadata": {
        "colab": {
          "base_uri": "https://localhost:8080/",
          "height": 416
        },
        "id": "3adaz_B632m4",
        "outputId": "aac08023-f699-4982-ead8-2b9fc4b1c06d"
      },
      "source": [
        "import cv2 \n",
        "a = cv2.imread('datalab/img/S052_004_00000033.png',0)\n",
        "print(a.shape)\n",
        "cv2_imshow(a)"
      ],
      "execution_count": 10,
      "outputs": [
        {
          "output_type": "stream",
          "text": [
            "(382, 500)\n"
          ],
          "name": "stdout"
        },
        {
          "output_type": "display_data",
          "data": {
            "image/png": "[encoded data removed]",
            "text/plain": [
              "<PIL.Image.Image image mode=L size=500x382 at 0x7F975F8F8A10>"
            ]
          },
          "metadata": {
            "tags": []
          }
        }
      ]
    },
    {
      "cell_type": "code",
      "metadata": {
        "colab": {
          "base_uri": "https://localhost:8080/"
        },
        "id": "I3jba7fLjqfR",
        "outputId": "69501410-0009-4a48-cbb3-b4d28e36d441"
      },
      "source": [
        "ls 'drive/MyDrive/AIHealthcare/FER/datalab/img/'"
      ],
      "execution_count": 11,
      "outputs": [
        {
          "output_type": "stream",
          "text": [
            "ls: cannot access 'drive/MyDrive/AIHealthcare/FER/datalab/img/': No such file or directory\n"
          ],
          "name": "stdout"
        }
      ]
    },
    {
      "cell_type": "code",
      "metadata": {
        "id": "u-qDTzbqCwnF",
        "colab": {
          "base_uri": "https://localhost:8080/",
          "height": 450
        },
        "outputId": "0999a220-3193-4e17-d1c3-61726cdac7e6"
      },
      "source": [
        "from skimage import data\n",
        "image1 = data.load('/content/drive/MyDrive/AIHealthcare/FER/datalab/img/S037_006_00000021.png',0)\n",
        "print(image1.shape)\n",
        "cv2_imshow(image1)"
      ],
      "execution_count": 12,
      "outputs": [
        {
          "output_type": "stream",
          "text": [
            "/usr/local/lib/python3.7/dist-packages/ipykernel_launcher.py:2: UserWarning: This function is deprecated and will be removed in 0.18. Use `skimage.io.load` or `imageio.imread` directly.\n",
            "  \n"
          ],
          "name": "stderr"
        },
        {
          "output_type": "stream",
          "text": [
            "(382, 500)\n"
          ],
          "name": "stdout"
        },
        {
          "output_type": "display_data",
          "data": {
            "image/png": "[encoded data removed]",
            "text/plain": [
              "<PIL.Image.Image image mode=L size=500x382 at 0x7F975F916F90>"
            ]
          },
          "metadata": {
            "tags": []
          }
        }
      ]
    },
    {
      "cell_type": "code",
      "metadata": {
        "id": "HslwYTVk_cUh"
      },
      "source": [
        "# ls 'datalab/img/S055_006_00000008.png'"
      ],
      "execution_count": 13,
      "outputs": []
    },
    {
      "cell_type": "code",
      "metadata": {
        "id": "_ynwrnSmTfMA"
      },
      "source": [
        "# ls '/content/drive/MyDrive/AIHealthcare/FER/datalab/img/S037_006_00000021.png'"
      ],
      "execution_count": 14,
      "outputs": []
    },
    {
      "cell_type": "code",
      "metadata": {
        "colab": {
          "base_uri": "https://localhost:8080/",
          "height": 389
        },
        "id": "F4Kfl7cg_WOW",
        "outputId": "bbdb312e-f4d0-4f86-9913-1671b932a2bc"
      },
      "source": [
        "from skimage.transform import rotate\n",
        "from skimage.feature import local_binary_pattern\n",
        "from skimage import data\n",
        "from skimage.color import label2rgb\n",
        "import numpy as np\n",
        "import matplotlib.pyplot as plt\n",
        "\n",
        "METHOD = 'uniform'\n",
        "plt.rcParams['font.size'] = 9\n",
        "\n",
        "# settings for LBP\n",
        "radius = 3\n",
        "n_points = 8 * radius\n",
        "\n",
        "def overlay_labels(image, lbp, labels):\n",
        "    mask = np.logical_or.reduce([lbp == each for each in labels])\n",
        "    return label2rgb(mask, image=image, bg_label=0, alpha=0.5)\n",
        "\n",
        "def highlight_bars(bars, indexes):\n",
        "    for i in indexes:\n",
        "        bars[i].set_facecolor('r')\n",
        "\n",
        "image = data.load('/content/drive/MyDrive/AIHealthcare/FER/datalab/img/S037_006_00000021.png')\n",
        "print(image.shape)\n",
        "\n",
        "lbp = local_binary_pattern(image, n_points, radius, METHOD)\n",
        "\n",
        "def hist(ax, lbp):\n",
        "    n_bins = int(lbp.max() + 1)\n",
        "    return ax.hist(lbp.ravel(),bins=n_bins, range=(0, n_bins),facecolor='0.5')\n",
        "    # return ax.hist(lbp.ravel(), normed=True, bins=n_bins, range=(0, n_bins),facecolor='0.5')\n",
        "\n",
        "\n",
        "# plot histograms of LBP of textures\n",
        "fig, (ax_img, ax_hist) = plt.subplots(nrows=2, ncols=3, figsize=(9, 6))\n",
        "plt.gray()\n",
        "\n",
        "titles = ('edge', 'flat', 'corner')\n",
        "w = width = radius - 1\n",
        "edge_labels = range(n_points // 2 - w, n_points // 2 + w + 1)\n",
        "flat_labels = list(range(0, w + 1)) + list(range(n_points - w, n_points + 2))\n",
        "i_14 = n_points // 4            # 1/4th of the histogram\n",
        "i_34 = 3 * (n_points // 4)      # 3/4th of the histogram\n",
        "corner_labels = (list(range(i_14 - w, i_14 + w + 1)) + list(range(i_34 - w, i_34 + w + 1)))\n",
        "label_sets = (edge_labels, flat_labels, corner_labels)\n",
        "\n",
        "for ax, labels in zip(ax_img, label_sets):\n",
        "    ax.imshow(overlay_labels(image, lbp, labels))\n",
        "\n",
        "for ax, labels, name in zip(ax_hist, label_sets, titles):\n",
        "    counts, _, bars = hist(ax, lbp)\n",
        "    highlight_bars(bars, labels)\n",
        "    ax.set_ylim(ymax=np.max(counts[:-1]))\n",
        "    ax.set_xlim(xmax=n_points + 2)\n",
        "    ax.set_title(name)\n",
        "\n",
        "ax_hist[0].set_ylabel('Percentage')\n",
        "for ax in ax_img:\n",
        "    ax.axis('off')"
      ],
      "execution_count": 15,
      "outputs": [
        {
          "output_type": "stream",
          "text": [
            "/usr/local/lib/python3.7/dist-packages/ipykernel_launcher.py:23: UserWarning: This function is deprecated and will be removed in 0.18. Use `skimage.io.load` or `imageio.imread` directly.\n"
          ],
          "name": "stderr"
        },
        {
          "output_type": "stream",
          "text": [
            "(382, 500)\n"
          ],
          "name": "stdout"
        },
        {
          "output_type": "display_data",
          "data": {
            "image/png": "[encoded data removed]",
            "text/plain": [
              "<Figure size 648x432 with 6 Axes>"
            ]
          },
          "metadata": {
            "tags": [],
            "needs_background": "light"
          }
        }
      ]
    },
    {
      "cell_type": "code",
      "metadata": {
        "colab": {
          "base_uri": "https://localhost:8080/"
        },
        "id": "-mDlujhHGGY1",
        "outputId": "437e71b0-455a-46b0-e8b8-6d827d2d7b5c"
      },
      "source": [
        "label_sets"
      ],
      "execution_count": 16,
      "outputs": [
        {
          "output_type": "execute_result",
          "data": {
            "text/plain": [
              "(range(10, 15), [0, 1, 2, 22, 23, 24, 25], [4, 5, 6, 7, 8, 16, 17, 18, 19, 20])"
            ]
          },
          "metadata": {
            "tags": []
          },
          "execution_count": 16
        }
      ]
    },
    {
      "cell_type": "code",
      "metadata": {
        "id": "4KOwlbqDT0nu"
      },
      "source": [
        "# ls '/content/drive/MyDrive/AIHealthcare/FER/'\n",
        "# ls '/content/Probabilities.xlsx'"
      ],
      "execution_count": 17,
      "outputs": []
    },
    {
      "cell_type": "code",
      "metadata": {
        "id": "3KYhEu01_WQU"
      },
      "source": [
        "import os\n",
        "import csv \n",
        "from skimage import data\n",
        "from skimage.io import imsave, imshow\n",
        "from matplotlib import pyplot as plt\n",
        "from sklearn import svm, metrics, linear_model\n",
        "\n",
        "def get_au_label(csvfile, imgfile):\n",
        "  \n",
        "  with open(csvfile, 'r') as f:\n",
        "    r = csv.reader(f, delimiter=' ', quotechar='|')\n",
        "    for row in r:\n",
        "      if imgfile in row[0]:\n",
        "        name,value=row[0].split(',')\n",
        "        return int(value)\n",
        "\n",
        "def get_au_label1(img,au):\n",
        "  dataset = pd.ExcelFile('/content/Probabilities.xlsx')\n",
        "  probabilities = dataset.parse(0)\n",
        "  temp = probabilities.iloc[:,[0,4,5,6,7,8,9,10,11,12,13,14,15,16,17,18,19,20,21]]\n",
        "  return int(temp[(temp['File']==img)][au].values[0])\n",
        "\n",
        "def get_expr_label(img):\n",
        "  dataset = pd.ExcelFile('/content/Probabilities.xlsx')\n",
        "  probabilities = dataset.parse(0)\n",
        "  temp = probabilities.iloc[:,[0,3]]\n",
        "  return str(temp[(temp['File']==img)]['Expressions'].values[0])\n",
        "\n",
        "def get_lbp(img_path):\n",
        "  # print('############ get_lbp ##############')\n",
        "\n",
        "  # settings for LBP\n",
        "  radius = 3\n",
        "  n_points = 8 * radius\n",
        "  METHOD = 'uniform'\n",
        "\n",
        "  # image = data.load(img_path)\n",
        "  # print('image.shape', img_path.shape)\n",
        "  # print('local_binary_pattern(image, n_points, radius, METHOD)', local_binary_pattern(img_path, n_points, radius, METHOD).shape)\n",
        "  return local_binary_pattern(img_path, n_points, radius, METHOD)\n",
        "\n",
        "def img_to_vector(path,au):\n",
        "  print('path = ', path) #path =  /content/drive/MyDrive/AIHealthcare/FER/datalab/img/\n",
        "  print('au = ', au) #au =  1\n",
        "  \n",
        "  # X_train = np.ndarray(shape=(len(os.listdir(path)), 101, 101), dtype=np.float64)\n",
        "  X_train = np.ndarray(shape=(len(os.listdir(path)), 96, 96), dtype=np.float64)\n",
        "  print('X_train', X_train.shape)\n",
        "\n",
        "  Y_train = np.ndarray(shape=len(os.listdir(path)),dtype=np.float16)\n",
        "  print('Y_train', Y_train.shape)\n",
        "\n",
        "  X_expr = []\n",
        "  i=0\n",
        "  for img in os.listdir(path):\n",
        "    # print('img', type(img))\n",
        "    # /content/drive/MyDrive/AIHealthcare/FER/datalab/img/S037_003_00000022.png\n",
        "\n",
        "    s,t = img.split('.')  \n",
        "    # print('s = ',s) #s =  S037_003_00000022\n",
        "    # print('t = ',t) #t =  png\n",
        "\n",
        "    Y_train[i] = get_au_label1(s,au)\n",
        "    # print('Y_train[i] = ', Y_train[i])\n",
        "\n",
        "    X_expr.append(get_expr_label(s))\n",
        "    # print('type(X_expr) = ', type(X_expr))\n",
        "    # print('X_expr = ', X_expr)\n",
        "\n",
        "    # print('path+str(img) = ', path+str(img)) #path+str(img) =  /content/drive/MyDrive/AIHealthcare/FER/datalab/img/S037_003_00000022.png\n",
        "    b = data.load(path+str(img),0)\n",
        "    # print('b.shape', b.shape) #(382, 500)\n",
        "    sq_img = scale_img_to_sqaure(b, 96)\n",
        "    # print('sq_img', sq_img.shape) #(96, 96)\n",
        "\n",
        "\n",
        "    X_train[i] = get_lbp(sq_img)\n",
        "    i += 1\n",
        "  return X_train,Y_train, X_expr\n",
        "\n",
        "def train_svc(X, y, x_test):  \n",
        "  clf = svm.LinearSVC(random_state=0)\n",
        "  clf.fit(X, y)  \n",
        "  svm.LinearSVC(C=1.0, class_weight=None, dual=True, fit_intercept=True, intercept_scaling=1, loss='hinge', max_iter=1000, multi_class='ovr', penalty='l2', random_state=0, tol=0.0001, verbose=1)\n",
        "  return clf"
      ],
      "execution_count": 18,
      "outputs": []
    },
    {
      "cell_type": "code",
      "metadata": {
        "id": "H67pJVv3UmOs"
      },
      "source": [
        "# ls '/content/drive/MyDrive/AIHealthcare/FER/datalab/img/'"
      ],
      "execution_count": 19,
      "outputs": []
    },
    {
      "cell_type": "code",
      "metadata": {
        "id": "chMUaYGlDbhb"
      },
      "source": [
        "def eq21_training(y_new, au_list):\n",
        "  print('############### start eq21_training ###############')\n",
        "  print('y_new', y_new.shape)\n",
        "  print('au_list', len(au_list))\n",
        "  i=0\n",
        "  W = np.ndarray(shape=(269, 9216), dtype=np.float64)\n",
        "\n",
        "  for au in tqdm(au_list):\n",
        "    tick = time.time()\n",
        "\n",
        "    X_train, Y_train, X_expr = img_to_vector(\"/content/drive/MyDrive/AIHealthcare/FER/datalab/img/\",au)\n",
        "    # print('X_train', X_train.shape)\n",
        "    # print('Y_train', Y_train.shape)\n",
        "\n",
        "    Y_train = np.transpose(y_new[:,i])\n",
        "    # print('Y_train', Y_train)\n",
        "\n",
        "    X = X_train[0:269,:,:].reshape(269,-1)\n",
        "    y = Y_train[0:269,]\n",
        "    x_expr = X_expr[0:269]\n",
        "    x_test = X_train[270:,:,:].reshape(39,-1)\n",
        "    y_test = Y_train[270:,]\n",
        "\n",
        "    classifier = train_svc(X, y, x_test)\n",
        "    y_pred = classifier.predict(x_test)\n",
        "    confidence = classifier.decision_function(x_test)\n",
        "    #Coeeficients: (1, 10201)\n",
        "    W[i,:]=classifier.coef_\n",
        "    print(classifier.coef_)\n",
        "    print(W[i])\n",
        "    i += 1\n",
        "\n",
        "    print('*************AU{} Classifier*************'.format(au))\n",
        "    print('Pred: {}'.format(y_pred))\n",
        "    print('Test: {}'.format(y_test))\n",
        "    print('AU{} classifier co-eficients: {}'.format(au,classifier.coef_.shape))\n",
        "    print(\"Classification report for classifier {}, {}\".format(classifier, metrics.classification_report(y_test, y_pred)))\n",
        "    print(\"Confusion matrix:\\n%s\" % metrics.confusion_matrix(y_test, y_pred))\n",
        "    tock = time.time()\n",
        "    print(tock-tick)\n",
        "  return W, X, x_expr"
      ],
      "execution_count": 20,
      "outputs": []
    },
    {
      "cell_type": "code",
      "metadata": {
        "id": "cSwwfJ7lDdg8"
      },
      "source": [
        "#Express independent joint AU probability loss\n",
        "def eq8_loss(test_au_labels, positive_au_pairs, negative_au_pairs):\n",
        "  pt_loss = nt_loss = 0\n",
        "  \n",
        "  ## Determine the positive pairs not occurring together\n",
        "  positive_au_pairs_not_present = list()\n",
        "  for i in test_au_labels:\n",
        "    for j in positive_au_pairs:\n",
        "      if i in j:\n",
        "        if not ((j[0] in test_au_labels) and (j[1] in test_au_labels)):\n",
        "          positive_au_pairs_not_present.append(j)\n",
        "  ######################################################\n",
        "  \n",
        "  for pt_pair in positive_au_pairs_not_present:\n",
        "    prob_i = get_prob_i(pt_pair[0])\n",
        "    prob_j = get_prob_i(pt_pair[1])\n",
        "    prob_ij = get_prob_ij(pt_pair)\n",
        "    pt_loss += max(0,(prob_i*prob_j - prob_ij)) + max(0,((1-prob_i)*prob_j - prob_ij)) + max(0,(prob_i*(1-prob_j) - prob_ij))\n",
        "    \n",
        "  negative_au_pairs = [i for i in negative_au_pairs if set(i)<=set(test_au_labels)]\n",
        "  for nt_pair in negative_au_pairs:\n",
        "      prob_i = get_prob_i(nt_pair[0])\n",
        "      prob_j = get_prob_i(nt_pair[1])\n",
        "      prob_ij = get_prob_ij(nt_pair)\n",
        "      nt_loss += max(0,(prob_ij - prob_i*prob_j)) + max(0,(prob_ij - (1-prob_i)*prob_j)) + max(0,(prob_ij - prob_i*(1-prob_j)))\n",
        "  return (pt_loss+nt_loss)\n",
        "\n",
        "#Expression dependent single AU probability loss - considering only 'primary'/'others' AU - SUMMATE over K\n",
        "def eq11_loss(test_au_labels, x_expr_label, primary_au, others_au):\n",
        "  loss=0\n",
        "  for pr_au in primary_au[x_expr_label]:\n",
        "    if pr_au not in test_au_labels:\n",
        "      prob_i_k = get_prob_i_under_k(pr_au, x_expr_label)\n",
        "      loss += max(0,(0.5 - prob_i_k))\n",
        "  for ot_au in others_au[x_expr_label]:\n",
        "    if ot_au in test_au_labels:\n",
        "      prob_i_k = get_prob_i_under_k(ot_au, x_expr_label)\n",
        "      loss += max(0,(prob_i_k - 0.5))    \n",
        "  return loss\n",
        "\n",
        "#Expression dependent single AU probability loss - calculating differences wrt table3\n",
        "def eq13_loss():\n",
        "  return loss\n",
        "\n",
        "#Expression dependent joint AU probability loss - (prob_primary > prob_secondary) & (prob_secondary > prob-others)\n",
        "def eq15_loss(test_au_labels, emotion_list, primary_secondary_au_pairs, secondary_others_au_pairs):\n",
        "  loss = 0\n",
        "  #Filter primary_secondary_au_pairs \n",
        "  for e in emotion_list:\n",
        "    primary_secondary_au_pairs[e] = [i for i in primary_secondary_au_pairs[e] if i[1] in test_au_labels and i[0] not in test_au_labels]\n",
        "    secondary_others_au_pairs[e] = [i for i in secondary_others_au_pairs[e] if i[1] in test_au_labels and i[0] not in test_au_labels]\n",
        "  for e in emotion_list:\n",
        "    for ps in primary_secondary_au_pairs[e]:\n",
        "      prob_prim = get_prob_i_under_k(ps[0], e)\n",
        "      prob_sec = get_prob_i_under_k(ps[1], e)\n",
        "      loss += max(0,(prob_sec - prob_prim))\n",
        "    for ps in secondary_others_au_pairs[e]:\n",
        "      prob_sec = get_prob_i_under_k(ps[0], e)\n",
        "      prob_oth = get_prob_i_under_k(ps[1], e)        \n",
        "      loss += max(0,(prob_oth - prob_sec))\n",
        "  return loss\n",
        "\n",
        "#Expression dependent joint AU probability loss - positive correlation per table4 - SUMMATE over K\n",
        "def eq19_loss(test_au_labels, emotion_list, emfacs):\n",
        "  loss = 0\n",
        "  #Filter emfacs\n",
        "  '''for e in emotion_list:\n",
        "    emfacs[e] = [i for i in emfacs[e] if set(i)<=set(test_au_labels)]'''\n",
        "  #Filter emfacs\n",
        "  emfacs_pairs_not_present = defaultdict(list)\n",
        "  for e in emotion_list:\n",
        "    for i in test_au_labels:\n",
        "      for j in emfacs[e]:\n",
        "        if i in j:\n",
        "          if not ((j[0] in test_au_labels) and (j[1] in test_au_labels)):\n",
        "            emfacs_pairs_not_present[e].append(j)\n",
        "  \n",
        "  emfacs_pairs_not_present = dict(emfacs_pairs_not_present)\n",
        "  for e in emotion_list:\n",
        "    if e in emfacs_pairs_not_present:\n",
        "      for ps in emfacs_pairs_not_present[e]:\n",
        "        prob_i_k = get_prob_i_under_k(ps[0], e)\n",
        "        prob_j_k = get_prob_i_under_k(ps[1], e)\n",
        "        prob_ij_k = get_prob_ij_under_k(ps, e)\n",
        "        loss += max(0,(prob_i_k*prob_j_k - prob_ij_k)) + max(0,((1-prob_i_k)*prob_j_k - prob_ij_k)) + max(0,(prob_i_k*(1-prob_j_k) - prob_ij_k))\n",
        "    else:\n",
        "      pass\n",
        "  return loss\n",
        "\n",
        "#plan to use code to estimate optimum value for each lambda but for getting ahead assuming all to be 10 from range {10, 10^2, 10^3, 10^4}  \n",
        "def lambda_optimization():  \n",
        "  lambd_eq8=lambd_eq13=lambd_eq19=lambd_eq15 = 10\n",
        "  lambda_eq11 = 100\n",
        "  return lambd_eq8, lambda_eq11, lambd_eq13, lambd_eq19, lambd_eq15\n",
        "\n",
        "#Calculate hinge loss\n",
        "def hinge_loss(y, x, w):\n",
        "  return max(0,(1 - (y*(np.dot(np.transpose(w),x)))))\n",
        "\n",
        "#Calculate classification loss\n",
        "def classification_loss(au_config, x, W):\n",
        "  clf_loss = 0\n",
        "  for m in range(len(au_config)):\n",
        "    w = W[m,:]\n",
        "    y = au_config[m]\n",
        "    clf_loss += hinge_loss(y, w, x)\n",
        "  return clf_loss\n",
        "\n",
        "def eq22_loss(test_au_config, x, W, x_expr_label, au_list, primary_au, secondary_au, others_au, positive_au_pairs, negative_au_pairs, emotion_list):  \n",
        "\n",
        "  M = len(au_list)\n",
        "  au_test_config_arr = np.array(list(itertools.product([0, 1], repeat=M)))\n",
        "  lambd_eq8, lambda_eq11, lambd_eq13, lambd_eq19, lambd_eq15 = lambda_optimization()\n",
        "  primary_secondary_au_pairs = pairs_from_dictionaries(primary_au, secondary_au, emotion_list)\n",
        "  secondary_others_au_pairs = pairs_from_dictionaries(secondary_au, others_au, emotion_list)\n",
        "  test_au_labels = au_label_list(au_list, test_au_config)\n",
        "  \n",
        "  total_loss = Loss_eq8 = Loss_eq11 = Loss_eq13 = Loss_eq15 = Loss_eq19 = 0\n",
        "\n",
        "  #Classification loss calculations\n",
        "  clf_loss = classification_loss(test_au_config, x, W)\n",
        "\n",
        "  \n",
        "  #Loss_eq8\n",
        "  Loss_eq8 = lambd_eq8 * eq8_loss(test_au_labels, positive_au_pairs, negative_au_pairs)\n",
        "\n",
        "  #Loss_eq11      \n",
        "  Loss_eq11 = lambda_eq11 * eq11_loss(test_au_labels, x_expr_label, primary_au, others_au)\n",
        "\n",
        "  #Loss_eq15\n",
        "  Loss_eq15 = lambd_eq15 * eq15_loss(test_au_labels, emotion_list, primary_secondary_au_pairs, secondary_others_au_pairs)\n",
        "\n",
        "  #Loss_eq19\n",
        "  Loss_eq19 = lambd_eq19 * eq19_loss(test_au_labels, emotion_list, emfacs_pairs)\n",
        "\n",
        "  print('clf_loss:{} eq8_loss:{} eq11_loss:{} eq13_loss:{} eq15_loss:{} eq19_loss:{}'.format(clf_loss,Loss_eq8,Loss_eq11,Loss_eq13,Loss_eq15,Loss_eq19))\n",
        "  total_loss = (clf_loss + Loss_eq8 + Loss_eq11 + Loss_eq13 + Loss_eq15 + Loss_eq19)/M\n",
        "  return total_loss\n",
        "\n",
        "def get_eq22_best_AU_config(au_test_config_arr, x, sample_no, x_expr_label, W, au_list, primary_au, secondary_au, others_au, positive_au_pairs, negative_au_pairs, emotion_list):\n",
        "  min_loss = None\n",
        "  y_eq22_best = au_test_config_arr[0]\n",
        "  for test_au_config in au_test_config_arr:\n",
        "    tick=time.time()\n",
        "    x_loss = eq22_loss(test_au_config, x, W, x_expr_label, au_list, primary_au, secondary_au, others_au, positive_au_pairs, negative_au_pairs, emotion_list)\n",
        "    if min_loss == None:\n",
        "      min_loss = x_loss  \n",
        "    if x_loss < min_loss:\n",
        "      min_loss = x_loss\n",
        "      y_eq22_best = test_au_config\n",
        "    tock=time.time()\n",
        "    print('sample: {} x_loss: {} for {} min_loss: {} for {} under {}s'.format(sample_no, x_loss,test_au_config,min_loss,y_eq22_best,(tock-tick)))\n",
        "  return y_eq22_best\n",
        "\n",
        "def compute_eq20_obj(best_au_config, X, W, x_expr_label, y_new, au_list, primary_au, secondary_au, others_au, positive_au_pairs, negative_au_pairs, emotion_list):\n",
        "\n",
        "  M = len(au_list)\n",
        "  lambd_eq8, lambda_eq11, lambd_eq13, lambd_eq19, lambd_eq15 = lambda_optimization()\n",
        "  primary_secondary_au_pairs = pairs_from_dictionaries(primary_au, secondary_au, emotion_list)\n",
        "  secondary_others_au_pairs = pairs_from_dictionaries(secondary_au, others_au, emotion_list)\n",
        "  test_au_labels = au_label_list(au_list, best_au_config)\n",
        "  \n",
        "  main_obj = Loss_eq8 = Loss_eq11 = Loss_eq13 = Loss_eq15 = Loss_eq19 = 0\n",
        "\n",
        "  #Classification loss calculations\n",
        "  for sample in range(y_new.shape[0]):\n",
        "    x=X[sample]\n",
        "    clf_loss = classification_loss(np.transpose(y_new[sample,:]), x, W)\n",
        " \n",
        "  #Loss_eq8\n",
        "  Loss_eq8 = lambd_eq8 * eq8_loss(test_au_labels, positive_au_pairs, negative_au_pairs)\n",
        "\n",
        "  #Loss_eq11      \n",
        "  Loss_eq11 = lambda_eq11 * eq11_loss(test_au_labels, x_expr_label, primary_au, others_au)\n",
        "\n",
        "  #Loss_eq15\n",
        "  Loss_eq15 = lambd_eq15 * eq15_loss(test_au_labels, emotion_list, primary_secondary_au_pairs, secondary_others_au_pairs)\n",
        "\n",
        "  #Loss_eq19\n",
        "  Loss_eq19 = lambd_eq19 * eq19_loss(test_au_labels, emotion_list, emfacs_pairs)\n",
        "\n",
        "  main_obj = (clf_loss + Loss_eq8 + Loss_eq11 + Loss_eq13 + Loss_eq15 + Loss_eq19)/M\n",
        "  return main_obj"
      ],
      "execution_count": 21,
      "outputs": []
    },
    {
      "cell_type": "code",
      "metadata": {
        "id": "f9nBe1KkDmWb"
      },
      "source": [
        "#Convert binary AU config array to AU label array\n",
        "def au_label_list(au_list, au_config):\n",
        "  M = len(au_list)\n",
        "  au_labels=[]\n",
        "  for m in range(M):\n",
        "    if au_config[m] == 1:\n",
        "      au_labels.append(au_list[m])\n",
        "  return au_labels\n",
        "\n",
        "#Get all pairs of items from dictionaries in specified order\n",
        "def pairs_from_dictionaries(dict1, dict2, emotion_list):\n",
        "  pairs_dict1_dict2 = {}\n",
        "  for e in emotion_list:\n",
        "    list_of_pairs = []\n",
        "    for x in dict1[e]:\n",
        "      for y in dict2[e]:\n",
        "        list_of_pairs.append([x,y])\n",
        "    pairs_dict1_dict2[e] = list_of_pairs\n",
        "  return pairs_dict1_dict2\n",
        "  \n",
        "#Get expression independent marginal AU probability that is calculated from dataset\n",
        "def get_prob_i(au):\n",
        "  dataset = pd.ExcelFile('/content/Probabilities.xlsx')\n",
        "  probabilities = dataset.parse(0)\n",
        "  probabilities = probabilities.iloc[:,4:]\n",
        "  n_array = probabilities.values\n",
        "\n",
        "  indi_prob_dict = defaultdict()\n",
        "  columns = list(probabilities.columns)\n",
        "  individualProbabilities = np.sum(n_array,axis=0)/309.0\n",
        "  for index,value in enumerate(columns):\n",
        "      indi_prob_dict[value] = individualProbabilities[index]\n",
        "\n",
        "  return indi_prob_dict[au]\n",
        "\n",
        "#Get expression independent marginal AU probability that is calculated from dataset\n",
        "def get_prob_ij(au_pair):\n",
        "  dataset = pd.ExcelFile('/content/Probabilities.xlsx')\n",
        "  probabilities = dataset.parse(0)\n",
        "  probabilities = probabilities.iloc[:,4:]\n",
        "  n_array = probabilities.values\n",
        "  \n",
        "  joint_prob_dict_11 = defaultdict()\n",
        "  columns = list(probabilities.columns)\n",
        "  for cols in itertools.combinations(range(18),2):\n",
        "      temp = n_array[:,cols]\n",
        "      (x,y) = columns[cols[0]],columns[cols[1]]\n",
        "      #print(temp),.\n",
        "      temp_11 = temp[ (temp[:,0]==1) & (temp[:,1]==1)]\n",
        "      joint_prob_dict_11[(x,y)] = temp_11.shape[0]/309.0\n",
        "  return joint_prob_dict_11[au_pair]\n",
        "\n",
        "#Get expression dependent marginal AU probability that is calculated from dataset\n",
        "def get_prob_i_under_k(au, emotion):\n",
        "  dataset = pd.ExcelFile('/content/Probabilities.xlsx')\n",
        "  probabilities = dataset.parse(0)\n",
        "  probabilities = probabilities.iloc[:,3:]\n",
        "  n_array = probabilities.values\n",
        "  columns = list(probabilities.columns)[1:]\n",
        "\n",
        "  expressions = ['disgust','surprise','anger','happiness','sadness','fear']\n",
        "  primary_aus = {'disgust':[9,10],'surprise':[1,2,5,25,26],'anger':[4,5,23,24],'happiness':[6,12],'sadness':[1,7,15],'fear':[1,2,4,5,7,20]}\n",
        "  secondary_aus = {'disgust':[17,25],'surprise':[16],'anger':[7,17],'happiness':[7,25],'sadness':[4,6,17],'fear':[23,25]}\n",
        "  nested_dict = lambda: defaultdict(nested_dict)\n",
        "  master_aus_prob = nested_dict()\n",
        "  for i in expressions:\n",
        "      temp_expr = probabilities[(probabilities['Expressions']==i)]\n",
        "      temp_aus = temp_expr.iloc[:,1:].values\n",
        "      for j in columns:\n",
        "          index_au = columns.index(j)\n",
        "          master_aus_prob[i][j] = np.sum(temp_aus[:,index_au],axis=0)/float(temp_aus.shape[0])\n",
        "  return master_aus_prob[emotion][au]\n",
        "\n",
        "#Get expression dependent joint AU probability that is calculated from dataset\n",
        "def get_prob_ij_under_k(au_pair, emotion):\n",
        "  dataset = pd.ExcelFile('/content/Probabilities.xlsx')\n",
        "  probabilities = dataset.parse(0)\n",
        "  probabilities_expressions = probabilities.iloc[:,3:]\n",
        "  n_array = probabilities.values\n",
        "  n_array_expr = probabilities_expressions.values\n",
        "  columns = list(probabilities.columns)[4:]\n",
        "\n",
        "  #dependent_aus = {'anger':[(4,5),(4,7),(4,5,7),(17,24),(23,)],'disgust':[(9,),(10,)],'fear':[(1,2,4),(20,)],'happiness':[(12,),(6,12),(7,12)],'sadness':[(1,),(1,4),(15,),(6,15)],'surprise':[(1,2,5),(1,2,26),(1,2,5,26)]}\n",
        "  dependent_aus = {'anger':[(4,5),(4,7),(17,24)],'disgust':[],'fear':[(1,2), (1,4), (2,4)],'happiness':[(6,12),(7,12)],'sadness':[(1,4), (6,15)],'surprise':[(1,2), (1,5), (2,5), (2,26), (1,26), (1,5), (5,26)]}\n",
        "  nested_dict = lambda: defaultdict(nested_dict)\n",
        "  dependent_aus_prob = nested_dict()\n",
        "  for i in dependent_aus:\n",
        "      temp_expr = probabilities_expressions[(probabilities_expressions['Expressions']==i)]\n",
        "      temp_aus = temp_expr.iloc[:,1:].values\n",
        "      for j in dependent_aus[i]:\n",
        "          j1 = [columns.index(x) for x in j]\n",
        "          temp = temp_aus[:,j1]\n",
        "          dependent_aus_prob[i][j] = temp.tolist().count([1]*temp.shape[1])/float(temp_aus.shape[0])\n",
        "  return dependent_aus_prob[emotion][au_pair]"
      ],
      "execution_count": 22,
      "outputs": []
    },
    {
      "cell_type": "code",
      "metadata": {
        "id": "stzOxvZlVwOr"
      },
      "source": [
        "import itertools"
      ],
      "execution_count": 23,
      "outputs": []
    },
    {
      "cell_type": "code",
      "metadata": {
        "colab": {
          "base_uri": "https://localhost:8080/"
        },
        "id": "lVdXH1AqEJV0",
        "outputId": "a491a74e-9b80-4bf8-eecd-8fd7c3f13dfc"
      },
      "source": [
        "#AU list considered in our solution derived from table2 - 17 AUs\n",
        "au_list = [1,2,4,5,6,7,9,10,12,15,16,17,20,23,24,25,26,27]\n",
        "#au_list = [1,2,4,5,6,7,9,12,15,17,20,23,24,26]\n",
        "#au_list = [1,2,4,6,7,9,12,15,17,23,24]\n",
        "# au_list = [1,2,4,6,7]\n",
        "emotion_list = [\"anger\",\"disgust\",\"fear\",\"happiness\",\"sadness\",\"surprise\"]\n",
        "primary_au = {\n",
        "              \"anger\": [4,5,23,24],\n",
        "              \"disgust\": [9,10],\n",
        "              \"fear\": [1,2,4,5,7,20],\n",
        "              \"happiness\": [6,12],\n",
        "              \"sadness\": [1,7,15],\n",
        "              \"surprise\": [1,2,5,25,26]\n",
        "              }\n",
        "secondary_au = {\n",
        "              \"anger\": [7,17],\n",
        "              \"disgust\": [17,25],\n",
        "              \"fear\": [23,25],\n",
        "              \"happiness\": [7,25],\n",
        "              \"sadness\": [4,6,17],\n",
        "              \"surprise\": [16]\n",
        "}\n",
        "others_au = {\n",
        "              \"anger\": [1, 2, 6, 9, 10, 12, 15, 16, 20, 25, 26],\n",
        "              \"disgust\": [1, 2, 4, 5, 6, 7, 12, 15, 16, 20, 23, 24, 26],\n",
        "              \"fear\": [6, 9, 10, 12, 15, 16, 17, 24, 26],\n",
        "              \"happiness\": [1, 2, 4, 5, 9, 10, 15, 16, 17, 20, 23, 24, 26],\n",
        "              \"sadness\": [2, 5, 9, 10, 12, 16, 20, 23, 24, 25, 26],\n",
        "              \"surprise\": [4, 6, 7, 9, 10, 12, 15, 17, 20, 23, 24]\n",
        "}\n",
        "\n",
        "#Expression independent FACS encoded AU pairs\n",
        "positive_au_pairs = [(1,2), (4,7) , (4,9), (7,9), (6,12), (9,17), (15,17), (15,24), (17,24), (23,24)]\n",
        "negative_au_pairs = [(2,6), (2,7), (12,15), (12,17)]\n",
        "\n",
        "#derived from emfacs table4 - pairing two-wise\n",
        "emfacs_pairs = {\n",
        "          \"anger\": [(4,5), (4,7), (17,24)],\n",
        "          \"disgust\": [],\n",
        "          \"fear\": [(1,2), (1,4), (2,4)],\n",
        "          \"happiness\": [(6,12), (7,12)],\n",
        "          \"sadness\": [(1,4), (6,15)],\n",
        "          \"surprise\": [(1,2), (1,5), (2,5), (2,26), (1,26), (1,5), (5,26)]\n",
        "}\n",
        "\n",
        "#generate list of test AU configs\n",
        "au_test_config_arr = np.array(list(itertools.product([0, 1], repeat=len(au_list))))\n",
        "print(au_test_config_arr.shape)\n",
        "s = np.sum(au_test_config_arr,1)\n",
        "del_list=[]\n",
        "for x in range(s.shape[0]):\n",
        "  if s[x] <= 1:\n",
        "    del_list.append(x)\n",
        "print(del_list)\n",
        "au_test_config_arr = np.delete(au_test_config_arr, del_list, 0)"
      ],
      "execution_count": 24,
      "outputs": [
        {
          "output_type": "stream",
          "text": [
            "(262144, 18)\n",
            "[0, 1, 2, 4, 8, 16, 32, 64, 128, 256, 512, 1024, 2048, 4096, 8192, 16384, 32768, 65536, 131072]\n"
          ],
          "name": "stdout"
        }
      ]
    },
    {
      "cell_type": "code",
      "metadata": {
        "id": "mVY6GwM-WNKd"
      },
      "source": [
        "import pandas as pd\n",
        "import time"
      ],
      "execution_count": 25,
      "outputs": []
    },
    {
      "cell_type": "code",
      "metadata": {
        "id": "xH2HsBaGENOT"
      },
      "source": [
        "#Complete code - run from here\n",
        "main_obj = min_obj = 100000\n",
        "au_list = [1,2,4,5,6,7,9,10,12,15,16,17,20,23,24,25,26,27]\n",
        "# au_list = [1,2,4]\n",
        "\n",
        "def init_y():\n",
        "  #Initialize y from table2\n",
        "  y_new = np.ndarray(shape=(269, len(au_list)), dtype=np.int)\n",
        "  dataset = pd.ExcelFile('/content/Probabilities.xlsx')\n",
        "  probabilities = dataset.parse(0)\n",
        "  temp = probabilities.iloc[:,[4,5,6,7,8,9,10,11,12,13,14,15,16,17,18,19,20,21]]\n",
        "  #temp = probabilities.iloc[:,[4,5,6]]\n",
        "  y_new = temp.values\n",
        "  return y_new\n",
        "\n",
        "def core_algo(y_new, au_list, min_obj):\n",
        "  \n",
        "  #step1 train linear SVM: fix Y, optimize W\n",
        "  print('######core_algo############')\n",
        "  W, X, x_expr = eq21_training(y_new, au_list)\n",
        "  print('###########eq21_training################')\n",
        "  \n",
        "  #step2 greedy algo: fix W, optimize Y\n",
        "  for i in range(X.shape[0]):\n",
        "    x=X[i]\n",
        "    x_expr_label = x_expr[i]\n",
        "    #step4 find best AU config for a sample (tried parallelize but causing issue in numpy array)\n",
        "    y_temp = get_eq22_best_AU_config(au_test_config_arr, x, i, x_expr_label, W, au_list, primary_au, secondary_au, others_au, positive_au_pairs, negative_au_pairs, emotion_list)\n",
        "    print('eq22_config for sample{} is {}'.format(i,y_temp))\n",
        "    #compute eq20_obj for above sample\n",
        "    x_obj = compute_eq20_obj(y_temp, X, W, x_expr_label, y_new[0:269,:], au_list, primary_au, secondary_au, others_au, positive_au_pairs, negative_au_pairs, emotion_list)\n",
        "    print('min_eq20_obj before sample{} is {}'.format(i,min_obj))\n",
        "    print('eq20_obj for sample{} is {}'.format(i,x_obj))\n",
        "    if x_obj < min_obj:\n",
        "      min_obj = x_obj\n",
        "      y_new[i] = y_temp          #replace y[i]\n",
        "\n",
        "  return y_new, min_obj"
      ],
      "execution_count": 26,
      "outputs": []
    },
    {
      "cell_type": "code",
      "metadata": {
        "colab": {
          "base_uri": "https://localhost:8080/",
          "height": 1000
        },
        "id": "AcAqIHIPdTYJ",
        "outputId": "475d6918-519f-4bdb-b869-dd9b49d620cd"
      },
      "source": [
        "if __name__ == \"__main__\":\n",
        "  y_new = init_y()\n",
        "  # print('##')\n",
        "  # print('y_new.shape=', y_new.shape)\n",
        "  # print('au_list', au_list)\n",
        "  # print('au_list.shape', len(au_list))\n",
        "  # print('main_obj', main_obj)\n",
        "\n",
        "  y_new, main_obj = core_algo(y_new, au_list, main_obj)\n",
        "\n",
        "  while (main_obj - min_obj) > 0.001:\n",
        "      y_new, min_obj = core_algo(y_new, au_list, min_obj)\n",
        "      print(main_obj, min_obj)\n",
        "      if min_obj < main_obj:\n",
        "        main_obj = min_obj\n",
        "        min_obj = 0"
      ],
      "execution_count": 27,
      "outputs": [
        {
          "output_type": "stream",
          "text": [
            "\r  0%|          | 0/18 [00:00<?, ?it/s]"
          ],
          "name": "stderr"
        },
        {
          "output_type": "stream",
          "text": [
            "######core_algo############\n",
            "############### start eq21_training ###############\n",
            "y_new (309, 18)\n",
            "au_list 18\n",
            "path =  /content/drive/MyDrive/AIHealthcare/FER/datalab/img/\n",
            "au =  1\n",
            "X_train (309, 96, 96)\n",
            "Y_train (309,)\n"
          ],
          "name": "stdout"
        },
        {
          "output_type": "stream",
          "text": [
            "/usr/local/lib/python3.7/dist-packages/ipykernel_launcher.py:71: UserWarning: This function is deprecated and will be removed in 0.18. Use `skimage.io.load` or `imageio.imread` directly.\n",
            "/usr/local/lib/python3.7/dist-packages/sklearn/svm/_base.py:947: ConvergenceWarning: Liblinear failed to converge, increase the number of iterations.\n",
            "  \"the number of iterations.\", ConvergenceWarning)\n",
            "  6%|▌         | 1/18 [04:11<1:11:15, 251.50s/it]/usr/local/lib/python3.7/dist-packages/ipykernel_launcher.py:71: UserWarning: This function is deprecated and will be removed in 0.18. Use `skimage.io.load` or `imageio.imread` directly.\n"
          ],
          "name": "stderr"
        },
        {
          "output_type": "stream",
          "text": [
            "[[-1.6641248e-05 -1.6641248e-05 -1.6641248e-05 ... -1.6641248e-05\n",
            "  -1.6641248e-05 -1.6641248e-05]]\n",
            "[-1.6641248e-05 -1.6641248e-05 -1.6641248e-05 ... -1.6641248e-05\n",
            " -1.6641248e-05 -1.6641248e-05]\n",
            "*************AU1 Classifier*************\n",
            "Pred: [0 0 0 0 1 1 0 1 1 0 0 0 0 0 1 0 0 0 0 1 0 1 0 0 1 0 1 0 0 0 0 0 0 1 1 0 1\n",
            " 1 0]\n",
            "Test: [1 0 0 1 0 1 0 0 0 0 1 0 1 1 0 0 1 1 0 1 1 0 1 0 1 1 0 1 0 1 0 1 1 1 0 1 1\n",
            " 0 1]\n",
            "AU1 classifier co-eficients: (1, 9216)\n",
            "Classification report for classifier LinearSVC(C=1.0, class_weight=None, dual=True, fit_intercept=True,\n",
            "          intercept_scaling=1, loss='squared_hinge', max_iter=1000,\n",
            "          multi_class='ovr', penalty='l2', random_state=0, tol=0.0001,\n",
            "          verbose=0),               precision    recall  f1-score   support\n",
            "\n",
            "           0       0.38      0.56      0.45        18\n",
            "           1       0.38      0.24      0.29        21\n",
            "\n",
            "    accuracy                           0.38        39\n",
            "   macro avg       0.38      0.40      0.37        39\n",
            "weighted avg       0.38      0.38      0.37        39\n",
            "\n",
            "Confusion matrix:\n",
            "[[10  8]\n",
            " [16  5]]\n",
            "251.49589228630066\n",
            "path =  /content/drive/MyDrive/AIHealthcare/FER/datalab/img/\n",
            "au =  2\n",
            "X_train (309, 96, 96)\n",
            "Y_train (309,)\n"
          ],
          "name": "stdout"
        },
        {
          "output_type": "stream",
          "text": [
            "/usr/local/lib/python3.7/dist-packages/sklearn/svm/_base.py:947: ConvergenceWarning: Liblinear failed to converge, increase the number of iterations.\n",
            "  \"the number of iterations.\", ConvergenceWarning)\n",
            "\r 11%|█         | 2/18 [05:10<51:38, 193.64s/it]  /usr/local/lib/python3.7/dist-packages/ipykernel_launcher.py:71: UserWarning: This function is deprecated and will be removed in 0.18. Use `skimage.io.load` or `imageio.imread` directly.\n"
          ],
          "name": "stderr"
        },
        {
          "output_type": "stream",
          "text": [
            "[[-1.71343004e-05 -1.71343004e-05 -1.71343004e-05 ... -1.71343004e-05\n",
            "  -1.71343004e-05 -1.71343004e-05]]\n",
            "[-1.71343004e-05 -1.71343004e-05 -1.71343004e-05 ... -1.71343004e-05\n",
            " -1.71343004e-05 -1.71343004e-05]\n",
            "*************AU2 Classifier*************\n",
            "Pred: [0 1 0 0 0 0 0 0 0 0 0 0 0 0 0 0 0 0 0 0 0 0 0 0 1 0 0 0 0 1 0 0 1 1 0 0 1\n",
            " 0 0]\n",
            "Test: [1 0 0 0 0 0 0 0 0 0 0 0 0 0 0 0 0 0 0 1 0 0 0 0 1 0 0 1 0 0 0 1 0 0 0 1 0\n",
            " 0 1]\n",
            "AU2 classifier co-eficients: (1, 9216)\n",
            "Classification report for classifier LinearSVC(C=1.0, class_weight=None, dual=True, fit_intercept=True,\n",
            "          intercept_scaling=1, loss='squared_hinge', max_iter=1000,\n",
            "          multi_class='ovr', penalty='l2', random_state=0, tol=0.0001,\n",
            "          verbose=0),               precision    recall  f1-score   support\n",
            "\n",
            "           0       0.82      0.84      0.83        32\n",
            "           1       0.17      0.14      0.15         7\n",
            "\n",
            "    accuracy                           0.72        39\n",
            "   macro avg       0.49      0.49      0.49        39\n",
            "weighted avg       0.70      0.72      0.71        39\n",
            "\n",
            "Confusion matrix:\n",
            "[[27  5]\n",
            " [ 6  1]]\n",
            "58.652466773986816\n",
            "path =  /content/drive/MyDrive/AIHealthcare/FER/datalab/img/\n",
            "au =  4\n",
            "X_train (309, 96, 96)\n",
            "Y_train (309,)\n"
          ],
          "name": "stdout"
        },
        {
          "output_type": "stream",
          "text": [
            "/usr/local/lib/python3.7/dist-packages/sklearn/svm/_base.py:947: ConvergenceWarning: Liblinear failed to converge, increase the number of iterations.\n",
            "  \"the number of iterations.\", ConvergenceWarning)\n",
            "\r 17%|█▋        | 3/18 [06:10<38:22, 153.52s/it]/usr/local/lib/python3.7/dist-packages/ipykernel_launcher.py:71: UserWarning: This function is deprecated and will be removed in 0.18. Use `skimage.io.load` or `imageio.imread` directly.\n"
          ],
          "name": "stderr"
        },
        {
          "output_type": "stream",
          "text": [
            "[[1.2647862e-05 1.2647862e-05 1.2647862e-05 ... 1.2647862e-05\n",
            "  1.2647862e-05 1.2647862e-05]]\n",
            "[1.2647862e-05 1.2647862e-05 1.2647862e-05 ... 1.2647862e-05 1.2647862e-05\n",
            " 1.2647862e-05]\n",
            "*************AU4 Classifier*************\n",
            "Pred: [0 1 0 1 1 0 1 0 1 0 1 1 0 0 1 1 0 0 1 1 1 0 0 0 0 0 1 0 0 0 1 0 0 1 1 0 0\n",
            " 1 0]\n",
            "Test: [1 0 0 1 1 1 0 1 0 0 1 0 1 1 1 0 1 1 0 1 1 0 1 1 1 1 1 1 1 1 1 1 1 1 1 1 1\n",
            " 1 1]\n",
            "AU4 classifier co-eficients: (1, 9216)\n",
            "Classification report for classifier LinearSVC(C=1.0, class_weight=None, dual=True, fit_intercept=True,\n",
            "          intercept_scaling=1, loss='squared_hinge', max_iter=1000,\n",
            "          multi_class='ovr', penalty='l2', random_state=0, tol=0.0001,\n",
            "          verbose=0),               precision    recall  f1-score   support\n",
            "\n",
            "           0       0.14      0.33      0.19         9\n",
            "           1       0.65      0.37      0.47        30\n",
            "\n",
            "    accuracy                           0.36        39\n",
            "   macro avg       0.39      0.35      0.33        39\n",
            "weighted avg       0.53      0.36      0.40        39\n",
            "\n",
            "Confusion matrix:\n",
            "[[ 3  6]\n",
            " [19 11]]\n",
            "59.904826402664185\n",
            "path =  /content/drive/MyDrive/AIHealthcare/FER/datalab/img/\n",
            "au =  5\n",
            "X_train (309, 96, 96)\n",
            "Y_train (309,)\n"
          ],
          "name": "stdout"
        },
        {
          "output_type": "stream",
          "text": [
            "/usr/local/lib/python3.7/dist-packages/sklearn/svm/_base.py:947: ConvergenceWarning: Liblinear failed to converge, increase the number of iterations.\n",
            "  \"the number of iterations.\", ConvergenceWarning)\n",
            "\r 22%|██▏       | 4/18 [07:09<29:15, 125.39s/it]/usr/local/lib/python3.7/dist-packages/ipykernel_launcher.py:71: UserWarning: This function is deprecated and will be removed in 0.18. Use `skimage.io.load` or `imageio.imread` directly.\n"
          ],
          "name": "stderr"
        },
        {
          "output_type": "stream",
          "text": [
            "[[-5.89996218e-06 -5.89996218e-06 -5.89996218e-06 ... -5.89996218e-06\n",
            "  -5.89996218e-06 -5.89996218e-06]]\n",
            "[-5.89996218e-06 -5.89996218e-06 -5.89996218e-06 ... -5.89996218e-06\n",
            " -5.89996218e-06 -5.89996218e-06]\n",
            "*************AU5 Classifier*************\n",
            "Pred: [0 1 0 0 0 1 0 0 1 0 0 0 0 0 0 0 1 0 1 0 1 0 0 0 1 0 1 0 0 0 1 0 1 1 1 1 1\n",
            " 0 0]\n",
            "Test: [1 0 0 1 1 1 0 1 0 0 1 0 1 0 1 0 1 0 0 1 1 0 0 1 1 0 1 1 1 0 1 1 0 0 1 1 0\n",
            " 1 1]\n",
            "AU5 classifier co-eficients: (1, 9216)\n",
            "Classification report for classifier LinearSVC(C=1.0, class_weight=None, dual=True, fit_intercept=True,\n",
            "          intercept_scaling=1, loss='squared_hinge', max_iter=1000,\n",
            "          multi_class='ovr', penalty='l2', random_state=0, tol=0.0001,\n",
            "          verbose=0),               precision    recall  f1-score   support\n",
            "\n",
            "           0       0.44      0.65      0.52        17\n",
            "           1       0.57      0.36      0.44        22\n",
            "\n",
            "    accuracy                           0.49        39\n",
            "   macro avg       0.51      0.51      0.48        39\n",
            "weighted avg       0.51      0.49      0.48        39\n",
            "\n",
            "Confusion matrix:\n",
            "[[11  6]\n",
            " [14  8]]\n",
            "59.74453949928284\n",
            "path =  /content/drive/MyDrive/AIHealthcare/FER/datalab/img/\n",
            "au =  6\n",
            "X_train (309, 96, 96)\n",
            "Y_train (309,)\n"
          ],
          "name": "stdout"
        },
        {
          "output_type": "stream",
          "text": [
            "/usr/local/lib/python3.7/dist-packages/sklearn/svm/_base.py:947: ConvergenceWarning: Liblinear failed to converge, increase the number of iterations.\n",
            "  \"the number of iterations.\", ConvergenceWarning)\n",
            "\r 28%|██▊       | 5/18 [08:09<22:55, 105.80s/it]/usr/local/lib/python3.7/dist-packages/ipykernel_launcher.py:71: UserWarning: This function is deprecated and will be removed in 0.18. Use `skimage.io.load` or `imageio.imread` directly.\n"
          ],
          "name": "stderr"
        },
        {
          "output_type": "stream",
          "text": [
            "[[3.4862286e-06 3.4862286e-06 3.4862286e-06 ... 3.4862286e-06\n",
            "  3.4862286e-06 3.4862286e-06]]\n",
            "[3.4862286e-06 3.4862286e-06 3.4862286e-06 ... 3.4862286e-06 3.4862286e-06\n",
            " 3.4862286e-06]\n",
            "*************AU6 Classifier*************\n",
            "Pred: [1 0 1 0 0 0 0 0 0 0 1 0 1 0 0 0 0 0 1 0 0 1 0 0 0 0 0 1 0 0 0 1 0 0 0 0 0\n",
            " 0 0]\n",
            "Test: [0 0 1 0 0 0 1 0 1 0 0 1 0 1 0 1 0 1 1 0 0 1 1 0 0 1 0 0 0 1 0 0 1 1 0 0 1\n",
            " 0 0]\n",
            "AU6 classifier co-eficients: (1, 9216)\n",
            "Classification report for classifier LinearSVC(C=1.0, class_weight=None, dual=True, fit_intercept=True,\n",
            "          intercept_scaling=1, loss='squared_hinge', max_iter=1000,\n",
            "          multi_class='ovr', penalty='l2', random_state=0, tol=0.0001,\n",
            "          verbose=0),               precision    recall  f1-score   support\n",
            "\n",
            "           0       0.61      0.79      0.69        24\n",
            "           1       0.38      0.20      0.26        15\n",
            "\n",
            "    accuracy                           0.56        39\n",
            "   macro avg       0.49      0.50      0.48        39\n",
            "weighted avg       0.52      0.56      0.53        39\n",
            "\n",
            "Confusion matrix:\n",
            "[[19  5]\n",
            " [12  3]]\n",
            "60.0791711807251\n",
            "path =  /content/drive/MyDrive/AIHealthcare/FER/datalab/img/\n",
            "au =  7\n",
            "X_train (309, 96, 96)\n",
            "Y_train (309,)\n"
          ],
          "name": "stdout"
        },
        {
          "output_type": "stream",
          "text": [
            "/usr/local/lib/python3.7/dist-packages/sklearn/svm/_base.py:947: ConvergenceWarning: Liblinear failed to converge, increase the number of iterations.\n",
            "  \"the number of iterations.\", ConvergenceWarning)\n",
            "\r 33%|███▎      | 6/18 [09:10<18:25, 92.10s/it] /usr/local/lib/python3.7/dist-packages/ipykernel_launcher.py:71: UserWarning: This function is deprecated and will be removed in 0.18. Use `skimage.io.load` or `imageio.imread` directly.\n"
          ],
          "name": "stderr"
        },
        {
          "output_type": "stream",
          "text": [
            "[[2.19672848e-05 2.19672848e-05 2.19672848e-05 ... 2.19672848e-05\n",
            "  2.19672848e-05 2.19672848e-05]]\n",
            "[2.19672848e-05 2.19672848e-05 2.19672848e-05 ... 2.19672848e-05\n",
            " 2.19672848e-05 2.19672848e-05]\n",
            "*************AU7 Classifier*************\n",
            "Pred: [1 1 1 1 0 0 0 0 0 1 0 1 1 0 0 0 0 0 1 0 1 1 1 0 0 0 0 0 0 0 1 1 0 0 0 0 0\n",
            " 0 1]\n",
            "Test: [1 0 1 0 1 0 1 1 1 0 0 1 0 1 1 1 0 1 1 1 0 1 1 1 1 1 1 1 1 1 1 1 1 1 1 1 1\n",
            " 1 1]\n",
            "AU7 classifier co-eficients: (1, 9216)\n",
            "Classification report for classifier LinearSVC(C=1.0, class_weight=None, dual=True, fit_intercept=True,\n",
            "          intercept_scaling=1, loss='squared_hinge', max_iter=1000,\n",
            "          multi_class='ovr', penalty='l2', random_state=0, tol=0.0001,\n",
            "          verbose=0),               precision    recall  f1-score   support\n",
            "\n",
            "           0       0.12      0.38      0.18         8\n",
            "           1       0.64      0.29      0.40        31\n",
            "\n",
            "    accuracy                           0.31        39\n",
            "   macro avg       0.38      0.33      0.29        39\n",
            "weighted avg       0.54      0.31      0.36        39\n",
            "\n",
            "Confusion matrix:\n",
            "[[ 3  5]\n",
            " [22  9]]\n",
            "60.13269019126892\n",
            "path =  /content/drive/MyDrive/AIHealthcare/FER/datalab/img/\n",
            "au =  9\n",
            "X_train (309, 96, 96)\n",
            "Y_train (309,)\n"
          ],
          "name": "stdout"
        },
        {
          "output_type": "stream",
          "text": [
            "/usr/local/lib/python3.7/dist-packages/sklearn/svm/_base.py:947: ConvergenceWarning: Liblinear failed to converge, increase the number of iterations.\n",
            "  \"the number of iterations.\", ConvergenceWarning)\n",
            "\r 39%|███▉      | 7/18 [10:09<15:06, 82.38s/it]/usr/local/lib/python3.7/dist-packages/ipykernel_launcher.py:71: UserWarning: This function is deprecated and will be removed in 0.18. Use `skimage.io.load` or `imageio.imread` directly.\n"
          ],
          "name": "stderr"
        },
        {
          "output_type": "stream",
          "text": [
            "[[-8.98578664e-06 -8.98578664e-06 -8.98578664e-06 ... -8.98578664e-06\n",
            "  -8.98578664e-06 -8.98578664e-06]]\n",
            "[-8.98578664e-06 -8.98578664e-06 -8.98578664e-06 ... -8.98578664e-06\n",
            " -8.98578664e-06 -8.98578664e-06]\n",
            "*************AU9 Classifier*************\n",
            "Pred: [0 0 0 0 0 0 0 0 0 0 1 0 0 0 0 0 0 0 0 0 0 0 1 1 0 1 0 0 1 0 0 0 0 0 0 0 0\n",
            " 0 0]\n",
            "Test: [0 1 0 0 0 0 0 0 0 1 0 0 0 0 0 0 0 0 0 0 0 0 0 0 0 0 0 0 0 0 0 0 0 0 0 0 0\n",
            " 0 0]\n",
            "AU9 classifier co-eficients: (1, 9216)\n",
            "Classification report for classifier LinearSVC(C=1.0, class_weight=None, dual=True, fit_intercept=True,\n",
            "          intercept_scaling=1, loss='squared_hinge', max_iter=1000,\n",
            "          multi_class='ovr', penalty='l2', random_state=0, tol=0.0001,\n",
            "          verbose=0),               precision    recall  f1-score   support\n",
            "\n",
            "           0       0.94      0.86      0.90        37\n",
            "           1       0.00      0.00      0.00         2\n",
            "\n",
            "    accuracy                           0.82        39\n",
            "   macro avg       0.47      0.43      0.45        39\n",
            "weighted avg       0.89      0.82      0.86        39\n",
            "\n",
            "Confusion matrix:\n",
            "[[32  5]\n",
            " [ 2  0]]\n",
            "59.67813324928284\n",
            "path =  /content/drive/MyDrive/AIHealthcare/FER/datalab/img/\n",
            "au =  10\n",
            "X_train (309, 96, 96)\n",
            "Y_train (309,)\n"
          ],
          "name": "stdout"
        },
        {
          "output_type": "stream",
          "text": [
            "/usr/local/lib/python3.7/dist-packages/sklearn/svm/_base.py:947: ConvergenceWarning: Liblinear failed to converge, increase the number of iterations.\n",
            "  \"the number of iterations.\", ConvergenceWarning)\n",
            "\r 44%|████▍     | 8/18 [11:08<12:33, 75.35s/it]"
          ],
          "name": "stderr"
        },
        {
          "output_type": "stream",
          "text": [
            "[[-2.0519852e-05 -2.0519852e-05 -2.0519852e-05 ... -2.0519852e-05\n",
            "  -2.0519852e-05 -2.0519852e-05]]\n",
            "[-2.0519852e-05 -2.0519852e-05 -2.0519852e-05 ... -2.0519852e-05\n",
            " -2.0519852e-05 -2.0519852e-05]\n",
            "*************AU10 Classifier*************\n",
            "Pred: [0 0 0 1 0 0 0 0 0 0 0 0 0 0 0 0 0 0 0 0 0 0 0 0 0 0 0 0 1 0 0 0 0 0 0 0 0\n",
            " 0 0]\n",
            "Test: [0 1 0 0 0 0 0 0 0 1 0 0 0 0 0 0 0 0 0 0 0 0 0 0 0 0 0 0 0 0 0 0 0 0 0 0 0\n",
            " 0 0]\n",
            "AU10 classifier co-eficients: (1, 9216)\n",
            "Classification report for classifier LinearSVC(C=1.0, class_weight=None, dual=True, fit_intercept=True,\n",
            "          intercept_scaling=1, loss='squared_hinge', max_iter=1000,\n",
            "          multi_class='ovr', penalty='l2', random_state=0, tol=0.0001,\n",
            "          verbose=0),               precision    recall  f1-score   support\n",
            "\n",
            "           0       0.95      0.95      0.95        37\n",
            "           1       0.00      0.00      0.00         2\n",
            "\n",
            "    accuracy                           0.90        39\n",
            "   macro avg       0.47      0.47      0.47        39\n",
            "weighted avg       0.90      0.90      0.90        39\n",
            "\n",
            "Confusion matrix:\n",
            "[[35  2]\n",
            " [ 2  0]]\n",
            "58.95224380493164\n",
            "path =  /content/drive/MyDrive/AIHealthcare/FER/datalab/img/\n",
            "au =  12\n",
            "X_train (309, 96, 96)\n",
            "Y_train (309,)\n"
          ],
          "name": "stdout"
        },
        {
          "output_type": "stream",
          "text": [
            "/usr/local/lib/python3.7/dist-packages/ipykernel_launcher.py:71: UserWarning: This function is deprecated and will be removed in 0.18. Use `skimage.io.load` or `imageio.imread` directly.\n",
            "/usr/local/lib/python3.7/dist-packages/sklearn/svm/_base.py:947: ConvergenceWarning: Liblinear failed to converge, increase the number of iterations.\n",
            "  \"the number of iterations.\", ConvergenceWarning)\n",
            " 50%|█████     | 9/18 [12:08<10:36, 70.69s/it]/usr/local/lib/python3.7/dist-packages/ipykernel_launcher.py:71: UserWarning: This function is deprecated and will be removed in 0.18. Use `skimage.io.load` or `imageio.imread` directly.\n"
          ],
          "name": "stderr"
        },
        {
          "output_type": "stream",
          "text": [
            "[[1.81886401e-06 1.81886401e-06 1.81886401e-06 ... 1.81886401e-06\n",
            "  1.81886401e-06 1.81886401e-06]]\n",
            "[1.81886401e-06 1.81886401e-06 1.81886401e-06 ... 1.81886401e-06\n",
            " 1.81886401e-06 1.81886401e-06]\n",
            "*************AU12 Classifier*************\n",
            "Pred: [0 0 0 0 0 0 0 0 0 0 0 0 0 0 0 0 0 0 0 0 1 0 0 0 0 0 0 1 0 0 0 0 0 0 0 0 0\n",
            " 0 0]\n",
            "Test: [0 0 1 0 0 0 1 0 1 0 0 1 0 0 0 1 0 0 1 0 0 1 0 0 0 0 0 0 0 0 0 0 0 0 0 0 0\n",
            " 0 0]\n",
            "AU12 classifier co-eficients: (1, 9216)\n",
            "Classification report for classifier LinearSVC(C=1.0, class_weight=None, dual=True, fit_intercept=True,\n",
            "          intercept_scaling=1, loss='squared_hinge', max_iter=1000,\n",
            "          multi_class='ovr', penalty='l2', random_state=0, tol=0.0001,\n",
            "          verbose=0),               precision    recall  f1-score   support\n",
            "\n",
            "           0       0.81      0.94      0.87        32\n",
            "           1       0.00      0.00      0.00         7\n",
            "\n",
            "    accuracy                           0.77        39\n",
            "   macro avg       0.41      0.47      0.43        39\n",
            "weighted avg       0.67      0.77      0.71        39\n",
            "\n",
            "Confusion matrix:\n",
            "[[30  2]\n",
            " [ 7  0]]\n",
            "59.82161211967468\n",
            "path =  /content/drive/MyDrive/AIHealthcare/FER/datalab/img/\n",
            "au =  15\n",
            "X_train (309, 96, 96)\n",
            "Y_train (309,)\n"
          ],
          "name": "stdout"
        },
        {
          "output_type": "stream",
          "text": [
            "/usr/local/lib/python3.7/dist-packages/sklearn/svm/_base.py:947: ConvergenceWarning: Liblinear failed to converge, increase the number of iterations.\n",
            "  \"the number of iterations.\", ConvergenceWarning)\n",
            "\r 56%|█████▌    | 10/18 [13:06<08:53, 66.75s/it]/usr/local/lib/python3.7/dist-packages/ipykernel_launcher.py:71: UserWarning: This function is deprecated and will be removed in 0.18. Use `skimage.io.load` or `imageio.imread` directly.\n"
          ],
          "name": "stderr"
        },
        {
          "output_type": "stream",
          "text": [
            "[[-1.17364035e-05 -1.17364035e-05 -1.17364035e-05 ... -1.17364035e-05\n",
            "  -1.17364035e-05 -1.17364035e-05]]\n",
            "[-1.17364035e-05 -1.17364035e-05 -1.17364035e-05 ... -1.17364035e-05\n",
            " -1.17364035e-05 -1.17364035e-05]\n",
            "*************AU15 Classifier*************\n",
            "Pred: [0 0 0 0 0 0 0 0 0 0 0 0 0 0 0 0 0 0 0 0 0 1 0 0 0 0 0 0 0 0 0 0 0 0 0 0 0\n",
            " 0 0]\n",
            "Test: [0 0 0 0 0 0 0 0 0 0 0 0 0 1 0 0 0 1 0 0 0 0 1 0 0 1 0 0 0 1 0 0 1 1 0 0 1\n",
            " 0 0]\n",
            "AU15 classifier co-eficients: (1, 9216)\n",
            "Classification report for classifier LinearSVC(C=1.0, class_weight=None, dual=True, fit_intercept=True,\n",
            "          intercept_scaling=1, loss='squared_hinge', max_iter=1000,\n",
            "          multi_class='ovr', penalty='l2', random_state=0, tol=0.0001,\n",
            "          verbose=0),               precision    recall  f1-score   support\n",
            "\n",
            "           0       0.79      0.97      0.87        31\n",
            "           1       0.00      0.00      0.00         8\n",
            "\n",
            "    accuracy                           0.77        39\n",
            "   macro avg       0.39      0.48      0.43        39\n",
            "weighted avg       0.63      0.77      0.69        39\n",
            "\n",
            "Confusion matrix:\n",
            "[[30  1]\n",
            " [ 8  0]]\n",
            "57.54231095314026\n",
            "path =  /content/drive/MyDrive/AIHealthcare/FER/datalab/img/\n",
            "au =  16\n",
            "X_train (309, 96, 96)\n",
            "Y_train (309,)\n"
          ],
          "name": "stdout"
        },
        {
          "output_type": "stream",
          "text": [
            "/usr/local/lib/python3.7/dist-packages/sklearn/svm/_base.py:947: ConvergenceWarning: Liblinear failed to converge, increase the number of iterations.\n",
            "  \"the number of iterations.\", ConvergenceWarning)\n",
            "\r 61%|██████    | 11/18 [14:05<07:31, 64.47s/it]/usr/local/lib/python3.7/dist-packages/ipykernel_launcher.py:71: UserWarning: This function is deprecated and will be removed in 0.18. Use `skimage.io.load` or `imageio.imread` directly.\n"
          ],
          "name": "stderr"
        },
        {
          "output_type": "stream",
          "text": [
            "[[-1.69955842e-05 -1.69955842e-05 -1.69955842e-05 ... -1.69955842e-05\n",
            "  -1.69955842e-05 -1.69955842e-05]]\n",
            "[-1.69955842e-05 -1.69955842e-05 -1.69955842e-05 ... -1.69955842e-05\n",
            " -1.69955842e-05 -1.69955842e-05]\n",
            "*************AU16 Classifier*************\n",
            "Pred: [0 0 0 0 0 0 0 0 0 0 0 0 0 0 1 0 0 0 0 0 0 0 0 0 0 0 0 0 0 0 0 0 0 0 1 0 0\n",
            " 0 0]\n",
            "Test: [0 0 0 1 0 1 0 0 0 0 1 0 1 0 0 0 1 0 0 0 1 0 0 0 0 0 0 0 0 0 0 0 0 0 0 0 0\n",
            " 0 0]\n",
            "AU16 classifier co-eficients: (1, 9216)\n",
            "Classification report for classifier LinearSVC(C=1.0, class_weight=None, dual=True, fit_intercept=True,\n",
            "          intercept_scaling=1, loss='squared_hinge', max_iter=1000,\n",
            "          multi_class='ovr', penalty='l2', random_state=0, tol=0.0001,\n",
            "          verbose=0),               precision    recall  f1-score   support\n",
            "\n",
            "           0       0.84      0.94      0.89        33\n",
            "           1       0.00      0.00      0.00         6\n",
            "\n",
            "    accuracy                           0.79        39\n",
            "   macro avg       0.42      0.47      0.44        39\n",
            "weighted avg       0.71      0.79      0.75        39\n",
            "\n",
            "Confusion matrix:\n",
            "[[31  2]\n",
            " [ 6  0]]\n",
            "59.15282964706421\n",
            "path =  /content/drive/MyDrive/AIHealthcare/FER/datalab/img/\n",
            "au =  17\n",
            "X_train (309, 96, 96)\n",
            "Y_train (309,)\n"
          ],
          "name": "stdout"
        },
        {
          "output_type": "stream",
          "text": [
            "/usr/local/lib/python3.7/dist-packages/sklearn/svm/_base.py:947: ConvergenceWarning: Liblinear failed to converge, increase the number of iterations.\n",
            "  \"the number of iterations.\", ConvergenceWarning)\n",
            "\r 67%|██████▋   | 12/18 [15:05<06:19, 63.21s/it]/usr/local/lib/python3.7/dist-packages/ipykernel_launcher.py:71: UserWarning: This function is deprecated and will be removed in 0.18. Use `skimage.io.load` or `imageio.imread` directly.\n"
          ],
          "name": "stderr"
        },
        {
          "output_type": "stream",
          "text": [
            "[[1.41320587e-06 1.41320587e-06 1.41320587e-06 ... 1.41320587e-06\n",
            "  1.41320587e-06 1.41320587e-06]]\n",
            "[1.41320587e-06 1.41320587e-06 1.41320587e-06 ... 1.41320587e-06\n",
            " 1.41320587e-06 1.41320587e-06]\n",
            "*************AU17 Classifier*************\n",
            "Pred: [0 0 1 1 0 1 1 0 1 1 0 1 0 0 1 0 0 0 0 0 0 0 1 1 0 1 1 0 1 0 1 0 0 0 0 0 0\n",
            " 0 0]\n",
            "Test: [0 1 0 0 1 0 0 1 0 1 0 0 0 1 1 0 0 1 0 0 0 0 1 1 0 1 1 0 1 1 1 0 1 1 1 0 1\n",
            " 1 0]\n",
            "AU17 classifier co-eficients: (1, 9216)\n",
            "Classification report for classifier LinearSVC(C=1.0, class_weight=None, dual=True, fit_intercept=True,\n",
            "          intercept_scaling=1, loss='squared_hinge', max_iter=1000,\n",
            "          multi_class='ovr', penalty='l2', random_state=0, tol=0.0001,\n",
            "          verbose=0),               precision    recall  f1-score   support\n",
            "\n",
            "           0       0.56      0.70      0.62        20\n",
            "           1       0.57      0.42      0.48        19\n",
            "\n",
            "    accuracy                           0.56        39\n",
            "   macro avg       0.57      0.56      0.55        39\n",
            "weighted avg       0.57      0.56      0.56        39\n",
            "\n",
            "Confusion matrix:\n",
            "[[14  6]\n",
            " [11  8]]\n",
            "60.264984130859375\n",
            "path =  /content/drive/MyDrive/AIHealthcare/FER/datalab/img/\n",
            "au =  20\n",
            "X_train (309, 96, 96)\n",
            "Y_train (309,)\n"
          ],
          "name": "stdout"
        },
        {
          "output_type": "stream",
          "text": [
            "/usr/local/lib/python3.7/dist-packages/sklearn/svm/_base.py:947: ConvergenceWarning: Liblinear failed to converge, increase the number of iterations.\n",
            "  \"the number of iterations.\", ConvergenceWarning)\n",
            "/usr/local/lib/python3.7/dist-packages/sklearn/metrics/_classification.py:1272: UndefinedMetricWarning: Precision and F-score are ill-defined and being set to 0.0 in labels with no predicted samples. Use `zero_division` parameter to control this behavior.\n",
            "  _warn_prf(average, modifier, msg_start, len(result))\n",
            "\r 72%|███████▏  | 13/18 [16:02<05:06, 61.27s/it]"
          ],
          "name": "stderr"
        },
        {
          "output_type": "stream",
          "text": [
            "[[-2.24985681e-06 -2.24985681e-06 -2.24985681e-06 ... -2.24985681e-06\n",
            "  -2.24985681e-06 -2.24985681e-06]]\n",
            "[-2.24985681e-06 -2.24985681e-06 -2.24985681e-06 ... -2.24985681e-06\n",
            " -2.24985681e-06 -2.24985681e-06]\n",
            "*************AU20 Classifier*************\n",
            "Pred: [0 0 0 0 0 0 0 0 0 0 0 0 0 0 0 0 0 0 0 0 0 0 0 0 0 0 0 0 0 0 0 0 0 0 0 0 0\n",
            " 0 0]\n",
            "Test: [1 0 0 0 0 0 0 0 0 0 0 0 0 0 0 0 0 0 0 1 0 0 0 0 1 0 0 1 0 0 0 1 0 0 0 1 0\n",
            " 0 1]\n",
            "AU20 classifier co-eficients: (1, 9216)\n",
            "Classification report for classifier LinearSVC(C=1.0, class_weight=None, dual=True, fit_intercept=True,\n",
            "          intercept_scaling=1, loss='squared_hinge', max_iter=1000,\n",
            "          multi_class='ovr', penalty='l2', random_state=0, tol=0.0001,\n",
            "          verbose=0),               precision    recall  f1-score   support\n",
            "\n",
            "           0       0.82      1.00      0.90        32\n",
            "           1       0.00      0.00      0.00         7\n",
            "\n",
            "    accuracy                           0.82        39\n",
            "   macro avg       0.41      0.50      0.45        39\n",
            "weighted avg       0.67      0.82      0.74        39\n",
            "\n",
            "Confusion matrix:\n",
            "[[32  0]\n",
            " [ 7  0]]\n",
            "56.75456762313843\n",
            "path =  /content/drive/MyDrive/AIHealthcare/FER/datalab/img/\n",
            "au =  23\n",
            "X_train (309, 96, 96)\n",
            "Y_train (309,)\n"
          ],
          "name": "stdout"
        },
        {
          "output_type": "stream",
          "text": [
            "/usr/local/lib/python3.7/dist-packages/ipykernel_launcher.py:71: UserWarning: This function is deprecated and will be removed in 0.18. Use `skimage.io.load` or `imageio.imread` directly.\n",
            "/usr/local/lib/python3.7/dist-packages/sklearn/svm/_base.py:947: ConvergenceWarning: Liblinear failed to converge, increase the number of iterations.\n",
            "  \"the number of iterations.\", ConvergenceWarning)\n",
            " 78%|███████▊  | 14/18 [17:01<04:02, 60.64s/it]/usr/local/lib/python3.7/dist-packages/ipykernel_launcher.py:71: UserWarning: This function is deprecated and will be removed in 0.18. Use `skimage.io.load` or `imageio.imread` directly.\n"
          ],
          "name": "stderr"
        },
        {
          "output_type": "stream",
          "text": [
            "[[1.17673336e-06 1.17673336e-06 1.17673336e-06 ... 1.17673336e-06\n",
            "  1.17673336e-06 1.17673336e-06]]\n",
            "[1.17673336e-06 1.17673336e-06 1.17673336e-06 ... 1.17673336e-06\n",
            " 1.17673336e-06 1.17673336e-06]\n",
            "*************AU23 Classifier*************\n",
            "Pred: [0 0 0 0 0 0 0 0 0 0 0 1 0 0 0 0 0 0 0 0 1 0 0 0 0 0 0 0 0 0 0 0 0 0 0 0 0\n",
            " 0 0]\n",
            "Test: [1 0 0 0 1 0 0 1 0 0 0 0 0 0 1 0 0 0 0 1 0 0 0 1 1 0 1 1 1 0 1 1 0 0 1 1 0\n",
            " 1 1]\n",
            "AU23 classifier co-eficients: (1, 9216)\n",
            "Classification report for classifier LinearSVC(C=1.0, class_weight=None, dual=True, fit_intercept=True,\n",
            "          intercept_scaling=1, loss='squared_hinge', max_iter=1000,\n",
            "          multi_class='ovr', penalty='l2', random_state=0, tol=0.0001,\n",
            "          verbose=0),               precision    recall  f1-score   support\n",
            "\n",
            "           0       0.57      0.91      0.70        23\n",
            "           1       0.00      0.00      0.00        16\n",
            "\n",
            "    accuracy                           0.54        39\n",
            "   macro avg       0.28      0.46      0.35        39\n",
            "weighted avg       0.33      0.54      0.41        39\n",
            "\n",
            "Confusion matrix:\n",
            "[[21  2]\n",
            " [16  0]]\n",
            "59.17401432991028\n",
            "path =  /content/drive/MyDrive/AIHealthcare/FER/datalab/img/\n",
            "au =  24\n",
            "X_train (309, 96, 96)\n",
            "Y_train (309,)\n"
          ],
          "name": "stdout"
        },
        {
          "output_type": "stream",
          "text": [
            "/usr/local/lib/python3.7/dist-packages/sklearn/svm/_base.py:947: ConvergenceWarning: Liblinear failed to converge, increase the number of iterations.\n",
            "  \"the number of iterations.\", ConvergenceWarning)\n",
            "/usr/local/lib/python3.7/dist-packages/sklearn/metrics/_classification.py:1272: UndefinedMetricWarning: Precision and F-score are ill-defined and being set to 0.0 in labels with no predicted samples. Use `zero_division` parameter to control this behavior.\n",
            "  _warn_prf(average, modifier, msg_start, len(result))\n",
            "\r 83%|████████▎ | 15/18 [17:59<02:59, 59.83s/it]/usr/local/lib/python3.7/dist-packages/ipykernel_launcher.py:71: UserWarning: This function is deprecated and will be removed in 0.18. Use `skimage.io.load` or `imageio.imread` directly.\n"
          ],
          "name": "stderr"
        },
        {
          "output_type": "stream",
          "text": [
            "[[8.5943275e-06 8.5943275e-06 8.5943275e-06 ... 8.5943275e-06\n",
            "  8.5943275e-06 8.5943275e-06]]\n",
            "[8.5943275e-06 8.5943275e-06 8.5943275e-06 ... 8.5943275e-06 8.5943275e-06\n",
            " 8.5943275e-06]\n",
            "*************AU24 Classifier*************\n",
            "Pred: [0 0 0 0 0 0 0 0 0 0 0 0 0 0 0 0 0 0 0 0 0 0 0 0 0 0 0 0 0 0 0 0 0 0 0 0 0\n",
            " 0 0]\n",
            "Test: [0 0 0 0 1 0 0 1 0 0 0 0 0 0 1 0 0 0 0 0 0 0 0 1 0 0 1 0 1 0 1 0 0 0 1 0 0\n",
            " 1 0]\n",
            "AU24 classifier co-eficients: (1, 9216)\n",
            "Classification report for classifier LinearSVC(C=1.0, class_weight=None, dual=True, fit_intercept=True,\n",
            "          intercept_scaling=1, loss='squared_hinge', max_iter=1000,\n",
            "          multi_class='ovr', penalty='l2', random_state=0, tol=0.0001,\n",
            "          verbose=0),               precision    recall  f1-score   support\n",
            "\n",
            "           0       0.77      1.00      0.87        30\n",
            "           1       0.00      0.00      0.00         9\n",
            "\n",
            "    accuracy                           0.77        39\n",
            "   macro avg       0.38      0.50      0.43        39\n",
            "weighted avg       0.59      0.77      0.67        39\n",
            "\n",
            "Confusion matrix:\n",
            "[[30  0]\n",
            " [ 9  0]]\n",
            "57.93951773643494\n",
            "path =  /content/drive/MyDrive/AIHealthcare/FER/datalab/img/\n",
            "au =  25\n",
            "X_train (309, 96, 96)\n",
            "Y_train (309,)\n"
          ],
          "name": "stdout"
        },
        {
          "output_type": "stream",
          "text": [
            "/usr/local/lib/python3.7/dist-packages/sklearn/svm/_base.py:947: ConvergenceWarning: Liblinear failed to converge, increase the number of iterations.\n",
            "  \"the number of iterations.\", ConvergenceWarning)\n",
            "\r 89%|████████▉ | 16/18 [18:58<01:59, 59.56s/it]/usr/local/lib/python3.7/dist-packages/ipykernel_launcher.py:71: UserWarning: This function is deprecated and will be removed in 0.18. Use `skimage.io.load` or `imageio.imread` directly.\n"
          ],
          "name": "stderr"
        },
        {
          "output_type": "stream",
          "text": [
            "[[2.1869379e-06 2.1869379e-06 2.1869379e-06 ... 2.1869379e-06\n",
            "  2.1869379e-06 2.1869379e-06]]\n",
            "[2.1869379e-06 2.1869379e-06 2.1869379e-06 ... 2.1869379e-06 2.1869379e-06\n",
            " 2.1869379e-06]\n",
            "*************AU25 Classifier*************\n",
            "Pred: [1 1 1 1 1 1 0 1 1 1 1 0 1 1 0 1 1 1 1 1 1 1 0 1 1 1 0 1 1 1 0 1 1 1 1 1 1\n",
            " 1 1]\n",
            "Test: [1 1 1 1 0 1 1 0 1 1 1 1 1 0 0 1 1 0 1 1 1 1 0 0 1 0 0 1 0 0 0 1 0 0 0 1 0\n",
            " 0 1]\n",
            "AU25 classifier co-eficients: (1, 9216)\n",
            "Classification report for classifier LinearSVC(C=1.0, class_weight=None, dual=True, fit_intercept=True,\n",
            "          intercept_scaling=1, loss='squared_hinge', max_iter=1000,\n",
            "          multi_class='ovr', penalty='l2', random_state=0, tol=0.0001,\n",
            "          verbose=0),               precision    recall  f1-score   support\n",
            "\n",
            "           0       0.67      0.24      0.35        17\n",
            "           1       0.61      0.91      0.73        22\n",
            "\n",
            "    accuracy                           0.62        39\n",
            "   macro avg       0.64      0.57      0.54        39\n",
            "weighted avg       0.63      0.62      0.56        39\n",
            "\n",
            "Confusion matrix:\n",
            "[[ 4 13]\n",
            " [ 2 20]]\n",
            "58.92992925643921\n",
            "path =  /content/drive/MyDrive/AIHealthcare/FER/datalab/img/\n",
            "au =  26\n",
            "X_train (309, 96, 96)\n",
            "Y_train (309,)\n"
          ],
          "name": "stdout"
        },
        {
          "output_type": "stream",
          "text": [
            "/usr/local/lib/python3.7/dist-packages/sklearn/svm/_base.py:947: ConvergenceWarning: Liblinear failed to converge, increase the number of iterations.\n",
            "  \"the number of iterations.\", ConvergenceWarning)\n",
            "\r 94%|█████████▍| 17/18 [19:56<00:59, 59.29s/it]/usr/local/lib/python3.7/dist-packages/ipykernel_launcher.py:71: UserWarning: This function is deprecated and will be removed in 0.18. Use `skimage.io.load` or `imageio.imread` directly.\n"
          ],
          "name": "stderr"
        },
        {
          "output_type": "stream",
          "text": [
            "[[-9.29197747e-06 -9.29197747e-06 -9.29197747e-06 ... -9.29197747e-06\n",
            "  -9.29197747e-06 -9.29197747e-06]]\n",
            "[-9.29197747e-06 -9.29197747e-06 -9.29197747e-06 ... -9.29197747e-06\n",
            " -9.29197747e-06 -9.29197747e-06]\n",
            "*************AU26 Classifier*************\n",
            "Pred: [0 0 0 0 0 0 0 0 0 0 0 0 0 0 1 0 0 0 0 1 0 0 0 0 0 0 0 0 0 0 0 0 0 0 1 0 0\n",
            " 0 0]\n",
            "Test: [0 0 0 1 0 1 0 0 0 0 1 0 1 0 0 0 1 0 0 0 1 0 0 0 0 0 0 0 0 0 0 0 0 0 0 0 0\n",
            " 0 0]\n",
            "AU26 classifier co-eficients: (1, 9216)\n",
            "Classification report for classifier LinearSVC(C=1.0, class_weight=None, dual=True, fit_intercept=True,\n",
            "          intercept_scaling=1, loss='squared_hinge', max_iter=1000,\n",
            "          multi_class='ovr', penalty='l2', random_state=0, tol=0.0001,\n",
            "          verbose=0),               precision    recall  f1-score   support\n",
            "\n",
            "           0       0.83      0.91      0.87        33\n",
            "           1       0.00      0.00      0.00         6\n",
            "\n",
            "    accuracy                           0.77        39\n",
            "   macro avg       0.42      0.45      0.43        39\n",
            "weighted avg       0.71      0.77      0.74        39\n",
            "\n",
            "Confusion matrix:\n",
            "[[30  3]\n",
            " [ 6  0]]\n",
            "58.66024398803711\n",
            "path =  /content/drive/MyDrive/AIHealthcare/FER/datalab/img/\n",
            "au =  27\n",
            "X_train (309, 96, 96)\n",
            "Y_train (309,)\n"
          ],
          "name": "stdout"
        },
        {
          "output_type": "stream",
          "text": [
            "/usr/local/lib/python3.7/dist-packages/sklearn/svm/_base.py:947: ConvergenceWarning: Liblinear failed to converge, increase the number of iterations.\n",
            "  \"the number of iterations.\", ConvergenceWarning)\n",
            "/usr/local/lib/python3.7/dist-packages/sklearn/metrics/_classification.py:1272: UndefinedMetricWarning: Recall and F-score are ill-defined and being set to 0.0 in labels with no true samples. Use `zero_division` parameter to control this behavior.\n",
            "  _warn_prf(average, modifier, msg_start, len(result))\n",
            "100%|██████████| 18/18 [20:54<00:00, 69.67s/it]\n"
          ],
          "name": "stderr"
        },
        {
          "output_type": "stream",
          "text": [
            "[[-1.59656043e-05 -1.59656043e-05 -1.59656043e-05 ... -1.59656043e-05\n",
            "  -1.59656043e-05 -1.59656043e-05]]\n",
            "[-1.59656043e-05 -1.59656043e-05 -1.59656043e-05 ... -1.59656043e-05\n",
            " -1.59656043e-05 -1.59656043e-05]\n",
            "*************AU27 Classifier*************\n",
            "Pred: [0 0 0 0 0 0 0 0 0 0 0 0 0 0 0 0 0 0 0 0 0 0 0 0 1 0 0 0 0 1 0 0 1 0 0 0 1\n",
            " 0 0]\n",
            "Test: [0 0 0 0 0 0 0 0 0 0 0 0 0 0 0 0 0 0 0 0 0 0 0 0 0 0 0 0 0 0 0 0 0 0 0 0 0\n",
            " 0 0]\n",
            "AU27 classifier co-eficients: (1, 9216)\n",
            "Classification report for classifier LinearSVC(C=1.0, class_weight=None, dual=True, fit_intercept=True,\n",
            "          intercept_scaling=1, loss='squared_hinge', max_iter=1000,\n",
            "          multi_class='ovr', penalty='l2', random_state=0, tol=0.0001,\n",
            "          verbose=0),               precision    recall  f1-score   support\n",
            "\n",
            "           0       1.00      0.90      0.95        39\n",
            "           1       0.00      0.00      0.00         0\n",
            "\n",
            "    accuracy                           0.90        39\n",
            "   macro avg       0.50      0.45      0.47        39\n",
            "weighted avg       1.00      0.90      0.95        39\n",
            "\n",
            "Confusion matrix:\n",
            "[[35  4]\n",
            " [ 0  0]]\n",
            "57.09011793136597\n",
            "###########eq21_training################\n"
          ],
          "name": "stdout"
        },
        {
          "output_type": "error",
          "ename": "NameError",
          "evalue": "ignored",
          "traceback": [
            "\u001b[0;31m---------------------------------------------------------------------------\u001b[0m",
            "\u001b[0;31mNameError\u001b[0m                                 Traceback (most recent call last)",
            "\u001b[0;32m<ipython-input-27-8d72c8b0d1e9>\u001b[0m in \u001b[0;36m<module>\u001b[0;34m()\u001b[0m\n\u001b[1;32m      7\u001b[0m   \u001b[0;31m# print('main_obj', main_obj)\u001b[0m\u001b[0;34m\u001b[0m\u001b[0;34m\u001b[0m\u001b[0;34m\u001b[0m\u001b[0m\n\u001b[1;32m      8\u001b[0m \u001b[0;34m\u001b[0m\u001b[0m\n\u001b[0;32m----> 9\u001b[0;31m   \u001b[0my_new\u001b[0m\u001b[0;34m,\u001b[0m \u001b[0mmain_obj\u001b[0m \u001b[0;34m=\u001b[0m \u001b[0mcore_algo\u001b[0m\u001b[0;34m(\u001b[0m\u001b[0my_new\u001b[0m\u001b[0;34m,\u001b[0m \u001b[0mau_list\u001b[0m\u001b[0;34m,\u001b[0m \u001b[0mmain_obj\u001b[0m\u001b[0;34m)\u001b[0m\u001b[0;34m\u001b[0m\u001b[0;34m\u001b[0m\u001b[0m\n\u001b[0m\u001b[1;32m     10\u001b[0m \u001b[0;34m\u001b[0m\u001b[0m\n\u001b[1;32m     11\u001b[0m   \u001b[0;32mwhile\u001b[0m \u001b[0;34m(\u001b[0m\u001b[0mmain_obj\u001b[0m \u001b[0;34m-\u001b[0m \u001b[0mmin_obj\u001b[0m\u001b[0;34m)\u001b[0m \u001b[0;34m>\u001b[0m \u001b[0;36m0.001\u001b[0m\u001b[0;34m:\u001b[0m\u001b[0;34m\u001b[0m\u001b[0;34m\u001b[0m\u001b[0m\n",
            "\u001b[0;32m<ipython-input-26-7fdf1bc2e0c9>\u001b[0m in \u001b[0;36mcore_algo\u001b[0;34m(y_new, au_list, min_obj)\u001b[0m\n\u001b[1;32m     26\u001b[0m     \u001b[0mx_expr_label\u001b[0m \u001b[0;34m=\u001b[0m \u001b[0mx_expr\u001b[0m\u001b[0;34m[\u001b[0m\u001b[0mi\u001b[0m\u001b[0;34m]\u001b[0m\u001b[0;34m\u001b[0m\u001b[0;34m\u001b[0m\u001b[0m\n\u001b[1;32m     27\u001b[0m     \u001b[0;31m#step4 find best AU config for a sample (tried parallelize but causing issue in numpy array)\u001b[0m\u001b[0;34m\u001b[0m\u001b[0;34m\u001b[0m\u001b[0;34m\u001b[0m\u001b[0m\n\u001b[0;32m---> 28\u001b[0;31m     \u001b[0my_temp\u001b[0m \u001b[0;34m=\u001b[0m \u001b[0mget_eq22_best_AU_config\u001b[0m\u001b[0;34m(\u001b[0m\u001b[0mau_test_config_arr\u001b[0m\u001b[0;34m,\u001b[0m \u001b[0mx\u001b[0m\u001b[0;34m,\u001b[0m \u001b[0mi\u001b[0m\u001b[0;34m,\u001b[0m \u001b[0mx_expr_label\u001b[0m\u001b[0;34m,\u001b[0m \u001b[0mW\u001b[0m\u001b[0;34m,\u001b[0m \u001b[0mau_list\u001b[0m\u001b[0;34m,\u001b[0m \u001b[0mprimary_au\u001b[0m\u001b[0;34m,\u001b[0m \u001b[0msecondary_au\u001b[0m\u001b[0;34m,\u001b[0m \u001b[0mothers_au\u001b[0m\u001b[0;34m,\u001b[0m \u001b[0mpositive_au_pairs\u001b[0m\u001b[0;34m,\u001b[0m \u001b[0mnegative_au_pairs\u001b[0m\u001b[0;34m,\u001b[0m \u001b[0memotion_list\u001b[0m\u001b[0;34m)\u001b[0m\u001b[0;34m\u001b[0m\u001b[0;34m\u001b[0m\u001b[0m\n\u001b[0m\u001b[1;32m     29\u001b[0m     \u001b[0mprint\u001b[0m\u001b[0;34m(\u001b[0m\u001b[0;34m'eq22_config for sample{} is {}'\u001b[0m\u001b[0;34m.\u001b[0m\u001b[0mformat\u001b[0m\u001b[0;34m(\u001b[0m\u001b[0mi\u001b[0m\u001b[0;34m,\u001b[0m\u001b[0my_temp\u001b[0m\u001b[0;34m)\u001b[0m\u001b[0;34m)\u001b[0m\u001b[0;34m\u001b[0m\u001b[0;34m\u001b[0m\u001b[0m\n\u001b[1;32m     30\u001b[0m     \u001b[0;31m#compute eq20_obj for above sample\u001b[0m\u001b[0;34m\u001b[0m\u001b[0;34m\u001b[0m\u001b[0;34m\u001b[0m\u001b[0m\n",
            "\u001b[0;32m<ipython-input-21-61f617187d49>\u001b[0m in \u001b[0;36mget_eq22_best_AU_config\u001b[0;34m(au_test_config_arr, x, sample_no, x_expr_label, W, au_list, primary_au, secondary_au, others_au, positive_au_pairs, negative_au_pairs, emotion_list)\u001b[0m\n\u001b[1;32m    143\u001b[0m   \u001b[0;32mfor\u001b[0m \u001b[0mtest_au_config\u001b[0m \u001b[0;32min\u001b[0m \u001b[0mau_test_config_arr\u001b[0m\u001b[0;34m:\u001b[0m\u001b[0;34m\u001b[0m\u001b[0;34m\u001b[0m\u001b[0m\n\u001b[1;32m    144\u001b[0m     \u001b[0mtick\u001b[0m\u001b[0;34m=\u001b[0m\u001b[0mtime\u001b[0m\u001b[0;34m.\u001b[0m\u001b[0mtime\u001b[0m\u001b[0;34m(\u001b[0m\u001b[0;34m)\u001b[0m\u001b[0;34m\u001b[0m\u001b[0;34m\u001b[0m\u001b[0m\n\u001b[0;32m--> 145\u001b[0;31m     \u001b[0mx_loss\u001b[0m \u001b[0;34m=\u001b[0m \u001b[0meq22_loss\u001b[0m\u001b[0;34m(\u001b[0m\u001b[0mtest_au_config\u001b[0m\u001b[0;34m,\u001b[0m \u001b[0mx\u001b[0m\u001b[0;34m,\u001b[0m \u001b[0mW\u001b[0m\u001b[0;34m,\u001b[0m \u001b[0mx_expr_label\u001b[0m\u001b[0;34m,\u001b[0m \u001b[0mau_list\u001b[0m\u001b[0;34m,\u001b[0m \u001b[0mprimary_au\u001b[0m\u001b[0;34m,\u001b[0m \u001b[0msecondary_au\u001b[0m\u001b[0;34m,\u001b[0m \u001b[0mothers_au\u001b[0m\u001b[0;34m,\u001b[0m \u001b[0mpositive_au_pairs\u001b[0m\u001b[0;34m,\u001b[0m \u001b[0mnegative_au_pairs\u001b[0m\u001b[0;34m,\u001b[0m \u001b[0memotion_list\u001b[0m\u001b[0;34m)\u001b[0m\u001b[0;34m\u001b[0m\u001b[0;34m\u001b[0m\u001b[0m\n\u001b[0m\u001b[1;32m    146\u001b[0m     \u001b[0;32mif\u001b[0m \u001b[0mmin_loss\u001b[0m \u001b[0;34m==\u001b[0m \u001b[0;32mNone\u001b[0m\u001b[0;34m:\u001b[0m\u001b[0;34m\u001b[0m\u001b[0;34m\u001b[0m\u001b[0m\n\u001b[1;32m    147\u001b[0m       \u001b[0mmin_loss\u001b[0m \u001b[0;34m=\u001b[0m \u001b[0mx_loss\u001b[0m\u001b[0;34m\u001b[0m\u001b[0;34m\u001b[0m\u001b[0m\n",
            "\u001b[0;32m<ipython-input-21-61f617187d49>\u001b[0m in \u001b[0;36meq22_loss\u001b[0;34m(test_au_config, x, W, x_expr_label, au_list, primary_au, secondary_au, others_au, positive_au_pairs, negative_au_pairs, emotion_list)\u001b[0m\n\u001b[1;32m    126\u001b[0m \u001b[0;34m\u001b[0m\u001b[0m\n\u001b[1;32m    127\u001b[0m   \u001b[0;31m#Loss_eq11\u001b[0m\u001b[0;34m\u001b[0m\u001b[0;34m\u001b[0m\u001b[0;34m\u001b[0m\u001b[0m\n\u001b[0;32m--> 128\u001b[0;31m   \u001b[0mLoss_eq11\u001b[0m \u001b[0;34m=\u001b[0m \u001b[0mlambda_eq11\u001b[0m \u001b[0;34m*\u001b[0m \u001b[0meq11_loss\u001b[0m\u001b[0;34m(\u001b[0m\u001b[0mtest_au_labels\u001b[0m\u001b[0;34m,\u001b[0m \u001b[0mx_expr_label\u001b[0m\u001b[0;34m,\u001b[0m \u001b[0mprimary_au\u001b[0m\u001b[0;34m,\u001b[0m \u001b[0mothers_au\u001b[0m\u001b[0;34m)\u001b[0m\u001b[0;34m\u001b[0m\u001b[0;34m\u001b[0m\u001b[0m\n\u001b[0m\u001b[1;32m    129\u001b[0m \u001b[0;34m\u001b[0m\u001b[0m\n\u001b[1;32m    130\u001b[0m   \u001b[0;31m#Loss_eq15\u001b[0m\u001b[0;34m\u001b[0m\u001b[0;34m\u001b[0m\u001b[0;34m\u001b[0m\u001b[0m\n",
            "\u001b[0;32m<ipython-input-21-61f617187d49>\u001b[0m in \u001b[0;36meq11_loss\u001b[0;34m(test_au_labels, x_expr_label, primary_au, others_au)\u001b[0m\n\u001b[1;32m     31\u001b[0m   \u001b[0;32mfor\u001b[0m \u001b[0mpr_au\u001b[0m \u001b[0;32min\u001b[0m \u001b[0mprimary_au\u001b[0m\u001b[0;34m[\u001b[0m\u001b[0mx_expr_label\u001b[0m\u001b[0;34m]\u001b[0m\u001b[0;34m:\u001b[0m\u001b[0;34m\u001b[0m\u001b[0;34m\u001b[0m\u001b[0m\n\u001b[1;32m     32\u001b[0m     \u001b[0;32mif\u001b[0m \u001b[0mpr_au\u001b[0m \u001b[0;32mnot\u001b[0m \u001b[0;32min\u001b[0m \u001b[0mtest_au_labels\u001b[0m\u001b[0;34m:\u001b[0m\u001b[0;34m\u001b[0m\u001b[0;34m\u001b[0m\u001b[0m\n\u001b[0;32m---> 33\u001b[0;31m       \u001b[0mprob_i_k\u001b[0m \u001b[0;34m=\u001b[0m \u001b[0mget_prob_i_under_k\u001b[0m\u001b[0;34m(\u001b[0m\u001b[0mpr_au\u001b[0m\u001b[0;34m,\u001b[0m \u001b[0mx_expr_label\u001b[0m\u001b[0;34m)\u001b[0m\u001b[0;34m\u001b[0m\u001b[0;34m\u001b[0m\u001b[0m\n\u001b[0m\u001b[1;32m     34\u001b[0m       \u001b[0mloss\u001b[0m \u001b[0;34m+=\u001b[0m \u001b[0mmax\u001b[0m\u001b[0;34m(\u001b[0m\u001b[0;36m0\u001b[0m\u001b[0;34m,\u001b[0m\u001b[0;34m(\u001b[0m\u001b[0;36m0.5\u001b[0m \u001b[0;34m-\u001b[0m \u001b[0mprob_i_k\u001b[0m\u001b[0;34m)\u001b[0m\u001b[0;34m)\u001b[0m\u001b[0;34m\u001b[0m\u001b[0;34m\u001b[0m\u001b[0m\n\u001b[1;32m     35\u001b[0m   \u001b[0;32mfor\u001b[0m \u001b[0mot_au\u001b[0m \u001b[0;32min\u001b[0m \u001b[0mothers_au\u001b[0m\u001b[0;34m[\u001b[0m\u001b[0mx_expr_label\u001b[0m\u001b[0;34m]\u001b[0m\u001b[0;34m:\u001b[0m\u001b[0;34m\u001b[0m\u001b[0;34m\u001b[0m\u001b[0m\n",
            "\u001b[0;32m<ipython-input-22-810d2aefccc6>\u001b[0m in \u001b[0;36mget_prob_i_under_k\u001b[0;34m(au, emotion)\u001b[0m\n\u001b[1;32m     63\u001b[0m   \u001b[0msecondary_aus\u001b[0m \u001b[0;34m=\u001b[0m \u001b[0;34m{\u001b[0m\u001b[0;34m'disgust'\u001b[0m\u001b[0;34m:\u001b[0m\u001b[0;34m[\u001b[0m\u001b[0;36m17\u001b[0m\u001b[0;34m,\u001b[0m\u001b[0;36m25\u001b[0m\u001b[0;34m]\u001b[0m\u001b[0;34m,\u001b[0m\u001b[0;34m'surprise'\u001b[0m\u001b[0;34m:\u001b[0m\u001b[0;34m[\u001b[0m\u001b[0;36m16\u001b[0m\u001b[0;34m]\u001b[0m\u001b[0;34m,\u001b[0m\u001b[0;34m'anger'\u001b[0m\u001b[0;34m:\u001b[0m\u001b[0;34m[\u001b[0m\u001b[0;36m7\u001b[0m\u001b[0;34m,\u001b[0m\u001b[0;36m17\u001b[0m\u001b[0;34m]\u001b[0m\u001b[0;34m,\u001b[0m\u001b[0;34m'happiness'\u001b[0m\u001b[0;34m:\u001b[0m\u001b[0;34m[\u001b[0m\u001b[0;36m7\u001b[0m\u001b[0;34m,\u001b[0m\u001b[0;36m25\u001b[0m\u001b[0;34m]\u001b[0m\u001b[0;34m,\u001b[0m\u001b[0;34m'sadness'\u001b[0m\u001b[0;34m:\u001b[0m\u001b[0;34m[\u001b[0m\u001b[0;36m4\u001b[0m\u001b[0;34m,\u001b[0m\u001b[0;36m6\u001b[0m\u001b[0;34m,\u001b[0m\u001b[0;36m17\u001b[0m\u001b[0;34m]\u001b[0m\u001b[0;34m,\u001b[0m\u001b[0;34m'fear'\u001b[0m\u001b[0;34m:\u001b[0m\u001b[0;34m[\u001b[0m\u001b[0;36m23\u001b[0m\u001b[0;34m,\u001b[0m\u001b[0;36m25\u001b[0m\u001b[0;34m]\u001b[0m\u001b[0;34m}\u001b[0m\u001b[0;34m\u001b[0m\u001b[0;34m\u001b[0m\u001b[0m\n\u001b[1;32m     64\u001b[0m   \u001b[0mnested_dict\u001b[0m \u001b[0;34m=\u001b[0m \u001b[0;32mlambda\u001b[0m\u001b[0;34m:\u001b[0m \u001b[0mdefaultdict\u001b[0m\u001b[0;34m(\u001b[0m\u001b[0mnested_dict\u001b[0m\u001b[0;34m)\u001b[0m\u001b[0;34m\u001b[0m\u001b[0;34m\u001b[0m\u001b[0m\n\u001b[0;32m---> 65\u001b[0;31m   \u001b[0mmaster_aus_prob\u001b[0m \u001b[0;34m=\u001b[0m \u001b[0mnested_dict\u001b[0m\u001b[0;34m(\u001b[0m\u001b[0;34m)\u001b[0m\u001b[0;34m\u001b[0m\u001b[0;34m\u001b[0m\u001b[0m\n\u001b[0m\u001b[1;32m     66\u001b[0m   \u001b[0;32mfor\u001b[0m \u001b[0mi\u001b[0m \u001b[0;32min\u001b[0m \u001b[0mexpressions\u001b[0m\u001b[0;34m:\u001b[0m\u001b[0;34m\u001b[0m\u001b[0;34m\u001b[0m\u001b[0m\n\u001b[1;32m     67\u001b[0m       \u001b[0mtemp_expr\u001b[0m \u001b[0;34m=\u001b[0m \u001b[0mprobabilities\u001b[0m\u001b[0;34m[\u001b[0m\u001b[0;34m(\u001b[0m\u001b[0mprobabilities\u001b[0m\u001b[0;34m[\u001b[0m\u001b[0;34m'Expressions'\u001b[0m\u001b[0;34m]\u001b[0m\u001b[0;34m==\u001b[0m\u001b[0mi\u001b[0m\u001b[0;34m)\u001b[0m\u001b[0;34m]\u001b[0m\u001b[0;34m\u001b[0m\u001b[0;34m\u001b[0m\u001b[0m\n",
            "\u001b[0;32m<ipython-input-22-810d2aefccc6>\u001b[0m in \u001b[0;36m<lambda>\u001b[0;34m()\u001b[0m\n\u001b[1;32m     62\u001b[0m   \u001b[0mprimary_aus\u001b[0m \u001b[0;34m=\u001b[0m \u001b[0;34m{\u001b[0m\u001b[0;34m'disgust'\u001b[0m\u001b[0;34m:\u001b[0m\u001b[0;34m[\u001b[0m\u001b[0;36m9\u001b[0m\u001b[0;34m,\u001b[0m\u001b[0;36m10\u001b[0m\u001b[0;34m]\u001b[0m\u001b[0;34m,\u001b[0m\u001b[0;34m'surprise'\u001b[0m\u001b[0;34m:\u001b[0m\u001b[0;34m[\u001b[0m\u001b[0;36m1\u001b[0m\u001b[0;34m,\u001b[0m\u001b[0;36m2\u001b[0m\u001b[0;34m,\u001b[0m\u001b[0;36m5\u001b[0m\u001b[0;34m,\u001b[0m\u001b[0;36m25\u001b[0m\u001b[0;34m,\u001b[0m\u001b[0;36m26\u001b[0m\u001b[0;34m]\u001b[0m\u001b[0;34m,\u001b[0m\u001b[0;34m'anger'\u001b[0m\u001b[0;34m:\u001b[0m\u001b[0;34m[\u001b[0m\u001b[0;36m4\u001b[0m\u001b[0;34m,\u001b[0m\u001b[0;36m5\u001b[0m\u001b[0;34m,\u001b[0m\u001b[0;36m23\u001b[0m\u001b[0;34m,\u001b[0m\u001b[0;36m24\u001b[0m\u001b[0;34m]\u001b[0m\u001b[0;34m,\u001b[0m\u001b[0;34m'happiness'\u001b[0m\u001b[0;34m:\u001b[0m\u001b[0;34m[\u001b[0m\u001b[0;36m6\u001b[0m\u001b[0;34m,\u001b[0m\u001b[0;36m12\u001b[0m\u001b[0;34m]\u001b[0m\u001b[0;34m,\u001b[0m\u001b[0;34m'sadness'\u001b[0m\u001b[0;34m:\u001b[0m\u001b[0;34m[\u001b[0m\u001b[0;36m1\u001b[0m\u001b[0;34m,\u001b[0m\u001b[0;36m7\u001b[0m\u001b[0;34m,\u001b[0m\u001b[0;36m15\u001b[0m\u001b[0;34m]\u001b[0m\u001b[0;34m,\u001b[0m\u001b[0;34m'fear'\u001b[0m\u001b[0;34m:\u001b[0m\u001b[0;34m[\u001b[0m\u001b[0;36m1\u001b[0m\u001b[0;34m,\u001b[0m\u001b[0;36m2\u001b[0m\u001b[0;34m,\u001b[0m\u001b[0;36m4\u001b[0m\u001b[0;34m,\u001b[0m\u001b[0;36m5\u001b[0m\u001b[0;34m,\u001b[0m\u001b[0;36m7\u001b[0m\u001b[0;34m,\u001b[0m\u001b[0;36m20\u001b[0m\u001b[0;34m]\u001b[0m\u001b[0;34m}\u001b[0m\u001b[0;34m\u001b[0m\u001b[0;34m\u001b[0m\u001b[0m\n\u001b[1;32m     63\u001b[0m   \u001b[0msecondary_aus\u001b[0m \u001b[0;34m=\u001b[0m \u001b[0;34m{\u001b[0m\u001b[0;34m'disgust'\u001b[0m\u001b[0;34m:\u001b[0m\u001b[0;34m[\u001b[0m\u001b[0;36m17\u001b[0m\u001b[0;34m,\u001b[0m\u001b[0;36m25\u001b[0m\u001b[0;34m]\u001b[0m\u001b[0;34m,\u001b[0m\u001b[0;34m'surprise'\u001b[0m\u001b[0;34m:\u001b[0m\u001b[0;34m[\u001b[0m\u001b[0;36m16\u001b[0m\u001b[0;34m]\u001b[0m\u001b[0;34m,\u001b[0m\u001b[0;34m'anger'\u001b[0m\u001b[0;34m:\u001b[0m\u001b[0;34m[\u001b[0m\u001b[0;36m7\u001b[0m\u001b[0;34m,\u001b[0m\u001b[0;36m17\u001b[0m\u001b[0;34m]\u001b[0m\u001b[0;34m,\u001b[0m\u001b[0;34m'happiness'\u001b[0m\u001b[0;34m:\u001b[0m\u001b[0;34m[\u001b[0m\u001b[0;36m7\u001b[0m\u001b[0;34m,\u001b[0m\u001b[0;36m25\u001b[0m\u001b[0;34m]\u001b[0m\u001b[0;34m,\u001b[0m\u001b[0;34m'sadness'\u001b[0m\u001b[0;34m:\u001b[0m\u001b[0;34m[\u001b[0m\u001b[0;36m4\u001b[0m\u001b[0;34m,\u001b[0m\u001b[0;36m6\u001b[0m\u001b[0;34m,\u001b[0m\u001b[0;36m17\u001b[0m\u001b[0;34m]\u001b[0m\u001b[0;34m,\u001b[0m\u001b[0;34m'fear'\u001b[0m\u001b[0;34m:\u001b[0m\u001b[0;34m[\u001b[0m\u001b[0;36m23\u001b[0m\u001b[0;34m,\u001b[0m\u001b[0;36m25\u001b[0m\u001b[0;34m]\u001b[0m\u001b[0;34m}\u001b[0m\u001b[0;34m\u001b[0m\u001b[0;34m\u001b[0m\u001b[0m\n\u001b[0;32m---> 64\u001b[0;31m   \u001b[0mnested_dict\u001b[0m \u001b[0;34m=\u001b[0m \u001b[0;32mlambda\u001b[0m\u001b[0;34m:\u001b[0m \u001b[0mdefaultdict\u001b[0m\u001b[0;34m(\u001b[0m\u001b[0mnested_dict\u001b[0m\u001b[0;34m)\u001b[0m\u001b[0;34m\u001b[0m\u001b[0;34m\u001b[0m\u001b[0m\n\u001b[0m\u001b[1;32m     65\u001b[0m   \u001b[0mmaster_aus_prob\u001b[0m \u001b[0;34m=\u001b[0m \u001b[0mnested_dict\u001b[0m\u001b[0;34m(\u001b[0m\u001b[0;34m)\u001b[0m\u001b[0;34m\u001b[0m\u001b[0;34m\u001b[0m\u001b[0m\n\u001b[1;32m     66\u001b[0m   \u001b[0;32mfor\u001b[0m \u001b[0mi\u001b[0m \u001b[0;32min\u001b[0m \u001b[0mexpressions\u001b[0m\u001b[0;34m:\u001b[0m\u001b[0;34m\u001b[0m\u001b[0;34m\u001b[0m\u001b[0m\n",
            "\u001b[0;31mNameError\u001b[0m: name 'defaultdict' is not defined"
          ]
        }
      ]
    },
    {
      "cell_type": "code",
      "metadata": {
        "id": "Zn6HCIUcaTyO"
      },
      "source": [
        ""
      ],
      "execution_count": null,
      "outputs": []
    }
  ]
}