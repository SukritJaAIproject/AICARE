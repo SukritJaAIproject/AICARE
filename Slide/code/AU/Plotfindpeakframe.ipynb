{
  "nbformat": 4,
  "nbformat_minor": 0,
  "metadata": {
    "colab": {
      "name": "Plotfindpeakframe.ipynb",
      "provenance": [],
      "collapsed_sections": []
    },
    "kernelspec": {
      "name": "python3",
      "display_name": "Python 3"
    },
    "language_info": {
      "name": "python"
    }
  },
  "cells": [
    {
      "cell_type": "code",
      "metadata": {
        "id": "4bysocSX5GkQ"
      },
      "source": [
        "import cv2\n",
        "import pandas as pd\n",
        "import numpy as np\n",
        "from tqdm.notebook import tqdm\n",
        "from shutil import copyfile, copy\n",
        "from google.colab.patches import cv2_imshow\n",
        "import plotly.graph_objects as go\n",
        "import numpy as np\n",
        "\n",
        "from google.colab import drive\n",
        "drive.mount('/content/drive')"
      ],
      "execution_count": null,
      "outputs": []
    },
    {
      "cell_type": "code",
      "metadata": {
        "id": "b2PSpQPjuiGS"
      },
      "source": [
        "filepath_au = 'drive/MyDrive/AIHealthcare/AIcare_Phrase1/data/audataset/files/01_002_FAUS_Wachiraya.csv'\n",
        "aulist = ['frame', ' AU01_r', ' AU02_r', ' AU04_r', ' AU05_r', ' AU06_r', ' AU07_r', ' AU09_r', ' AU10_r', ' AU12_r', ' AU14_r', ' AU15_r',' AU17_r', ' AU20_r', ' AU23_r', ' AU25_r', ' AU26_r', ' AU45_r']\n",
        "dfau = pd.read_csv(filepath_au)[aulist]\n",
        "\n",
        "dict_emo = {'angry':[4, 5, 7, 23, 24], 'stress':[1, 17, 25, 26],\n",
        "            'disgust':[9,10, 15, 16], 'fear':[1, 2, 4, 5, 7, 20, 26],\n",
        "            'happy':[6, 7, 12, 25], 'sad':[1, 4, 15],\n",
        "            'surprise':[1, 2, 5, 26], 'contempt':[12, 14], 'relax':[12, 25, 26, 43]}"
      ],
      "execution_count": 54,
      "outputs": []
    },
    {
      "cell_type": "code",
      "metadata": {
        "id": "vC0T9oIw2ItV"
      },
      "source": [
        "# https://plotly.com/python/line-charts/#simple-line-plot-with-plotlyexpress\n",
        "################### Angry ##########################\n",
        "fig = go.Figure()\n",
        "fig.add_trace(go.Scatter(x=dfau['frame'], y=dfau[' AU04_r'], mode='lines', name='AU04_r'))\n",
        "fig.add_trace(go.Scatter(x=dfau['frame'], y=dfau[' AU05_r'], mode='lines', name='AU05_r'))\n",
        "fig.add_trace(go.Scatter(x=dfau['frame'], y=dfau[' AU07_r'], mode='lines', name='AU07_r'))\n",
        "fig.add_trace(go.Scatter(x=dfau['frame'], y=dfau[' AU23_r'], mode='lines', name='AU23_r'))\n",
        "# fig.add_trace(go.Scatter(x=dfau['frame'], y=dfau[' AU24_r'], mode='lines', name='AU24_r'))\n",
        "\n",
        "fig.update_layout(title='Angry',xaxis_title='Frame',yaxis_title='Intensity')\n",
        "fig.show()"
      ],
      "execution_count": null,
      "outputs": []
    },
    {
      "cell_type": "code",
      "metadata": {
        "id": "1zpLAK106DPy"
      },
      "source": [
        "################### stress ##########################\n",
        "fig = go.Figure()\n",
        "fig.add_trace(go.Scatter(x=dfau['frame'], y=dfau[' AU01_r'], mode='lines', name='AU01_r'))\n",
        "fig.add_trace(go.Scatter(x=dfau['frame'], y=dfau[' AU17_r'], mode='lines', name='AU17_r'))\n",
        "fig.add_trace(go.Scatter(x=dfau['frame'], y=dfau[' AU25_r'], mode='lines', name='AU25_r'))\n",
        "fig.add_trace(go.Scatter(x=dfau['frame'], y=dfau[' AU26_r'], mode='lines', name='AU26_r'))\n",
        "\n",
        "fig.update_layout(title='stress',xaxis_title='Frame',yaxis_title='Intensity')\n",
        "fig.show()"
      ],
      "execution_count": null,
      "outputs": []
    },
    {
      "cell_type": "code",
      "metadata": {
        "id": "DzVJMb_nDu0s"
      },
      "source": [
        "################### disgust ##########################\n",
        "fig = go.Figure()\n",
        "fig.add_trace(go.Scatter(x=dfau['frame'], y=dfau[' AU09_r'], mode='lines', name='AU09_r'))\n",
        "fig.add_trace(go.Scatter(x=dfau['frame'], y=dfau[' AU10_r'], mode='lines', name='AU10_r'))\n",
        "fig.add_trace(go.Scatter(x=dfau['frame'], y=dfau[' AU15_r'], mode='lines', name='AU15_r'))\n",
        "# fig.add_trace(go.Scatter(x=dfau['frame'], y=dfau[' AU16_r'], mode='lines', name='AU16_r'))\n",
        "\n",
        "fig.update_layout(title='disgust',xaxis_title='Frame',yaxis_title='Intensity')\n",
        "fig.show()"
      ],
      "execution_count": null,
      "outputs": []
    },
    {
      "cell_type": "code",
      "metadata": {
        "id": "O46Y-JBpD968"
      },
      "source": [
        "################### fear ##########################\n",
        "fig = go.Figure()\n",
        "fig.add_trace(go.Scatter(x=dfau['frame'], y=dfau[' AU01_r'], mode='lines', name='AU01_r'))\n",
        "fig.add_trace(go.Scatter(x=dfau['frame'], y=dfau[' AU02_r'], mode='lines', name='AU02_r'))\n",
        "fig.add_trace(go.Scatter(x=dfau['frame'], y=dfau[' AU04_r'], mode='lines', name='AU04_r'))\n",
        "fig.add_trace(go.Scatter(x=dfau['frame'], y=dfau[' AU05_r'], mode='lines', name='AU05_r'))\n",
        "fig.add_trace(go.Scatter(x=dfau['frame'], y=dfau[' AU07_r'], mode='lines', name='AU07_r'))\n",
        "fig.add_trace(go.Scatter(x=dfau['frame'], y=dfau[' AU20_r'], mode='lines', name='AU20_r'))\n",
        "fig.add_trace(go.Scatter(x=dfau['frame'], y=dfau[' AU26_r'], mode='lines', name='AU26_r'))\n",
        "fig.update_layout(title='fear',xaxis_title='Frame',yaxis_title='Intensity')\n",
        "fig.show()"
      ],
      "execution_count": null,
      "outputs": []
    },
    {
      "cell_type": "code",
      "metadata": {
        "id": "IPI9ytQcEVV2"
      },
      "source": [
        "################### happy ##########################\n",
        "fig = go.Figure()\n",
        "fig.add_trace(go.Scatter(x=dfau['frame'], y=dfau[' AU06_r'], mode='lines', name='AU06_r'))\n",
        "fig.add_trace(go.Scatter(x=dfau['frame'], y=dfau[' AU07_r'], mode='lines', name='AU07_r'))\n",
        "fig.add_trace(go.Scatter(x=dfau['frame'], y=dfau[' AU12_r'], mode='lines', name='AU12_r'))\n",
        "fig.add_trace(go.Scatter(x=dfau['frame'], y=dfau[' AU25_r'], mode='lines', name='AU25_r'))\n",
        "\n",
        "fig.update_layout(title='happy',xaxis_title='Frame',yaxis_title='Intensity')\n",
        "fig.show()"
      ],
      "execution_count": null,
      "outputs": []
    },
    {
      "cell_type": "code",
      "metadata": {
        "id": "xFdzLzgeEnkm"
      },
      "source": [
        "################### sad ##########################\n",
        "fig = go.Figure()\n",
        "fig.add_trace(go.Scatter(x=dfau['frame'], y=dfau[' AU01_r'], mode='lines', name='AU01_r'))\n",
        "fig.add_trace(go.Scatter(x=dfau['frame'], y=dfau[' AU04_r'], mode='lines', name='AU04_r'))\n",
        "fig.add_trace(go.Scatter(x=dfau['frame'], y=dfau[' AU15_r'], mode='lines', name='AU15_r'))\n",
        "\n",
        "fig.update_layout(title='sad',xaxis_title='Frame',yaxis_title='Intensity')\n",
        "fig.show()"
      ],
      "execution_count": null,
      "outputs": []
    },
    {
      "cell_type": "code",
      "metadata": {
        "id": "EssA3y5yFyl-"
      },
      "source": [
        "################### surprise ##########################\n",
        "fig = go.Figure()\n",
        "fig.add_trace(go.Scatter(x=dfau['frame'], y=dfau[' AU01_r'], mode='lines', name='AU01_r'))\n",
        "fig.add_trace(go.Scatter(x=dfau['frame'], y=dfau[' AU02_r'], mode='lines', name='AU02_r'))\n",
        "fig.add_trace(go.Scatter(x=dfau['frame'], y=dfau[' AU05_r'], mode='lines', name='AU05_r'))\n",
        "fig.add_trace(go.Scatter(x=dfau['frame'], y=dfau[' AU26_r'], mode='lines', name='AU26_r'))\n",
        "\n",
        "fig.update_layout(title='surprise',xaxis_title='Frame',yaxis_title='Intensity')\n",
        "fig.show()"
      ],
      "execution_count": null,
      "outputs": []
    },
    {
      "cell_type": "code",
      "metadata": {
        "id": "C1REXbcCQDp5"
      },
      "source": [
        "################### contempt ##########################\n",
        "fig = go.Figure()\n",
        "fig.add_trace(go.Scatter(x=dfau['frame'], y=dfau[' AU12_r'], mode='lines', name='AU12_r'))\n",
        "fig.add_trace(go.Scatter(x=dfau['frame'], y=dfau[' AU14_r'], mode='lines', name='AU14_r'))\n",
        "\n",
        "fig.update_layout(title='contempt',xaxis_title='Frame',yaxis_title='Intensity')\n",
        "fig.show()"
      ],
      "execution_count": null,
      "outputs": []
    },
    {
      "cell_type": "code",
      "metadata": {
        "id": "jqKpdZrTQEI5"
      },
      "source": [
        "################### relax ##########################\n",
        "fig = go.Figure()\n",
        "fig.add_trace(go.Scatter(x=dfau['frame'], y=dfau[' AU12_r'], mode='lines', name='AU12_r'))\n",
        "fig.add_trace(go.Scatter(x=dfau['frame'], y=dfau[' AU25_r'], mode='lines', name='AU25_r'))\n",
        "fig.add_trace(go.Scatter(x=dfau['frame'], y=dfau[' AU26_r'], mode='lines', name='AU26_r'))\n",
        "# fig.add_trace(go.Scatter(x=dfau['frame'], y=dfau[' AU43_r'], mode='lines', name='AU43_r'))\n",
        "\n",
        "fig.update_layout(title='relax',xaxis_title='Frame',yaxis_title='Intensity')\n",
        "fig.show()"
      ],
      "execution_count": null,
      "outputs": []
    },
    {
      "cell_type": "code",
      "metadata": {
        "id": "QH8hqSJtzFc6"
      },
      "source": [
        ""
      ],
      "execution_count": null,
      "outputs": []
    }
  ]
}