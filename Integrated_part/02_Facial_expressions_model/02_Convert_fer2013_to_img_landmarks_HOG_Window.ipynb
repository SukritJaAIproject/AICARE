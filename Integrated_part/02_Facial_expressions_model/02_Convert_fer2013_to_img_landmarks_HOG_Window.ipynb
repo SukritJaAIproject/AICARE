{
  "nbformat": 4,
  "nbformat_minor": 0,
  "metadata": {
    "colab": {
      "name": "02_Convert_fer2013_to_img_landmarks_HOG_Window.ipynb",
      "provenance": [],
      "collapsed_sections": [
        "mnDoSNUFQpjI",
        "l49amPNg0h5F",
        "GeG72jIiQc_O",
        "Hr_PkSXWQtDX",
        "3zd36QhJV2HR",
        "V2iOYlv4X9Tt"
      ],
      "toc_visible": true
    },
    "kernelspec": {
      "name": "python3",
      "display_name": "Python 3"
    },
    "accelerator": "GPU",
    "widgets": {
      "application/vnd.jupyter.widget-state+json": {
        "4ba58bf455df4d90b5587fda709b02e1": {
          "model_module": "@jupyter-widgets/controls",
          "model_name": "HBoxModel",
          "state": {
            "_view_name": "HBoxView",
            "_dom_classes": [],
            "_model_name": "HBoxModel",
            "_view_module": "@jupyter-widgets/controls",
            "_model_module_version": "1.5.0",
            "_view_count": null,
            "_view_module_version": "1.5.0",
            "box_style": "",
            "layout": "IPY_MODEL_1a11ab2705e14ce5a8bbd06a3583aa6f",
            "_model_module": "@jupyter-widgets/controls",
            "children": [
              "IPY_MODEL_d8a2b203bd804fd5b19799d1c15c35f5",
              "IPY_MODEL_63e6cfd93073466f8aa89754e792df45"
            ]
          }
        },
        "1a11ab2705e14ce5a8bbd06a3583aa6f": {
          "model_module": "@jupyter-widgets/base",
          "model_name": "LayoutModel",
          "state": {
            "_view_name": "LayoutView",
            "grid_template_rows": null,
            "right": null,
            "justify_content": null,
            "_view_module": "@jupyter-widgets/base",
            "overflow": null,
            "_model_module_version": "1.2.0",
            "_view_count": null,
            "flex_flow": null,
            "width": null,
            "min_width": null,
            "border": null,
            "align_items": null,
            "bottom": null,
            "_model_module": "@jupyter-widgets/base",
            "top": null,
            "grid_column": null,
            "overflow_y": null,
            "overflow_x": null,
            "grid_auto_flow": null,
            "grid_area": null,
            "grid_template_columns": null,
            "flex": null,
            "_model_name": "LayoutModel",
            "justify_items": null,
            "grid_row": null,
            "max_height": null,
            "align_content": null,
            "visibility": null,
            "align_self": null,
            "height": null,
            "min_height": null,
            "padding": null,
            "grid_auto_rows": null,
            "grid_gap": null,
            "max_width": null,
            "order": null,
            "_view_module_version": "1.2.0",
            "grid_template_areas": null,
            "object_position": null,
            "object_fit": null,
            "grid_auto_columns": null,
            "margin": null,
            "display": null,
            "left": null
          }
        },
        "d8a2b203bd804fd5b19799d1c15c35f5": {
          "model_module": "@jupyter-widgets/controls",
          "model_name": "FloatProgressModel",
          "state": {
            "_view_name": "ProgressView",
            "style": "IPY_MODEL_0e806c02d31b48ffbaca6ab1555f1dbc",
            "_dom_classes": [],
            "description": "100%",
            "_model_name": "FloatProgressModel",
            "bar_style": "success",
            "max": 28709,
            "_view_module": "@jupyter-widgets/controls",
            "_model_module_version": "1.5.0",
            "value": 28709,
            "_view_count": null,
            "_view_module_version": "1.5.0",
            "orientation": "horizontal",
            "min": 0,
            "description_tooltip": null,
            "_model_module": "@jupyter-widgets/controls",
            "layout": "IPY_MODEL_914614f8d1c947bd965c8fb46b20be4a"
          }
        },
        "63e6cfd93073466f8aa89754e792df45": {
          "model_module": "@jupyter-widgets/controls",
          "model_name": "HTMLModel",
          "state": {
            "_view_name": "HTMLView",
            "style": "IPY_MODEL_f2047a5839794e13973fa4c20618c4aa",
            "_dom_classes": [],
            "description": "",
            "_model_name": "HTMLModel",
            "placeholder": "​",
            "_view_module": "@jupyter-widgets/controls",
            "_model_module_version": "1.5.0",
            "value": " 28709/28709 [01:12&lt;00:00, 393.29it/s]",
            "_view_count": null,
            "_view_module_version": "1.5.0",
            "description_tooltip": null,
            "_model_module": "@jupyter-widgets/controls",
            "layout": "IPY_MODEL_f94ce0653e4f42988ecbdf31c6ffabd3"
          }
        },
        "0e806c02d31b48ffbaca6ab1555f1dbc": {
          "model_module": "@jupyter-widgets/controls",
          "model_name": "ProgressStyleModel",
          "state": {
            "_view_name": "StyleView",
            "_model_name": "ProgressStyleModel",
            "description_width": "initial",
            "_view_module": "@jupyter-widgets/base",
            "_model_module_version": "1.5.0",
            "_view_count": null,
            "_view_module_version": "1.2.0",
            "bar_color": null,
            "_model_module": "@jupyter-widgets/controls"
          }
        },
        "914614f8d1c947bd965c8fb46b20be4a": {
          "model_module": "@jupyter-widgets/base",
          "model_name": "LayoutModel",
          "state": {
            "_view_name": "LayoutView",
            "grid_template_rows": null,
            "right": null,
            "justify_content": null,
            "_view_module": "@jupyter-widgets/base",
            "overflow": null,
            "_model_module_version": "1.2.0",
            "_view_count": null,
            "flex_flow": null,
            "width": null,
            "min_width": null,
            "border": null,
            "align_items": null,
            "bottom": null,
            "_model_module": "@jupyter-widgets/base",
            "top": null,
            "grid_column": null,
            "overflow_y": null,
            "overflow_x": null,
            "grid_auto_flow": null,
            "grid_area": null,
            "grid_template_columns": null,
            "flex": null,
            "_model_name": "LayoutModel",
            "justify_items": null,
            "grid_row": null,
            "max_height": null,
            "align_content": null,
            "visibility": null,
            "align_self": null,
            "height": null,
            "min_height": null,
            "padding": null,
            "grid_auto_rows": null,
            "grid_gap": null,
            "max_width": null,
            "order": null,
            "_view_module_version": "1.2.0",
            "grid_template_areas": null,
            "object_position": null,
            "object_fit": null,
            "grid_auto_columns": null,
            "margin": null,
            "display": null,
            "left": null
          }
        },
        "f2047a5839794e13973fa4c20618c4aa": {
          "model_module": "@jupyter-widgets/controls",
          "model_name": "DescriptionStyleModel",
          "state": {
            "_view_name": "StyleView",
            "_model_name": "DescriptionStyleModel",
            "description_width": "",
            "_view_module": "@jupyter-widgets/base",
            "_model_module_version": "1.5.0",
            "_view_count": null,
            "_view_module_version": "1.2.0",
            "_model_module": "@jupyter-widgets/controls"
          }
        },
        "f94ce0653e4f42988ecbdf31c6ffabd3": {
          "model_module": "@jupyter-widgets/base",
          "model_name": "LayoutModel",
          "state": {
            "_view_name": "LayoutView",
            "grid_template_rows": null,
            "right": null,
            "justify_content": null,
            "_view_module": "@jupyter-widgets/base",
            "overflow": null,
            "_model_module_version": "1.2.0",
            "_view_count": null,
            "flex_flow": null,
            "width": null,
            "min_width": null,
            "border": null,
            "align_items": null,
            "bottom": null,
            "_model_module": "@jupyter-widgets/base",
            "top": null,
            "grid_column": null,
            "overflow_y": null,
            "overflow_x": null,
            "grid_auto_flow": null,
            "grid_area": null,
            "grid_template_columns": null,
            "flex": null,
            "_model_name": "LayoutModel",
            "justify_items": null,
            "grid_row": null,
            "max_height": null,
            "align_content": null,
            "visibility": null,
            "align_self": null,
            "height": null,
            "min_height": null,
            "padding": null,
            "grid_auto_rows": null,
            "grid_gap": null,
            "max_width": null,
            "order": null,
            "_view_module_version": "1.2.0",
            "grid_template_areas": null,
            "object_position": null,
            "object_fit": null,
            "grid_auto_columns": null,
            "margin": null,
            "display": null,
            "left": null
          }
        },
        "19e346cdebef4f3bb85f9a7c803d618d": {
          "model_module": "@jupyter-widgets/controls",
          "model_name": "HBoxModel",
          "state": {
            "_view_name": "HBoxView",
            "_dom_classes": [],
            "_model_name": "HBoxModel",
            "_view_module": "@jupyter-widgets/controls",
            "_model_module_version": "1.5.0",
            "_view_count": null,
            "_view_module_version": "1.5.0",
            "box_style": "",
            "layout": "IPY_MODEL_78784397ca1e4520befe0baeb8a4546a",
            "_model_module": "@jupyter-widgets/controls",
            "children": [
              "IPY_MODEL_eed9eb37273a4a1eb8aaa82c1713bfad",
              "IPY_MODEL_834f7bb0d38741cc877b1674f49df400"
            ]
          }
        },
        "78784397ca1e4520befe0baeb8a4546a": {
          "model_module": "@jupyter-widgets/base",
          "model_name": "LayoutModel",
          "state": {
            "_view_name": "LayoutView",
            "grid_template_rows": null,
            "right": null,
            "justify_content": null,
            "_view_module": "@jupyter-widgets/base",
            "overflow": null,
            "_model_module_version": "1.2.0",
            "_view_count": null,
            "flex_flow": null,
            "width": null,
            "min_width": null,
            "border": null,
            "align_items": null,
            "bottom": null,
            "_model_module": "@jupyter-widgets/base",
            "top": null,
            "grid_column": null,
            "overflow_y": null,
            "overflow_x": null,
            "grid_auto_flow": null,
            "grid_area": null,
            "grid_template_columns": null,
            "flex": null,
            "_model_name": "LayoutModel",
            "justify_items": null,
            "grid_row": null,
            "max_height": null,
            "align_content": null,
            "visibility": null,
            "align_self": null,
            "height": null,
            "min_height": null,
            "padding": null,
            "grid_auto_rows": null,
            "grid_gap": null,
            "max_width": null,
            "order": null,
            "_view_module_version": "1.2.0",
            "grid_template_areas": null,
            "object_position": null,
            "object_fit": null,
            "grid_auto_columns": null,
            "margin": null,
            "display": null,
            "left": null
          }
        },
        "eed9eb37273a4a1eb8aaa82c1713bfad": {
          "model_module": "@jupyter-widgets/controls",
          "model_name": "FloatProgressModel",
          "state": {
            "_view_name": "ProgressView",
            "style": "IPY_MODEL_225b01e4bf2045c3a1dbc8f422495417",
            "_dom_classes": [],
            "description": "100%",
            "_model_name": "FloatProgressModel",
            "bar_style": "success",
            "max": 3589,
            "_view_module": "@jupyter-widgets/controls",
            "_model_module_version": "1.5.0",
            "value": 3589,
            "_view_count": null,
            "_view_module_version": "1.5.0",
            "orientation": "horizontal",
            "min": 0,
            "description_tooltip": null,
            "_model_module": "@jupyter-widgets/controls",
            "layout": "IPY_MODEL_38ebb9b1ae3e4cf48e6ee687a174179e"
          }
        },
        "834f7bb0d38741cc877b1674f49df400": {
          "model_module": "@jupyter-widgets/controls",
          "model_name": "HTMLModel",
          "state": {
            "_view_name": "HTMLView",
            "style": "IPY_MODEL_6a78652b110c48ee907f5bea71a49b77",
            "_dom_classes": [],
            "description": "",
            "_model_name": "HTMLModel",
            "placeholder": "​",
            "_view_module": "@jupyter-widgets/controls",
            "_model_module_version": "1.5.0",
            "value": " 3589/3589 [00:01&lt;00:00, 2949.30it/s]",
            "_view_count": null,
            "_view_module_version": "1.5.0",
            "description_tooltip": null,
            "_model_module": "@jupyter-widgets/controls",
            "layout": "IPY_MODEL_c839acde32084115a016e31b8d5bc77a"
          }
        },
        "225b01e4bf2045c3a1dbc8f422495417": {
          "model_module": "@jupyter-widgets/controls",
          "model_name": "ProgressStyleModel",
          "state": {
            "_view_name": "StyleView",
            "_model_name": "ProgressStyleModel",
            "description_width": "initial",
            "_view_module": "@jupyter-widgets/base",
            "_model_module_version": "1.5.0",
            "_view_count": null,
            "_view_module_version": "1.2.0",
            "bar_color": null,
            "_model_module": "@jupyter-widgets/controls"
          }
        },
        "38ebb9b1ae3e4cf48e6ee687a174179e": {
          "model_module": "@jupyter-widgets/base",
          "model_name": "LayoutModel",
          "state": {
            "_view_name": "LayoutView",
            "grid_template_rows": null,
            "right": null,
            "justify_content": null,
            "_view_module": "@jupyter-widgets/base",
            "overflow": null,
            "_model_module_version": "1.2.0",
            "_view_count": null,
            "flex_flow": null,
            "width": null,
            "min_width": null,
            "border": null,
            "align_items": null,
            "bottom": null,
            "_model_module": "@jupyter-widgets/base",
            "top": null,
            "grid_column": null,
            "overflow_y": null,
            "overflow_x": null,
            "grid_auto_flow": null,
            "grid_area": null,
            "grid_template_columns": null,
            "flex": null,
            "_model_name": "LayoutModel",
            "justify_items": null,
            "grid_row": null,
            "max_height": null,
            "align_content": null,
            "visibility": null,
            "align_self": null,
            "height": null,
            "min_height": null,
            "padding": null,
            "grid_auto_rows": null,
            "grid_gap": null,
            "max_width": null,
            "order": null,
            "_view_module_version": "1.2.0",
            "grid_template_areas": null,
            "object_position": null,
            "object_fit": null,
            "grid_auto_columns": null,
            "margin": null,
            "display": null,
            "left": null
          }
        },
        "6a78652b110c48ee907f5bea71a49b77": {
          "model_module": "@jupyter-widgets/controls",
          "model_name": "DescriptionStyleModel",
          "state": {
            "_view_name": "StyleView",
            "_model_name": "DescriptionStyleModel",
            "description_width": "",
            "_view_module": "@jupyter-widgets/base",
            "_model_module_version": "1.5.0",
            "_view_count": null,
            "_view_module_version": "1.2.0",
            "_model_module": "@jupyter-widgets/controls"
          }
        },
        "c839acde32084115a016e31b8d5bc77a": {
          "model_module": "@jupyter-widgets/base",
          "model_name": "LayoutModel",
          "state": {
            "_view_name": "LayoutView",
            "grid_template_rows": null,
            "right": null,
            "justify_content": null,
            "_view_module": "@jupyter-widgets/base",
            "overflow": null,
            "_model_module_version": "1.2.0",
            "_view_count": null,
            "flex_flow": null,
            "width": null,
            "min_width": null,
            "border": null,
            "align_items": null,
            "bottom": null,
            "_model_module": "@jupyter-widgets/base",
            "top": null,
            "grid_column": null,
            "overflow_y": null,
            "overflow_x": null,
            "grid_auto_flow": null,
            "grid_area": null,
            "grid_template_columns": null,
            "flex": null,
            "_model_name": "LayoutModel",
            "justify_items": null,
            "grid_row": null,
            "max_height": null,
            "align_content": null,
            "visibility": null,
            "align_self": null,
            "height": null,
            "min_height": null,
            "padding": null,
            "grid_auto_rows": null,
            "grid_gap": null,
            "max_width": null,
            "order": null,
            "_view_module_version": "1.2.0",
            "grid_template_areas": null,
            "object_position": null,
            "object_fit": null,
            "grid_auto_columns": null,
            "margin": null,
            "display": null,
            "left": null
          }
        },
        "4b6229410e4343e0a1c2223066e50196": {
          "model_module": "@jupyter-widgets/controls",
          "model_name": "HBoxModel",
          "state": {
            "_view_name": "HBoxView",
            "_dom_classes": [],
            "_model_name": "HBoxModel",
            "_view_module": "@jupyter-widgets/controls",
            "_model_module_version": "1.5.0",
            "_view_count": null,
            "_view_module_version": "1.5.0",
            "box_style": "",
            "layout": "IPY_MODEL_d83892088aea419db1db40413f602832",
            "_model_module": "@jupyter-widgets/controls",
            "children": [
              "IPY_MODEL_6a3e3e41f26c4be094abb5e47bd10140",
              "IPY_MODEL_6637edd7cba148a58d3ab8426572ea4a"
            ]
          }
        },
        "d83892088aea419db1db40413f602832": {
          "model_module": "@jupyter-widgets/base",
          "model_name": "LayoutModel",
          "state": {
            "_view_name": "LayoutView",
            "grid_template_rows": null,
            "right": null,
            "justify_content": null,
            "_view_module": "@jupyter-widgets/base",
            "overflow": null,
            "_model_module_version": "1.2.0",
            "_view_count": null,
            "flex_flow": null,
            "width": null,
            "min_width": null,
            "border": null,
            "align_items": null,
            "bottom": null,
            "_model_module": "@jupyter-widgets/base",
            "top": null,
            "grid_column": null,
            "overflow_y": null,
            "overflow_x": null,
            "grid_auto_flow": null,
            "grid_area": null,
            "grid_template_columns": null,
            "flex": null,
            "_model_name": "LayoutModel",
            "justify_items": null,
            "grid_row": null,
            "max_height": null,
            "align_content": null,
            "visibility": null,
            "align_self": null,
            "height": null,
            "min_height": null,
            "padding": null,
            "grid_auto_rows": null,
            "grid_gap": null,
            "max_width": null,
            "order": null,
            "_view_module_version": "1.2.0",
            "grid_template_areas": null,
            "object_position": null,
            "object_fit": null,
            "grid_auto_columns": null,
            "margin": null,
            "display": null,
            "left": null
          }
        },
        "6a3e3e41f26c4be094abb5e47bd10140": {
          "model_module": "@jupyter-widgets/controls",
          "model_name": "FloatProgressModel",
          "state": {
            "_view_name": "ProgressView",
            "style": "IPY_MODEL_57abf31b7e71401485c1f76e26363bb6",
            "_dom_classes": [],
            "description": "100%",
            "_model_name": "FloatProgressModel",
            "bar_style": "success",
            "max": 3589,
            "_view_module": "@jupyter-widgets/controls",
            "_model_module_version": "1.5.0",
            "value": 3589,
            "_view_count": null,
            "_view_module_version": "1.5.0",
            "orientation": "horizontal",
            "min": 0,
            "description_tooltip": null,
            "_model_module": "@jupyter-widgets/controls",
            "layout": "IPY_MODEL_de72868606384c7e97d5954ba97426cc"
          }
        },
        "6637edd7cba148a58d3ab8426572ea4a": {
          "model_module": "@jupyter-widgets/controls",
          "model_name": "HTMLModel",
          "state": {
            "_view_name": "HTMLView",
            "style": "IPY_MODEL_540be8d8cb4341e3ae80f22dfc14df14",
            "_dom_classes": [],
            "description": "",
            "_model_name": "HTMLModel",
            "placeholder": "​",
            "_view_module": "@jupyter-widgets/controls",
            "_model_module_version": "1.5.0",
            "value": " 3589/3589 [00:01&lt;00:00, 3534.84it/s]",
            "_view_count": null,
            "_view_module_version": "1.5.0",
            "description_tooltip": null,
            "_model_module": "@jupyter-widgets/controls",
            "layout": "IPY_MODEL_58cff0e2fe644b46b9c098d902f2e243"
          }
        },
        "57abf31b7e71401485c1f76e26363bb6": {
          "model_module": "@jupyter-widgets/controls",
          "model_name": "ProgressStyleModel",
          "state": {
            "_view_name": "StyleView",
            "_model_name": "ProgressStyleModel",
            "description_width": "initial",
            "_view_module": "@jupyter-widgets/base",
            "_model_module_version": "1.5.0",
            "_view_count": null,
            "_view_module_version": "1.2.0",
            "bar_color": null,
            "_model_module": "@jupyter-widgets/controls"
          }
        },
        "de72868606384c7e97d5954ba97426cc": {
          "model_module": "@jupyter-widgets/base",
          "model_name": "LayoutModel",
          "state": {
            "_view_name": "LayoutView",
            "grid_template_rows": null,
            "right": null,
            "justify_content": null,
            "_view_module": "@jupyter-widgets/base",
            "overflow": null,
            "_model_module_version": "1.2.0",
            "_view_count": null,
            "flex_flow": null,
            "width": null,
            "min_width": null,
            "border": null,
            "align_items": null,
            "bottom": null,
            "_model_module": "@jupyter-widgets/base",
            "top": null,
            "grid_column": null,
            "overflow_y": null,
            "overflow_x": null,
            "grid_auto_flow": null,
            "grid_area": null,
            "grid_template_columns": null,
            "flex": null,
            "_model_name": "LayoutModel",
            "justify_items": null,
            "grid_row": null,
            "max_height": null,
            "align_content": null,
            "visibility": null,
            "align_self": null,
            "height": null,
            "min_height": null,
            "padding": null,
            "grid_auto_rows": null,
            "grid_gap": null,
            "max_width": null,
            "order": null,
            "_view_module_version": "1.2.0",
            "grid_template_areas": null,
            "object_position": null,
            "object_fit": null,
            "grid_auto_columns": null,
            "margin": null,
            "display": null,
            "left": null
          }
        },
        "540be8d8cb4341e3ae80f22dfc14df14": {
          "model_module": "@jupyter-widgets/controls",
          "model_name": "DescriptionStyleModel",
          "state": {
            "_view_name": "StyleView",
            "_model_name": "DescriptionStyleModel",
            "description_width": "",
            "_view_module": "@jupyter-widgets/base",
            "_model_module_version": "1.5.0",
            "_view_count": null,
            "_view_module_version": "1.2.0",
            "_model_module": "@jupyter-widgets/controls"
          }
        },
        "58cff0e2fe644b46b9c098d902f2e243": {
          "model_module": "@jupyter-widgets/base",
          "model_name": "LayoutModel",
          "state": {
            "_view_name": "LayoutView",
            "grid_template_rows": null,
            "right": null,
            "justify_content": null,
            "_view_module": "@jupyter-widgets/base",
            "overflow": null,
            "_model_module_version": "1.2.0",
            "_view_count": null,
            "flex_flow": null,
            "width": null,
            "min_width": null,
            "border": null,
            "align_items": null,
            "bottom": null,
            "_model_module": "@jupyter-widgets/base",
            "top": null,
            "grid_column": null,
            "overflow_y": null,
            "overflow_x": null,
            "grid_auto_flow": null,
            "grid_area": null,
            "grid_template_columns": null,
            "flex": null,
            "_model_name": "LayoutModel",
            "justify_items": null,
            "grid_row": null,
            "max_height": null,
            "align_content": null,
            "visibility": null,
            "align_self": null,
            "height": null,
            "min_height": null,
            "padding": null,
            "grid_auto_rows": null,
            "grid_gap": null,
            "max_width": null,
            "order": null,
            "_view_module_version": "1.2.0",
            "grid_template_areas": null,
            "object_position": null,
            "object_fit": null,
            "grid_auto_columns": null,
            "margin": null,
            "display": null,
            "left": null
          }
        },
        "cb3084ea76c746e6ad222bec265c721d": {
          "model_module": "@jupyter-widgets/controls",
          "model_name": "HBoxModel",
          "state": {
            "_view_name": "HBoxView",
            "_dom_classes": [],
            "_model_name": "HBoxModel",
            "_view_module": "@jupyter-widgets/controls",
            "_model_module_version": "1.5.0",
            "_view_count": null,
            "_view_module_version": "1.5.0",
            "box_style": "",
            "layout": "IPY_MODEL_5c0f0453b51d4daba75699fd2f420426",
            "_model_module": "@jupyter-widgets/controls",
            "children": [
              "IPY_MODEL_b3c9caa08a774c6eb084fc72d393b733",
              "IPY_MODEL_86f44f6845784f77acd437e53c66cb67"
            ]
          }
        },
        "5c0f0453b51d4daba75699fd2f420426": {
          "model_module": "@jupyter-widgets/base",
          "model_name": "LayoutModel",
          "state": {
            "_view_name": "LayoutView",
            "grid_template_rows": null,
            "right": null,
            "justify_content": null,
            "_view_module": "@jupyter-widgets/base",
            "overflow": null,
            "_model_module_version": "1.2.0",
            "_view_count": null,
            "flex_flow": null,
            "width": null,
            "min_width": null,
            "border": null,
            "align_items": null,
            "bottom": null,
            "_model_module": "@jupyter-widgets/base",
            "top": null,
            "grid_column": null,
            "overflow_y": null,
            "overflow_x": null,
            "grid_auto_flow": null,
            "grid_area": null,
            "grid_template_columns": null,
            "flex": null,
            "_model_name": "LayoutModel",
            "justify_items": null,
            "grid_row": null,
            "max_height": null,
            "align_content": null,
            "visibility": null,
            "align_self": null,
            "height": null,
            "min_height": null,
            "padding": null,
            "grid_auto_rows": null,
            "grid_gap": null,
            "max_width": null,
            "order": null,
            "_view_module_version": "1.2.0",
            "grid_template_areas": null,
            "object_position": null,
            "object_fit": null,
            "grid_auto_columns": null,
            "margin": null,
            "display": null,
            "left": null
          }
        },
        "b3c9caa08a774c6eb084fc72d393b733": {
          "model_module": "@jupyter-widgets/controls",
          "model_name": "FloatProgressModel",
          "state": {
            "_view_name": "ProgressView",
            "style": "IPY_MODEL_3e4cecf5ef3048eca55867684572612d",
            "_dom_classes": [],
            "description": "100%",
            "_model_name": "FloatProgressModel",
            "bar_style": "success",
            "max": 28709,
            "_view_module": "@jupyter-widgets/controls",
            "_model_module_version": "1.5.0",
            "value": 28709,
            "_view_count": null,
            "_view_module_version": "1.5.0",
            "orientation": "horizontal",
            "min": 0,
            "description_tooltip": null,
            "_model_module": "@jupyter-widgets/controls",
            "layout": "IPY_MODEL_c89527bbf6594af8ac5b80a98030fcb1"
          }
        },
        "86f44f6845784f77acd437e53c66cb67": {
          "model_module": "@jupyter-widgets/controls",
          "model_name": "HTMLModel",
          "state": {
            "_view_name": "HTMLView",
            "style": "IPY_MODEL_4fa51c9ced164fd1bed97bf737b909b8",
            "_dom_classes": [],
            "description": "",
            "_model_name": "HTMLModel",
            "placeholder": "​",
            "_view_module": "@jupyter-widgets/controls",
            "_model_module_version": "1.5.0",
            "value": " 28709/28709 [01:01&lt;00:00, 470.36it/s]",
            "_view_count": null,
            "_view_module_version": "1.5.0",
            "description_tooltip": null,
            "_model_module": "@jupyter-widgets/controls",
            "layout": "IPY_MODEL_c7ef6d78fac5405786a2af6aa4a849a4"
          }
        },
        "3e4cecf5ef3048eca55867684572612d": {
          "model_module": "@jupyter-widgets/controls",
          "model_name": "ProgressStyleModel",
          "state": {
            "_view_name": "StyleView",
            "_model_name": "ProgressStyleModel",
            "description_width": "initial",
            "_view_module": "@jupyter-widgets/base",
            "_model_module_version": "1.5.0",
            "_view_count": null,
            "_view_module_version": "1.2.0",
            "bar_color": null,
            "_model_module": "@jupyter-widgets/controls"
          }
        },
        "c89527bbf6594af8ac5b80a98030fcb1": {
          "model_module": "@jupyter-widgets/base",
          "model_name": "LayoutModel",
          "state": {
            "_view_name": "LayoutView",
            "grid_template_rows": null,
            "right": null,
            "justify_content": null,
            "_view_module": "@jupyter-widgets/base",
            "overflow": null,
            "_model_module_version": "1.2.0",
            "_view_count": null,
            "flex_flow": null,
            "width": null,
            "min_width": null,
            "border": null,
            "align_items": null,
            "bottom": null,
            "_model_module": "@jupyter-widgets/base",
            "top": null,
            "grid_column": null,
            "overflow_y": null,
            "overflow_x": null,
            "grid_auto_flow": null,
            "grid_area": null,
            "grid_template_columns": null,
            "flex": null,
            "_model_name": "LayoutModel",
            "justify_items": null,
            "grid_row": null,
            "max_height": null,
            "align_content": null,
            "visibility": null,
            "align_self": null,
            "height": null,
            "min_height": null,
            "padding": null,
            "grid_auto_rows": null,
            "grid_gap": null,
            "max_width": null,
            "order": null,
            "_view_module_version": "1.2.0",
            "grid_template_areas": null,
            "object_position": null,
            "object_fit": null,
            "grid_auto_columns": null,
            "margin": null,
            "display": null,
            "left": null
          }
        },
        "4fa51c9ced164fd1bed97bf737b909b8": {
          "model_module": "@jupyter-widgets/controls",
          "model_name": "DescriptionStyleModel",
          "state": {
            "_view_name": "StyleView",
            "_model_name": "DescriptionStyleModel",
            "description_width": "",
            "_view_module": "@jupyter-widgets/base",
            "_model_module_version": "1.5.0",
            "_view_count": null,
            "_view_module_version": "1.2.0",
            "_model_module": "@jupyter-widgets/controls"
          }
        },
        "c7ef6d78fac5405786a2af6aa4a849a4": {
          "model_module": "@jupyter-widgets/base",
          "model_name": "LayoutModel",
          "state": {
            "_view_name": "LayoutView",
            "grid_template_rows": null,
            "right": null,
            "justify_content": null,
            "_view_module": "@jupyter-widgets/base",
            "overflow": null,
            "_model_module_version": "1.2.0",
            "_view_count": null,
            "flex_flow": null,
            "width": null,
            "min_width": null,
            "border": null,
            "align_items": null,
            "bottom": null,
            "_model_module": "@jupyter-widgets/base",
            "top": null,
            "grid_column": null,
            "overflow_y": null,
            "overflow_x": null,
            "grid_auto_flow": null,
            "grid_area": null,
            "grid_template_columns": null,
            "flex": null,
            "_model_name": "LayoutModel",
            "justify_items": null,
            "grid_row": null,
            "max_height": null,
            "align_content": null,
            "visibility": null,
            "align_self": null,
            "height": null,
            "min_height": null,
            "padding": null,
            "grid_auto_rows": null,
            "grid_gap": null,
            "max_width": null,
            "order": null,
            "_view_module_version": "1.2.0",
            "grid_template_areas": null,
            "object_position": null,
            "object_fit": null,
            "grid_auto_columns": null,
            "margin": null,
            "display": null,
            "left": null
          }
        },
        "1f62e9032eb143faaf6458dd6d52bae9": {
          "model_module": "@jupyter-widgets/controls",
          "model_name": "HBoxModel",
          "state": {
            "_view_name": "HBoxView",
            "_dom_classes": [],
            "_model_name": "HBoxModel",
            "_view_module": "@jupyter-widgets/controls",
            "_model_module_version": "1.5.0",
            "_view_count": null,
            "_view_module_version": "1.5.0",
            "box_style": "",
            "layout": "IPY_MODEL_21c2990144df465683654e5b39990337",
            "_model_module": "@jupyter-widgets/controls",
            "children": [
              "IPY_MODEL_6bd3d075d00e49d780b8ca90a0189898",
              "IPY_MODEL_51d15d2b165e46a48dc9212d7a454f25"
            ]
          }
        },
        "21c2990144df465683654e5b39990337": {
          "model_module": "@jupyter-widgets/base",
          "model_name": "LayoutModel",
          "state": {
            "_view_name": "LayoutView",
            "grid_template_rows": null,
            "right": null,
            "justify_content": null,
            "_view_module": "@jupyter-widgets/base",
            "overflow": null,
            "_model_module_version": "1.2.0",
            "_view_count": null,
            "flex_flow": null,
            "width": null,
            "min_width": null,
            "border": null,
            "align_items": null,
            "bottom": null,
            "_model_module": "@jupyter-widgets/base",
            "top": null,
            "grid_column": null,
            "overflow_y": null,
            "overflow_x": null,
            "grid_auto_flow": null,
            "grid_area": null,
            "grid_template_columns": null,
            "flex": null,
            "_model_name": "LayoutModel",
            "justify_items": null,
            "grid_row": null,
            "max_height": null,
            "align_content": null,
            "visibility": null,
            "align_self": null,
            "height": null,
            "min_height": null,
            "padding": null,
            "grid_auto_rows": null,
            "grid_gap": null,
            "max_width": null,
            "order": null,
            "_view_module_version": "1.2.0",
            "grid_template_areas": null,
            "object_position": null,
            "object_fit": null,
            "grid_auto_columns": null,
            "margin": null,
            "display": null,
            "left": null
          }
        },
        "6bd3d075d00e49d780b8ca90a0189898": {
          "model_module": "@jupyter-widgets/controls",
          "model_name": "FloatProgressModel",
          "state": {
            "_view_name": "ProgressView",
            "style": "IPY_MODEL_91b397606e994db29aafe2f28ea636a8",
            "_dom_classes": [],
            "description": "100%",
            "_model_name": "FloatProgressModel",
            "bar_style": "success",
            "max": 3589,
            "_view_module": "@jupyter-widgets/controls",
            "_model_module_version": "1.5.0",
            "value": 3589,
            "_view_count": null,
            "_view_module_version": "1.5.0",
            "orientation": "horizontal",
            "min": 0,
            "description_tooltip": null,
            "_model_module": "@jupyter-widgets/controls",
            "layout": "IPY_MODEL_879d56c47aa44c9eb7877b19d7236916"
          }
        },
        "51d15d2b165e46a48dc9212d7a454f25": {
          "model_module": "@jupyter-widgets/controls",
          "model_name": "HTMLModel",
          "state": {
            "_view_name": "HTMLView",
            "style": "IPY_MODEL_2e46a91d14544c42b4e5793dca6a4ec9",
            "_dom_classes": [],
            "description": "",
            "_model_name": "HTMLModel",
            "placeholder": "​",
            "_view_module": "@jupyter-widgets/controls",
            "_model_module_version": "1.5.0",
            "value": " 3589/3589 [00:01&lt;00:00, 2874.18it/s]",
            "_view_count": null,
            "_view_module_version": "1.5.0",
            "description_tooltip": null,
            "_model_module": "@jupyter-widgets/controls",
            "layout": "IPY_MODEL_8fda9443e5a0404ba0c559597d962e9b"
          }
        },
        "91b397606e994db29aafe2f28ea636a8": {
          "model_module": "@jupyter-widgets/controls",
          "model_name": "ProgressStyleModel",
          "state": {
            "_view_name": "StyleView",
            "_model_name": "ProgressStyleModel",
            "description_width": "initial",
            "_view_module": "@jupyter-widgets/base",
            "_model_module_version": "1.5.0",
            "_view_count": null,
            "_view_module_version": "1.2.0",
            "bar_color": null,
            "_model_module": "@jupyter-widgets/controls"
          }
        },
        "879d56c47aa44c9eb7877b19d7236916": {
          "model_module": "@jupyter-widgets/base",
          "model_name": "LayoutModel",
          "state": {
            "_view_name": "LayoutView",
            "grid_template_rows": null,
            "right": null,
            "justify_content": null,
            "_view_module": "@jupyter-widgets/base",
            "overflow": null,
            "_model_module_version": "1.2.0",
            "_view_count": null,
            "flex_flow": null,
            "width": null,
            "min_width": null,
            "border": null,
            "align_items": null,
            "bottom": null,
            "_model_module": "@jupyter-widgets/base",
            "top": null,
            "grid_column": null,
            "overflow_y": null,
            "overflow_x": null,
            "grid_auto_flow": null,
            "grid_area": null,
            "grid_template_columns": null,
            "flex": null,
            "_model_name": "LayoutModel",
            "justify_items": null,
            "grid_row": null,
            "max_height": null,
            "align_content": null,
            "visibility": null,
            "align_self": null,
            "height": null,
            "min_height": null,
            "padding": null,
            "grid_auto_rows": null,
            "grid_gap": null,
            "max_width": null,
            "order": null,
            "_view_module_version": "1.2.0",
            "grid_template_areas": null,
            "object_position": null,
            "object_fit": null,
            "grid_auto_columns": null,
            "margin": null,
            "display": null,
            "left": null
          }
        },
        "2e46a91d14544c42b4e5793dca6a4ec9": {
          "model_module": "@jupyter-widgets/controls",
          "model_name": "DescriptionStyleModel",
          "state": {
            "_view_name": "StyleView",
            "_model_name": "DescriptionStyleModel",
            "description_width": "",
            "_view_module": "@jupyter-widgets/base",
            "_model_module_version": "1.5.0",
            "_view_count": null,
            "_view_module_version": "1.2.0",
            "_model_module": "@jupyter-widgets/controls"
          }
        },
        "8fda9443e5a0404ba0c559597d962e9b": {
          "model_module": "@jupyter-widgets/base",
          "model_name": "LayoutModel",
          "state": {
            "_view_name": "LayoutView",
            "grid_template_rows": null,
            "right": null,
            "justify_content": null,
            "_view_module": "@jupyter-widgets/base",
            "overflow": null,
            "_model_module_version": "1.2.0",
            "_view_count": null,
            "flex_flow": null,
            "width": null,
            "min_width": null,
            "border": null,
            "align_items": null,
            "bottom": null,
            "_model_module": "@jupyter-widgets/base",
            "top": null,
            "grid_column": null,
            "overflow_y": null,
            "overflow_x": null,
            "grid_auto_flow": null,
            "grid_area": null,
            "grid_template_columns": null,
            "flex": null,
            "_model_name": "LayoutModel",
            "justify_items": null,
            "grid_row": null,
            "max_height": null,
            "align_content": null,
            "visibility": null,
            "align_self": null,
            "height": null,
            "min_height": null,
            "padding": null,
            "grid_auto_rows": null,
            "grid_gap": null,
            "max_width": null,
            "order": null,
            "_view_module_version": "1.2.0",
            "grid_template_areas": null,
            "object_position": null,
            "object_fit": null,
            "grid_auto_columns": null,
            "margin": null,
            "display": null,
            "left": null
          }
        },
        "4b3782b83b1f400e895f936846af858a": {
          "model_module": "@jupyter-widgets/controls",
          "model_name": "HBoxModel",
          "state": {
            "_view_name": "HBoxView",
            "_dom_classes": [],
            "_model_name": "HBoxModel",
            "_view_module": "@jupyter-widgets/controls",
            "_model_module_version": "1.5.0",
            "_view_count": null,
            "_view_module_version": "1.5.0",
            "box_style": "",
            "layout": "IPY_MODEL_1a53f77347a6498db6af306c092d8e7d",
            "_model_module": "@jupyter-widgets/controls",
            "children": [
              "IPY_MODEL_98fc296f263e4dcfb538f06fd400036c",
              "IPY_MODEL_f73cacb2de684f59bd7423293a5a0349"
            ]
          }
        },
        "1a53f77347a6498db6af306c092d8e7d": {
          "model_module": "@jupyter-widgets/base",
          "model_name": "LayoutModel",
          "state": {
            "_view_name": "LayoutView",
            "grid_template_rows": null,
            "right": null,
            "justify_content": null,
            "_view_module": "@jupyter-widgets/base",
            "overflow": null,
            "_model_module_version": "1.2.0",
            "_view_count": null,
            "flex_flow": null,
            "width": null,
            "min_width": null,
            "border": null,
            "align_items": null,
            "bottom": null,
            "_model_module": "@jupyter-widgets/base",
            "top": null,
            "grid_column": null,
            "overflow_y": null,
            "overflow_x": null,
            "grid_auto_flow": null,
            "grid_area": null,
            "grid_template_columns": null,
            "flex": null,
            "_model_name": "LayoutModel",
            "justify_items": null,
            "grid_row": null,
            "max_height": null,
            "align_content": null,
            "visibility": null,
            "align_self": null,
            "height": null,
            "min_height": null,
            "padding": null,
            "grid_auto_rows": null,
            "grid_gap": null,
            "max_width": null,
            "order": null,
            "_view_module_version": "1.2.0",
            "grid_template_areas": null,
            "object_position": null,
            "object_fit": null,
            "grid_auto_columns": null,
            "margin": null,
            "display": null,
            "left": null
          }
        },
        "98fc296f263e4dcfb538f06fd400036c": {
          "model_module": "@jupyter-widgets/controls",
          "model_name": "FloatProgressModel",
          "state": {
            "_view_name": "ProgressView",
            "style": "IPY_MODEL_c34403fb4cb2460a9b641f4ba83fe939",
            "_dom_classes": [],
            "description": "100%",
            "_model_name": "FloatProgressModel",
            "bar_style": "success",
            "max": 3589,
            "_view_module": "@jupyter-widgets/controls",
            "_model_module_version": "1.5.0",
            "value": 3589,
            "_view_count": null,
            "_view_module_version": "1.5.0",
            "orientation": "horizontal",
            "min": 0,
            "description_tooltip": null,
            "_model_module": "@jupyter-widgets/controls",
            "layout": "IPY_MODEL_4fc2dc754dd34431bb05e699e3bf37cc"
          }
        },
        "f73cacb2de684f59bd7423293a5a0349": {
          "model_module": "@jupyter-widgets/controls",
          "model_name": "HTMLModel",
          "state": {
            "_view_name": "HTMLView",
            "style": "IPY_MODEL_7f4f1ce08b8048949fce132137611487",
            "_dom_classes": [],
            "description": "",
            "_model_name": "HTMLModel",
            "placeholder": "​",
            "_view_module": "@jupyter-widgets/controls",
            "_model_module_version": "1.5.0",
            "value": " 3589/3589 [00:00&lt;00:00, 3639.87it/s]",
            "_view_count": null,
            "_view_module_version": "1.5.0",
            "description_tooltip": null,
            "_model_module": "@jupyter-widgets/controls",
            "layout": "IPY_MODEL_5a89c67c35e449eb80b07a96c55ccb27"
          }
        },
        "c34403fb4cb2460a9b641f4ba83fe939": {
          "model_module": "@jupyter-widgets/controls",
          "model_name": "ProgressStyleModel",
          "state": {
            "_view_name": "StyleView",
            "_model_name": "ProgressStyleModel",
            "description_width": "initial",
            "_view_module": "@jupyter-widgets/base",
            "_model_module_version": "1.5.0",
            "_view_count": null,
            "_view_module_version": "1.2.0",
            "bar_color": null,
            "_model_module": "@jupyter-widgets/controls"
          }
        },
        "4fc2dc754dd34431bb05e699e3bf37cc": {
          "model_module": "@jupyter-widgets/base",
          "model_name": "LayoutModel",
          "state": {
            "_view_name": "LayoutView",
            "grid_template_rows": null,
            "right": null,
            "justify_content": null,
            "_view_module": "@jupyter-widgets/base",
            "overflow": null,
            "_model_module_version": "1.2.0",
            "_view_count": null,
            "flex_flow": null,
            "width": null,
            "min_width": null,
            "border": null,
            "align_items": null,
            "bottom": null,
            "_model_module": "@jupyter-widgets/base",
            "top": null,
            "grid_column": null,
            "overflow_y": null,
            "overflow_x": null,
            "grid_auto_flow": null,
            "grid_area": null,
            "grid_template_columns": null,
            "flex": null,
            "_model_name": "LayoutModel",
            "justify_items": null,
            "grid_row": null,
            "max_height": null,
            "align_content": null,
            "visibility": null,
            "align_self": null,
            "height": null,
            "min_height": null,
            "padding": null,
            "grid_auto_rows": null,
            "grid_gap": null,
            "max_width": null,
            "order": null,
            "_view_module_version": "1.2.0",
            "grid_template_areas": null,
            "object_position": null,
            "object_fit": null,
            "grid_auto_columns": null,
            "margin": null,
            "display": null,
            "left": null
          }
        },
        "7f4f1ce08b8048949fce132137611487": {
          "model_module": "@jupyter-widgets/controls",
          "model_name": "DescriptionStyleModel",
          "state": {
            "_view_name": "StyleView",
            "_model_name": "DescriptionStyleModel",
            "description_width": "",
            "_view_module": "@jupyter-widgets/base",
            "_model_module_version": "1.5.0",
            "_view_count": null,
            "_view_module_version": "1.2.0",
            "_model_module": "@jupyter-widgets/controls"
          }
        },
        "5a89c67c35e449eb80b07a96c55ccb27": {
          "model_module": "@jupyter-widgets/base",
          "model_name": "LayoutModel",
          "state": {
            "_view_name": "LayoutView",
            "grid_template_rows": null,
            "right": null,
            "justify_content": null,
            "_view_module": "@jupyter-widgets/base",
            "overflow": null,
            "_model_module_version": "1.2.0",
            "_view_count": null,
            "flex_flow": null,
            "width": null,
            "min_width": null,
            "border": null,
            "align_items": null,
            "bottom": null,
            "_model_module": "@jupyter-widgets/base",
            "top": null,
            "grid_column": null,
            "overflow_y": null,
            "overflow_x": null,
            "grid_auto_flow": null,
            "grid_area": null,
            "grid_template_columns": null,
            "flex": null,
            "_model_name": "LayoutModel",
            "justify_items": null,
            "grid_row": null,
            "max_height": null,
            "align_content": null,
            "visibility": null,
            "align_self": null,
            "height": null,
            "min_height": null,
            "padding": null,
            "grid_auto_rows": null,
            "grid_gap": null,
            "max_width": null,
            "order": null,
            "_view_module_version": "1.2.0",
            "grid_template_areas": null,
            "object_position": null,
            "object_fit": null,
            "grid_auto_columns": null,
            "margin": null,
            "display": null,
            "left": null
          }
        },
        "0595d313610b4770a0d81a5bd1cb618d": {
          "model_module": "@jupyter-widgets/controls",
          "model_name": "HBoxModel",
          "state": {
            "_view_name": "HBoxView",
            "_dom_classes": [],
            "_model_name": "HBoxModel",
            "_view_module": "@jupyter-widgets/controls",
            "_model_module_version": "1.5.0",
            "_view_count": null,
            "_view_module_version": "1.5.0",
            "box_style": "",
            "layout": "IPY_MODEL_a1323d1f89054d55884179489c8ac7c3",
            "_model_module": "@jupyter-widgets/controls",
            "children": [
              "IPY_MODEL_080d17fba4ac41b4ae9032f14e561926",
              "IPY_MODEL_10a8572ea4b94f6da8e23d0ae99133cc"
            ]
          }
        },
        "a1323d1f89054d55884179489c8ac7c3": {
          "model_module": "@jupyter-widgets/base",
          "model_name": "LayoutModel",
          "state": {
            "_view_name": "LayoutView",
            "grid_template_rows": null,
            "right": null,
            "justify_content": null,
            "_view_module": "@jupyter-widgets/base",
            "overflow": null,
            "_model_module_version": "1.2.0",
            "_view_count": null,
            "flex_flow": null,
            "width": null,
            "min_width": null,
            "border": null,
            "align_items": null,
            "bottom": null,
            "_model_module": "@jupyter-widgets/base",
            "top": null,
            "grid_column": null,
            "overflow_y": null,
            "overflow_x": null,
            "grid_auto_flow": null,
            "grid_area": null,
            "grid_template_columns": null,
            "flex": null,
            "_model_name": "LayoutModel",
            "justify_items": null,
            "grid_row": null,
            "max_height": null,
            "align_content": null,
            "visibility": null,
            "align_self": null,
            "height": null,
            "min_height": null,
            "padding": null,
            "grid_auto_rows": null,
            "grid_gap": null,
            "max_width": null,
            "order": null,
            "_view_module_version": "1.2.0",
            "grid_template_areas": null,
            "object_position": null,
            "object_fit": null,
            "grid_auto_columns": null,
            "margin": null,
            "display": null,
            "left": null
          }
        },
        "080d17fba4ac41b4ae9032f14e561926": {
          "model_module": "@jupyter-widgets/controls",
          "model_name": "FloatProgressModel",
          "state": {
            "_view_name": "ProgressView",
            "style": "IPY_MODEL_fcac76012be64735a38da9c11314f573",
            "_dom_classes": [],
            "description": "100%",
            "_model_name": "FloatProgressModel",
            "bar_style": "success",
            "max": 28709,
            "_view_module": "@jupyter-widgets/controls",
            "_model_module_version": "1.5.0",
            "value": 28709,
            "_view_count": null,
            "_view_module_version": "1.5.0",
            "orientation": "horizontal",
            "min": 0,
            "description_tooltip": null,
            "_model_module": "@jupyter-widgets/controls",
            "layout": "IPY_MODEL_3c0230b9296a46e8ae806f4a1eb918a2"
          }
        },
        "10a8572ea4b94f6da8e23d0ae99133cc": {
          "model_module": "@jupyter-widgets/controls",
          "model_name": "HTMLModel",
          "state": {
            "_view_name": "HTMLView",
            "style": "IPY_MODEL_cdcf767a9eab4113a111a1f2438b05a0",
            "_dom_classes": [],
            "description": "",
            "_model_name": "HTMLModel",
            "placeholder": "​",
            "_view_module": "@jupyter-widgets/controls",
            "_model_module_version": "1.5.0",
            "value": " 28709/28709 [01:02&lt;00:00, 461.73it/s]",
            "_view_count": null,
            "_view_module_version": "1.5.0",
            "description_tooltip": null,
            "_model_module": "@jupyter-widgets/controls",
            "layout": "IPY_MODEL_fc669d176701479ea788d81a9464afe6"
          }
        },
        "fcac76012be64735a38da9c11314f573": {
          "model_module": "@jupyter-widgets/controls",
          "model_name": "ProgressStyleModel",
          "state": {
            "_view_name": "StyleView",
            "_model_name": "ProgressStyleModel",
            "description_width": "initial",
            "_view_module": "@jupyter-widgets/base",
            "_model_module_version": "1.5.0",
            "_view_count": null,
            "_view_module_version": "1.2.0",
            "bar_color": null,
            "_model_module": "@jupyter-widgets/controls"
          }
        },
        "3c0230b9296a46e8ae806f4a1eb918a2": {
          "model_module": "@jupyter-widgets/base",
          "model_name": "LayoutModel",
          "state": {
            "_view_name": "LayoutView",
            "grid_template_rows": null,
            "right": null,
            "justify_content": null,
            "_view_module": "@jupyter-widgets/base",
            "overflow": null,
            "_model_module_version": "1.2.0",
            "_view_count": null,
            "flex_flow": null,
            "width": null,
            "min_width": null,
            "border": null,
            "align_items": null,
            "bottom": null,
            "_model_module": "@jupyter-widgets/base",
            "top": null,
            "grid_column": null,
            "overflow_y": null,
            "overflow_x": null,
            "grid_auto_flow": null,
            "grid_area": null,
            "grid_template_columns": null,
            "flex": null,
            "_model_name": "LayoutModel",
            "justify_items": null,
            "grid_row": null,
            "max_height": null,
            "align_content": null,
            "visibility": null,
            "align_self": null,
            "height": null,
            "min_height": null,
            "padding": null,
            "grid_auto_rows": null,
            "grid_gap": null,
            "max_width": null,
            "order": null,
            "_view_module_version": "1.2.0",
            "grid_template_areas": null,
            "object_position": null,
            "object_fit": null,
            "grid_auto_columns": null,
            "margin": null,
            "display": null,
            "left": null
          }
        },
        "cdcf767a9eab4113a111a1f2438b05a0": {
          "model_module": "@jupyter-widgets/controls",
          "model_name": "DescriptionStyleModel",
          "state": {
            "_view_name": "StyleView",
            "_model_name": "DescriptionStyleModel",
            "description_width": "",
            "_view_module": "@jupyter-widgets/base",
            "_model_module_version": "1.5.0",
            "_view_count": null,
            "_view_module_version": "1.2.0",
            "_model_module": "@jupyter-widgets/controls"
          }
        },
        "fc669d176701479ea788d81a9464afe6": {
          "model_module": "@jupyter-widgets/base",
          "model_name": "LayoutModel",
          "state": {
            "_view_name": "LayoutView",
            "grid_template_rows": null,
            "right": null,
            "justify_content": null,
            "_view_module": "@jupyter-widgets/base",
            "overflow": null,
            "_model_module_version": "1.2.0",
            "_view_count": null,
            "flex_flow": null,
            "width": null,
            "min_width": null,
            "border": null,
            "align_items": null,
            "bottom": null,
            "_model_module": "@jupyter-widgets/base",
            "top": null,
            "grid_column": null,
            "overflow_y": null,
            "overflow_x": null,
            "grid_auto_flow": null,
            "grid_area": null,
            "grid_template_columns": null,
            "flex": null,
            "_model_name": "LayoutModel",
            "justify_items": null,
            "grid_row": null,
            "max_height": null,
            "align_content": null,
            "visibility": null,
            "align_self": null,
            "height": null,
            "min_height": null,
            "padding": null,
            "grid_auto_rows": null,
            "grid_gap": null,
            "max_width": null,
            "order": null,
            "_view_module_version": "1.2.0",
            "grid_template_areas": null,
            "object_position": null,
            "object_fit": null,
            "grid_auto_columns": null,
            "margin": null,
            "display": null,
            "left": null
          }
        },
        "81368876bcaf4415a82683da97a0b8e4": {
          "model_module": "@jupyter-widgets/controls",
          "model_name": "HBoxModel",
          "state": {
            "_view_name": "HBoxView",
            "_dom_classes": [],
            "_model_name": "HBoxModel",
            "_view_module": "@jupyter-widgets/controls",
            "_model_module_version": "1.5.0",
            "_view_count": null,
            "_view_module_version": "1.5.0",
            "box_style": "",
            "layout": "IPY_MODEL_d89619d725744357b9be3a9649ab7c48",
            "_model_module": "@jupyter-widgets/controls",
            "children": [
              "IPY_MODEL_67953f2d312444c5b919295080b2dae2",
              "IPY_MODEL_1573c2cb071640ccb56b544430c547b6"
            ]
          }
        },
        "d89619d725744357b9be3a9649ab7c48": {
          "model_module": "@jupyter-widgets/base",
          "model_name": "LayoutModel",
          "state": {
            "_view_name": "LayoutView",
            "grid_template_rows": null,
            "right": null,
            "justify_content": null,
            "_view_module": "@jupyter-widgets/base",
            "overflow": null,
            "_model_module_version": "1.2.0",
            "_view_count": null,
            "flex_flow": null,
            "width": null,
            "min_width": null,
            "border": null,
            "align_items": null,
            "bottom": null,
            "_model_module": "@jupyter-widgets/base",
            "top": null,
            "grid_column": null,
            "overflow_y": null,
            "overflow_x": null,
            "grid_auto_flow": null,
            "grid_area": null,
            "grid_template_columns": null,
            "flex": null,
            "_model_name": "LayoutModel",
            "justify_items": null,
            "grid_row": null,
            "max_height": null,
            "align_content": null,
            "visibility": null,
            "align_self": null,
            "height": null,
            "min_height": null,
            "padding": null,
            "grid_auto_rows": null,
            "grid_gap": null,
            "max_width": null,
            "order": null,
            "_view_module_version": "1.2.0",
            "grid_template_areas": null,
            "object_position": null,
            "object_fit": null,
            "grid_auto_columns": null,
            "margin": null,
            "display": null,
            "left": null
          }
        },
        "67953f2d312444c5b919295080b2dae2": {
          "model_module": "@jupyter-widgets/controls",
          "model_name": "FloatProgressModel",
          "state": {
            "_view_name": "ProgressView",
            "style": "IPY_MODEL_360113ede9c34c9eb6ea302b41f14441",
            "_dom_classes": [],
            "description": "100%",
            "_model_name": "FloatProgressModel",
            "bar_style": "success",
            "max": 3589,
            "_view_module": "@jupyter-widgets/controls",
            "_model_module_version": "1.5.0",
            "value": 3589,
            "_view_count": null,
            "_view_module_version": "1.5.0",
            "orientation": "horizontal",
            "min": 0,
            "description_tooltip": null,
            "_model_module": "@jupyter-widgets/controls",
            "layout": "IPY_MODEL_fbd5b706f5454631a7b96082c9267dbf"
          }
        },
        "1573c2cb071640ccb56b544430c547b6": {
          "model_module": "@jupyter-widgets/controls",
          "model_name": "HTMLModel",
          "state": {
            "_view_name": "HTMLView",
            "style": "IPY_MODEL_baa45c15b34542da98851e9d7e46279b",
            "_dom_classes": [],
            "description": "",
            "_model_name": "HTMLModel",
            "placeholder": "​",
            "_view_module": "@jupyter-widgets/controls",
            "_model_module_version": "1.5.0",
            "value": " 3589/3589 [00:01&lt;00:00, 2583.76it/s]",
            "_view_count": null,
            "_view_module_version": "1.5.0",
            "description_tooltip": null,
            "_model_module": "@jupyter-widgets/controls",
            "layout": "IPY_MODEL_977ba19d5c814817baace13add4bb4be"
          }
        },
        "360113ede9c34c9eb6ea302b41f14441": {
          "model_module": "@jupyter-widgets/controls",
          "model_name": "ProgressStyleModel",
          "state": {
            "_view_name": "StyleView",
            "_model_name": "ProgressStyleModel",
            "description_width": "initial",
            "_view_module": "@jupyter-widgets/base",
            "_model_module_version": "1.5.0",
            "_view_count": null,
            "_view_module_version": "1.2.0",
            "bar_color": null,
            "_model_module": "@jupyter-widgets/controls"
          }
        },
        "fbd5b706f5454631a7b96082c9267dbf": {
          "model_module": "@jupyter-widgets/base",
          "model_name": "LayoutModel",
          "state": {
            "_view_name": "LayoutView",
            "grid_template_rows": null,
            "right": null,
            "justify_content": null,
            "_view_module": "@jupyter-widgets/base",
            "overflow": null,
            "_model_module_version": "1.2.0",
            "_view_count": null,
            "flex_flow": null,
            "width": null,
            "min_width": null,
            "border": null,
            "align_items": null,
            "bottom": null,
            "_model_module": "@jupyter-widgets/base",
            "top": null,
            "grid_column": null,
            "overflow_y": null,
            "overflow_x": null,
            "grid_auto_flow": null,
            "grid_area": null,
            "grid_template_columns": null,
            "flex": null,
            "_model_name": "LayoutModel",
            "justify_items": null,
            "grid_row": null,
            "max_height": null,
            "align_content": null,
            "visibility": null,
            "align_self": null,
            "height": null,
            "min_height": null,
            "padding": null,
            "grid_auto_rows": null,
            "grid_gap": null,
            "max_width": null,
            "order": null,
            "_view_module_version": "1.2.0",
            "grid_template_areas": null,
            "object_position": null,
            "object_fit": null,
            "grid_auto_columns": null,
            "margin": null,
            "display": null,
            "left": null
          }
        },
        "baa45c15b34542da98851e9d7e46279b": {
          "model_module": "@jupyter-widgets/controls",
          "model_name": "DescriptionStyleModel",
          "state": {
            "_view_name": "StyleView",
            "_model_name": "DescriptionStyleModel",
            "description_width": "",
            "_view_module": "@jupyter-widgets/base",
            "_model_module_version": "1.5.0",
            "_view_count": null,
            "_view_module_version": "1.2.0",
            "_model_module": "@jupyter-widgets/controls"
          }
        },
        "977ba19d5c814817baace13add4bb4be": {
          "model_module": "@jupyter-widgets/base",
          "model_name": "LayoutModel",
          "state": {
            "_view_name": "LayoutView",
            "grid_template_rows": null,
            "right": null,
            "justify_content": null,
            "_view_module": "@jupyter-widgets/base",
            "overflow": null,
            "_model_module_version": "1.2.0",
            "_view_count": null,
            "flex_flow": null,
            "width": null,
            "min_width": null,
            "border": null,
            "align_items": null,
            "bottom": null,
            "_model_module": "@jupyter-widgets/base",
            "top": null,
            "grid_column": null,
            "overflow_y": null,
            "overflow_x": null,
            "grid_auto_flow": null,
            "grid_area": null,
            "grid_template_columns": null,
            "flex": null,
            "_model_name": "LayoutModel",
            "justify_items": null,
            "grid_row": null,
            "max_height": null,
            "align_content": null,
            "visibility": null,
            "align_self": null,
            "height": null,
            "min_height": null,
            "padding": null,
            "grid_auto_rows": null,
            "grid_gap": null,
            "max_width": null,
            "order": null,
            "_view_module_version": "1.2.0",
            "grid_template_areas": null,
            "object_position": null,
            "object_fit": null,
            "grid_auto_columns": null,
            "margin": null,
            "display": null,
            "left": null
          }
        },
        "780bb6cd88b64464a77f836dc93fa5de": {
          "model_module": "@jupyter-widgets/controls",
          "model_name": "HBoxModel",
          "state": {
            "_view_name": "HBoxView",
            "_dom_classes": [],
            "_model_name": "HBoxModel",
            "_view_module": "@jupyter-widgets/controls",
            "_model_module_version": "1.5.0",
            "_view_count": null,
            "_view_module_version": "1.5.0",
            "box_style": "",
            "layout": "IPY_MODEL_7b4a5a359efa4edda0aeb420a2e75490",
            "_model_module": "@jupyter-widgets/controls",
            "children": [
              "IPY_MODEL_788c1c57d40f4fa0b0c13010692d7cd5",
              "IPY_MODEL_d089a298cc4746d7bf920c937040c6b6"
            ]
          }
        },
        "7b4a5a359efa4edda0aeb420a2e75490": {
          "model_module": "@jupyter-widgets/base",
          "model_name": "LayoutModel",
          "state": {
            "_view_name": "LayoutView",
            "grid_template_rows": null,
            "right": null,
            "justify_content": null,
            "_view_module": "@jupyter-widgets/base",
            "overflow": null,
            "_model_module_version": "1.2.0",
            "_view_count": null,
            "flex_flow": null,
            "width": null,
            "min_width": null,
            "border": null,
            "align_items": null,
            "bottom": null,
            "_model_module": "@jupyter-widgets/base",
            "top": null,
            "grid_column": null,
            "overflow_y": null,
            "overflow_x": null,
            "grid_auto_flow": null,
            "grid_area": null,
            "grid_template_columns": null,
            "flex": null,
            "_model_name": "LayoutModel",
            "justify_items": null,
            "grid_row": null,
            "max_height": null,
            "align_content": null,
            "visibility": null,
            "align_self": null,
            "height": null,
            "min_height": null,
            "padding": null,
            "grid_auto_rows": null,
            "grid_gap": null,
            "max_width": null,
            "order": null,
            "_view_module_version": "1.2.0",
            "grid_template_areas": null,
            "object_position": null,
            "object_fit": null,
            "grid_auto_columns": null,
            "margin": null,
            "display": null,
            "left": null
          }
        },
        "788c1c57d40f4fa0b0c13010692d7cd5": {
          "model_module": "@jupyter-widgets/controls",
          "model_name": "FloatProgressModel",
          "state": {
            "_view_name": "ProgressView",
            "style": "IPY_MODEL_0a1aedf8084540048a96318b48227840",
            "_dom_classes": [],
            "description": "100%",
            "_model_name": "FloatProgressModel",
            "bar_style": "success",
            "max": 3589,
            "_view_module": "@jupyter-widgets/controls",
            "_model_module_version": "1.5.0",
            "value": 3589,
            "_view_count": null,
            "_view_module_version": "1.5.0",
            "orientation": "horizontal",
            "min": 0,
            "description_tooltip": null,
            "_model_module": "@jupyter-widgets/controls",
            "layout": "IPY_MODEL_b643dcbc040c4be691e813fb4781c604"
          }
        },
        "d089a298cc4746d7bf920c937040c6b6": {
          "model_module": "@jupyter-widgets/controls",
          "model_name": "HTMLModel",
          "state": {
            "_view_name": "HTMLView",
            "style": "IPY_MODEL_0039476cbf114711a6a14dd61e8ab8a7",
            "_dom_classes": [],
            "description": "",
            "_model_name": "HTMLModel",
            "placeholder": "​",
            "_view_module": "@jupyter-widgets/controls",
            "_model_module_version": "1.5.0",
            "value": " 3589/3589 [00:00&lt;00:00, 14474.31it/s]",
            "_view_count": null,
            "_view_module_version": "1.5.0",
            "description_tooltip": null,
            "_model_module": "@jupyter-widgets/controls",
            "layout": "IPY_MODEL_f5f73473c4a74a1f822c38db16657a5c"
          }
        },
        "0a1aedf8084540048a96318b48227840": {
          "model_module": "@jupyter-widgets/controls",
          "model_name": "ProgressStyleModel",
          "state": {
            "_view_name": "StyleView",
            "_model_name": "ProgressStyleModel",
            "description_width": "initial",
            "_view_module": "@jupyter-widgets/base",
            "_model_module_version": "1.5.0",
            "_view_count": null,
            "_view_module_version": "1.2.0",
            "bar_color": null,
            "_model_module": "@jupyter-widgets/controls"
          }
        },
        "b643dcbc040c4be691e813fb4781c604": {
          "model_module": "@jupyter-widgets/base",
          "model_name": "LayoutModel",
          "state": {
            "_view_name": "LayoutView",
            "grid_template_rows": null,
            "right": null,
            "justify_content": null,
            "_view_module": "@jupyter-widgets/base",
            "overflow": null,
            "_model_module_version": "1.2.0",
            "_view_count": null,
            "flex_flow": null,
            "width": null,
            "min_width": null,
            "border": null,
            "align_items": null,
            "bottom": null,
            "_model_module": "@jupyter-widgets/base",
            "top": null,
            "grid_column": null,
            "overflow_y": null,
            "overflow_x": null,
            "grid_auto_flow": null,
            "grid_area": null,
            "grid_template_columns": null,
            "flex": null,
            "_model_name": "LayoutModel",
            "justify_items": null,
            "grid_row": null,
            "max_height": null,
            "align_content": null,
            "visibility": null,
            "align_self": null,
            "height": null,
            "min_height": null,
            "padding": null,
            "grid_auto_rows": null,
            "grid_gap": null,
            "max_width": null,
            "order": null,
            "_view_module_version": "1.2.0",
            "grid_template_areas": null,
            "object_position": null,
            "object_fit": null,
            "grid_auto_columns": null,
            "margin": null,
            "display": null,
            "left": null
          }
        },
        "0039476cbf114711a6a14dd61e8ab8a7": {
          "model_module": "@jupyter-widgets/controls",
          "model_name": "DescriptionStyleModel",
          "state": {
            "_view_name": "StyleView",
            "_model_name": "DescriptionStyleModel",
            "description_width": "",
            "_view_module": "@jupyter-widgets/base",
            "_model_module_version": "1.5.0",
            "_view_count": null,
            "_view_module_version": "1.2.0",
            "_model_module": "@jupyter-widgets/controls"
          }
        },
        "f5f73473c4a74a1f822c38db16657a5c": {
          "model_module": "@jupyter-widgets/base",
          "model_name": "LayoutModel",
          "state": {
            "_view_name": "LayoutView",
            "grid_template_rows": null,
            "right": null,
            "justify_content": null,
            "_view_module": "@jupyter-widgets/base",
            "overflow": null,
            "_model_module_version": "1.2.0",
            "_view_count": null,
            "flex_flow": null,
            "width": null,
            "min_width": null,
            "border": null,
            "align_items": null,
            "bottom": null,
            "_model_module": "@jupyter-widgets/base",
            "top": null,
            "grid_column": null,
            "overflow_y": null,
            "overflow_x": null,
            "grid_auto_flow": null,
            "grid_area": null,
            "grid_template_columns": null,
            "flex": null,
            "_model_name": "LayoutModel",
            "justify_items": null,
            "grid_row": null,
            "max_height": null,
            "align_content": null,
            "visibility": null,
            "align_self": null,
            "height": null,
            "min_height": null,
            "padding": null,
            "grid_auto_rows": null,
            "grid_gap": null,
            "max_width": null,
            "order": null,
            "_view_module_version": "1.2.0",
            "grid_template_areas": null,
            "object_position": null,
            "object_fit": null,
            "grid_auto_columns": null,
            "margin": null,
            "display": null,
            "left": null
          }
        }
      }
    }
  },
  "cells": [
    {
      "cell_type": "markdown",
      "metadata": {
        "id": "mnDoSNUFQpjI"
      },
      "source": [
        "# pip install"
      ]
    },
    {
      "cell_type": "code",
      "metadata": {
        "id": "1JN-i942BBfA",
        "colab": {
          "base_uri": "https://localhost:8080/"
        },
        "outputId": "707acb8d-ae51-4282-8130-ad3f1503ddc2"
      },
      "source": [
        "pip install tflearn"
      ],
      "execution_count": 1,
      "outputs": [
        {
          "output_type": "stream",
          "text": [
            "Collecting tflearn\n",
            "\u001b[?25l  Downloading https://files.pythonhosted.org/packages/e7/3c/0b156d08ef3d4e2a8009ecab2af1ad2e304f6fb99562b6271c68a74a4397/tflearn-0.5.0.tar.gz (107kB)\n",
            "\r\u001b[K     |███                             | 10kB 19.8MB/s eta 0:00:01\r\u001b[K     |██████                          | 20kB 14.4MB/s eta 0:00:01\r\u001b[K     |█████████▏                      | 30kB 12.6MB/s eta 0:00:01\r\u001b[K     |████████████▏                   | 40kB 12.0MB/s eta 0:00:01\r\u001b[K     |███████████████▎                | 51kB 13.6MB/s eta 0:00:01\r\u001b[K     |██████████████████▎             | 61kB 11.8MB/s eta 0:00:01\r\u001b[K     |█████████████████████▍          | 71kB 12.1MB/s eta 0:00:01\r\u001b[K     |████████████████████████▍       | 81kB 11.8MB/s eta 0:00:01\r\u001b[K     |███████████████████████████▌    | 92kB 11.5MB/s eta 0:00:01\r\u001b[K     |██████████████████████████████▌ | 102kB 11.4MB/s eta 0:00:01\r\u001b[K     |████████████████████████████████| 112kB 11.4MB/s \n",
            "\u001b[?25hRequirement already satisfied: numpy in /usr/local/lib/python3.7/dist-packages (from tflearn) (1.19.5)\n",
            "Requirement already satisfied: six in /usr/local/lib/python3.7/dist-packages (from tflearn) (1.15.0)\n",
            "Requirement already satisfied: Pillow in /usr/local/lib/python3.7/dist-packages (from tflearn) (7.0.0)\n",
            "Building wheels for collected packages: tflearn\n",
            "  Building wheel for tflearn (setup.py) ... \u001b[?25l\u001b[?25hdone\n",
            "  Created wheel for tflearn: filename=tflearn-0.5.0-cp37-none-any.whl size=127301 sha256=d6f9d9219a166c11de826264f529e1dea708af0986457f45a3187f8dd96a8e8b\n",
            "  Stored in directory: /root/.cache/pip/wheels/31/d2/ed/fb9a0d301dd9586c11e9547120278e624227f22fd5f4baf744\n",
            "Successfully built tflearn\n",
            "Installing collected packages: tflearn\n",
            "Successfully installed tflearn-0.5.0\n"
          ],
          "name": "stdout"
        }
      ]
    },
    {
      "cell_type": "code",
      "metadata": {
        "colab": {
          "base_uri": "https://localhost:8080/"
        },
        "id": "IZCwmRN4LbH8",
        "outputId": "33023710-d834-41e3-d2a3-d9a8734eae4f"
      },
      "source": [
        "ls 'drive/MyDrive/AIHealthcare/facial_expression_recognition_using_cnn/fer2013.csv'"
      ],
      "execution_count": 2,
      "outputs": [
        {
          "output_type": "stream",
          "text": [
            "drive/MyDrive/AIHealthcare/facial_expression_recognition_using_cnn/fer2013.csv\n"
          ],
          "name": "stdout"
        }
      ]
    },
    {
      "cell_type": "markdown",
      "metadata": {
        "id": "l49amPNg0h5F"
      },
      "source": [
        "# Libraries"
      ]
    },
    {
      "cell_type": "code",
      "metadata": {
        "id": "PGcFj4xOKfZQ"
      },
      "source": [
        "import numpy as np\n",
        "import pandas as pd\n",
        "import os\n",
        "import argparse\n",
        "import errno\n",
        "import scipy.misc\n",
        "import dlib\n",
        "import cv2\n",
        "from skimage.feature import hog\n",
        "from tqdm.notebook import tqdm"
      ],
      "execution_count": 3,
      "outputs": []
    },
    {
      "cell_type": "code",
      "metadata": {
        "id": "bhel4xOQQqeD"
      },
      "source": [
        "def get_landmarks(image, rects):\n",
        "    if len(rects) > 1:\n",
        "        raise BaseException(\"TooManyFaces\")\n",
        "    if len(rects) == 0:\n",
        "        raise BaseException(\"NoFaces\")\n",
        "    return np.matrix([[p.x, p.y] for p in predictor(image, rects[0]).parts()])\n",
        "\n",
        "def get_new_label(label, one_hot_encoding=False):\n",
        "    if one_hot_encoding:\n",
        "        new_label = new_labels.index(label)\n",
        "        label = list(np.zeros(len(new_labels), 'uint8'))\n",
        "        label[new_label] = 1\n",
        "        return label\n",
        "    else:\n",
        "        return new_labels.index(label)\n",
        "\n",
        "def sliding_hog_windows(image):\n",
        "    hog_windows = []\n",
        "    for y in range(0, image_height, window_step):\n",
        "        for x in range(0, image_width, window_step):\n",
        "            window = image[y:y+window_size, x:x+window_size]\n",
        "            hog_windows.extend(hog(window, orientations=8, pixels_per_cell=(8, 8),\n",
        "                                            cells_per_block=(1, 1), visualize=False))\n",
        "    return hog_windows"
      ],
      "execution_count": 4,
      "outputs": []
    },
    {
      "cell_type": "markdown",
      "metadata": {
        "id": "GeG72jIiQc_O"
      },
      "source": [
        "# Only GET_LANDMARKS"
      ]
    },
    {
      "cell_type": "code",
      "metadata": {
        "id": "sWBgXaZuKkgo"
      },
      "source": [
        "# initialization\n",
        "image_height = 48\n",
        "image_width = 48\n",
        "window_size = 24\n",
        "window_step = 6\n",
        "\n",
        "ONE_HOT_ENCODING = True\n",
        "SAVE_IMAGES = False\n",
        "GET_LANDMARKS = True\n",
        "GET_HOG_FEATURES = False\n",
        "GET_HOG_WINDOWS_FEATURES = False\n",
        "GET_HOG_IMAGES = False\n",
        "\n",
        "SELECTED_LABELS = []\n",
        "IMAGES_PER_LABEL = 500\n",
        "OUTPUT_FOLDER_NAME = \"Onlylandmark\"\n",
        "expressions = \"0,1,2,3,4,5,6\""
      ],
      "execution_count": 5,
      "outputs": []
    },
    {
      "cell_type": "code",
      "metadata": {
        "colab": {
          "base_uri": "https://localhost:8080/"
        },
        "id": "5QxffAgfLAyY",
        "outputId": "22bbe5c7-3574-4944-e876-3ccb390908ee"
      },
      "source": [
        "if expressions != \"\":\n",
        "    expressions  = expressions.split(\",\")\n",
        "    for i in range(0,len(expressions)):\n",
        "        label = int(expressions[i])\n",
        "        if (label >=0 and label<=6 ):\n",
        "            SELECTED_LABELS.append(label)\n",
        "if SELECTED_LABELS == []:\n",
        "    SELECTED_LABELS = [0,1,2,3,4,5,6]\n",
        "print( str(len(SELECTED_LABELS)) + \" expressions\")"
      ],
      "execution_count": 6,
      "outputs": [
        {
          "output_type": "stream",
          "text": [
            "7 expressions\n"
          ],
          "name": "stdout"
        }
      ]
    },
    {
      "cell_type": "code",
      "metadata": {
        "colab": {
          "base_uri": "https://localhost:8080/"
        },
        "id": "WHaerhiMLONJ",
        "outputId": "dca4e165-c3e5-43dd-a11a-767bd9b50ad8"
      },
      "source": [
        "# loading Dlib predictor and preparing arrays:\n",
        "print( \"preparing\")\n",
        "predictor = dlib.shape_predictor('drive/MyDrive/AIHealthcare/facial_expression_recognition_using_cnn/shape_predictor_68_face_landmarks.dat')\n",
        "original_labels = [0, 1, 2, 3, 4, 5, 6]\n",
        "new_labels = list(set(original_labels) & set(SELECTED_LABELS))\n",
        "nb_images_per_label = list(np.zeros(len(new_labels), 'uint8'))\n",
        "try:\n",
        "    os.makedirs(OUTPUT_FOLDER_NAME)\n",
        "    print(os.makedirs(OUTPUT_FOLDER_NAME))\n",
        "except OSError as e:\n",
        "    if e.errno == errno.EEXIST and os.path.isdir(OUTPUT_FOLDER_NAME):\n",
        "        pass\n",
        "    else:\n",
        "        raise"
      ],
      "execution_count": 7,
      "outputs": [
        {
          "output_type": "stream",
          "text": [
            "preparing\n"
          ],
          "name": "stdout"
        }
      ]
    },
    {
      "cell_type": "code",
      "metadata": {
        "colab": {
          "base_uri": "https://localhost:8080/",
          "height": 295,
          "referenced_widgets": [
            "4ba58bf455df4d90b5587fda709b02e1",
            "1a11ab2705e14ce5a8bbd06a3583aa6f",
            "d8a2b203bd804fd5b19799d1c15c35f5",
            "63e6cfd93073466f8aa89754e792df45",
            "0e806c02d31b48ffbaca6ab1555f1dbc",
            "914614f8d1c947bd965c8fb46b20be4a",
            "f2047a5839794e13973fa4c20618c4aa",
            "f94ce0653e4f42988ecbdf31c6ffabd3",
            "19e346cdebef4f3bb85f9a7c803d618d",
            "78784397ca1e4520befe0baeb8a4546a",
            "eed9eb37273a4a1eb8aaa82c1713bfad",
            "834f7bb0d38741cc877b1674f49df400",
            "225b01e4bf2045c3a1dbc8f422495417",
            "38ebb9b1ae3e4cf48e6ee687a174179e",
            "6a78652b110c48ee907f5bea71a49b77",
            "c839acde32084115a016e31b8d5bc77a",
            "4b6229410e4343e0a1c2223066e50196",
            "d83892088aea419db1db40413f602832",
            "6a3e3e41f26c4be094abb5e47bd10140",
            "6637edd7cba148a58d3ab8426572ea4a",
            "57abf31b7e71401485c1f76e26363bb6",
            "de72868606384c7e97d5954ba97426cc",
            "540be8d8cb4341e3ae80f22dfc14df14",
            "58cff0e2fe644b46b9c098d902f2e243"
          ]
        },
        "id": "7GTtXNeoMF6B",
        "outputId": "7bc4d281-3fa0-4beb-b8ae-3eafc25fedd5"
      },
      "source": [
        "print( \"importing csv file\")\n",
        "data = pd.read_csv('drive/MyDrive/AIHealthcare/facial_expression_recognition_using_cnn/fer2013.csv')\n",
        "for category in data['Usage'].unique():\n",
        "    print( \"converting set: \" + category + \"...\")\n",
        "    # create folder\n",
        "    if not os.path.exists(category):\n",
        "        try:\n",
        "            os.makedirs(OUTPUT_FOLDER_NAME + '/' + category)\n",
        "            print('OK')\n",
        "        except OSError as e:\n",
        "            if e.errno == errno.EEXIST and os.path.isdir(OUTPUT_FOLDER_NAME):\n",
        "               pass\n",
        "            else:\n",
        "                raise\n",
        "\n",
        "    # get samples and labels of the actual category\n",
        "    category_data = data[data['Usage'] == category]\n",
        "    samples = category_data['pixels'].values\n",
        "    labels = category_data['emotion'].values\n",
        "    \n",
        "    # get images and extract features\n",
        "    images = []\n",
        "    labels_list = []\n",
        "    landmarks = []\n",
        "    hog_features = []\n",
        "    hog_images = []\n",
        "    for i in tqdm(range(len(samples))):\n",
        "        try:\n",
        "            if labels[i] in SELECTED_LABELS and nb_images_per_label[get_new_label(labels[i])] < IMAGES_PER_LABEL:\n",
        "                image = np.fromstring(samples[i], dtype=int, sep=\" \").reshape((image_height, image_width))\n",
        "                images.append(image)\n",
        "                if SAVE_IMAGES:\n",
        "                    cv2.imwrite(category + '/' + str(i) + '.jpg', image)\n",
        "                if GET_HOG_WINDOWS_FEATURES:\n",
        "                    features = sliding_hog_windows(image)\n",
        "                    f, hog_image = hog(image, orientations=8, pixels_per_cell=(16, 16),\n",
        "                                            cells_per_block=(1, 1), visualise=True)\n",
        "                    hog_features.append(features)\n",
        "                    if GET_HOG_IMAGES:\n",
        "                        hog_images.append(hog_image)\n",
        "                elif GET_HOG_FEATURES:\n",
        "                    features, hog_image = hog(image, orientations=8, pixels_per_cell=(16, 16),\n",
        "                                            cells_per_block=(1, 1), visualise=True)\n",
        "                    hog_features.append(features)\n",
        "                    if GET_HOG_IMAGES:\n",
        "                        hog_images.append(hog_image)\n",
        "                if GET_LANDMARKS:\n",
        "                    cv2.imwrite('temp.jpg', image)\n",
        "                    image2 = cv2.imread('temp.jpg')\n",
        "                    face_rects = [dlib.rectangle(left=1, top=1, right=47, bottom=47)]\n",
        "                    face_landmarks = get_landmarks(image2, face_rects)\n",
        "                    landmarks.append(face_landmarks)            \n",
        "                labels_list.append(get_new_label(labels[i], one_hot_encoding=ONE_HOT_ENCODING))\n",
        "                nb_images_per_label[get_new_label(labels[i])] += 1\n",
        "        except Exception as e:\n",
        "            print( \"error in image: \" + str(i) + \" - \" + str(e))\n",
        "\n",
        "    np.save(OUTPUT_FOLDER_NAME + '/' + category + '/images.npy', images)\n",
        "    if ONE_HOT_ENCODING:\n",
        "        np.save(OUTPUT_FOLDER_NAME + '/' + category + '/labels.npy', labels_list)\n",
        "    else:\n",
        "        np.save(OUTPUT_FOLDER_NAME + '/' + category + '/labels.npy', labels_list)\n",
        "    if GET_LANDMARKS:\n",
        "        np.save(OUTPUT_FOLDER_NAME + '/' + category + '/landmarks.npy', landmarks)\n",
        "    if GET_HOG_FEATURES or GET_HOG_WINDOWS_FEATURES:\n",
        "        np.save(OUTPUT_FOLDER_NAME + '/' + category + '/hog_features.npy', hog_features)\n",
        "        if GET_HOG_IMAGES:\n",
        "            np.save(OUTPUT_FOLDER_NAME + '/' + category + '/hog_images.npy', hog_images)"
      ],
      "execution_count": 8,
      "outputs": [
        {
          "output_type": "stream",
          "text": [
            "importing csv file\n",
            "converting set: Training...\n",
            "OK\n"
          ],
          "name": "stdout"
        },
        {
          "output_type": "display_data",
          "data": {
            "application/vnd.jupyter.widget-view+json": {
              "model_id": "4ba58bf455df4d90b5587fda709b02e1",
              "version_minor": 0,
              "version_major": 2
            },
            "text/plain": [
              "HBox(children=(FloatProgress(value=0.0, max=28709.0), HTML(value='')))"
            ]
          },
          "metadata": {
            "tags": []
          }
        },
        {
          "output_type": "stream",
          "text": [
            "\n",
            "converting set: PublicTest...\n",
            "OK\n"
          ],
          "name": "stdout"
        },
        {
          "output_type": "display_data",
          "data": {
            "application/vnd.jupyter.widget-view+json": {
              "model_id": "19e346cdebef4f3bb85f9a7c803d618d",
              "version_minor": 0,
              "version_major": 2
            },
            "text/plain": [
              "HBox(children=(FloatProgress(value=0.0, max=3589.0), HTML(value='')))"
            ]
          },
          "metadata": {
            "tags": []
          }
        },
        {
          "output_type": "stream",
          "text": [
            "\n",
            "converting set: PrivateTest...\n",
            "OK\n"
          ],
          "name": "stdout"
        },
        {
          "output_type": "display_data",
          "data": {
            "application/vnd.jupyter.widget-view+json": {
              "model_id": "4b6229410e4343e0a1c2223066e50196",
              "version_minor": 0,
              "version_major": 2
            },
            "text/plain": [
              "HBox(children=(FloatProgress(value=0.0, max=3589.0), HTML(value='')))"
            ]
          },
          "metadata": {
            "tags": []
          }
        },
        {
          "output_type": "stream",
          "text": [
            "\n"
          ],
          "name": "stdout"
        }
      ]
    },
    {
      "cell_type": "markdown",
      "metadata": {
        "id": "Hr_PkSXWQtDX"
      },
      "source": [
        "# LANDMARKS + HOG\n"
      ]
    },
    {
      "cell_type": "code",
      "metadata": {
        "id": "DcrWBoSIQS3n"
      },
      "source": [
        "# initialization\n",
        "image_height = 48\n",
        "image_width = 48\n",
        "window_size = 24\n",
        "window_step = 6\n",
        "\n",
        "ONE_HOT_ENCODING = True\n",
        "SAVE_IMAGES = False\n",
        "GET_LANDMARKS = True\n",
        "GET_HOG_FEATURES = True\n",
        "GET_HOG_WINDOWS_FEATURES = False\n",
        "GET_HOG_IMAGES = False\n",
        "\n",
        "SELECTED_LABELS = []\n",
        "IMAGES_PER_LABEL = 500\n",
        "OUTPUT_FOLDER_NAME = \"LANDMARKS_HOG\"\n",
        "expressions = \"0,1,2,3,4,5,6\""
      ],
      "execution_count": 9,
      "outputs": []
    },
    {
      "cell_type": "code",
      "metadata": {
        "colab": {
          "base_uri": "https://localhost:8080/"
        },
        "id": "cEWzfvJ6QS51",
        "outputId": "683ccf28-db35-449a-a38b-4d0e47d8fdcf"
      },
      "source": [
        "if expressions != \"\":\n",
        "    expressions  = expressions.split(\",\")\n",
        "    for i in range(0,len(expressions)):\n",
        "        label = int(expressions[i])\n",
        "        if (label >=0 and label<=6 ):\n",
        "            SELECTED_LABELS.append(label)\n",
        "if SELECTED_LABELS == []:\n",
        "    SELECTED_LABELS = [0,1,2,3,4,5,6]\n",
        "print( str(len(SELECTED_LABELS)) + \" expressions\")"
      ],
      "execution_count": 10,
      "outputs": [
        {
          "output_type": "stream",
          "text": [
            "7 expressions\n"
          ],
          "name": "stdout"
        }
      ]
    },
    {
      "cell_type": "code",
      "metadata": {
        "colab": {
          "base_uri": "https://localhost:8080/"
        },
        "id": "QikTLLSwQS8P",
        "outputId": "df4eaaa8-09de-4875-a935-7c84bbcdfd65"
      },
      "source": [
        "# loading Dlib predictor and preparing arrays:\n",
        "print( \"preparing\")\n",
        "predictor = dlib.shape_predictor('drive/MyDrive/AIHealthcare/facial_expression_recognition_using_cnn/shape_predictor_68_face_landmarks.dat')\n",
        "original_labels = [0, 1, 2, 3, 4, 5, 6]\n",
        "new_labels = list(set(original_labels) & set(SELECTED_LABELS))\n",
        "nb_images_per_label = list(np.zeros(len(new_labels), 'uint8'))\n",
        "try:\n",
        "    os.makedirs(OUTPUT_FOLDER_NAME)\n",
        "    print(os.makedirs(OUTPUT_FOLDER_NAME))\n",
        "except OSError as e:\n",
        "    if e.errno == errno.EEXIST and os.path.isdir(OUTPUT_FOLDER_NAME):\n",
        "        pass\n",
        "    else:\n",
        "        raise"
      ],
      "execution_count": 11,
      "outputs": [
        {
          "output_type": "stream",
          "text": [
            "preparing\n"
          ],
          "name": "stdout"
        }
      ]
    },
    {
      "cell_type": "code",
      "metadata": {
        "colab": {
          "base_uri": "https://localhost:8080/",
          "height": 295,
          "referenced_widgets": [
            "cb3084ea76c746e6ad222bec265c721d",
            "5c0f0453b51d4daba75699fd2f420426",
            "b3c9caa08a774c6eb084fc72d393b733",
            "86f44f6845784f77acd437e53c66cb67",
            "3e4cecf5ef3048eca55867684572612d",
            "c89527bbf6594af8ac5b80a98030fcb1",
            "4fa51c9ced164fd1bed97bf737b909b8",
            "c7ef6d78fac5405786a2af6aa4a849a4",
            "1f62e9032eb143faaf6458dd6d52bae9",
            "21c2990144df465683654e5b39990337",
            "6bd3d075d00e49d780b8ca90a0189898",
            "51d15d2b165e46a48dc9212d7a454f25",
            "91b397606e994db29aafe2f28ea636a8",
            "879d56c47aa44c9eb7877b19d7236916",
            "2e46a91d14544c42b4e5793dca6a4ec9",
            "8fda9443e5a0404ba0c559597d962e9b",
            "4b3782b83b1f400e895f936846af858a",
            "1a53f77347a6498db6af306c092d8e7d",
            "98fc296f263e4dcfb538f06fd400036c",
            "f73cacb2de684f59bd7423293a5a0349",
            "c34403fb4cb2460a9b641f4ba83fe939",
            "4fc2dc754dd34431bb05e699e3bf37cc",
            "7f4f1ce08b8048949fce132137611487",
            "5a89c67c35e449eb80b07a96c55ccb27"
          ]
        },
        "id": "VS1fJyfnQS-p",
        "outputId": "12b0e055-3eb0-4b51-bad0-b3e5ce81451c"
      },
      "source": [
        "print( \"importing csv file\")\n",
        "data = pd.read_csv('drive/MyDrive/AIHealthcare/facial_expression_recognition_using_cnn/fer2013.csv')\n",
        "for category in data['Usage'].unique():\n",
        "    print( \"converting set: \" + category + \"...\")\n",
        "    # create folder\n",
        "    if not os.path.exists(category):\n",
        "        try:\n",
        "            os.makedirs(OUTPUT_FOLDER_NAME + '/' + category)\n",
        "            print('OK')\n",
        "        except OSError as e:\n",
        "            if e.errno == errno.EEXIST and os.path.isdir(OUTPUT_FOLDER_NAME):\n",
        "               pass\n",
        "            else:\n",
        "                raise\n",
        "\n",
        "    # get samples and labels of the actual category\n",
        "    category_data = data[data['Usage'] == category]\n",
        "    samples = category_data['pixels'].values\n",
        "    labels = category_data['emotion'].values\n",
        "    \n",
        "    # get images and extract features\n",
        "    images = []\n",
        "    labels_list = []\n",
        "    landmarks = []\n",
        "    hog_features = []\n",
        "    hog_images = []\n",
        "    for i in tqdm(range(len(samples))):\n",
        "        try:\n",
        "            if labels[i] in SELECTED_LABELS and nb_images_per_label[get_new_label(labels[i])] < IMAGES_PER_LABEL:\n",
        "                image = np.fromstring(samples[i], dtype=int, sep=\" \").reshape((image_height, image_width))\n",
        "                images.append(image)\n",
        "                if SAVE_IMAGES:\n",
        "                    cv2.imwrite(category + '/' + str(i) + '.jpg', image)\n",
        "                if GET_HOG_WINDOWS_FEATURES:\n",
        "                    features = sliding_hog_windows(image)\n",
        "                    f, hog_image = hog(image, orientations=8, pixels_per_cell=(16, 16),\n",
        "                                            cells_per_block=(1, 1), visualize=True)\n",
        "                    hog_features.append(features)\n",
        "                    if GET_HOG_IMAGES:\n",
        "                        hog_images.append(hog_image)\n",
        "                elif GET_HOG_FEATURES:\n",
        "                    features, hog_image = hog(image, orientations=8, pixels_per_cell=(16, 16),\n",
        "                                            cells_per_block=(1, 1), visualize=True)\n",
        "                    hog_features.append(features)\n",
        "                    if GET_HOG_IMAGES:\n",
        "                        hog_images.append(hog_image)\n",
        "                if GET_LANDMARKS:\n",
        "                    cv2.imwrite('temp.jpg', image)\n",
        "                    image2 = cv2.imread('temp.jpg')\n",
        "                    face_rects = [dlib.rectangle(left=1, top=1, right=47, bottom=47)]\n",
        "                    face_landmarks = get_landmarks(image2, face_rects)\n",
        "                    landmarks.append(face_landmarks)            \n",
        "                labels_list.append(get_new_label(labels[i], one_hot_encoding=ONE_HOT_ENCODING))\n",
        "                nb_images_per_label[get_new_label(labels[i])] += 1\n",
        "        except Exception as e:\n",
        "            print( \"error in image: \" + str(i) + \" - \" + str(e))\n",
        "\n",
        "    np.save(OUTPUT_FOLDER_NAME + '/' + category + '/images.npy', images)\n",
        "    if ONE_HOT_ENCODING:\n",
        "        np.save(OUTPUT_FOLDER_NAME + '/' + category + '/labels.npy', labels_list)\n",
        "    else:\n",
        "        np.save(OUTPUT_FOLDER_NAME + '/' + category + '/labels.npy', labels_list)\n",
        "    if GET_LANDMARKS:\n",
        "        np.save(OUTPUT_FOLDER_NAME + '/' + category + '/landmarks.npy', landmarks)\n",
        "    if GET_HOG_FEATURES or GET_HOG_WINDOWS_FEATURES:\n",
        "        np.save(OUTPUT_FOLDER_NAME + '/' + category + '/hog_features.npy', hog_features)\n",
        "        if GET_HOG_IMAGES:\n",
        "            np.save(OUTPUT_FOLDER_NAME + '/' + category + '/hog_images.npy', hog_images)"
      ],
      "execution_count": 12,
      "outputs": [
        {
          "output_type": "stream",
          "text": [
            "importing csv file\n",
            "converting set: Training...\n",
            "OK\n"
          ],
          "name": "stdout"
        },
        {
          "output_type": "display_data",
          "data": {
            "application/vnd.jupyter.widget-view+json": {
              "model_id": "cb3084ea76c746e6ad222bec265c721d",
              "version_minor": 0,
              "version_major": 2
            },
            "text/plain": [
              "HBox(children=(FloatProgress(value=0.0, max=28709.0), HTML(value='')))"
            ]
          },
          "metadata": {
            "tags": []
          }
        },
        {
          "output_type": "stream",
          "text": [
            "\n",
            "converting set: PublicTest...\n",
            "OK\n"
          ],
          "name": "stdout"
        },
        {
          "output_type": "display_data",
          "data": {
            "application/vnd.jupyter.widget-view+json": {
              "model_id": "1f62e9032eb143faaf6458dd6d52bae9",
              "version_minor": 0,
              "version_major": 2
            },
            "text/plain": [
              "HBox(children=(FloatProgress(value=0.0, max=3589.0), HTML(value='')))"
            ]
          },
          "metadata": {
            "tags": []
          }
        },
        {
          "output_type": "stream",
          "text": [
            "\n",
            "converting set: PrivateTest...\n",
            "OK\n"
          ],
          "name": "stdout"
        },
        {
          "output_type": "display_data",
          "data": {
            "application/vnd.jupyter.widget-view+json": {
              "model_id": "4b3782b83b1f400e895f936846af858a",
              "version_minor": 0,
              "version_major": 2
            },
            "text/plain": [
              "HBox(children=(FloatProgress(value=0.0, max=3589.0), HTML(value='')))"
            ]
          },
          "metadata": {
            "tags": []
          }
        },
        {
          "output_type": "stream",
          "text": [
            "\n"
          ],
          "name": "stdout"
        }
      ]
    },
    {
      "cell_type": "markdown",
      "metadata": {
        "id": "3zd36QhJV2HR"
      },
      "source": [
        "# Face landmarks + HOG + sliding window"
      ]
    },
    {
      "cell_type": "code",
      "metadata": {
        "id": "AcyDf_GsQTA9"
      },
      "source": [
        "# initialization\n",
        "image_height = 48\n",
        "image_width = 48\n",
        "window_size = 24\n",
        "window_step = 6\n",
        "\n",
        "ONE_HOT_ENCODING = True\n",
        "SAVE_IMAGES = False\n",
        "GET_LANDMARKS = True\n",
        "GET_HOG_FEATURES = True\n",
        "GET_HOG_WINDOWS_FEATURES = True\n",
        "GET_HOG_IMAGES = False\n",
        "\n",
        "SELECTED_LABELS = []\n",
        "IMAGES_PER_LABEL = 500\n",
        "OUTPUT_FOLDER_NAME = \"Facelandmarks_HOG_sliding window\"\n",
        "expressions = \"0,1,2,3,4,5,6\""
      ],
      "execution_count": 13,
      "outputs": []
    },
    {
      "cell_type": "code",
      "metadata": {
        "colab": {
          "base_uri": "https://localhost:8080/"
        },
        "id": "gW73Nxx4QTDX",
        "outputId": "850841df-4d5b-4a04-ef73-067d39810dec"
      },
      "source": [
        "if expressions != \"\":\n",
        "    expressions  = expressions.split(\",\")\n",
        "    for i in range(0,len(expressions)):\n",
        "        label = int(expressions[i])\n",
        "        if (label >=0 and label<=6 ):\n",
        "            SELECTED_LABELS.append(label)\n",
        "if SELECTED_LABELS == []:\n",
        "    SELECTED_LABELS = [0,1,2,3,4,5,6]\n",
        "print( str(len(SELECTED_LABELS)) + \" expressions\")"
      ],
      "execution_count": 14,
      "outputs": [
        {
          "output_type": "stream",
          "text": [
            "7 expressions\n"
          ],
          "name": "stdout"
        }
      ]
    },
    {
      "cell_type": "code",
      "metadata": {
        "colab": {
          "base_uri": "https://localhost:8080/"
        },
        "id": "mnWBDO-PQTFw",
        "outputId": "c3780628-eb80-46d6-87ce-662b47941dbe"
      },
      "source": [
        "# loading Dlib predictor and preparing arrays:\n",
        "print( \"preparing\")\n",
        "predictor = dlib.shape_predictor('drive/MyDrive/AIHealthcare/facial_expression_recognition_using_cnn/shape_predictor_68_face_landmarks.dat')\n",
        "original_labels = [0, 1, 2, 3, 4, 5, 6]\n",
        "new_labels = list(set(original_labels) & set(SELECTED_LABELS))\n",
        "nb_images_per_label = list(np.zeros(len(new_labels), 'uint8'))\n",
        "try:\n",
        "    os.makedirs(OUTPUT_FOLDER_NAME)\n",
        "    print(os.makedirs(OUTPUT_FOLDER_NAME))\n",
        "except OSError as e:\n",
        "    if e.errno == errno.EEXIST and os.path.isdir(OUTPUT_FOLDER_NAME):\n",
        "        pass\n",
        "    else:\n",
        "        raise"
      ],
      "execution_count": 15,
      "outputs": [
        {
          "output_type": "stream",
          "text": [
            "preparing\n"
          ],
          "name": "stdout"
        }
      ]
    },
    {
      "cell_type": "code",
      "metadata": {
        "colab": {
          "base_uri": "https://localhost:8080/",
          "height": 295,
          "referenced_widgets": [
            "0595d313610b4770a0d81a5bd1cb618d",
            "a1323d1f89054d55884179489c8ac7c3",
            "080d17fba4ac41b4ae9032f14e561926",
            "10a8572ea4b94f6da8e23d0ae99133cc",
            "fcac76012be64735a38da9c11314f573",
            "3c0230b9296a46e8ae806f4a1eb918a2",
            "cdcf767a9eab4113a111a1f2438b05a0",
            "fc669d176701479ea788d81a9464afe6",
            "81368876bcaf4415a82683da97a0b8e4",
            "d89619d725744357b9be3a9649ab7c48",
            "67953f2d312444c5b919295080b2dae2",
            "1573c2cb071640ccb56b544430c547b6",
            "360113ede9c34c9eb6ea302b41f14441",
            "fbd5b706f5454631a7b96082c9267dbf",
            "baa45c15b34542da98851e9d7e46279b",
            "977ba19d5c814817baace13add4bb4be",
            "780bb6cd88b64464a77f836dc93fa5de",
            "7b4a5a359efa4edda0aeb420a2e75490",
            "788c1c57d40f4fa0b0c13010692d7cd5",
            "d089a298cc4746d7bf920c937040c6b6",
            "0a1aedf8084540048a96318b48227840",
            "b643dcbc040c4be691e813fb4781c604",
            "0039476cbf114711a6a14dd61e8ab8a7",
            "f5f73473c4a74a1f822c38db16657a5c"
          ]
        },
        "id": "wWUQQpB2QTHm",
        "outputId": "0699f279-c2c9-4337-d49b-345183e0ad23"
      },
      "source": [
        "print( \"importing csv file\")\n",
        "data = pd.read_csv('drive/MyDrive/AIHealthcare/facial_expression_recognition_using_cnn/fer2013.csv')\n",
        "for category in data['Usage'].unique():\n",
        "    print( \"converting set: \" + category + \"...\")\n",
        "    # create folder\n",
        "    if not os.path.exists(category):\n",
        "        try:\n",
        "            os.makedirs(OUTPUT_FOLDER_NAME + '/' + category)\n",
        "            print('OK')\n",
        "        except OSError as e:\n",
        "            if e.errno == errno.EEXIST and os.path.isdir(OUTPUT_FOLDER_NAME):\n",
        "               pass\n",
        "            else:\n",
        "                raise\n",
        "\n",
        "    # get samples and labels of the actual category\n",
        "    category_data = data[data['Usage'] == category]\n",
        "    samples = category_data['pixels'].values\n",
        "    labels = category_data['emotion'].values\n",
        "    \n",
        "    # get images and extract features\n",
        "    images = []\n",
        "    labels_list = []\n",
        "    landmarks = []\n",
        "    hog_features = []\n",
        "    hog_images = []\n",
        "    for i in tqdm(range(len(samples))):\n",
        "        try:\n",
        "            if labels[i] in SELECTED_LABELS and nb_images_per_label[get_new_label(labels[i])] < IMAGES_PER_LABEL:\n",
        "                image = np.fromstring(samples[i], dtype=int, sep=\" \").reshape((image_height, image_width))\n",
        "                images.append(image)\n",
        "                if SAVE_IMAGES:\n",
        "                    cv2.imwrite(category + '/' + str(i) + '.jpg', image)\n",
        "                if GET_HOG_WINDOWS_FEATURES:\n",
        "                    features = sliding_hog_windows(image)\n",
        "                    f, hog_image = hog(image, orientations=8, pixels_per_cell=(16, 16),\n",
        "                                            cells_per_block=(1, 1), visualize=True)\n",
        "                    hog_features.append(features)\n",
        "                    if GET_HOG_IMAGES:\n",
        "                        hog_images.append(hog_image)\n",
        "                elif GET_HOG_FEATURES:\n",
        "                    features, hog_image = hog(image, orientations=8, pixels_per_cell=(16, 16),\n",
        "                                            cells_per_block=(1, 1), visualize=True)\n",
        "                    hog_features.append(features)\n",
        "                    if GET_HOG_IMAGES:\n",
        "                        hog_images.append(hog_image)\n",
        "                if GET_LANDMARKS:\n",
        "                    cv2.imwrite('temp.jpg', image)\n",
        "                    image2 = cv2.imread('temp.jpg')\n",
        "                    face_rects = [dlib.rectangle(left=1, top=1, right=47, bottom=47)]\n",
        "                    face_landmarks = get_landmarks(image2, face_rects)\n",
        "                    landmarks.append(face_landmarks)            \n",
        "                labels_list.append(get_new_label(labels[i], one_hot_encoding=ONE_HOT_ENCODING))\n",
        "                nb_images_per_label[get_new_label(labels[i])] += 1\n",
        "        except Exception as e:\n",
        "            print( \"error in image: \" + str(i) + \" - \" + str(e))\n",
        "\n",
        "    np.save(OUTPUT_FOLDER_NAME + '/' + category + '/images.npy', images)\n",
        "    if ONE_HOT_ENCODING:\n",
        "        np.save(OUTPUT_FOLDER_NAME + '/' + category + '/labels.npy', labels_list)\n",
        "    else:\n",
        "        np.save(OUTPUT_FOLDER_NAME + '/' + category + '/labels.npy', labels_list)\n",
        "    if GET_LANDMARKS:\n",
        "        np.save(OUTPUT_FOLDER_NAME + '/' + category + '/landmarks.npy', landmarks)\n",
        "    if GET_HOG_FEATURES or GET_HOG_WINDOWS_FEATURES:\n",
        "        np.save(OUTPUT_FOLDER_NAME + '/' + category + '/hog_features.npy', hog_features)\n",
        "        if GET_HOG_IMAGES:\n",
        "            np.save(OUTPUT_FOLDER_NAME + '/' + category + '/hog_images.npy', hog_images)"
      ],
      "execution_count": 16,
      "outputs": [
        {
          "output_type": "stream",
          "text": [
            "importing csv file\n",
            "converting set: Training...\n",
            "OK\n"
          ],
          "name": "stdout"
        },
        {
          "output_type": "display_data",
          "data": {
            "application/vnd.jupyter.widget-view+json": {
              "model_id": "0595d313610b4770a0d81a5bd1cb618d",
              "version_minor": 0,
              "version_major": 2
            },
            "text/plain": [
              "HBox(children=(FloatProgress(value=0.0, max=28709.0), HTML(value='')))"
            ]
          },
          "metadata": {
            "tags": []
          }
        },
        {
          "output_type": "stream",
          "text": [
            "\n",
            "converting set: PublicTest...\n",
            "OK\n"
          ],
          "name": "stdout"
        },
        {
          "output_type": "display_data",
          "data": {
            "application/vnd.jupyter.widget-view+json": {
              "model_id": "81368876bcaf4415a82683da97a0b8e4",
              "version_minor": 0,
              "version_major": 2
            },
            "text/plain": [
              "HBox(children=(FloatProgress(value=0.0, max=3589.0), HTML(value='')))"
            ]
          },
          "metadata": {
            "tags": []
          }
        },
        {
          "output_type": "stream",
          "text": [
            "\n",
            "converting set: PrivateTest...\n",
            "OK\n"
          ],
          "name": "stdout"
        },
        {
          "output_type": "display_data",
          "data": {
            "application/vnd.jupyter.widget-view+json": {
              "model_id": "780bb6cd88b64464a77f836dc93fa5de",
              "version_minor": 0,
              "version_major": 2
            },
            "text/plain": [
              "HBox(children=(FloatProgress(value=0.0, max=3589.0), HTML(value='')))"
            ]
          },
          "metadata": {
            "tags": []
          }
        },
        {
          "output_type": "stream",
          "text": [
            "\n"
          ],
          "name": "stdout"
        }
      ]
    },
    {
      "cell_type": "markdown",
      "metadata": {
        "id": "V2iOYlv4X9Tt"
      },
      "source": [
        "# Zip"
      ]
    },
    {
      "cell_type": "code",
      "metadata": {
        "colab": {
          "base_uri": "https://localhost:8080/"
        },
        "id": "gdSCKsdJX7cv",
        "outputId": "b354a2f9-4074-4a41-84df-2042a7584760"
      },
      "source": [
        "!zip -r \"/content/Onlylandmark.zip\" \"/content/Onlylandmark\""
      ],
      "execution_count": 17,
      "outputs": [
        {
          "output_type": "stream",
          "text": [
            "  adding: content/Onlylandmark/ (stored 0%)\n",
            "  adding: content/Onlylandmark/Training/ (stored 0%)\n",
            "  adding: content/Onlylandmark/Training/landmarks.npy (deflated 87%)\n",
            "  adding: content/Onlylandmark/Training/images.npy (deflated 82%)\n",
            "  adding: content/Onlylandmark/Training/labels.npy (deflated 98%)\n",
            "  adding: content/Onlylandmark/PublicTest/ (stored 0%)\n",
            "  adding: content/Onlylandmark/PublicTest/landmarks.npy (deflated 87%)\n",
            "  adding: content/Onlylandmark/PublicTest/images.npy (deflated 82%)\n",
            "  adding: content/Onlylandmark/PublicTest/labels.npy (deflated 97%)\n",
            "  adding: content/Onlylandmark/PrivateTest/ (stored 0%)\n",
            "  adding: content/Onlylandmark/PrivateTest/landmarks.npy (deflated 83%)\n",
            "  adding: content/Onlylandmark/PrivateTest/images.npy (deflated 82%)\n",
            "  adding: content/Onlylandmark/PrivateTest/labels.npy (deflated 86%)\n"
          ],
          "name": "stdout"
        }
      ]
    },
    {
      "cell_type": "code",
      "metadata": {
        "colab": {
          "base_uri": "https://localhost:8080/"
        },
        "id": "YCiJHfwpYNxt",
        "outputId": "ea0c6984-64cc-4011-c276-0134f18e1137"
      },
      "source": [
        "!zip -r \"/content/LANDMARKS_HOG.zip\" \"/content/LANDMARKS_HOG\""
      ],
      "execution_count": 18,
      "outputs": [
        {
          "output_type": "stream",
          "text": [
            "  adding: content/LANDMARKS_HOG/ (stored 0%)\n",
            "  adding: content/LANDMARKS_HOG/Training/ (stored 0%)\n",
            "  adding: content/LANDMARKS_HOG/Training/landmarks.npy (deflated 87%)\n",
            "  adding: content/LANDMARKS_HOG/Training/hog_features.npy (deflated 52%)\n",
            "  adding: content/LANDMARKS_HOG/Training/images.npy (deflated 82%)\n",
            "  adding: content/LANDMARKS_HOG/Training/labels.npy (deflated 98%)\n",
            "  adding: content/LANDMARKS_HOG/PublicTest/ (stored 0%)\n",
            "  adding: content/LANDMARKS_HOG/PublicTest/landmarks.npy (deflated 87%)\n",
            "  adding: content/LANDMARKS_HOG/PublicTest/hog_features.npy (deflated 54%)\n",
            "  adding: content/LANDMARKS_HOG/PublicTest/images.npy (deflated 82%)\n",
            "  adding: content/LANDMARKS_HOG/PublicTest/labels.npy (deflated 97%)\n",
            "  adding: content/LANDMARKS_HOG/PrivateTest/ (stored 0%)\n",
            "  adding: content/LANDMARKS_HOG/PrivateTest/landmarks.npy (deflated 83%)\n",
            "  adding: content/LANDMARKS_HOG/PrivateTest/hog_features.npy (deflated 51%)\n",
            "  adding: content/LANDMARKS_HOG/PrivateTest/images.npy (deflated 82%)\n",
            "  adding: content/LANDMARKS_HOG/PrivateTest/labels.npy (deflated 86%)\n"
          ],
          "name": "stdout"
        }
      ]
    },
    {
      "cell_type": "code",
      "metadata": {
        "colab": {
          "base_uri": "https://localhost:8080/"
        },
        "id": "SGUUWZ9GYN39",
        "outputId": "476e957f-9101-41c8-f453-57bccedafa00"
      },
      "source": [
        "!zip -r \"/content/Facelandmarks_HOG_sliding_window.zip\" \"/content/Facelandmarks_HOG_sliding_window\""
      ],
      "execution_count": 19,
      "outputs": [
        {
          "output_type": "stream",
          "text": [
            "  adding: content/Facelandmarks_HOG_sliding_window/ (stored 0%)\n",
            "  adding: content/Facelandmarks_HOG_sliding_window/Training/ (stored 0%)\n",
            "  adding: content/Facelandmarks_HOG_sliding_window/Training/landmarks.npy (deflated 87%)\n",
            "  adding: content/Facelandmarks_HOG_sliding_window/Training/hog_features.npy (deflated 41%)\n",
            "  adding: content/Facelandmarks_HOG_sliding_window/Training/images.npy (deflated 82%)\n",
            "  adding: content/Facelandmarks_HOG_sliding_window/Training/labels.npy (deflated 98%)\n",
            "  adding: content/Facelandmarks_HOG_sliding_window/PublicTest/ (stored 0%)\n",
            "  adding: content/Facelandmarks_HOG_sliding_window/PublicTest/landmarks.npy (deflated 87%)\n",
            "  adding: content/Facelandmarks_HOG_sliding_window/PublicTest/hog_features.npy (deflated 41%)\n",
            "  adding: content/Facelandmarks_HOG_sliding_window/PublicTest/images.npy (deflated 82%)\n",
            "  adding: content/Facelandmarks_HOG_sliding_window/PublicTest/labels.npy (deflated 97%)\n",
            "  adding: content/Facelandmarks_HOG_sliding_window/PrivateTest/ (stored 0%)\n",
            "  adding: content/Facelandmarks_HOG_sliding_window/PrivateTest/landmarks.npy (deflated 83%)\n",
            "  adding: content/Facelandmarks_HOG_sliding_window/PrivateTest/hog_features.npy (deflated 42%)\n",
            "  adding: content/Facelandmarks_HOG_sliding_window/PrivateTest/images.npy (deflated 82%)\n",
            "  adding: content/Facelandmarks_HOG_sliding_window/PrivateTest/labels.npy (deflated 86%)\n"
          ],
          "name": "stdout"
        }
      ]
    }
  ]
}