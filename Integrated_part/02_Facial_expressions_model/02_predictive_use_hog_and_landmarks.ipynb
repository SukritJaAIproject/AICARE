{
  "nbformat": 4,
  "nbformat_minor": 0,
  "metadata": {
    "colab": {
      "name": "02_predictive_use_hog_and_landmarks.ipynb",
      "provenance": [],
      "collapsed_sections": [
        "mnDoSNUFQpjI",
        "xqACiy3muNaw",
        "XVjRI6OmuN5m"
      ]
    },
    "kernelspec": {
      "name": "python3",
      "display_name": "Python 3"
    },
    "accelerator": "GPU"
  },
  "cells": [
    {
      "cell_type": "markdown",
      "metadata": {
        "id": "mnDoSNUFQpjI"
      },
      "source": [
        "# pip install"
      ]
    },
    {
      "cell_type": "code",
      "metadata": {
        "id": "1JN-i942BBfA",
        "colab": {
          "base_uri": "https://localhost:8080/"
        },
        "outputId": "12c0faf7-9993-41fa-e7b6-9e8ef0b8d74f"
      },
      "source": [
        "pip install tflearn"
      ],
      "execution_count": 1,
      "outputs": [
        {
          "output_type": "stream",
          "text": [
            "Collecting tflearn\n",
            "\u001b[?25l  Downloading https://files.pythonhosted.org/packages/e7/3c/0b156d08ef3d4e2a8009ecab2af1ad2e304f6fb99562b6271c68a74a4397/tflearn-0.5.0.tar.gz (107kB)\n",
            "\r\u001b[K     |███                             | 10kB 18.8MB/s eta 0:00:01\r\u001b[K     |██████                          | 20kB 16.3MB/s eta 0:00:01\r\u001b[K     |█████████▏                      | 30kB 10.0MB/s eta 0:00:01\r\u001b[K     |████████████▏                   | 40kB 8.4MB/s eta 0:00:01\r\u001b[K     |███████████████▎                | 51kB 9.5MB/s eta 0:00:01\r\u001b[K     |██████████████████▎             | 61kB 9.5MB/s eta 0:00:01\r\u001b[K     |█████████████████████▍          | 71kB 9.4MB/s eta 0:00:01\r\u001b[K     |████████████████████████▍       | 81kB 9.0MB/s eta 0:00:01\r\u001b[K     |███████████████████████████▌    | 92kB 8.5MB/s eta 0:00:01\r\u001b[K     |██████████████████████████████▌ | 102kB 7.7MB/s eta 0:00:01\r\u001b[K     |████████████████████████████████| 112kB 7.7MB/s \n",
            "\u001b[?25hRequirement already satisfied: numpy in /usr/local/lib/python3.7/dist-packages (from tflearn) (1.19.5)\n",
            "Requirement already satisfied: six in /usr/local/lib/python3.7/dist-packages (from tflearn) (1.15.0)\n",
            "Requirement already satisfied: Pillow in /usr/local/lib/python3.7/dist-packages (from tflearn) (7.0.0)\n",
            "Building wheels for collected packages: tflearn\n",
            "  Building wheel for tflearn (setup.py) ... \u001b[?25l\u001b[?25hdone\n",
            "  Created wheel for tflearn: filename=tflearn-0.5.0-cp37-none-any.whl size=127301 sha256=29c69d678485d72f710fe71c1bdf2d5fe6d28990051e0b8722e5da0a14b39987\n",
            "  Stored in directory: /root/.cache/pip/wheels/31/d2/ed/fb9a0d301dd9586c11e9547120278e624227f22fd5f4baf744\n",
            "Successfully built tflearn\n",
            "Installing collected packages: tflearn\n",
            "Successfully installed tflearn-0.5.0\n"
          ],
          "name": "stdout"
        }
      ]
    },
    {
      "cell_type": "code",
      "metadata": {
        "id": "HrWwy60uuhNE",
        "colab": {
          "base_uri": "https://localhost:8080/"
        },
        "outputId": "77fb627f-8316-459d-dc7b-d98871e71563"
      },
      "source": [
        "import tensorflow as tf\n",
        "from tflearn import DNN\n",
        "import time\n",
        "import numpy as np\n",
        "import argparse\n",
        "import dlib\n",
        "import cv2\n",
        "import os\n",
        "from skimage.feature import hog\n",
        "from numpy import zeros, newaxis\n",
        "from google.colab.patches import cv2_imshow\n",
        "from tflearn.layers.core import input_data, dropout, fully_connected\n",
        "from tflearn.layers.conv import conv_2d, max_pool_2d\n",
        "from tflearn.layers.merge_ops import merge_outputs, merge\n",
        "from tflearn.layers.normalization import local_response_normalization, batch_normalization\n",
        "from tflearn.layers.estimator import regression \n",
        "from tflearn.optimizers import Momentum, Adam\n",
        "from google.colab.patches import cv2_imshow"
      ],
      "execution_count": 2,
      "outputs": [
        {
          "output_type": "stream",
          "text": [
            "WARNING:tensorflow:From /usr/local/lib/python3.7/dist-packages/tensorflow/python/compat/v2_compat.py:96: disable_resource_variables (from tensorflow.python.ops.variable_scope) is deprecated and will be removed in a future version.\n",
            "Instructions for updating:\n",
            "non-resource variables are not supported in the long term\n"
          ],
          "name": "stdout"
        }
      ]
    },
    {
      "cell_type": "code",
      "metadata": {
        "id": "gd8mPT4eumaM"
      },
      "source": [
        "def load_model():\n",
        "    model = None\n",
        "    with tf.Graph().as_default():\n",
        "        print( \"loading pretrained model...\")\n",
        "        network = build_model()\n",
        "        model = DNN(network)\n",
        "        if os.path.isfile(TRAINING.save_model_path):\n",
        "            model.load(TRAINING.save_model_path)\n",
        "        else:\n",
        "            print( \"Error: file '{}' not found\".format(TRAINING.save_model_path))\n",
        "    return model\n",
        "\n",
        "def get_landmarks(image, rects, predictor):\n",
        "    if len(rects) > 1:\n",
        "        raise TooManyFaces\n",
        "    if len(rects) == 0:\n",
        "        raise NoFaces\n",
        "    return np.matrix([[p.x, p.y] for p in predictor(image, rects[0]).parts()])\n",
        "\n",
        "def sliding_hog_windows(image):\n",
        "    hog_windows = []\n",
        "    for y in range(0, NETWORK.input_size, window_step):\n",
        "        for x in range(0, NETWORK.input_size, window_step):\n",
        "            window = image[y:y+window_size, x:x+window_size]\n",
        "            hog_windows.extend(hog(window, orientations=8, pixels_per_cell=(8, 8),\n",
        "                                            cells_per_block=(1, 1), visualize=False))\n",
        "    return hog_windows"
      ],
      "execution_count": 3,
      "outputs": []
    },
    {
      "cell_type": "markdown",
      "metadata": {
        "id": "xqACiy3muNaw"
      },
      "source": [
        "# Parameters"
      ]
    },
    {
      "cell_type": "code",
      "metadata": {
        "colab": {
          "base_uri": "https://localhost:8080/"
        },
        "id": "xQd5pf7oyv9Z",
        "outputId": "f3c7806b-6712-4823-f970-3af03f3c816e"
      },
      "source": [
        "ls 'drive/MyDrive/AIHealthcare/Facial_expressions_model_data/LANDMARKS_HOG'"
      ],
      "execution_count": 6,
      "outputs": [
        {
          "output_type": "stream",
          "text": [
            "\u001b[0m\u001b[01;34mPrivateTest\u001b[0m/  \u001b[01;34mPublicTest\u001b[0m/  \u001b[01;34mTraining\u001b[0m/\n"
          ],
          "name": "stdout"
        }
      ]
    },
    {
      "cell_type": "code",
      "metadata": {
        "colab": {
          "base_uri": "https://localhost:8080/"
        },
        "id": "JTYl4i7k3532",
        "outputId": "a4962322-0666-4c86-8ba2-190bce274c4e"
      },
      "source": [
        "ls 'drive/MyDrive/AIHealthcare/Facial_expressions_model_data/LANDMARKS_HOG_best_model'"
      ],
      "execution_count": 11,
      "outputs": [
        {
          "output_type": "stream",
          "text": [
            "checkpoint       saved_model.bin.data-00000-of-00001\n",
            "saved_model.bin  saved_model.bin.index\n"
          ],
          "name": "stdout"
        }
      ]
    },
    {
      "cell_type": "code",
      "metadata": {
        "id": "WvHwbJtMt9od"
      },
      "source": [
        "class Dataset:\n",
        "    name = 'Fer2013'\n",
        "    train_folder = 'drive/MyDrive/AIHealthcare/Facial_expressions_model_data/LANDMARKS_HOG/Training'\n",
        "    validation_folder = 'drive/MyDrive/AIHealthcare/Facial_expressions_model_data/LANDMARKS_HOG/PublicTest'\n",
        "    test_folder = 'drive/MyDrive/AIHealthcare/Facial_expressions_model_data/LANDMARKS_HOG/PrivateTest'\n",
        "    shape_predictor_path='drive/MyDrive/AIHealthcare/facial_expression_recognition_using_cnn/shape_predictor_68_face_landmarks.dat'\n",
        "    trunc_trainset_to = -1  # put the number of train images to use (-1 = all images of the train set)\n",
        "    trunc_validationset_to = -1\n",
        "    trunc_testset_to = -1\n",
        "\n",
        "class Network:\n",
        "    model = 'B'\n",
        "    input_size = 48\n",
        "    output_size = 7\n",
        "    activation = 'relu'\n",
        "    loss = 'categorical_crossentropy'\n",
        "    use_landmarks = True\n",
        "    use_hog_and_landmarks = True\n",
        "    use_hog_sliding_window_and_landmarks = False\n",
        "    use_batchnorm_after_conv_layers = True\n",
        "    use_batchnorm_after_fully_connected_layers = False\n",
        "\n",
        "class Hyperparams:\n",
        "    keep_prob = 0.956   # dropout = 1 - keep_prob\n",
        "    learning_rate = 0.016\n",
        "    learning_rate_decay = 0.864\n",
        "    decay_step = 50\n",
        "    optimizer = 'momentum'  # {'momentum', 'adam', 'rmsprop', 'adagrad', 'adadelta'}\n",
        "    optimizer_param = 0.95   # momentum value for Momentum optimizer, or beta1 value for Adam\n",
        "\n",
        "class Training:\n",
        "    batch_size = 128\n",
        "    epochs = 13\n",
        "    snapshot_step = 500\n",
        "    vizualize = True\n",
        "    logs_dir = \"logs\"\n",
        "    checkpoint_dir = \"checkpoints/chk\"\n",
        "    best_checkpoint_path = \"checkpoints/best/\"\n",
        "    max_checkpoints = 1\n",
        "    checkpoint_frequency = 1.0 # in hours\n",
        "    save_model = True\n",
        "    save_model_path = \"drive/MyDrive/AIHealthcare/Facial_expressions_model_data/LANDMARKS_HOG_best_model/saved_model.bin\"\n",
        "\n",
        "class VideoPredictor:\n",
        "    emotions = [\"Angry\", \"Disgust\", \"Fear\", \"Happy\", \"Sad\", \"Surprise\", \"Neutral\"]\n",
        "    print_emotions = False\n",
        "    camera_source = 0\n",
        "    face_detection_classifier = \"lbpcascade_frontalface.xml\"\n",
        "    show_confidence = False\n",
        "    time_to_wait_between_predictions = 0.5\n",
        "\n",
        "class OptimizerSearchSpace:\n",
        "    learning_rate = {'min': 0.00001, 'max': 0.1}\n",
        "    learning_rate_decay = {'min': 0.5, 'max': 0.99}\n",
        "    optimizer = ['momentum']   # ['momentum', 'adam', 'rmsprop', 'adagrad', 'adadelta']\n",
        "    optimizer_param = {'min': 0.5, 'max': 0.99}\n",
        "    keep_prob = {'min': 0.7, 'max': 0.99}\n",
        "\n",
        "def make_dir(folder):\n",
        "    if not os.path.exists(folder):\n",
        "        os.makedirs(folder)\n",
        "\n",
        "DATASET = Dataset()\n",
        "NETWORK = Network()\n",
        "TRAINING = Training()\n",
        "HYPERPARAMS = Hyperparams()\n",
        "VIDEO_PREDICTOR = VideoPredictor()\n",
        "OPTIMIZER = OptimizerSearchSpace()\n",
        "\n",
        "make_dir(TRAINING.logs_dir)\n",
        "make_dir(TRAINING.checkpoint_dir)"
      ],
      "execution_count": 12,
      "outputs": []
    },
    {
      "cell_type": "markdown",
      "metadata": {
        "id": "XVjRI6OmuN5m"
      },
      "source": [
        "# Model"
      ]
    },
    {
      "cell_type": "code",
      "metadata": {
        "id": "61p1RyGNuGM9"
      },
      "source": [
        "def build_model(optimizer=HYPERPARAMS.optimizer, optimizer_param=HYPERPARAMS.optimizer_param, \n",
        "    learning_rate=HYPERPARAMS.learning_rate, keep_prob=HYPERPARAMS.keep_prob,\n",
        "    learning_rate_decay=HYPERPARAMS.learning_rate_decay, decay_step=HYPERPARAMS.decay_step):\n",
        "\n",
        "    if NETWORK.model == 'A':\n",
        "        return build_modelA(optimizer, optimizer_param, learning_rate, keep_prob, learning_rate_decay, decay_step)\n",
        "    elif NETWORK.model == 'B':\n",
        "        return build_modelB(optimizer, optimizer_param, learning_rate, keep_prob, learning_rate_decay, decay_step)\n",
        "    else:\n",
        "        print( \"ERROR: no model \" + str(NETWORK.model))\n",
        "        exit()\n",
        "\n",
        "def build_modelB(optimizer=HYPERPARAMS.optimizer, optimizer_param=HYPERPARAMS.optimizer_param, \n",
        "    learning_rate=HYPERPARAMS.learning_rate, keep_prob=HYPERPARAMS.keep_prob,\n",
        "    learning_rate_decay=HYPERPARAMS.learning_rate_decay, decay_step=HYPERPARAMS.decay_step):\n",
        "\n",
        "    images_network = input_data(shape=[None, NETWORK.input_size, NETWORK.input_size, 1], name='input1')\n",
        "    images_network = conv_2d(images_network, 64, 3, activation=NETWORK.activation)\n",
        "    #images_network = local_response_normalization(images_network)\n",
        "    if NETWORK.use_batchnorm_after_conv_layers:\n",
        "        images_network = batch_normalization(images_network)\n",
        "    images_network = max_pool_2d(images_network, 3, strides = 2)\n",
        "    images_network = conv_2d(images_network, 128, 3, activation=NETWORK.activation)\n",
        "    if NETWORK.use_batchnorm_after_conv_layers:\n",
        "        images_network = batch_normalization(images_network)\n",
        "    images_network = max_pool_2d(images_network, 3, strides = 2)\n",
        "    images_network = conv_2d(images_network, 256, 3, activation=NETWORK.activation)\n",
        "    if NETWORK.use_batchnorm_after_conv_layers:\n",
        "        images_network = batch_normalization(images_network)\n",
        "    images_network = max_pool_2d(images_network, 3, strides = 2)\n",
        "    images_network = dropout(images_network, keep_prob=keep_prob)\n",
        "    images_network = fully_connected(images_network, 4096, activation=NETWORK.activation)\n",
        "    images_network = dropout(images_network, keep_prob=keep_prob)\n",
        "    images_network = fully_connected(images_network, 1024, activation=NETWORK.activation)\n",
        "    if NETWORK.use_batchnorm_after_fully_connected_layers:\n",
        "        images_network = batch_normalization(images_network)\n",
        "\n",
        "    if NETWORK.use_landmarks or NETWORK.use_hog_and_landmarks:\n",
        "        if NETWORK.use_hog_sliding_window_and_landmarks:\n",
        "            landmarks_network = input_data(shape=[None, 2728], name='input2')\n",
        "        elif NETWORK.use_hog_and_landmarks:\n",
        "            landmarks_network = input_data(shape=[None, 208], name='input2')\n",
        "        else:\n",
        "            landmarks_network = input_data(shape=[None, 68, 2], name='input2')\n",
        "        landmarks_network = fully_connected(landmarks_network, 1024, activation=NETWORK.activation)\n",
        "        if NETWORK.use_batchnorm_after_fully_connected_layers:\n",
        "            landmarks_network = batch_normalization(landmarks_network)\n",
        "        landmarks_network = fully_connected(landmarks_network, 128, activation=NETWORK.activation)\n",
        "        if NETWORK.use_batchnorm_after_fully_connected_layers:\n",
        "            landmarks_network = batch_normalization(landmarks_network)\n",
        "        images_network = fully_connected(images_network, 128, activation=NETWORK.activation)\n",
        "        network = merge([images_network, landmarks_network], 'concat', axis=1)\n",
        "    else:\n",
        "        network = images_network\n",
        "    network = fully_connected(network, NETWORK.output_size, activation='softmax')\n",
        "\n",
        "    if optimizer == 'momentum':\n",
        "        optimizer = Momentum(learning_rate=learning_rate, momentum=optimizer_param, \n",
        "                    lr_decay=learning_rate_decay, decay_step=decay_step)\n",
        "    elif optimizer == 'adam':\n",
        "        optimizer = Adam(learning_rate=learning_rate, beta1=optimizer_param, beta2=learning_rate_decay)\n",
        "    else:\n",
        "        print( \"Unknown optimizer: {}\".format(optimizer))\n",
        "    network = regression(network, optimizer=optimizer, loss=NETWORK.loss, learning_rate=learning_rate, name='output')\n",
        "\n",
        "    return network\n",
        "\n",
        "def build_modelA(optimizer=HYPERPARAMS.optimizer, optimizer_param=HYPERPARAMS.optimizer_param, \n",
        "    learning_rate=HYPERPARAMS.learning_rate, keep_prob=HYPERPARAMS.keep_prob,\n",
        "    learning_rate_decay=HYPERPARAMS.learning_rate_decay, decay_step=HYPERPARAMS.decay_step):\n",
        "\n",
        "    images_network = input_data(shape=[None, NETWORK.input_size, NETWORK.input_size, 1], name='input1')\n",
        "    images_network = conv_2d(images_network, 64, 5, activation=NETWORK.activation)\n",
        "    #images_network = local_response_normalization(images_network)\n",
        "    if NETWORK.use_batchnorm_after_conv_layers:\n",
        "        images_network = batch_normalization(images_network)\n",
        "    images_network = max_pool_2d(images_network, 3, strides = 2)\n",
        "    images_network = conv_2d(images_network, 64, 5, activation=NETWORK.activation)\n",
        "    if NETWORK.use_batchnorm_after_conv_layers:\n",
        "        images_network = batch_normalization(images_network)\n",
        "    images_network = max_pool_2d(images_network, 3, strides = 2)\n",
        "    images_network = conv_2d(images_network, 128, 4, activation=NETWORK.activation)\n",
        "    if NETWORK.use_batchnorm_after_conv_layers:\n",
        "        images_network = batch_normalization(images_network)\n",
        "    images_network = dropout(images_network, keep_prob=keep_prob)\n",
        "    images_network = fully_connected(images_network, 1024, activation=NETWORK.activation)\n",
        "    if NETWORK.use_batchnorm_after_fully_connected_layers:\n",
        "        images_network = batch_normalization(images_network)\n",
        "\n",
        "    if NETWORK.use_landmarks or NETWORK.use_hog_and_landmarks:\n",
        "        if NETWORK.use_hog_sliding_window_and_landmarks:\n",
        "            landmarks_network = input_data(shape=[None, 2728], name='input2')\n",
        "        elif NETWORK.use_hog_and_landmarks:\n",
        "            landmarks_network = input_data(shape=[None, 208], name='input2')\n",
        "        else:\n",
        "            landmarks_network = input_data(shape=[None, 68, 2], name='input2')\n",
        "        landmarks_network = fully_connected(landmarks_network, 1024, activation=NETWORK.activation)\n",
        "        if NETWORK.use_batchnorm_after_fully_connected_layers:\n",
        "            landmarks_network = batch_normalization(landmarks_network)\n",
        "        landmarks_network = fully_connected(landmarks_network, 40, activation=NETWORK.activation)\n",
        "        if NETWORK.use_batchnorm_after_fully_connected_layers:\n",
        "            landmarks_network = batch_normalization(landmarks_network)\n",
        "        images_network = fully_connected(images_network, 40, activation=NETWORK.activation)\n",
        "        network = merge([images_network, landmarks_network], 'concat', axis=1)\n",
        "    else:\n",
        "        network = images_network\n",
        "    network = fully_connected(network, NETWORK.output_size, activation='softmax')\n",
        "\n",
        "    if optimizer == 'momentum':\n",
        "        optimizer = Momentum(learning_rate=learning_rate, momentum=optimizer_param, \n",
        "                    lr_decay=learning_rate_decay, decay_step=decay_step)\n",
        "    elif optimizer == 'adam':\n",
        "        optimizer = Adam(learning_rate=learning_rate, beta1=optimizer_param, beta2=learning_rate_decay)\n",
        "    else:\n",
        "        print( \"Unknown optimizer: {}\".format(optimizer))\n",
        "    network = regression(network, optimizer=optimizer, loss=NETWORK.loss, learning_rate=learning_rate, name='output')\n",
        "\n",
        "    return network"
      ],
      "execution_count": 13,
      "outputs": []
    },
    {
      "cell_type": "markdown",
      "metadata": {
        "id": "lGF8378XR3D8"
      },
      "source": [
        "# inference"
      ]
    },
    {
      "cell_type": "code",
      "metadata": {
        "id": "zWaMK-5bUzlD",
        "colab": {
          "base_uri": "https://localhost:8080/",
          "height": 446
        },
        "outputId": "f54f5897-21b5-43f4-9b35-66701efdea8e"
      },
      "source": [
        "window_size = 24\n",
        "window_step = 6\n",
        "\n",
        "def predict(image, model, shape_predictor=None):\n",
        "    image = cv2.resize(image,(NETWORK.input_size,NETWORK.input_size))\n",
        "    \n",
        "    # get landmarks\n",
        "    if NETWORK.use_landmarks or NETWORK.use_hog_and_landmarks or NETWORK.use_hog_sliding_window_and_landmarks:\n",
        "        face_rects = [dlib.rectangle(left=0, top=0, right=NETWORK.input_size, bottom=NETWORK.input_size)]\n",
        "        face_landmarks = np.array([get_landmarks(image, face_rects, shape_predictor)])\n",
        "        features = face_landmarks\n",
        "        \n",
        "        if NETWORK.use_hog_sliding_window_and_landmarks: \n",
        "            hog_features = sliding_hog_windows(image)\n",
        "            hog_features = np.asarray(hog_features)\n",
        "            face_landmarks = face_landmarks.flatten()\n",
        "            features = np.concatenate((face_landmarks, hog_features))\n",
        "        elif NETWORK.use_hog_and_landmarks:\n",
        "            hog_features, _ = hog(image, orientations=8, pixels_per_cell=(16, 16),\n",
        "                                    cells_per_block=(1, 1), visualize=True)\n",
        "            hog_features = np.asarray(hog_features)\n",
        "            face_landmarks = face_landmarks.flatten()\n",
        "            features = np.concatenate((face_landmarks, hog_features))\n",
        "\n",
        "\n",
        "        image = image[newaxis,:, : ]\n",
        "        tensor_image = image.reshape([-1, NETWORK.input_size, NETWORK.input_size, 1])\n",
        "\n",
        "        # predicted_label = model.predict([tensor_image, features])\n",
        "        predicted_label = model.predict([tensor_image, features.reshape((1, -1))])\n",
        "        return get_emotion(predicted_label[0])\n",
        "    else:\n",
        "        tensor_image = image.reshape([-1, NETWORK.input_size, NETWORK.input_size, 1])\n",
        "        predicted_label = model.predict(tensor_image)\n",
        "        return get_emotion(predicted_label[0])\n",
        "    return None\n",
        "\n",
        "def get_emotion(label):\n",
        "    if VIDEO_PREDICTOR.print_emotions:\n",
        "        print( \"- Angry: {0:.1f}%\\n- Happy: {1:.1f}%\\n- Sad: {2:.1f}%\\n- Surprise: {3:.1f}%\\n- Neutral: {4:.1f}%\".format(\n",
        "                label[0]*100, label[1]*100, label[2]*100, label[3]*100, label[4]*100))\n",
        "    label = label.tolist()\n",
        "    return VIDEO_PREDICTOR.emotions[label.index(max(label))], max(label)\n",
        "\n",
        "model = load_model()\n",
        "image = cv2.imread('drive/MyDrive/AIHealthcare/facial_expression_recognition_using_cnn/img/sad.png', 0)\n",
        "shape_predictor = dlib.shape_predictor(DATASET.shape_predictor_path)\n",
        "start_time = time.time()\n",
        "emotion, confidence = predict(image, model, shape_predictor)\n",
        "total_time = time.time() - start_time\n",
        "print( \"Prediction: {0} (confidence: {1:.1f}%)\".format(emotion, confidence*100))\n",
        "print( \"time: {0:.1f} sec\".format(total_time))\n",
        "image = cv2.resize(image,(300,300))\n",
        "TEXT_COLOR = (0, 255, 0)\n",
        "text = \"{0} ({1:.1f}%)\".format(emotion, confidence*100)\n",
        "cv2.putText(image, text,(50,30),cv2.FONT_HERSHEY_SIMPLEX, 1, TEXT_COLOR, 1)\n",
        "cv2_imshow(image)"
      ],
      "execution_count": 14,
      "outputs": [
        {
          "output_type": "stream",
          "text": [
            "loading pretrained model...\n",
            "INFO:tensorflow:Restoring parameters from /content/drive/MyDrive/AIHealthcare/Facial_expressions_model_data/LANDMARKS_HOG_best_model/saved_model.bin\n"
          ],
          "name": "stdout"
        },
        {
          "output_type": "stream",
          "text": [
            "/usr/local/lib/python3.7/dist-packages/numpy/core/_asarray.py:83: VisibleDeprecationWarning: Creating an ndarray from ragged nested sequences (which is a list-or-tuple of lists-or-tuples-or ndarrays with different lengths or shapes) is deprecated. If you meant to do this, you must specify 'dtype=object' when creating the ndarray\n",
            "  return array(a, dtype, copy=False, order=order)\n"
          ],
          "name": "stderr"
        },
        {
          "output_type": "stream",
          "text": [
            "Prediction: Surprise (confidence: 62.0%)\n",
            "time: 32.5 sec\n"
          ],
          "name": "stdout"
        },
        {
          "output_type": "display_data",
          "data": {
            "image/png": "[encoded data removed]",
            "text/plain": [
              "<PIL.Image.Image image mode=L size=300x300 at 0x7FCA32070890>"
            ]
          },
          "metadata": {
            "tags": []
          }
        }
      ]
    },
    {
      "cell_type": "code",
      "metadata": {
        "id": "DybnyjsXmDG8"
      },
      "source": [
        "# !python predict-from-video.py"
      ],
      "execution_count": null,
      "outputs": []
    }
  ]
}