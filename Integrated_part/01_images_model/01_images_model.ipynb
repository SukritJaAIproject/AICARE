{
  "nbformat": 4,
  "nbformat_minor": 0,
  "metadata": {
    "colab": {
      "name": "01_images_model.ipynb",
      "provenance": [],
      "collapsed_sections": []
    },
    "kernelspec": {
      "name": "python3",
      "display_name": "Python 3"
    },
    "accelerator": "GPU"
  },
  "cells": [
    {
      "cell_type": "code",
      "metadata": {
        "colab": {
          "base_uri": "https://localhost:8080/"
        },
        "id": "ED6FqLCPX7ow",
        "outputId": "e955dd21-4916-4ead-8a43-44d941161848"
      },
      "source": [
        "ls 'drive/MyDrive/AIHealthcare/fer2013.csv'"
      ],
      "execution_count": 4,
      "outputs": [
        {
          "output_type": "stream",
          "text": [
            "drive/MyDrive/AIHealthcare/fer2013.csv\n"
          ],
          "name": "stdout"
        }
      ]
    },
    {
      "cell_type": "code",
      "metadata": {
        "id": "x2ZVf2DbXnf-"
      },
      "source": [
        "import tensorflow as tf\n",
        "from tensorflow import keras\n",
        "import matplotlib.pyplot as plt\n",
        "import numpy as np\n",
        "import pandas as pd\n",
        "\n",
        "#---------------------------------------------------------------------------------------------------------------------------------\n",
        "def generate_dataset():\n",
        "    \n",
        "    \"\"\"generate dataset from csv\"\"\"\n",
        "    \n",
        "    df = pd.read_csv(\"drive/MyDrive/AIHealthcare/fer2013.csv\")\n",
        "    \n",
        "    train_samples = df[df['Usage']==\"Training\"]\n",
        "    validation_samples = df[df[\"Usage\"]==\"PublicTest\"]\n",
        "    test_samples = df[df[\"Usage\"]==\"PrivateTest\"]\n",
        "    \n",
        "    y_train = train_samples.emotion.astype(np.int32).values\n",
        "    y_valid = validation_samples.emotion.astype(np.int32).values\n",
        "    y_test = test_samples.emotion.astype(np.int32).values\n",
        "     \n",
        "    X_train =np.array([ np.fromstring(image, np.uint8, sep=\" \").reshape((48,48)) for image in train_samples.pixels])\n",
        "    X_valid =np.array([ np.fromstring(image, np.uint8, sep=\" \").reshape((48,48)) for image in validation_samples.pixels])\n",
        "    X_test =np.array([ np.fromstring(image, np.uint8, sep=\" \").reshape((48,48)) for image in test_samples.pixels])\n",
        "    \n",
        "    \n",
        "    return X_train, y_train, X_valid, y_valid, X_test, y_test\n",
        "\n",
        "#---------------------------------------------------------------------------------------------------------------------------------\n",
        "    \n",
        "def generate_model(lr=0.001):\n",
        "    \n",
        "    \"\"\"training model\"\"\"\n",
        "    \n",
        "    with tf.device('/gpu:0'):  \n",
        "        \n",
        "        model = keras.models.Sequential()\n",
        "        \n",
        "        model.add(keras.layers.Conv2D(64,(3,3), input_shape=(48,48, 1), padding=\"same\"))\n",
        "        model.add(keras.layers.BatchNormalization())\n",
        "        model.add(keras.layers.Activation('relu'))\n",
        "        model.add(keras.layers.MaxPooling2D())\n",
        "        model.add(keras.layers.Dropout(0.20))\n",
        "        \n",
        "        model.add(keras.layers.Conv2D(128,(5,5), padding='same'))\n",
        "        model.add(keras.layers.BatchNormalization())\n",
        "        model.add(keras.layers.Activation('relu'))\n",
        "        model.add(keras.layers.MaxPooling2D())\n",
        "        model.add(keras.layers.Dropout(0.20))\n",
        "\n",
        "        model.add(keras.layers.Conv2D(512,(3,3), padding=\"same\"))\n",
        "        model.add(keras.layers.BatchNormalization())\n",
        "        model.add(keras.layers.Activation('relu'))\n",
        "        model.add(keras.layers.MaxPooling2D())\n",
        "        model.add(keras.layers.Dropout(0.20))\n",
        "        \n",
        "        model.add(keras.layers.Conv2D(512,(3,3), padding=\"same\"))\n",
        "        model.add(keras.layers.BatchNormalization())\n",
        "        model.add(keras.layers.Activation('relu'))\n",
        "        model.add(keras.layers.MaxPooling2D())\n",
        "        model.add(keras.layers.Dropout(0.25))\n",
        "        \n",
        "        model.add(keras.layers.Conv2D(256,(3,3), activation='relu', padding=\"same\"))\n",
        "        model.add(keras.layers.Conv2D(128,(3,3), padding='same', activation='relu'))\n",
        "        model.add(keras.layers.MaxPooling2D())\n",
        "        model.add(keras.layers.Dropout(0.25))\n",
        "        \n",
        "        #model.add(keras.layers.GlobalAveragePooling2D())\n",
        "        model.add(keras.layers.Flatten())\n",
        "        model.add(keras.layers.Dense(256))\n",
        "        model.add(keras.layers.BatchNormalization())\n",
        "        model.add(keras.layers.Activation('relu'))\n",
        "        model.add(keras.layers.Dropout(0.5))\n",
        "        \n",
        "        model.add(keras.layers.Dense(512, activation='relu'))\n",
        "        model.add(keras.layers.BatchNormalization())\n",
        "        model.add(keras.layers.Activation('relu'))\n",
        "        model.add(keras.layers.Dropout(0.5))\n",
        "        \n",
        "        model.add(keras.layers.Dense(7,activation='softmax'))\n",
        "        \n",
        "        model.compile(loss=\"sparse_categorical_crossentropy\", optimizer=keras.optimizers.Adam(lr=lr) , metrics=['accuracy'])\n",
        "        return model"
      ],
      "execution_count": 5,
      "outputs": []
    },
    {
      "cell_type": "code",
      "metadata": {
        "id": "Pvsw0LNYXnim",
        "colab": {
          "base_uri": "https://localhost:8080/"
        },
        "outputId": "d94129e2-da58-48fb-90fc-48a4be59eae7"
      },
      "source": [
        "#---------------------------------------------------------------------------------------------------------------------------------\n",
        "        \n",
        "if __name__==\"__main__\":\n",
        "    \n",
        "    #df = pd.read_csv(\"./fer2013/fer2013.csv\")\n",
        "    X_train, y_train, X_valid, y_valid, X_test, y_test =  generate_dataset()\n",
        "    \n",
        "    X_train = X_train.reshape((-1,48,48,1)).astype(np.float32)\n",
        "    X_valid = X_valid.reshape((-1,48,48,1)).astype(np.float32)\n",
        "    X_test = X_test.reshape((-1,48,48,1)).astype(np.float32)\n",
        "    \n",
        "    X_train_std = X_train/255.\n",
        "    X_valid_std = X_valid/255.\n",
        "    X_test_std = X_test/255.\n",
        "    \n",
        "    model = generate_model(0.01)\n",
        "    with tf.device(\"/gpu:0\"):\n",
        "        history = model.fit(X_train_std, y_train,batch_size=128,epochs=35, validation_data=(X_valid_std, y_valid), shuffle=True)"
      ],
      "execution_count": 6,
      "outputs": [
        {
          "output_type": "stream",
          "text": [
            "Epoch 1/35\n",
            "225/225 [==============================] - 47s 57ms/step - loss: 2.2779 - accuracy: 0.2145 - val_loss: 1.8316 - val_accuracy: 0.2469\n",
            "Epoch 2/35\n",
            "225/225 [==============================] - 12s 54ms/step - loss: 1.8713 - accuracy: 0.2333 - val_loss: 1.8508 - val_accuracy: 0.2497\n",
            "Epoch 3/35\n",
            "225/225 [==============================] - 12s 55ms/step - loss: 1.7772 - accuracy: 0.2674 - val_loss: 1.8761 - val_accuracy: 0.1708\n",
            "Epoch 4/35\n",
            "225/225 [==============================] - 12s 55ms/step - loss: 1.6693 - accuracy: 0.3138 - val_loss: 2.2471 - val_accuracy: 0.2494\n",
            "Epoch 5/35\n",
            "225/225 [==============================] - 12s 54ms/step - loss: 1.5452 - accuracy: 0.3782 - val_loss: 1.8016 - val_accuracy: 0.3107\n",
            "Epoch 6/35\n",
            "225/225 [==============================] - 12s 53ms/step - loss: 1.4879 - accuracy: 0.4012 - val_loss: 1.6910 - val_accuracy: 0.3260\n",
            "Epoch 7/35\n",
            "225/225 [==============================] - 12s 53ms/step - loss: 1.4114 - accuracy: 0.4238 - val_loss: 1.5572 - val_accuracy: 0.3427\n",
            "Epoch 8/35\n",
            "225/225 [==============================] - 12s 54ms/step - loss: 1.3531 - accuracy: 0.4418 - val_loss: 1.5048 - val_accuracy: 0.3798\n",
            "Epoch 9/35\n",
            "225/225 [==============================] - 12s 54ms/step - loss: 1.3129 - accuracy: 0.4595 - val_loss: 1.4398 - val_accuracy: 0.4249\n",
            "Epoch 10/35\n",
            "225/225 [==============================] - 12s 54ms/step - loss: 1.2563 - accuracy: 0.5015 - val_loss: 1.3870 - val_accuracy: 0.4558\n",
            "Epoch 11/35\n",
            "225/225 [==============================] - 12s 54ms/step - loss: 1.2232 - accuracy: 0.5357 - val_loss: 1.2370 - val_accuracy: 0.5205\n",
            "Epoch 12/35\n",
            "225/225 [==============================] - 12s 54ms/step - loss: 1.1798 - accuracy: 0.5449 - val_loss: 1.3652 - val_accuracy: 0.5057\n",
            "Epoch 13/35\n",
            "225/225 [==============================] - 12s 53ms/step - loss: 1.1215 - accuracy: 0.5730 - val_loss: 1.2688 - val_accuracy: 0.5110\n",
            "Epoch 14/35\n",
            "225/225 [==============================] - 12s 53ms/step - loss: 1.0868 - accuracy: 0.5876 - val_loss: 1.1988 - val_accuracy: 0.5575\n",
            "Epoch 15/35\n",
            "225/225 [==============================] - 12s 54ms/step - loss: 1.0523 - accuracy: 0.6018 - val_loss: 1.3503 - val_accuracy: 0.4951\n",
            "Epoch 16/35\n",
            "225/225 [==============================] - 12s 53ms/step - loss: 1.0030 - accuracy: 0.6286 - val_loss: 1.2227 - val_accuracy: 0.5517\n",
            "Epoch 17/35\n",
            "225/225 [==============================] - 12s 53ms/step - loss: 0.9546 - accuracy: 0.6486 - val_loss: 1.1685 - val_accuracy: 0.5706\n",
            "Epoch 18/35\n",
            "225/225 [==============================] - 12s 53ms/step - loss: 0.9229 - accuracy: 0.6615 - val_loss: 1.5346 - val_accuracy: 0.4773\n",
            "Epoch 19/35\n",
            "225/225 [==============================] - 12s 53ms/step - loss: 0.8738 - accuracy: 0.6861 - val_loss: 1.4631 - val_accuracy: 0.4765\n",
            "Epoch 20/35\n",
            "225/225 [==============================] - 12s 53ms/step - loss: 0.8378 - accuracy: 0.7004 - val_loss: 1.2586 - val_accuracy: 0.5528\n",
            "Epoch 21/35\n",
            "225/225 [==============================] - 12s 53ms/step - loss: 0.7960 - accuracy: 0.7143 - val_loss: 1.1367 - val_accuracy: 0.5938\n",
            "Epoch 22/35\n",
            "225/225 [==============================] - 12s 53ms/step - loss: 0.7580 - accuracy: 0.7341 - val_loss: 1.3542 - val_accuracy: 0.5492\n",
            "Epoch 23/35\n",
            "225/225 [==============================] - 12s 53ms/step - loss: 0.7201 - accuracy: 0.7444 - val_loss: 1.2081 - val_accuracy: 0.5932\n",
            "Epoch 24/35\n",
            "225/225 [==============================] - 12s 53ms/step - loss: 0.6802 - accuracy: 0.7615 - val_loss: 1.2342 - val_accuracy: 0.5740\n",
            "Epoch 25/35\n",
            "225/225 [==============================] - 12s 53ms/step - loss: 0.6370 - accuracy: 0.7774 - val_loss: 1.3492 - val_accuracy: 0.5439\n",
            "Epoch 26/35\n",
            "225/225 [==============================] - 12s 54ms/step - loss: 0.6086 - accuracy: 0.7931 - val_loss: 1.4481 - val_accuracy: 0.5514\n",
            "Epoch 27/35\n",
            "225/225 [==============================] - 12s 54ms/step - loss: 0.5598 - accuracy: 0.8082 - val_loss: 1.2595 - val_accuracy: 0.6052\n",
            "Epoch 28/35\n",
            "225/225 [==============================] - 12s 54ms/step - loss: 0.5472 - accuracy: 0.8134 - val_loss: 1.4424 - val_accuracy: 0.5244\n",
            "Epoch 29/35\n",
            "225/225 [==============================] - 12s 53ms/step - loss: 0.5112 - accuracy: 0.8247 - val_loss: 1.3988 - val_accuracy: 0.5965\n",
            "Epoch 30/35\n",
            "225/225 [==============================] - 12s 53ms/step - loss: 0.4831 - accuracy: 0.8356 - val_loss: 1.5288 - val_accuracy: 0.5907\n",
            "Epoch 31/35\n",
            "225/225 [==============================] - 12s 53ms/step - loss: 0.4549 - accuracy: 0.8452 - val_loss: 1.5239 - val_accuracy: 0.6004\n",
            "Epoch 32/35\n",
            "225/225 [==============================] - 12s 54ms/step - loss: 0.4426 - accuracy: 0.8556 - val_loss: 1.5048 - val_accuracy: 0.5913\n",
            "Epoch 33/35\n",
            "225/225 [==============================] - 12s 53ms/step - loss: 0.4163 - accuracy: 0.8636 - val_loss: 1.4193 - val_accuracy: 0.5968\n",
            "Epoch 34/35\n",
            "225/225 [==============================] - 12s 54ms/step - loss: 0.3867 - accuracy: 0.8726 - val_loss: 1.4541 - val_accuracy: 0.5871\n",
            "Epoch 35/35\n",
            "225/225 [==============================] - 12s 53ms/step - loss: 0.3710 - accuracy: 0.8771 - val_loss: 1.5195 - val_accuracy: 0.5762\n"
          ],
          "name": "stdout"
        }
      ]
    },
    {
      "cell_type": "code",
      "metadata": {
        "id": "tKfUkiiDcjj7"
      },
      "source": [
        "X_test_std[0,:,:,:].reshape([1,48,48,1]).shape"
      ],
      "execution_count": null,
      "outputs": []
    },
    {
      "cell_type": "code",
      "metadata": {
        "id": "zkdajeZxXnla"
      },
      "source": [
        "model.predict(X_test_std[0,:,:,:].reshape([1,48,48,1]))"
      ],
      "execution_count": null,
      "outputs": []
    },
    {
      "cell_type": "code",
      "metadata": {
        "id": "ZEmLfcdi7srU"
      },
      "source": [
        ""
      ],
      "execution_count": null,
      "outputs": []
    }
  ]
}